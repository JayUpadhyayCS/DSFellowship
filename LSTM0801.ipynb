{
 "cells": [
  {
   "cell_type": "code",
   "execution_count": 10,
   "metadata": {},
   "outputs": [
    {
     "name": "stdout",
     "output_type": "stream",
     "text": [
      "Tensorflow/Keras: 2.9.0\n",
      "pandas: 1.4.2\n",
      "numpy: 1.22.4\n",
      "sklearn: 1.1.1\n",
      "plotly: 5.9.0\n"
     ]
    }
   ],
   "source": [
    "# Tensorflow / Keras\n",
    "from tensorflow import keras # for building Neural Networks\n",
    "print('Tensorflow/Keras: %s' % keras.__version__) # print version\n",
    "from keras.models import Sequential # for creating a linear stack of layers for our Neural Network\n",
    "from keras import Input # for instantiating a keras tensor\n",
    "from keras.layers import Masking,Bidirectional, LSTM, RepeatVector, Dense, TimeDistributed # for creating layers inside the Neural Network\n",
    "from keras.optimizers import Adam\n",
    "from keras.preprocessing.sequence import TimeseriesGenerator\n",
    "# Data manipulation\n",
    "import pandas as pd # for data manipulation\n",
    "print('pandas: %s' % pd.__version__) # print version\n",
    "import numpy as np # for data manipulation\n",
    "print('numpy: %s' % np.__version__) # print version\n",
    "\n",
    "# Sklearn\n",
    "import sklearn\n",
    "print('sklearn: %s' % sklearn.__version__) # print version\n",
    "from sklearn.preprocessing import MinMaxScaler # for feature scaling\n",
    "\n",
    "# Visualization\n",
    "import plotly \n",
    "import plotly.express as px\n",
    "import plotly.graph_objects as go\n",
    "print('plotly: %s' % plotly.__version__) # print version\n",
    "\n",
    "#file accessing\n",
    "import os\n",
    "# time stuff\n",
    "from datetime import timedelta\n",
    "import calendar\n"
   ]
  },
  {
   "cell_type": "code",
   "execution_count": 11,
   "metadata": {},
   "outputs": [],
   "source": [
    "df=pd.read_csv('InSAR_data_south/displacement/export_dataframe1.csv')\n",
    "df=df.set_index([df.columns[0],df.columns[1]])\n",
    "df.columns=pd.to_datetime(df.columns, format='%Y%m%d')"
   ]
  },
  {
   "cell_type": "code",
   "execution_count": 12,
   "metadata": {},
   "outputs": [
    {
     "data": {
      "text/html": [
       "<div>\n",
       "<style scoped>\n",
       "    .dataframe tbody tr th:only-of-type {\n",
       "        vertical-align: middle;\n",
       "    }\n",
       "\n",
       "    .dataframe tbody tr th {\n",
       "        vertical-align: top;\n",
       "    }\n",
       "\n",
       "    .dataframe thead th {\n",
       "        text-align: right;\n",
       "    }\n",
       "</style>\n",
       "<table border=\"1\" class=\"dataframe\">\n",
       "  <thead>\n",
       "    <tr style=\"text-align: right;\">\n",
       "      <th></th>\n",
       "      <th></th>\n",
       "      <th>2014-11-08</th>\n",
       "      <th>2014-12-02</th>\n",
       "      <th>2014-12-26</th>\n",
       "      <th>2015-02-12</th>\n",
       "      <th>2015-03-08</th>\n",
       "      <th>2015-04-01</th>\n",
       "      <th>2015-04-25</th>\n",
       "      <th>2015-05-19</th>\n",
       "      <th>2015-06-12</th>\n",
       "      <th>2015-07-06</th>\n",
       "      <th>...</th>\n",
       "      <th>2018-10-18</th>\n",
       "      <th>2018-10-30</th>\n",
       "      <th>2018-11-11</th>\n",
       "      <th>2018-11-17</th>\n",
       "      <th>2018-11-23</th>\n",
       "      <th>2018-12-05</th>\n",
       "      <th>2018-12-17</th>\n",
       "      <th>2018-12-29</th>\n",
       "      <th>2019-01-10</th>\n",
       "      <th>2019-01-22</th>\n",
       "    </tr>\n",
       "    <tr>\n",
       "      <th>Longitude</th>\n",
       "      <th>Latitude</th>\n",
       "      <th></th>\n",
       "      <th></th>\n",
       "      <th></th>\n",
       "      <th></th>\n",
       "      <th></th>\n",
       "      <th></th>\n",
       "      <th></th>\n",
       "      <th></th>\n",
       "      <th></th>\n",
       "      <th></th>\n",
       "      <th></th>\n",
       "      <th></th>\n",
       "      <th></th>\n",
       "      <th></th>\n",
       "      <th></th>\n",
       "      <th></th>\n",
       "      <th></th>\n",
       "      <th></th>\n",
       "      <th></th>\n",
       "      <th></th>\n",
       "      <th></th>\n",
       "    </tr>\n",
       "  </thead>\n",
       "  <tbody>\n",
       "    <tr>\n",
       "      <th rowspan=\"5\" valign=\"top\">-120.9486</th>\n",
       "      <th>34.1347</th>\n",
       "      <td>NaN</td>\n",
       "      <td>NaN</td>\n",
       "      <td>NaN</td>\n",
       "      <td>NaN</td>\n",
       "      <td>NaN</td>\n",
       "      <td>NaN</td>\n",
       "      <td>NaN</td>\n",
       "      <td>NaN</td>\n",
       "      <td>NaN</td>\n",
       "      <td>NaN</td>\n",
       "      <td>...</td>\n",
       "      <td>NaN</td>\n",
       "      <td>NaN</td>\n",
       "      <td>NaN</td>\n",
       "      <td>NaN</td>\n",
       "      <td>NaN</td>\n",
       "      <td>NaN</td>\n",
       "      <td>NaN</td>\n",
       "      <td>NaN</td>\n",
       "      <td>NaN</td>\n",
       "      <td>NaN</td>\n",
       "    </tr>\n",
       "    <tr>\n",
       "      <th>34.1367</th>\n",
       "      <td>NaN</td>\n",
       "      <td>NaN</td>\n",
       "      <td>NaN</td>\n",
       "      <td>NaN</td>\n",
       "      <td>NaN</td>\n",
       "      <td>NaN</td>\n",
       "      <td>NaN</td>\n",
       "      <td>NaN</td>\n",
       "      <td>NaN</td>\n",
       "      <td>NaN</td>\n",
       "      <td>...</td>\n",
       "      <td>NaN</td>\n",
       "      <td>NaN</td>\n",
       "      <td>NaN</td>\n",
       "      <td>NaN</td>\n",
       "      <td>NaN</td>\n",
       "      <td>NaN</td>\n",
       "      <td>NaN</td>\n",
       "      <td>NaN</td>\n",
       "      <td>NaN</td>\n",
       "      <td>NaN</td>\n",
       "    </tr>\n",
       "    <tr>\n",
       "      <th>34.1387</th>\n",
       "      <td>NaN</td>\n",
       "      <td>NaN</td>\n",
       "      <td>NaN</td>\n",
       "      <td>NaN</td>\n",
       "      <td>NaN</td>\n",
       "      <td>NaN</td>\n",
       "      <td>NaN</td>\n",
       "      <td>NaN</td>\n",
       "      <td>NaN</td>\n",
       "      <td>NaN</td>\n",
       "      <td>...</td>\n",
       "      <td>NaN</td>\n",
       "      <td>NaN</td>\n",
       "      <td>NaN</td>\n",
       "      <td>NaN</td>\n",
       "      <td>NaN</td>\n",
       "      <td>NaN</td>\n",
       "      <td>NaN</td>\n",
       "      <td>NaN</td>\n",
       "      <td>NaN</td>\n",
       "      <td>NaN</td>\n",
       "    </tr>\n",
       "    <tr>\n",
       "      <th>34.1407</th>\n",
       "      <td>NaN</td>\n",
       "      <td>NaN</td>\n",
       "      <td>NaN</td>\n",
       "      <td>NaN</td>\n",
       "      <td>NaN</td>\n",
       "      <td>NaN</td>\n",
       "      <td>NaN</td>\n",
       "      <td>NaN</td>\n",
       "      <td>NaN</td>\n",
       "      <td>NaN</td>\n",
       "      <td>...</td>\n",
       "      <td>NaN</td>\n",
       "      <td>NaN</td>\n",
       "      <td>NaN</td>\n",
       "      <td>NaN</td>\n",
       "      <td>NaN</td>\n",
       "      <td>NaN</td>\n",
       "      <td>NaN</td>\n",
       "      <td>NaN</td>\n",
       "      <td>NaN</td>\n",
       "      <td>NaN</td>\n",
       "    </tr>\n",
       "    <tr>\n",
       "      <th>34.1427</th>\n",
       "      <td>NaN</td>\n",
       "      <td>NaN</td>\n",
       "      <td>NaN</td>\n",
       "      <td>NaN</td>\n",
       "      <td>NaN</td>\n",
       "      <td>NaN</td>\n",
       "      <td>NaN</td>\n",
       "      <td>NaN</td>\n",
       "      <td>NaN</td>\n",
       "      <td>NaN</td>\n",
       "      <td>...</td>\n",
       "      <td>NaN</td>\n",
       "      <td>NaN</td>\n",
       "      <td>NaN</td>\n",
       "      <td>NaN</td>\n",
       "      <td>NaN</td>\n",
       "      <td>NaN</td>\n",
       "      <td>NaN</td>\n",
       "      <td>NaN</td>\n",
       "      <td>NaN</td>\n",
       "      <td>NaN</td>\n",
       "    </tr>\n",
       "    <tr>\n",
       "      <th>...</th>\n",
       "      <th>...</th>\n",
       "      <td>...</td>\n",
       "      <td>...</td>\n",
       "      <td>...</td>\n",
       "      <td>...</td>\n",
       "      <td>...</td>\n",
       "      <td>...</td>\n",
       "      <td>...</td>\n",
       "      <td>...</td>\n",
       "      <td>...</td>\n",
       "      <td>...</td>\n",
       "      <td>...</td>\n",
       "      <td>...</td>\n",
       "      <td>...</td>\n",
       "      <td>...</td>\n",
       "      <td>...</td>\n",
       "      <td>...</td>\n",
       "      <td>...</td>\n",
       "      <td>...</td>\n",
       "      <td>...</td>\n",
       "      <td>...</td>\n",
       "      <td>...</td>\n",
       "    </tr>\n",
       "    <tr>\n",
       "      <th rowspan=\"5\" valign=\"top\">-117.6414</th>\n",
       "      <th>37.6236</th>\n",
       "      <td>0.0</td>\n",
       "      <td>4.8278</td>\n",
       "      <td>-1.3065</td>\n",
       "      <td>NaN</td>\n",
       "      <td>-4.1515</td>\n",
       "      <td>-1.9999</td>\n",
       "      <td>9.9914</td>\n",
       "      <td>-3.1055</td>\n",
       "      <td>-0.32799</td>\n",
       "      <td>6.9899</td>\n",
       "      <td>...</td>\n",
       "      <td>8.5800</td>\n",
       "      <td>11.341</td>\n",
       "      <td>5.5704</td>\n",
       "      <td>7.6113</td>\n",
       "      <td>17.002</td>\n",
       "      <td>9.6014</td>\n",
       "      <td>16.436</td>\n",
       "      <td>8.5234</td>\n",
       "      <td>11.904</td>\n",
       "      <td>8.8353</td>\n",
       "    </tr>\n",
       "    <tr>\n",
       "      <th>37.6256</th>\n",
       "      <td>0.0</td>\n",
       "      <td>4.8698</td>\n",
       "      <td>-1.2137</td>\n",
       "      <td>NaN</td>\n",
       "      <td>-4.1588</td>\n",
       "      <td>-1.7372</td>\n",
       "      <td>10.4130</td>\n",
       "      <td>-2.9584</td>\n",
       "      <td>-0.33838</td>\n",
       "      <td>7.3402</td>\n",
       "      <td>...</td>\n",
       "      <td>9.2515</td>\n",
       "      <td>11.996</td>\n",
       "      <td>6.0621</td>\n",
       "      <td>8.2387</td>\n",
       "      <td>17.526</td>\n",
       "      <td>9.5942</td>\n",
       "      <td>16.724</td>\n",
       "      <td>8.2348</td>\n",
       "      <td>11.630</td>\n",
       "      <td>8.3278</td>\n",
       "    </tr>\n",
       "    <tr>\n",
       "      <th>37.6276</th>\n",
       "      <td>0.0</td>\n",
       "      <td>4.8693</td>\n",
       "      <td>-1.1893</td>\n",
       "      <td>NaN</td>\n",
       "      <td>-4.1632</td>\n",
       "      <td>-1.7107</td>\n",
       "      <td>10.4830</td>\n",
       "      <td>-2.9318</td>\n",
       "      <td>-0.34454</td>\n",
       "      <td>7.3978</td>\n",
       "      <td>...</td>\n",
       "      <td>8.8321</td>\n",
       "      <td>11.570</td>\n",
       "      <td>5.5897</td>\n",
       "      <td>7.8226</td>\n",
       "      <td>17.066</td>\n",
       "      <td>9.2927</td>\n",
       "      <td>16.641</td>\n",
       "      <td>8.2757</td>\n",
       "      <td>11.790</td>\n",
       "      <td>8.3947</td>\n",
       "    </tr>\n",
       "    <tr>\n",
       "      <th>37.6296</th>\n",
       "      <td>0.0</td>\n",
       "      <td>4.8277</td>\n",
       "      <td>-1.1906</td>\n",
       "      <td>NaN</td>\n",
       "      <td>-4.1240</td>\n",
       "      <td>-1.8949</td>\n",
       "      <td>10.1870</td>\n",
       "      <td>-3.0179</td>\n",
       "      <td>-0.31614</td>\n",
       "      <td>7.1245</td>\n",
       "      <td>...</td>\n",
       "      <td>10.3320</td>\n",
       "      <td>13.073</td>\n",
       "      <td>7.2137</td>\n",
       "      <td>9.3699</td>\n",
       "      <td>18.582</td>\n",
       "      <td>10.8610</td>\n",
       "      <td>17.917</td>\n",
       "      <td>9.8912</td>\n",
       "      <td>13.381</td>\n",
       "      <td>10.2190</td>\n",
       "    </tr>\n",
       "    <tr>\n",
       "      <th>37.6316</th>\n",
       "      <td>0.0</td>\n",
       "      <td>4.8729</td>\n",
       "      <td>-1.1200</td>\n",
       "      <td>NaN</td>\n",
       "      <td>-4.1457</td>\n",
       "      <td>-1.7033</td>\n",
       "      <td>10.5180</td>\n",
       "      <td>-2.9269</td>\n",
       "      <td>-0.33153</td>\n",
       "      <td>7.3839</td>\n",
       "      <td>...</td>\n",
       "      <td>9.3376</td>\n",
       "      <td>12.053</td>\n",
       "      <td>6.0863</td>\n",
       "      <td>8.3323</td>\n",
       "      <td>17.499</td>\n",
       "      <td>9.8190</td>\n",
       "      <td>16.839</td>\n",
       "      <td>8.8137</td>\n",
       "      <td>12.215</td>\n",
       "      <td>8.8725</td>\n",
       "    </tr>\n",
       "  </tbody>\n",
       "</table>\n",
       "<p>2894595 rows × 110 columns</p>\n",
       "</div>"
      ],
      "text/plain": [
       "                    2014-11-08  2014-12-02  2014-12-26  2015-02-12  \\\n",
       "Longitude Latitude                                                   \n",
       "-120.9486 34.1347          NaN         NaN         NaN         NaN   \n",
       "          34.1367          NaN         NaN         NaN         NaN   \n",
       "          34.1387          NaN         NaN         NaN         NaN   \n",
       "          34.1407          NaN         NaN         NaN         NaN   \n",
       "          34.1427          NaN         NaN         NaN         NaN   \n",
       "...                        ...         ...         ...         ...   \n",
       "-117.6414 37.6236          0.0      4.8278     -1.3065         NaN   \n",
       "          37.6256          0.0      4.8698     -1.2137         NaN   \n",
       "          37.6276          0.0      4.8693     -1.1893         NaN   \n",
       "          37.6296          0.0      4.8277     -1.1906         NaN   \n",
       "          37.6316          0.0      4.8729     -1.1200         NaN   \n",
       "\n",
       "                    2015-03-08  2015-04-01  2015-04-25  2015-05-19  \\\n",
       "Longitude Latitude                                                   \n",
       "-120.9486 34.1347          NaN         NaN         NaN         NaN   \n",
       "          34.1367          NaN         NaN         NaN         NaN   \n",
       "          34.1387          NaN         NaN         NaN         NaN   \n",
       "          34.1407          NaN         NaN         NaN         NaN   \n",
       "          34.1427          NaN         NaN         NaN         NaN   \n",
       "...                        ...         ...         ...         ...   \n",
       "-117.6414 37.6236      -4.1515     -1.9999      9.9914     -3.1055   \n",
       "          37.6256      -4.1588     -1.7372     10.4130     -2.9584   \n",
       "          37.6276      -4.1632     -1.7107     10.4830     -2.9318   \n",
       "          37.6296      -4.1240     -1.8949     10.1870     -3.0179   \n",
       "          37.6316      -4.1457     -1.7033     10.5180     -2.9269   \n",
       "\n",
       "                    2015-06-12  2015-07-06  ...  2018-10-18  2018-10-30  \\\n",
       "Longitude Latitude                          ...                           \n",
       "-120.9486 34.1347          NaN         NaN  ...         NaN         NaN   \n",
       "          34.1367          NaN         NaN  ...         NaN         NaN   \n",
       "          34.1387          NaN         NaN  ...         NaN         NaN   \n",
       "          34.1407          NaN         NaN  ...         NaN         NaN   \n",
       "          34.1427          NaN         NaN  ...         NaN         NaN   \n",
       "...                        ...         ...  ...         ...         ...   \n",
       "-117.6414 37.6236     -0.32799      6.9899  ...      8.5800      11.341   \n",
       "          37.6256     -0.33838      7.3402  ...      9.2515      11.996   \n",
       "          37.6276     -0.34454      7.3978  ...      8.8321      11.570   \n",
       "          37.6296     -0.31614      7.1245  ...     10.3320      13.073   \n",
       "          37.6316     -0.33153      7.3839  ...      9.3376      12.053   \n",
       "\n",
       "                    2018-11-11  2018-11-17  2018-11-23  2018-12-05  \\\n",
       "Longitude Latitude                                                   \n",
       "-120.9486 34.1347          NaN         NaN         NaN         NaN   \n",
       "          34.1367          NaN         NaN         NaN         NaN   \n",
       "          34.1387          NaN         NaN         NaN         NaN   \n",
       "          34.1407          NaN         NaN         NaN         NaN   \n",
       "          34.1427          NaN         NaN         NaN         NaN   \n",
       "...                        ...         ...         ...         ...   \n",
       "-117.6414 37.6236       5.5704      7.6113      17.002      9.6014   \n",
       "          37.6256       6.0621      8.2387      17.526      9.5942   \n",
       "          37.6276       5.5897      7.8226      17.066      9.2927   \n",
       "          37.6296       7.2137      9.3699      18.582     10.8610   \n",
       "          37.6316       6.0863      8.3323      17.499      9.8190   \n",
       "\n",
       "                    2018-12-17  2018-12-29  2019-01-10  2019-01-22  \n",
       "Longitude Latitude                                                  \n",
       "-120.9486 34.1347          NaN         NaN         NaN         NaN  \n",
       "          34.1367          NaN         NaN         NaN         NaN  \n",
       "          34.1387          NaN         NaN         NaN         NaN  \n",
       "          34.1407          NaN         NaN         NaN         NaN  \n",
       "          34.1427          NaN         NaN         NaN         NaN  \n",
       "...                        ...         ...         ...         ...  \n",
       "-117.6414 37.6236       16.436      8.5234      11.904      8.8353  \n",
       "          37.6256       16.724      8.2348      11.630      8.3278  \n",
       "          37.6276       16.641      8.2757      11.790      8.3947  \n",
       "          37.6296       17.917      9.8912      13.381     10.2190  \n",
       "          37.6316       16.839      8.8137      12.215      8.8725  \n",
       "\n",
       "[2894595 rows x 110 columns]"
      ]
     },
     "execution_count": 12,
     "metadata": {},
     "output_type": "execute_result"
    }
   ],
   "source": [
    "\n",
    "df"
   ]
  },
  {
   "cell_type": "code",
   "execution_count": 13,
   "metadata": {},
   "outputs": [],
   "source": [
    "tup=(-119.9588,35.185)\n",
    "#tup=(-119.2990,35.8852)\n",
    "#tup=(-120.2888,34.8349)\n",
    "#tup=(-117.6414,37.6236)"
   ]
  },
  {
   "cell_type": "code",
   "execution_count": 14,
   "metadata": {},
   "outputs": [
    {
     "data": {
      "text/html": [
       "<div>\n",
       "<style scoped>\n",
       "    .dataframe tbody tr th:only-of-type {\n",
       "        vertical-align: middle;\n",
       "    }\n",
       "\n",
       "    .dataframe tbody tr th {\n",
       "        vertical-align: top;\n",
       "    }\n",
       "\n",
       "    .dataframe thead th {\n",
       "        text-align: right;\n",
       "    }\n",
       "</style>\n",
       "<table border=\"1\" class=\"dataframe\">\n",
       "  <thead>\n",
       "    <tr style=\"text-align: right;\">\n",
       "      <th></th>\n",
       "      <th></th>\n",
       "      <th>2014-11-08</th>\n",
       "      <th>2014-12-02</th>\n",
       "      <th>2014-12-26</th>\n",
       "      <th>2015-02-12</th>\n",
       "      <th>2015-03-08</th>\n",
       "      <th>2015-04-01</th>\n",
       "      <th>2015-04-25</th>\n",
       "      <th>2015-05-19</th>\n",
       "      <th>2015-06-12</th>\n",
       "      <th>2015-07-06</th>\n",
       "      <th>...</th>\n",
       "      <th>2018-10-18</th>\n",
       "      <th>2018-10-30</th>\n",
       "      <th>2018-11-11</th>\n",
       "      <th>2018-11-17</th>\n",
       "      <th>2018-11-23</th>\n",
       "      <th>2018-12-05</th>\n",
       "      <th>2018-12-17</th>\n",
       "      <th>2018-12-29</th>\n",
       "      <th>2019-01-10</th>\n",
       "      <th>2019-01-22</th>\n",
       "    </tr>\n",
       "    <tr>\n",
       "      <th>Longitude</th>\n",
       "      <th>Latitude</th>\n",
       "      <th></th>\n",
       "      <th></th>\n",
       "      <th></th>\n",
       "      <th></th>\n",
       "      <th></th>\n",
       "      <th></th>\n",
       "      <th></th>\n",
       "      <th></th>\n",
       "      <th></th>\n",
       "      <th></th>\n",
       "      <th></th>\n",
       "      <th></th>\n",
       "      <th></th>\n",
       "      <th></th>\n",
       "      <th></th>\n",
       "      <th></th>\n",
       "      <th></th>\n",
       "      <th></th>\n",
       "      <th></th>\n",
       "      <th></th>\n",
       "      <th></th>\n",
       "    </tr>\n",
       "  </thead>\n",
       "  <tbody>\n",
       "    <tr>\n",
       "      <th>-119.9588</th>\n",
       "      <th>35.185</th>\n",
       "      <td>0.0</td>\n",
       "      <td>-11.225</td>\n",
       "      <td>-2.9883</td>\n",
       "      <td>-2.1471</td>\n",
       "      <td>-4.9348</td>\n",
       "      <td>-4.855</td>\n",
       "      <td>-5.1682</td>\n",
       "      <td>-3.3311</td>\n",
       "      <td>-2.0852</td>\n",
       "      <td>-1.5282</td>\n",
       "      <td>...</td>\n",
       "      <td>-6.1054</td>\n",
       "      <td>-3.8771</td>\n",
       "      <td>-5.0105</td>\n",
       "      <td>-6.429</td>\n",
       "      <td>-4.0435</td>\n",
       "      <td>-7.6104</td>\n",
       "      <td>-2.7098</td>\n",
       "      <td>-2.0944</td>\n",
       "      <td>-2.5916</td>\n",
       "      <td>-3.4094</td>\n",
       "    </tr>\n",
       "  </tbody>\n",
       "</table>\n",
       "<p>1 rows × 110 columns</p>\n",
       "</div>"
      ],
      "text/plain": [
       "                    2014-11-08  2014-12-02  2014-12-26  2015-02-12  \\\n",
       "Longitude Latitude                                                   \n",
       "-119.9588 35.185           0.0     -11.225     -2.9883     -2.1471   \n",
       "\n",
       "                    2015-03-08  2015-04-01  2015-04-25  2015-05-19  \\\n",
       "Longitude Latitude                                                   \n",
       "-119.9588 35.185       -4.9348      -4.855     -5.1682     -3.3311   \n",
       "\n",
       "                    2015-06-12  2015-07-06  ...  2018-10-18  2018-10-30  \\\n",
       "Longitude Latitude                          ...                           \n",
       "-119.9588 35.185       -2.0852     -1.5282  ...     -6.1054     -3.8771   \n",
       "\n",
       "                    2018-11-11  2018-11-17  2018-11-23  2018-12-05  \\\n",
       "Longitude Latitude                                                   \n",
       "-119.9588 35.185       -5.0105      -6.429     -4.0435     -7.6104   \n",
       "\n",
       "                    2018-12-17  2018-12-29  2019-01-10  2019-01-22  \n",
       "Longitude Latitude                                                  \n",
       "-119.9588 35.185       -2.7098     -2.0944     -2.5916     -3.4094  \n",
       "\n",
       "[1 rows x 110 columns]"
      ]
     },
     "execution_count": 14,
     "metadata": {},
     "output_type": "execute_result"
    }
   ],
   "source": [
    "df_loc = df[df.index==tup].copy() \n",
    "df_loc"
   ]
  },
  {
   "cell_type": "code",
   "execution_count": 15,
   "metadata": {},
   "outputs": [],
   "source": [
    "df_loc=df_loc.transpose()\n",
    "\n",
    "df_loc.set_axis(['data'], axis=1, inplace=True)\n",
    "#data.insert(0,\"date\",value=data.index)\n",
    "df_loc=df_loc.reset_index()\n",
    "df_loc.rename(columns={'index':'date'}, inplace=True)\n",
    "df_loc\n",
    "\n",
    "data = df_loc['data'].values\n",
    "data = data.reshape((-1,1))\n"
   ]
  },
  {
   "cell_type": "code",
   "execution_count": 16,
   "metadata": {},
   "outputs": [
    {
     "name": "stdout",
     "output_type": "stream",
     "text": [
      "88\n",
      "22\n"
     ]
    }
   ],
   "source": [
    "split_percent = 0.80\n",
    "split = int(split_percent*len(data))\n",
    "\n",
    "data_train = data[:split]\n",
    "data_test = data[split:]\n",
    "\n",
    "date_train = df_loc['date'][:split]\n",
    "date_test = df_loc['date'][split:]\n",
    "\n",
    "print(len(data_train))\n",
    "print(len(data_test))"
   ]
  },
  {
   "cell_type": "code",
   "execution_count": 17,
   "metadata": {},
   "outputs": [],
   "source": [
    "look_back = 9\n",
    "\n",
    "train_generator = TimeseriesGenerator(data_train, data_train, length=look_back, batch_size=20)     \n",
    "test_generator = TimeseriesGenerator(data_test, data_test, length=look_back, batch_size=1)"
   ]
  },
  {
   "cell_type": "code",
   "execution_count": 18,
   "metadata": {},
   "outputs": [
    {
     "name": "stdout",
     "output_type": "stream",
     "text": [
      "Epoch 1/100\n"
     ]
    },
    {
     "name": "stderr",
     "output_type": "stream",
     "text": [
      "C:\\Users\\jupad\\AppData\\Local\\Temp\\ipykernel_27724\\2933484590.py:7: UserWarning: `Model.fit_generator` is deprecated and will be removed in a future version. Please use `Model.fit`, which supports generators.\n",
      "  model.fit_generator(train_generator, epochs=num_epochs, verbose=1)\n"
     ]
    },
    {
     "name": "stdout",
     "output_type": "stream",
     "text": [
      "4/4 [==============================] - 2s 5ms/step - loss: 12.8494\n",
      "Epoch 2/100\n",
      "4/4 [==============================] - 0s 5ms/step - loss: 12.4905\n",
      "Epoch 3/100\n",
      "4/4 [==============================] - 0s 5ms/step - loss: 12.1939\n",
      "Epoch 4/100\n",
      "4/4 [==============================] - 0s 5ms/step - loss: 11.8755\n",
      "Epoch 5/100\n",
      "4/4 [==============================] - 0s 5ms/step - loss: 11.5743\n",
      "Epoch 6/100\n",
      "4/4 [==============================] - 0s 5ms/step - loss: 11.3058\n",
      "Epoch 7/100\n",
      "4/4 [==============================] - 0s 5ms/step - loss: 11.0280\n",
      "Epoch 8/100\n",
      "4/4 [==============================] - 0s 5ms/step - loss: 10.7911\n",
      "Epoch 9/100\n",
      "4/4 [==============================] - 0s 5ms/step - loss: 10.5535\n",
      "Epoch 10/100\n",
      "4/4 [==============================] - 0s 4ms/step - loss: 10.3063\n",
      "Epoch 11/100\n",
      "4/4 [==============================] - 0s 5ms/step - loss: 10.0907\n",
      "Epoch 12/100\n",
      "4/4 [==============================] - 0s 5ms/step - loss: 9.8756\n",
      "Epoch 13/100\n",
      "4/4 [==============================] - 0s 6ms/step - loss: 9.6861\n",
      "Epoch 14/100\n",
      "4/4 [==============================] - 0s 5ms/step - loss: 9.4841\n",
      "Epoch 15/100\n",
      "4/4 [==============================] - 0s 5ms/step - loss: 9.3121\n",
      "Epoch 16/100\n",
      "4/4 [==============================] - 0s 5ms/step - loss: 9.1179\n",
      "Epoch 17/100\n",
      "4/4 [==============================] - 0s 5ms/step - loss: 8.9476\n",
      "Epoch 18/100\n",
      "4/4 [==============================] - 0s 5ms/step - loss: 8.7862\n",
      "Epoch 19/100\n",
      "4/4 [==============================] - 0s 5ms/step - loss: 8.6315\n",
      "Epoch 20/100\n",
      "4/4 [==============================] - 0s 5ms/step - loss: 8.4716\n",
      "Epoch 21/100\n",
      "4/4 [==============================] - 0s 5ms/step - loss: 8.3441\n",
      "Epoch 22/100\n",
      "4/4 [==============================] - 0s 4ms/step - loss: 8.1938\n",
      "Epoch 23/100\n",
      "4/4 [==============================] - 0s 4ms/step - loss: 8.0535\n",
      "Epoch 24/100\n",
      "4/4 [==============================] - 0s 5ms/step - loss: 7.9234\n",
      "Epoch 25/100\n",
      "4/4 [==============================] - 0s 5ms/step - loss: 7.8039\n",
      "Epoch 26/100\n",
      "4/4 [==============================] - 0s 5ms/step - loss: 7.6711\n",
      "Epoch 27/100\n",
      "4/4 [==============================] - 0s 4ms/step - loss: 7.5566\n",
      "Epoch 28/100\n",
      "4/4 [==============================] - 0s 5ms/step - loss: 7.4349\n",
      "Epoch 29/100\n",
      "4/4 [==============================] - 0s 4ms/step - loss: 7.3313\n",
      "Epoch 30/100\n",
      "4/4 [==============================] - 0s 5ms/step - loss: 7.2195\n",
      "Epoch 31/100\n",
      "4/4 [==============================] - 0s 5ms/step - loss: 7.1177\n",
      "Epoch 32/100\n",
      "4/4 [==============================] - 0s 5ms/step - loss: 7.0132\n",
      "Epoch 33/100\n",
      "4/4 [==============================] - 0s 5ms/step - loss: 6.9245\n",
      "Epoch 34/100\n",
      "4/4 [==============================] - 0s 5ms/step - loss: 6.8316\n",
      "Epoch 35/100\n",
      "4/4 [==============================] - 0s 5ms/step - loss: 6.7396\n",
      "Epoch 36/100\n",
      "4/4 [==============================] - 0s 5ms/step - loss: 6.6651\n",
      "Epoch 37/100\n",
      "4/4 [==============================] - 0s 5ms/step - loss: 6.5702\n",
      "Epoch 38/100\n",
      "4/4 [==============================] - 0s 8ms/step - loss: 6.4894\n",
      "Epoch 39/100\n",
      "4/4 [==============================] - 0s 4ms/step - loss: 6.4064\n",
      "Epoch 40/100\n",
      "4/4 [==============================] - 0s 5ms/step - loss: 6.3207\n",
      "Epoch 41/100\n",
      "4/4 [==============================] - 0s 4ms/step - loss: 6.2632\n",
      "Epoch 42/100\n",
      "4/4 [==============================] - 0s 5ms/step - loss: 6.1864\n",
      "Epoch 43/100\n",
      "4/4 [==============================] - 0s 4ms/step - loss: 6.1150\n",
      "Epoch 44/100\n",
      "4/4 [==============================] - 0s 5ms/step - loss: 6.0383\n",
      "Epoch 45/100\n",
      "4/4 [==============================] - 0s 5ms/step - loss: 5.9845\n",
      "Epoch 46/100\n",
      "4/4 [==============================] - 0s 4ms/step - loss: 5.9050\n",
      "Epoch 47/100\n",
      "4/4 [==============================] - 0s 4ms/step - loss: 5.8356\n",
      "Epoch 48/100\n",
      "4/4 [==============================] - 0s 4ms/step - loss: 5.7859\n",
      "Epoch 49/100\n",
      "4/4 [==============================] - 0s 5ms/step - loss: 5.7149\n",
      "Epoch 50/100\n",
      "4/4 [==============================] - 0s 5ms/step - loss: 5.6596\n",
      "Epoch 51/100\n",
      "4/4 [==============================] - 0s 5ms/step - loss: 5.5884\n",
      "Epoch 52/100\n",
      "4/4 [==============================] - 0s 5ms/step - loss: 5.5550\n",
      "Epoch 53/100\n",
      "4/4 [==============================] - 0s 4ms/step - loss: 5.4818\n",
      "Epoch 54/100\n",
      "4/4 [==============================] - 0s 5ms/step - loss: 5.4346\n",
      "Epoch 55/100\n",
      "4/4 [==============================] - 0s 5ms/step - loss: 5.3793\n",
      "Epoch 56/100\n",
      "4/4 [==============================] - 0s 5ms/step - loss: 5.3502\n",
      "Epoch 57/100\n",
      "4/4 [==============================] - 0s 5ms/step - loss: 5.2877\n",
      "Epoch 58/100\n",
      "4/4 [==============================] - 0s 5ms/step - loss: 5.2459\n",
      "Epoch 59/100\n",
      "4/4 [==============================] - 0s 5ms/step - loss: 5.2097\n",
      "Epoch 60/100\n",
      "4/4 [==============================] - 0s 5ms/step - loss: 5.1937\n",
      "Epoch 61/100\n",
      "4/4 [==============================] - 0s 5ms/step - loss: 5.1586\n",
      "Epoch 62/100\n",
      "4/4 [==============================] - 0s 4ms/step - loss: 5.1324\n",
      "Epoch 63/100\n",
      "4/4 [==============================] - 0s 4ms/step - loss: 5.0911\n",
      "Epoch 64/100\n",
      "4/4 [==============================] - 0s 5ms/step - loss: 5.0881\n",
      "Epoch 65/100\n",
      "4/4 [==============================] - 0s 6ms/step - loss: 5.0616\n",
      "Epoch 66/100\n",
      "4/4 [==============================] - 0s 5ms/step - loss: 5.0520\n",
      "Epoch 67/100\n",
      "4/4 [==============================] - 0s 5ms/step - loss: 5.0368\n",
      "Epoch 68/100\n",
      "4/4 [==============================] - 0s 4ms/step - loss: 5.0219\n",
      "Epoch 69/100\n",
      "4/4 [==============================] - 0s 5ms/step - loss: 5.0133\n",
      "Epoch 70/100\n",
      "4/4 [==============================] - 0s 4ms/step - loss: 5.0013\n",
      "Epoch 71/100\n",
      "4/4 [==============================] - 0s 4ms/step - loss: 4.9933\n",
      "Epoch 72/100\n",
      "4/4 [==============================] - 0s 5ms/step - loss: 4.9883\n",
      "Epoch 73/100\n",
      "4/4 [==============================] - 0s 4ms/step - loss: 4.9812\n",
      "Epoch 74/100\n",
      "4/4 [==============================] - 0s 4ms/step - loss: 4.9762\n",
      "Epoch 75/100\n",
      "4/4 [==============================] - 0s 4ms/step - loss: 4.9751\n",
      "Epoch 76/100\n",
      "4/4 [==============================] - 0s 5ms/step - loss: 4.9770\n",
      "Epoch 77/100\n",
      "4/4 [==============================] - 0s 5ms/step - loss: 4.9700\n",
      "Epoch 78/100\n",
      "4/4 [==============================] - 0s 5ms/step - loss: 4.9703\n",
      "Epoch 79/100\n",
      "4/4 [==============================] - 0s 5ms/step - loss: 4.9626\n",
      "Epoch 80/100\n",
      "4/4 [==============================] - 0s 5ms/step - loss: 4.9630\n",
      "Epoch 81/100\n",
      "4/4 [==============================] - 0s 5ms/step - loss: 4.9611\n",
      "Epoch 82/100\n",
      "4/4 [==============================] - 0s 5ms/step - loss: 4.9591\n",
      "Epoch 83/100\n",
      "4/4 [==============================] - 0s 5ms/step - loss: 4.9583\n",
      "Epoch 84/100\n",
      "4/4 [==============================] - 0s 5ms/step - loss: 4.9568\n",
      "Epoch 85/100\n",
      "4/4 [==============================] - 0s 4ms/step - loss: 4.9564\n",
      "Epoch 86/100\n",
      "4/4 [==============================] - 0s 4ms/step - loss: 4.9573\n",
      "Epoch 87/100\n",
      "4/4 [==============================] - 0s 5ms/step - loss: 4.9547\n",
      "Epoch 88/100\n",
      "4/4 [==============================] - 0s 5ms/step - loss: 4.9539\n",
      "Epoch 89/100\n",
      "4/4 [==============================] - 0s 4ms/step - loss: 4.9542\n",
      "Epoch 90/100\n",
      "4/4 [==============================] - 0s 5ms/step - loss: 4.9557\n",
      "Epoch 91/100\n",
      "4/4 [==============================] - 0s 4ms/step - loss: 4.9523\n",
      "Epoch 92/100\n",
      "4/4 [==============================] - 0s 4ms/step - loss: 4.9524\n",
      "Epoch 93/100\n",
      "4/4 [==============================] - 0s 4ms/step - loss: 4.9508\n",
      "Epoch 94/100\n",
      "4/4 [==============================] - 0s 5ms/step - loss: 4.9511\n",
      "Epoch 95/100\n",
      "4/4 [==============================] - 0s 4ms/step - loss: 4.9546\n",
      "Epoch 96/100\n",
      "4/4 [==============================] - 0s 5ms/step - loss: 4.9506\n",
      "Epoch 97/100\n",
      "4/4 [==============================] - 0s 5ms/step - loss: 4.9498\n",
      "Epoch 98/100\n",
      "4/4 [==============================] - 0s 5ms/step - loss: 4.9493\n",
      "Epoch 99/100\n",
      "4/4 [==============================] - 0s 5ms/step - loss: 4.9528\n",
      "Epoch 100/100\n",
      "4/4 [==============================] - 0s 5ms/step - loss: 4.9509\n"
     ]
    },
    {
     "data": {
      "text/plain": [
       "<keras.callbacks.History at 0x12dcda66ef0>"
      ]
     },
     "execution_count": 18,
     "metadata": {},
     "output_type": "execute_result"
    }
   ],
   "source": [
    "model = Sequential()\n",
    "model.add(LSTM(10,activation='tanh',input_shape=(look_back,1)))\n",
    "model.add(Dense(1))\n",
    "model.compile(optimizer='adam', loss='mse')\n",
    "\n",
    "num_epochs = 100\n",
    "model.fit_generator(train_generator, epochs=num_epochs, verbose=1)"
   ]
  },
  {
   "cell_type": "code",
   "execution_count": 19,
   "metadata": {},
   "outputs": [
    {
     "name": "stdout",
     "output_type": "stream",
     "text": [
      "13/13 [==============================] - 1s 2ms/step\n"
     ]
    },
    {
     "data": {
      "application/vnd.plotly.v1+json": {
       "config": {
        "plotlyServerURL": "https://plot.ly"
       },
       "data": [
        {
         "mode": "lines",
         "name": "Data",
         "type": "scatter",
         "x": [
          "2014-11-08T00:00:00",
          "2014-12-02T00:00:00",
          "2014-12-26T00:00:00",
          "2015-02-12T00:00:00",
          "2015-03-08T00:00:00",
          "2015-04-01T00:00:00",
          "2015-04-25T00:00:00",
          "2015-05-19T00:00:00",
          "2015-06-12T00:00:00",
          "2015-07-06T00:00:00",
          "2015-07-30T00:00:00",
          "2015-08-23T00:00:00",
          "2015-09-16T00:00:00",
          "2015-10-10T00:00:00",
          "2015-11-03T00:00:00",
          "2015-11-27T00:00:00",
          "2015-12-09T00:00:00",
          "2015-12-21T00:00:00",
          "2016-01-14T00:00:00",
          "2016-01-26T00:00:00",
          "2016-02-07T00:00:00",
          "2016-02-19T00:00:00",
          "2016-03-02T00:00:00",
          "2016-03-14T00:00:00",
          "2016-03-26T00:00:00",
          "2016-04-07T00:00:00",
          "2016-04-19T00:00:00",
          "2016-05-01T00:00:00",
          "2016-05-13T00:00:00",
          "2016-05-25T00:00:00",
          "2016-06-06T00:00:00",
          "2016-06-30T00:00:00",
          "2016-07-24T00:00:00",
          "2016-08-17T00:00:00",
          "2016-09-10T00:00:00",
          "2016-09-22T00:00:00",
          "2016-10-04T00:00:00",
          "2016-10-16T00:00:00",
          "2016-10-28T00:00:00",
          "2016-11-09T00:00:00",
          "2016-11-21T00:00:00",
          "2016-12-03T00:00:00",
          "2016-12-15T00:00:00",
          "2016-12-27T00:00:00",
          "2017-01-08T00:00:00",
          "2017-01-14T00:00:00",
          "2017-01-20T00:00:00",
          "2017-01-26T00:00:00",
          "2017-02-01T00:00:00",
          "2017-02-13T00:00:00",
          "2017-02-25T00:00:00",
          "2017-03-09T00:00:00",
          "2017-03-21T00:00:00",
          "2017-04-02T00:00:00",
          "2017-04-14T00:00:00",
          "2017-04-26T00:00:00",
          "2017-05-08T00:00:00",
          "2017-05-20T00:00:00",
          "2017-06-01T00:00:00",
          "2017-06-13T00:00:00",
          "2017-06-25T00:00:00",
          "2017-07-07T00:00:00",
          "2017-07-19T00:00:00",
          "2017-07-31T00:00:00",
          "2017-08-12T00:00:00",
          "2017-08-24T00:00:00",
          "2017-09-05T00:00:00",
          "2017-09-17T00:00:00",
          "2017-09-29T00:00:00",
          "2017-10-11T00:00:00",
          "2017-10-23T00:00:00",
          "2017-11-04T00:00:00",
          "2017-11-16T00:00:00",
          "2017-11-28T00:00:00",
          "2017-12-10T00:00:00",
          "2017-12-22T00:00:00",
          "2018-01-03T00:00:00",
          "2018-01-15T00:00:00",
          "2018-01-27T00:00:00",
          "2018-02-08T00:00:00",
          "2018-02-20T00:00:00",
          "2018-03-04T00:00:00",
          "2018-03-16T00:00:00",
          "2018-03-28T00:00:00",
          "2018-04-09T00:00:00",
          "2018-04-21T00:00:00",
          "2018-05-03T00:00:00",
          "2018-05-15T00:00:00"
         ],
         "y": [
          0,
          -11.225,
          -2.9883,
          -2.1471,
          -4.9348,
          -4.855,
          -5.1682,
          -3.3311,
          -2.0852,
          -1.5282,
          -9.7155,
          -3.3747,
          -10.139,
          -6.2046,
          -1.0547,
          -5.1957,
          -3.7911,
          -4.1615,
          -4.9889,
          -2.737,
          -1.7155,
          -7.8196,
          -4.7153,
          -4.7225,
          -3.5555,
          -4.1162,
          -5.503,
          -4.7902,
          0.028548,
          -3.004,
          -4.6391,
          -3.4299,
          -5.2231,
          -2.195,
          -3.6062,
          -5.2456,
          -2.426,
          0.5123,
          -4.2348,
          -4.0695,
          -3.1103,
          -3.2679,
          -3.5452,
          -3.8959,
          -1.3526,
          -4.741,
          -2.9943,
          -1.3547,
          -3.1549,
          -2.3919,
          -3.912,
          -2.4157,
          -2.6661,
          -5.6262,
          -4.4636,
          -2.0878,
          -2.3241,
          -2.6001,
          -1.5551,
          -2.975,
          3.4396,
          -3.8537,
          -7.5378,
          0.3005,
          -4.0588,
          -0.35946,
          1.6053,
          -4.233,
          -4.6993,
          -5.9306,
          -4.2687,
          -6.7993,
          -4.2249,
          -3.0255,
          -6.8424,
          -4.1839,
          -7.2538,
          -4.7867,
          -3.5673,
          -4.2356,
          -5.9017,
          -4.0197,
          -2.9626,
          -4.1219,
          -4.4245,
          -1.489,
          -2.9594,
          -0.34901
         ]
        },
        {
         "mode": "lines",
         "name": "Prediction",
         "type": "scatter",
         "x": [
          "2018-05-27T00:00:00",
          "2018-06-08T00:00:00",
          "2018-06-20T00:00:00",
          "2018-07-02T00:00:00",
          "2018-07-14T00:00:00",
          "2018-07-26T00:00:00",
          "2018-08-07T00:00:00",
          "2018-08-19T00:00:00",
          "2018-08-31T00:00:00",
          "2018-09-12T00:00:00",
          "2018-09-24T00:00:00",
          "2018-10-06T00:00:00",
          "2018-10-18T00:00:00",
          "2018-10-30T00:00:00",
          "2018-11-11T00:00:00",
          "2018-11-17T00:00:00",
          "2018-11-23T00:00:00",
          "2018-12-05T00:00:00",
          "2018-12-17T00:00:00",
          "2018-12-29T00:00:00",
          "2019-01-10T00:00:00",
          "2019-01-22T00:00:00"
         ],
         "y": [
          null,
          null,
          null,
          null,
          null,
          null,
          -3.6258535385131836,
          -3.5978620052337646,
          -3.625472068786621,
          -3.580162525177002,
          -3.6320302486419678,
          -3.6719398498535156,
          -3.692307472229004
         ]
        },
        {
         "mode": "lines",
         "name": "Ground Truth",
         "type": "scatter",
         "x": [
          "2018-05-27T00:00:00",
          "2018-06-08T00:00:00",
          "2018-06-20T00:00:00",
          "2018-07-02T00:00:00",
          "2018-07-14T00:00:00",
          "2018-07-26T00:00:00",
          "2018-08-07T00:00:00",
          "2018-08-19T00:00:00",
          "2018-08-31T00:00:00",
          "2018-09-12T00:00:00",
          "2018-09-24T00:00:00",
          "2018-10-06T00:00:00",
          "2018-10-18T00:00:00",
          "2018-10-30T00:00:00",
          "2018-11-11T00:00:00",
          "2018-11-17T00:00:00",
          "2018-11-23T00:00:00",
          "2018-12-05T00:00:00",
          "2018-12-17T00:00:00",
          "2018-12-29T00:00:00",
          "2019-01-10T00:00:00",
          "2019-01-22T00:00:00"
         ],
         "y": [
          -1.6243,
          -2.1392,
          -3.1823,
          -4.4811,
          -2.0632,
          null,
          -3.117,
          -6.0934,
          -3.442,
          -6.9064,
          -4.9925,
          -5.3969,
          -6.1054,
          -3.8771,
          -5.0105,
          -6.429,
          -4.0435,
          -7.6104,
          -2.7098,
          -2.0944,
          -2.5916,
          -3.4094
         ]
        }
       ],
       "layout": {
        "template": {
         "data": {
          "bar": [
           {
            "error_x": {
             "color": "#2a3f5f"
            },
            "error_y": {
             "color": "#2a3f5f"
            },
            "marker": {
             "line": {
              "color": "#E5ECF6",
              "width": 0.5
             },
             "pattern": {
              "fillmode": "overlay",
              "size": 10,
              "solidity": 0.2
             }
            },
            "type": "bar"
           }
          ],
          "barpolar": [
           {
            "marker": {
             "line": {
              "color": "#E5ECF6",
              "width": 0.5
             },
             "pattern": {
              "fillmode": "overlay",
              "size": 10,
              "solidity": 0.2
             }
            },
            "type": "barpolar"
           }
          ],
          "carpet": [
           {
            "aaxis": {
             "endlinecolor": "#2a3f5f",
             "gridcolor": "white",
             "linecolor": "white",
             "minorgridcolor": "white",
             "startlinecolor": "#2a3f5f"
            },
            "baxis": {
             "endlinecolor": "#2a3f5f",
             "gridcolor": "white",
             "linecolor": "white",
             "minorgridcolor": "white",
             "startlinecolor": "#2a3f5f"
            },
            "type": "carpet"
           }
          ],
          "choropleth": [
           {
            "colorbar": {
             "outlinewidth": 0,
             "ticks": ""
            },
            "type": "choropleth"
           }
          ],
          "contour": [
           {
            "colorbar": {
             "outlinewidth": 0,
             "ticks": ""
            },
            "colorscale": [
             [
              0,
              "#0d0887"
             ],
             [
              0.1111111111111111,
              "#46039f"
             ],
             [
              0.2222222222222222,
              "#7201a8"
             ],
             [
              0.3333333333333333,
              "#9c179e"
             ],
             [
              0.4444444444444444,
              "#bd3786"
             ],
             [
              0.5555555555555556,
              "#d8576b"
             ],
             [
              0.6666666666666666,
              "#ed7953"
             ],
             [
              0.7777777777777778,
              "#fb9f3a"
             ],
             [
              0.8888888888888888,
              "#fdca26"
             ],
             [
              1,
              "#f0f921"
             ]
            ],
            "type": "contour"
           }
          ],
          "contourcarpet": [
           {
            "colorbar": {
             "outlinewidth": 0,
             "ticks": ""
            },
            "type": "contourcarpet"
           }
          ],
          "heatmap": [
           {
            "colorbar": {
             "outlinewidth": 0,
             "ticks": ""
            },
            "colorscale": [
             [
              0,
              "#0d0887"
             ],
             [
              0.1111111111111111,
              "#46039f"
             ],
             [
              0.2222222222222222,
              "#7201a8"
             ],
             [
              0.3333333333333333,
              "#9c179e"
             ],
             [
              0.4444444444444444,
              "#bd3786"
             ],
             [
              0.5555555555555556,
              "#d8576b"
             ],
             [
              0.6666666666666666,
              "#ed7953"
             ],
             [
              0.7777777777777778,
              "#fb9f3a"
             ],
             [
              0.8888888888888888,
              "#fdca26"
             ],
             [
              1,
              "#f0f921"
             ]
            ],
            "type": "heatmap"
           }
          ],
          "heatmapgl": [
           {
            "colorbar": {
             "outlinewidth": 0,
             "ticks": ""
            },
            "colorscale": [
             [
              0,
              "#0d0887"
             ],
             [
              0.1111111111111111,
              "#46039f"
             ],
             [
              0.2222222222222222,
              "#7201a8"
             ],
             [
              0.3333333333333333,
              "#9c179e"
             ],
             [
              0.4444444444444444,
              "#bd3786"
             ],
             [
              0.5555555555555556,
              "#d8576b"
             ],
             [
              0.6666666666666666,
              "#ed7953"
             ],
             [
              0.7777777777777778,
              "#fb9f3a"
             ],
             [
              0.8888888888888888,
              "#fdca26"
             ],
             [
              1,
              "#f0f921"
             ]
            ],
            "type": "heatmapgl"
           }
          ],
          "histogram": [
           {
            "marker": {
             "pattern": {
              "fillmode": "overlay",
              "size": 10,
              "solidity": 0.2
             }
            },
            "type": "histogram"
           }
          ],
          "histogram2d": [
           {
            "colorbar": {
             "outlinewidth": 0,
             "ticks": ""
            },
            "colorscale": [
             [
              0,
              "#0d0887"
             ],
             [
              0.1111111111111111,
              "#46039f"
             ],
             [
              0.2222222222222222,
              "#7201a8"
             ],
             [
              0.3333333333333333,
              "#9c179e"
             ],
             [
              0.4444444444444444,
              "#bd3786"
             ],
             [
              0.5555555555555556,
              "#d8576b"
             ],
             [
              0.6666666666666666,
              "#ed7953"
             ],
             [
              0.7777777777777778,
              "#fb9f3a"
             ],
             [
              0.8888888888888888,
              "#fdca26"
             ],
             [
              1,
              "#f0f921"
             ]
            ],
            "type": "histogram2d"
           }
          ],
          "histogram2dcontour": [
           {
            "colorbar": {
             "outlinewidth": 0,
             "ticks": ""
            },
            "colorscale": [
             [
              0,
              "#0d0887"
             ],
             [
              0.1111111111111111,
              "#46039f"
             ],
             [
              0.2222222222222222,
              "#7201a8"
             ],
             [
              0.3333333333333333,
              "#9c179e"
             ],
             [
              0.4444444444444444,
              "#bd3786"
             ],
             [
              0.5555555555555556,
              "#d8576b"
             ],
             [
              0.6666666666666666,
              "#ed7953"
             ],
             [
              0.7777777777777778,
              "#fb9f3a"
             ],
             [
              0.8888888888888888,
              "#fdca26"
             ],
             [
              1,
              "#f0f921"
             ]
            ],
            "type": "histogram2dcontour"
           }
          ],
          "mesh3d": [
           {
            "colorbar": {
             "outlinewidth": 0,
             "ticks": ""
            },
            "type": "mesh3d"
           }
          ],
          "parcoords": [
           {
            "line": {
             "colorbar": {
              "outlinewidth": 0,
              "ticks": ""
             }
            },
            "type": "parcoords"
           }
          ],
          "pie": [
           {
            "automargin": true,
            "type": "pie"
           }
          ],
          "scatter": [
           {
            "fillpattern": {
             "fillmode": "overlay",
             "size": 10,
             "solidity": 0.2
            },
            "type": "scatter"
           }
          ],
          "scatter3d": [
           {
            "line": {
             "colorbar": {
              "outlinewidth": 0,
              "ticks": ""
             }
            },
            "marker": {
             "colorbar": {
              "outlinewidth": 0,
              "ticks": ""
             }
            },
            "type": "scatter3d"
           }
          ],
          "scattercarpet": [
           {
            "marker": {
             "colorbar": {
              "outlinewidth": 0,
              "ticks": ""
             }
            },
            "type": "scattercarpet"
           }
          ],
          "scattergeo": [
           {
            "marker": {
             "colorbar": {
              "outlinewidth": 0,
              "ticks": ""
             }
            },
            "type": "scattergeo"
           }
          ],
          "scattergl": [
           {
            "marker": {
             "colorbar": {
              "outlinewidth": 0,
              "ticks": ""
             }
            },
            "type": "scattergl"
           }
          ],
          "scattermapbox": [
           {
            "marker": {
             "colorbar": {
              "outlinewidth": 0,
              "ticks": ""
             }
            },
            "type": "scattermapbox"
           }
          ],
          "scatterpolar": [
           {
            "marker": {
             "colorbar": {
              "outlinewidth": 0,
              "ticks": ""
             }
            },
            "type": "scatterpolar"
           }
          ],
          "scatterpolargl": [
           {
            "marker": {
             "colorbar": {
              "outlinewidth": 0,
              "ticks": ""
             }
            },
            "type": "scatterpolargl"
           }
          ],
          "scatterternary": [
           {
            "marker": {
             "colorbar": {
              "outlinewidth": 0,
              "ticks": ""
             }
            },
            "type": "scatterternary"
           }
          ],
          "surface": [
           {
            "colorbar": {
             "outlinewidth": 0,
             "ticks": ""
            },
            "colorscale": [
             [
              0,
              "#0d0887"
             ],
             [
              0.1111111111111111,
              "#46039f"
             ],
             [
              0.2222222222222222,
              "#7201a8"
             ],
             [
              0.3333333333333333,
              "#9c179e"
             ],
             [
              0.4444444444444444,
              "#bd3786"
             ],
             [
              0.5555555555555556,
              "#d8576b"
             ],
             [
              0.6666666666666666,
              "#ed7953"
             ],
             [
              0.7777777777777778,
              "#fb9f3a"
             ],
             [
              0.8888888888888888,
              "#fdca26"
             ],
             [
              1,
              "#f0f921"
             ]
            ],
            "type": "surface"
           }
          ],
          "table": [
           {
            "cells": {
             "fill": {
              "color": "#EBF0F8"
             },
             "line": {
              "color": "white"
             }
            },
            "header": {
             "fill": {
              "color": "#C8D4E3"
             },
             "line": {
              "color": "white"
             }
            },
            "type": "table"
           }
          ]
         },
         "layout": {
          "annotationdefaults": {
           "arrowcolor": "#2a3f5f",
           "arrowhead": 0,
           "arrowwidth": 1
          },
          "autotypenumbers": "strict",
          "coloraxis": {
           "colorbar": {
            "outlinewidth": 0,
            "ticks": ""
           }
          },
          "colorscale": {
           "diverging": [
            [
             0,
             "#8e0152"
            ],
            [
             0.1,
             "#c51b7d"
            ],
            [
             0.2,
             "#de77ae"
            ],
            [
             0.3,
             "#f1b6da"
            ],
            [
             0.4,
             "#fde0ef"
            ],
            [
             0.5,
             "#f7f7f7"
            ],
            [
             0.6,
             "#e6f5d0"
            ],
            [
             0.7,
             "#b8e186"
            ],
            [
             0.8,
             "#7fbc41"
            ],
            [
             0.9,
             "#4d9221"
            ],
            [
             1,
             "#276419"
            ]
           ],
           "sequential": [
            [
             0,
             "#0d0887"
            ],
            [
             0.1111111111111111,
             "#46039f"
            ],
            [
             0.2222222222222222,
             "#7201a8"
            ],
            [
             0.3333333333333333,
             "#9c179e"
            ],
            [
             0.4444444444444444,
             "#bd3786"
            ],
            [
             0.5555555555555556,
             "#d8576b"
            ],
            [
             0.6666666666666666,
             "#ed7953"
            ],
            [
             0.7777777777777778,
             "#fb9f3a"
            ],
            [
             0.8888888888888888,
             "#fdca26"
            ],
            [
             1,
             "#f0f921"
            ]
           ],
           "sequentialminus": [
            [
             0,
             "#0d0887"
            ],
            [
             0.1111111111111111,
             "#46039f"
            ],
            [
             0.2222222222222222,
             "#7201a8"
            ],
            [
             0.3333333333333333,
             "#9c179e"
            ],
            [
             0.4444444444444444,
             "#bd3786"
            ],
            [
             0.5555555555555556,
             "#d8576b"
            ],
            [
             0.6666666666666666,
             "#ed7953"
            ],
            [
             0.7777777777777778,
             "#fb9f3a"
            ],
            [
             0.8888888888888888,
             "#fdca26"
            ],
            [
             1,
             "#f0f921"
            ]
           ]
          },
          "colorway": [
           "#636efa",
           "#EF553B",
           "#00cc96",
           "#ab63fa",
           "#FFA15A",
           "#19d3f3",
           "#FF6692",
           "#B6E880",
           "#FF97FF",
           "#FECB52"
          ],
          "font": {
           "color": "#2a3f5f"
          },
          "geo": {
           "bgcolor": "white",
           "lakecolor": "white",
           "landcolor": "#E5ECF6",
           "showlakes": true,
           "showland": true,
           "subunitcolor": "white"
          },
          "hoverlabel": {
           "align": "left"
          },
          "hovermode": "closest",
          "mapbox": {
           "style": "light"
          },
          "paper_bgcolor": "white",
          "plot_bgcolor": "#E5ECF6",
          "polar": {
           "angularaxis": {
            "gridcolor": "white",
            "linecolor": "white",
            "ticks": ""
           },
           "bgcolor": "#E5ECF6",
           "radialaxis": {
            "gridcolor": "white",
            "linecolor": "white",
            "ticks": ""
           }
          },
          "scene": {
           "xaxis": {
            "backgroundcolor": "#E5ECF6",
            "gridcolor": "white",
            "gridwidth": 2,
            "linecolor": "white",
            "showbackground": true,
            "ticks": "",
            "zerolinecolor": "white"
           },
           "yaxis": {
            "backgroundcolor": "#E5ECF6",
            "gridcolor": "white",
            "gridwidth": 2,
            "linecolor": "white",
            "showbackground": true,
            "ticks": "",
            "zerolinecolor": "white"
           },
           "zaxis": {
            "backgroundcolor": "#E5ECF6",
            "gridcolor": "white",
            "gridwidth": 2,
            "linecolor": "white",
            "showbackground": true,
            "ticks": "",
            "zerolinecolor": "white"
           }
          },
          "shapedefaults": {
           "line": {
            "color": "#2a3f5f"
           }
          },
          "ternary": {
           "aaxis": {
            "gridcolor": "white",
            "linecolor": "white",
            "ticks": ""
           },
           "baxis": {
            "gridcolor": "white",
            "linecolor": "white",
            "ticks": ""
           },
           "bgcolor": "#E5ECF6",
           "caxis": {
            "gridcolor": "white",
            "linecolor": "white",
            "ticks": ""
           }
          },
          "title": {
           "x": 0.05
          },
          "xaxis": {
           "automargin": true,
           "gridcolor": "white",
           "linecolor": "white",
           "ticks": "",
           "title": {
            "standoff": 15
           },
           "zerolinecolor": "white",
           "zerolinewidth": 2
          },
          "yaxis": {
           "automargin": true,
           "gridcolor": "white",
           "linecolor": "white",
           "ticks": "",
           "title": {
            "standoff": 15
           },
           "zerolinecolor": "white",
           "zerolinewidth": 2
          }
         }
        },
        "title": {
         "text": "Google Stock"
        },
        "xaxis": {
         "title": {
          "text": "Date"
         }
        },
        "yaxis": {
         "title": {
          "text": "Close"
         }
        }
       }
      }
     },
     "metadata": {},
     "output_type": "display_data"
    }
   ],
   "source": [
    "prediction = model.predict(test_generator)\n",
    "\n",
    "data_train = data_train.reshape((-1))\n",
    "data_test = data_test.reshape((-1))\n",
    "prediction = prediction.reshape((-1))\n",
    "\n",
    "trace1 = go.Scatter(\n",
    "    x = date_train,\n",
    "    y = data_train,\n",
    "    mode = 'lines',\n",
    "    name = 'Data'\n",
    ")\n",
    "trace2 = go.Scatter(\n",
    "    x = date_test,\n",
    "    y = prediction,\n",
    "    mode = 'lines',\n",
    "    name = 'Prediction'\n",
    ")\n",
    "trace3 = go.Scatter(\n",
    "    x = date_test,\n",
    "    y = data_test,\n",
    "    mode='lines',\n",
    "    name = 'Ground Truth'\n",
    ")\n",
    "layout = go.Layout(\n",
    "    title = \"Google Stock\",\n",
    "    xaxis = {'title' : \"Date\"},\n",
    "    yaxis = {'title' : \"Close\"}\n",
    ")\n",
    "fig = go.Figure(data=[trace1, trace2, trace3], layout=layout)\n",
    "fig.show()"
   ]
  }
 ],
 "metadata": {
  "kernelspec": {
   "display_name": "Python 3.10.5 64-bit",
   "language": "python",
   "name": "python3"
  },
  "language_info": {
   "codemirror_mode": {
    "name": "ipython",
    "version": 3
   },
   "file_extension": ".py",
   "mimetype": "text/x-python",
   "name": "python",
   "nbconvert_exporter": "python",
   "pygments_lexer": "ipython3",
   "version": "3.10.5"
  },
  "orig_nbformat": 4,
  "vscode": {
   "interpreter": {
    "hash": "d3e10ef16274dd72e574b8fa73b58450b957d8421a2901baded3cca26fcf5dda"
   }
  }
 },
 "nbformat": 4,
 "nbformat_minor": 2
}
