{
 "cells": [
  {
   "cell_type": "code",
   "execution_count": 1,
   "metadata": {},
   "outputs": [
    {
     "name": "stdout",
     "output_type": "stream",
     "text": [
      "Tensorflow/Keras: 2.9.0\n",
      "pandas: 1.4.2\n",
      "numpy: 1.22.4\n",
      "sklearn: 1.1.1\n",
      "plotly: 5.9.0\n"
     ]
    }
   ],
   "source": [
    "# Tensorflow / Keras\n",
    "from tensorflow import keras # for building Neural Networks\n",
    "print('Tensorflow/Keras: %s' % keras.__version__) # print version\n",
    "from keras.models import Sequential # for creating a linear stack of layers for our Neural Network\n",
    "from keras import Input # for instantiating a keras tensor\n",
    "from keras.layers import Bidirectional, LSTM, RepeatVector, Dense, TimeDistributed # for creating layers inside the Neural Network\n",
    "\n",
    "# Data manipulation\n",
    "import pandas as pd # for data manipulation\n",
    "print('pandas: %s' % pd.__version__) # print version\n",
    "import numpy as np # for data manipulation\n",
    "print('numpy: %s' % np.__version__) # print version\n",
    "\n",
    "# Sklearn\n",
    "import sklearn\n",
    "print('sklearn: %s' % sklearn.__version__) # print version\n",
    "from sklearn.preprocessing import MinMaxScaler # for feature scaling\n",
    "\n",
    "# Visualization\n",
    "import plotly \n",
    "import plotly.express as px\n",
    "import plotly.graph_objects as go\n",
    "print('plotly: %s' % plotly.__version__) # print version\n",
    "\n",
    "#file accessing\n",
    "import os\n",
    "# time stuff\n",
    "from datetime import timedelta\n",
    "import calendar\n"
   ]
  },
  {
   "cell_type": "code",
   "execution_count": 2,
   "metadata": {},
   "outputs": [
    {
     "name": "stdout",
     "output_type": "stream",
     "text": [
      "['20141108.csv', '20141202.csv', '20141226.csv', '20150212.csv', '20150308.csv', '20150401.csv', '20150425.csv', '20150519.csv', '20150612.csv', '20150706.csv', '20150730.csv', '20150823.csv', '20150916.csv']\n"
     ]
    }
   ],
   "source": [
    "#get displacement for one dot over the whole time 60 20 20\n",
    "#open file by file\n",
    "CSVpath=\"InSAR_data_south/displacement/CSV/test/\"\n",
    "dir_list=[]\n",
    "lon_south=pd.read_csv('InSAR_data_south/longitude.csv')\n",
    "lat_south=pd.read_csv('InSAR_data_south/latitude.csv')\n",
    "for f in os.listdir(CSVpath):\n",
    "    name, ext=os.path.splitext(f)\n",
    "    if(ext=='.csv'):\n",
    "        dir_list.append(f)\n",
    "\n",
    "dir_list.sort()\n",
    "print(dir_list)\n"
   ]
  },
  {
   "cell_type": "code",
   "execution_count": 3,
   "metadata": {},
   "outputs": [],
   "source": [
    "# df=pd.DataFrame()\n",
    "# for f in dir_list:\n",
    "#     name, ext=os.path.splitext(f)\n",
    "#     if(ext=='.csv'):\n",
    "#         print(CSVpath+f)\n",
    "#         df_temp=pd.read_csv(CSVpath+f)\n",
    "#         df_temp.columns=lon_south.columns\n",
    "#         df_temp.index=lat_south.columns[:-1]\n",
    "#         df_temp=df_temp.unstack().reset_index()\n",
    "#         df_temp.columns=['Longitude','Latitude',name]\n",
    "#         #print(df1.head())\n",
    "#         #put it onto the main'\n",
    "#         df1=pd.DataFrame(data=df_temp.iloc[:,2:3])\n",
    "#         df1=df_temp.set_index([df_temp.columns[0],df_temp.columns[1]])\n",
    "        \n",
    "        \n",
    "#         df=pd.concat([df,df1], axis=1)\n",
    "df=pd.read_csv('InSAR_data_south/displacement/export_dataframe1.csv')\n",
    "\n"
   ]
  },
  {
   "cell_type": "code",
   "execution_count": null,
   "metadata": {},
   "outputs": [],
   "source": [
    "# Convert dates to year-months\n",
    "#df['Year-Month']= (pd.to_datetime(df['Date'], yearfirst=True)).dt.strftime('%Y-%m')\n",
    "df=df.set_index([df.columns[0],df.columns[1]])\n",
    "df.columns=pd.to_datetime(df.columns, format='%Y%m%d')\n",
    "dftest=df\n",
    "timestep=10\n",
    "#dftest\n"
   ]
  },
  {
   "cell_type": "code",
   "execution_count": null,
   "metadata": {},
   "outputs": [
    {
     "data": {
      "text/html": [
       "<div>\n",
       "<style scoped>\n",
       "    .dataframe tbody tr th:only-of-type {\n",
       "        vertical-align: middle;\n",
       "    }\n",
       "\n",
       "    .dataframe tbody tr th {\n",
       "        vertical-align: top;\n",
       "    }\n",
       "\n",
       "    .dataframe thead th {\n",
       "        text-align: right;\n",
       "    }\n",
       "</style>\n",
       "<table border=\"1\" class=\"dataframe\">\n",
       "  <thead>\n",
       "    <tr style=\"text-align: right;\">\n",
       "      <th></th>\n",
       "      <th></th>\n",
       "      <th>2014-11-08</th>\n",
       "      <th>2014-12-02</th>\n",
       "      <th>2014-12-26</th>\n",
       "      <th>2015-02-12</th>\n",
       "      <th>2015-03-08</th>\n",
       "      <th>2015-04-01</th>\n",
       "      <th>2015-04-25</th>\n",
       "      <th>2015-05-19</th>\n",
       "      <th>2015-06-12</th>\n",
       "      <th>2015-07-06</th>\n",
       "      <th>...</th>\n",
       "      <th>2018-10-18</th>\n",
       "      <th>2018-10-30</th>\n",
       "      <th>2018-11-11</th>\n",
       "      <th>2018-11-17</th>\n",
       "      <th>2018-11-23</th>\n",
       "      <th>2018-12-05</th>\n",
       "      <th>2018-12-17</th>\n",
       "      <th>2018-12-29</th>\n",
       "      <th>2019-01-10</th>\n",
       "      <th>2019-01-22</th>\n",
       "    </tr>\n",
       "    <tr>\n",
       "      <th>Longitude</th>\n",
       "      <th>Latitude</th>\n",
       "      <th></th>\n",
       "      <th></th>\n",
       "      <th></th>\n",
       "      <th></th>\n",
       "      <th></th>\n",
       "      <th></th>\n",
       "      <th></th>\n",
       "      <th></th>\n",
       "      <th></th>\n",
       "      <th></th>\n",
       "      <th></th>\n",
       "      <th></th>\n",
       "      <th></th>\n",
       "      <th></th>\n",
       "      <th></th>\n",
       "      <th></th>\n",
       "      <th></th>\n",
       "      <th></th>\n",
       "      <th></th>\n",
       "      <th></th>\n",
       "      <th></th>\n",
       "    </tr>\n",
       "  </thead>\n",
       "  <tbody>\n",
       "    <tr>\n",
       "      <th rowspan=\"5\" valign=\"top\">-120.9486</th>\n",
       "      <th>34.1347</th>\n",
       "      <td>NaN</td>\n",
       "      <td>NaN</td>\n",
       "      <td>NaN</td>\n",
       "      <td>NaN</td>\n",
       "      <td>NaN</td>\n",
       "      <td>NaN</td>\n",
       "      <td>NaN</td>\n",
       "      <td>NaN</td>\n",
       "      <td>NaN</td>\n",
       "      <td>NaN</td>\n",
       "      <td>...</td>\n",
       "      <td>NaN</td>\n",
       "      <td>NaN</td>\n",
       "      <td>NaN</td>\n",
       "      <td>NaN</td>\n",
       "      <td>NaN</td>\n",
       "      <td>NaN</td>\n",
       "      <td>NaN</td>\n",
       "      <td>NaN</td>\n",
       "      <td>NaN</td>\n",
       "      <td>NaN</td>\n",
       "    </tr>\n",
       "    <tr>\n",
       "      <th>34.1367</th>\n",
       "      <td>NaN</td>\n",
       "      <td>NaN</td>\n",
       "      <td>NaN</td>\n",
       "      <td>NaN</td>\n",
       "      <td>NaN</td>\n",
       "      <td>NaN</td>\n",
       "      <td>NaN</td>\n",
       "      <td>NaN</td>\n",
       "      <td>NaN</td>\n",
       "      <td>NaN</td>\n",
       "      <td>...</td>\n",
       "      <td>NaN</td>\n",
       "      <td>NaN</td>\n",
       "      <td>NaN</td>\n",
       "      <td>NaN</td>\n",
       "      <td>NaN</td>\n",
       "      <td>NaN</td>\n",
       "      <td>NaN</td>\n",
       "      <td>NaN</td>\n",
       "      <td>NaN</td>\n",
       "      <td>NaN</td>\n",
       "    </tr>\n",
       "    <tr>\n",
       "      <th>34.1387</th>\n",
       "      <td>NaN</td>\n",
       "      <td>NaN</td>\n",
       "      <td>NaN</td>\n",
       "      <td>NaN</td>\n",
       "      <td>NaN</td>\n",
       "      <td>NaN</td>\n",
       "      <td>NaN</td>\n",
       "      <td>NaN</td>\n",
       "      <td>NaN</td>\n",
       "      <td>NaN</td>\n",
       "      <td>...</td>\n",
       "      <td>NaN</td>\n",
       "      <td>NaN</td>\n",
       "      <td>NaN</td>\n",
       "      <td>NaN</td>\n",
       "      <td>NaN</td>\n",
       "      <td>NaN</td>\n",
       "      <td>NaN</td>\n",
       "      <td>NaN</td>\n",
       "      <td>NaN</td>\n",
       "      <td>NaN</td>\n",
       "    </tr>\n",
       "    <tr>\n",
       "      <th>34.1407</th>\n",
       "      <td>NaN</td>\n",
       "      <td>NaN</td>\n",
       "      <td>NaN</td>\n",
       "      <td>NaN</td>\n",
       "      <td>NaN</td>\n",
       "      <td>NaN</td>\n",
       "      <td>NaN</td>\n",
       "      <td>NaN</td>\n",
       "      <td>NaN</td>\n",
       "      <td>NaN</td>\n",
       "      <td>...</td>\n",
       "      <td>NaN</td>\n",
       "      <td>NaN</td>\n",
       "      <td>NaN</td>\n",
       "      <td>NaN</td>\n",
       "      <td>NaN</td>\n",
       "      <td>NaN</td>\n",
       "      <td>NaN</td>\n",
       "      <td>NaN</td>\n",
       "      <td>NaN</td>\n",
       "      <td>NaN</td>\n",
       "    </tr>\n",
       "    <tr>\n",
       "      <th>34.1427</th>\n",
       "      <td>NaN</td>\n",
       "      <td>NaN</td>\n",
       "      <td>NaN</td>\n",
       "      <td>NaN</td>\n",
       "      <td>NaN</td>\n",
       "      <td>NaN</td>\n",
       "      <td>NaN</td>\n",
       "      <td>NaN</td>\n",
       "      <td>NaN</td>\n",
       "      <td>NaN</td>\n",
       "      <td>...</td>\n",
       "      <td>NaN</td>\n",
       "      <td>NaN</td>\n",
       "      <td>NaN</td>\n",
       "      <td>NaN</td>\n",
       "      <td>NaN</td>\n",
       "      <td>NaN</td>\n",
       "      <td>NaN</td>\n",
       "      <td>NaN</td>\n",
       "      <td>NaN</td>\n",
       "      <td>NaN</td>\n",
       "    </tr>\n",
       "    <tr>\n",
       "      <th>...</th>\n",
       "      <th>...</th>\n",
       "      <td>...</td>\n",
       "      <td>...</td>\n",
       "      <td>...</td>\n",
       "      <td>...</td>\n",
       "      <td>...</td>\n",
       "      <td>...</td>\n",
       "      <td>...</td>\n",
       "      <td>...</td>\n",
       "      <td>...</td>\n",
       "      <td>...</td>\n",
       "      <td>...</td>\n",
       "      <td>...</td>\n",
       "      <td>...</td>\n",
       "      <td>...</td>\n",
       "      <td>...</td>\n",
       "      <td>...</td>\n",
       "      <td>...</td>\n",
       "      <td>...</td>\n",
       "      <td>...</td>\n",
       "      <td>...</td>\n",
       "      <td>...</td>\n",
       "    </tr>\n",
       "    <tr>\n",
       "      <th rowspan=\"5\" valign=\"top\">-117.6414</th>\n",
       "      <th>37.6236</th>\n",
       "      <td>0.0</td>\n",
       "      <td>4.8278</td>\n",
       "      <td>-1.3065</td>\n",
       "      <td>NaN</td>\n",
       "      <td>-4.1515</td>\n",
       "      <td>-1.9999</td>\n",
       "      <td>9.9914</td>\n",
       "      <td>-3.1055</td>\n",
       "      <td>-0.32799</td>\n",
       "      <td>6.9899</td>\n",
       "      <td>...</td>\n",
       "      <td>8.5800</td>\n",
       "      <td>11.341</td>\n",
       "      <td>5.5704</td>\n",
       "      <td>7.6113</td>\n",
       "      <td>17.002</td>\n",
       "      <td>9.6014</td>\n",
       "      <td>16.436</td>\n",
       "      <td>8.5234</td>\n",
       "      <td>11.904</td>\n",
       "      <td>8.8353</td>\n",
       "    </tr>\n",
       "    <tr>\n",
       "      <th>37.6256</th>\n",
       "      <td>0.0</td>\n",
       "      <td>4.8698</td>\n",
       "      <td>-1.2137</td>\n",
       "      <td>NaN</td>\n",
       "      <td>-4.1588</td>\n",
       "      <td>-1.7372</td>\n",
       "      <td>10.4130</td>\n",
       "      <td>-2.9584</td>\n",
       "      <td>-0.33838</td>\n",
       "      <td>7.3402</td>\n",
       "      <td>...</td>\n",
       "      <td>9.2515</td>\n",
       "      <td>11.996</td>\n",
       "      <td>6.0621</td>\n",
       "      <td>8.2387</td>\n",
       "      <td>17.526</td>\n",
       "      <td>9.5942</td>\n",
       "      <td>16.724</td>\n",
       "      <td>8.2348</td>\n",
       "      <td>11.630</td>\n",
       "      <td>8.3278</td>\n",
       "    </tr>\n",
       "    <tr>\n",
       "      <th>37.6276</th>\n",
       "      <td>0.0</td>\n",
       "      <td>4.8693</td>\n",
       "      <td>-1.1893</td>\n",
       "      <td>NaN</td>\n",
       "      <td>-4.1632</td>\n",
       "      <td>-1.7107</td>\n",
       "      <td>10.4830</td>\n",
       "      <td>-2.9318</td>\n",
       "      <td>-0.34454</td>\n",
       "      <td>7.3978</td>\n",
       "      <td>...</td>\n",
       "      <td>8.8321</td>\n",
       "      <td>11.570</td>\n",
       "      <td>5.5897</td>\n",
       "      <td>7.8226</td>\n",
       "      <td>17.066</td>\n",
       "      <td>9.2927</td>\n",
       "      <td>16.641</td>\n",
       "      <td>8.2757</td>\n",
       "      <td>11.790</td>\n",
       "      <td>8.3947</td>\n",
       "    </tr>\n",
       "    <tr>\n",
       "      <th>37.6296</th>\n",
       "      <td>0.0</td>\n",
       "      <td>4.8277</td>\n",
       "      <td>-1.1906</td>\n",
       "      <td>NaN</td>\n",
       "      <td>-4.1240</td>\n",
       "      <td>-1.8949</td>\n",
       "      <td>10.1870</td>\n",
       "      <td>-3.0179</td>\n",
       "      <td>-0.31614</td>\n",
       "      <td>7.1245</td>\n",
       "      <td>...</td>\n",
       "      <td>10.3320</td>\n",
       "      <td>13.073</td>\n",
       "      <td>7.2137</td>\n",
       "      <td>9.3699</td>\n",
       "      <td>18.582</td>\n",
       "      <td>10.8610</td>\n",
       "      <td>17.917</td>\n",
       "      <td>9.8912</td>\n",
       "      <td>13.381</td>\n",
       "      <td>10.2190</td>\n",
       "    </tr>\n",
       "    <tr>\n",
       "      <th>37.6316</th>\n",
       "      <td>0.0</td>\n",
       "      <td>4.8729</td>\n",
       "      <td>-1.1200</td>\n",
       "      <td>NaN</td>\n",
       "      <td>-4.1457</td>\n",
       "      <td>-1.7033</td>\n",
       "      <td>10.5180</td>\n",
       "      <td>-2.9269</td>\n",
       "      <td>-0.33153</td>\n",
       "      <td>7.3839</td>\n",
       "      <td>...</td>\n",
       "      <td>9.3376</td>\n",
       "      <td>12.053</td>\n",
       "      <td>6.0863</td>\n",
       "      <td>8.3323</td>\n",
       "      <td>17.499</td>\n",
       "      <td>9.8190</td>\n",
       "      <td>16.839</td>\n",
       "      <td>8.8137</td>\n",
       "      <td>12.215</td>\n",
       "      <td>8.8725</td>\n",
       "    </tr>\n",
       "  </tbody>\n",
       "</table>\n",
       "<p>2894595 rows × 110 columns</p>\n",
       "</div>"
      ],
      "text/plain": [
       "                    2014-11-08  2014-12-02  2014-12-26  2015-02-12  \\\n",
       "Longitude Latitude                                                   \n",
       "-120.9486 34.1347          NaN         NaN         NaN         NaN   \n",
       "          34.1367          NaN         NaN         NaN         NaN   \n",
       "          34.1387          NaN         NaN         NaN         NaN   \n",
       "          34.1407          NaN         NaN         NaN         NaN   \n",
       "          34.1427          NaN         NaN         NaN         NaN   \n",
       "...                        ...         ...         ...         ...   \n",
       "-117.6414 37.6236          0.0      4.8278     -1.3065         NaN   \n",
       "          37.6256          0.0      4.8698     -1.2137         NaN   \n",
       "          37.6276          0.0      4.8693     -1.1893         NaN   \n",
       "          37.6296          0.0      4.8277     -1.1906         NaN   \n",
       "          37.6316          0.0      4.8729     -1.1200         NaN   \n",
       "\n",
       "                    2015-03-08  2015-04-01  2015-04-25  2015-05-19  \\\n",
       "Longitude Latitude                                                   \n",
       "-120.9486 34.1347          NaN         NaN         NaN         NaN   \n",
       "          34.1367          NaN         NaN         NaN         NaN   \n",
       "          34.1387          NaN         NaN         NaN         NaN   \n",
       "          34.1407          NaN         NaN         NaN         NaN   \n",
       "          34.1427          NaN         NaN         NaN         NaN   \n",
       "...                        ...         ...         ...         ...   \n",
       "-117.6414 37.6236      -4.1515     -1.9999      9.9914     -3.1055   \n",
       "          37.6256      -4.1588     -1.7372     10.4130     -2.9584   \n",
       "          37.6276      -4.1632     -1.7107     10.4830     -2.9318   \n",
       "          37.6296      -4.1240     -1.8949     10.1870     -3.0179   \n",
       "          37.6316      -4.1457     -1.7033     10.5180     -2.9269   \n",
       "\n",
       "                    2015-06-12  2015-07-06  ...  2018-10-18  2018-10-30  \\\n",
       "Longitude Latitude                          ...                           \n",
       "-120.9486 34.1347          NaN         NaN  ...         NaN         NaN   \n",
       "          34.1367          NaN         NaN  ...         NaN         NaN   \n",
       "          34.1387          NaN         NaN  ...         NaN         NaN   \n",
       "          34.1407          NaN         NaN  ...         NaN         NaN   \n",
       "          34.1427          NaN         NaN  ...         NaN         NaN   \n",
       "...                        ...         ...  ...         ...         ...   \n",
       "-117.6414 37.6236     -0.32799      6.9899  ...      8.5800      11.341   \n",
       "          37.6256     -0.33838      7.3402  ...      9.2515      11.996   \n",
       "          37.6276     -0.34454      7.3978  ...      8.8321      11.570   \n",
       "          37.6296     -0.31614      7.1245  ...     10.3320      13.073   \n",
       "          37.6316     -0.33153      7.3839  ...      9.3376      12.053   \n",
       "\n",
       "                    2018-11-11  2018-11-17  2018-11-23  2018-12-05  \\\n",
       "Longitude Latitude                                                   \n",
       "-120.9486 34.1347          NaN         NaN         NaN         NaN   \n",
       "          34.1367          NaN         NaN         NaN         NaN   \n",
       "          34.1387          NaN         NaN         NaN         NaN   \n",
       "          34.1407          NaN         NaN         NaN         NaN   \n",
       "          34.1427          NaN         NaN         NaN         NaN   \n",
       "...                        ...         ...         ...         ...   \n",
       "-117.6414 37.6236       5.5704      7.6113      17.002      9.6014   \n",
       "          37.6256       6.0621      8.2387      17.526      9.5942   \n",
       "          37.6276       5.5897      7.8226      17.066      9.2927   \n",
       "          37.6296       7.2137      9.3699      18.582     10.8610   \n",
       "          37.6316       6.0863      8.3323      17.499      9.8190   \n",
       "\n",
       "                    2018-12-17  2018-12-29  2019-01-10  2019-01-22  \n",
       "Longitude Latitude                                                  \n",
       "-120.9486 34.1347          NaN         NaN         NaN         NaN  \n",
       "          34.1367          NaN         NaN         NaN         NaN  \n",
       "          34.1387          NaN         NaN         NaN         NaN  \n",
       "          34.1407          NaN         NaN         NaN         NaN  \n",
       "          34.1427          NaN         NaN         NaN         NaN  \n",
       "...                        ...         ...         ...         ...  \n",
       "-117.6414 37.6236       16.436      8.5234      11.904      8.8353  \n",
       "          37.6256       16.724      8.2348      11.630      8.3278  \n",
       "          37.6276       16.641      8.2757      11.790      8.3947  \n",
       "          37.6296       17.917      9.8912      13.381     10.2190  \n",
       "          37.6316       16.839      8.8137      12.215      8.8725  \n",
       "\n",
       "[2894595 rows x 110 columns]"
      ]
     },
     "execution_count": 8,
     "metadata": {},
     "output_type": "execute_result"
    }
   ],
   "source": [
    "df"
   ]
  },
  {
   "cell_type": "code",
   "execution_count": null,
   "metadata": {},
   "outputs": [
    {
     "data": {
      "text/html": [
       "<div>\n",
       "<style scoped>\n",
       "    .dataframe tbody tr th:only-of-type {\n",
       "        vertical-align: middle;\n",
       "    }\n",
       "\n",
       "    .dataframe tbody tr th {\n",
       "        vertical-align: top;\n",
       "    }\n",
       "\n",
       "    .dataframe thead th {\n",
       "        text-align: right;\n",
       "    }\n",
       "</style>\n",
       "<table border=\"1\" class=\"dataframe\">\n",
       "  <thead>\n",
       "    <tr style=\"text-align: right;\">\n",
       "      <th></th>\n",
       "      <th></th>\n",
       "      <th>2014-11-08</th>\n",
       "      <th>2014-12-02</th>\n",
       "      <th>2014-12-26</th>\n",
       "      <th>2015-02-12</th>\n",
       "      <th>2015-03-08</th>\n",
       "      <th>2015-04-01</th>\n",
       "      <th>2015-04-25</th>\n",
       "      <th>2015-05-19</th>\n",
       "      <th>2015-06-12</th>\n",
       "      <th>2015-07-06</th>\n",
       "      <th>...</th>\n",
       "      <th>2018-10-18</th>\n",
       "      <th>2018-10-30</th>\n",
       "      <th>2018-11-11</th>\n",
       "      <th>2018-11-17</th>\n",
       "      <th>2018-11-23</th>\n",
       "      <th>2018-12-05</th>\n",
       "      <th>2018-12-17</th>\n",
       "      <th>2018-12-29</th>\n",
       "      <th>2019-01-10</th>\n",
       "      <th>2019-01-22</th>\n",
       "    </tr>\n",
       "    <tr>\n",
       "      <th>Longitude</th>\n",
       "      <th>Latitude</th>\n",
       "      <th></th>\n",
       "      <th></th>\n",
       "      <th></th>\n",
       "      <th></th>\n",
       "      <th></th>\n",
       "      <th></th>\n",
       "      <th></th>\n",
       "      <th></th>\n",
       "      <th></th>\n",
       "      <th></th>\n",
       "      <th></th>\n",
       "      <th></th>\n",
       "      <th></th>\n",
       "      <th></th>\n",
       "      <th></th>\n",
       "      <th></th>\n",
       "      <th></th>\n",
       "      <th></th>\n",
       "      <th></th>\n",
       "      <th></th>\n",
       "      <th></th>\n",
       "    </tr>\n",
       "  </thead>\n",
       "  <tbody>\n",
       "    <tr>\n",
       "      <th>-117.6414</th>\n",
       "      <th>37.6236</th>\n",
       "      <td>0.0</td>\n",
       "      <td>4.8278</td>\n",
       "      <td>-1.3065</td>\n",
       "      <td>NaN</td>\n",
       "      <td>-4.1515</td>\n",
       "      <td>-1.9999</td>\n",
       "      <td>9.9914</td>\n",
       "      <td>-3.1055</td>\n",
       "      <td>-0.32799</td>\n",
       "      <td>6.9899</td>\n",
       "      <td>...</td>\n",
       "      <td>8.58</td>\n",
       "      <td>11.341</td>\n",
       "      <td>5.5704</td>\n",
       "      <td>7.6113</td>\n",
       "      <td>17.002</td>\n",
       "      <td>9.6014</td>\n",
       "      <td>16.436</td>\n",
       "      <td>8.5234</td>\n",
       "      <td>11.904</td>\n",
       "      <td>8.8353</td>\n",
       "    </tr>\n",
       "  </tbody>\n",
       "</table>\n",
       "<p>1 rows × 110 columns</p>\n",
       "</div>"
      ],
      "text/plain": [
       "                    2014-11-08  2014-12-02  2014-12-26  2015-02-12  \\\n",
       "Longitude Latitude                                                   \n",
       "-117.6414 37.6236          0.0      4.8278     -1.3065         NaN   \n",
       "\n",
       "                    2015-03-08  2015-04-01  2015-04-25  2015-05-19  \\\n",
       "Longitude Latitude                                                   \n",
       "-117.6414 37.6236      -4.1515     -1.9999      9.9914     -3.1055   \n",
       "\n",
       "                    2015-06-12  2015-07-06  ...  2018-10-18  2018-10-30  \\\n",
       "Longitude Latitude                          ...                           \n",
       "-117.6414 37.6236     -0.32799      6.9899  ...        8.58      11.341   \n",
       "\n",
       "                    2018-11-11  2018-11-17  2018-11-23  2018-12-05  \\\n",
       "Longitude Latitude                                                   \n",
       "-117.6414 37.6236       5.5704      7.6113      17.002      9.6014   \n",
       "\n",
       "                    2018-12-17  2018-12-29  2019-01-10  2019-01-22  \n",
       "Longitude Latitude                                                  \n",
       "-117.6414 37.6236       16.436      8.5234      11.904      8.8353  \n",
       "\n",
       "[1 rows x 110 columns]"
      ]
     },
     "execution_count": 9,
     "metadata": {},
     "output_type": "execute_result"
    }
   ],
   "source": [
    "df.query(\"Longitude==-117.6414 and Latitude==37.6236\")\n",
    "# print(dftest.query('20141108'))\n",
    "#df   "
   ]
  },
  {
   "cell_type": "code",
   "execution_count": null,
   "metadata": {},
   "outputs": [
    {
     "name": "stdout",
     "output_type": "stream",
     "text": [
      "2014-11-08     0.00000\n",
      "2014-12-02    -3.36350\n",
      "2014-12-26     0.42874\n",
      "2015-02-12    -1.01440\n",
      "2015-03-08    -2.36540\n",
      "                ...   \n",
      "2018-12-05   -53.69200\n",
      "2018-12-17   -52.64300\n",
      "2018-12-29   -52.08600\n",
      "2019-01-10   -53.30100\n",
      "2019-01-22   -52.87800\n",
      "Name: (-119.299, 35.8852), Length: 110, dtype: float64\n"
     ]
    }
   ],
   "source": [
    "tup=(-119.2990,35.8852)\n",
    "print(dftest.loc[tup])"
   ]
  },
  {
   "cell_type": "code",
   "execution_count": null,
   "metadata": {},
   "outputs": [],
   "source": [
    "def shaping(datain, timestep):\n",
    "    \n",
    "    # Convert input dataframe to array and flatten\n",
    "    arr=datain.to_numpy().flatten() \n",
    "    #print(arr)\n",
    "    cnt=0\n",
    "    for mth in range(0, len(datain.columns)-(2*timestep)+1): # Define range lenght of the dates - 2* amount of timesep?? +1\n",
    "        cnt=cnt+1 # Gives us the number of samples. Later used to reshape the data\n",
    "        X_start=mth # Start month for inputs of each sample\n",
    "        X_end=mth+timestep # End month for inputs of each sample\n",
    "        Y_start=mth+timestep # Start month for targets of each sample. Note, start is inclusive and end is exclusive, that's why X_end and Y_start is the same number\n",
    "        Y_end=mth+2*timestep # End month for targets of each sample.  \n",
    "        \n",
    "        # Assemble input and target arrays containing all samples\n",
    "        if mth==0:\n",
    "            X_comb=arr[X_start:X_end]\n",
    "            Y_comb=arr[Y_start:Y_end]\n",
    "        else: \n",
    "            X_comb=np.append(X_comb, arr[X_start:X_end])\n",
    "            Y_comb=np.append(Y_comb, arr[Y_start:Y_end])\n",
    "    \n",
    "    # Reshape input and target arrays\n",
    "    X_out=np.reshape(X_comb, (cnt, timestep, 1))\n",
    "    Y_out=np.reshape(Y_comb, (cnt, timestep, 1))\n",
    "    return X_out, Y_out"
   ]
  },
  {
   "cell_type": "code",
   "execution_count": null,
   "metadata": {},
   "outputs": [
    {
     "name": "stdout",
     "output_type": "stream",
     "text": [
      "DatetimeIndex(['2018-02-20', '2018-03-04', '2018-03-16', '2018-03-28',\n",
      "               '2018-04-09', '2018-04-21', '2018-05-03', '2018-05-15',\n",
      "               '2018-05-27', '2018-06-08', '2018-06-20', '2018-07-02',\n",
      "               '2018-07-14', '2018-07-26', '2018-08-07', '2018-08-19',\n",
      "               '2018-08-31', '2018-09-12', '2018-09-24', '2018-10-06',\n",
      "               '2018-10-18', '2018-10-30', '2018-11-11', '2018-11-17',\n",
      "               '2018-11-23', '2018-12-05', '2018-12-17', '2018-12-29',\n",
      "               '2019-01-10', '2019-01-22'],\n",
      "              dtype='datetime64[ns]', freq=None)\n"
     ]
    }
   ],
   "source": [
    "##### Step 2 - Prepare data\n",
    "\n",
    "# Split data into train and test dataframes\n",
    "df_train=dftest.iloc[:, :80].copy()\n",
    "df_test=dftest.iloc[:, 80:110].copy()\n",
    "#pick a location to test\n",
    "df_train = df_train[df_train.index==tup].copy()\n",
    "df_test = df_test[df_test.index==tup].copy()\n",
    "\n",
    "print(df_test.columns)\n",
    "#print(df_test)\n",
    "#df_train.columns=['Date','Disp']\n",
    "#df_test.columns=['Date','Disp']\n",
    "\n",
    "\n",
    "# # Split data into train and test dataframes\n",
    "# df_train=df2_pivot.iloc[:, 0:-2*timestep].copy()\n",
    "# df_test=df2_pivot.iloc[:, -2*timestep:].copy()\n",
    "\n",
    "# # Select one location\n",
    "# dfloc_train = df_train[df_train.index==location].copy()\n",
    "# dfloc_test = df_test[df_test.index==location].copy()\n",
    "# #print(df_test.columns)\n",
    "# Select one location\n",
    "#dfloc_train = df_train[df_train.index==location].copy()\n",
    "#dfloc_test = df_test[df_test.index==location].copy()\n",
    "\n",
    "# Use previously defined shaping function to reshape the data for LSTM\n",
    "\n",
    "X_train, Y_train = shaping(datain=df_train, timestep= timestep)\n",
    "X_test, Y_test = shaping(datain=df_test, timestep=timestep)"
   ]
  },
  {
   "cell_type": "code",
   "execution_count": null,
   "metadata": {},
   "outputs": [
    {
     "name": "stdout",
     "output_type": "stream",
     "text": [
      "Ytrain: 1\n"
     ]
    }
   ],
   "source": [
    "#print(\"dftrain:\", df_train)\n",
    "\n",
    "#print(\"dftest:\", df_test)\n",
    "\n",
    "#print(\"Xtrain:\", X_train)\n",
    "\n",
    "print(\"Ytrain:\", Y_train.shape[2])\n",
    "\n",
    "#print(\"Xtrain:\", X_train.size)"
   ]
  },
  {
   "cell_type": "code",
   "execution_count": null,
   "metadata": {},
   "outputs": [],
   "source": [
    "##### Step 3 - Specify the structure of a Neural Network\n",
    "model = Sequential(name=\"LSTM-Model\") # Model\n",
    "model.add(Input(shape=(X_train.shape[1],X_train.shape[2]), name='Input-Layer')) # Input Layer - need to speicfy the shape of inputs\n",
    "model.add(Bidirectional(LSTM(units=32, activation='tanh', recurrent_activation='sigmoid', stateful=False), name='Hidden-LSTM-Encoder-Layer')) # Encoder Layer\n",
    "model.add(RepeatVector(Y_train.shape[1], name='Repeat-Vector-Layer')) # Repeat Vector\n",
    "model.add(Bidirectional(LSTM(units=32, activation='tanh', recurrent_activation='sigmoid', stateful=False, return_sequences=True), name='Hidden-LSTM-Decoder-Layer')) # Decoder Layer\n",
    "model.add(TimeDistributed(Dense(units=1, activation='linear'), name='Output-Layer')) # Output Layer, Linear(x) = x\n",
    "\n"
   ]
  },
  {
   "cell_type": "code",
   "execution_count": null,
   "metadata": {},
   "outputs": [],
   "source": [
    "##### Step 4 - Compile the model\n",
    "model.compile(optimizer='adam', # default='rmsprop', an algorithm to be used in backpropagation\n",
    "              loss='mean_squared_error', # Loss function to be optimized. A string (name of loss function), or a tf.keras.losses.Loss instance.\n",
    "              metrics=['MeanSquaredError', 'MeanAbsoluteError'], # List of metrics to be evaluated by the model during training and testing. Each of this can be a string (name of a built-in function), function or a tf.keras.metrics.Metric instance. \n",
    "              loss_weights=None, # default=None, Optional list or dictionary specifying scalar coefficients (Python floats) to weight the loss contributions of different model outputs.\n",
    "              weighted_metrics=None, # default=None, List of metrics to be evaluated and weighted by sample_weight or class_weight during training and testing.\n",
    "              run_eagerly=None, # Defaults to False. If True, this Model's logic will not be wrapped in a tf.function. Recommended to leave this as None unless your Model cannot be run inside a tf.function.\n",
    "              steps_per_execution=None # Defaults to 1. The number of batches to run during each tf.function call. Running multiple batches inside a single tf.function call can greatly improve performance on TPUs or small models with a large Python overhead.\n",
    "             )"
   ]
  },
  {
   "cell_type": "code",
   "execution_count": null,
   "metadata": {},
   "outputs": [
    {
     "name": "stdout",
     "output_type": "stream",
     "text": [
      "Epoch 1/7000\n",
      "2/2 [==============================] - 7s 13ms/step - loss: 865.8740 - mean_squared_error: 865.8740 - mean_absolute_error: 28.4611\n",
      "Epoch 2/7000\n",
      "2/2 [==============================] - 0s 12ms/step - loss: 843.7627 - mean_squared_error: 843.7627 - mean_absolute_error: 28.0596\n",
      "Epoch 3/7000\n",
      "2/2 [==============================] - 0s 12ms/step - loss: 821.9741 - mean_squared_error: 821.9742 - mean_absolute_error: 27.6632\n",
      "Epoch 4/7000\n",
      "2/2 [==============================] - 0s 11ms/step - loss: 800.4485 - mean_squared_error: 800.4484 - mean_absolute_error: 27.2711\n",
      "Epoch 5/7000\n",
      "2/2 [==============================] - 0s 12ms/step - loss: 779.0364 - mean_squared_error: 779.0364 - mean_absolute_error: 26.8742\n",
      "Epoch 6/7000\n",
      "2/2 [==============================] - 0s 11ms/step - loss: 757.5830 - mean_squared_error: 757.5830 - mean_absolute_error: 26.4703\n",
      "Epoch 7/7000\n",
      "2/2 [==============================] - 0s 11ms/step - loss: 736.3320 - mean_squared_error: 736.3320 - mean_absolute_error: 26.0560\n",
      "Epoch 8/7000\n",
      "2/2 [==============================] - 0s 12ms/step - loss: 714.7354 - mean_squared_error: 714.7353 - mean_absolute_error: 25.6346\n",
      "Epoch 9/7000\n",
      "2/2 [==============================] - 0s 14ms/step - loss: 693.2477 - mean_squared_error: 693.2477 - mean_absolute_error: 25.2090\n",
      "Epoch 10/7000\n",
      "2/2 [==============================] - 0s 12ms/step - loss: 672.3961 - mean_squared_error: 672.3961 - mean_absolute_error: 24.7832\n",
      "Epoch 11/7000\n",
      "2/2 [==============================] - 0s 12ms/step - loss: 651.8060 - mean_squared_error: 651.8060 - mean_absolute_error: 24.3623\n",
      "Epoch 12/7000\n",
      "2/2 [==============================] - 0s 15ms/step - loss: 631.8658 - mean_squared_error: 631.8658 - mean_absolute_error: 23.9517\n",
      "Epoch 13/7000\n",
      "2/2 [==============================] - 0s 11ms/step - loss: 612.6229 - mean_squared_error: 612.6229 - mean_absolute_error: 23.5390\n",
      "Epoch 14/7000\n",
      "2/2 [==============================] - 0s 12ms/step - loss: 593.3329 - mean_squared_error: 593.3329 - mean_absolute_error: 23.1246\n",
      "Epoch 15/7000\n",
      "2/2 [==============================] - 0s 13ms/step - loss: 574.6028 - mean_squared_error: 574.6028 - mean_absolute_error: 22.7088\n",
      "Epoch 16/7000\n",
      "2/2 [==============================] - 0s 11ms/step - loss: 555.3994 - mean_squared_error: 555.3994 - mean_absolute_error: 22.2913\n",
      "Epoch 17/7000\n",
      "2/2 [==============================] - 0s 11ms/step - loss: 537.6118 - mean_squared_error: 537.6119 - mean_absolute_error: 21.8698\n",
      "Epoch 18/7000\n",
      "2/2 [==============================] - 0s 12ms/step - loss: 518.9497 - mean_squared_error: 518.9497 - mean_absolute_error: 21.4488\n",
      "Epoch 19/7000\n",
      "2/2 [==============================] - 0s 12ms/step - loss: 501.2638 - mean_squared_error: 501.2638 - mean_absolute_error: 21.0326\n",
      "Epoch 20/7000\n",
      "2/2 [==============================] - 0s 12ms/step - loss: 484.3781 - mean_squared_error: 484.3781 - mean_absolute_error: 20.6239\n",
      "Epoch 21/7000\n",
      "2/2 [==============================] - 0s 11ms/step - loss: 467.5526 - mean_squared_error: 467.5526 - mean_absolute_error: 20.2263\n",
      "Epoch 22/7000\n",
      "2/2 [==============================] - 0s 12ms/step - loss: 452.5475 - mean_squared_error: 452.5475 - mean_absolute_error: 19.8414\n",
      "Epoch 23/7000\n",
      "2/2 [==============================] - 0s 13ms/step - loss: 437.7117 - mean_squared_error: 437.7117 - mean_absolute_error: 19.4689\n",
      "Epoch 24/7000\n",
      "2/2 [==============================] - 0s 12ms/step - loss: 423.9044 - mean_squared_error: 423.9044 - mean_absolute_error: 19.1111\n",
      "Epoch 25/7000\n",
      "2/2 [==============================] - 0s 11ms/step - loss: 410.7340 - mean_squared_error: 410.7340 - mean_absolute_error: 18.7687\n",
      "Epoch 26/7000\n",
      "2/2 [==============================] - 0s 12ms/step - loss: 398.7467 - mean_squared_error: 398.7467 - mean_absolute_error: 18.4420\n",
      "Epoch 27/7000\n",
      "2/2 [==============================] - 0s 12ms/step - loss: 386.8041 - mean_squared_error: 386.8041 - mean_absolute_error: 18.1322\n",
      "Epoch 28/7000\n",
      "2/2 [==============================] - 0s 12ms/step - loss: 376.4430 - mean_squared_error: 376.4430 - mean_absolute_error: 17.8399\n",
      "Epoch 29/7000\n",
      "2/2 [==============================] - 0s 11ms/step - loss: 366.1136 - mean_squared_error: 366.1136 - mean_absolute_error: 17.5614\n",
      "Epoch 30/7000\n",
      "2/2 [==============================] - 0s 11ms/step - loss: 357.2905 - mean_squared_error: 357.2905 - mean_absolute_error: 17.2987\n",
      "Epoch 31/7000\n",
      "2/2 [==============================] - 0s 12ms/step - loss: 348.3381 - mean_squared_error: 348.3381 - mean_absolute_error: 17.0480\n",
      "Epoch 32/7000\n",
      "2/2 [==============================] - 0s 12ms/step - loss: 340.2018 - mean_squared_error: 340.2018 - mean_absolute_error: 16.8113\n",
      "Epoch 33/7000\n",
      "2/2 [==============================] - 0s 12ms/step - loss: 332.8675 - mean_squared_error: 332.8675 - mean_absolute_error: 16.5864\n",
      "Epoch 34/7000\n",
      "2/2 [==============================] - 0s 14ms/step - loss: 325.3803 - mean_squared_error: 325.3803 - mean_absolute_error: 16.3721\n",
      "Epoch 35/7000\n",
      "2/2 [==============================] - 0s 12ms/step - loss: 318.6781 - mean_squared_error: 318.6781 - mean_absolute_error: 16.1692\n",
      "Epoch 36/7000\n",
      "2/2 [==============================] - 0s 12ms/step - loss: 312.2366 - mean_squared_error: 312.2366 - mean_absolute_error: 15.9737\n",
      "Epoch 37/7000\n",
      "2/2 [==============================] - 0s 12ms/step - loss: 306.3534 - mean_squared_error: 306.3534 - mean_absolute_error: 15.7854\n",
      "Epoch 38/7000\n",
      "2/2 [==============================] - 0s 11ms/step - loss: 300.4909 - mean_squared_error: 300.4909 - mean_absolute_error: 15.6029\n",
      "Epoch 39/7000\n",
      "2/2 [==============================] - 0s 12ms/step - loss: 294.9137 - mean_squared_error: 294.9137 - mean_absolute_error: 15.4260\n",
      "Epoch 40/7000\n",
      "2/2 [==============================] - 0s 11ms/step - loss: 289.7770 - mean_squared_error: 289.7770 - mean_absolute_error: 15.2544\n",
      "Epoch 41/7000\n",
      "2/2 [==============================] - 0s 11ms/step - loss: 284.4576 - mean_squared_error: 284.4576 - mean_absolute_error: 15.0873\n",
      "Epoch 42/7000\n",
      "2/2 [==============================] - 0s 12ms/step - loss: 279.5623 - mean_squared_error: 279.5624 - mean_absolute_error: 14.9254\n",
      "Epoch 43/7000\n",
      "2/2 [==============================] - 0s 11ms/step - loss: 274.7303 - mean_squared_error: 274.7303 - mean_absolute_error: 14.7665\n",
      "Epoch 44/7000\n",
      "2/2 [==============================] - 0s 11ms/step - loss: 270.1909 - mean_squared_error: 270.1909 - mean_absolute_error: 14.6120\n",
      "Epoch 45/7000\n",
      "2/2 [==============================] - 0s 13ms/step - loss: 265.6497 - mean_squared_error: 265.6497 - mean_absolute_error: 14.4604\n",
      "Epoch 46/7000\n",
      "2/2 [==============================] - 0s 13ms/step - loss: 261.3721 - mean_squared_error: 261.3721 - mean_absolute_error: 14.3121\n",
      "Epoch 47/7000\n",
      "2/2 [==============================] - 0s 11ms/step - loss: 257.2320 - mean_squared_error: 257.2320 - mean_absolute_error: 14.1682\n",
      "Epoch 48/7000\n",
      "2/2 [==============================] - 0s 12ms/step - loss: 253.0861 - mean_squared_error: 253.0861 - mean_absolute_error: 14.0267\n",
      "Epoch 49/7000\n",
      "2/2 [==============================] - 0s 11ms/step - loss: 249.1745 - mean_squared_error: 249.1745 - mean_absolute_error: 13.8874\n",
      "Epoch 50/7000\n",
      "2/2 [==============================] - 0s 12ms/step - loss: 245.3252 - mean_squared_error: 245.3252 - mean_absolute_error: 13.7506\n",
      "Epoch 51/7000\n",
      "2/2 [==============================] - 0s 12ms/step - loss: 241.6841 - mean_squared_error: 241.6841 - mean_absolute_error: 13.6180\n",
      "Epoch 52/7000\n",
      "2/2 [==============================] - 0s 12ms/step - loss: 237.9580 - mean_squared_error: 237.9580 - mean_absolute_error: 13.4885\n",
      "Epoch 53/7000\n",
      "2/2 [==============================] - 0s 12ms/step - loss: 234.4927 - mean_squared_error: 234.4927 - mean_absolute_error: 13.3600\n",
      "Epoch 54/7000\n",
      "2/2 [==============================] - 0s 12ms/step - loss: 230.9809 - mean_squared_error: 230.9809 - mean_absolute_error: 13.2336\n",
      "Epoch 55/7000\n",
      "2/2 [==============================] - 0s 12ms/step - loss: 227.5815 - mean_squared_error: 227.5815 - mean_absolute_error: 13.1090\n",
      "Epoch 56/7000\n",
      "2/2 [==============================] - 0s 13ms/step - loss: 224.2070 - mean_squared_error: 224.2070 - mean_absolute_error: 12.9868\n",
      "Epoch 57/7000\n",
      "2/2 [==============================] - 0s 12ms/step - loss: 220.9874 - mean_squared_error: 220.9874 - mean_absolute_error: 12.8656\n",
      "Epoch 58/7000\n",
      "2/2 [==============================] - 0s 12ms/step - loss: 217.8401 - mean_squared_error: 217.8401 - mean_absolute_error: 12.7496\n",
      "Epoch 59/7000\n",
      "2/2 [==============================] - 0s 12ms/step - loss: 214.6662 - mean_squared_error: 214.6662 - mean_absolute_error: 12.6355\n",
      "Epoch 60/7000\n",
      "2/2 [==============================] - 0s 12ms/step - loss: 211.7462 - mean_squared_error: 211.7462 - mean_absolute_error: 12.5240\n",
      "Epoch 61/7000\n",
      "2/2 [==============================] - 0s 12ms/step - loss: 208.5127 - mean_squared_error: 208.5127 - mean_absolute_error: 12.4146\n",
      "Epoch 62/7000\n",
      "2/2 [==============================] - 0s 12ms/step - loss: 205.6856 - mean_squared_error: 205.6856 - mean_absolute_error: 12.3106\n",
      "Epoch 63/7000\n",
      "2/2 [==============================] - 0s 11ms/step - loss: 202.9448 - mean_squared_error: 202.9448 - mean_absolute_error: 12.2093\n",
      "Epoch 64/7000\n",
      "2/2 [==============================] - 0s 11ms/step - loss: 199.9836 - mean_squared_error: 199.9837 - mean_absolute_error: 12.1079\n",
      "Epoch 65/7000\n",
      "2/2 [==============================] - 0s 11ms/step - loss: 197.1856 - mean_squared_error: 197.1856 - mean_absolute_error: 12.0088\n",
      "Epoch 66/7000\n",
      "2/2 [==============================] - 0s 12ms/step - loss: 194.4932 - mean_squared_error: 194.4932 - mean_absolute_error: 11.9140\n",
      "Epoch 67/7000\n",
      "2/2 [==============================] - 0s 12ms/step - loss: 191.8521 - mean_squared_error: 191.8521 - mean_absolute_error: 11.8178\n",
      "Epoch 68/7000\n",
      "2/2 [==============================] - 0s 11ms/step - loss: 189.2880 - mean_squared_error: 189.2880 - mean_absolute_error: 11.7247\n",
      "Epoch 69/7000\n",
      "2/2 [==============================] - 0s 19ms/step - loss: 186.6376 - mean_squared_error: 186.6377 - mean_absolute_error: 11.6323\n",
      "Epoch 70/7000\n",
      "2/2 [==============================] - 0s 12ms/step - loss: 184.1497 - mean_squared_error: 184.1497 - mean_absolute_error: 11.5453\n",
      "Epoch 71/7000\n",
      "2/2 [==============================] - 0s 15ms/step - loss: 181.7050 - mean_squared_error: 181.7050 - mean_absolute_error: 11.4629\n",
      "Epoch 72/7000\n",
      "2/2 [==============================] - 0s 11ms/step - loss: 179.2078 - mean_squared_error: 179.2078 - mean_absolute_error: 11.3785\n",
      "Epoch 73/7000\n",
      "2/2 [==============================] - 0s 11ms/step - loss: 176.8179 - mean_squared_error: 176.8179 - mean_absolute_error: 11.2982\n",
      "Epoch 74/7000\n",
      "2/2 [==============================] - 0s 12ms/step - loss: 174.4325 - mean_squared_error: 174.4325 - mean_absolute_error: 11.2182\n",
      "Epoch 75/7000\n",
      "2/2 [==============================] - 0s 11ms/step - loss: 172.2321 - mean_squared_error: 172.2321 - mean_absolute_error: 11.1438\n",
      "Epoch 76/7000\n",
      "2/2 [==============================] - 0s 12ms/step - loss: 169.9629 - mean_squared_error: 169.9629 - mean_absolute_error: 11.0679\n",
      "Epoch 77/7000\n",
      "2/2 [==============================] - 0s 12ms/step - loss: 167.6332 - mean_squared_error: 167.6332 - mean_absolute_error: 10.9885\n",
      "Epoch 78/7000\n",
      "2/2 [==============================] - 0s 12ms/step - loss: 165.4435 - mean_squared_error: 165.4435 - mean_absolute_error: 10.9140\n",
      "Epoch 79/7000\n",
      "2/2 [==============================] - 0s 11ms/step - loss: 163.2719 - mean_squared_error: 163.2719 - mean_absolute_error: 10.8419\n",
      "Epoch 80/7000\n",
      "2/2 [==============================] - 0s 12ms/step - loss: 161.3515 - mean_squared_error: 161.3515 - mean_absolute_error: 10.7787\n",
      "Epoch 81/7000\n",
      "2/2 [==============================] - 0s 13ms/step - loss: 159.0812 - mean_squared_error: 159.0811 - mean_absolute_error: 10.7034\n",
      "Epoch 82/7000\n",
      "2/2 [==============================] - 0s 13ms/step - loss: 157.0724 - mean_squared_error: 157.0724 - mean_absolute_error: 10.6364\n",
      "Epoch 83/7000\n",
      "2/2 [==============================] - 0s 11ms/step - loss: 155.0863 - mean_squared_error: 155.0863 - mean_absolute_error: 10.5700\n",
      "Epoch 84/7000\n",
      "2/2 [==============================] - 0s 13ms/step - loss: 153.0446 - mean_squared_error: 153.0446 - mean_absolute_error: 10.5016\n",
      "Epoch 85/7000\n",
      "2/2 [==============================] - 0s 13ms/step - loss: 151.1779 - mean_squared_error: 151.1779 - mean_absolute_error: 10.4416\n",
      "Epoch 86/7000\n",
      "2/2 [==============================] - 0s 13ms/step - loss: 149.2984 - mean_squared_error: 149.2984 - mean_absolute_error: 10.3770\n",
      "Epoch 87/7000\n",
      "2/2 [==============================] - 0s 12ms/step - loss: 147.4250 - mean_squared_error: 147.4250 - mean_absolute_error: 10.3152\n",
      "Epoch 88/7000\n",
      "2/2 [==============================] - 0s 11ms/step - loss: 145.4982 - mean_squared_error: 145.4982 - mean_absolute_error: 10.2488\n",
      "Epoch 89/7000\n",
      "2/2 [==============================] - 0s 12ms/step - loss: 143.8497 - mean_squared_error: 143.8497 - mean_absolute_error: 10.1942\n",
      "Epoch 90/7000\n",
      "2/2 [==============================] - 0s 12ms/step - loss: 141.9971 - mean_squared_error: 141.9971 - mean_absolute_error: 10.1288\n",
      "Epoch 91/7000\n",
      "2/2 [==============================] - 0s 11ms/step - loss: 140.2396 - mean_squared_error: 140.2396 - mean_absolute_error: 10.0689\n",
      "Epoch 92/7000\n",
      "2/2 [==============================] - 0s 12ms/step - loss: 138.5882 - mean_squared_error: 138.5882 - mean_absolute_error: 10.0122\n",
      "Epoch 93/7000\n",
      "2/2 [==============================] - 0s 12ms/step - loss: 136.8044 - mean_squared_error: 136.8044 - mean_absolute_error: 9.9511\n",
      "Epoch 94/7000\n",
      "2/2 [==============================] - 0s 11ms/step - loss: 135.2330 - mean_squared_error: 135.2330 - mean_absolute_error: 9.8982\n",
      "Epoch 95/7000\n",
      "2/2 [==============================] - 0s 12ms/step - loss: 133.6144 - mean_squared_error: 133.6144 - mean_absolute_error: 9.8468\n",
      "Epoch 96/7000\n",
      "2/2 [==============================] - 0s 11ms/step - loss: 131.9607 - mean_squared_error: 131.9607 - mean_absolute_error: 9.7924\n",
      "Epoch 97/7000\n",
      "2/2 [==============================] - 0s 12ms/step - loss: 130.2744 - mean_squared_error: 130.2744 - mean_absolute_error: 9.7400\n",
      "Epoch 98/7000\n",
      "2/2 [==============================] - 0s 12ms/step - loss: 128.7095 - mean_squared_error: 128.7094 - mean_absolute_error: 9.6915\n",
      "Epoch 99/7000\n",
      "2/2 [==============================] - 0s 11ms/step - loss: 127.0672 - mean_squared_error: 127.0672 - mean_absolute_error: 9.6397\n",
      "Epoch 100/7000\n",
      "1/2 [==============>...............] - ETA: 0s - loss: 118.1591 - mean_squared_error: 118.1591 - mean_absolute_error: 9.2697"
     ]
    }
   ],
   "source": [
    "\n",
    "\n",
    "##### Step 5 - Fit the model on the dataset\n",
    "history = model.fit(X_train, # input data\n",
    "                    Y_train, # target data\n",
    "                    batch_size=None, # Number of samples per gradient update. If unspecified, batch_size will default to 32.\n",
    "                    epochs=5000, # default=1, Number of epochs to train the model. An epoch is an iteration over the entire x and y data provided\n",
    "                    verbose=2, # default='auto', ('auto', 0, 1, or 2). Verbosity mode. 0 = silent, 1 = progress bar, 2 = one line per epoch. 'auto' defaults to 1 for most cases, but 2 when used with ParameterServerStrategy.\n",
    "                    callbacks=None, # default=None, list of callbacks to apply during training. See tf.keras.callbacks\n",
    "                    validation_split=0.2, # default=0.0, Fraction of the training data to be used as validation data. The model will set apart this fraction of the training data, will not train on it, and will evaluate the loss and any model metrics on this data at the end of each epoch. \n",
    "                    #validation_data=(X_test, y_test), # default=None, Data on which to evaluate the loss and any model metrics at the end of each epoch. \n",
    "                    shuffle=True, # default=True, Boolean (whether to shuffle the training data before each epoch) or str (for 'batch').\n",
    "                    class_weight=None, # default=None, Optional dictionary mapping class indices (integers) to a weight (float) value, used for weighting the loss function (during training only). This can be useful to tell the model to \"pay more attention\" to samples from an under-represented class.\n",
    "                    sample_weight=None, # default=None, Optional Numpy array of weights for the training samples, used for weighting the loss function (during training only).\n",
    "                    initial_epoch=0, # Integer, default=0, Epoch at which to start training (useful for resuming a previous training run).\n",
    "                    steps_per_epoch=None, # Integer or None, default=None, Total number of steps (batches of samples) before declaring one epoch finished and starting the next epoch. When training with input tensors such as TensorFlow data tensors, the default None is equal to the number of samples in your dataset divided by the batch size, or 1 if that cannot be determined. \n",
    "                    validation_steps=None, # Only relevant if validation_data is provided and is a tf.data dataset. Total number of steps (batches of samples) to draw before stopping when performing validation at the end of every epoch.\n",
    "                    validation_batch_size=None, # Integer or None, default=None, Number of samples per validation batch. If unspecified, will default to batch_size.\n",
    "                    validation_freq=100, # default=1, Only relevant if validation data is provided. If an integer, specifies how many training epochs to run before a new validation run is performed, e.g. validation_freq=2 runs validation every 2 epochs.\n",
    "                    max_queue_size=10, # default=10, Used for generator or keras.utils.Sequence input only. Maximum size for the generator queue. If unspecified, max_queue_size will default to 10.\n",
    "                    workers=1, # default=1, Used for generator or keras.utils.Sequence input only. Maximum number of processes to spin up when using process-based threading. If unspecified, workers will default to 1.\n",
    "                    use_multiprocessing=True, # default=False, Used for generator or keras.utils.Sequence input only. If True, use process-based threading. If unspecified, use_multiprocessing will default to False. \n",
    "                   )\n",
    "\n"
   ]
  },
  {
   "cell_type": "code",
   "execution_count": null,
   "metadata": {},
   "outputs": [
    {
     "name": "stdout",
     "output_type": "stream",
     "text": [
      "2/2 [==============================] - 2s 6ms/step\n",
      "1/1 [==============================] - 0s 22ms/step\n"
     ]
    }
   ],
   "source": [
    "##### Step 6 - Use model to make predictions\n",
    "# Predict results on training data\n",
    "pred_train = model.predict(X_train)\n",
    "# Predict esults on test data\n",
    "pred_test = model.predict(X_test)"
   ]
  },
  {
   "cell_type": "code",
   "execution_count": null,
   "metadata": {},
   "outputs": [
    {
     "name": "stdout",
     "output_type": "stream",
     "text": [
      "\n",
      "-------------------- Model Summary --------------------\n",
      "Model: \"LSTM-Model\"\n",
      "_________________________________________________________________\n",
      " Layer (type)                Output Shape              Param #   \n",
      "=================================================================\n",
      " Hidden-LSTM-Encoder-Layer (  (None, 64)               8704      \n",
      " Bidirectional)                                                  \n",
      "                                                                 \n",
      " Repeat-Vector-Layer (Repeat  (None, 10, 64)           0         \n",
      " Vector)                                                         \n",
      "                                                                 \n",
      " Hidden-LSTM-Decoder-Layer (  (None, 10, 64)           24832     \n",
      " Bidirectional)                                                  \n",
      "                                                                 \n",
      " Output-Layer (TimeDistribut  (None, 10, 1)            65        \n",
      " ed)                                                             \n",
      "                                                                 \n",
      "=================================================================\n",
      "Total params: 33,601\n",
      "Trainable params: 33,601\n",
      "Non-trainable params: 0\n",
      "_________________________________________________________________\n",
      "\n",
      "-------------------- Weights and Biases --------------------\n",
      "Too many parameters to print but you can use the code provided if needed\n",
      "\n",
      "-------------------- Evaluation on Training Data --------------------\n",
      "Final loss : 2.963329315185547\n",
      "Final mean_squared_error : 2.963329315185547\n",
      "Final mean_absolute_error : 1.2438225746154785\n",
      "Final val_loss : 56.96702575683594\n",
      "Final val_mean_squared_error : 56.96702575683594\n",
      "Final val_mean_absolute_error : 7.3256683349609375\n",
      "\n",
      "-------------------- Evaluation on Test Data --------------------\n",
      "1/1 [==============================] - 0s 25ms/step - loss: nan - mean_squared_error: nan - mean_absolute_error: nan\n",
      "\n"
     ]
    }
   ],
   "source": [
    "##### Step 7 - Print Performance Summary\n",
    "print(\"\")\n",
    "print('-------------------- Model Summary --------------------')\n",
    "model.summary() # print model summary\n",
    "print(\"\")\n",
    "print('-------------------- Weights and Biases --------------------')\n",
    "print(\"Too many parameters to print but you can use the code provided if needed\")\n",
    "print(\"\")\n",
    "#for layer in model.layers:\n",
    "#    print(layer.name)\n",
    "#    for item in layer.get_weights():\n",
    "#        print(\"  \", item)\n",
    "#print(\"\")\n",
    "\n",
    "# Print the last value in the evaluation metrics contained within history file\n",
    "print('-------------------- Evaluation on Training Data --------------------')\n",
    "for item in history.history:\n",
    "    print(\"Final\", item, \":\", history.history[item][-1])\n",
    "print(\"\")\n",
    "\n",
    "# Evaluate the model on the test data using \"evaluate\"\n",
    "print('-------------------- Evaluation on Test Data --------------------')\n",
    "results = model.evaluate(X_test, Y_test)\n",
    "print(\"\")"
   ]
  },
  {
   "cell_type": "code",
   "execution_count": null,
   "metadata": {},
   "outputs": [
    {
     "data": {
      "application/vnd.plotly.v1+json": {
       "config": {
        "plotlyServerURL": "https://plot.ly"
       },
       "data": [
        {
         "line": {
          "color": "black",
          "width": 1
         },
         "mode": "lines",
         "name": "Subsidence - Actual (Test)",
         "opacity": 0.8,
         "type": "scatter",
         "x": [
          "2018-02-20T00:00:00.000000000",
          "2018-03-04T00:00:00.000000000",
          "2018-03-16T00:00:00.000000000",
          "2018-03-28T00:00:00.000000000",
          "2018-04-09T00:00:00.000000000",
          "2018-04-21T00:00:00.000000000",
          "2018-05-03T00:00:00.000000000",
          "2018-05-15T00:00:00.000000000",
          "2018-05-27T00:00:00.000000000",
          "2018-06-08T00:00:00.000000000",
          "2018-06-20T00:00:00.000000000",
          "2018-07-02T00:00:00.000000000",
          "2018-07-14T00:00:00.000000000",
          "2018-07-26T00:00:00.000000000",
          "2018-08-07T00:00:00.000000000",
          "2018-08-19T00:00:00.000000000",
          "2018-08-31T00:00:00.000000000",
          "2018-09-12T00:00:00.000000000",
          "2018-09-24T00:00:00.000000000",
          "2018-10-06T00:00:00.000000000",
          "2018-10-18T00:00:00.000000000",
          "2018-10-30T00:00:00.000000000",
          "2018-11-11T00:00:00.000000000",
          "2018-11-17T00:00:00.000000000",
          "2018-11-23T00:00:00.000000000",
          "2018-12-05T00:00:00.000000000",
          "2018-12-17T00:00:00.000000000",
          "2018-12-29T00:00:00.000000000",
          "2019-01-10T00:00:00.000000000",
          "2019-01-22T00:00:00.000000000"
         ],
         "y": [
          -43.846,
          -43.292,
          -40.974,
          -42.672,
          -45.966,
          -41.902,
          -45.271,
          -43.345,
          -46.303,
          -46.266,
          -49.379,
          -48.562,
          -49.459,
          null,
          -50.406,
          -52.09,
          -53.942,
          -54.471,
          -52.947,
          -56.31,
          -54.522,
          -54.411,
          -53.782,
          -53.387,
          -53.708,
          -53.692,
          -52.643,
          -52.086,
          -53.301,
          -52.878
         ]
        },
        {
         "line": {
          "color": "red",
          "width": 1
         },
         "mode": "lines",
         "name": "Subsidence - Predicted (Test)",
         "opacity": 0.8,
         "type": "scatter",
         "x": [
          "2018-10-18T00:00:00.000000000",
          "2018-10-30T00:00:00.000000000",
          "2018-11-11T00:00:00.000000000",
          "2018-11-17T00:00:00.000000000",
          "2018-11-23T00:00:00.000000000",
          "2018-12-05T00:00:00.000000000",
          "2018-12-17T00:00:00.000000000",
          "2018-12-29T00:00:00.000000000",
          "2019-01-10T00:00:00.000000000",
          "2019-01-22T00:00:00.000000000"
         ],
         "y": [
          -32.128578186035156,
          -34.424442291259766,
          -34.98843002319336,
          -35.125118255615234,
          -35.1718635559082,
          -35.229373931884766,
          -35.43265151977539,
          -36.07664108276367,
          -37.00666427612305,
          -36.256996154785156,
          -32.125572204589844,
          -34.41469192504883,
          -34.97682571411133,
          -35.11265182495117,
          -35.15926742553711,
          -35.21797561645508,
          -35.424522399902344,
          -36.069576263427734,
          -36.99308395385742,
          -36.24493408203125,
          -32.121822357177734,
          -34.400047302246094,
          -34.96157455444336,
          -35.09751510620117,
          -35.143653869628906,
          -35.20026779174805,
          -35.399898529052734,
          -36.03507995605469,
          -36.96451950073242,
          -36.23283767700195,
          -32.12715530395508,
          -34.44009017944336,
          -34.99397659301758,
          -35.12196350097656,
          -35.16263198852539,
          -35.2111930847168,
          -35.39224624633789,
          -36.00850296020508,
          -36.96065139770508,
          -36.2419548034668,
          null,
          null,
          null,
          null,
          null,
          null,
          null,
          null,
          null,
          null,
          null,
          null,
          null,
          null,
          null,
          null,
          null,
          null,
          null,
          null,
          null,
          null,
          null,
          null,
          null,
          null,
          null,
          null,
          null,
          null,
          null,
          null,
          null,
          null,
          null,
          null,
          null,
          null,
          null,
          null,
          null,
          null,
          null,
          null,
          null,
          null,
          null,
          null,
          null,
          null,
          null,
          null,
          null,
          null,
          null,
          null,
          null,
          null,
          null,
          null,
          null,
          null,
          null,
          null,
          null,
          null,
          null,
          null,
          null,
          null
         ]
        }
       ],
       "layout": {
        "legend": {
         "orientation": "h",
         "x": 1,
         "xanchor": "right",
         "y": 1.02,
         "yanchor": "bottom"
        },
        "plot_bgcolor": "white",
        "template": {
         "data": {
          "bar": [
           {
            "error_x": {
             "color": "#2a3f5f"
            },
            "error_y": {
             "color": "#2a3f5f"
            },
            "marker": {
             "line": {
              "color": "#E5ECF6",
              "width": 0.5
             },
             "pattern": {
              "fillmode": "overlay",
              "size": 10,
              "solidity": 0.2
             }
            },
            "type": "bar"
           }
          ],
          "barpolar": [
           {
            "marker": {
             "line": {
              "color": "#E5ECF6",
              "width": 0.5
             },
             "pattern": {
              "fillmode": "overlay",
              "size": 10,
              "solidity": 0.2
             }
            },
            "type": "barpolar"
           }
          ],
          "carpet": [
           {
            "aaxis": {
             "endlinecolor": "#2a3f5f",
             "gridcolor": "white",
             "linecolor": "white",
             "minorgridcolor": "white",
             "startlinecolor": "#2a3f5f"
            },
            "baxis": {
             "endlinecolor": "#2a3f5f",
             "gridcolor": "white",
             "linecolor": "white",
             "minorgridcolor": "white",
             "startlinecolor": "#2a3f5f"
            },
            "type": "carpet"
           }
          ],
          "choropleth": [
           {
            "colorbar": {
             "outlinewidth": 0,
             "ticks": ""
            },
            "type": "choropleth"
           }
          ],
          "contour": [
           {
            "colorbar": {
             "outlinewidth": 0,
             "ticks": ""
            },
            "colorscale": [
             [
              0,
              "#0d0887"
             ],
             [
              0.1111111111111111,
              "#46039f"
             ],
             [
              0.2222222222222222,
              "#7201a8"
             ],
             [
              0.3333333333333333,
              "#9c179e"
             ],
             [
              0.4444444444444444,
              "#bd3786"
             ],
             [
              0.5555555555555556,
              "#d8576b"
             ],
             [
              0.6666666666666666,
              "#ed7953"
             ],
             [
              0.7777777777777778,
              "#fb9f3a"
             ],
             [
              0.8888888888888888,
              "#fdca26"
             ],
             [
              1,
              "#f0f921"
             ]
            ],
            "type": "contour"
           }
          ],
          "contourcarpet": [
           {
            "colorbar": {
             "outlinewidth": 0,
             "ticks": ""
            },
            "type": "contourcarpet"
           }
          ],
          "heatmap": [
           {
            "colorbar": {
             "outlinewidth": 0,
             "ticks": ""
            },
            "colorscale": [
             [
              0,
              "#0d0887"
             ],
             [
              0.1111111111111111,
              "#46039f"
             ],
             [
              0.2222222222222222,
              "#7201a8"
             ],
             [
              0.3333333333333333,
              "#9c179e"
             ],
             [
              0.4444444444444444,
              "#bd3786"
             ],
             [
              0.5555555555555556,
              "#d8576b"
             ],
             [
              0.6666666666666666,
              "#ed7953"
             ],
             [
              0.7777777777777778,
              "#fb9f3a"
             ],
             [
              0.8888888888888888,
              "#fdca26"
             ],
             [
              1,
              "#f0f921"
             ]
            ],
            "type": "heatmap"
           }
          ],
          "heatmapgl": [
           {
            "colorbar": {
             "outlinewidth": 0,
             "ticks": ""
            },
            "colorscale": [
             [
              0,
              "#0d0887"
             ],
             [
              0.1111111111111111,
              "#46039f"
             ],
             [
              0.2222222222222222,
              "#7201a8"
             ],
             [
              0.3333333333333333,
              "#9c179e"
             ],
             [
              0.4444444444444444,
              "#bd3786"
             ],
             [
              0.5555555555555556,
              "#d8576b"
             ],
             [
              0.6666666666666666,
              "#ed7953"
             ],
             [
              0.7777777777777778,
              "#fb9f3a"
             ],
             [
              0.8888888888888888,
              "#fdca26"
             ],
             [
              1,
              "#f0f921"
             ]
            ],
            "type": "heatmapgl"
           }
          ],
          "histogram": [
           {
            "marker": {
             "pattern": {
              "fillmode": "overlay",
              "size": 10,
              "solidity": 0.2
             }
            },
            "type": "histogram"
           }
          ],
          "histogram2d": [
           {
            "colorbar": {
             "outlinewidth": 0,
             "ticks": ""
            },
            "colorscale": [
             [
              0,
              "#0d0887"
             ],
             [
              0.1111111111111111,
              "#46039f"
             ],
             [
              0.2222222222222222,
              "#7201a8"
             ],
             [
              0.3333333333333333,
              "#9c179e"
             ],
             [
              0.4444444444444444,
              "#bd3786"
             ],
             [
              0.5555555555555556,
              "#d8576b"
             ],
             [
              0.6666666666666666,
              "#ed7953"
             ],
             [
              0.7777777777777778,
              "#fb9f3a"
             ],
             [
              0.8888888888888888,
              "#fdca26"
             ],
             [
              1,
              "#f0f921"
             ]
            ],
            "type": "histogram2d"
           }
          ],
          "histogram2dcontour": [
           {
            "colorbar": {
             "outlinewidth": 0,
             "ticks": ""
            },
            "colorscale": [
             [
              0,
              "#0d0887"
             ],
             [
              0.1111111111111111,
              "#46039f"
             ],
             [
              0.2222222222222222,
              "#7201a8"
             ],
             [
              0.3333333333333333,
              "#9c179e"
             ],
             [
              0.4444444444444444,
              "#bd3786"
             ],
             [
              0.5555555555555556,
              "#d8576b"
             ],
             [
              0.6666666666666666,
              "#ed7953"
             ],
             [
              0.7777777777777778,
              "#fb9f3a"
             ],
             [
              0.8888888888888888,
              "#fdca26"
             ],
             [
              1,
              "#f0f921"
             ]
            ],
            "type": "histogram2dcontour"
           }
          ],
          "mesh3d": [
           {
            "colorbar": {
             "outlinewidth": 0,
             "ticks": ""
            },
            "type": "mesh3d"
           }
          ],
          "parcoords": [
           {
            "line": {
             "colorbar": {
              "outlinewidth": 0,
              "ticks": ""
             }
            },
            "type": "parcoords"
           }
          ],
          "pie": [
           {
            "automargin": true,
            "type": "pie"
           }
          ],
          "scatter": [
           {
            "fillpattern": {
             "fillmode": "overlay",
             "size": 10,
             "solidity": 0.2
            },
            "type": "scatter"
           }
          ],
          "scatter3d": [
           {
            "line": {
             "colorbar": {
              "outlinewidth": 0,
              "ticks": ""
             }
            },
            "marker": {
             "colorbar": {
              "outlinewidth": 0,
              "ticks": ""
             }
            },
            "type": "scatter3d"
           }
          ],
          "scattercarpet": [
           {
            "marker": {
             "colorbar": {
              "outlinewidth": 0,
              "ticks": ""
             }
            },
            "type": "scattercarpet"
           }
          ],
          "scattergeo": [
           {
            "marker": {
             "colorbar": {
              "outlinewidth": 0,
              "ticks": ""
             }
            },
            "type": "scattergeo"
           }
          ],
          "scattergl": [
           {
            "marker": {
             "colorbar": {
              "outlinewidth": 0,
              "ticks": ""
             }
            },
            "type": "scattergl"
           }
          ],
          "scattermapbox": [
           {
            "marker": {
             "colorbar": {
              "outlinewidth": 0,
              "ticks": ""
             }
            },
            "type": "scattermapbox"
           }
          ],
          "scatterpolar": [
           {
            "marker": {
             "colorbar": {
              "outlinewidth": 0,
              "ticks": ""
             }
            },
            "type": "scatterpolar"
           }
          ],
          "scatterpolargl": [
           {
            "marker": {
             "colorbar": {
              "outlinewidth": 0,
              "ticks": ""
             }
            },
            "type": "scatterpolargl"
           }
          ],
          "scatterternary": [
           {
            "marker": {
             "colorbar": {
              "outlinewidth": 0,
              "ticks": ""
             }
            },
            "type": "scatterternary"
           }
          ],
          "surface": [
           {
            "colorbar": {
             "outlinewidth": 0,
             "ticks": ""
            },
            "colorscale": [
             [
              0,
              "#0d0887"
             ],
             [
              0.1111111111111111,
              "#46039f"
             ],
             [
              0.2222222222222222,
              "#7201a8"
             ],
             [
              0.3333333333333333,
              "#9c179e"
             ],
             [
              0.4444444444444444,
              "#bd3786"
             ],
             [
              0.5555555555555556,
              "#d8576b"
             ],
             [
              0.6666666666666666,
              "#ed7953"
             ],
             [
              0.7777777777777778,
              "#fb9f3a"
             ],
             [
              0.8888888888888888,
              "#fdca26"
             ],
             [
              1,
              "#f0f921"
             ]
            ],
            "type": "surface"
           }
          ],
          "table": [
           {
            "cells": {
             "fill": {
              "color": "#EBF0F8"
             },
             "line": {
              "color": "white"
             }
            },
            "header": {
             "fill": {
              "color": "#C8D4E3"
             },
             "line": {
              "color": "white"
             }
            },
            "type": "table"
           }
          ]
         },
         "layout": {
          "annotationdefaults": {
           "arrowcolor": "#2a3f5f",
           "arrowhead": 0,
           "arrowwidth": 1
          },
          "autotypenumbers": "strict",
          "coloraxis": {
           "colorbar": {
            "outlinewidth": 0,
            "ticks": ""
           }
          },
          "colorscale": {
           "diverging": [
            [
             0,
             "#8e0152"
            ],
            [
             0.1,
             "#c51b7d"
            ],
            [
             0.2,
             "#de77ae"
            ],
            [
             0.3,
             "#f1b6da"
            ],
            [
             0.4,
             "#fde0ef"
            ],
            [
             0.5,
             "#f7f7f7"
            ],
            [
             0.6,
             "#e6f5d0"
            ],
            [
             0.7,
             "#b8e186"
            ],
            [
             0.8,
             "#7fbc41"
            ],
            [
             0.9,
             "#4d9221"
            ],
            [
             1,
             "#276419"
            ]
           ],
           "sequential": [
            [
             0,
             "#0d0887"
            ],
            [
             0.1111111111111111,
             "#46039f"
            ],
            [
             0.2222222222222222,
             "#7201a8"
            ],
            [
             0.3333333333333333,
             "#9c179e"
            ],
            [
             0.4444444444444444,
             "#bd3786"
            ],
            [
             0.5555555555555556,
             "#d8576b"
            ],
            [
             0.6666666666666666,
             "#ed7953"
            ],
            [
             0.7777777777777778,
             "#fb9f3a"
            ],
            [
             0.8888888888888888,
             "#fdca26"
            ],
            [
             1,
             "#f0f921"
            ]
           ],
           "sequentialminus": [
            [
             0,
             "#0d0887"
            ],
            [
             0.1111111111111111,
             "#46039f"
            ],
            [
             0.2222222222222222,
             "#7201a8"
            ],
            [
             0.3333333333333333,
             "#9c179e"
            ],
            [
             0.4444444444444444,
             "#bd3786"
            ],
            [
             0.5555555555555556,
             "#d8576b"
            ],
            [
             0.6666666666666666,
             "#ed7953"
            ],
            [
             0.7777777777777778,
             "#fb9f3a"
            ],
            [
             0.8888888888888888,
             "#fdca26"
            ],
            [
             1,
             "#f0f921"
            ]
           ]
          },
          "colorway": [
           "#636efa",
           "#EF553B",
           "#00cc96",
           "#ab63fa",
           "#FFA15A",
           "#19d3f3",
           "#FF6692",
           "#B6E880",
           "#FF97FF",
           "#FECB52"
          ],
          "font": {
           "color": "#2a3f5f"
          },
          "geo": {
           "bgcolor": "white",
           "lakecolor": "white",
           "landcolor": "#E5ECF6",
           "showlakes": true,
           "showland": true,
           "subunitcolor": "white"
          },
          "hoverlabel": {
           "align": "left"
          },
          "hovermode": "closest",
          "mapbox": {
           "style": "light"
          },
          "paper_bgcolor": "white",
          "plot_bgcolor": "#E5ECF6",
          "polar": {
           "angularaxis": {
            "gridcolor": "white",
            "linecolor": "white",
            "ticks": ""
           },
           "bgcolor": "#E5ECF6",
           "radialaxis": {
            "gridcolor": "white",
            "linecolor": "white",
            "ticks": ""
           }
          },
          "scene": {
           "xaxis": {
            "backgroundcolor": "#E5ECF6",
            "gridcolor": "white",
            "gridwidth": 2,
            "linecolor": "white",
            "showbackground": true,
            "ticks": "",
            "zerolinecolor": "white"
           },
           "yaxis": {
            "backgroundcolor": "#E5ECF6",
            "gridcolor": "white",
            "gridwidth": 2,
            "linecolor": "white",
            "showbackground": true,
            "ticks": "",
            "zerolinecolor": "white"
           },
           "zaxis": {
            "backgroundcolor": "#E5ECF6",
            "gridcolor": "white",
            "gridwidth": 2,
            "linecolor": "white",
            "showbackground": true,
            "ticks": "",
            "zerolinecolor": "white"
           }
          },
          "shapedefaults": {
           "line": {
            "color": "#2a3f5f"
           }
          },
          "ternary": {
           "aaxis": {
            "gridcolor": "white",
            "linecolor": "white",
            "ticks": ""
           },
           "baxis": {
            "gridcolor": "white",
            "linecolor": "white",
            "ticks": ""
           },
           "bgcolor": "#E5ECF6",
           "caxis": {
            "gridcolor": "white",
            "linecolor": "white",
            "ticks": ""
           }
          },
          "title": {
           "x": 0.05
          },
          "xaxis": {
           "automargin": true,
           "gridcolor": "white",
           "linecolor": "white",
           "ticks": "",
           "title": {
            "standoff": 15
           },
           "zerolinecolor": "white",
           "zerolinewidth": 2
          },
          "yaxis": {
           "automargin": true,
           "gridcolor": "white",
           "linecolor": "white",
           "ticks": "",
           "title": {
            "standoff": 15
           },
           "zerolinecolor": "white",
           "zerolinewidth": 2
          }
         }
        },
        "title": {
         "font": {
          "color": "black"
         },
         "text": "Subsidence"
        },
        "xaxis": {
         "gridcolor": "lightgrey",
         "gridwidth": 1,
         "linecolor": "black",
         "linewidth": 1,
         "showgrid": true,
         "showline": true,
         "title": {
          "text": "Year-Month"
         },
         "zeroline": true,
         "zerolinecolor": "lightgrey",
         "zerolinewidth": 1
        },
        "yaxis": {
         "gridcolor": "lightgrey",
         "gridwidth": 1,
         "linecolor": "black",
         "linewidth": 1,
         "showgrid": true,
         "showline": true,
         "title": {
          "text": "Subsidence"
         },
         "zeroline": true,
         "zerolinecolor": "lightgrey",
         "zerolinewidth": 1
        }
       }
      }
     },
     "metadata": {},
     "output_type": "display_data"
    }
   ],
   "source": [
    "# Plot average monthly temperatures (actual and predicted) for test (out of time) data\n",
    "fig = go.Figure()\n",
    "\n",
    "# Trace for actual temperatures\n",
    "fig.add_trace(go.Scatter(x=np.array(df_test.columns),\n",
    "                         y=np.array(df_test.values).flatten(),\n",
    "                         mode='lines',\n",
    "                         name='Subsidence - Actual (Test)',\n",
    "                         opacity=0.8,\n",
    "                         line=dict(color='black', width=1)\n",
    "                        ))\n",
    "\n",
    "# Trace for predicted temperatures\n",
    "fig.add_trace(go.Scatter(x=np.array(df_test.columns[-timestep:]),\n",
    "                         y=pred_test.flatten(),\n",
    "                         mode='lines',\n",
    "                         name='Subsidence - Predicted (Test)',\n",
    "                         opacity=0.8,\n",
    "                         line=dict(color='red', width=1)\n",
    "                        ))\n",
    "\n",
    "# Change chart background color\n",
    "fig.update_layout(dict(plot_bgcolor = 'white'))\n",
    "\n",
    "# Update axes lines\n",
    "fig.update_xaxes(showgrid=True, gridwidth=1, gridcolor='lightgrey', \n",
    "                 zeroline=True, zerolinewidth=1, zerolinecolor='lightgrey', \n",
    "                 showline=True, linewidth=1, linecolor='black',\n",
    "                 title='Year-Month'\n",
    "                )\n",
    "\n",
    "fig.update_yaxes(showgrid=True, gridwidth=1, gridcolor='lightgrey', \n",
    "                 zeroline=True, zerolinewidth=1, zerolinecolor='lightgrey', \n",
    "                 showline=True, linewidth=1, linecolor='black',\n",
    "                 title='Subsidence'\n",
    "                )\n",
    "\n",
    "# Set figure title\n",
    "fig.update_layout(title=dict(text=\"Subsidence\", font=dict(color='black')),\n",
    "                  legend=dict(orientation=\"h\", yanchor=\"bottom\", y=1.02, xanchor=\"right\", x=1)\n",
    "                 )\n",
    "fig.show()"
   ]
  }
 ],
 "metadata": {
  "kernelspec": {
   "display_name": "Python 3.10.5 64-bit",
   "language": "python",
   "name": "python3"
  },
  "language_info": {
   "codemirror_mode": {
    "name": "ipython",
    "version": 3
   },
   "file_extension": ".py",
   "mimetype": "text/x-python",
   "name": "python",
   "nbconvert_exporter": "python",
   "pygments_lexer": "ipython3",
   "version": "3.10.5"
  },
  "orig_nbformat": 4,
  "vscode": {
   "interpreter": {
    "hash": "d3e10ef16274dd72e574b8fa73b58450b957d8421a2901baded3cca26fcf5dda"
   }
  }
 },
 "nbformat": 4,
 "nbformat_minor": 2
}
