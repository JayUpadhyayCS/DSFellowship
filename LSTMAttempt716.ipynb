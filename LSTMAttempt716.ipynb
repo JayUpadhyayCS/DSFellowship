{
 "cells": [
  {
   "cell_type": "code",
   "execution_count": 1,
   "metadata": {},
   "outputs": [
    {
     "name": "stdout",
     "output_type": "stream",
     "text": [
      "Tensorflow/Keras: 2.9.0\n",
      "pandas: 1.4.2\n",
      "numpy: 1.22.4\n",
      "sklearn: 1.1.1\n",
      "plotly: 5.9.0\n"
     ]
    }
   ],
   "source": [
    "# Tensorflow / Keras\n",
    "from tensorflow import keras # for building Neural Networks\n",
    "print('Tensorflow/Keras: %s' % keras.__version__) # print version\n",
    "from keras.models import Sequential # for creating a linear stack of layers for our Neural Network\n",
    "from keras import Input # for instantiating a keras tensor\n",
    "from keras.layers import Masking,Bidirectional, LSTM, RepeatVector, Dense, TimeDistributed # for creating layers inside the Neural Network\n",
    "from keras.optimizers import Adam\n",
    "# Data manipulation\n",
    "import pandas as pd # for data manipulation\n",
    "print('pandas: %s' % pd.__version__) # print version\n",
    "import numpy as np # for data manipulation\n",
    "print('numpy: %s' % np.__version__) # print version\n",
    "\n",
    "# Sklearn\n",
    "import sklearn\n",
    "print('sklearn: %s' % sklearn.__version__) # print version\n",
    "from sklearn.preprocessing import MinMaxScaler # for feature scaling\n",
    "\n",
    "# Visualization\n",
    "import plotly \n",
    "import plotly.express as px\n",
    "import plotly.graph_objects as go\n",
    "print('plotly: %s' % plotly.__version__) # print version\n",
    "\n",
    "#file accessing\n",
    "import os\n",
    "# time stuff\n",
    "from datetime import timedelta\n",
    "import calendar\n"
   ]
  },
  {
   "cell_type": "code",
   "execution_count": 2,
   "metadata": {},
   "outputs": [],
   "source": [
    "#df=pd.read_csv('InSAR_data_south/displacement/export_dataframe.csv')\n",
    "#df"
   ]
  },
  {
   "cell_type": "code",
   "execution_count": 3,
   "metadata": {},
   "outputs": [
    {
     "name": "stdout",
     "output_type": "stream",
     "text": [
      "['20141108.csv', '20141202.csv', '20141226.csv', '20150212.csv', '20150308.csv', '20150401.csv', '20150425.csv', '20150519.csv', '20150612.csv', '20150706.csv', '20150730.csv', '20150823.csv', '20150916.csv']\n"
     ]
    }
   ],
   "source": [
    "#get displacement for one dot over the whole time 60 20 20\n",
    "#open file by file\n",
    "CSVpath=\"InSAR_data_south/displacement/CSV/test/\"\n",
    "dir_list=[]\n",
    "lon_south=pd.read_csv('InSAR_data_south/longitude.csv')\n",
    "lat_south=pd.read_csv('InSAR_data_south/latitude.csv')\n",
    "for f in os.listdir(CSVpath):\n",
    "    name, ext=os.path.splitext(f)\n",
    "    if(ext=='.csv'):\n",
    "        dir_list.append(f)\n",
    "\n",
    "dir_list.sort()\n",
    "print(dir_list)\n"
   ]
  },
  {
   "cell_type": "code",
   "execution_count": 4,
   "metadata": {},
   "outputs": [],
   "source": [
    "# df=pd.DataFrame()\n",
    "# for f in dir_list:\n",
    "#     name, ext=os.path.splitext(f)\n",
    "#     if(ext=='.csv'):\n",
    "#         print(CSVpath+f)\n",
    "#         df_temp=pd.read_csv(CSVpath+f)\n",
    "#         df_temp.columns=lon_south.columns\n",
    "#         df_temp.index=lat_south.columns[:-1]\n",
    "#         df_temp=df_temp.unstack().reset_index()\n",
    "#         df_temp.columns=['Longitude','Latitude',name]\n",
    "#         #print(df1.head())\n",
    "#         #put it onto the main'\n",
    "#         df1=pd.DataFrame(data=df_temp.iloc[:,2:3])\n",
    "#         df1=df_temp.set_index([df_temp.columns[0],df_temp.columns[1]])\n",
    "        \n",
    "        \n",
    "#         df=pd.concat([df,df1], axis=1)\n",
    "df=pd.read_csv('InSAR_data_south/displacement/export_dataframe1.csv')\n",
    "\n"
   ]
  },
  {
   "cell_type": "code",
   "execution_count": 5,
   "metadata": {},
   "outputs": [],
   "source": [
    "# Convert dates to year-months\n",
    "#df['Year-Month']= (pd.to_datetime(df['Date'], yearfirst=True)).dt.strftime('%Y-%m')\n",
    "df=df.set_index([df.columns[0],df.columns[1]])\n",
    "df.columns=pd.to_datetime(df.columns, format='%Y%m%d')\n",
    "dftest=df\n",
    "timestep=10\n",
    "#dftest\n"
   ]
  },
  {
   "cell_type": "code",
   "execution_count": 6,
   "metadata": {},
   "outputs": [
    {
     "data": {
      "text/html": [
       "<div>\n",
       "<style scoped>\n",
       "    .dataframe tbody tr th:only-of-type {\n",
       "        vertical-align: middle;\n",
       "    }\n",
       "\n",
       "    .dataframe tbody tr th {\n",
       "        vertical-align: top;\n",
       "    }\n",
       "\n",
       "    .dataframe thead th {\n",
       "        text-align: right;\n",
       "    }\n",
       "</style>\n",
       "<table border=\"1\" class=\"dataframe\">\n",
       "  <thead>\n",
       "    <tr style=\"text-align: right;\">\n",
       "      <th></th>\n",
       "      <th></th>\n",
       "      <th>2014-11-08</th>\n",
       "      <th>2014-12-02</th>\n",
       "      <th>2014-12-26</th>\n",
       "      <th>2015-02-12</th>\n",
       "      <th>2015-03-08</th>\n",
       "      <th>2015-04-01</th>\n",
       "      <th>2015-04-25</th>\n",
       "      <th>2015-05-19</th>\n",
       "      <th>2015-06-12</th>\n",
       "      <th>2015-07-06</th>\n",
       "      <th>...</th>\n",
       "      <th>2018-10-18</th>\n",
       "      <th>2018-10-30</th>\n",
       "      <th>2018-11-11</th>\n",
       "      <th>2018-11-17</th>\n",
       "      <th>2018-11-23</th>\n",
       "      <th>2018-12-05</th>\n",
       "      <th>2018-12-17</th>\n",
       "      <th>2018-12-29</th>\n",
       "      <th>2019-01-10</th>\n",
       "      <th>2019-01-22</th>\n",
       "    </tr>\n",
       "    <tr>\n",
       "      <th>Longitude</th>\n",
       "      <th>Latitude</th>\n",
       "      <th></th>\n",
       "      <th></th>\n",
       "      <th></th>\n",
       "      <th></th>\n",
       "      <th></th>\n",
       "      <th></th>\n",
       "      <th></th>\n",
       "      <th></th>\n",
       "      <th></th>\n",
       "      <th></th>\n",
       "      <th></th>\n",
       "      <th></th>\n",
       "      <th></th>\n",
       "      <th></th>\n",
       "      <th></th>\n",
       "      <th></th>\n",
       "      <th></th>\n",
       "      <th></th>\n",
       "      <th></th>\n",
       "      <th></th>\n",
       "      <th></th>\n",
       "    </tr>\n",
       "  </thead>\n",
       "  <tbody>\n",
       "    <tr>\n",
       "      <th rowspan=\"5\" valign=\"top\">-120.9486</th>\n",
       "      <th>34.1347</th>\n",
       "      <td>NaN</td>\n",
       "      <td>NaN</td>\n",
       "      <td>NaN</td>\n",
       "      <td>NaN</td>\n",
       "      <td>NaN</td>\n",
       "      <td>NaN</td>\n",
       "      <td>NaN</td>\n",
       "      <td>NaN</td>\n",
       "      <td>NaN</td>\n",
       "      <td>NaN</td>\n",
       "      <td>...</td>\n",
       "      <td>NaN</td>\n",
       "      <td>NaN</td>\n",
       "      <td>NaN</td>\n",
       "      <td>NaN</td>\n",
       "      <td>NaN</td>\n",
       "      <td>NaN</td>\n",
       "      <td>NaN</td>\n",
       "      <td>NaN</td>\n",
       "      <td>NaN</td>\n",
       "      <td>NaN</td>\n",
       "    </tr>\n",
       "    <tr>\n",
       "      <th>34.1367</th>\n",
       "      <td>NaN</td>\n",
       "      <td>NaN</td>\n",
       "      <td>NaN</td>\n",
       "      <td>NaN</td>\n",
       "      <td>NaN</td>\n",
       "      <td>NaN</td>\n",
       "      <td>NaN</td>\n",
       "      <td>NaN</td>\n",
       "      <td>NaN</td>\n",
       "      <td>NaN</td>\n",
       "      <td>...</td>\n",
       "      <td>NaN</td>\n",
       "      <td>NaN</td>\n",
       "      <td>NaN</td>\n",
       "      <td>NaN</td>\n",
       "      <td>NaN</td>\n",
       "      <td>NaN</td>\n",
       "      <td>NaN</td>\n",
       "      <td>NaN</td>\n",
       "      <td>NaN</td>\n",
       "      <td>NaN</td>\n",
       "    </tr>\n",
       "    <tr>\n",
       "      <th>34.1387</th>\n",
       "      <td>NaN</td>\n",
       "      <td>NaN</td>\n",
       "      <td>NaN</td>\n",
       "      <td>NaN</td>\n",
       "      <td>NaN</td>\n",
       "      <td>NaN</td>\n",
       "      <td>NaN</td>\n",
       "      <td>NaN</td>\n",
       "      <td>NaN</td>\n",
       "      <td>NaN</td>\n",
       "      <td>...</td>\n",
       "      <td>NaN</td>\n",
       "      <td>NaN</td>\n",
       "      <td>NaN</td>\n",
       "      <td>NaN</td>\n",
       "      <td>NaN</td>\n",
       "      <td>NaN</td>\n",
       "      <td>NaN</td>\n",
       "      <td>NaN</td>\n",
       "      <td>NaN</td>\n",
       "      <td>NaN</td>\n",
       "    </tr>\n",
       "    <tr>\n",
       "      <th>34.1407</th>\n",
       "      <td>NaN</td>\n",
       "      <td>NaN</td>\n",
       "      <td>NaN</td>\n",
       "      <td>NaN</td>\n",
       "      <td>NaN</td>\n",
       "      <td>NaN</td>\n",
       "      <td>NaN</td>\n",
       "      <td>NaN</td>\n",
       "      <td>NaN</td>\n",
       "      <td>NaN</td>\n",
       "      <td>...</td>\n",
       "      <td>NaN</td>\n",
       "      <td>NaN</td>\n",
       "      <td>NaN</td>\n",
       "      <td>NaN</td>\n",
       "      <td>NaN</td>\n",
       "      <td>NaN</td>\n",
       "      <td>NaN</td>\n",
       "      <td>NaN</td>\n",
       "      <td>NaN</td>\n",
       "      <td>NaN</td>\n",
       "    </tr>\n",
       "    <tr>\n",
       "      <th>34.1427</th>\n",
       "      <td>NaN</td>\n",
       "      <td>NaN</td>\n",
       "      <td>NaN</td>\n",
       "      <td>NaN</td>\n",
       "      <td>NaN</td>\n",
       "      <td>NaN</td>\n",
       "      <td>NaN</td>\n",
       "      <td>NaN</td>\n",
       "      <td>NaN</td>\n",
       "      <td>NaN</td>\n",
       "      <td>...</td>\n",
       "      <td>NaN</td>\n",
       "      <td>NaN</td>\n",
       "      <td>NaN</td>\n",
       "      <td>NaN</td>\n",
       "      <td>NaN</td>\n",
       "      <td>NaN</td>\n",
       "      <td>NaN</td>\n",
       "      <td>NaN</td>\n",
       "      <td>NaN</td>\n",
       "      <td>NaN</td>\n",
       "    </tr>\n",
       "    <tr>\n",
       "      <th>...</th>\n",
       "      <th>...</th>\n",
       "      <td>...</td>\n",
       "      <td>...</td>\n",
       "      <td>...</td>\n",
       "      <td>...</td>\n",
       "      <td>...</td>\n",
       "      <td>...</td>\n",
       "      <td>...</td>\n",
       "      <td>...</td>\n",
       "      <td>...</td>\n",
       "      <td>...</td>\n",
       "      <td>...</td>\n",
       "      <td>...</td>\n",
       "      <td>...</td>\n",
       "      <td>...</td>\n",
       "      <td>...</td>\n",
       "      <td>...</td>\n",
       "      <td>...</td>\n",
       "      <td>...</td>\n",
       "      <td>...</td>\n",
       "      <td>...</td>\n",
       "      <td>...</td>\n",
       "    </tr>\n",
       "    <tr>\n",
       "      <th rowspan=\"5\" valign=\"top\">-117.6414</th>\n",
       "      <th>37.6236</th>\n",
       "      <td>0.0</td>\n",
       "      <td>4.8278</td>\n",
       "      <td>-1.3065</td>\n",
       "      <td>NaN</td>\n",
       "      <td>-4.1515</td>\n",
       "      <td>-1.9999</td>\n",
       "      <td>9.9914</td>\n",
       "      <td>-3.1055</td>\n",
       "      <td>-0.32799</td>\n",
       "      <td>6.9899</td>\n",
       "      <td>...</td>\n",
       "      <td>8.5800</td>\n",
       "      <td>11.341</td>\n",
       "      <td>5.5704</td>\n",
       "      <td>7.6113</td>\n",
       "      <td>17.002</td>\n",
       "      <td>9.6014</td>\n",
       "      <td>16.436</td>\n",
       "      <td>8.5234</td>\n",
       "      <td>11.904</td>\n",
       "      <td>8.8353</td>\n",
       "    </tr>\n",
       "    <tr>\n",
       "      <th>37.6256</th>\n",
       "      <td>0.0</td>\n",
       "      <td>4.8698</td>\n",
       "      <td>-1.2137</td>\n",
       "      <td>NaN</td>\n",
       "      <td>-4.1588</td>\n",
       "      <td>-1.7372</td>\n",
       "      <td>10.4130</td>\n",
       "      <td>-2.9584</td>\n",
       "      <td>-0.33838</td>\n",
       "      <td>7.3402</td>\n",
       "      <td>...</td>\n",
       "      <td>9.2515</td>\n",
       "      <td>11.996</td>\n",
       "      <td>6.0621</td>\n",
       "      <td>8.2387</td>\n",
       "      <td>17.526</td>\n",
       "      <td>9.5942</td>\n",
       "      <td>16.724</td>\n",
       "      <td>8.2348</td>\n",
       "      <td>11.630</td>\n",
       "      <td>8.3278</td>\n",
       "    </tr>\n",
       "    <tr>\n",
       "      <th>37.6276</th>\n",
       "      <td>0.0</td>\n",
       "      <td>4.8693</td>\n",
       "      <td>-1.1893</td>\n",
       "      <td>NaN</td>\n",
       "      <td>-4.1632</td>\n",
       "      <td>-1.7107</td>\n",
       "      <td>10.4830</td>\n",
       "      <td>-2.9318</td>\n",
       "      <td>-0.34454</td>\n",
       "      <td>7.3978</td>\n",
       "      <td>...</td>\n",
       "      <td>8.8321</td>\n",
       "      <td>11.570</td>\n",
       "      <td>5.5897</td>\n",
       "      <td>7.8226</td>\n",
       "      <td>17.066</td>\n",
       "      <td>9.2927</td>\n",
       "      <td>16.641</td>\n",
       "      <td>8.2757</td>\n",
       "      <td>11.790</td>\n",
       "      <td>8.3947</td>\n",
       "    </tr>\n",
       "    <tr>\n",
       "      <th>37.6296</th>\n",
       "      <td>0.0</td>\n",
       "      <td>4.8277</td>\n",
       "      <td>-1.1906</td>\n",
       "      <td>NaN</td>\n",
       "      <td>-4.1240</td>\n",
       "      <td>-1.8949</td>\n",
       "      <td>10.1870</td>\n",
       "      <td>-3.0179</td>\n",
       "      <td>-0.31614</td>\n",
       "      <td>7.1245</td>\n",
       "      <td>...</td>\n",
       "      <td>10.3320</td>\n",
       "      <td>13.073</td>\n",
       "      <td>7.2137</td>\n",
       "      <td>9.3699</td>\n",
       "      <td>18.582</td>\n",
       "      <td>10.8610</td>\n",
       "      <td>17.917</td>\n",
       "      <td>9.8912</td>\n",
       "      <td>13.381</td>\n",
       "      <td>10.2190</td>\n",
       "    </tr>\n",
       "    <tr>\n",
       "      <th>37.6316</th>\n",
       "      <td>0.0</td>\n",
       "      <td>4.8729</td>\n",
       "      <td>-1.1200</td>\n",
       "      <td>NaN</td>\n",
       "      <td>-4.1457</td>\n",
       "      <td>-1.7033</td>\n",
       "      <td>10.5180</td>\n",
       "      <td>-2.9269</td>\n",
       "      <td>-0.33153</td>\n",
       "      <td>7.3839</td>\n",
       "      <td>...</td>\n",
       "      <td>9.3376</td>\n",
       "      <td>12.053</td>\n",
       "      <td>6.0863</td>\n",
       "      <td>8.3323</td>\n",
       "      <td>17.499</td>\n",
       "      <td>9.8190</td>\n",
       "      <td>16.839</td>\n",
       "      <td>8.8137</td>\n",
       "      <td>12.215</td>\n",
       "      <td>8.8725</td>\n",
       "    </tr>\n",
       "  </tbody>\n",
       "</table>\n",
       "<p>2894595 rows × 110 columns</p>\n",
       "</div>"
      ],
      "text/plain": [
       "                    2014-11-08  2014-12-02  2014-12-26  2015-02-12  \\\n",
       "Longitude Latitude                                                   \n",
       "-120.9486 34.1347          NaN         NaN         NaN         NaN   \n",
       "          34.1367          NaN         NaN         NaN         NaN   \n",
       "          34.1387          NaN         NaN         NaN         NaN   \n",
       "          34.1407          NaN         NaN         NaN         NaN   \n",
       "          34.1427          NaN         NaN         NaN         NaN   \n",
       "...                        ...         ...         ...         ...   \n",
       "-117.6414 37.6236          0.0      4.8278     -1.3065         NaN   \n",
       "          37.6256          0.0      4.8698     -1.2137         NaN   \n",
       "          37.6276          0.0      4.8693     -1.1893         NaN   \n",
       "          37.6296          0.0      4.8277     -1.1906         NaN   \n",
       "          37.6316          0.0      4.8729     -1.1200         NaN   \n",
       "\n",
       "                    2015-03-08  2015-04-01  2015-04-25  2015-05-19  \\\n",
       "Longitude Latitude                                                   \n",
       "-120.9486 34.1347          NaN         NaN         NaN         NaN   \n",
       "          34.1367          NaN         NaN         NaN         NaN   \n",
       "          34.1387          NaN         NaN         NaN         NaN   \n",
       "          34.1407          NaN         NaN         NaN         NaN   \n",
       "          34.1427          NaN         NaN         NaN         NaN   \n",
       "...                        ...         ...         ...         ...   \n",
       "-117.6414 37.6236      -4.1515     -1.9999      9.9914     -3.1055   \n",
       "          37.6256      -4.1588     -1.7372     10.4130     -2.9584   \n",
       "          37.6276      -4.1632     -1.7107     10.4830     -2.9318   \n",
       "          37.6296      -4.1240     -1.8949     10.1870     -3.0179   \n",
       "          37.6316      -4.1457     -1.7033     10.5180     -2.9269   \n",
       "\n",
       "                    2015-06-12  2015-07-06  ...  2018-10-18  2018-10-30  \\\n",
       "Longitude Latitude                          ...                           \n",
       "-120.9486 34.1347          NaN         NaN  ...         NaN         NaN   \n",
       "          34.1367          NaN         NaN  ...         NaN         NaN   \n",
       "          34.1387          NaN         NaN  ...         NaN         NaN   \n",
       "          34.1407          NaN         NaN  ...         NaN         NaN   \n",
       "          34.1427          NaN         NaN  ...         NaN         NaN   \n",
       "...                        ...         ...  ...         ...         ...   \n",
       "-117.6414 37.6236     -0.32799      6.9899  ...      8.5800      11.341   \n",
       "          37.6256     -0.33838      7.3402  ...      9.2515      11.996   \n",
       "          37.6276     -0.34454      7.3978  ...      8.8321      11.570   \n",
       "          37.6296     -0.31614      7.1245  ...     10.3320      13.073   \n",
       "          37.6316     -0.33153      7.3839  ...      9.3376      12.053   \n",
       "\n",
       "                    2018-11-11  2018-11-17  2018-11-23  2018-12-05  \\\n",
       "Longitude Latitude                                                   \n",
       "-120.9486 34.1347          NaN         NaN         NaN         NaN   \n",
       "          34.1367          NaN         NaN         NaN         NaN   \n",
       "          34.1387          NaN         NaN         NaN         NaN   \n",
       "          34.1407          NaN         NaN         NaN         NaN   \n",
       "          34.1427          NaN         NaN         NaN         NaN   \n",
       "...                        ...         ...         ...         ...   \n",
       "-117.6414 37.6236       5.5704      7.6113      17.002      9.6014   \n",
       "          37.6256       6.0621      8.2387      17.526      9.5942   \n",
       "          37.6276       5.5897      7.8226      17.066      9.2927   \n",
       "          37.6296       7.2137      9.3699      18.582     10.8610   \n",
       "          37.6316       6.0863      8.3323      17.499      9.8190   \n",
       "\n",
       "                    2018-12-17  2018-12-29  2019-01-10  2019-01-22  \n",
       "Longitude Latitude                                                  \n",
       "-120.9486 34.1347          NaN         NaN         NaN         NaN  \n",
       "          34.1367          NaN         NaN         NaN         NaN  \n",
       "          34.1387          NaN         NaN         NaN         NaN  \n",
       "          34.1407          NaN         NaN         NaN         NaN  \n",
       "          34.1427          NaN         NaN         NaN         NaN  \n",
       "...                        ...         ...         ...         ...  \n",
       "-117.6414 37.6236       16.436      8.5234      11.904      8.8353  \n",
       "          37.6256       16.724      8.2348      11.630      8.3278  \n",
       "          37.6276       16.641      8.2757      11.790      8.3947  \n",
       "          37.6296       17.917      9.8912      13.381     10.2190  \n",
       "          37.6316       16.839      8.8137      12.215      8.8725  \n",
       "\n",
       "[2894595 rows x 110 columns]"
      ]
     },
     "execution_count": 6,
     "metadata": {},
     "output_type": "execute_result"
    }
   ],
   "source": [
    "df"
   ]
  },
  {
   "cell_type": "code",
   "execution_count": 7,
   "metadata": {},
   "outputs": [],
   "source": [
    "#df.query(\"Longitude==-117.6414 and Latitude==37.6236\")\n",
    "# print(dftest.query('20141108'))\n",
    "#df   "
   ]
  },
  {
   "cell_type": "code",
   "execution_count": 8,
   "metadata": {},
   "outputs": [],
   "source": [
    "tup=(-119.9588,35.185)\n",
    "#tup=(-119.2990,35.8852)\n",
    "#tup=(-120.2888,34.8349)\n",
    "#tup=(-117.6414,37.6236)\n",
    "#print(dftest.loc[tup])"
   ]
  },
  {
   "cell_type": "code",
   "execution_count": 9,
   "metadata": {},
   "outputs": [],
   "source": [
    "def shaping(datain, timestep):\n",
    "    \n",
    "    # Convert input dataframe to array and flatten\n",
    "    arr=datain.to_numpy().flatten() \n",
    "    arr[np.isnan(arr)] = -100\n",
    "    #print(arr)\n",
    "    cnt=0\n",
    "    for mth in range(0, len(datain.columns)-(2*timestep)+1): # Define range lenght of the dates - 2* amount of timesep?? +1\n",
    "        cnt=cnt+1 # Gives us the number of samples. Later used to reshape the data\n",
    "        X_start=mth # Start month for inputs of each sample\n",
    "        X_end=mth+timestep # End month for inputs of each sample\n",
    "        Y_start=mth+timestep # Start month for targets of each sample. Note, start is inclusive and end is exclusive, that's why X_end and Y_start is the same number\n",
    "        Y_end=mth+2*timestep # End month for targets of each sample.  \n",
    "        \n",
    "        # Assemble input and target arrays containing all samples\n",
    "        if mth==0:\n",
    "            X_comb=arr[X_start:X_end]\n",
    "            Y_comb=arr[Y_start:Y_end]\n",
    "        else: \n",
    "            X_comb=np.append(X_comb, arr[X_start:X_end])\n",
    "            Y_comb=np.append(Y_comb, arr[Y_start:Y_end])\n",
    "    \n",
    "    # Reshape input and target arrays\n",
    "    X_out=np.reshape(X_comb, (cnt, timestep, 1))\n",
    "    Y_out=np.reshape(Y_comb, (cnt, timestep, 1))\n",
    "    return X_out, Y_out"
   ]
  },
  {
   "cell_type": "code",
   "execution_count": 10,
   "metadata": {},
   "outputs": [
    {
     "name": "stdout",
     "output_type": "stream",
     "text": [
      "DatetimeIndex(['2018-05-27', '2018-06-08', '2018-06-20', '2018-07-02',\n",
      "               '2018-07-14', '2018-07-26', '2018-08-07', '2018-08-19',\n",
      "               '2018-08-31', '2018-09-12', '2018-09-24', '2018-10-06',\n",
      "               '2018-10-18', '2018-10-30', '2018-11-11', '2018-11-17',\n",
      "               '2018-11-23', '2018-12-05', '2018-12-17', '2018-12-29',\n",
      "               '2019-01-10', '2019-01-22'],\n",
      "              dtype='datetime64[ns]', freq=None)\n"
     ]
    }
   ],
   "source": [
    "##### Step 2 - Prepare data\n",
    "\n",
    "# Split data into train and test dataframes\n",
    "df_train_temp=dftest.iloc[:, :88].copy()\n",
    "df_test_temp=dftest.iloc[:, 88:110].copy()\n",
    "#pick a location to test\n",
    "df_train = df_train_temp[df_train_temp.index==tup].copy() \n",
    "df_test = df_test_temp[df_test_temp.index==tup].copy()\n",
    "\n",
    "print(df_test.columns)\n",
    "#print(df_test)\n",
    "#df_train.columns=['Date','Disp']\n",
    "#df_test.columns=['Date','Disp']\n",
    "\n",
    "\n",
    "# # Split data into train and test dataframes\n",
    "# df_train=df2_pivot.iloc[:, 0:-2*timestep].copy()\n",
    "# df_test=df2_pivot.iloc[:, -2*timestep:].copy()\n",
    "\n",
    "# # Select one location\n",
    "# dfloc_train = df_train[df_train.index==location].copy()\n",
    "# dfloc_test = df_test[df_test.index==location].copy()\n",
    "# #print(df_test.columns)\n",
    "# Select one location\n",
    "#dfloc_train = df_train[df_train.index==location].copy()\n",
    "#dfloc_test = df_test[df_test.index==location].copy()\n",
    "\n",
    "# Use previously defined shaping function to reshape the data for LSTM\n",
    "\n",
    "X_train, Y_train = shaping(datain=df_train, timestep= timestep)\n",
    "X_test, Y_test = shaping(datain=df_test, timestep=timestep)"
   ]
  },
  {
   "cell_type": "code",
   "execution_count": 11,
   "metadata": {},
   "outputs": [],
   "source": [
    "#print(\"dftrain:\", df_train)\n",
    "\n",
    "#print(\"dftest:\", df_test)\n",
    "\n",
    "#print(\"Xtrain:\", X_train)\n",
    "\n",
    "#print(\"Ytrain:\", Y_train.shape[2])\n",
    "\n",
    "#print(\"Xtrain:\", X_train.size)"
   ]
  },
  {
   "cell_type": "code",
   "execution_count": 12,
   "metadata": {},
   "outputs": [],
   "source": [
    "##### Step 3 - Specify the structure of a Neural Network\n",
    "model = Sequential(name=\"LSTM-Model\") # Model\n",
    "model.add(Masking(mask_value=-100, input_shape=(timestep, 1)))\n",
    "model.add(Input(shape=(X_train.shape[1],X_train.shape[2]), name='Input-Layer')) # Input Layer - need to speicfy the shape of inputs\n",
    "model.add(Bidirectional(LSTM(units=32, activation='tanh', recurrent_activation='sigmoid', stateful=False), name='Hidden-LSTM-Encoder-Layer')) # Encoder Layer\n",
    "model.add(RepeatVector(Y_train.shape[1], name='Repeat-Vector-Layer')) # Repeat Vector\n",
    "model.add(Bidirectional(LSTM(units=32, activation='tanh', recurrent_activation='sigmoid', stateful=False, return_sequences=True), name='Hidden-LSTM-Decoder-Layer')) # Decoder Layer\n",
    "model.add(TimeDistributed(Dense(units=1, activation='linear'), name='Output-Layer')) # Output Layer, Linear(x) = x\n",
    "\n"
   ]
  },
  {
   "cell_type": "code",
   "execution_count": 13,
   "metadata": {},
   "outputs": [],
   "source": [
    "##### Step 4 - Compile the model\n",
    "#from keras.optimizers import adam_v2\n",
    "#optimizer = adam_v2.Adam(learning_rate=1)\n",
    "optimizer=Adam( 0.001)\n",
    "\n",
    "model.compile(optimizer='adam', # default='rmsprop', an algorithm to be used in backpropagation\n",
    "              loss='mean_squared_error', # Loss function to be optimized. A string (name of loss function), or a tf.keras.losses.Loss instance.\n",
    "              metrics=['MeanSquaredError', 'MeanAbsoluteError'], # List of metrics to be evaluated by the model during training and testing. Each of this can be a string (name of a built-in function), function or a tf.keras.metrics.Metric instance. \n",
    "              loss_weights=None, # default=None, Optional list or dictionary specifying scalar coefficients (Python floats) to weight the loss contributions of different model outputs.\n",
    "              weighted_metrics=None, # default=None, List of metrics to be evaluated and weighted by sample_weight or class_weight during training and testing.\n",
    "              run_eagerly=None, # Defaults to False. If True, this Model's logic will not be wrapped in a tf.function. Recommended to leave this as None unless your Model cannot be run inside a tf.function.\n",
    "              steps_per_execution=None # Defaults to 1. The number of batches to run during each tf.function call. Running multiple batches inside a single tf.function call can greatly improve performance on TPUs or small models with a large Python overhead.\n",
    "        \n",
    "             )"
   ]
  },
  {
   "cell_type": "code",
   "execution_count": 14,
   "metadata": {},
   "outputs": [
    {
     "name": "stdout",
     "output_type": "stream",
     "text": [
      "Epoch 1/500\n",
      "2/2 - 12s - loss: 60.9126 - mean_squared_error: 60.9126 - mean_absolute_error: 6.9977 - 12s/epoch - 6s/step\n",
      "Epoch 2/500\n",
      "2/2 - 0s - loss: 55.3998 - mean_squared_error: 55.3998 - mean_absolute_error: 6.6400 - 27ms/epoch - 13ms/step\n",
      "Epoch 3/500\n",
      "2/2 - 0s - loss: 50.4127 - mean_squared_error: 50.4127 - mean_absolute_error: 6.2964 - 25ms/epoch - 12ms/step\n",
      "Epoch 4/500\n",
      "2/2 - 0s - loss: 45.5590 - mean_squared_error: 45.5590 - mean_absolute_error: 5.9481 - 26ms/epoch - 13ms/step\n",
      "Epoch 5/500\n",
      "2/2 - 0s - loss: 41.2284 - mean_squared_error: 41.2284 - mean_absolute_error: 5.5957 - 28ms/epoch - 14ms/step\n",
      "Epoch 6/500\n",
      "2/2 - 0s - loss: 37.1731 - mean_squared_error: 37.1731 - mean_absolute_error: 5.2471 - 26ms/epoch - 13ms/step\n",
      "Epoch 7/500\n",
      "2/2 - 0s - loss: 33.4594 - mean_squared_error: 33.4594 - mean_absolute_error: 4.9094 - 25ms/epoch - 12ms/step\n",
      "Epoch 8/500\n",
      "2/2 - 0s - loss: 30.0237 - mean_squared_error: 30.0237 - mean_absolute_error: 4.5873 - 27ms/epoch - 13ms/step\n",
      "Epoch 9/500\n",
      "2/2 - 0s - loss: 27.1095 - mean_squared_error: 27.1095 - mean_absolute_error: 4.2880 - 27ms/epoch - 13ms/step\n",
      "Epoch 10/500\n",
      "2/2 - 0s - loss: 24.5907 - mean_squared_error: 24.5907 - mean_absolute_error: 4.0086 - 24ms/epoch - 12ms/step\n",
      "Epoch 11/500\n",
      "2/2 - 0s - loss: 22.6676 - mean_squared_error: 22.6676 - mean_absolute_error: 3.7720 - 26ms/epoch - 13ms/step\n",
      "Epoch 12/500\n",
      "2/2 - 0s - loss: 21.0517 - mean_squared_error: 21.0518 - mean_absolute_error: 3.5759 - 25ms/epoch - 12ms/step\n",
      "Epoch 13/500\n",
      "2/2 - 0s - loss: 19.9400 - mean_squared_error: 19.9400 - mean_absolute_error: 3.4245 - 24ms/epoch - 12ms/step\n",
      "Epoch 14/500\n",
      "2/2 - 0s - loss: 19.2257 - mean_squared_error: 19.2257 - mean_absolute_error: 3.3193 - 26ms/epoch - 13ms/step\n",
      "Epoch 15/500\n",
      "2/2 - 0s - loss: 18.7238 - mean_squared_error: 18.7238 - mean_absolute_error: 3.2387 - 26ms/epoch - 13ms/step\n",
      "Epoch 16/500\n",
      "2/2 - 0s - loss: 18.4738 - mean_squared_error: 18.4738 - mean_absolute_error: 3.1864 - 25ms/epoch - 12ms/step\n",
      "Epoch 17/500\n",
      "2/2 - 0s - loss: 18.4479 - mean_squared_error: 18.4479 - mean_absolute_error: 3.1585 - 26ms/epoch - 13ms/step\n",
      "Epoch 18/500\n",
      "2/2 - 0s - loss: 18.5082 - mean_squared_error: 18.5082 - mean_absolute_error: 3.1506 - 27ms/epoch - 13ms/step\n",
      "Epoch 19/500\n",
      "2/2 - 0s - loss: 18.6116 - mean_squared_error: 18.6116 - mean_absolute_error: 3.1477 - 26ms/epoch - 13ms/step\n",
      "Epoch 20/500\n",
      "2/2 - 0s - loss: 18.6727 - mean_squared_error: 18.6727 - mean_absolute_error: 3.1452 - 26ms/epoch - 13ms/step\n",
      "Epoch 21/500\n",
      "2/2 - 0s - loss: 18.7175 - mean_squared_error: 18.7175 - mean_absolute_error: 3.1452 - 27ms/epoch - 13ms/step\n",
      "Epoch 22/500\n",
      "2/2 - 0s - loss: 18.7094 - mean_squared_error: 18.7094 - mean_absolute_error: 3.1432 - 26ms/epoch - 13ms/step\n",
      "Epoch 23/500\n",
      "2/2 - 0s - loss: 18.6665 - mean_squared_error: 18.6665 - mean_absolute_error: 3.1411 - 27ms/epoch - 13ms/step\n",
      "Epoch 24/500\n",
      "2/2 - 0s - loss: 18.6069 - mean_squared_error: 18.6069 - mean_absolute_error: 3.1394 - 29ms/epoch - 14ms/step\n",
      "Epoch 25/500\n",
      "2/2 - 0s - loss: 18.5341 - mean_squared_error: 18.5341 - mean_absolute_error: 3.1389 - 26ms/epoch - 13ms/step\n",
      "Epoch 26/500\n",
      "2/2 - 0s - loss: 18.4540 - mean_squared_error: 18.4540 - mean_absolute_error: 3.1391 - 25ms/epoch - 12ms/step\n",
      "Epoch 27/500\n",
      "2/2 - 0s - loss: 18.4072 - mean_squared_error: 18.4072 - mean_absolute_error: 3.1415 - 25ms/epoch - 12ms/step\n",
      "Epoch 28/500\n",
      "2/2 - 0s - loss: 18.3562 - mean_squared_error: 18.3562 - mean_absolute_error: 3.1425 - 26ms/epoch - 13ms/step\n",
      "Epoch 29/500\n",
      "2/2 - 0s - loss: 18.3171 - mean_squared_error: 18.3171 - mean_absolute_error: 3.1431 - 32ms/epoch - 16ms/step\n",
      "Epoch 30/500\n",
      "2/2 - 0s - loss: 18.3112 - mean_squared_error: 18.3112 - mean_absolute_error: 3.1480 - 26ms/epoch - 13ms/step\n",
      "Epoch 31/500\n",
      "2/2 - 0s - loss: 18.2981 - mean_squared_error: 18.2981 - mean_absolute_error: 3.1513 - 25ms/epoch - 12ms/step\n",
      "Epoch 32/500\n",
      "2/2 - 0s - loss: 18.2967 - mean_squared_error: 18.2967 - mean_absolute_error: 3.1564 - 27ms/epoch - 13ms/step\n",
      "Epoch 33/500\n",
      "2/2 - 0s - loss: 18.3012 - mean_squared_error: 18.3012 - mean_absolute_error: 3.1603 - 25ms/epoch - 12ms/step\n",
      "Epoch 34/500\n",
      "2/2 - 0s - loss: 18.2928 - mean_squared_error: 18.2928 - mean_absolute_error: 3.1620 - 25ms/epoch - 12ms/step\n",
      "Epoch 35/500\n",
      "2/2 - 0s - loss: 18.2855 - mean_squared_error: 18.2855 - mean_absolute_error: 3.1619 - 26ms/epoch - 13ms/step\n",
      "Epoch 36/500\n",
      "2/2 - 0s - loss: 18.2761 - mean_squared_error: 18.2761 - mean_absolute_error: 3.1608 - 25ms/epoch - 12ms/step\n",
      "Epoch 37/500\n",
      "2/2 - 0s - loss: 18.2636 - mean_squared_error: 18.2636 - mean_absolute_error: 3.1587 - 28ms/epoch - 14ms/step\n",
      "Epoch 38/500\n",
      "2/2 - 0s - loss: 18.2510 - mean_squared_error: 18.2510 - mean_absolute_error: 3.1556 - 31ms/epoch - 15ms/step\n",
      "Epoch 39/500\n",
      "2/2 - 0s - loss: 18.2362 - mean_squared_error: 18.2362 - mean_absolute_error: 3.1518 - 29ms/epoch - 14ms/step\n",
      "Epoch 40/500\n",
      "2/2 - 0s - loss: 18.2258 - mean_squared_error: 18.2258 - mean_absolute_error: 3.1475 - 26ms/epoch - 13ms/step\n",
      "Epoch 41/500\n",
      "2/2 - 0s - loss: 18.2114 - mean_squared_error: 18.2114 - mean_absolute_error: 3.1436 - 24ms/epoch - 12ms/step\n",
      "Epoch 42/500\n",
      "2/2 - 0s - loss: 18.2026 - mean_squared_error: 18.2026 - mean_absolute_error: 3.1407 - 26ms/epoch - 13ms/step\n",
      "Epoch 43/500\n",
      "2/2 - 0s - loss: 18.1955 - mean_squared_error: 18.1955 - mean_absolute_error: 3.1384 - 26ms/epoch - 13ms/step\n",
      "Epoch 44/500\n",
      "2/2 - 0s - loss: 18.1836 - mean_squared_error: 18.1836 - mean_absolute_error: 3.1355 - 26ms/epoch - 13ms/step\n",
      "Epoch 45/500\n",
      "2/2 - 0s - loss: 18.1737 - mean_squared_error: 18.1737 - mean_absolute_error: 3.1337 - 26ms/epoch - 13ms/step\n",
      "Epoch 46/500\n",
      "2/2 - 0s - loss: 18.1640 - mean_squared_error: 18.1640 - mean_absolute_error: 3.1324 - 25ms/epoch - 12ms/step\n",
      "Epoch 47/500\n",
      "2/2 - 0s - loss: 18.1530 - mean_squared_error: 18.1530 - mean_absolute_error: 3.1316 - 24ms/epoch - 12ms/step\n",
      "Epoch 48/500\n",
      "2/2 - 0s - loss: 18.1421 - mean_squared_error: 18.1421 - mean_absolute_error: 3.1311 - 24ms/epoch - 12ms/step\n",
      "Epoch 49/500\n",
      "2/2 - 0s - loss: 18.1299 - mean_squared_error: 18.1299 - mean_absolute_error: 3.1304 - 26ms/epoch - 13ms/step\n",
      "Epoch 50/500\n",
      "2/2 - 0s - loss: 18.1190 - mean_squared_error: 18.1190 - mean_absolute_error: 3.1299 - 24ms/epoch - 12ms/step\n",
      "Epoch 51/500\n",
      "2/2 - 0s - loss: 18.1057 - mean_squared_error: 18.1057 - mean_absolute_error: 3.1296 - 25ms/epoch - 12ms/step\n",
      "Epoch 52/500\n",
      "2/2 - 0s - loss: 18.0955 - mean_squared_error: 18.0955 - mean_absolute_error: 3.1294 - 24ms/epoch - 12ms/step\n",
      "Epoch 53/500\n",
      "2/2 - 0s - loss: 18.0827 - mean_squared_error: 18.0827 - mean_absolute_error: 3.1287 - 48ms/epoch - 24ms/step\n",
      "Epoch 54/500\n",
      "2/2 - 0s - loss: 18.0706 - mean_squared_error: 18.0706 - mean_absolute_error: 3.1278 - 28ms/epoch - 14ms/step\n",
      "Epoch 55/500\n",
      "2/2 - 0s - loss: 18.0591 - mean_squared_error: 18.0591 - mean_absolute_error: 3.1266 - 29ms/epoch - 14ms/step\n",
      "Epoch 56/500\n",
      "2/2 - 0s - loss: 18.0398 - mean_squared_error: 18.0398 - mean_absolute_error: 3.1242 - 27ms/epoch - 13ms/step\n",
      "Epoch 57/500\n",
      "2/2 - 0s - loss: 18.0259 - mean_squared_error: 18.0259 - mean_absolute_error: 3.1229 - 36ms/epoch - 18ms/step\n",
      "Epoch 58/500\n",
      "2/2 - 0s - loss: 18.0095 - mean_squared_error: 18.0095 - mean_absolute_error: 3.1212 - 32ms/epoch - 16ms/step\n",
      "Epoch 59/500\n",
      "2/2 - 0s - loss: 17.9935 - mean_squared_error: 17.9935 - mean_absolute_error: 3.1194 - 25ms/epoch - 13ms/step\n",
      "Epoch 60/500\n",
      "2/2 - 0s - loss: 17.9774 - mean_squared_error: 17.9774 - mean_absolute_error: 3.1171 - 24ms/epoch - 12ms/step\n",
      "Epoch 61/500\n",
      "2/2 - 0s - loss: 17.9581 - mean_squared_error: 17.9581 - mean_absolute_error: 3.1144 - 25ms/epoch - 12ms/step\n",
      "Epoch 62/500\n",
      "2/2 - 0s - loss: 17.9358 - mean_squared_error: 17.9358 - mean_absolute_error: 3.1118 - 25ms/epoch - 12ms/step\n",
      "Epoch 63/500\n",
      "2/2 - 0s - loss: 17.9141 - mean_squared_error: 17.9141 - mean_absolute_error: 3.1094 - 24ms/epoch - 12ms/step\n",
      "Epoch 64/500\n",
      "2/2 - 0s - loss: 17.8939 - mean_squared_error: 17.8939 - mean_absolute_error: 3.1065 - 24ms/epoch - 12ms/step\n",
      "Epoch 65/500\n",
      "2/2 - 0s - loss: 17.8679 - mean_squared_error: 17.8679 - mean_absolute_error: 3.1039 - 26ms/epoch - 13ms/step\n",
      "Epoch 66/500\n",
      "2/2 - 0s - loss: 17.8414 - mean_squared_error: 17.8414 - mean_absolute_error: 3.1010 - 25ms/epoch - 12ms/step\n",
      "Epoch 67/500\n",
      "2/2 - 0s - loss: 17.8155 - mean_squared_error: 17.8155 - mean_absolute_error: 3.0972 - 25ms/epoch - 12ms/step\n",
      "Epoch 68/500\n",
      "2/2 - 0s - loss: 17.7877 - mean_squared_error: 17.7877 - mean_absolute_error: 3.0931 - 25ms/epoch - 12ms/step\n",
      "Epoch 69/500\n",
      "2/2 - 0s - loss: 17.7562 - mean_squared_error: 17.7562 - mean_absolute_error: 3.0885 - 24ms/epoch - 12ms/step\n",
      "Epoch 70/500\n",
      "2/2 - 0s - loss: 17.7245 - mean_squared_error: 17.7245 - mean_absolute_error: 3.0842 - 26ms/epoch - 13ms/step\n",
      "Epoch 71/500\n",
      "2/2 - 0s - loss: 17.6916 - mean_squared_error: 17.6916 - mean_absolute_error: 3.0796 - 25ms/epoch - 12ms/step\n",
      "Epoch 72/500\n",
      "2/2 - 0s - loss: 17.6584 - mean_squared_error: 17.6584 - mean_absolute_error: 3.0744 - 26ms/epoch - 13ms/step\n",
      "Epoch 73/500\n",
      "2/2 - 0s - loss: 17.6225 - mean_squared_error: 17.6225 - mean_absolute_error: 3.0703 - 26ms/epoch - 13ms/step\n",
      "Epoch 74/500\n",
      "2/2 - 0s - loss: 17.5814 - mean_squared_error: 17.5814 - mean_absolute_error: 3.0657 - 25ms/epoch - 12ms/step\n",
      "Epoch 75/500\n",
      "2/2 - 0s - loss: 17.5429 - mean_squared_error: 17.5429 - mean_absolute_error: 3.0606 - 25ms/epoch - 12ms/step\n",
      "Epoch 76/500\n",
      "2/2 - 0s - loss: 17.5004 - mean_squared_error: 17.5004 - mean_absolute_error: 3.0538 - 25ms/epoch - 12ms/step\n",
      "Epoch 77/500\n",
      "2/2 - 0s - loss: 17.4577 - mean_squared_error: 17.4577 - mean_absolute_error: 3.0479 - 27ms/epoch - 13ms/step\n",
      "Epoch 78/500\n",
      "2/2 - 0s - loss: 17.4123 - mean_squared_error: 17.4123 - mean_absolute_error: 3.0421 - 26ms/epoch - 13ms/step\n",
      "Epoch 79/500\n",
      "2/2 - 0s - loss: 17.3681 - mean_squared_error: 17.3681 - mean_absolute_error: 3.0373 - 26ms/epoch - 13ms/step\n",
      "Epoch 80/500\n",
      "2/2 - 0s - loss: 17.3285 - mean_squared_error: 17.3285 - mean_absolute_error: 3.0312 - 24ms/epoch - 12ms/step\n",
      "Epoch 81/500\n",
      "2/2 - 0s - loss: 17.2733 - mean_squared_error: 17.2733 - mean_absolute_error: 3.0222 - 25ms/epoch - 12ms/step\n",
      "Epoch 82/500\n",
      "2/2 - 0s - loss: 17.2273 - mean_squared_error: 17.2273 - mean_absolute_error: 3.0181 - 26ms/epoch - 13ms/step\n",
      "Epoch 83/500\n",
      "2/2 - 0s - loss: 17.1881 - mean_squared_error: 17.1881 - mean_absolute_error: 3.0134 - 29ms/epoch - 14ms/step\n",
      "Epoch 84/500\n",
      "2/2 - 0s - loss: 17.1443 - mean_squared_error: 17.1443 - mean_absolute_error: 3.0056 - 27ms/epoch - 13ms/step\n",
      "Epoch 85/500\n",
      "2/2 - 0s - loss: 17.0988 - mean_squared_error: 17.0988 - mean_absolute_error: 2.9974 - 52ms/epoch - 26ms/step\n",
      "Epoch 86/500\n",
      "2/2 - 0s - loss: 17.0615 - mean_squared_error: 17.0615 - mean_absolute_error: 2.9964 - 29ms/epoch - 14ms/step\n",
      "Epoch 87/500\n",
      "2/2 - 0s - loss: 17.0245 - mean_squared_error: 17.0245 - mean_absolute_error: 2.9899 - 25ms/epoch - 12ms/step\n",
      "Epoch 88/500\n",
      "2/2 - 0s - loss: 16.9864 - mean_squared_error: 16.9864 - mean_absolute_error: 2.9810 - 27ms/epoch - 13ms/step\n",
      "Epoch 89/500\n",
      "2/2 - 0s - loss: 16.9421 - mean_squared_error: 16.9421 - mean_absolute_error: 2.9781 - 28ms/epoch - 14ms/step\n",
      "Epoch 90/500\n",
      "2/2 - 0s - loss: 16.9213 - mean_squared_error: 16.9213 - mean_absolute_error: 2.9768 - 25ms/epoch - 12ms/step\n",
      "Epoch 91/500\n",
      "2/2 - 0s - loss: 16.8761 - mean_squared_error: 16.8761 - mean_absolute_error: 2.9669 - 24ms/epoch - 12ms/step\n",
      "Epoch 92/500\n",
      "2/2 - 0s - loss: 16.8600 - mean_squared_error: 16.8600 - mean_absolute_error: 2.9608 - 24ms/epoch - 12ms/step\n",
      "Epoch 93/500\n",
      "2/2 - 0s - loss: 16.8288 - mean_squared_error: 16.8288 - mean_absolute_error: 2.9588 - 25ms/epoch - 12ms/step\n",
      "Epoch 94/500\n",
      "2/2 - 0s - loss: 16.7955 - mean_squared_error: 16.7955 - mean_absolute_error: 2.9545 - 25ms/epoch - 12ms/step\n",
      "Epoch 95/500\n",
      "2/2 - 0s - loss: 16.7755 - mean_squared_error: 16.7755 - mean_absolute_error: 2.9473 - 24ms/epoch - 12ms/step\n",
      "Epoch 96/500\n",
      "2/2 - 0s - loss: 16.7653 - mean_squared_error: 16.7653 - mean_absolute_error: 2.9412 - 27ms/epoch - 13ms/step\n",
      "Epoch 97/500\n",
      "2/2 - 0s - loss: 16.7384 - mean_squared_error: 16.7384 - mean_absolute_error: 2.9436 - 26ms/epoch - 13ms/step\n",
      "Epoch 98/500\n",
      "2/2 - 0s - loss: 16.7278 - mean_squared_error: 16.7278 - mean_absolute_error: 2.9484 - 26ms/epoch - 13ms/step\n",
      "Epoch 99/500\n",
      "2/2 - 0s - loss: 16.7050 - mean_squared_error: 16.7050 - mean_absolute_error: 2.9330 - 25ms/epoch - 12ms/step\n",
      "Epoch 100/500\n",
      "2/2 - 4s - loss: 16.6929 - mean_squared_error: 16.6929 - mean_absolute_error: 2.9305 - val_loss: 15.8860 - val_mean_squared_error: 15.8860 - val_mean_absolute_error: 3.0406 - 4s/epoch - 2s/step\n",
      "Epoch 101/500\n",
      "2/2 - 0s - loss: 16.6706 - mean_squared_error: 16.6706 - mean_absolute_error: 2.9359 - 24ms/epoch - 12ms/step\n",
      "Epoch 102/500\n",
      "2/2 - 0s - loss: 16.6603 - mean_squared_error: 16.6603 - mean_absolute_error: 2.9360 - 26ms/epoch - 13ms/step\n",
      "Epoch 103/500\n",
      "2/2 - 0s - loss: 16.6423 - mean_squared_error: 16.6423 - mean_absolute_error: 2.9273 - 24ms/epoch - 12ms/step\n",
      "Epoch 104/500\n",
      "2/2 - 0s - loss: 16.6353 - mean_squared_error: 16.6353 - mean_absolute_error: 2.9223 - 24ms/epoch - 12ms/step\n",
      "Epoch 105/500\n",
      "2/2 - 0s - loss: 16.6187 - mean_squared_error: 16.6187 - mean_absolute_error: 2.9238 - 25ms/epoch - 12ms/step\n",
      "Epoch 106/500\n",
      "2/2 - 0s - loss: 16.6146 - mean_squared_error: 16.6146 - mean_absolute_error: 2.9277 - 26ms/epoch - 13ms/step\n",
      "Epoch 107/500\n",
      "2/2 - 0s - loss: 16.5968 - mean_squared_error: 16.5968 - mean_absolute_error: 2.9191 - 24ms/epoch - 12ms/step\n",
      "Epoch 108/500\n",
      "2/2 - 0s - loss: 16.5968 - mean_squared_error: 16.5968 - mean_absolute_error: 2.9169 - 25ms/epoch - 12ms/step\n",
      "Epoch 109/500\n",
      "2/2 - 0s - loss: 16.5767 - mean_squared_error: 16.5767 - mean_absolute_error: 2.9209 - 25ms/epoch - 12ms/step\n",
      "Epoch 110/500\n",
      "2/2 - 0s - loss: 16.5687 - mean_squared_error: 16.5687 - mean_absolute_error: 2.9139 - 26ms/epoch - 13ms/step\n",
      "Epoch 111/500\n",
      "2/2 - 0s - loss: 16.5674 - mean_squared_error: 16.5674 - mean_absolute_error: 2.9102 - 28ms/epoch - 14ms/step\n",
      "Epoch 112/500\n",
      "2/2 - 0s - loss: 16.5507 - mean_squared_error: 16.5507 - mean_absolute_error: 2.9213 - 25ms/epoch - 12ms/step\n",
      "Epoch 113/500\n",
      "2/2 - 0s - loss: 16.5446 - mean_squared_error: 16.5446 - mean_absolute_error: 2.9217 - 24ms/epoch - 12ms/step\n",
      "Epoch 114/500\n",
      "2/2 - 0s - loss: 16.5386 - mean_squared_error: 16.5386 - mean_absolute_error: 2.9076 - 26ms/epoch - 13ms/step\n",
      "Epoch 115/500\n",
      "2/2 - 0s - loss: 16.5194 - mean_squared_error: 16.5194 - mean_absolute_error: 2.9114 - 25ms/epoch - 12ms/step\n",
      "Epoch 116/500\n",
      "2/2 - 0s - loss: 16.5228 - mean_squared_error: 16.5228 - mean_absolute_error: 2.9212 - 27ms/epoch - 13ms/step\n",
      "Epoch 117/500\n",
      "2/2 - 0s - loss: 16.4981 - mean_squared_error: 16.4981 - mean_absolute_error: 2.9169 - 26ms/epoch - 13ms/step\n",
      "Epoch 118/500\n",
      "2/2 - 0s - loss: 16.4809 - mean_squared_error: 16.4809 - mean_absolute_error: 2.9105 - 25ms/epoch - 12ms/step\n",
      "Epoch 119/500\n",
      "2/2 - 0s - loss: 16.4783 - mean_squared_error: 16.4783 - mean_absolute_error: 2.9045 - 25ms/epoch - 12ms/step\n",
      "Epoch 120/500\n",
      "2/2 - 0s - loss: 16.4654 - mean_squared_error: 16.4654 - mean_absolute_error: 2.9051 - 27ms/epoch - 13ms/step\n",
      "Epoch 121/500\n",
      "2/2 - 0s - loss: 16.4666 - mean_squared_error: 16.4666 - mean_absolute_error: 2.9121 - 25ms/epoch - 12ms/step\n",
      "Epoch 122/500\n",
      "2/2 - 0s - loss: 16.4451 - mean_squared_error: 16.4451 - mean_absolute_error: 2.9133 - 25ms/epoch - 12ms/step\n",
      "Epoch 123/500\n",
      "2/2 - 0s - loss: 16.4409 - mean_squared_error: 16.4409 - mean_absolute_error: 2.9014 - 29ms/epoch - 14ms/step\n",
      "Epoch 124/500\n",
      "2/2 - 0s - loss: 16.4281 - mean_squared_error: 16.4281 - mean_absolute_error: 2.8987 - 26ms/epoch - 13ms/step\n",
      "Epoch 125/500\n",
      "2/2 - 0s - loss: 16.4162 - mean_squared_error: 16.4162 - mean_absolute_error: 2.9074 - 27ms/epoch - 13ms/step\n",
      "Epoch 126/500\n",
      "2/2 - 0s - loss: 16.4190 - mean_squared_error: 16.4190 - mean_absolute_error: 2.9138 - 26ms/epoch - 13ms/step\n",
      "Epoch 127/500\n",
      "2/2 - 0s - loss: 16.3920 - mean_squared_error: 16.3920 - mean_absolute_error: 2.8990 - 26ms/epoch - 13ms/step\n",
      "Epoch 128/500\n",
      "2/2 - 0s - loss: 16.3981 - mean_squared_error: 16.3981 - mean_absolute_error: 2.8936 - 25ms/epoch - 13ms/step\n",
      "Epoch 129/500\n",
      "2/2 - 0s - loss: 16.3661 - mean_squared_error: 16.3661 - mean_absolute_error: 2.8978 - 26ms/epoch - 13ms/step\n",
      "Epoch 130/500\n",
      "2/2 - 0s - loss: 16.3806 - mean_squared_error: 16.3806 - mean_absolute_error: 2.9122 - 28ms/epoch - 14ms/step\n",
      "Epoch 131/500\n",
      "2/2 - 0s - loss: 16.3554 - mean_squared_error: 16.3554 - mean_absolute_error: 2.9035 - 24ms/epoch - 12ms/step\n",
      "Epoch 132/500\n",
      "2/2 - 0s - loss: 16.3455 - mean_squared_error: 16.3455 - mean_absolute_error: 2.8928 - 24ms/epoch - 12ms/step\n",
      "Epoch 133/500\n",
      "2/2 - 0s - loss: 16.3402 - mean_squared_error: 16.3402 - mean_absolute_error: 2.8959 - 25ms/epoch - 13ms/step\n",
      "Epoch 134/500\n",
      "2/2 - 0s - loss: 16.3220 - mean_squared_error: 16.3220 - mean_absolute_error: 2.8932 - 26ms/epoch - 13ms/step\n",
      "Epoch 135/500\n",
      "2/2 - 0s - loss: 16.3112 - mean_squared_error: 16.3112 - mean_absolute_error: 2.8948 - 24ms/epoch - 12ms/step\n",
      "Epoch 136/500\n",
      "2/2 - 0s - loss: 16.2839 - mean_squared_error: 16.2839 - mean_absolute_error: 2.8922 - 25ms/epoch - 12ms/step\n",
      "Epoch 137/500\n",
      "2/2 - 0s - loss: 16.3131 - mean_squared_error: 16.3131 - mean_absolute_error: 2.8888 - 24ms/epoch - 12ms/step\n",
      "Epoch 138/500\n",
      "2/2 - 0s - loss: 16.2671 - mean_squared_error: 16.2671 - mean_absolute_error: 2.8958 - 24ms/epoch - 12ms/step\n",
      "Epoch 139/500\n",
      "2/2 - 0s - loss: 16.2699 - mean_squared_error: 16.2699 - mean_absolute_error: 2.9039 - 26ms/epoch - 13ms/step\n",
      "Epoch 140/500\n",
      "2/2 - 0s - loss: 16.2435 - mean_squared_error: 16.2435 - mean_absolute_error: 2.8845 - 26ms/epoch - 13ms/step\n",
      "Epoch 141/500\n",
      "2/2 - 0s - loss: 16.2524 - mean_squared_error: 16.2524 - mean_absolute_error: 2.8789 - 28ms/epoch - 14ms/step\n",
      "Epoch 142/500\n",
      "2/2 - 0s - loss: 16.2219 - mean_squared_error: 16.2219 - mean_absolute_error: 2.8916 - 24ms/epoch - 12ms/step\n",
      "Epoch 143/500\n",
      "2/2 - 0s - loss: 16.2204 - mean_squared_error: 16.2204 - mean_absolute_error: 2.8982 - 25ms/epoch - 12ms/step\n",
      "Epoch 144/500\n",
      "2/2 - 0s - loss: 16.2241 - mean_squared_error: 16.2241 - mean_absolute_error: 2.8847 - 24ms/epoch - 12ms/step\n",
      "Epoch 145/500\n",
      "2/2 - 0s - loss: 16.1808 - mean_squared_error: 16.1808 - mean_absolute_error: 2.8831 - 24ms/epoch - 12ms/step\n",
      "Epoch 146/500\n",
      "2/2 - 0s - loss: 16.2027 - mean_squared_error: 16.2027 - mean_absolute_error: 2.8991 - 25ms/epoch - 12ms/step\n",
      "Epoch 147/500\n",
      "2/2 - 0s - loss: 16.1549 - mean_squared_error: 16.1549 - mean_absolute_error: 2.8790 - 24ms/epoch - 12ms/step\n",
      "Epoch 148/500\n",
      "2/2 - 0s - loss: 16.1838 - mean_squared_error: 16.1838 - mean_absolute_error: 2.8731 - 28ms/epoch - 14ms/step\n",
      "Epoch 149/500\n",
      "2/2 - 0s - loss: 16.1304 - mean_squared_error: 16.1304 - mean_absolute_error: 2.8812 - 27ms/epoch - 13ms/step\n",
      "Epoch 150/500\n",
      "2/2 - 0s - loss: 16.1660 - mean_squared_error: 16.1660 - mean_absolute_error: 2.8943 - 29ms/epoch - 14ms/step\n",
      "Epoch 151/500\n",
      "2/2 - 0s - loss: 16.1406 - mean_squared_error: 16.1406 - mean_absolute_error: 2.8760 - 27ms/epoch - 13ms/step\n",
      "Epoch 152/500\n",
      "2/2 - 0s - loss: 16.1187 - mean_squared_error: 16.1187 - mean_absolute_error: 2.8793 - 23ms/epoch - 11ms/step\n",
      "Epoch 153/500\n",
      "2/2 - 0s - loss: 16.1057 - mean_squared_error: 16.1057 - mean_absolute_error: 2.8904 - 24ms/epoch - 12ms/step\n",
      "Epoch 154/500\n",
      "2/2 - 0s - loss: 16.1054 - mean_squared_error: 16.1054 - mean_absolute_error: 2.8969 - 24ms/epoch - 12ms/step\n",
      "Epoch 155/500\n",
      "2/2 - 0s - loss: 16.0903 - mean_squared_error: 16.0903 - mean_absolute_error: 2.8721 - 24ms/epoch - 12ms/step\n",
      "Epoch 156/500\n",
      "2/2 - 0s - loss: 16.0827 - mean_squared_error: 16.0827 - mean_absolute_error: 2.8711 - 27ms/epoch - 13ms/step\n",
      "Epoch 157/500\n",
      "2/2 - 0s - loss: 16.0769 - mean_squared_error: 16.0769 - mean_absolute_error: 2.8843 - 25ms/epoch - 12ms/step\n",
      "Epoch 158/500\n",
      "2/2 - 0s - loss: 16.0678 - mean_squared_error: 16.0678 - mean_absolute_error: 2.8766 - 25ms/epoch - 12ms/step\n",
      "Epoch 159/500\n",
      "2/2 - 0s - loss: 16.0556 - mean_squared_error: 16.0556 - mean_absolute_error: 2.8749 - 26ms/epoch - 13ms/step\n",
      "Epoch 160/500\n",
      "2/2 - 0s - loss: 16.0518 - mean_squared_error: 16.0518 - mean_absolute_error: 2.8860 - 28ms/epoch - 14ms/step\n",
      "Epoch 161/500\n",
      "2/2 - 0s - loss: 16.0265 - mean_squared_error: 16.0265 - mean_absolute_error: 2.8811 - 25ms/epoch - 12ms/step\n",
      "Epoch 162/500\n",
      "2/2 - 0s - loss: 16.0292 - mean_squared_error: 16.0292 - mean_absolute_error: 2.8685 - 24ms/epoch - 12ms/step\n",
      "Epoch 163/500\n",
      "2/2 - 0s - loss: 16.0245 - mean_squared_error: 16.0245 - mean_absolute_error: 2.8679 - 25ms/epoch - 12ms/step\n",
      "Epoch 164/500\n",
      "2/2 - 0s - loss: 16.0088 - mean_squared_error: 16.0088 - mean_absolute_error: 2.8693 - 24ms/epoch - 12ms/step\n",
      "Epoch 165/500\n",
      "2/2 - 0s - loss: 16.0007 - mean_squared_error: 16.0007 - mean_absolute_error: 2.8674 - 24ms/epoch - 12ms/step\n",
      "Epoch 166/500\n",
      "2/2 - 0s - loss: 15.9902 - mean_squared_error: 15.9902 - mean_absolute_error: 2.8790 - 24ms/epoch - 12ms/step\n",
      "Epoch 167/500\n",
      "2/2 - 0s - loss: 15.9899 - mean_squared_error: 15.9899 - mean_absolute_error: 2.8771 - 24ms/epoch - 12ms/step\n",
      "Epoch 168/500\n",
      "2/2 - 0s - loss: 15.9785 - mean_squared_error: 15.9785 - mean_absolute_error: 2.8735 - 24ms/epoch - 12ms/step\n",
      "Epoch 169/500\n",
      "2/2 - 0s - loss: 15.9793 - mean_squared_error: 15.9793 - mean_absolute_error: 2.8735 - 26ms/epoch - 13ms/step\n",
      "Epoch 170/500\n",
      "2/2 - 0s - loss: 15.9642 - mean_squared_error: 15.9642 - mean_absolute_error: 2.8713 - 25ms/epoch - 12ms/step\n",
      "Epoch 171/500\n",
      "2/2 - 0s - loss: 15.9568 - mean_squared_error: 15.9568 - mean_absolute_error: 2.8685 - 24ms/epoch - 12ms/step\n",
      "Epoch 172/500\n",
      "2/2 - 0s - loss: 15.9537 - mean_squared_error: 15.9537 - mean_absolute_error: 2.8733 - 27ms/epoch - 13ms/step\n",
      "Epoch 173/500\n",
      "2/2 - 0s - loss: 15.9430 - mean_squared_error: 15.9430 - mean_absolute_error: 2.8696 - 24ms/epoch - 12ms/step\n",
      "Epoch 174/500\n",
      "2/2 - 0s - loss: 15.9401 - mean_squared_error: 15.9401 - mean_absolute_error: 2.8643 - 25ms/epoch - 13ms/step\n",
      "Epoch 175/500\n",
      "2/2 - 0s - loss: 15.9680 - mean_squared_error: 15.9680 - mean_absolute_error: 2.8804 - 27ms/epoch - 13ms/step\n",
      "Epoch 176/500\n",
      "2/2 - 0s - loss: 16.0969 - mean_squared_error: 16.0969 - mean_absolute_error: 2.8612 - 26ms/epoch - 13ms/step\n",
      "Epoch 177/500\n",
      "2/2 - 0s - loss: 15.9657 - mean_squared_error: 15.9657 - mean_absolute_error: 2.8782 - 25ms/epoch - 12ms/step\n",
      "Epoch 178/500\n",
      "2/2 - 0s - loss: 15.9589 - mean_squared_error: 15.9589 - mean_absolute_error: 2.8851 - 25ms/epoch - 12ms/step\n",
      "Epoch 179/500\n",
      "2/2 - 0s - loss: 15.9508 - mean_squared_error: 15.9508 - mean_absolute_error: 2.8724 - 24ms/epoch - 12ms/step\n",
      "Epoch 180/500\n",
      "2/2 - 0s - loss: 15.9354 - mean_squared_error: 15.9354 - mean_absolute_error: 2.8650 - 26ms/epoch - 13ms/step\n",
      "Epoch 181/500\n",
      "2/2 - 0s - loss: 15.9536 - mean_squared_error: 15.9536 - mean_absolute_error: 2.8773 - 31ms/epoch - 15ms/step\n",
      "Epoch 182/500\n",
      "2/2 - 0s - loss: 15.9593 - mean_squared_error: 15.9593 - mean_absolute_error: 2.8667 - 27ms/epoch - 13ms/step\n",
      "Epoch 183/500\n",
      "2/2 - 0s - loss: 15.9246 - mean_squared_error: 15.9246 - mean_absolute_error: 2.8659 - 24ms/epoch - 12ms/step\n",
      "Epoch 184/500\n",
      "2/2 - 0s - loss: 15.9453 - mean_squared_error: 15.9453 - mean_absolute_error: 2.8869 - 24ms/epoch - 12ms/step\n",
      "Epoch 185/500\n",
      "2/2 - 0s - loss: 15.9097 - mean_squared_error: 15.9097 - mean_absolute_error: 2.8794 - 25ms/epoch - 12ms/step\n",
      "Epoch 186/500\n",
      "2/2 - 0s - loss: 15.9217 - mean_squared_error: 15.9217 - mean_absolute_error: 2.8645 - 23ms/epoch - 11ms/step\n",
      "Epoch 187/500\n",
      "2/2 - 0s - loss: 15.9321 - mean_squared_error: 15.9321 - mean_absolute_error: 2.8600 - 26ms/epoch - 13ms/step\n",
      "Epoch 188/500\n",
      "2/2 - 0s - loss: 15.8902 - mean_squared_error: 15.8902 - mean_absolute_error: 2.8673 - 24ms/epoch - 12ms/step\n",
      "Epoch 189/500\n",
      "2/2 - 0s - loss: 15.8996 - mean_squared_error: 15.8996 - mean_absolute_error: 2.8712 - 24ms/epoch - 12ms/step\n",
      "Epoch 190/500\n",
      "2/2 - 0s - loss: 15.8871 - mean_squared_error: 15.8871 - mean_absolute_error: 2.8631 - 47ms/epoch - 23ms/step\n",
      "Epoch 191/500\n",
      "2/2 - 0s - loss: 15.8765 - mean_squared_error: 15.8765 - mean_absolute_error: 2.8651 - 29ms/epoch - 14ms/step\n",
      "Epoch 192/500\n",
      "2/2 - 0s - loss: 15.8798 - mean_squared_error: 15.8798 - mean_absolute_error: 2.8712 - 24ms/epoch - 12ms/step\n",
      "Epoch 193/500\n",
      "2/2 - 0s - loss: 15.8720 - mean_squared_error: 15.8720 - mean_absolute_error: 2.8621 - 25ms/epoch - 12ms/step\n",
      "Epoch 194/500\n",
      "2/2 - 0s - loss: 15.8642 - mean_squared_error: 15.8642 - mean_absolute_error: 2.8601 - 24ms/epoch - 12ms/step\n",
      "Epoch 195/500\n",
      "2/2 - 0s - loss: 15.8630 - mean_squared_error: 15.8630 - mean_absolute_error: 2.8602 - 24ms/epoch - 12ms/step\n",
      "Epoch 196/500\n",
      "2/2 - 0s - loss: 15.8606 - mean_squared_error: 15.8606 - mean_absolute_error: 2.8646 - 26ms/epoch - 13ms/step\n",
      "Epoch 197/500\n",
      "2/2 - 0s - loss: 15.8501 - mean_squared_error: 15.8501 - mean_absolute_error: 2.8593 - 23ms/epoch - 11ms/step\n",
      "Epoch 198/500\n",
      "2/2 - 0s - loss: 15.8607 - mean_squared_error: 15.8607 - mean_absolute_error: 2.8583 - 25ms/epoch - 12ms/step\n",
      "Epoch 199/500\n",
      "2/2 - 0s - loss: 15.8859 - mean_squared_error: 15.8859 - mean_absolute_error: 2.8828 - 24ms/epoch - 12ms/step\n",
      "Epoch 200/500\n",
      "2/2 - 0s - loss: 15.8658 - mean_squared_error: 15.8658 - mean_absolute_error: 2.8608 - val_loss: 11.8374 - val_mean_squared_error: 11.8374 - val_mean_absolute_error: 2.4708 - 51ms/epoch - 25ms/step\n",
      "Epoch 201/500\n",
      "2/2 - 0s - loss: 15.8416 - mean_squared_error: 15.8416 - mean_absolute_error: 2.8596 - 24ms/epoch - 12ms/step\n",
      "Epoch 202/500\n",
      "2/2 - 0s - loss: 15.8479 - mean_squared_error: 15.8479 - mean_absolute_error: 2.8684 - 25ms/epoch - 12ms/step\n",
      "Epoch 203/500\n",
      "2/2 - 0s - loss: 15.8305 - mean_squared_error: 15.8305 - mean_absolute_error: 2.8584 - 27ms/epoch - 14ms/step\n",
      "Epoch 204/500\n",
      "2/2 - 0s - loss: 15.8196 - mean_squared_error: 15.8196 - mean_absolute_error: 2.8596 - 26ms/epoch - 13ms/step\n",
      "Epoch 205/500\n",
      "2/2 - 0s - loss: 15.8240 - mean_squared_error: 15.8240 - mean_absolute_error: 2.8623 - 26ms/epoch - 13ms/step\n",
      "Epoch 206/500\n",
      "2/2 - 0s - loss: 15.8100 - mean_squared_error: 15.8100 - mean_absolute_error: 2.8565 - 28ms/epoch - 14ms/step\n",
      "Epoch 207/500\n",
      "2/2 - 0s - loss: 15.8056 - mean_squared_error: 15.8056 - mean_absolute_error: 2.8570 - 28ms/epoch - 14ms/step\n",
      "Epoch 208/500\n",
      "2/2 - 0s - loss: 15.8005 - mean_squared_error: 15.8005 - mean_absolute_error: 2.8551 - 26ms/epoch - 13ms/step\n",
      "Epoch 209/500\n",
      "2/2 - 0s - loss: 15.7991 - mean_squared_error: 15.7991 - mean_absolute_error: 2.8554 - 29ms/epoch - 14ms/step\n",
      "Epoch 210/500\n",
      "2/2 - 0s - loss: 15.7948 - mean_squared_error: 15.7948 - mean_absolute_error: 2.8534 - 25ms/epoch - 12ms/step\n",
      "Epoch 211/500\n",
      "2/2 - 0s - loss: 15.7938 - mean_squared_error: 15.7938 - mean_absolute_error: 2.8505 - 26ms/epoch - 13ms/step\n",
      "Epoch 212/500\n",
      "2/2 - 0s - loss: 15.7904 - mean_squared_error: 15.7904 - mean_absolute_error: 2.8577 - 23ms/epoch - 11ms/step\n",
      "Epoch 213/500\n",
      "2/2 - 0s - loss: 15.7812 - mean_squared_error: 15.7812 - mean_absolute_error: 2.8524 - 24ms/epoch - 12ms/step\n",
      "Epoch 214/500\n",
      "2/2 - 0s - loss: 15.7856 - mean_squared_error: 15.7856 - mean_absolute_error: 2.8549 - 24ms/epoch - 12ms/step\n",
      "Epoch 215/500\n",
      "2/2 - 0s - loss: 15.7809 - mean_squared_error: 15.7809 - mean_absolute_error: 2.8555 - 25ms/epoch - 12ms/step\n",
      "Epoch 216/500\n",
      "2/2 - 0s - loss: 15.7809 - mean_squared_error: 15.7809 - mean_absolute_error: 2.8491 - 24ms/epoch - 12ms/step\n",
      "Epoch 217/500\n",
      "2/2 - 0s - loss: 15.7749 - mean_squared_error: 15.7749 - mean_absolute_error: 2.8614 - 24ms/epoch - 12ms/step\n",
      "Epoch 218/500\n",
      "2/2 - 0s - loss: 15.7641 - mean_squared_error: 15.7641 - mean_absolute_error: 2.8567 - 23ms/epoch - 11ms/step\n",
      "Epoch 219/500\n",
      "2/2 - 0s - loss: 15.7782 - mean_squared_error: 15.7782 - mean_absolute_error: 2.8462 - 25ms/epoch - 12ms/step\n",
      "Epoch 220/500\n",
      "2/2 - 0s - loss: 15.8544 - mean_squared_error: 15.8544 - mean_absolute_error: 2.8867 - 24ms/epoch - 12ms/step\n",
      "Epoch 221/500\n",
      "2/2 - 0s - loss: 15.8064 - mean_squared_error: 15.8064 - mean_absolute_error: 2.8608 - 23ms/epoch - 11ms/step\n",
      "Epoch 222/500\n",
      "2/2 - 0s - loss: 15.9048 - mean_squared_error: 15.9048 - mean_absolute_error: 2.8502 - 24ms/epoch - 12ms/step\n",
      "Epoch 223/500\n",
      "2/2 - 0s - loss: 15.8106 - mean_squared_error: 15.8106 - mean_absolute_error: 2.8766 - 28ms/epoch - 14ms/step\n",
      "Epoch 224/500\n",
      "2/2 - 0s - loss: 15.7663 - mean_squared_error: 15.7663 - mean_absolute_error: 2.8648 - 26ms/epoch - 13ms/step\n",
      "Epoch 225/500\n",
      "2/2 - 0s - loss: 15.8051 - mean_squared_error: 15.8051 - mean_absolute_error: 2.8467 - 25ms/epoch - 13ms/step\n",
      "Epoch 226/500\n",
      "2/2 - 0s - loss: 15.7651 - mean_squared_error: 15.7651 - mean_absolute_error: 2.8543 - 26ms/epoch - 13ms/step\n",
      "Epoch 227/500\n",
      "2/2 - 0s - loss: 15.7765 - mean_squared_error: 15.7765 - mean_absolute_error: 2.8736 - 25ms/epoch - 12ms/step\n",
      "Epoch 228/500\n",
      "2/2 - 0s - loss: 15.8109 - mean_squared_error: 15.8109 - mean_absolute_error: 2.8699 - 24ms/epoch - 12ms/step\n",
      "Epoch 229/500\n",
      "2/2 - 0s - loss: 15.7988 - mean_squared_error: 15.7988 - mean_absolute_error: 2.8790 - 27ms/epoch - 13ms/step\n",
      "Epoch 230/500\n",
      "2/2 - 0s - loss: 15.7778 - mean_squared_error: 15.7778 - mean_absolute_error: 2.8685 - 25ms/epoch - 12ms/step\n",
      "Epoch 231/500\n",
      "2/2 - 0s - loss: 15.8029 - mean_squared_error: 15.8029 - mean_absolute_error: 2.8535 - 25ms/epoch - 12ms/step\n",
      "Epoch 232/500\n",
      "2/2 - 0s - loss: 15.7878 - mean_squared_error: 15.7878 - mean_absolute_error: 2.8505 - 27ms/epoch - 13ms/step\n",
      "Epoch 233/500\n",
      "2/2 - 0s - loss: 15.7654 - mean_squared_error: 15.7654 - mean_absolute_error: 2.8687 - 25ms/epoch - 12ms/step\n",
      "Epoch 234/500\n",
      "2/2 - 0s - loss: 15.7514 - mean_squared_error: 15.7514 - mean_absolute_error: 2.8660 - 24ms/epoch - 12ms/step\n",
      "Epoch 235/500\n",
      "2/2 - 0s - loss: 15.7453 - mean_squared_error: 15.7453 - mean_absolute_error: 2.8502 - 25ms/epoch - 12ms/step\n",
      "Epoch 236/500\n",
      "2/2 - 0s - loss: 15.7183 - mean_squared_error: 15.7183 - mean_absolute_error: 2.8544 - 25ms/epoch - 12ms/step\n",
      "Epoch 237/500\n",
      "2/2 - 0s - loss: 15.7185 - mean_squared_error: 15.7185 - mean_absolute_error: 2.8511 - 23ms/epoch - 11ms/step\n",
      "Epoch 238/500\n",
      "2/2 - 0s - loss: 15.7313 - mean_squared_error: 15.7313 - mean_absolute_error: 2.8649 - 40ms/epoch - 20ms/step\n",
      "Epoch 239/500\n",
      "2/2 - 0s - loss: 15.7052 - mean_squared_error: 15.7052 - mean_absolute_error: 2.8482 - 27ms/epoch - 13ms/step\n",
      "Epoch 240/500\n",
      "2/2 - 0s - loss: 15.7187 - mean_squared_error: 15.7187 - mean_absolute_error: 2.8415 - 29ms/epoch - 14ms/step\n",
      "Epoch 241/500\n",
      "2/2 - 0s - loss: 15.7114 - mean_squared_error: 15.7114 - mean_absolute_error: 2.8630 - 26ms/epoch - 13ms/step\n",
      "Epoch 242/500\n",
      "2/2 - 0s - loss: 15.7190 - mean_squared_error: 15.7190 - mean_absolute_error: 2.8591 - 27ms/epoch - 13ms/step\n",
      "Epoch 243/500\n",
      "2/2 - 0s - loss: 15.7074 - mean_squared_error: 15.7074 - mean_absolute_error: 2.8473 - 31ms/epoch - 15ms/step\n",
      "Epoch 244/500\n",
      "2/2 - 0s - loss: 15.6967 - mean_squared_error: 15.6967 - mean_absolute_error: 2.8570 - 30ms/epoch - 15ms/step\n",
      "Epoch 245/500\n",
      "2/2 - 0s - loss: 15.6980 - mean_squared_error: 15.6980 - mean_absolute_error: 2.8530 - 27ms/epoch - 14ms/step\n",
      "Epoch 246/500\n",
      "2/2 - 0s - loss: 15.6995 - mean_squared_error: 15.6995 - mean_absolute_error: 2.8479 - 28ms/epoch - 14ms/step\n",
      "Epoch 247/500\n",
      "2/2 - 0s - loss: 15.7778 - mean_squared_error: 15.7778 - mean_absolute_error: 2.8845 - 32ms/epoch - 16ms/step\n",
      "Epoch 248/500\n",
      "2/2 - 0s - loss: 15.6987 - mean_squared_error: 15.6987 - mean_absolute_error: 2.8440 - 29ms/epoch - 14ms/step\n",
      "Epoch 249/500\n",
      "2/2 - 0s - loss: 15.7291 - mean_squared_error: 15.7291 - mean_absolute_error: 2.8454 - 27ms/epoch - 13ms/step\n",
      "Epoch 250/500\n",
      "2/2 - 0s - loss: 15.7525 - mean_squared_error: 15.7525 - mean_absolute_error: 2.8835 - 23ms/epoch - 11ms/step\n",
      "Epoch 251/500\n",
      "2/2 - 0s - loss: 15.7425 - mean_squared_error: 15.7425 - mean_absolute_error: 2.8773 - 23ms/epoch - 11ms/step\n",
      "Epoch 252/500\n",
      "2/2 - 0s - loss: 15.7025 - mean_squared_error: 15.7025 - mean_absolute_error: 2.8428 - 24ms/epoch - 12ms/step\n",
      "Epoch 253/500\n",
      "2/2 - 0s - loss: 15.6639 - mean_squared_error: 15.6639 - mean_absolute_error: 2.8421 - 23ms/epoch - 11ms/step\n",
      "Epoch 254/500\n",
      "2/2 - 0s - loss: 15.7258 - mean_squared_error: 15.7258 - mean_absolute_error: 2.8768 - 26ms/epoch - 13ms/step\n",
      "Epoch 255/500\n",
      "2/2 - 0s - loss: 15.7212 - mean_squared_error: 15.7212 - mean_absolute_error: 2.8626 - 25ms/epoch - 12ms/step\n",
      "Epoch 256/500\n",
      "2/2 - 0s - loss: 15.6867 - mean_squared_error: 15.6867 - mean_absolute_error: 2.8385 - 24ms/epoch - 12ms/step\n",
      "Epoch 257/500\n",
      "2/2 - 0s - loss: 15.7105 - mean_squared_error: 15.7105 - mean_absolute_error: 2.8691 - 28ms/epoch - 14ms/step\n",
      "Epoch 258/500\n",
      "2/2 - 0s - loss: 15.6668 - mean_squared_error: 15.6668 - mean_absolute_error: 2.8433 - 25ms/epoch - 12ms/step\n",
      "Epoch 259/500\n",
      "2/2 - 0s - loss: 15.6870 - mean_squared_error: 15.6870 - mean_absolute_error: 2.8395 - 25ms/epoch - 12ms/step\n",
      "Epoch 260/500\n",
      "2/2 - 0s - loss: 15.6936 - mean_squared_error: 15.6936 - mean_absolute_error: 2.8696 - 25ms/epoch - 12ms/step\n",
      "Epoch 261/500\n",
      "2/2 - 0s - loss: 15.6467 - mean_squared_error: 15.6467 - mean_absolute_error: 2.8499 - 26ms/epoch - 13ms/step\n",
      "Epoch 262/500\n",
      "2/2 - 0s - loss: 15.7070 - mean_squared_error: 15.7070 - mean_absolute_error: 2.8379 - 26ms/epoch - 13ms/step\n",
      "Epoch 263/500\n",
      "2/2 - 0s - loss: 15.7300 - mean_squared_error: 15.7300 - mean_absolute_error: 2.8864 - 24ms/epoch - 12ms/step\n",
      "Epoch 264/500\n",
      "2/2 - 0s - loss: 15.7121 - mean_squared_error: 15.7121 - mean_absolute_error: 2.8761 - 27ms/epoch - 13ms/step\n",
      "Epoch 265/500\n",
      "2/2 - 0s - loss: 15.7032 - mean_squared_error: 15.7032 - mean_absolute_error: 2.8369 - 28ms/epoch - 14ms/step\n",
      "Epoch 266/500\n",
      "2/2 - 0s - loss: 15.6655 - mean_squared_error: 15.6655 - mean_absolute_error: 2.8412 - 30ms/epoch - 15ms/step\n",
      "Epoch 267/500\n",
      "2/2 - 0s - loss: 15.7111 - mean_squared_error: 15.7111 - mean_absolute_error: 2.8771 - 29ms/epoch - 14ms/step\n",
      "Epoch 268/500\n",
      "2/2 - 0s - loss: 15.7499 - mean_squared_error: 15.7499 - mean_absolute_error: 2.8913 - 31ms/epoch - 15ms/step\n",
      "Epoch 269/500\n",
      "2/2 - 0s - loss: 15.6845 - mean_squared_error: 15.6845 - mean_absolute_error: 2.8453 - 28ms/epoch - 14ms/step\n",
      "Epoch 270/500\n",
      "2/2 - 0s - loss: 15.6363 - mean_squared_error: 15.6363 - mean_absolute_error: 2.8361 - 27ms/epoch - 13ms/step\n",
      "Epoch 271/500\n",
      "2/2 - 0s - loss: 15.6583 - mean_squared_error: 15.6583 - mean_absolute_error: 2.8628 - 30ms/epoch - 15ms/step\n",
      "Epoch 272/500\n",
      "2/2 - 0s - loss: 15.6450 - mean_squared_error: 15.6450 - mean_absolute_error: 2.8584 - 28ms/epoch - 14ms/step\n",
      "Epoch 273/500\n",
      "2/2 - 0s - loss: 15.6429 - mean_squared_error: 15.6429 - mean_absolute_error: 2.8418 - 30ms/epoch - 15ms/step\n",
      "Epoch 274/500\n",
      "2/2 - 0s - loss: 15.6232 - mean_squared_error: 15.6232 - mean_absolute_error: 2.8423 - 26ms/epoch - 13ms/step\n",
      "Epoch 275/500\n",
      "2/2 - 0s - loss: 15.6202 - mean_squared_error: 15.6202 - mean_absolute_error: 2.8604 - 24ms/epoch - 12ms/step\n",
      "Epoch 276/500\n",
      "2/2 - 0s - loss: 15.6229 - mean_squared_error: 15.6229 - mean_absolute_error: 2.8438 - 25ms/epoch - 12ms/step\n",
      "Epoch 277/500\n",
      "2/2 - 0s - loss: 15.5886 - mean_squared_error: 15.5886 - mean_absolute_error: 2.8456 - 27ms/epoch - 13ms/step\n",
      "Epoch 278/500\n",
      "2/2 - 0s - loss: 15.5926 - mean_squared_error: 15.5926 - mean_absolute_error: 2.8497 - 25ms/epoch - 12ms/step\n",
      "Epoch 279/500\n",
      "2/2 - 0s - loss: 15.5811 - mean_squared_error: 15.5811 - mean_absolute_error: 2.8395 - 25ms/epoch - 12ms/step\n",
      "Epoch 280/500\n",
      "2/2 - 0s - loss: 15.5727 - mean_squared_error: 15.5727 - mean_absolute_error: 2.8387 - 26ms/epoch - 13ms/step\n",
      "Epoch 281/500\n",
      "2/2 - 0s - loss: 15.5698 - mean_squared_error: 15.5698 - mean_absolute_error: 2.8475 - 23ms/epoch - 11ms/step\n",
      "Epoch 282/500\n",
      "2/2 - 0s - loss: 15.5602 - mean_squared_error: 15.5602 - mean_absolute_error: 2.8409 - 24ms/epoch - 12ms/step\n",
      "Epoch 283/500\n",
      "2/2 - 0s - loss: 15.5571 - mean_squared_error: 15.5571 - mean_absolute_error: 2.8451 - 26ms/epoch - 13ms/step\n",
      "Epoch 284/500\n",
      "2/2 - 0s - loss: 15.5507 - mean_squared_error: 15.5507 - mean_absolute_error: 2.8464 - 24ms/epoch - 12ms/step\n",
      "Epoch 285/500\n",
      "2/2 - 0s - loss: 15.5485 - mean_squared_error: 15.5485 - mean_absolute_error: 2.8408 - 25ms/epoch - 12ms/step\n",
      "Epoch 286/500\n",
      "2/2 - 0s - loss: 15.5439 - mean_squared_error: 15.5439 - mean_absolute_error: 2.8399 - 25ms/epoch - 12ms/step\n",
      "Epoch 287/500\n",
      "2/2 - 0s - loss: 15.5336 - mean_squared_error: 15.5336 - mean_absolute_error: 2.8429 - 25ms/epoch - 12ms/step\n",
      "Epoch 288/500\n",
      "2/2 - 0s - loss: 15.5240 - mean_squared_error: 15.5240 - mean_absolute_error: 2.8412 - 26ms/epoch - 13ms/step\n",
      "Epoch 289/500\n",
      "2/2 - 0s - loss: 15.5239 - mean_squared_error: 15.5239 - mean_absolute_error: 2.8420 - 26ms/epoch - 13ms/step\n",
      "Epoch 290/500\n",
      "2/2 - 0s - loss: 15.5126 - mean_squared_error: 15.5126 - mean_absolute_error: 2.8389 - 25ms/epoch - 12ms/step\n",
      "Epoch 291/500\n",
      "2/2 - 0s - loss: 15.5113 - mean_squared_error: 15.5113 - mean_absolute_error: 2.8409 - 27ms/epoch - 13ms/step\n",
      "Epoch 292/500\n",
      "2/2 - 0s - loss: 15.5136 - mean_squared_error: 15.5136 - mean_absolute_error: 2.8350 - 27ms/epoch - 13ms/step\n",
      "Epoch 293/500\n",
      "2/2 - 0s - loss: 15.5391 - mean_squared_error: 15.5391 - mean_absolute_error: 2.8593 - 24ms/epoch - 12ms/step\n",
      "Epoch 294/500\n",
      "2/2 - 0s - loss: 15.4954 - mean_squared_error: 15.4954 - mean_absolute_error: 2.8356 - 24ms/epoch - 12ms/step\n",
      "Epoch 295/500\n",
      "2/2 - 0s - loss: 15.4961 - mean_squared_error: 15.4961 - mean_absolute_error: 2.8375 - 25ms/epoch - 12ms/step\n",
      "Epoch 296/500\n",
      "2/2 - 0s - loss: 15.5326 - mean_squared_error: 15.5326 - mean_absolute_error: 2.8584 - 25ms/epoch - 12ms/step\n",
      "Epoch 297/500\n",
      "2/2 - 0s - loss: 15.5124 - mean_squared_error: 15.5124 - mean_absolute_error: 2.8350 - 25ms/epoch - 12ms/step\n",
      "Epoch 298/500\n",
      "2/2 - 0s - loss: 15.4829 - mean_squared_error: 15.4829 - mean_absolute_error: 2.8422 - 25ms/epoch - 12ms/step\n",
      "Epoch 299/500\n",
      "2/2 - 0s - loss: 15.4728 - mean_squared_error: 15.4728 - mean_absolute_error: 2.8383 - 31ms/epoch - 15ms/step\n",
      "Epoch 300/500\n",
      "2/2 - 0s - loss: 15.4910 - mean_squared_error: 15.4910 - mean_absolute_error: 2.8372 - val_loss: 11.2866 - val_mean_squared_error: 11.2866 - val_mean_absolute_error: 2.4573 - 58ms/epoch - 29ms/step\n",
      "Epoch 301/500\n",
      "2/2 - 0s - loss: 15.4994 - mean_squared_error: 15.4994 - mean_absolute_error: 2.8550 - 24ms/epoch - 12ms/step\n",
      "Epoch 302/500\n",
      "2/2 - 0s - loss: 15.4928 - mean_squared_error: 15.4928 - mean_absolute_error: 2.8367 - 23ms/epoch - 11ms/step\n",
      "Epoch 303/500\n",
      "2/2 - 0s - loss: 15.4807 - mean_squared_error: 15.4807 - mean_absolute_error: 2.8495 - 24ms/epoch - 12ms/step\n",
      "Epoch 304/500\n",
      "2/2 - 0s - loss: 15.5021 - mean_squared_error: 15.5021 - mean_absolute_error: 2.8271 - 25ms/epoch - 12ms/step\n",
      "Epoch 305/500\n",
      "2/2 - 0s - loss: 15.4833 - mean_squared_error: 15.4833 - mean_absolute_error: 2.8541 - 24ms/epoch - 12ms/step\n",
      "Epoch 306/500\n",
      "2/2 - 0s - loss: 15.4576 - mean_squared_error: 15.4576 - mean_absolute_error: 2.8349 - 25ms/epoch - 12ms/step\n",
      "Epoch 307/500\n",
      "2/2 - 0s - loss: 15.4634 - mean_squared_error: 15.4634 - mean_absolute_error: 2.8321 - 28ms/epoch - 14ms/step\n",
      "Epoch 308/500\n",
      "2/2 - 0s - loss: 15.5042 - mean_squared_error: 15.5042 - mean_absolute_error: 2.8626 - 25ms/epoch - 12ms/step\n",
      "Epoch 309/500\n",
      "2/2 - 0s - loss: 15.4982 - mean_squared_error: 15.4982 - mean_absolute_error: 2.8318 - 24ms/epoch - 12ms/step\n",
      "Epoch 310/500\n",
      "2/2 - 0s - loss: 15.4464 - mean_squared_error: 15.4464 - mean_absolute_error: 2.8339 - 27ms/epoch - 13ms/step\n",
      "Epoch 311/500\n",
      "2/2 - 0s - loss: 15.4864 - mean_squared_error: 15.4864 - mean_absolute_error: 2.8545 - 26ms/epoch - 13ms/step\n",
      "Epoch 312/500\n",
      "2/2 - 0s - loss: 15.5088 - mean_squared_error: 15.5088 - mean_absolute_error: 2.8398 - 24ms/epoch - 12ms/step\n",
      "Epoch 313/500\n",
      "2/2 - 0s - loss: 15.4451 - mean_squared_error: 15.4451 - mean_absolute_error: 2.8494 - 25ms/epoch - 12ms/step\n",
      "Epoch 314/500\n",
      "2/2 - 0s - loss: 15.4794 - mean_squared_error: 15.4794 - mean_absolute_error: 2.8510 - 24ms/epoch - 12ms/step\n",
      "Epoch 315/500\n",
      "2/2 - 0s - loss: 15.5219 - mean_squared_error: 15.5219 - mean_absolute_error: 2.8274 - 24ms/epoch - 12ms/step\n",
      "Epoch 316/500\n",
      "2/2 - 0s - loss: 15.4589 - mean_squared_error: 15.4589 - mean_absolute_error: 2.8522 - 26ms/epoch - 13ms/step\n",
      "Epoch 317/500\n",
      "2/2 - 0s - loss: 15.4279 - mean_squared_error: 15.4279 - mean_absolute_error: 2.8382 - 24ms/epoch - 12ms/step\n",
      "Epoch 318/500\n",
      "2/2 - 0s - loss: 15.4348 - mean_squared_error: 15.4348 - mean_absolute_error: 2.8390 - 24ms/epoch - 12ms/step\n",
      "Epoch 319/500\n",
      "2/2 - 0s - loss: 15.4380 - mean_squared_error: 15.4380 - mean_absolute_error: 2.8564 - 25ms/epoch - 12ms/step\n",
      "Epoch 320/500\n",
      "2/2 - 0s - loss: 15.4013 - mean_squared_error: 15.4013 - mean_absolute_error: 2.8346 - 25ms/epoch - 12ms/step\n",
      "Epoch 321/500\n",
      "2/2 - 0s - loss: 15.4459 - mean_squared_error: 15.4459 - mean_absolute_error: 2.8270 - 25ms/epoch - 12ms/step\n",
      "Epoch 322/500\n",
      "2/2 - 0s - loss: 15.4335 - mean_squared_error: 15.4335 - mean_absolute_error: 2.8501 - 25ms/epoch - 12ms/step\n",
      "Epoch 323/500\n",
      "2/2 - 0s - loss: 15.4146 - mean_squared_error: 15.4146 - mean_absolute_error: 2.8291 - 24ms/epoch - 12ms/step\n",
      "Epoch 324/500\n",
      "2/2 - 0s - loss: 15.3947 - mean_squared_error: 15.3947 - mean_absolute_error: 2.8394 - 23ms/epoch - 11ms/step\n",
      "Epoch 325/500\n",
      "2/2 - 0s - loss: 15.3942 - mean_squared_error: 15.3942 - mean_absolute_error: 2.8337 - 26ms/epoch - 13ms/step\n",
      "Epoch 326/500\n",
      "2/2 - 0s - loss: 15.3785 - mean_squared_error: 15.3785 - mean_absolute_error: 2.8316 - 25ms/epoch - 12ms/step\n",
      "Epoch 327/500\n",
      "2/2 - 0s - loss: 15.3971 - mean_squared_error: 15.3971 - mean_absolute_error: 2.8419 - 24ms/epoch - 12ms/step\n",
      "Epoch 328/500\n",
      "2/2 - 0s - loss: 15.4135 - mean_squared_error: 15.4135 - mean_absolute_error: 2.8265 - 26ms/epoch - 13ms/step\n",
      "Epoch 329/500\n",
      "2/2 - 0s - loss: 15.3873 - mean_squared_error: 15.3873 - mean_absolute_error: 2.8441 - 25ms/epoch - 12ms/step\n",
      "Epoch 330/500\n",
      "2/2 - 0s - loss: 15.4152 - mean_squared_error: 15.4152 - mean_absolute_error: 2.8505 - 25ms/epoch - 12ms/step\n",
      "Epoch 331/500\n",
      "2/2 - 0s - loss: 15.4037 - mean_squared_error: 15.4037 - mean_absolute_error: 2.8384 - 24ms/epoch - 12ms/step\n",
      "Epoch 332/500\n",
      "2/2 - 0s - loss: 15.3807 - mean_squared_error: 15.3807 - mean_absolute_error: 2.8440 - 24ms/epoch - 12ms/step\n",
      "Epoch 333/500\n",
      "2/2 - 0s - loss: 15.4065 - mean_squared_error: 15.4065 - mean_absolute_error: 2.8269 - 23ms/epoch - 11ms/step\n",
      "Epoch 334/500\n",
      "2/2 - 0s - loss: 15.3575 - mean_squared_error: 15.3575 - mean_absolute_error: 2.8354 - 24ms/epoch - 12ms/step\n",
      "Epoch 335/500\n",
      "2/2 - 0s - loss: 15.3588 - mean_squared_error: 15.3588 - mean_absolute_error: 2.8358 - 24ms/epoch - 12ms/step\n",
      "Epoch 336/500\n",
      "2/2 - 0s - loss: 15.4133 - mean_squared_error: 15.4133 - mean_absolute_error: 2.8455 - 23ms/epoch - 11ms/step\n",
      "Epoch 337/500\n",
      "2/2 - 0s - loss: 15.3827 - mean_squared_error: 15.3827 - mean_absolute_error: 2.8530 - 25ms/epoch - 12ms/step\n",
      "Epoch 338/500\n",
      "2/2 - 0s - loss: 15.4000 - mean_squared_error: 15.4000 - mean_absolute_error: 2.8195 - 24ms/epoch - 12ms/step\n",
      "Epoch 339/500\n",
      "2/2 - 0s - loss: 15.3595 - mean_squared_error: 15.3595 - mean_absolute_error: 2.8363 - 24ms/epoch - 12ms/step\n",
      "Epoch 340/500\n",
      "2/2 - 0s - loss: 15.3901 - mean_squared_error: 15.3901 - mean_absolute_error: 2.8509 - 24ms/epoch - 12ms/step\n",
      "Epoch 341/500\n",
      "2/2 - 0s - loss: 15.3989 - mean_squared_error: 15.3989 - mean_absolute_error: 2.8258 - 25ms/epoch - 12ms/step\n",
      "Epoch 342/500\n",
      "2/2 - 0s - loss: 15.3876 - mean_squared_error: 15.3876 - mean_absolute_error: 2.8559 - 24ms/epoch - 12ms/step\n",
      "Epoch 343/500\n",
      "2/2 - 0s - loss: 15.3378 - mean_squared_error: 15.3378 - mean_absolute_error: 2.8194 - 25ms/epoch - 12ms/step\n",
      "Epoch 344/500\n",
      "2/2 - 0s - loss: 15.3243 - mean_squared_error: 15.3243 - mean_absolute_error: 2.8293 - 24ms/epoch - 12ms/step\n",
      "Epoch 345/500\n",
      "2/2 - 0s - loss: 15.3499 - mean_squared_error: 15.3499 - mean_absolute_error: 2.8436 - 25ms/epoch - 12ms/step\n",
      "Epoch 346/500\n",
      "2/2 - 0s - loss: 15.3175 - mean_squared_error: 15.3175 - mean_absolute_error: 2.8221 - 26ms/epoch - 13ms/step\n",
      "Epoch 347/500\n",
      "2/2 - 0s - loss: 15.2940 - mean_squared_error: 15.2940 - mean_absolute_error: 2.8297 - 26ms/epoch - 13ms/step\n",
      "Epoch 348/500\n",
      "2/2 - 0s - loss: 15.3097 - mean_squared_error: 15.3097 - mean_absolute_error: 2.8394 - 26ms/epoch - 13ms/step\n",
      "Epoch 349/500\n",
      "2/2 - 0s - loss: 15.3102 - mean_squared_error: 15.3102 - mean_absolute_error: 2.8228 - 29ms/epoch - 14ms/step\n",
      "Epoch 350/500\n",
      "2/2 - 0s - loss: 15.3273 - mean_squared_error: 15.3273 - mean_absolute_error: 2.8459 - 29ms/epoch - 14ms/step\n",
      "Epoch 351/500\n",
      "2/2 - 0s - loss: 15.2951 - mean_squared_error: 15.2951 - mean_absolute_error: 2.8299 - 25ms/epoch - 12ms/step\n",
      "Epoch 352/500\n",
      "2/2 - 0s - loss: 15.3441 - mean_squared_error: 15.3441 - mean_absolute_error: 2.8273 - 26ms/epoch - 13ms/step\n",
      "Epoch 353/500\n",
      "2/2 - 0s - loss: 15.3356 - mean_squared_error: 15.3356 - mean_absolute_error: 2.8499 - 24ms/epoch - 12ms/step\n",
      "Epoch 354/500\n",
      "2/2 - 0s - loss: 15.3290 - mean_squared_error: 15.3290 - mean_absolute_error: 2.8127 - 24ms/epoch - 12ms/step\n",
      "Epoch 355/500\n",
      "2/2 - 0s - loss: 15.2819 - mean_squared_error: 15.2819 - mean_absolute_error: 2.8329 - 25ms/epoch - 12ms/step\n",
      "Epoch 356/500\n",
      "2/2 - 0s - loss: 15.2823 - mean_squared_error: 15.2823 - mean_absolute_error: 2.8323 - 25ms/epoch - 12ms/step\n",
      "Epoch 357/500\n",
      "2/2 - 0s - loss: 15.3094 - mean_squared_error: 15.3094 - mean_absolute_error: 2.8128 - 24ms/epoch - 12ms/step\n",
      "Epoch 358/500\n",
      "2/2 - 0s - loss: 15.3019 - mean_squared_error: 15.3019 - mean_absolute_error: 2.8438 - 23ms/epoch - 11ms/step\n",
      "Epoch 359/500\n",
      "2/2 - 0s - loss: 15.2978 - mean_squared_error: 15.2978 - mean_absolute_error: 2.8408 - 25ms/epoch - 13ms/step\n",
      "Epoch 360/500\n",
      "2/2 - 0s - loss: 15.2965 - mean_squared_error: 15.2965 - mean_absolute_error: 2.8150 - 24ms/epoch - 12ms/step\n",
      "Epoch 361/500\n",
      "2/2 - 0s - loss: 15.2636 - mean_squared_error: 15.2636 - mean_absolute_error: 2.8344 - 24ms/epoch - 12ms/step\n",
      "Epoch 362/500\n",
      "2/2 - 0s - loss: 15.2574 - mean_squared_error: 15.2574 - mean_absolute_error: 2.8301 - 28ms/epoch - 14ms/step\n",
      "Epoch 363/500\n",
      "2/2 - 0s - loss: 15.2641 - mean_squared_error: 15.2641 - mean_absolute_error: 2.8213 - 27ms/epoch - 13ms/step\n",
      "Epoch 364/500\n",
      "2/2 - 0s - loss: 15.2598 - mean_squared_error: 15.2598 - mean_absolute_error: 2.8359 - 26ms/epoch - 13ms/step\n",
      "Epoch 365/500\n",
      "2/2 - 0s - loss: 15.2452 - mean_squared_error: 15.2452 - mean_absolute_error: 2.8163 - 26ms/epoch - 13ms/step\n",
      "Epoch 366/500\n",
      "2/2 - 0s - loss: 15.2410 - mean_squared_error: 15.2410 - mean_absolute_error: 2.8249 - 25ms/epoch - 12ms/step\n",
      "Epoch 367/500\n",
      "2/2 - 0s - loss: 15.2454 - mean_squared_error: 15.2454 - mean_absolute_error: 2.8295 - 27ms/epoch - 13ms/step\n",
      "Epoch 368/500\n",
      "2/2 - 0s - loss: 15.2385 - mean_squared_error: 15.2385 - mean_absolute_error: 2.8117 - 28ms/epoch - 14ms/step\n",
      "Epoch 369/500\n",
      "2/2 - 0s - loss: 15.2491 - mean_squared_error: 15.2491 - mean_absolute_error: 2.8308 - 25ms/epoch - 12ms/step\n",
      "Epoch 370/500\n",
      "2/2 - 0s - loss: 15.2380 - mean_squared_error: 15.2380 - mean_absolute_error: 2.8324 - 24ms/epoch - 12ms/step\n",
      "Epoch 371/500\n",
      "2/2 - 0s - loss: 15.2297 - mean_squared_error: 15.2297 - mean_absolute_error: 2.8096 - 24ms/epoch - 12ms/step\n",
      "Epoch 372/500\n",
      "2/2 - 0s - loss: 15.2146 - mean_squared_error: 15.2146 - mean_absolute_error: 2.8153 - 24ms/epoch - 12ms/step\n",
      "Epoch 373/500\n",
      "2/2 - 0s - loss: 15.2112 - mean_squared_error: 15.2112 - mean_absolute_error: 2.8260 - 25ms/epoch - 12ms/step\n",
      "Epoch 374/500\n",
      "2/2 - 0s - loss: 15.2107 - mean_squared_error: 15.2107 - mean_absolute_error: 2.8120 - 25ms/epoch - 12ms/step\n",
      "Epoch 375/500\n",
      "2/2 - 0s - loss: 15.2089 - mean_squared_error: 15.2089 - mean_absolute_error: 2.8206 - 26ms/epoch - 13ms/step\n",
      "Epoch 376/500\n",
      "2/2 - 0s - loss: 15.1909 - mean_squared_error: 15.1909 - mean_absolute_error: 2.8200 - 25ms/epoch - 12ms/step\n",
      "Epoch 377/500\n",
      "2/2 - 0s - loss: 15.2058 - mean_squared_error: 15.2058 - mean_absolute_error: 2.8058 - 25ms/epoch - 12ms/step\n",
      "Epoch 378/500\n",
      "2/2 - 0s - loss: 15.2210 - mean_squared_error: 15.2210 - mean_absolute_error: 2.8366 - 25ms/epoch - 12ms/step\n",
      "Epoch 379/500\n",
      "2/2 - 0s - loss: 15.2554 - mean_squared_error: 15.2554 - mean_absolute_error: 2.8101 - 25ms/epoch - 12ms/step\n",
      "Epoch 380/500\n",
      "2/2 - 0s - loss: 15.3253 - mean_squared_error: 15.3253 - mean_absolute_error: 2.8544 - 25ms/epoch - 12ms/step\n",
      "Epoch 381/500\n",
      "2/2 - 0s - loss: 15.2606 - mean_squared_error: 15.2606 - mean_absolute_error: 2.8444 - 27ms/epoch - 13ms/step\n",
      "Epoch 382/500\n",
      "2/2 - 0s - loss: 15.3506 - mean_squared_error: 15.3506 - mean_absolute_error: 2.8072 - 39ms/epoch - 19ms/step\n",
      "Epoch 383/500\n",
      "2/2 - 0s - loss: 15.4853 - mean_squared_error: 15.4853 - mean_absolute_error: 2.8909 - 35ms/epoch - 17ms/step\n",
      "Epoch 384/500\n",
      "2/2 - 0s - loss: 15.4851 - mean_squared_error: 15.4851 - mean_absolute_error: 2.8900 - 28ms/epoch - 14ms/step\n",
      "Epoch 385/500\n",
      "2/2 - 0s - loss: 15.3258 - mean_squared_error: 15.3258 - mean_absolute_error: 2.8166 - 29ms/epoch - 14ms/step\n",
      "Epoch 386/500\n",
      "2/2 - 0s - loss: 15.3710 - mean_squared_error: 15.3710 - mean_absolute_error: 2.8153 - 35ms/epoch - 17ms/step\n",
      "Epoch 387/500\n",
      "2/2 - 0s - loss: 15.2925 - mean_squared_error: 15.2925 - mean_absolute_error: 2.8396 - 29ms/epoch - 14ms/step\n",
      "Epoch 388/500\n",
      "2/2 - 0s - loss: 15.3243 - mean_squared_error: 15.3243 - mean_absolute_error: 2.8451 - 26ms/epoch - 13ms/step\n",
      "Epoch 389/500\n",
      "2/2 - 0s - loss: 15.3801 - mean_squared_error: 15.3801 - mean_absolute_error: 2.8129 - 24ms/epoch - 12ms/step\n",
      "Epoch 390/500\n",
      "2/2 - 0s - loss: 15.2895 - mean_squared_error: 15.2895 - mean_absolute_error: 2.8284 - 24ms/epoch - 12ms/step\n",
      "Epoch 391/500\n",
      "2/2 - 0s - loss: 15.3598 - mean_squared_error: 15.3598 - mean_absolute_error: 2.8605 - 23ms/epoch - 11ms/step\n",
      "Epoch 392/500\n",
      "2/2 - 0s - loss: 15.2569 - mean_squared_error: 15.2569 - mean_absolute_error: 2.8058 - 23ms/epoch - 11ms/step\n",
      "Epoch 393/500\n",
      "2/2 - 0s - loss: 15.2257 - mean_squared_error: 15.2257 - mean_absolute_error: 2.8080 - 24ms/epoch - 12ms/step\n",
      "Epoch 394/500\n",
      "2/2 - 0s - loss: 15.2285 - mean_squared_error: 15.2285 - mean_absolute_error: 2.8385 - 24ms/epoch - 12ms/step\n",
      "Epoch 395/500\n",
      "2/2 - 0s - loss: 15.1957 - mean_squared_error: 15.1957 - mean_absolute_error: 2.8138 - 24ms/epoch - 12ms/step\n",
      "Epoch 396/500\n",
      "2/2 - 0s - loss: 15.1973 - mean_squared_error: 15.1973 - mean_absolute_error: 2.8088 - 24ms/epoch - 12ms/step\n",
      "Epoch 397/500\n",
      "2/2 - 0s - loss: 15.1738 - mean_squared_error: 15.1738 - mean_absolute_error: 2.8281 - 25ms/epoch - 12ms/step\n",
      "Epoch 398/500\n",
      "2/2 - 0s - loss: 15.1604 - mean_squared_error: 15.1604 - mean_absolute_error: 2.8289 - 25ms/epoch - 12ms/step\n",
      "Epoch 399/500\n",
      "2/2 - 0s - loss: 15.1361 - mean_squared_error: 15.1361 - mean_absolute_error: 2.8025 - 25ms/epoch - 12ms/step\n",
      "Epoch 400/500\n",
      "2/2 - 0s - loss: 15.1086 - mean_squared_error: 15.1086 - mean_absolute_error: 2.8041 - val_loss: 11.2029 - val_mean_squared_error: 11.2029 - val_mean_absolute_error: 2.4441 - 51ms/epoch - 25ms/step\n",
      "Epoch 401/500\n",
      "2/2 - 0s - loss: 15.1076 - mean_squared_error: 15.1076 - mean_absolute_error: 2.8239 - 25ms/epoch - 12ms/step\n",
      "Epoch 402/500\n",
      "2/2 - 0s - loss: 15.1040 - mean_squared_error: 15.1040 - mean_absolute_error: 2.8239 - 24ms/epoch - 12ms/step\n",
      "Epoch 403/500\n",
      "2/2 - 0s - loss: 15.1098 - mean_squared_error: 15.1098 - mean_absolute_error: 2.7974 - 27ms/epoch - 13ms/step\n",
      "Epoch 404/500\n",
      "2/2 - 0s - loss: 15.0845 - mean_squared_error: 15.0845 - mean_absolute_error: 2.8043 - 25ms/epoch - 12ms/step\n",
      "Epoch 405/500\n",
      "2/2 - 0s - loss: 15.0942 - mean_squared_error: 15.0942 - mean_absolute_error: 2.8191 - 25ms/epoch - 12ms/step\n",
      "Epoch 406/500\n",
      "2/2 - 0s - loss: 15.0742 - mean_squared_error: 15.0742 - mean_absolute_error: 2.7993 - 25ms/epoch - 12ms/step\n",
      "Epoch 407/500\n",
      "2/2 - 0s - loss: 15.0628 - mean_squared_error: 15.0628 - mean_absolute_error: 2.8086 - 28ms/epoch - 14ms/step\n",
      "Epoch 408/500\n",
      "2/2 - 0s - loss: 15.0713 - mean_squared_error: 15.0713 - mean_absolute_error: 2.8215 - 25ms/epoch - 12ms/step\n",
      "Epoch 409/500\n",
      "2/2 - 0s - loss: 15.0484 - mean_squared_error: 15.0484 - mean_absolute_error: 2.7959 - 24ms/epoch - 12ms/step\n",
      "Epoch 410/500\n",
      "2/2 - 0s - loss: 15.0281 - mean_squared_error: 15.0281 - mean_absolute_error: 2.7975 - 24ms/epoch - 12ms/step\n",
      "Epoch 411/500\n",
      "2/2 - 0s - loss: 15.0315 - mean_squared_error: 15.0315 - mean_absolute_error: 2.8144 - 25ms/epoch - 12ms/step\n",
      "Epoch 412/500\n",
      "2/2 - 0s - loss: 15.0272 - mean_squared_error: 15.0272 - mean_absolute_error: 2.8009 - 24ms/epoch - 12ms/step\n",
      "Epoch 413/500\n",
      "2/2 - 0s - loss: 15.0070 - mean_squared_error: 15.0070 - mean_absolute_error: 2.8062 - 26ms/epoch - 13ms/step\n",
      "Epoch 414/500\n",
      "2/2 - 0s - loss: 14.9982 - mean_squared_error: 14.9982 - mean_absolute_error: 2.8009 - 30ms/epoch - 15ms/step\n",
      "Epoch 415/500\n",
      "2/2 - 0s - loss: 14.9943 - mean_squared_error: 14.9943 - mean_absolute_error: 2.7985 - 29ms/epoch - 14ms/step\n",
      "Epoch 416/500\n",
      "2/2 - 0s - loss: 14.9943 - mean_squared_error: 14.9943 - mean_absolute_error: 2.8151 - 26ms/epoch - 13ms/step\n",
      "Epoch 417/500\n",
      "2/2 - 0s - loss: 14.9727 - mean_squared_error: 14.9727 - mean_absolute_error: 2.7991 - 26ms/epoch - 13ms/step\n",
      "Epoch 418/500\n",
      "2/2 - 0s - loss: 14.9851 - mean_squared_error: 14.9851 - mean_absolute_error: 2.7909 - 26ms/epoch - 13ms/step\n",
      "Epoch 419/500\n",
      "2/2 - 0s - loss: 14.9729 - mean_squared_error: 14.9729 - mean_absolute_error: 2.8090 - 24ms/epoch - 12ms/step\n",
      "Epoch 420/500\n",
      "2/2 - 0s - loss: 14.9461 - mean_squared_error: 14.9461 - mean_absolute_error: 2.8001 - 24ms/epoch - 12ms/step\n",
      "Epoch 421/500\n",
      "2/2 - 0s - loss: 14.9412 - mean_squared_error: 14.9412 - mean_absolute_error: 2.7969 - 25ms/epoch - 12ms/step\n",
      "Epoch 422/500\n",
      "2/2 - 0s - loss: 14.9357 - mean_squared_error: 14.9357 - mean_absolute_error: 2.8017 - 27ms/epoch - 13ms/step\n",
      "Epoch 423/500\n",
      "2/2 - 0s - loss: 14.9274 - mean_squared_error: 14.9274 - mean_absolute_error: 2.8011 - 26ms/epoch - 13ms/step\n",
      "Epoch 424/500\n",
      "2/2 - 0s - loss: 14.9202 - mean_squared_error: 14.9202 - mean_absolute_error: 2.7985 - 25ms/epoch - 12ms/step\n",
      "Epoch 425/500\n",
      "2/2 - 0s - loss: 14.9158 - mean_squared_error: 14.9157 - mean_absolute_error: 2.7999 - 24ms/epoch - 12ms/step\n",
      "Epoch 426/500\n",
      "2/2 - 0s - loss: 14.9107 - mean_squared_error: 14.9107 - mean_absolute_error: 2.7940 - 28ms/epoch - 14ms/step\n",
      "Epoch 427/500\n",
      "2/2 - 0s - loss: 14.9036 - mean_squared_error: 14.9036 - mean_absolute_error: 2.7994 - 28ms/epoch - 14ms/step\n",
      "Epoch 428/500\n",
      "2/2 - 0s - loss: 14.8887 - mean_squared_error: 14.8887 - mean_absolute_error: 2.8081 - 29ms/epoch - 14ms/step\n",
      "Epoch 429/500\n",
      "2/2 - 0s - loss: 14.8761 - mean_squared_error: 14.8761 - mean_absolute_error: 2.7929 - 27ms/epoch - 13ms/step\n",
      "Epoch 430/500\n",
      "2/2 - 0s - loss: 14.8703 - mean_squared_error: 14.8703 - mean_absolute_error: 2.8000 - 25ms/epoch - 12ms/step\n",
      "Epoch 431/500\n",
      "2/2 - 0s - loss: 14.8557 - mean_squared_error: 14.8557 - mean_absolute_error: 2.8036 - 27ms/epoch - 13ms/step\n",
      "Epoch 432/500\n",
      "2/2 - 0s - loss: 14.8553 - mean_squared_error: 14.8553 - mean_absolute_error: 2.7954 - 26ms/epoch - 13ms/step\n",
      "Epoch 433/500\n",
      "2/2 - 0s - loss: 14.8394 - mean_squared_error: 14.8394 - mean_absolute_error: 2.8005 - 25ms/epoch - 12ms/step\n",
      "Epoch 434/500\n",
      "2/2 - 0s - loss: 14.8310 - mean_squared_error: 14.8310 - mean_absolute_error: 2.7967 - 26ms/epoch - 13ms/step\n",
      "Epoch 435/500\n",
      "2/2 - 0s - loss: 14.8280 - mean_squared_error: 14.8280 - mean_absolute_error: 2.7950 - 25ms/epoch - 12ms/step\n",
      "Epoch 436/500\n",
      "2/2 - 0s - loss: 14.8014 - mean_squared_error: 14.8014 - mean_absolute_error: 2.7945 - 25ms/epoch - 12ms/step\n",
      "Epoch 437/500\n",
      "2/2 - 0s - loss: 14.8080 - mean_squared_error: 14.8080 - mean_absolute_error: 2.8013 - 25ms/epoch - 12ms/step\n",
      "Epoch 438/500\n",
      "2/2 - 0s - loss: 14.7965 - mean_squared_error: 14.7965 - mean_absolute_error: 2.7930 - 40ms/epoch - 20ms/step\n",
      "Epoch 439/500\n",
      "2/2 - 0s - loss: 14.8031 - mean_squared_error: 14.8031 - mean_absolute_error: 2.7885 - 27ms/epoch - 13ms/step\n",
      "Epoch 440/500\n",
      "2/2 - 0s - loss: 14.7926 - mean_squared_error: 14.7926 - mean_absolute_error: 2.7995 - 25ms/epoch - 12ms/step\n",
      "Epoch 441/500\n",
      "2/2 - 0s - loss: 14.7561 - mean_squared_error: 14.7561 - mean_absolute_error: 2.7907 - 24ms/epoch - 12ms/step\n",
      "Epoch 442/500\n",
      "2/2 - 0s - loss: 14.7453 - mean_squared_error: 14.7453 - mean_absolute_error: 2.7901 - 25ms/epoch - 12ms/step\n",
      "Epoch 443/500\n",
      "2/2 - 0s - loss: 14.7480 - mean_squared_error: 14.7480 - mean_absolute_error: 2.7904 - 23ms/epoch - 11ms/step\n",
      "Epoch 444/500\n",
      "2/2 - 0s - loss: 14.7359 - mean_squared_error: 14.7359 - mean_absolute_error: 2.7900 - 25ms/epoch - 12ms/step\n",
      "Epoch 445/500\n",
      "2/2 - 0s - loss: 14.7176 - mean_squared_error: 14.7176 - mean_absolute_error: 2.7935 - 26ms/epoch - 13ms/step\n",
      "Epoch 446/500\n",
      "2/2 - 0s - loss: 14.7238 - mean_squared_error: 14.7238 - mean_absolute_error: 2.7894 - 24ms/epoch - 12ms/step\n",
      "Epoch 447/500\n",
      "2/2 - 0s - loss: 14.7234 - mean_squared_error: 14.7234 - mean_absolute_error: 2.7942 - 33ms/epoch - 16ms/step\n",
      "Epoch 448/500\n",
      "2/2 - 0s - loss: 14.6981 - mean_squared_error: 14.6981 - mean_absolute_error: 2.7845 - 39ms/epoch - 19ms/step\n",
      "Epoch 449/500\n",
      "2/2 - 0s - loss: 14.7213 - mean_squared_error: 14.7213 - mean_absolute_error: 2.8077 - 27ms/epoch - 13ms/step\n",
      "Epoch 450/500\n",
      "2/2 - 0s - loss: 14.7035 - mean_squared_error: 14.7035 - mean_absolute_error: 2.7784 - 27ms/epoch - 13ms/step\n",
      "Epoch 451/500\n",
      "2/2 - 0s - loss: 14.6877 - mean_squared_error: 14.6877 - mean_absolute_error: 2.7934 - 25ms/epoch - 12ms/step\n",
      "Epoch 452/500\n",
      "2/2 - 0s - loss: 14.6606 - mean_squared_error: 14.6606 - mean_absolute_error: 2.7855 - 24ms/epoch - 12ms/step\n",
      "Epoch 453/500\n",
      "2/2 - 0s - loss: 14.7295 - mean_squared_error: 14.7295 - mean_absolute_error: 2.7969 - 24ms/epoch - 12ms/step\n",
      "Epoch 454/500\n",
      "2/2 - 0s - loss: 14.6600 - mean_squared_error: 14.6600 - mean_absolute_error: 2.7901 - 25ms/epoch - 12ms/step\n",
      "Epoch 455/500\n",
      "2/2 - 0s - loss: 14.7098 - mean_squared_error: 14.7098 - mean_absolute_error: 2.7909 - 25ms/epoch - 12ms/step\n",
      "Epoch 456/500\n",
      "2/2 - 0s - loss: 14.6962 - mean_squared_error: 14.6962 - mean_absolute_error: 2.8008 - 26ms/epoch - 13ms/step\n",
      "Epoch 457/500\n",
      "2/2 - 0s - loss: 14.6552 - mean_squared_error: 14.6552 - mean_absolute_error: 2.7798 - 25ms/epoch - 12ms/step\n",
      "Epoch 458/500\n",
      "2/2 - 0s - loss: 14.8934 - mean_squared_error: 14.8934 - mean_absolute_error: 2.8310 - 24ms/epoch - 12ms/step\n",
      "Epoch 459/500\n",
      "2/2 - 0s - loss: 14.8073 - mean_squared_error: 14.8073 - mean_absolute_error: 2.7827 - 25ms/epoch - 12ms/step\n",
      "Epoch 460/500\n",
      "2/2 - 0s - loss: 14.7265 - mean_squared_error: 14.7265 - mean_absolute_error: 2.7964 - 24ms/epoch - 12ms/step\n",
      "Epoch 461/500\n",
      "2/2 - 0s - loss: 14.6334 - mean_squared_error: 14.6334 - mean_absolute_error: 2.8005 - 25ms/epoch - 12ms/step\n",
      "Epoch 462/500\n",
      "2/2 - 0s - loss: 14.7013 - mean_squared_error: 14.7013 - mean_absolute_error: 2.7826 - 24ms/epoch - 12ms/step\n",
      "Epoch 463/500\n",
      "2/2 - 0s - loss: 14.6442 - mean_squared_error: 14.6442 - mean_absolute_error: 2.7982 - 25ms/epoch - 12ms/step\n",
      "Epoch 464/500\n",
      "2/2 - 0s - loss: 14.6378 - mean_squared_error: 14.6378 - mean_absolute_error: 2.7836 - 25ms/epoch - 12ms/step\n",
      "Epoch 465/500\n",
      "2/2 - 0s - loss: 14.6336 - mean_squared_error: 14.6336 - mean_absolute_error: 2.7769 - 29ms/epoch - 14ms/step\n",
      "Epoch 466/500\n",
      "2/2 - 0s - loss: 14.6539 - mean_squared_error: 14.6539 - mean_absolute_error: 2.8191 - 23ms/epoch - 11ms/step\n",
      "Epoch 467/500\n",
      "2/2 - 0s - loss: 14.6059 - mean_squared_error: 14.6059 - mean_absolute_error: 2.7971 - 24ms/epoch - 12ms/step\n",
      "Epoch 468/500\n",
      "2/2 - 0s - loss: 14.5826 - mean_squared_error: 14.5826 - mean_absolute_error: 2.7808 - 25ms/epoch - 12ms/step\n",
      "Epoch 469/500\n",
      "2/2 - 0s - loss: 14.7134 - mean_squared_error: 14.7134 - mean_absolute_error: 2.8295 - 24ms/epoch - 12ms/step\n",
      "Epoch 470/500\n",
      "2/2 - 0s - loss: 14.5604 - mean_squared_error: 14.5604 - mean_absolute_error: 2.7856 - 24ms/epoch - 12ms/step\n",
      "Epoch 471/500\n",
      "2/2 - 0s - loss: 14.5757 - mean_squared_error: 14.5757 - mean_absolute_error: 2.7852 - 30ms/epoch - 15ms/step\n",
      "Epoch 472/500\n",
      "2/2 - 0s - loss: 14.5913 - mean_squared_error: 14.5913 - mean_absolute_error: 2.8050 - 30ms/epoch - 15ms/step\n",
      "Epoch 473/500\n",
      "2/2 - 0s - loss: 14.5778 - mean_squared_error: 14.5778 - mean_absolute_error: 2.8067 - 25ms/epoch - 12ms/step\n",
      "Epoch 474/500\n",
      "2/2 - 0s - loss: 14.5550 - mean_squared_error: 14.5550 - mean_absolute_error: 2.7692 - 25ms/epoch - 12ms/step\n",
      "Epoch 475/500\n",
      "2/2 - 0s - loss: 14.5003 - mean_squared_error: 14.5003 - mean_absolute_error: 2.7791 - 24ms/epoch - 12ms/step\n",
      "Epoch 476/500\n",
      "2/2 - 0s - loss: 14.5074 - mean_squared_error: 14.5074 - mean_absolute_error: 2.7813 - 24ms/epoch - 12ms/step\n",
      "Epoch 477/500\n",
      "2/2 - 0s - loss: 14.4776 - mean_squared_error: 14.4776 - mean_absolute_error: 2.7747 - 26ms/epoch - 13ms/step\n",
      "Epoch 478/500\n",
      "2/2 - 0s - loss: 14.4629 - mean_squared_error: 14.4629 - mean_absolute_error: 2.7763 - 25ms/epoch - 12ms/step\n",
      "Epoch 479/500\n",
      "2/2 - 0s - loss: 14.4995 - mean_squared_error: 14.4995 - mean_absolute_error: 2.7729 - 25ms/epoch - 12ms/step\n",
      "Epoch 480/500\n",
      "2/2 - 0s - loss: 14.4411 - mean_squared_error: 14.4411 - mean_absolute_error: 2.7699 - 26ms/epoch - 13ms/step\n",
      "Epoch 481/500\n",
      "2/2 - 0s - loss: 14.4821 - mean_squared_error: 14.4821 - mean_absolute_error: 2.7778 - 25ms/epoch - 12ms/step\n",
      "Epoch 482/500\n",
      "2/2 - 0s - loss: 14.4599 - mean_squared_error: 14.4599 - mean_absolute_error: 2.7724 - 24ms/epoch - 12ms/step\n",
      "Epoch 483/500\n",
      "2/2 - 0s - loss: 14.4326 - mean_squared_error: 14.4326 - mean_absolute_error: 2.7774 - 28ms/epoch - 14ms/step\n",
      "Epoch 484/500\n",
      "2/2 - 0s - loss: 14.4884 - mean_squared_error: 14.4884 - mean_absolute_error: 2.7786 - 26ms/epoch - 13ms/step\n",
      "Epoch 485/500\n",
      "2/2 - 0s - loss: 14.4149 - mean_squared_error: 14.4149 - mean_absolute_error: 2.7694 - 24ms/epoch - 12ms/step\n",
      "Epoch 486/500\n",
      "2/2 - 0s - loss: 14.4555 - mean_squared_error: 14.4555 - mean_absolute_error: 2.7754 - 24ms/epoch - 12ms/step\n",
      "Epoch 487/500\n",
      "2/2 - 0s - loss: 14.4204 - mean_squared_error: 14.4204 - mean_absolute_error: 2.7791 - 26ms/epoch - 13ms/step\n",
      "Epoch 488/500\n",
      "2/2 - 0s - loss: 14.4900 - mean_squared_error: 14.4900 - mean_absolute_error: 2.7646 - 24ms/epoch - 12ms/step\n",
      "Epoch 489/500\n",
      "2/2 - 0s - loss: 14.3915 - mean_squared_error: 14.3915 - mean_absolute_error: 2.7725 - 26ms/epoch - 13ms/step\n",
      "Epoch 490/500\n",
      "2/2 - 0s - loss: 14.4218 - mean_squared_error: 14.4218 - mean_absolute_error: 2.7766 - 26ms/epoch - 13ms/step\n",
      "Epoch 491/500\n",
      "2/2 - 0s - loss: 14.4638 - mean_squared_error: 14.4638 - mean_absolute_error: 2.7682 - 23ms/epoch - 11ms/step\n",
      "Epoch 492/500\n",
      "2/2 - 0s - loss: 14.4178 - mean_squared_error: 14.4178 - mean_absolute_error: 2.7905 - 24ms/epoch - 12ms/step\n",
      "Epoch 493/500\n",
      "2/2 - 0s - loss: 14.5494 - mean_squared_error: 14.5494 - mean_absolute_error: 2.7910 - 26ms/epoch - 13ms/step\n",
      "Epoch 494/500\n",
      "2/2 - 0s - loss: 14.4158 - mean_squared_error: 14.4158 - mean_absolute_error: 2.7686 - 26ms/epoch - 13ms/step\n",
      "Epoch 495/500\n",
      "2/2 - 0s - loss: 14.4221 - mean_squared_error: 14.4221 - mean_absolute_error: 2.7793 - 24ms/epoch - 12ms/step\n",
      "Epoch 496/500\n",
      "2/2 - 0s - loss: 14.3480 - mean_squared_error: 14.3480 - mean_absolute_error: 2.7631 - 25ms/epoch - 12ms/step\n",
      "Epoch 497/500\n",
      "2/2 - 0s - loss: 14.3816 - mean_squared_error: 14.3816 - mean_absolute_error: 2.7712 - 24ms/epoch - 12ms/step\n",
      "Epoch 498/500\n",
      "2/2 - 0s - loss: 14.3414 - mean_squared_error: 14.3414 - mean_absolute_error: 2.7652 - 24ms/epoch - 12ms/step\n",
      "Epoch 499/500\n",
      "2/2 - 0s - loss: 14.3429 - mean_squared_error: 14.3429 - mean_absolute_error: 2.7658 - 27ms/epoch - 13ms/step\n",
      "Epoch 500/500\n",
      "2/2 - 0s - loss: 14.3699 - mean_squared_error: 14.3699 - mean_absolute_error: 2.7628 - val_loss: 11.8446 - val_mean_squared_error: 11.8446 - val_mean_absolute_error: 2.5970 - 54ms/epoch - 27ms/step\n"
     ]
    }
   ],
   "source": [
    "\n",
    "\n",
    "##### Step 5 - Fit the model on the dataset\n",
    "history = model.fit(X_train, # input data\n",
    "                    Y_train, # target data\n",
    "                    batch_size=None, # Number of samples per gradient update. If unspecified, batch_size will default to 32.\n",
    "                    epochs=500, # default=1, Number of epochs to train the model. An epoch is an iteration over the entire x and y data provided\n",
    "                    verbose=2, # default='auto', ('auto', 0, 1, or 2). Verbosity mode. 0 = silent, 1 = progress bar, 2 = one line per epoch. 'auto' defaults to 1 for most cases, but 2 when used with ParameterServerStrategy.\n",
    "                    callbacks=None, # default=None, list of callbacks to apply during training. See tf.keras.callbacks\n",
    "                    validation_split=0.2, # default=0.0, Fraction of the training data to be used as validation data. The model will set apart this fraction of the training data, will not train on it, and will evaluate the loss and any model metrics on this data at the end of each epoch. \n",
    "                    #validation_data=(X_test, y_test), # default=None, Data on which to evaluate the loss and any model metrics at the end of each epoch. \n",
    "                    shuffle=True, # default=True, Boolean (whether to shuffle the training data before each epoch) or str (for 'batch').\n",
    "                    class_weight=None, # default=None, Optional dictionary mapping class indices (integers) to a weight (float) value, used for weighting the loss function (during training only). This can be useful to tell the model to \"pay more attention\" to samples from an under-represented class.\n",
    "                    sample_weight=None, # default=None, Optional Numpy array of weights for the training samples, used for weighting the loss function (during training only).\n",
    "                    initial_epoch=0, # Integer, default=0, Epoch at which to start training (useful for resuming a previous training run).\n",
    "                    steps_per_epoch=None, # Integer or None, default=None, Total number of steps (batches of samples) before declaring one epoch finished and starting the next epoch. When training with input tensors such as TensorFlow data tensors, the default None is equal to the number of samples in your dataset divided by the batch size, or 1 if that cannot be determined. \n",
    "                    validation_steps=None, # Only relevant if validation_data is provided and is a tf.data dataset. Total number of steps (batches of samples) to draw before stopping when performing validation at the end of every epoch.\n",
    "                    validation_batch_size=None, # Integer or None, default=None, Number of samples per validation batch. If unspecified, will default to batch_size.\n",
    "                    validation_freq=100, # default=1, Only relevant if validation data is provided. If an integer, specifies how many training epochs to run before a new validation run is performed, e.g. validation_freq=2 runs validation every 2 epochs.\n",
    "                    max_queue_size=10, # default=10, Used for generator or keras.utils.Sequence input only. Maximum size for the generator queue. If unspecified, max_queue_size will default to 10.\n",
    "                    workers=1, # default=1, Used for generator or keras.utils.Sequence input only. Maximum number of processes to spin up when using process-based threading. If unspecified, workers will default to 1.\n",
    "                    use_multiprocessing=True, # default=False, Used for generator or keras.utils.Sequence input only. If True, use process-based threading. If unspecified, use_multiprocessing will default to False. \n",
    "                \n",
    "                   )\n",
    "\n"
   ]
  },
  {
   "cell_type": "code",
   "execution_count": 15,
   "metadata": {
    "scrolled": true
   },
   "outputs": [
    {
     "name": "stdout",
     "output_type": "stream",
     "text": [
      "3/3 [==============================] - 4s 4ms/step\n",
      "1/1 [==============================] - 0s 21ms/step\n"
     ]
    }
   ],
   "source": [
    "##### Step 6 - Use model to make predictions\n",
    "# Predict results on training data\n",
    "pred_train = model.predict(X_train)\n",
    "# Predict esults on test data\n",
    "pred_test = model.predict(X_test)"
   ]
  },
  {
   "cell_type": "code",
   "execution_count": 16,
   "metadata": {},
   "outputs": [
    {
     "name": "stdout",
     "output_type": "stream",
     "text": [
      "\n",
      "-------------------- Model Summary --------------------\n",
      "Model: \"LSTM-Model\"\n",
      "_________________________________________________________________\n",
      " Layer (type)                Output Shape              Param #   \n",
      "=================================================================\n",
      " masking (Masking)           (None, 10, 1)             0         \n",
      "                                                                 \n",
      " Input-Layer (InputLayer)    multiple                  0         \n",
      "                                                                 \n",
      " Hidden-LSTM-Encoder-Layer (  (None, 64)               8704      \n",
      " Bidirectional)                                                  \n",
      "                                                                 \n",
      " Repeat-Vector-Layer (Repeat  (None, 10, 64)           0         \n",
      " Vector)                                                         \n",
      "                                                                 \n",
      " Hidden-LSTM-Decoder-Layer (  (None, 10, 64)           24832     \n",
      " Bidirectional)                                                  \n",
      "                                                                 \n",
      " Output-Layer (TimeDistribut  (None, 10, 1)            65        \n",
      " ed)                                                             \n",
      "                                                                 \n",
      "=================================================================\n",
      "Total params: 33,601\n",
      "Trainable params: 33,601\n",
      "Non-trainable params: 0\n",
      "_________________________________________________________________\n",
      "\n",
      "-------------------- Weights and Biases --------------------\n",
      "Too many parameters to print but you can use the code provided if needed\n",
      "\n",
      "-------------------- Evaluation on Training Data --------------------\n",
      "Final loss : 14.369917869567871\n",
      "Final mean_squared_error : 14.369916915893555\n",
      "Final mean_absolute_error : 2.7627804279327393\n",
      "Final val_loss : 11.844640731811523\n",
      "Final val_mean_squared_error : 11.844640731811523\n",
      "Final val_mean_absolute_error : 2.5970406532287598\n",
      "\n",
      "-------------------- Evaluation on Test Data --------------------\n",
      "1/1 [==============================] - 0s 24ms/step - loss: 7.7278 - mean_squared_error: 7.7278 - mean_absolute_error: 2.3548\n",
      "\n"
     ]
    }
   ],
   "source": [
    "##### Step 7 - Print Performance Summary\n",
    "print(\"\")\n",
    "print('-------------------- Model Summary --------------------')\n",
    "model.summary() # print model summary\n",
    "print(\"\")\n",
    "print('-------------------- Weights and Biases --------------------')\n",
    "print(\"Too many parameters to print but you can use the code provided if needed\")\n",
    "print(\"\")\n",
    "#for layer in model.layers:\n",
    "#    print(layer.name)\n",
    "#    for item in layer.get_weights():\n",
    "#        print(\"  \", item)\n",
    "#print(\"\")\n",
    "\n",
    "# Print the last value in the evaluation metrics contained within history file\n",
    "print('-------------------- Evaluation on Training Data --------------------')\n",
    "for item in history.history:\n",
    "    print(\"Final\", item, \":\", history.history[item][-1])\n",
    "print(\"\")\n",
    "\n",
    "# Evaluate the model on the test data using \"evaluate\"\n",
    "print('-------------------- Evaluation on Test Data --------------------')\n",
    "results = model.evaluate(X_test, Y_test)\n",
    "print(\"\")"
   ]
  },
  {
   "cell_type": "code",
   "execution_count": 17,
   "metadata": {},
   "outputs": [
    {
     "data": {
      "application/vnd.plotly.v1+json": {
       "config": {
        "plotlyServerURL": "https://plot.ly"
       },
       "data": [
        {
         "line": {
          "color": "black",
          "width": 1
         },
         "mode": "lines",
         "name": "Subsidence - Actual (Test)",
         "opacity": 0.8,
         "type": "scatter",
         "x": [
          "2018-05-27T00:00:00.000000000",
          "2018-06-08T00:00:00.000000000",
          "2018-06-20T00:00:00.000000000",
          "2018-07-02T00:00:00.000000000",
          "2018-07-14T00:00:00.000000000",
          "2018-07-26T00:00:00.000000000",
          "2018-08-07T00:00:00.000000000",
          "2018-08-19T00:00:00.000000000",
          "2018-08-31T00:00:00.000000000",
          "2018-09-12T00:00:00.000000000",
          "2018-09-24T00:00:00.000000000",
          "2018-10-06T00:00:00.000000000",
          "2018-10-18T00:00:00.000000000",
          "2018-10-30T00:00:00.000000000",
          "2018-11-11T00:00:00.000000000",
          "2018-11-17T00:00:00.000000000",
          "2018-11-23T00:00:00.000000000",
          "2018-12-05T00:00:00.000000000",
          "2018-12-17T00:00:00.000000000",
          "2018-12-29T00:00:00.000000000",
          "2019-01-10T00:00:00.000000000",
          "2019-01-22T00:00:00.000000000"
         ],
         "y": [
          -1.6243,
          -2.1392,
          -3.1823,
          -4.4811,
          -2.0632,
          null,
          -3.117,
          -6.0934,
          -3.442,
          -6.9064,
          -4.9925,
          -5.3969,
          -6.1054,
          -3.8771,
          -5.0105,
          -6.429,
          -4.0435,
          -7.6104,
          -2.7098,
          -2.0944,
          -2.5916,
          -3.4094
         ]
        },
        {
         "line": {
          "color": "red",
          "width": 1
         },
         "mode": "lines",
         "name": "Subsidence - Predicted (Test)",
         "opacity": 0.8,
         "type": "scatter",
         "x": [
          "2018-10-18T00:00:00.000000000",
          "2018-10-30T00:00:00.000000000",
          "2018-11-11T00:00:00.000000000",
          "2018-11-17T00:00:00.000000000",
          "2018-11-23T00:00:00.000000000",
          "2018-12-05T00:00:00.000000000",
          "2018-12-17T00:00:00.000000000",
          "2018-12-29T00:00:00.000000000",
          "2019-01-10T00:00:00.000000000",
          "2019-01-22T00:00:00.000000000"
         ],
         "y": [
          -2.780947208404541,
          -2.253002166748047,
          -1.8530995845794678,
          -1.7662490606307983,
          -1.90755033493042,
          -2.2693586349487305,
          -2.7296855449676514,
          -3.049649477005005,
          -3.164550542831421,
          -3.0743138790130615,
          -3.01576566696167,
          -2.483147621154785,
          -2.0688066482543945,
          -1.9647458791732788,
          -2.0926613807678223,
          -2.449169874191284,
          -2.919950246810913,
          -3.229919195175171,
          -3.3024582862854004,
          -3.187333822250366,
          -3.2173357009887695,
          -2.6761839389801025,
          -2.2502901554107666,
          -2.1256279945373535,
          -2.2247025966644287,
          -2.555945634841919,
          -3.033956289291382,
          -3.3502860069274902,
          -3.39817476272583,
          -3.271865129470825
         ]
        }
       ],
       "layout": {
        "legend": {
         "orientation": "h",
         "x": 1,
         "xanchor": "right",
         "y": 1.02,
         "yanchor": "bottom"
        },
        "plot_bgcolor": "white",
        "template": {
         "data": {
          "bar": [
           {
            "error_x": {
             "color": "#2a3f5f"
            },
            "error_y": {
             "color": "#2a3f5f"
            },
            "marker": {
             "line": {
              "color": "#E5ECF6",
              "width": 0.5
             },
             "pattern": {
              "fillmode": "overlay",
              "size": 10,
              "solidity": 0.2
             }
            },
            "type": "bar"
           }
          ],
          "barpolar": [
           {
            "marker": {
             "line": {
              "color": "#E5ECF6",
              "width": 0.5
             },
             "pattern": {
              "fillmode": "overlay",
              "size": 10,
              "solidity": 0.2
             }
            },
            "type": "barpolar"
           }
          ],
          "carpet": [
           {
            "aaxis": {
             "endlinecolor": "#2a3f5f",
             "gridcolor": "white",
             "linecolor": "white",
             "minorgridcolor": "white",
             "startlinecolor": "#2a3f5f"
            },
            "baxis": {
             "endlinecolor": "#2a3f5f",
             "gridcolor": "white",
             "linecolor": "white",
             "minorgridcolor": "white",
             "startlinecolor": "#2a3f5f"
            },
            "type": "carpet"
           }
          ],
          "choropleth": [
           {
            "colorbar": {
             "outlinewidth": 0,
             "ticks": ""
            },
            "type": "choropleth"
           }
          ],
          "contour": [
           {
            "colorbar": {
             "outlinewidth": 0,
             "ticks": ""
            },
            "colorscale": [
             [
              0,
              "#0d0887"
             ],
             [
              0.1111111111111111,
              "#46039f"
             ],
             [
              0.2222222222222222,
              "#7201a8"
             ],
             [
              0.3333333333333333,
              "#9c179e"
             ],
             [
              0.4444444444444444,
              "#bd3786"
             ],
             [
              0.5555555555555556,
              "#d8576b"
             ],
             [
              0.6666666666666666,
              "#ed7953"
             ],
             [
              0.7777777777777778,
              "#fb9f3a"
             ],
             [
              0.8888888888888888,
              "#fdca26"
             ],
             [
              1,
              "#f0f921"
             ]
            ],
            "type": "contour"
           }
          ],
          "contourcarpet": [
           {
            "colorbar": {
             "outlinewidth": 0,
             "ticks": ""
            },
            "type": "contourcarpet"
           }
          ],
          "heatmap": [
           {
            "colorbar": {
             "outlinewidth": 0,
             "ticks": ""
            },
            "colorscale": [
             [
              0,
              "#0d0887"
             ],
             [
              0.1111111111111111,
              "#46039f"
             ],
             [
              0.2222222222222222,
              "#7201a8"
             ],
             [
              0.3333333333333333,
              "#9c179e"
             ],
             [
              0.4444444444444444,
              "#bd3786"
             ],
             [
              0.5555555555555556,
              "#d8576b"
             ],
             [
              0.6666666666666666,
              "#ed7953"
             ],
             [
              0.7777777777777778,
              "#fb9f3a"
             ],
             [
              0.8888888888888888,
              "#fdca26"
             ],
             [
              1,
              "#f0f921"
             ]
            ],
            "type": "heatmap"
           }
          ],
          "heatmapgl": [
           {
            "colorbar": {
             "outlinewidth": 0,
             "ticks": ""
            },
            "colorscale": [
             [
              0,
              "#0d0887"
             ],
             [
              0.1111111111111111,
              "#46039f"
             ],
             [
              0.2222222222222222,
              "#7201a8"
             ],
             [
              0.3333333333333333,
              "#9c179e"
             ],
             [
              0.4444444444444444,
              "#bd3786"
             ],
             [
              0.5555555555555556,
              "#d8576b"
             ],
             [
              0.6666666666666666,
              "#ed7953"
             ],
             [
              0.7777777777777778,
              "#fb9f3a"
             ],
             [
              0.8888888888888888,
              "#fdca26"
             ],
             [
              1,
              "#f0f921"
             ]
            ],
            "type": "heatmapgl"
           }
          ],
          "histogram": [
           {
            "marker": {
             "pattern": {
              "fillmode": "overlay",
              "size": 10,
              "solidity": 0.2
             }
            },
            "type": "histogram"
           }
          ],
          "histogram2d": [
           {
            "colorbar": {
             "outlinewidth": 0,
             "ticks": ""
            },
            "colorscale": [
             [
              0,
              "#0d0887"
             ],
             [
              0.1111111111111111,
              "#46039f"
             ],
             [
              0.2222222222222222,
              "#7201a8"
             ],
             [
              0.3333333333333333,
              "#9c179e"
             ],
             [
              0.4444444444444444,
              "#bd3786"
             ],
             [
              0.5555555555555556,
              "#d8576b"
             ],
             [
              0.6666666666666666,
              "#ed7953"
             ],
             [
              0.7777777777777778,
              "#fb9f3a"
             ],
             [
              0.8888888888888888,
              "#fdca26"
             ],
             [
              1,
              "#f0f921"
             ]
            ],
            "type": "histogram2d"
           }
          ],
          "histogram2dcontour": [
           {
            "colorbar": {
             "outlinewidth": 0,
             "ticks": ""
            },
            "colorscale": [
             [
              0,
              "#0d0887"
             ],
             [
              0.1111111111111111,
              "#46039f"
             ],
             [
              0.2222222222222222,
              "#7201a8"
             ],
             [
              0.3333333333333333,
              "#9c179e"
             ],
             [
              0.4444444444444444,
              "#bd3786"
             ],
             [
              0.5555555555555556,
              "#d8576b"
             ],
             [
              0.6666666666666666,
              "#ed7953"
             ],
             [
              0.7777777777777778,
              "#fb9f3a"
             ],
             [
              0.8888888888888888,
              "#fdca26"
             ],
             [
              1,
              "#f0f921"
             ]
            ],
            "type": "histogram2dcontour"
           }
          ],
          "mesh3d": [
           {
            "colorbar": {
             "outlinewidth": 0,
             "ticks": ""
            },
            "type": "mesh3d"
           }
          ],
          "parcoords": [
           {
            "line": {
             "colorbar": {
              "outlinewidth": 0,
              "ticks": ""
             }
            },
            "type": "parcoords"
           }
          ],
          "pie": [
           {
            "automargin": true,
            "type": "pie"
           }
          ],
          "scatter": [
           {
            "fillpattern": {
             "fillmode": "overlay",
             "size": 10,
             "solidity": 0.2
            },
            "type": "scatter"
           }
          ],
          "scatter3d": [
           {
            "line": {
             "colorbar": {
              "outlinewidth": 0,
              "ticks": ""
             }
            },
            "marker": {
             "colorbar": {
              "outlinewidth": 0,
              "ticks": ""
             }
            },
            "type": "scatter3d"
           }
          ],
          "scattercarpet": [
           {
            "marker": {
             "colorbar": {
              "outlinewidth": 0,
              "ticks": ""
             }
            },
            "type": "scattercarpet"
           }
          ],
          "scattergeo": [
           {
            "marker": {
             "colorbar": {
              "outlinewidth": 0,
              "ticks": ""
             }
            },
            "type": "scattergeo"
           }
          ],
          "scattergl": [
           {
            "marker": {
             "colorbar": {
              "outlinewidth": 0,
              "ticks": ""
             }
            },
            "type": "scattergl"
           }
          ],
          "scattermapbox": [
           {
            "marker": {
             "colorbar": {
              "outlinewidth": 0,
              "ticks": ""
             }
            },
            "type": "scattermapbox"
           }
          ],
          "scatterpolar": [
           {
            "marker": {
             "colorbar": {
              "outlinewidth": 0,
              "ticks": ""
             }
            },
            "type": "scatterpolar"
           }
          ],
          "scatterpolargl": [
           {
            "marker": {
             "colorbar": {
              "outlinewidth": 0,
              "ticks": ""
             }
            },
            "type": "scatterpolargl"
           }
          ],
          "scatterternary": [
           {
            "marker": {
             "colorbar": {
              "outlinewidth": 0,
              "ticks": ""
             }
            },
            "type": "scatterternary"
           }
          ],
          "surface": [
           {
            "colorbar": {
             "outlinewidth": 0,
             "ticks": ""
            },
            "colorscale": [
             [
              0,
              "#0d0887"
             ],
             [
              0.1111111111111111,
              "#46039f"
             ],
             [
              0.2222222222222222,
              "#7201a8"
             ],
             [
              0.3333333333333333,
              "#9c179e"
             ],
             [
              0.4444444444444444,
              "#bd3786"
             ],
             [
              0.5555555555555556,
              "#d8576b"
             ],
             [
              0.6666666666666666,
              "#ed7953"
             ],
             [
              0.7777777777777778,
              "#fb9f3a"
             ],
             [
              0.8888888888888888,
              "#fdca26"
             ],
             [
              1,
              "#f0f921"
             ]
            ],
            "type": "surface"
           }
          ],
          "table": [
           {
            "cells": {
             "fill": {
              "color": "#EBF0F8"
             },
             "line": {
              "color": "white"
             }
            },
            "header": {
             "fill": {
              "color": "#C8D4E3"
             },
             "line": {
              "color": "white"
             }
            },
            "type": "table"
           }
          ]
         },
         "layout": {
          "annotationdefaults": {
           "arrowcolor": "#2a3f5f",
           "arrowhead": 0,
           "arrowwidth": 1
          },
          "autotypenumbers": "strict",
          "coloraxis": {
           "colorbar": {
            "outlinewidth": 0,
            "ticks": ""
           }
          },
          "colorscale": {
           "diverging": [
            [
             0,
             "#8e0152"
            ],
            [
             0.1,
             "#c51b7d"
            ],
            [
             0.2,
             "#de77ae"
            ],
            [
             0.3,
             "#f1b6da"
            ],
            [
             0.4,
             "#fde0ef"
            ],
            [
             0.5,
             "#f7f7f7"
            ],
            [
             0.6,
             "#e6f5d0"
            ],
            [
             0.7,
             "#b8e186"
            ],
            [
             0.8,
             "#7fbc41"
            ],
            [
             0.9,
             "#4d9221"
            ],
            [
             1,
             "#276419"
            ]
           ],
           "sequential": [
            [
             0,
             "#0d0887"
            ],
            [
             0.1111111111111111,
             "#46039f"
            ],
            [
             0.2222222222222222,
             "#7201a8"
            ],
            [
             0.3333333333333333,
             "#9c179e"
            ],
            [
             0.4444444444444444,
             "#bd3786"
            ],
            [
             0.5555555555555556,
             "#d8576b"
            ],
            [
             0.6666666666666666,
             "#ed7953"
            ],
            [
             0.7777777777777778,
             "#fb9f3a"
            ],
            [
             0.8888888888888888,
             "#fdca26"
            ],
            [
             1,
             "#f0f921"
            ]
           ],
           "sequentialminus": [
            [
             0,
             "#0d0887"
            ],
            [
             0.1111111111111111,
             "#46039f"
            ],
            [
             0.2222222222222222,
             "#7201a8"
            ],
            [
             0.3333333333333333,
             "#9c179e"
            ],
            [
             0.4444444444444444,
             "#bd3786"
            ],
            [
             0.5555555555555556,
             "#d8576b"
            ],
            [
             0.6666666666666666,
             "#ed7953"
            ],
            [
             0.7777777777777778,
             "#fb9f3a"
            ],
            [
             0.8888888888888888,
             "#fdca26"
            ],
            [
             1,
             "#f0f921"
            ]
           ]
          },
          "colorway": [
           "#636efa",
           "#EF553B",
           "#00cc96",
           "#ab63fa",
           "#FFA15A",
           "#19d3f3",
           "#FF6692",
           "#B6E880",
           "#FF97FF",
           "#FECB52"
          ],
          "font": {
           "color": "#2a3f5f"
          },
          "geo": {
           "bgcolor": "white",
           "lakecolor": "white",
           "landcolor": "#E5ECF6",
           "showlakes": true,
           "showland": true,
           "subunitcolor": "white"
          },
          "hoverlabel": {
           "align": "left"
          },
          "hovermode": "closest",
          "mapbox": {
           "style": "light"
          },
          "paper_bgcolor": "white",
          "plot_bgcolor": "#E5ECF6",
          "polar": {
           "angularaxis": {
            "gridcolor": "white",
            "linecolor": "white",
            "ticks": ""
           },
           "bgcolor": "#E5ECF6",
           "radialaxis": {
            "gridcolor": "white",
            "linecolor": "white",
            "ticks": ""
           }
          },
          "scene": {
           "xaxis": {
            "backgroundcolor": "#E5ECF6",
            "gridcolor": "white",
            "gridwidth": 2,
            "linecolor": "white",
            "showbackground": true,
            "ticks": "",
            "zerolinecolor": "white"
           },
           "yaxis": {
            "backgroundcolor": "#E5ECF6",
            "gridcolor": "white",
            "gridwidth": 2,
            "linecolor": "white",
            "showbackground": true,
            "ticks": "",
            "zerolinecolor": "white"
           },
           "zaxis": {
            "backgroundcolor": "#E5ECF6",
            "gridcolor": "white",
            "gridwidth": 2,
            "linecolor": "white",
            "showbackground": true,
            "ticks": "",
            "zerolinecolor": "white"
           }
          },
          "shapedefaults": {
           "line": {
            "color": "#2a3f5f"
           }
          },
          "ternary": {
           "aaxis": {
            "gridcolor": "white",
            "linecolor": "white",
            "ticks": ""
           },
           "baxis": {
            "gridcolor": "white",
            "linecolor": "white",
            "ticks": ""
           },
           "bgcolor": "#E5ECF6",
           "caxis": {
            "gridcolor": "white",
            "linecolor": "white",
            "ticks": ""
           }
          },
          "title": {
           "x": 0.05
          },
          "xaxis": {
           "automargin": true,
           "gridcolor": "white",
           "linecolor": "white",
           "ticks": "",
           "title": {
            "standoff": 15
           },
           "zerolinecolor": "white",
           "zerolinewidth": 2
          },
          "yaxis": {
           "automargin": true,
           "gridcolor": "white",
           "linecolor": "white",
           "ticks": "",
           "title": {
            "standoff": 15
           },
           "zerolinecolor": "white",
           "zerolinewidth": 2
          }
         }
        },
        "title": {
         "font": {
          "color": "black"
         },
         "text": "Subsidence"
        },
        "xaxis": {
         "gridcolor": "lightgrey",
         "gridwidth": 1,
         "linecolor": "black",
         "linewidth": 1,
         "showgrid": true,
         "showline": true,
         "title": {
          "text": "Month-Year"
         },
         "zeroline": true,
         "zerolinecolor": "lightgrey",
         "zerolinewidth": 1
        },
        "yaxis": {
         "gridcolor": "lightgrey",
         "gridwidth": 1,
         "linecolor": "black",
         "linewidth": 1,
         "showgrid": true,
         "showline": true,
         "title": {
          "text": "Subsidence"
         },
         "zeroline": true,
         "zerolinecolor": "lightgrey",
         "zerolinewidth": 1
        }
       }
      }
     },
     "metadata": {},
     "output_type": "display_data"
    }
   ],
   "source": [
    "# Plot average monthly temperatures (actual and predicted) for test (out of time) data\n",
    "fig = go.Figure()\n",
    "\n",
    "#Trace for actual temperatures\n",
    "fig.add_trace(go.Scatter(x=np.array(df_test.columns),\n",
    "                         y=np.array(df_test.values).flatten(),\n",
    "                         mode='lines',\n",
    "                         name='Subsidence - Actual (Test)',\n",
    "                         opacity=0.8,\n",
    "                         line=dict(color='black', width=1)\n",
    "                        ))\n",
    "\n",
    "# Trace for predicted temperatures\n",
    "fig.add_trace(go.Scatter(x=np.array(df_test.columns[-timestep:]),\n",
    "                         y=pred_test.flatten(),\n",
    "                         mode='lines',\n",
    "                         name='Subsidence - Predicted (Test)',\n",
    "                         opacity=0.8,\n",
    "                         line=dict(color='red', width=1)\n",
    "                        ))\n",
    "\n",
    "# Change chart background color\n",
    "fig.update_layout(dict(plot_bgcolor = 'white'))\n",
    "\n",
    "# Update axes lines\n",
    "fig.update_xaxes(showgrid=True, gridwidth=1, gridcolor='lightgrey', \n",
    "                 zeroline=True, zerolinewidth=1, zerolinecolor='lightgrey', \n",
    "                 showline=True, linewidth=1, linecolor='black',\n",
    "                 title='Month-Year'\n",
    "                )\n",
    "\n",
    "fig.update_yaxes(showgrid=True, gridwidth=1, gridcolor='lightgrey', \n",
    "                 zeroline=True, zerolinewidth=1, zerolinecolor='lightgrey', \n",
    "                 showline=True, linewidth=1, linecolor='black',\n",
    "                 title='Subsidence'\n",
    "                )\n",
    "\n",
    "# Set figure title\n",
    "fig.update_layout(title=dict(text=\"Subsidence\", font=dict(color='black')),\n",
    "                  legend=dict(orientation=\"h\", yanchor=\"bottom\", y=1.02, xanchor=\"right\", x=1)\n",
    "                 )\n",
    "fig.show()"
   ]
  }
 ],
 "metadata": {
  "kernelspec": {
   "display_name": "Python 3.10.5 64-bit",
   "language": "python",
   "name": "python3"
  },
  "language_info": {
   "codemirror_mode": {
    "name": "ipython",
    "version": 3
   },
   "file_extension": ".py",
   "mimetype": "text/x-python",
   "name": "python",
   "nbconvert_exporter": "python",
   "pygments_lexer": "ipython3",
   "version": "3.10.5"
  },
  "vscode": {
   "interpreter": {
    "hash": "d3e10ef16274dd72e574b8fa73b58450b957d8421a2901baded3cca26fcf5dda"
   }
  }
 },
 "nbformat": 4,
 "nbformat_minor": 2
}
