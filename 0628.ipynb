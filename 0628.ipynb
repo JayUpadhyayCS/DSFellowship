{
 "cells": [
  {
   "cell_type": "code",
   "execution_count": 58,
   "metadata": {},
   "outputs": [],
   "source": [
    "%matplotlib inline\n",
    "import os\n",
    "import glob\n",
    "import numpy as np\n",
    "from matplotlib import pyplot as plt\n",
    "import pandas as pd\n",
    "import descartes\n",
    "import geopandas as gpd\n",
    "from shapely.geometry import Point, Polygon\n",
    "import seaborn as sns\n",
    "from mpl_toolkits.mplot3d import Axes3D\n",
    "import imagesc as imagesc\n",
    "# Standardize the data attributes for the Iris dataset.\n",
    "from sklearn import preprocessing\n",
    "from sklearn.preprocessing import StandardScaler\n",
    "from sklearn.preprocessing import MinMaxScaler\n",
    "from sklearn.model_selection import train_test_split\n",
    "import plotly \n",
    "import plotly.express as px\n",
    "import plotly.graph_objects as go"
   ]
  },
  {
   "cell_type": "code",
   "execution_count": 59,
   "metadata": {},
   "outputs": [],
   "source": [
    "# global figure parameters\n",
    "import matplotlib.pylab as pylab\n",
    "params = {'legend.fontsize': 'x-large',\n",
    "          'figure.figsize': (8, 5),\n",
    "          'figure.dpi': 300,\n",
    "         'axes.labelsize': 'x-large',\n",
    "         'axes.titlesize':'x-large',\n",
    "         'xtick.labelsize':'x-large',\n",
    "         'ytick.labelsize':'x-large'}\n",
    "pylab.rcParams.update(params)"
   ]
  },
  {
   "cell_type": "code",
   "execution_count": 60,
   "metadata": {},
   "outputs": [],
   "source": [
    "# south InSAR\n",
    "# load lon, lat information\n",
    "lon_south=pd.read_csv('InSAR_data_south/longitude.csv')\n",
    "lat_south=pd.read_csv('InSAR_data_south/latitude.csv')\n",
    "# load one file\n",
    "\n",
    "z_south=pd.read_csv('InSAR_data_south/displacement/CSV/20190122.csv')\n",
    "\n",
    "\n",
    "# change columns and index names into lon and lat\n",
    "z_south.columns=lon_south.columns\n",
    "z_south.index=lat_south.columns[:-1]\n",
    "#standardized_x=preprocessing.scale(z_south)\n",
    "#print(standardized_x)\n",
    "#min=-80\n",
    "#max=0\n",
    "#need to standardize data\n",
    "#ax=sns.heatmap(z_south, xticklabels=200, yticklabels=200,vmin=min, vmax=max,\\\n",
    "#    cbar_kws={'label': 'Displacement (cm)'})\n",
    "#ax.invert_yaxis()\n",
    "#plt.xlabel('Longitude')\n",
    "#plt.ylabel('Latitude')\n",
    "#plt.tight_layout()\n",
    "#plt.show()"
   ]
  },
  {
   "cell_type": "code",
   "execution_count": 61,
   "metadata": {},
   "outputs": [
    {
     "data": {
      "text/plain": [
       "-49.159"
      ]
     },
     "execution_count": 61,
     "metadata": {},
     "output_type": "execute_result"
    }
   ],
   "source": [
    "longi=\"-119.349\"\n",
    "lat=\"36.1352\"\n",
    "#print(z_south)\n",
    "#z_south.at(lat,longi)\n",
    "#z_south[lat,longi]\n",
    "z_south.loc[lat,longi]"
   ]
  },
  {
   "cell_type": "code",
   "execution_count": 62,
   "metadata": {},
   "outputs": [
    {
     "name": "stdout",
     "output_type": "stream",
     "text": [
      "Empty DataFrame\n",
      "Columns: []\n",
      "Index: []\n"
     ]
    }
   ],
   "source": [
    "df= z_south.unstack().reset_index()\n",
    "df.columns=['Longitude', 'Latitude', 'Displacement']\n",
    "\n",
    "df=pd.DataFrame()\n",
    "print(df.head())"
   ]
  },
  {
   "cell_type": "code",
   "execution_count": 63,
   "metadata": {},
   "outputs": [
    {
     "name": "stdout",
     "output_type": "stream",
     "text": [
      "   Longitude Latitude  Displacement\n",
      "0  -120.9486  34.1347           NaN\n",
      "1  -120.9486  34.1367           NaN\n",
      "2  -120.9486  34.1387           NaN\n",
      "3  -120.9486  34.1407           NaN\n",
      "4  -120.9486  34.1427           NaN\n"
     ]
    },
    {
     "data": {
      "text/html": [
       "<div>\n",
       "<style scoped>\n",
       "    .dataframe tbody tr th:only-of-type {\n",
       "        vertical-align: middle;\n",
       "    }\n",
       "\n",
       "    .dataframe tbody tr th {\n",
       "        vertical-align: top;\n",
       "    }\n",
       "\n",
       "    .dataframe thead th {\n",
       "        text-align: right;\n",
       "    }\n",
       "</style>\n",
       "<table border=\"1\" class=\"dataframe\">\n",
       "  <thead>\n",
       "    <tr style=\"text-align: right;\">\n",
       "      <th></th>\n",
       "      <th>Longitude</th>\n",
       "      <th>Latitude</th>\n",
       "      <th>Displacement</th>\n",
       "    </tr>\n",
       "  </thead>\n",
       "  <tbody>\n",
       "    <tr>\n",
       "      <th>0</th>\n",
       "      <td>-120.9486</td>\n",
       "      <td>34.1347</td>\n",
       "      <td>NaN</td>\n",
       "    </tr>\n",
       "    <tr>\n",
       "      <th>1</th>\n",
       "      <td>-120.9486</td>\n",
       "      <td>34.1367</td>\n",
       "      <td>NaN</td>\n",
       "    </tr>\n",
       "    <tr>\n",
       "      <th>2</th>\n",
       "      <td>-120.9486</td>\n",
       "      <td>34.1387</td>\n",
       "      <td>NaN</td>\n",
       "    </tr>\n",
       "    <tr>\n",
       "      <th>3</th>\n",
       "      <td>-120.9486</td>\n",
       "      <td>34.1407</td>\n",
       "      <td>NaN</td>\n",
       "    </tr>\n",
       "    <tr>\n",
       "      <th>4</th>\n",
       "      <td>-120.9486</td>\n",
       "      <td>34.1427</td>\n",
       "      <td>NaN</td>\n",
       "    </tr>\n",
       "    <tr>\n",
       "      <th>...</th>\n",
       "      <td>...</td>\n",
       "      <td>...</td>\n",
       "      <td>...</td>\n",
       "    </tr>\n",
       "    <tr>\n",
       "      <th>2894590</th>\n",
       "      <td>-117.6414</td>\n",
       "      <td>37.6236</td>\n",
       "      <td>8.8353</td>\n",
       "    </tr>\n",
       "    <tr>\n",
       "      <th>2894591</th>\n",
       "      <td>-117.6414</td>\n",
       "      <td>37.6256</td>\n",
       "      <td>8.3278</td>\n",
       "    </tr>\n",
       "    <tr>\n",
       "      <th>2894592</th>\n",
       "      <td>-117.6414</td>\n",
       "      <td>37.6276</td>\n",
       "      <td>8.3947</td>\n",
       "    </tr>\n",
       "    <tr>\n",
       "      <th>2894593</th>\n",
       "      <td>-117.6414</td>\n",
       "      <td>37.6296</td>\n",
       "      <td>10.2190</td>\n",
       "    </tr>\n",
       "    <tr>\n",
       "      <th>2894594</th>\n",
       "      <td>-117.6414</td>\n",
       "      <td>37.6316</td>\n",
       "      <td>8.8725</td>\n",
       "    </tr>\n",
       "  </tbody>\n",
       "</table>\n",
       "<p>2894595 rows × 3 columns</p>\n",
       "</div>"
      ],
      "text/plain": [
       "         Longitude Latitude  Displacement\n",
       "0        -120.9486  34.1347           NaN\n",
       "1        -120.9486  34.1367           NaN\n",
       "2        -120.9486  34.1387           NaN\n",
       "3        -120.9486  34.1407           NaN\n",
       "4        -120.9486  34.1427           NaN\n",
       "...            ...      ...           ...\n",
       "2894590  -117.6414  37.6236        8.8353\n",
       "2894591  -117.6414  37.6256        8.3278\n",
       "2894592  -117.6414  37.6276        8.3947\n",
       "2894593  -117.6414  37.6296       10.2190\n",
       "2894594  -117.6414  37.6316        8.8725\n",
       "\n",
       "[2894595 rows x 3 columns]"
      ]
     },
     "execution_count": 63,
     "metadata": {},
     "output_type": "execute_result"
    }
   ],
   "source": [
    "#time is column\n",
    "#row is loc\n",
    "z_south0=z_south\n",
    "#z_s= pd.read_csv('InSAR_data_south/displacement/20141108.csv')\n",
    "z_south=z_south.unstack().reset_index()\n",
    "z_south.columns=['Longitude', 'Latitude', 'Displacement']\n",
    "print(z_south.head())\n",
    "z_south\n",
    "\n",
    "#z_s=pd.DataFrame()\n",
    "#z_s.set_value([lat,longi], )\n"
   ]
  },
  {
   "cell_type": "code",
   "execution_count": 64,
   "metadata": {},
   "outputs": [
    {
     "name": "stdout",
     "output_type": "stream",
     "text": [
      "['20141108.csv', '20141202.csv', '20141226.csv', '20150212.csv', '20150308.csv', '20150401.csv', '20150425.csv', '20150519.csv', '20150612.csv', '20150706.csv', '20150730.csv', '20150823.csv', '20150916.csv', '20151010.csv', '20151103.csv', '20151127.csv', '20151209.csv', '20151221.csv', '20160114.csv', '20160126.csv', '20160207.csv', '20160219.csv', '20160302.csv', '20160314.csv', '20160326.csv', '20160407.csv', '20160419.csv', '20160501.csv', '20160513.csv', '20160525.csv', '20160606.csv', '20160630.csv', '20160724.csv', '20160817.csv', '20160910.csv', '20160922.csv', '20161004.csv', '20161016.csv', '20161028.csv', '20161109.csv', '20161121.csv', '20161203.csv', '20161215.csv', '20161227.csv', '20170108.csv', '20170114.csv', '20170120.csv', '20170126.csv', '20170201.csv', '20170213.csv', '20170225.csv', '20170309.csv', '20170321.csv', '20170402.csv', '20170414.csv', '20170426.csv', '20170508.csv', '20170520.csv', '20170601.csv', '20170613.csv', '20170625.csv', '20170707.csv', '20170719.csv', '20170731.csv', '20170812.csv', '20170824.csv', '20170905.csv', '20170917.csv', '20170929.csv', '20171011.csv', '20171023.csv', '20171104.csv', '20171116.csv', '20171128.csv', '20171210.csv', '20171222.csv', '20180103.csv', '20180115.csv', '20180127.csv', '20180208.csv', '20180220.csv', '20180304.csv', '20180316.csv', '20180328.csv', '20180409.csv', '20180421.csv', '20180503.csv', '20180515.csv', '20180527.csv', '20180608.csv', '20180620.csv', '20180702.csv', '20180714.csv', '20180726.csv', '20180807.csv', '20180819.csv', '20180831.csv', '20180912.csv', '20180924.csv', '20181006.csv', '20181018.csv', '20181030.csv', '20181111.csv', '20181117.csv', '20181123.csv', '20181205.csv', '20181217.csv', '20181229.csv', '20190110.csv', '20190122.csv']\n"
     ]
    }
   ],
   "source": [
    "#get displacement for one dot over the whole time 60 20 20\n",
    "#open file by file\n",
    "CSVpath=\"E:/DSFellowship/InSAR_data_south/displacement/CSV/\"\n",
    "dir_list=[]\n",
    "lon_south=pd.read_csv('InSAR_data_south/longitude.csv')\n",
    "lat_south=pd.read_csv('InSAR_data_south/latitude.csv')\n",
    "for f in os.listdir(CSVpath):\n",
    "    name, ext=os.path.splitext(f)\n",
    "    if(ext=='.csv'):\n",
    "        dir_list.append(f)\n",
    "\n",
    "dir_list.sort()\n",
    "print(dir_list)\n"
   ]
  },
  {
   "cell_type": "code",
   "execution_count": 65,
   "metadata": {},
   "outputs": [
    {
     "name": "stdout",
     "output_type": "stream",
     "text": [
      "E:/DSFellowship/InSAR_data_south/displacement/CSV/20141108.csv\n",
      "E:/DSFellowship/InSAR_data_south/displacement/CSV/20141202.csv\n",
      "E:/DSFellowship/InSAR_data_south/displacement/CSV/20141226.csv\n",
      "E:/DSFellowship/InSAR_data_south/displacement/CSV/20150212.csv\n",
      "E:/DSFellowship/InSAR_data_south/displacement/CSV/20150308.csv\n",
      "E:/DSFellowship/InSAR_data_south/displacement/CSV/20150401.csv\n",
      "E:/DSFellowship/InSAR_data_south/displacement/CSV/20150425.csv\n",
      "E:/DSFellowship/InSAR_data_south/displacement/CSV/20150519.csv\n",
      "E:/DSFellowship/InSAR_data_south/displacement/CSV/20150612.csv\n",
      "E:/DSFellowship/InSAR_data_south/displacement/CSV/20150706.csv\n",
      "E:/DSFellowship/InSAR_data_south/displacement/CSV/20150730.csv\n",
      "E:/DSFellowship/InSAR_data_south/displacement/CSV/20150823.csv\n",
      "E:/DSFellowship/InSAR_data_south/displacement/CSV/20150916.csv\n",
      "E:/DSFellowship/InSAR_data_south/displacement/CSV/20151010.csv\n",
      "E:/DSFellowship/InSAR_data_south/displacement/CSV/20151103.csv\n",
      "E:/DSFellowship/InSAR_data_south/displacement/CSV/20151127.csv\n",
      "E:/DSFellowship/InSAR_data_south/displacement/CSV/20151209.csv\n",
      "E:/DSFellowship/InSAR_data_south/displacement/CSV/20151221.csv\n",
      "E:/DSFellowship/InSAR_data_south/displacement/CSV/20160114.csv\n",
      "E:/DSFellowship/InSAR_data_south/displacement/CSV/20160126.csv\n",
      "E:/DSFellowship/InSAR_data_south/displacement/CSV/20160207.csv\n",
      "E:/DSFellowship/InSAR_data_south/displacement/CSV/20160219.csv\n",
      "E:/DSFellowship/InSAR_data_south/displacement/CSV/20160302.csv\n",
      "E:/DSFellowship/InSAR_data_south/displacement/CSV/20160314.csv\n",
      "E:/DSFellowship/InSAR_data_south/displacement/CSV/20160326.csv\n",
      "E:/DSFellowship/InSAR_data_south/displacement/CSV/20160407.csv\n",
      "E:/DSFellowship/InSAR_data_south/displacement/CSV/20160419.csv\n",
      "E:/DSFellowship/InSAR_data_south/displacement/CSV/20160501.csv\n",
      "E:/DSFellowship/InSAR_data_south/displacement/CSV/20160513.csv\n",
      "E:/DSFellowship/InSAR_data_south/displacement/CSV/20160525.csv\n",
      "E:/DSFellowship/InSAR_data_south/displacement/CSV/20160606.csv\n",
      "E:/DSFellowship/InSAR_data_south/displacement/CSV/20160630.csv\n",
      "E:/DSFellowship/InSAR_data_south/displacement/CSV/20160724.csv\n",
      "E:/DSFellowship/InSAR_data_south/displacement/CSV/20160817.csv\n",
      "E:/DSFellowship/InSAR_data_south/displacement/CSV/20160910.csv\n",
      "E:/DSFellowship/InSAR_data_south/displacement/CSV/20160922.csv\n",
      "E:/DSFellowship/InSAR_data_south/displacement/CSV/20161004.csv\n",
      "E:/DSFellowship/InSAR_data_south/displacement/CSV/20161016.csv\n",
      "E:/DSFellowship/InSAR_data_south/displacement/CSV/20161028.csv\n",
      "E:/DSFellowship/InSAR_data_south/displacement/CSV/20161109.csv\n",
      "E:/DSFellowship/InSAR_data_south/displacement/CSV/20161121.csv\n",
      "E:/DSFellowship/InSAR_data_south/displacement/CSV/20161203.csv\n",
      "E:/DSFellowship/InSAR_data_south/displacement/CSV/20161215.csv\n",
      "E:/DSFellowship/InSAR_data_south/displacement/CSV/20161227.csv\n",
      "E:/DSFellowship/InSAR_data_south/displacement/CSV/20170108.csv\n",
      "E:/DSFellowship/InSAR_data_south/displacement/CSV/20170114.csv\n",
      "E:/DSFellowship/InSAR_data_south/displacement/CSV/20170120.csv\n",
      "E:/DSFellowship/InSAR_data_south/displacement/CSV/20170126.csv\n",
      "E:/DSFellowship/InSAR_data_south/displacement/CSV/20170201.csv\n",
      "E:/DSFellowship/InSAR_data_south/displacement/CSV/20170213.csv\n",
      "E:/DSFellowship/InSAR_data_south/displacement/CSV/20170225.csv\n",
      "E:/DSFellowship/InSAR_data_south/displacement/CSV/20170309.csv\n",
      "E:/DSFellowship/InSAR_data_south/displacement/CSV/20170321.csv\n",
      "E:/DSFellowship/InSAR_data_south/displacement/CSV/20170402.csv\n",
      "E:/DSFellowship/InSAR_data_south/displacement/CSV/20170414.csv\n",
      "E:/DSFellowship/InSAR_data_south/displacement/CSV/20170426.csv\n",
      "E:/DSFellowship/InSAR_data_south/displacement/CSV/20170508.csv\n",
      "E:/DSFellowship/InSAR_data_south/displacement/CSV/20170520.csv\n",
      "E:/DSFellowship/InSAR_data_south/displacement/CSV/20170601.csv\n",
      "E:/DSFellowship/InSAR_data_south/displacement/CSV/20170613.csv\n",
      "E:/DSFellowship/InSAR_data_south/displacement/CSV/20170625.csv\n",
      "E:/DSFellowship/InSAR_data_south/displacement/CSV/20170707.csv\n",
      "E:/DSFellowship/InSAR_data_south/displacement/CSV/20170719.csv\n",
      "E:/DSFellowship/InSAR_data_south/displacement/CSV/20170731.csv\n",
      "E:/DSFellowship/InSAR_data_south/displacement/CSV/20170812.csv\n",
      "E:/DSFellowship/InSAR_data_south/displacement/CSV/20170824.csv\n",
      "E:/DSFellowship/InSAR_data_south/displacement/CSV/20170905.csv\n",
      "E:/DSFellowship/InSAR_data_south/displacement/CSV/20170917.csv\n",
      "E:/DSFellowship/InSAR_data_south/displacement/CSV/20170929.csv\n",
      "E:/DSFellowship/InSAR_data_south/displacement/CSV/20171011.csv\n",
      "E:/DSFellowship/InSAR_data_south/displacement/CSV/20171023.csv\n",
      "E:/DSFellowship/InSAR_data_south/displacement/CSV/20171104.csv\n",
      "E:/DSFellowship/InSAR_data_south/displacement/CSV/20171116.csv\n",
      "E:/DSFellowship/InSAR_data_south/displacement/CSV/20171128.csv\n",
      "E:/DSFellowship/InSAR_data_south/displacement/CSV/20171210.csv\n",
      "E:/DSFellowship/InSAR_data_south/displacement/CSV/20171222.csv\n",
      "E:/DSFellowship/InSAR_data_south/displacement/CSV/20180103.csv\n",
      "E:/DSFellowship/InSAR_data_south/displacement/CSV/20180115.csv\n",
      "E:/DSFellowship/InSAR_data_south/displacement/CSV/20180127.csv\n",
      "E:/DSFellowship/InSAR_data_south/displacement/CSV/20180208.csv\n",
      "E:/DSFellowship/InSAR_data_south/displacement/CSV/20180220.csv\n",
      "E:/DSFellowship/InSAR_data_south/displacement/CSV/20180304.csv\n",
      "E:/DSFellowship/InSAR_data_south/displacement/CSV/20180316.csv\n",
      "E:/DSFellowship/InSAR_data_south/displacement/CSV/20180328.csv\n",
      "E:/DSFellowship/InSAR_data_south/displacement/CSV/20180409.csv\n",
      "E:/DSFellowship/InSAR_data_south/displacement/CSV/20180421.csv\n",
      "E:/DSFellowship/InSAR_data_south/displacement/CSV/20180503.csv\n",
      "E:/DSFellowship/InSAR_data_south/displacement/CSV/20180515.csv\n",
      "E:/DSFellowship/InSAR_data_south/displacement/CSV/20180527.csv\n",
      "E:/DSFellowship/InSAR_data_south/displacement/CSV/20180608.csv\n",
      "E:/DSFellowship/InSAR_data_south/displacement/CSV/20180620.csv\n",
      "E:/DSFellowship/InSAR_data_south/displacement/CSV/20180702.csv\n",
      "E:/DSFellowship/InSAR_data_south/displacement/CSV/20180714.csv\n",
      "E:/DSFellowship/InSAR_data_south/displacement/CSV/20180726.csv\n",
      "E:/DSFellowship/InSAR_data_south/displacement/CSV/20180807.csv\n",
      "E:/DSFellowship/InSAR_data_south/displacement/CSV/20180819.csv\n",
      "E:/DSFellowship/InSAR_data_south/displacement/CSV/20180831.csv\n",
      "E:/DSFellowship/InSAR_data_south/displacement/CSV/20180912.csv\n",
      "E:/DSFellowship/InSAR_data_south/displacement/CSV/20180924.csv\n",
      "E:/DSFellowship/InSAR_data_south/displacement/CSV/20181006.csv\n",
      "E:/DSFellowship/InSAR_data_south/displacement/CSV/20181018.csv\n",
      "E:/DSFellowship/InSAR_data_south/displacement/CSV/20181030.csv\n",
      "E:/DSFellowship/InSAR_data_south/displacement/CSV/20181111.csv\n",
      "E:/DSFellowship/InSAR_data_south/displacement/CSV/20181117.csv\n",
      "E:/DSFellowship/InSAR_data_south/displacement/CSV/20181123.csv\n",
      "E:/DSFellowship/InSAR_data_south/displacement/CSV/20181205.csv\n",
      "E:/DSFellowship/InSAR_data_south/displacement/CSV/20181217.csv\n",
      "E:/DSFellowship/InSAR_data_south/displacement/CSV/20181229.csv\n",
      "E:/DSFellowship/InSAR_data_south/displacement/CSV/20190110.csv\n",
      "E:/DSFellowship/InSAR_data_south/displacement/CSV/20190122.csv\n"
     ]
    }
   ],
   "source": [
    "df.head()\n",
    "#df_temp=pd.read_csv('InSAR_data_south/displacement/20190122.csv')\n",
    "#df_temp.columns=lon_south.columns\n",
    "#df_temp.index=lat_south.columns[:-1]\n",
    "#df_temp=df_temp.stack().reset_index()\n",
    "##\n",
    "#df_temp.columns=['Longitude','Latitude','Displacement']\n",
    "\n",
    "for f in dir_list:\n",
    "    name, ext=os.path.splitext(f)\n",
    "    if(ext=='.csv'):\n",
    "        print(CSVpath+f)\n",
    "        df_temp=pd.read_csv(CSVpath+f)\n",
    "        df_temp.columns=lon_south.columns\n",
    "        df_temp.index=lat_south.columns[:-1]\n",
    "        df_temp=df_temp.unstack().reset_index()\n",
    "        df_temp.columns=['Longitude','Latitude',name]\n",
    "        #print(df1.head())\n",
    "        #put it onto the main'\n",
    "        df1=pd.DataFrame(data=df_temp.iloc[:,2:3])\n",
    "        df1=df_temp.set_index([df_temp.columns[0],df_temp.columns[1]])\n",
    "        \n",
    "        \n",
    "        df=pd.concat([df,df1], axis=1)\n",
    "    \n",
    "    \n",
    "    \n",
    "   #print(df.head())\n",
    "        #    df1=pd.DataFrame(data=df_temp.iloc[:,2:3])\n",
    "    #df1=df_temp.set_index([df_temp.columns[0],df_temp.columns[1]])\n",
    "    #df=pd.concat([df, df1], axis=1)\n",
    "        #df_temp.empty()\n",
    "\n",
    "    #z_south0=z_south\n",
    "#z_s= pd.read_csv('InSAR_data_south/displacement/20141108.csv')\n",
    "#z_south=z_south.stack().reset_index()\n",
    "#z_south.columns=['Longitude', 'Latitude', 'Displacement']\n",
    "#z_south\n",
    "    #\n",
    "        ## next dataframe converitng to table long lat format\n",
    "    #df_temp=locals()[\"z_south\"+str(index)].unstack().reset_index()\n",
    "    #\n",
    "    #df_temp.columns=['Longitude','Latitude',str(listOfFile[index].split(\".\")[0])]\n",
    "    #df1=pd.DataFrame(data=df_temp.iloc[:,2:3])\n",
    "    #df1=df_temp.set_index([df_temp.columns[0],df_temp.columns[1]])\n",
    "    #df=pd.concat([df, df1], axis=1)\n"
   ]
  },
  {
   "cell_type": "code",
   "execution_count": 66,
   "metadata": {},
   "outputs": [
    {
     "data": {
      "text/plain": [
       "MultiIndex([('-120.9486', '34.1347'),\n",
       "            ('-120.9486', '34.1367'),\n",
       "            ('-120.9486', '34.1387'),\n",
       "            ('-120.9486', '34.1407'),\n",
       "            ('-120.9486', '34.1427'),\n",
       "            ('-120.9486', '34.1447'),\n",
       "            ('-120.9486', '34.1467'),\n",
       "            ('-120.9486', '34.1487'),\n",
       "            ('-120.9486', '34.1507'),\n",
       "            ('-120.9486', '34.1527'),\n",
       "            ...\n",
       "            ('-117.6414', '37.6136'),\n",
       "            ('-117.6414', '37.6156'),\n",
       "            ('-117.6414', '37.6176'),\n",
       "            ('-117.6414', '37.6196'),\n",
       "            ('-117.6414', '37.6216'),\n",
       "            ('-117.6414', '37.6236'),\n",
       "            ('-117.6414', '37.6256'),\n",
       "            ('-117.6414', '37.6276'),\n",
       "            ('-117.6414', '37.6296'),\n",
       "            ('-117.6414', '37.6316')],\n",
       "           names=['Longitude', 'Latitude'], length=2894595)"
      ]
     },
     "execution_count": 66,
     "metadata": {},
     "output_type": "execute_result"
    }
   ],
   "source": [
    "df.index"
   ]
  },
  {
   "cell_type": "code",
   "execution_count": 68,
   "metadata": {},
   "outputs": [],
   "source": [
    "df.to_csv(r'E:/DSFellowship/InSAR_data_south/displacement/export_dataframe1.csv', encoding='utf-8', index=True, na_rep='NaN' )"
   ]
  },
  {
   "cell_type": "code",
   "execution_count": 69,
   "metadata": {},
   "outputs": [
    {
     "name": "stdout",
     "output_type": "stream",
     "text": [
      "20141108     0.0000\n",
      "20141202     7.1085\n",
      "20141226     5.4012\n",
      "20150212    10.2810\n",
      "20150308     9.3765\n",
      "             ...   \n",
      "20181205    38.2340\n",
      "20181217    38.6960\n",
      "20181229    39.1800\n",
      "20190110    37.3760\n",
      "20190122    30.4460\n",
      "Length: 110, dtype: float64\n",
      "20141108      0.0000\n",
      "20141202    -19.0150\n",
      "20141226     -7.7813\n",
      "20150212    -14.4120\n",
      "20150308    -12.0160\n",
      "              ...   \n",
      "20181205   -109.5700\n",
      "20181217   -108.9400\n",
      "20181229   -110.0700\n",
      "20190110   -110.6400\n",
      "20190122   -110.6300\n",
      "Length: 110, dtype: float64\n"
     ]
    }
   ],
   "source": [
    "print(df.max())\n",
    "print(df.min())"
   ]
  },
  {
   "cell_type": "code",
   "execution_count": 70,
   "metadata": {},
   "outputs": [
    {
     "name": "stdout",
     "output_type": "stream",
     "text": [
      "['20150706', '20160126', '20160525', '20161109', '20170213', '20170613', '20171011', '20180208', '20180608', '20181006', '20190122']\n",
      "(('-120.9486', '34.1347'), ('-120.6187', '34.4848'), ('-120.2888', '34.8349'), ('-119.9588', '35.185'), ('-119.6289', '35.5351'), ('-119.299', '35.8852'), ('-118.9691', '36.2352'), ('-118.6392', '36.5853'), ('-118.3092', '36.9354'), ('-117.9793', '37.2855'))\n",
      "[nan, nan, -9.8761, -3.4094, -0.92099, -52.878, 2.7945, nan, -0.43838, -2.6367]\n"
     ]
    }
   ],
   "source": [
    "lon_south=pd.read_csv('InSAR_data_south/longitude.csv')\n",
    "lat_south=pd.read_csv('InSAR_data_south/latitude.csv')\n",
    "lat=[]\n",
    "long=[]\n",
    "dates=[]\n",
    "disp=[]\n",
    "for x in range(0,lat_south.columns.size,int(lat_south.columns.size/10)):\n",
    "    lat.append(lat_south.columns[x])\n",
    "for x in range(0,lon_south.columns.size,int(lon_south.columns.size/10)):\n",
    "    long.append(lon_south.columns[x])\n",
    "locations=tuple(zip(long,lat))\n",
    "for location in locations:\n",
    "    for x in range(9,110,10):\n",
    "        #print(x)\n",
    "        dates.append(df.loc[location, :].index[x])\n",
    "    break\n",
    "print(dates)\n",
    "\n",
    "print(locations)\n",
    "for location in locations:\n",
    "    disp.append(df.loc[location, :].values[x])\n",
    "print(disp)\n"
   ]
  },
  {
   "cell_type": "code",
   "execution_count": 73,
   "metadata": {},
   "outputs": [
    {
     "name": "stdout",
     "output_type": "stream",
     "text": [
      "Index(['-120.9486', '-120.9466', '-120.9446', '-120.9426', '-120.9406',\n",
      "       '-120.9386', '-120.9366', '-120.9346', '-120.9326', '-120.9306',\n",
      "       ...\n",
      "       '-117.6594', '-117.6574', '-117.6554', '-117.6534', '-117.6514',\n",
      "       '-117.6494', '-117.6474', '-117.6454', '-117.6434', '-117.6414'],\n",
      "      dtype='object', length=1655)\n"
     ]
    }
   ],
   "source": [
    "#print(df)\n",
    "#need to find 9 locations across the image\n",
    "\n",
    "#locations=[('-117.6414', '37.6136')]\n",
    "#print(type(location))\n",
    "#x=df.loc[locations[0], :].index\n",
    "#for(date in dates):\n",
    "#    print(df.loc[location, :].values[date])\n",
    "#print(df.loc[locations[0], :].values[3])\n",
    "#print(type(x))\n",
    "#print(y)\n",
    "print(lon_south.columns)"
   ]
  },
  {
   "cell_type": "code",
   "execution_count": 71,
   "metadata": {},
   "outputs": [
    {
     "data": {
      "application/vnd.plotly.v1+json": {
       "config": {
        "plotlyServerURL": "https://plot.ly"
       },
       "data": [
        {
         "line": {
          "width": 1
         },
         "mode": "lines",
         "name": "('-120.9486', '34.1347')",
         "opacity": 0.8,
         "type": "scatter",
         "x": [
          "20150706",
          "20160126",
          "20160525",
          "20161109",
          "20170213",
          "20170613",
          "20171011",
          "20180208",
          "20180608",
          "20181006",
          "20190122"
         ],
         "y": [
          null,
          null,
          null,
          null,
          null,
          null,
          null,
          null,
          null,
          null,
          null
         ]
        },
        {
         "line": {
          "width": 1
         },
         "mode": "lines",
         "name": "('-120.6187', '34.4848')",
         "opacity": 0.8,
         "type": "scatter",
         "x": [
          "20150706",
          "20160126",
          "20160525",
          "20161109",
          "20170213",
          "20170613",
          "20171011",
          "20180208",
          "20180608",
          "20181006",
          "20190122"
         ],
         "y": [
          null,
          null,
          null,
          null,
          null,
          null,
          null,
          null,
          null,
          null,
          null
         ]
        },
        {
         "line": {
          "width": 1
         },
         "mode": "lines",
         "name": "('-120.2888', '34.8349')",
         "opacity": 0.8,
         "type": "scatter",
         "x": [
          "20150706",
          "20160126",
          "20160525",
          "20161109",
          "20170213",
          "20170613",
          "20171011",
          "20180208",
          "20180608",
          "20181006",
          "20190122"
         ],
         "y": [
          0,
          -18.876,
          -3.2063,
          -7.7643,
          -7.2585,
          -8.9808,
          -2.0093,
          -6.9053,
          -10.037,
          -6.5252,
          -11.252
         ]
        },
        {
         "line": {
          "width": 1
         },
         "mode": "lines",
         "name": "('-119.9588', '35.185')",
         "opacity": 0.8,
         "type": "scatter",
         "x": [
          "20150706",
          "20160126",
          "20160525",
          "20161109",
          "20170213",
          "20170613",
          "20171011",
          "20180208",
          "20180608",
          "20181006",
          "20190122"
         ],
         "y": [
          0,
          -9.7155,
          -1.7155,
          -4.6391,
          -3.1103,
          -3.912,
          3.4396,
          -4.2687,
          -5.9017,
          -3.1823,
          -6.1054
         ]
        },
        {
         "line": {
          "width": 1
         },
         "mode": "lines",
         "name": "('-119.6289', '35.5351')",
         "opacity": 0.8,
         "type": "scatter",
         "x": [
          "20150706",
          "20160126",
          "20160525",
          "20161109",
          "20170213",
          "20170613",
          "20171011",
          "20180208",
          "20180608",
          "20181006",
          "20190122"
         ],
         "y": [
          0,
          -3.2561,
          0.84861,
          0.915,
          -2.2571,
          -1.2886,
          1.2459,
          -1.983,
          -1.6355,
          -0.0074304,
          -1.4102
         ]
        },
        {
         "line": {
          "width": 1
         },
         "mode": "lines",
         "name": "('-119.299', '35.8852')",
         "opacity": 0.8,
         "type": "scatter",
         "x": [
          "20150706",
          "20160126",
          "20160525",
          "20161109",
          "20170213",
          "20170613",
          "20171011",
          "20180208",
          "20180608",
          "20181006",
          "20190122"
         ],
         "y": [
          0,
          -12.65,
          -16.195,
          -22.541,
          -34.052,
          -32.95,
          -39.217,
          -44.2,
          -43.846,
          -49.379,
          -54.522
         ]
        },
        {
         "line": {
          "width": 1
         },
         "mode": "lines",
         "name": "('-118.9691', '36.2352')",
         "opacity": 0.8,
         "type": "scatter",
         "x": [
          "20150706",
          "20160126",
          "20160525",
          "20161109",
          "20170213",
          "20170613",
          "20171011",
          "20180208",
          "20180608",
          "20181006",
          "20190122"
         ],
         "y": [
          0,
          0.69006,
          1.5693,
          -2.8285,
          2.5808,
          0.42243,
          2.5067,
          1.3449,
          0.37132,
          -0.74229,
          2.3711
         ]
        },
        {
         "line": {
          "width": 1
         },
         "mode": "lines",
         "name": "('-118.6392', '36.5853')",
         "opacity": 0.8,
         "type": "scatter",
         "x": [
          "20150706",
          "20160126",
          "20160525",
          "20161109",
          "20170213",
          "20170613",
          "20171011",
          "20180208",
          "20180608",
          "20181006",
          "20190122"
         ],
         "y": [
          null,
          null,
          null,
          null,
          null,
          null,
          null,
          null,
          null,
          null,
          null
         ]
        },
        {
         "line": {
          "width": 1
         },
         "mode": "lines",
         "name": "('-118.3092', '36.9354')",
         "opacity": 0.8,
         "type": "scatter",
         "x": [
          "20150706",
          "20160126",
          "20160525",
          "20161109",
          "20170213",
          "20170613",
          "20171011",
          "20180208",
          "20180608",
          "20181006",
          "20190122"
         ],
         "y": [
          0,
          -2.846,
          1.1214,
          -5.0198,
          8.2907,
          -2.9076,
          -0.21187,
          -3.7031,
          -2.7072,
          -1.201,
          -2.264
         ]
        },
        {
         "line": {
          "width": 1
         },
         "mode": "lines",
         "name": "('-117.9793', '37.2855')",
         "opacity": 0.8,
         "type": "scatter",
         "x": [
          "20150706",
          "20160126",
          "20160525",
          "20161109",
          "20170213",
          "20170613",
          "20171011",
          "20180208",
          "20180608",
          "20181006",
          "20190122"
         ],
         "y": [
          0,
          -0.57943,
          1.2732,
          -5.1551,
          8.0513,
          -7.1158,
          -2.5338,
          -9.3016,
          -5.04,
          -4.3187,
          -4.0623
         ]
        }
       ],
       "layout": {
        "plot_bgcolor": "white",
        "showlegend": true,
        "template": {
         "data": {
          "bar": [
           {
            "error_x": {
             "color": "#2a3f5f"
            },
            "error_y": {
             "color": "#2a3f5f"
            },
            "marker": {
             "line": {
              "color": "#E5ECF6",
              "width": 0.5
             },
             "pattern": {
              "fillmode": "overlay",
              "size": 10,
              "solidity": 0.2
             }
            },
            "type": "bar"
           }
          ],
          "barpolar": [
           {
            "marker": {
             "line": {
              "color": "#E5ECF6",
              "width": 0.5
             },
             "pattern": {
              "fillmode": "overlay",
              "size": 10,
              "solidity": 0.2
             }
            },
            "type": "barpolar"
           }
          ],
          "carpet": [
           {
            "aaxis": {
             "endlinecolor": "#2a3f5f",
             "gridcolor": "white",
             "linecolor": "white",
             "minorgridcolor": "white",
             "startlinecolor": "#2a3f5f"
            },
            "baxis": {
             "endlinecolor": "#2a3f5f",
             "gridcolor": "white",
             "linecolor": "white",
             "minorgridcolor": "white",
             "startlinecolor": "#2a3f5f"
            },
            "type": "carpet"
           }
          ],
          "choropleth": [
           {
            "colorbar": {
             "outlinewidth": 0,
             "ticks": ""
            },
            "type": "choropleth"
           }
          ],
          "contour": [
           {
            "colorbar": {
             "outlinewidth": 0,
             "ticks": ""
            },
            "colorscale": [
             [
              0,
              "#0d0887"
             ],
             [
              0.1111111111111111,
              "#46039f"
             ],
             [
              0.2222222222222222,
              "#7201a8"
             ],
             [
              0.3333333333333333,
              "#9c179e"
             ],
             [
              0.4444444444444444,
              "#bd3786"
             ],
             [
              0.5555555555555556,
              "#d8576b"
             ],
             [
              0.6666666666666666,
              "#ed7953"
             ],
             [
              0.7777777777777778,
              "#fb9f3a"
             ],
             [
              0.8888888888888888,
              "#fdca26"
             ],
             [
              1,
              "#f0f921"
             ]
            ],
            "type": "contour"
           }
          ],
          "contourcarpet": [
           {
            "colorbar": {
             "outlinewidth": 0,
             "ticks": ""
            },
            "type": "contourcarpet"
           }
          ],
          "heatmap": [
           {
            "colorbar": {
             "outlinewidth": 0,
             "ticks": ""
            },
            "colorscale": [
             [
              0,
              "#0d0887"
             ],
             [
              0.1111111111111111,
              "#46039f"
             ],
             [
              0.2222222222222222,
              "#7201a8"
             ],
             [
              0.3333333333333333,
              "#9c179e"
             ],
             [
              0.4444444444444444,
              "#bd3786"
             ],
             [
              0.5555555555555556,
              "#d8576b"
             ],
             [
              0.6666666666666666,
              "#ed7953"
             ],
             [
              0.7777777777777778,
              "#fb9f3a"
             ],
             [
              0.8888888888888888,
              "#fdca26"
             ],
             [
              1,
              "#f0f921"
             ]
            ],
            "type": "heatmap"
           }
          ],
          "heatmapgl": [
           {
            "colorbar": {
             "outlinewidth": 0,
             "ticks": ""
            },
            "colorscale": [
             [
              0,
              "#0d0887"
             ],
             [
              0.1111111111111111,
              "#46039f"
             ],
             [
              0.2222222222222222,
              "#7201a8"
             ],
             [
              0.3333333333333333,
              "#9c179e"
             ],
             [
              0.4444444444444444,
              "#bd3786"
             ],
             [
              0.5555555555555556,
              "#d8576b"
             ],
             [
              0.6666666666666666,
              "#ed7953"
             ],
             [
              0.7777777777777778,
              "#fb9f3a"
             ],
             [
              0.8888888888888888,
              "#fdca26"
             ],
             [
              1,
              "#f0f921"
             ]
            ],
            "type": "heatmapgl"
           }
          ],
          "histogram": [
           {
            "marker": {
             "pattern": {
              "fillmode": "overlay",
              "size": 10,
              "solidity": 0.2
             }
            },
            "type": "histogram"
           }
          ],
          "histogram2d": [
           {
            "colorbar": {
             "outlinewidth": 0,
             "ticks": ""
            },
            "colorscale": [
             [
              0,
              "#0d0887"
             ],
             [
              0.1111111111111111,
              "#46039f"
             ],
             [
              0.2222222222222222,
              "#7201a8"
             ],
             [
              0.3333333333333333,
              "#9c179e"
             ],
             [
              0.4444444444444444,
              "#bd3786"
             ],
             [
              0.5555555555555556,
              "#d8576b"
             ],
             [
              0.6666666666666666,
              "#ed7953"
             ],
             [
              0.7777777777777778,
              "#fb9f3a"
             ],
             [
              0.8888888888888888,
              "#fdca26"
             ],
             [
              1,
              "#f0f921"
             ]
            ],
            "type": "histogram2d"
           }
          ],
          "histogram2dcontour": [
           {
            "colorbar": {
             "outlinewidth": 0,
             "ticks": ""
            },
            "colorscale": [
             [
              0,
              "#0d0887"
             ],
             [
              0.1111111111111111,
              "#46039f"
             ],
             [
              0.2222222222222222,
              "#7201a8"
             ],
             [
              0.3333333333333333,
              "#9c179e"
             ],
             [
              0.4444444444444444,
              "#bd3786"
             ],
             [
              0.5555555555555556,
              "#d8576b"
             ],
             [
              0.6666666666666666,
              "#ed7953"
             ],
             [
              0.7777777777777778,
              "#fb9f3a"
             ],
             [
              0.8888888888888888,
              "#fdca26"
             ],
             [
              1,
              "#f0f921"
             ]
            ],
            "type": "histogram2dcontour"
           }
          ],
          "mesh3d": [
           {
            "colorbar": {
             "outlinewidth": 0,
             "ticks": ""
            },
            "type": "mesh3d"
           }
          ],
          "parcoords": [
           {
            "line": {
             "colorbar": {
              "outlinewidth": 0,
              "ticks": ""
             }
            },
            "type": "parcoords"
           }
          ],
          "pie": [
           {
            "automargin": true,
            "type": "pie"
           }
          ],
          "scatter": [
           {
            "fillpattern": {
             "fillmode": "overlay",
             "size": 10,
             "solidity": 0.2
            },
            "type": "scatter"
           }
          ],
          "scatter3d": [
           {
            "line": {
             "colorbar": {
              "outlinewidth": 0,
              "ticks": ""
             }
            },
            "marker": {
             "colorbar": {
              "outlinewidth": 0,
              "ticks": ""
             }
            },
            "type": "scatter3d"
           }
          ],
          "scattercarpet": [
           {
            "marker": {
             "colorbar": {
              "outlinewidth": 0,
              "ticks": ""
             }
            },
            "type": "scattercarpet"
           }
          ],
          "scattergeo": [
           {
            "marker": {
             "colorbar": {
              "outlinewidth": 0,
              "ticks": ""
             }
            },
            "type": "scattergeo"
           }
          ],
          "scattergl": [
           {
            "marker": {
             "colorbar": {
              "outlinewidth": 0,
              "ticks": ""
             }
            },
            "type": "scattergl"
           }
          ],
          "scattermapbox": [
           {
            "marker": {
             "colorbar": {
              "outlinewidth": 0,
              "ticks": ""
             }
            },
            "type": "scattermapbox"
           }
          ],
          "scatterpolar": [
           {
            "marker": {
             "colorbar": {
              "outlinewidth": 0,
              "ticks": ""
             }
            },
            "type": "scatterpolar"
           }
          ],
          "scatterpolargl": [
           {
            "marker": {
             "colorbar": {
              "outlinewidth": 0,
              "ticks": ""
             }
            },
            "type": "scatterpolargl"
           }
          ],
          "scatterternary": [
           {
            "marker": {
             "colorbar": {
              "outlinewidth": 0,
              "ticks": ""
             }
            },
            "type": "scatterternary"
           }
          ],
          "surface": [
           {
            "colorbar": {
             "outlinewidth": 0,
             "ticks": ""
            },
            "colorscale": [
             [
              0,
              "#0d0887"
             ],
             [
              0.1111111111111111,
              "#46039f"
             ],
             [
              0.2222222222222222,
              "#7201a8"
             ],
             [
              0.3333333333333333,
              "#9c179e"
             ],
             [
              0.4444444444444444,
              "#bd3786"
             ],
             [
              0.5555555555555556,
              "#d8576b"
             ],
             [
              0.6666666666666666,
              "#ed7953"
             ],
             [
              0.7777777777777778,
              "#fb9f3a"
             ],
             [
              0.8888888888888888,
              "#fdca26"
             ],
             [
              1,
              "#f0f921"
             ]
            ],
            "type": "surface"
           }
          ],
          "table": [
           {
            "cells": {
             "fill": {
              "color": "#EBF0F8"
             },
             "line": {
              "color": "white"
             }
            },
            "header": {
             "fill": {
              "color": "#C8D4E3"
             },
             "line": {
              "color": "white"
             }
            },
            "type": "table"
           }
          ]
         },
         "layout": {
          "annotationdefaults": {
           "arrowcolor": "#2a3f5f",
           "arrowhead": 0,
           "arrowwidth": 1
          },
          "autotypenumbers": "strict",
          "coloraxis": {
           "colorbar": {
            "outlinewidth": 0,
            "ticks": ""
           }
          },
          "colorscale": {
           "diverging": [
            [
             0,
             "#8e0152"
            ],
            [
             0.1,
             "#c51b7d"
            ],
            [
             0.2,
             "#de77ae"
            ],
            [
             0.3,
             "#f1b6da"
            ],
            [
             0.4,
             "#fde0ef"
            ],
            [
             0.5,
             "#f7f7f7"
            ],
            [
             0.6,
             "#e6f5d0"
            ],
            [
             0.7,
             "#b8e186"
            ],
            [
             0.8,
             "#7fbc41"
            ],
            [
             0.9,
             "#4d9221"
            ],
            [
             1,
             "#276419"
            ]
           ],
           "sequential": [
            [
             0,
             "#0d0887"
            ],
            [
             0.1111111111111111,
             "#46039f"
            ],
            [
             0.2222222222222222,
             "#7201a8"
            ],
            [
             0.3333333333333333,
             "#9c179e"
            ],
            [
             0.4444444444444444,
             "#bd3786"
            ],
            [
             0.5555555555555556,
             "#d8576b"
            ],
            [
             0.6666666666666666,
             "#ed7953"
            ],
            [
             0.7777777777777778,
             "#fb9f3a"
            ],
            [
             0.8888888888888888,
             "#fdca26"
            ],
            [
             1,
             "#f0f921"
            ]
           ],
           "sequentialminus": [
            [
             0,
             "#0d0887"
            ],
            [
             0.1111111111111111,
             "#46039f"
            ],
            [
             0.2222222222222222,
             "#7201a8"
            ],
            [
             0.3333333333333333,
             "#9c179e"
            ],
            [
             0.4444444444444444,
             "#bd3786"
            ],
            [
             0.5555555555555556,
             "#d8576b"
            ],
            [
             0.6666666666666666,
             "#ed7953"
            ],
            [
             0.7777777777777778,
             "#fb9f3a"
            ],
            [
             0.8888888888888888,
             "#fdca26"
            ],
            [
             1,
             "#f0f921"
            ]
           ]
          },
          "colorway": [
           "#636efa",
           "#EF553B",
           "#00cc96",
           "#ab63fa",
           "#FFA15A",
           "#19d3f3",
           "#FF6692",
           "#B6E880",
           "#FF97FF",
           "#FECB52"
          ],
          "font": {
           "color": "#2a3f5f"
          },
          "geo": {
           "bgcolor": "white",
           "lakecolor": "white",
           "landcolor": "#E5ECF6",
           "showlakes": true,
           "showland": true,
           "subunitcolor": "white"
          },
          "hoverlabel": {
           "align": "left"
          },
          "hovermode": "closest",
          "mapbox": {
           "style": "light"
          },
          "paper_bgcolor": "white",
          "plot_bgcolor": "#E5ECF6",
          "polar": {
           "angularaxis": {
            "gridcolor": "white",
            "linecolor": "white",
            "ticks": ""
           },
           "bgcolor": "#E5ECF6",
           "radialaxis": {
            "gridcolor": "white",
            "linecolor": "white",
            "ticks": ""
           }
          },
          "scene": {
           "xaxis": {
            "backgroundcolor": "#E5ECF6",
            "gridcolor": "white",
            "gridwidth": 2,
            "linecolor": "white",
            "showbackground": true,
            "ticks": "",
            "zerolinecolor": "white"
           },
           "yaxis": {
            "backgroundcolor": "#E5ECF6",
            "gridcolor": "white",
            "gridwidth": 2,
            "linecolor": "white",
            "showbackground": true,
            "ticks": "",
            "zerolinecolor": "white"
           },
           "zaxis": {
            "backgroundcolor": "#E5ECF6",
            "gridcolor": "white",
            "gridwidth": 2,
            "linecolor": "white",
            "showbackground": true,
            "ticks": "",
            "zerolinecolor": "white"
           }
          },
          "shapedefaults": {
           "line": {
            "color": "#2a3f5f"
           }
          },
          "ternary": {
           "aaxis": {
            "gridcolor": "white",
            "linecolor": "white",
            "ticks": ""
           },
           "baxis": {
            "gridcolor": "white",
            "linecolor": "white",
            "ticks": ""
           },
           "bgcolor": "#E5ECF6",
           "caxis": {
            "gridcolor": "white",
            "linecolor": "white",
            "ticks": ""
           }
          },
          "title": {
           "x": 0.05
          },
          "xaxis": {
           "automargin": true,
           "gridcolor": "white",
           "linecolor": "white",
           "ticks": "",
           "title": {
            "standoff": 15
           },
           "zerolinecolor": "white",
           "zerolinewidth": 2
          },
          "yaxis": {
           "automargin": true,
           "gridcolor": "white",
           "linecolor": "white",
           "ticks": "",
           "title": {
            "standoff": 15
           },
           "zerolinecolor": "white",
           "zerolinewidth": 2
          }
         }
        },
        "title": {
         "font": {
          "color": "black"
         },
         "text": "Displacement"
        },
        "xaxis": {
         "gridcolor": "lightgrey",
         "gridwidth": 1,
         "linecolor": "black",
         "linewidth": 1,
         "showgrid": true,
         "showline": true,
         "title": {
          "text": "Date"
         },
         "zeroline": true,
         "zerolinecolor": "lightgrey",
         "zerolinewidth": 1
        },
        "yaxis": {
         "gridcolor": "lightgrey",
         "gridwidth": 1,
         "linecolor": "black",
         "linewidth": 1,
         "showgrid": true,
         "showline": true,
         "title": {
          "text": "Displacement"
         },
         "zeroline": true,
         "zerolinecolor": "lightgrey",
         "zerolinewidth": 1
        }
       }
      }
     },
     "metadata": {},
     "output_type": "display_data"
    }
   ],
   "source": [
    "# Plot average monthly temperature derived from daily medians for each location\n",
    "fig = go.Figure()\n",
    "lat=[]\n",
    "long=[]\n",
    "#if(location==location):\n",
    "for location in locations:\n",
    "    disp.clear()\n",
    "    for x in range(0,110,10):\n",
    "        disp.append(df.loc[location, :].values[x])\n",
    "    fig.add_trace(go.Scatter(x=dates, # list of dates\n",
    "                            y=disp,#all the values over all dates\n",
    "                            mode='lines',\n",
    "                            name=str(location),\n",
    "                            opacity=0.8,\n",
    "                            line=dict(width=1)\n",
    "                            ))\n",
    "\n",
    "# Change chart background color\n",
    "fig.update_layout(dict(plot_bgcolor = 'white'), showlegend=True)\n",
    "\n",
    "# Update axes lines\n",
    "fig.update_xaxes(showgrid=True, gridwidth=1, gridcolor='lightgrey', \n",
    "                 zeroline=True, zerolinewidth=1, zerolinecolor='lightgrey', \n",
    "                 showline=True, linewidth=1, linecolor='black',\n",
    "                 title='Date'\n",
    "                )\n",
    "\n",
    "fig.update_yaxes(showgrid=True, gridwidth=1, gridcolor='lightgrey', \n",
    "                 zeroline=True, zerolinewidth=1, zerolinecolor='lightgrey', \n",
    "                 showline=True, linewidth=1, linecolor='black',\n",
    "                 title='Displacement'\n",
    "                )\n",
    "\n",
    "# Set figure title\n",
    "fig.update_layout(title=dict(text=\"Displacement\", font=dict(color='black')))\n",
    "\n",
    "fig.show()"
   ]
  }
 ],
 "metadata": {
  "kernelspec": {
   "display_name": "Python 3.10.5 64-bit",
   "language": "python",
   "name": "python3"
  },
  "language_info": {
   "codemirror_mode": {
    "name": "ipython",
    "version": 3
   },
   "file_extension": ".py",
   "mimetype": "text/x-python",
   "name": "python",
   "nbconvert_exporter": "python",
   "pygments_lexer": "ipython3",
   "version": "3.10.5"
  },
  "orig_nbformat": 4,
  "vscode": {
   "interpreter": {
    "hash": "d3e10ef16274dd72e574b8fa73b58450b957d8421a2901baded3cca26fcf5dda"
   }
  }
 },
 "nbformat": 4,
 "nbformat_minor": 2
}
