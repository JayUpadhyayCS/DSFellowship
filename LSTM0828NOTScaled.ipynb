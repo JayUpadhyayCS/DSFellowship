{
 "cells": [
  {
   "cell_type": "code",
   "execution_count": 43,
   "metadata": {},
   "outputs": [
    {
     "name": "stdout",
     "output_type": "stream",
     "text": [
      "Tensorflow/Keras: 2.9.0\n",
      "pandas: 1.4.2\n",
      "numpy: 1.22.4\n",
      "sklearn: 1.1.1\n",
      "plotly: 5.9.0\n"
     ]
    }
   ],
   "source": [
    "# Tensorflow / Keras\n",
    "from tensorflow import keras # for building Neural Networks\n",
    "print('Tensorflow/Keras: %s' % keras.__version__) # print version\n",
    "from keras.models import Sequential # for creating a linear stack of layers for our Neural Network\n",
    "from keras import Input # for instantiating a keras tensor\n",
    "from keras.layers import Masking,Bidirectional, LSTM, RepeatVector, Dense, TimeDistributed,MaxPooling1D, Flatten, Conv1D,Conv2D,Dropout, MaxPooling2D, GRU # for creating layers inside the Neural Network\n",
    "from keras.optimizers import Adam , SGD\n",
    "from keras import metrics, callbacks\n",
    "from keras.utils import plot_model\n",
    "# Data manipulation\n",
    "import pandas as pd # for data manipulation\n",
    "print('pandas: %s' % pd.__version__) # print version\n",
    "import numpy as np # for data manipulation\n",
    "print('numpy: %s' % np.__version__) # print version\n",
    "import numpy.ma as ma\n",
    "# Sklearn\n",
    "import sklearn\n",
    "print('sklearn: %s' % sklearn.__version__) # print version\n",
    "from sklearn.preprocessing import MinMaxScaler, StandardScaler # for feature scaling\n",
    "from sklearn.model_selection import train_test_split\n",
    "# Visualization\n",
    "import plotly \n",
    "import plotly.express as px\n",
    "import plotly.graph_objects as go\n",
    "print('plotly: %s' % plotly.__version__) # print version\n",
    "from matplotlib import pyplot as plt\n",
    "\n",
    "#file accessing\n",
    "import os\n",
    "# time stuff\n",
    "from datetime import timedelta\n",
    "import calendar\n"
   ]
  },
  {
   "cell_type": "code",
   "execution_count": 44,
   "metadata": {},
   "outputs": [
    {
     "name": "stdout",
     "output_type": "stream",
     "text": [
      "Defined the plot_the_model and plot_the_loss_curve functions.\n"
     ]
    }
   ],
   "source": [
    "#@title Define the plotting functions\n",
    "def plot_the_model(trained_weight, trained_bias, feature, label):\n",
    "  \"\"\"Plot the trained model against the training feature and label.\"\"\"\n",
    "\n",
    "  # Label the axes.\n",
    "  plt.xlabel(\"feature\")\n",
    "  plt.ylabel(\"label\")\n",
    "\n",
    "  # Plot the feature values vs. label values.\n",
    "  plt.scatter(feature, label)\n",
    "\n",
    "  # Create a red line representing the model. The red line starts\n",
    "  # at coordinates (x0, y0) and ends at coordinates (x1, y1).\n",
    "  x0 = 0\n",
    "  y0 = trained_bias\n",
    "  x1 = feature[-1]\n",
    "  y1 = trained_bias + (trained_weight * x1)\n",
    "  plt.plot([x0, x1], [y0, y1], c='r')\n",
    "\n",
    "  # Render the scatter plot and the red line.\n",
    "  plt.show()\n",
    "\n",
    "def plot_the_loss_curve(epochs, mse):\n",
    "  \"\"\"Plot the loss curve, which shows loss vs. epoch.\"\"\"\n",
    "\n",
    "  plt.figure()\n",
    "  plt.xlabel(\"Epoch\")\n",
    "  plt.ylabel(\"Mean Squared Error\")\n",
    "  #epochs.remove(max(epochs))\n",
    "  \n",
    "  #rmse.drop(max(rmse))\n",
    "  plt.plot(epochs, mse, label=\"Loss\")\n",
    "  plt.legend()\n",
    "  plt.ylim([min(mse)*0.97, max(mse)])\n",
    "  plt.show()\n",
    "\n",
    "print(\"Defined the plot_the_model and plot_the_loss_curve functions.\")"
   ]
  },
  {
   "cell_type": "markdown",
   "metadata": {},
   "source": [
    "##### Read from file and establish dataframe and future functions"
   ]
  },
  {
   "cell_type": "code",
   "execution_count": 45,
   "metadata": {},
   "outputs": [
    {
     "data": {
      "text/html": [
       "<div>\n",
       "<style scoped>\n",
       "    .dataframe tbody tr th:only-of-type {\n",
       "        vertical-align: middle;\n",
       "    }\n",
       "\n",
       "    .dataframe tbody tr th {\n",
       "        vertical-align: top;\n",
       "    }\n",
       "\n",
       "    .dataframe thead th {\n",
       "        text-align: right;\n",
       "    }\n",
       "</style>\n",
       "<table border=\"1\" class=\"dataframe\">\n",
       "  <thead>\n",
       "    <tr style=\"text-align: right;\">\n",
       "      <th></th>\n",
       "      <th></th>\n",
       "      <th>2014-11-08</th>\n",
       "      <th>2014-12-02</th>\n",
       "      <th>2014-12-26</th>\n",
       "      <th>2015-02-12</th>\n",
       "      <th>2015-03-08</th>\n",
       "      <th>2015-04-01</th>\n",
       "      <th>2015-04-25</th>\n",
       "      <th>2015-05-19</th>\n",
       "      <th>2015-06-12</th>\n",
       "      <th>2015-07-06</th>\n",
       "      <th>...</th>\n",
       "      <th>2018-10-18</th>\n",
       "      <th>2018-10-30</th>\n",
       "      <th>2018-11-11</th>\n",
       "      <th>2018-11-17</th>\n",
       "      <th>2018-11-23</th>\n",
       "      <th>2018-12-05</th>\n",
       "      <th>2018-12-17</th>\n",
       "      <th>2018-12-29</th>\n",
       "      <th>2019-01-10</th>\n",
       "      <th>2019-01-22</th>\n",
       "    </tr>\n",
       "    <tr>\n",
       "      <th>Longitude</th>\n",
       "      <th>Latitude</th>\n",
       "      <th></th>\n",
       "      <th></th>\n",
       "      <th></th>\n",
       "      <th></th>\n",
       "      <th></th>\n",
       "      <th></th>\n",
       "      <th></th>\n",
       "      <th></th>\n",
       "      <th></th>\n",
       "      <th></th>\n",
       "      <th></th>\n",
       "      <th></th>\n",
       "      <th></th>\n",
       "      <th></th>\n",
       "      <th></th>\n",
       "      <th></th>\n",
       "      <th></th>\n",
       "      <th></th>\n",
       "      <th></th>\n",
       "      <th></th>\n",
       "      <th></th>\n",
       "    </tr>\n",
       "  </thead>\n",
       "  <tbody>\n",
       "    <tr>\n",
       "      <th>-119.5609</th>\n",
       "      <th>36.1672</th>\n",
       "      <td>0.0</td>\n",
       "      <td>-5.35470</td>\n",
       "      <td>-2.365800</td>\n",
       "      <td>-5.38810</td>\n",
       "      <td>-8.0230</td>\n",
       "      <td>-7.35960</td>\n",
       "      <td>-10.658000</td>\n",
       "      <td>-11.5740</td>\n",
       "      <td>-14.73600</td>\n",
       "      <td>-15.653000</td>\n",
       "      <td>...</td>\n",
       "      <td>-51.2880</td>\n",
       "      <td>-52.2000</td>\n",
       "      <td>-51.5510</td>\n",
       "      <td>-50.8460</td>\n",
       "      <td>-52.1710</td>\n",
       "      <td>-51.1730</td>\n",
       "      <td>-51.0260</td>\n",
       "      <td>-51.1030</td>\n",
       "      <td>-53.1130</td>\n",
       "      <td>-53.6540</td>\n",
       "    </tr>\n",
       "    <tr>\n",
       "      <th>-119.5489</th>\n",
       "      <th>36.0072</th>\n",
       "      <td>0.0</td>\n",
       "      <td>-6.98510</td>\n",
       "      <td>-2.425400</td>\n",
       "      <td>-5.59300</td>\n",
       "      <td>-8.2796</td>\n",
       "      <td>-7.10480</td>\n",
       "      <td>-11.352000</td>\n",
       "      <td>-13.1490</td>\n",
       "      <td>-16.28400</td>\n",
       "      <td>-17.528000</td>\n",
       "      <td>...</td>\n",
       "      <td>-80.4520</td>\n",
       "      <td>-81.3120</td>\n",
       "      <td>-81.3700</td>\n",
       "      <td>-81.0500</td>\n",
       "      <td>-82.8020</td>\n",
       "      <td>-81.8950</td>\n",
       "      <td>-80.9560</td>\n",
       "      <td>-82.2640</td>\n",
       "      <td>-83.5630</td>\n",
       "      <td>-83.4070</td>\n",
       "    </tr>\n",
       "    <tr>\n",
       "      <th>-119.5369</th>\n",
       "      <th>36.0472</th>\n",
       "      <td>0.0</td>\n",
       "      <td>-6.52240</td>\n",
       "      <td>-2.652600</td>\n",
       "      <td>-7.67760</td>\n",
       "      <td>-11.1110</td>\n",
       "      <td>-10.59000</td>\n",
       "      <td>-14.676000</td>\n",
       "      <td>-17.0200</td>\n",
       "      <td>-20.39000</td>\n",
       "      <td>-22.219000</td>\n",
       "      <td>...</td>\n",
       "      <td>-82.7120</td>\n",
       "      <td>-83.1190</td>\n",
       "      <td>-82.8720</td>\n",
       "      <td>-82.5070</td>\n",
       "      <td>-84.1300</td>\n",
       "      <td>-83.3090</td>\n",
       "      <td>-83.1980</td>\n",
       "      <td>-83.6720</td>\n",
       "      <td>-84.9170</td>\n",
       "      <td>-84.5300</td>\n",
       "    </tr>\n",
       "    <tr>\n",
       "      <th>-119.5329</th>\n",
       "      <th>36.0152</th>\n",
       "      <td>0.0</td>\n",
       "      <td>-7.31990</td>\n",
       "      <td>-3.102300</td>\n",
       "      <td>-7.01660</td>\n",
       "      <td>-9.4511</td>\n",
       "      <td>-8.87950</td>\n",
       "      <td>-13.596000</td>\n",
       "      <td>-15.7800</td>\n",
       "      <td>-19.31200</td>\n",
       "      <td>-21.342000</td>\n",
       "      <td>...</td>\n",
       "      <td>-92.7010</td>\n",
       "      <td>-93.6410</td>\n",
       "      <td>-93.4770</td>\n",
       "      <td>-93.2590</td>\n",
       "      <td>-94.9470</td>\n",
       "      <td>-94.3050</td>\n",
       "      <td>-93.6450</td>\n",
       "      <td>-94.7880</td>\n",
       "      <td>-96.0660</td>\n",
       "      <td>-96.0170</td>\n",
       "    </tr>\n",
       "    <tr>\n",
       "      <th>-119.5289</th>\n",
       "      <th>35.9512</th>\n",
       "      <td>0.0</td>\n",
       "      <td>-5.69540</td>\n",
       "      <td>-0.297000</td>\n",
       "      <td>-1.17090</td>\n",
       "      <td>-3.5007</td>\n",
       "      <td>-0.99811</td>\n",
       "      <td>-3.422100</td>\n",
       "      <td>-3.9274</td>\n",
       "      <td>-5.57050</td>\n",
       "      <td>-4.514200</td>\n",
       "      <td>...</td>\n",
       "      <td>-31.5990</td>\n",
       "      <td>-31.9420</td>\n",
       "      <td>-31.8580</td>\n",
       "      <td>-31.5220</td>\n",
       "      <td>-32.9980</td>\n",
       "      <td>-32.5920</td>\n",
       "      <td>-31.5850</td>\n",
       "      <td>-32.0960</td>\n",
       "      <td>-33.1620</td>\n",
       "      <td>-32.8450</td>\n",
       "    </tr>\n",
       "    <tr>\n",
       "      <th>...</th>\n",
       "      <th>...</th>\n",
       "      <td>...</td>\n",
       "      <td>...</td>\n",
       "      <td>...</td>\n",
       "      <td>...</td>\n",
       "      <td>...</td>\n",
       "      <td>...</td>\n",
       "      <td>...</td>\n",
       "      <td>...</td>\n",
       "      <td>...</td>\n",
       "      <td>...</td>\n",
       "      <td>...</td>\n",
       "      <td>...</td>\n",
       "      <td>...</td>\n",
       "      <td>...</td>\n",
       "      <td>...</td>\n",
       "      <td>...</td>\n",
       "      <td>...</td>\n",
       "      <td>...</td>\n",
       "      <td>...</td>\n",
       "      <td>...</td>\n",
       "      <td>...</td>\n",
       "    </tr>\n",
       "    <tr>\n",
       "      <th>-118.9351</th>\n",
       "      <th>35.9912</th>\n",
       "      <td>0.0</td>\n",
       "      <td>1.31960</td>\n",
       "      <td>-0.454550</td>\n",
       "      <td>-1.12980</td>\n",
       "      <td>-2.1960</td>\n",
       "      <td>-2.29490</td>\n",
       "      <td>0.732390</td>\n",
       "      <td>-2.6491</td>\n",
       "      <td>-0.57953</td>\n",
       "      <td>-0.463840</td>\n",
       "      <td>...</td>\n",
       "      <td>3.3119</td>\n",
       "      <td>2.4877</td>\n",
       "      <td>3.7906</td>\n",
       "      <td>3.6429</td>\n",
       "      <td>3.8131</td>\n",
       "      <td>2.7015</td>\n",
       "      <td>5.1692</td>\n",
       "      <td>5.8056</td>\n",
       "      <td>3.2722</td>\n",
       "      <td>3.7133</td>\n",
       "    </tr>\n",
       "    <tr>\n",
       "      <th>-118.9331</th>\n",
       "      <th>35.8431</th>\n",
       "      <td>0.0</td>\n",
       "      <td>-0.27523</td>\n",
       "      <td>0.340730</td>\n",
       "      <td>0.11561</td>\n",
       "      <td>-1.8977</td>\n",
       "      <td>-1.72400</td>\n",
       "      <td>1.244300</td>\n",
       "      <td>-2.6508</td>\n",
       "      <td>0.44136</td>\n",
       "      <td>0.072182</td>\n",
       "      <td>...</td>\n",
       "      <td>5.3406</td>\n",
       "      <td>4.6145</td>\n",
       "      <td>5.8431</td>\n",
       "      <td>5.6430</td>\n",
       "      <td>5.8181</td>\n",
       "      <td>5.7786</td>\n",
       "      <td>7.0684</td>\n",
       "      <td>8.0765</td>\n",
       "      <td>5.0210</td>\n",
       "      <td>5.4701</td>\n",
       "    </tr>\n",
       "    <tr>\n",
       "      <th rowspan=\"2\" valign=\"top\">-118.9311</th>\n",
       "      <th>35.6111</th>\n",
       "      <td>0.0</td>\n",
       "      <td>-2.60280</td>\n",
       "      <td>0.000017</td>\n",
       "      <td>0.94402</td>\n",
       "      <td>-2.1042</td>\n",
       "      <td>-1.87170</td>\n",
       "      <td>0.510950</td>\n",
       "      <td>-2.7147</td>\n",
       "      <td>0.42639</td>\n",
       "      <td>0.334300</td>\n",
       "      <td>...</td>\n",
       "      <td>4.6175</td>\n",
       "      <td>4.2846</td>\n",
       "      <td>5.3261</td>\n",
       "      <td>5.0863</td>\n",
       "      <td>5.6278</td>\n",
       "      <td>4.1805</td>\n",
       "      <td>6.4902</td>\n",
       "      <td>7.5899</td>\n",
       "      <td>4.7841</td>\n",
       "      <td>5.1107</td>\n",
       "    </tr>\n",
       "    <tr>\n",
       "      <th>36.0432</th>\n",
       "      <td>0.0</td>\n",
       "      <td>1.67880</td>\n",
       "      <td>-0.808910</td>\n",
       "      <td>-1.57380</td>\n",
       "      <td>-1.4608</td>\n",
       "      <td>-2.81520</td>\n",
       "      <td>0.054982</td>\n",
       "      <td>-2.9420</td>\n",
       "      <td>-1.33580</td>\n",
       "      <td>-1.282900</td>\n",
       "      <td>...</td>\n",
       "      <td>2.8628</td>\n",
       "      <td>1.8351</td>\n",
       "      <td>3.5058</td>\n",
       "      <td>3.3816</td>\n",
       "      <td>3.2020</td>\n",
       "      <td>2.7933</td>\n",
       "      <td>4.2067</td>\n",
       "      <td>4.5700</td>\n",
       "      <td>2.6953</td>\n",
       "      <td>2.8795</td>\n",
       "    </tr>\n",
       "    <tr>\n",
       "      <th>-118.9271</th>\n",
       "      <th>35.7791</th>\n",
       "      <td>0.0</td>\n",
       "      <td>-0.74982</td>\n",
       "      <td>0.704870</td>\n",
       "      <td>0.91393</td>\n",
       "      <td>-2.0152</td>\n",
       "      <td>-1.41990</td>\n",
       "      <td>1.315100</td>\n",
       "      <td>-2.2612</td>\n",
       "      <td>0.90483</td>\n",
       "      <td>0.531310</td>\n",
       "      <td>...</td>\n",
       "      <td>6.6669</td>\n",
       "      <td>6.1738</td>\n",
       "      <td>7.0694</td>\n",
       "      <td>7.0594</td>\n",
       "      <td>7.1988</td>\n",
       "      <td>6.9346</td>\n",
       "      <td>8.5980</td>\n",
       "      <td>9.5428</td>\n",
       "      <td>6.8206</td>\n",
       "      <td>7.1979</td>\n",
       "    </tr>\n",
       "  </tbody>\n",
       "</table>\n",
       "<p>410 rows × 110 columns</p>\n",
       "</div>"
      ],
      "text/plain": [
       "                    2014-11-08  2014-12-02  2014-12-26  2015-02-12  \\\n",
       "Longitude Latitude                                                   \n",
       "-119.5609 36.1672          0.0    -5.35470   -2.365800    -5.38810   \n",
       "-119.5489 36.0072          0.0    -6.98510   -2.425400    -5.59300   \n",
       "-119.5369 36.0472          0.0    -6.52240   -2.652600    -7.67760   \n",
       "-119.5329 36.0152          0.0    -7.31990   -3.102300    -7.01660   \n",
       "-119.5289 35.9512          0.0    -5.69540   -0.297000    -1.17090   \n",
       "...                        ...         ...         ...         ...   \n",
       "-118.9351 35.9912          0.0     1.31960   -0.454550    -1.12980   \n",
       "-118.9331 35.8431          0.0    -0.27523    0.340730     0.11561   \n",
       "-118.9311 35.6111          0.0    -2.60280    0.000017     0.94402   \n",
       "          36.0432          0.0     1.67880   -0.808910    -1.57380   \n",
       "-118.9271 35.7791          0.0    -0.74982    0.704870     0.91393   \n",
       "\n",
       "                    2015-03-08  2015-04-01  2015-04-25  2015-05-19  \\\n",
       "Longitude Latitude                                                   \n",
       "-119.5609 36.1672      -8.0230    -7.35960  -10.658000    -11.5740   \n",
       "-119.5489 36.0072      -8.2796    -7.10480  -11.352000    -13.1490   \n",
       "-119.5369 36.0472     -11.1110   -10.59000  -14.676000    -17.0200   \n",
       "-119.5329 36.0152      -9.4511    -8.87950  -13.596000    -15.7800   \n",
       "-119.5289 35.9512      -3.5007    -0.99811   -3.422100     -3.9274   \n",
       "...                        ...         ...         ...         ...   \n",
       "-118.9351 35.9912      -2.1960    -2.29490    0.732390     -2.6491   \n",
       "-118.9331 35.8431      -1.8977    -1.72400    1.244300     -2.6508   \n",
       "-118.9311 35.6111      -2.1042    -1.87170    0.510950     -2.7147   \n",
       "          36.0432      -1.4608    -2.81520    0.054982     -2.9420   \n",
       "-118.9271 35.7791      -2.0152    -1.41990    1.315100     -2.2612   \n",
       "\n",
       "                    2015-06-12  2015-07-06  ...  2018-10-18  2018-10-30  \\\n",
       "Longitude Latitude                          ...                           \n",
       "-119.5609 36.1672    -14.73600  -15.653000  ...    -51.2880    -52.2000   \n",
       "-119.5489 36.0072    -16.28400  -17.528000  ...    -80.4520    -81.3120   \n",
       "-119.5369 36.0472    -20.39000  -22.219000  ...    -82.7120    -83.1190   \n",
       "-119.5329 36.0152    -19.31200  -21.342000  ...    -92.7010    -93.6410   \n",
       "-119.5289 35.9512     -5.57050   -4.514200  ...    -31.5990    -31.9420   \n",
       "...                        ...         ...  ...         ...         ...   \n",
       "-118.9351 35.9912     -0.57953   -0.463840  ...      3.3119      2.4877   \n",
       "-118.9331 35.8431      0.44136    0.072182  ...      5.3406      4.6145   \n",
       "-118.9311 35.6111      0.42639    0.334300  ...      4.6175      4.2846   \n",
       "          36.0432     -1.33580   -1.282900  ...      2.8628      1.8351   \n",
       "-118.9271 35.7791      0.90483    0.531310  ...      6.6669      6.1738   \n",
       "\n",
       "                    2018-11-11  2018-11-17  2018-11-23  2018-12-05  \\\n",
       "Longitude Latitude                                                   \n",
       "-119.5609 36.1672     -51.5510    -50.8460    -52.1710    -51.1730   \n",
       "-119.5489 36.0072     -81.3700    -81.0500    -82.8020    -81.8950   \n",
       "-119.5369 36.0472     -82.8720    -82.5070    -84.1300    -83.3090   \n",
       "-119.5329 36.0152     -93.4770    -93.2590    -94.9470    -94.3050   \n",
       "-119.5289 35.9512     -31.8580    -31.5220    -32.9980    -32.5920   \n",
       "...                        ...         ...         ...         ...   \n",
       "-118.9351 35.9912       3.7906      3.6429      3.8131      2.7015   \n",
       "-118.9331 35.8431       5.8431      5.6430      5.8181      5.7786   \n",
       "-118.9311 35.6111       5.3261      5.0863      5.6278      4.1805   \n",
       "          36.0432       3.5058      3.3816      3.2020      2.7933   \n",
       "-118.9271 35.7791       7.0694      7.0594      7.1988      6.9346   \n",
       "\n",
       "                    2018-12-17  2018-12-29  2019-01-10  2019-01-22  \n",
       "Longitude Latitude                                                  \n",
       "-119.5609 36.1672     -51.0260    -51.1030    -53.1130    -53.6540  \n",
       "-119.5489 36.0072     -80.9560    -82.2640    -83.5630    -83.4070  \n",
       "-119.5369 36.0472     -83.1980    -83.6720    -84.9170    -84.5300  \n",
       "-119.5329 36.0152     -93.6450    -94.7880    -96.0660    -96.0170  \n",
       "-119.5289 35.9512     -31.5850    -32.0960    -33.1620    -32.8450  \n",
       "...                        ...         ...         ...         ...  \n",
       "-118.9351 35.9912       5.1692      5.8056      3.2722      3.7133  \n",
       "-118.9331 35.8431       7.0684      8.0765      5.0210      5.4701  \n",
       "-118.9311 35.6111       6.4902      7.5899      4.7841      5.1107  \n",
       "          36.0432       4.2067      4.5700      2.6953      2.8795  \n",
       "-118.9271 35.7791       8.5980      9.5428      6.8206      7.1979  \n",
       "\n",
       "[410 rows x 110 columns]"
      ]
     },
     "execution_count": 45,
     "metadata": {},
     "output_type": "execute_result"
    }
   ],
   "source": [
    "df=pd.read_csv('InSAR_data_south/displacement/trainingvalidation.csv')\n",
    "df=df.set_index([df.columns[0],df.columns[1]])\n",
    "df.columns=pd.to_datetime(df.columns, format='%Y-%m-%d')\n",
    "df=df.dropna(axis=0, how='all')#drop full nan rows\n",
    "df"
   ]
  },
  {
   "cell_type": "markdown",
   "metadata": {},
   "source": [
    "##### Remove next line to include all data"
   ]
  },
  {
   "cell_type": "markdown",
   "metadata": {},
   "source": [
    "# Timestep"
   ]
  },
  {
   "cell_type": "code",
   "execution_count": 46,
   "metadata": {},
   "outputs": [],
   "source": [
    "timestep=10\n",
    "# 1 2 3 4 5 6 7 ...\n",
    "# w/ timestep of 2\n",
    "# [[1,2][2,3][3,4]"
   ]
  },
  {
   "cell_type": "markdown",
   "metadata": {},
   "source": [
    "# Shaping function (remove start and step for first for loop to include all data)"
   ]
  },
  {
   "cell_type": "code",
   "execution_count": 47,
   "metadata": {},
   "outputs": [],
   "source": [
    "def shaping(datain, timestep):\n",
    "    #print(arr)\n",
    "    cnt=0\n",
    "    for row in range(len(datain.index)): #picks a row at every iteration, allows to reduction of input and inclusion of multiple time series, remove start and step to run on full dataset \n",
    "    # Convert input dataframe to array and flatten\n",
    "        #datain.iloc[row].fillna(datain.iloc[row].mean).to_numpy().flatten()\n",
    "        arr=datain.iloc[row].interpolate().to_numpy().flatten() # flatten row\n",
    "        #arr=arr.fillna(arr.mean)\n",
    "        #arr=np.where(np.isnan(arr), ma.array(arr, mask=np.isnan(arr)).mean(), arr) \n",
    "        for mth in range(0, len(datain.columns)-(2*timestep)+1): # Define range lenght of the dates - 2* amount of timesep?? +1\n",
    "            cnt=cnt+1 # Gives us the number of samples. Later used to reshape the data\n",
    "            X_start=mth # Start month for inputs of each sample\n",
    "            X_end=mth+timestep # End month for inputs of each sample\n",
    "            Y_start=mth+timestep # Start month for targets of each sample. Note, start is inclusive and end is exclusive, that's why X_end and Y_start is the same number\n",
    "            Y_end=mth+2*timestep # End month for targets of each sample.  \n",
    "            \n",
    "            # Assemble input and target arrays containing all samples\n",
    "            if cnt==1:\n",
    "                X_comb=arr[X_start:X_end]\n",
    "                Y_comb=arr[Y_start:Y_end]\n",
    "            else: \n",
    "                X_comb=np.append(X_comb, arr[X_start:X_end])\n",
    "                Y_comb=np.append(Y_comb, arr[Y_start:Y_end])\n",
    "    # Reshape input and target arrays\n",
    "    X_out=np.reshape(X_comb, (cnt, timestep, 1))\n",
    "    Y_out=np.reshape(Y_comb, (cnt, timestep, 1))\n",
    "    return X_out, Y_out"
   ]
  },
  {
   "cell_type": "markdown",
   "metadata": {},
   "source": [
    "##### Step 2 - Split and Shape data"
   ]
  },
  {
   "cell_type": "code",
   "execution_count": 48,
   "metadata": {},
   "outputs": [],
   "source": [
    "#Divides data into 80% training 20% testing\n",
    "#train, test = train_test_split(df, test_size=0.2)\n",
    "# creates sequences to train\n",
    "# X , Y = shaping(datain=df, timestep= timestep )\n",
    "# X_train, X_test, Y_train, Y_test = train_test_split(X,Y , test_size=0.2, random_state=28)\n",
    "# nsamples, nx, ny = X_train.shape\n",
    "# X_train = X_train.reshape((nsamples,nx*ny))\n",
    "# nsamples, nx, ny = Y_train.shape\n",
    "# Y_train = Y_train.reshape((nsamples,nx*ny))\n",
    "# nsamples, nx, ny = X_test.shape\n",
    "# X_test = X_test.reshape((nsamples,nx*ny))\n",
    "# nsamples, nx, ny = Y_test.shape\n",
    "# Y_test = Y_test.reshape((nsamples,nx*ny))\n",
    "#Divides data into 80% training 20% testing\n",
    "# scaler=MinMaxScaler()\n",
    "# scaler2=MinMaxScaler()\n",
    "train, test = train_test_split(df, test_size=0.2, random_state=63, shuffle=True)\n",
    "# creates sequences to train\n",
    "shuffled = df.sample(frac=1)\n",
    "X_train, Y_train = shaping(datain=shuffled, timestep= timestep )\n",
    "test=pd.read_csv('InSAR_data_south/displacement/testset170.csv')\n",
    "test=test.set_index([test.columns[0],test.columns[1]])\n",
    "test.columns=pd.to_datetime(test.columns, format='%Y-%m-%d')\n",
    "test=test.dropna(axis=0, how='all')#drop full nan rows\n",
    "\n",
    "X_test, Y_test = shaping(datain=test, timestep=timestep)\n",
    "# X_train=scaler.fit_transform(X_train.reshape(-1,X_train.shape[-1])).reshape(X_train.shape)\n",
    "# X_test=scaler.transform(X_test.reshape(-1,X_test.shape[-1])).reshape(X_test.shape)\n",
    "\n",
    "# Y_train=scaler2.fit_transform(Y_train.reshape(-1,Y_train.shape[-1])).reshape(Y_train.shape)\n",
    "# Y_test=scaler2.transform(Y_test.reshape(-1,Y_test.shape[-1])).reshape(Y_test.shape)"
   ]
  },
  {
   "cell_type": "code",
   "execution_count": 49,
   "metadata": {},
   "outputs": [],
   "source": [
    "# scaler = MinMaxScaler()\n",
    "# scaler2 = MinMaxScaler()\n",
    "# X_train = scaler.fit_transform(X_train.reshape(-1, X_train.shape[-1])).reshape(X_train.shape)\n",
    "# X_test = scaler.transform(X_test.reshape(-1, X_test.shape[-1])).reshape(X_test.shape)\n",
    "# Y_train = scaler2.fit_transform(Y_train.reshape(-1, Y_train.shape[-1])).reshape(Y_train.shape)\n",
    "# Y_test = scaler.transform(Y_test.reshape(-1, Y_test.shape[-1])).reshape(Y_test.shape)\n"
   ]
  },
  {
   "cell_type": "markdown",
   "metadata": {},
   "source": [
    "##### Step 3 - Specify the structure of a Neural Network, first model"
   ]
  },
  {
   "cell_type": "code",
   "execution_count": 50,
   "metadata": {},
   "outputs": [],
   "source": [
    "model2 = Sequential(name=\"LSTM-Model\") # Model\n",
    "#model2.add(Masking(mask_value=-1000, input_shape=(timestep, 1)))\n",
    "\n",
    "model2.add(Input(shape=(X_train.shape[1],X_train.shape[2]), name='Input-Layer')) # Input Layer - need to speicfy the shape of inputs\n",
    "model2.add(LSTM(units=64, activation='relu', recurrent_activation='sigmoid', stateful=False)) # Encoder Layer\n",
    "\n",
    "\n",
    "model2.add(TimeDistributed(Dense(units=1, activation='linear'), name='Output-Layer')) # Output Layer, Linear(x) = x\n",
    "#optimizer=Adam(.005)\n",
    "model2.compile(optimizer='adam', # default='rmsprop', an algorithm to be used in backpropagation\n",
    "              loss='mean_squared_error', # Loss function to be optimized. A string (name of loss function), or a tf.keras.losses.Loss instance.\n",
    "              metrics=['MeanSquaredError', 'mean_absolute_error'], # List of metrics to be evaluated by the model during training and testing. Each of this can be a string (name of a built-in function), function or a tf.keras.metrics.Metric instance. \n",
    "              loss_weights=None, # default=None, Optional list or dictionary specifying scalar coefficients (Python floats) to weight the loss contributions of different model outputs.\n",
    "              weighted_metrics=None, # default=None, List of metrics to be evaluated and weighted by sample_weight or class_weight during training and testing.\n",
    "              run_eagerly=None, # Defaults to False. If True, this Model's logic will not be wrapped in a tf.function. Recommended to leave this as None unless your Model cannot be run inside a tf.function.\n",
    "              steps_per_execution=None, # Defaults to 1. The number of batches to run during each tf.function call. Running multiple batches inside a single tf.function call can greatly improve performance on TPUs or small models with a large Python overhead.\n",
    "                   \n",
    "             )"
   ]
  },
  {
   "cell_type": "code",
   "execution_count": 51,
   "metadata": {},
   "outputs": [],
   "source": [
    "##### Train model"
   ]
  },
  {
   "cell_type": "code",
   "execution_count": 52,
   "metadata": {},
   "outputs": [
    {
     "name": "stdout",
     "output_type": "stream",
     "text": [
      "Epoch 1/100\n",
      "1050/1050 - 17s - loss: 14.3707 - mean_squared_error: 14.3707 - mean_absolute_error: 2.4892 - 17s/epoch - 16ms/step\n",
      "Epoch 2/100\n",
      "1050/1050 - 12s - loss: 8.5783 - mean_squared_error: 8.5783 - mean_absolute_error: 2.1737 - 12s/epoch - 12ms/step\n",
      "Epoch 3/100\n",
      "1050/1050 - 12s - loss: 8.1229 - mean_squared_error: 8.1229 - mean_absolute_error: 2.1120 - 12s/epoch - 11ms/step\n",
      "Epoch 4/100\n",
      "1050/1050 - 16s - loss: 7.6032 - mean_squared_error: 7.6032 - mean_absolute_error: 2.0398 - 16s/epoch - 15ms/step\n",
      "Epoch 5/100\n",
      "1050/1050 - 17s - loss: 7.3519 - mean_squared_error: 7.3519 - mean_absolute_error: 2.0066 - 17s/epoch - 16ms/step\n",
      "Epoch 6/100\n",
      "1050/1050 - 17s - loss: 6.9629 - mean_squared_error: 6.9629 - mean_absolute_error: 1.9506 - 17s/epoch - 16ms/step\n",
      "Epoch 7/100\n",
      "1050/1050 - 17s - loss: 6.6454 - mean_squared_error: 6.6454 - mean_absolute_error: 1.9059 - 17s/epoch - 16ms/step\n",
      "Epoch 8/100\n",
      "1050/1050 - 19s - loss: 6.1943 - mean_squared_error: 6.1943 - mean_absolute_error: 1.8424 - 19s/epoch - 18ms/step\n",
      "Epoch 9/100\n",
      "1050/1050 - 18s - loss: 5.6556 - mean_squared_error: 5.6556 - mean_absolute_error: 1.7644 - 18s/epoch - 17ms/step\n",
      "Epoch 10/100\n",
      "1050/1050 - 18s - loss: 5.0593 - mean_squared_error: 5.0593 - mean_absolute_error: 1.6723 - 18s/epoch - 17ms/step\n",
      "Epoch 11/100\n",
      "1050/1050 - 18s - loss: 4.4563 - mean_squared_error: 4.4563 - mean_absolute_error: 1.5747 - 18s/epoch - 17ms/step\n",
      "Epoch 12/100\n",
      "1050/1050 - 18s - loss: 4.0548 - mean_squared_error: 4.0548 - mean_absolute_error: 1.5046 - 18s/epoch - 17ms/step\n",
      "Epoch 13/100\n",
      "1050/1050 - 17s - loss: 3.5643 - mean_squared_error: 3.5643 - mean_absolute_error: 1.4104 - 17s/epoch - 16ms/step\n",
      "Epoch 14/100\n",
      "1050/1050 - 18s - loss: 3.2854 - mean_squared_error: 3.2854 - mean_absolute_error: 1.3527 - 18s/epoch - 17ms/step\n",
      "Epoch 15/100\n",
      "1050/1050 - 18s - loss: 3.2597 - mean_squared_error: 3.2597 - mean_absolute_error: 1.3398 - 18s/epoch - 17ms/step\n",
      "Epoch 16/100\n",
      "1050/1050 - 20s - loss: 2.9086 - mean_squared_error: 2.9086 - mean_absolute_error: 1.2693 - 20s/epoch - 19ms/step\n",
      "Epoch 17/100\n",
      "1050/1050 - 19s - loss: 2.7309 - mean_squared_error: 2.7309 - mean_absolute_error: 1.2269 - 19s/epoch - 18ms/step\n",
      "Epoch 18/100\n",
      "1050/1050 - 17s - loss: 2.4746 - mean_squared_error: 2.4746 - mean_absolute_error: 1.1698 - 17s/epoch - 17ms/step\n",
      "Epoch 19/100\n",
      "1050/1050 - 18s - loss: 2.3097 - mean_squared_error: 2.3097 - mean_absolute_error: 1.1282 - 18s/epoch - 17ms/step\n",
      "Epoch 20/100\n",
      "1050/1050 - 17s - loss: 2.3233 - mean_squared_error: 2.3233 - mean_absolute_error: 1.1219 - 17s/epoch - 16ms/step\n",
      "Epoch 21/100\n",
      "1050/1050 - 19s - loss: 2.0591 - mean_squared_error: 2.0591 - mean_absolute_error: 1.0628 - 19s/epoch - 18ms/step\n",
      "Epoch 22/100\n",
      "1050/1050 - 19s - loss: 1.8931 - mean_squared_error: 1.8931 - mean_absolute_error: 1.0188 - 19s/epoch - 18ms/step\n",
      "Epoch 23/100\n",
      "1050/1050 - 18s - loss: 1.8926 - mean_squared_error: 1.8926 - mean_absolute_error: 1.0124 - 18s/epoch - 17ms/step\n",
      "Epoch 24/100\n",
      "1050/1050 - 19s - loss: 1.8628 - mean_squared_error: 1.8628 - mean_absolute_error: 0.9995 - 19s/epoch - 18ms/step\n",
      "Epoch 25/100\n",
      "1050/1050 - 17s - loss: 1.7364 - mean_squared_error: 1.7364 - mean_absolute_error: 0.9648 - 17s/epoch - 16ms/step\n",
      "Epoch 26/100\n",
      "1050/1050 - 17s - loss: 1.5704 - mean_squared_error: 1.5704 - mean_absolute_error: 0.9203 - 17s/epoch - 16ms/step\n",
      "Epoch 27/100\n",
      "1050/1050 - 18s - loss: 1.6032 - mean_squared_error: 1.6032 - mean_absolute_error: 0.9278 - 18s/epoch - 17ms/step\n",
      "Epoch 28/100\n",
      "1050/1050 - 17s - loss: 1.4332 - mean_squared_error: 1.4332 - mean_absolute_error: 0.8808 - 17s/epoch - 16ms/step\n",
      "Epoch 29/100\n",
      "1050/1050 - 17s - loss: 1.7314 - mean_squared_error: 1.7314 - mean_absolute_error: 0.9375 - 17s/epoch - 16ms/step\n",
      "Epoch 30/100\n",
      "1050/1050 - 17s - loss: 1.4876 - mean_squared_error: 1.4876 - mean_absolute_error: 0.8892 - 17s/epoch - 16ms/step\n",
      "Epoch 31/100\n",
      "1050/1050 - 17s - loss: 1.4878 - mean_squared_error: 1.4878 - mean_absolute_error: 0.8806 - 17s/epoch - 16ms/step\n",
      "Epoch 32/100\n",
      "1050/1050 - 17s - loss: 1.3173 - mean_squared_error: 1.3173 - mean_absolute_error: 0.8369 - 17s/epoch - 16ms/step\n",
      "Epoch 33/100\n",
      "1050/1050 - 18s - loss: 1.3723 - mean_squared_error: 1.3723 - mean_absolute_error: 0.8442 - 18s/epoch - 17ms/step\n",
      "Epoch 34/100\n",
      "1050/1050 - 20s - loss: 1.2355 - mean_squared_error: 1.2355 - mean_absolute_error: 0.8112 - 20s/epoch - 19ms/step\n",
      "Epoch 35/100\n",
      "1050/1050 - 20s - loss: 1.3031 - mean_squared_error: 1.3031 - mean_absolute_error: 0.8292 - 20s/epoch - 19ms/step\n",
      "Epoch 36/100\n",
      "1050/1050 - 18s - loss: 1.2430 - mean_squared_error: 1.2430 - mean_absolute_error: 0.8079 - 18s/epoch - 17ms/step\n",
      "Epoch 37/100\n",
      "1050/1050 - 18s - loss: 1.2598 - mean_squared_error: 1.2598 - mean_absolute_error: 0.8073 - 18s/epoch - 17ms/step\n",
      "Epoch 38/100\n",
      "1050/1050 - 17s - loss: 1.1123 - mean_squared_error: 1.1123 - mean_absolute_error: 0.7681 - 17s/epoch - 17ms/step\n",
      "Epoch 39/100\n",
      "1050/1050 - 18s - loss: 1.1338 - mean_squared_error: 1.1338 - mean_absolute_error: 0.7734 - 18s/epoch - 17ms/step\n",
      "Epoch 40/100\n",
      "1050/1050 - 18s - loss: 1.1377 - mean_squared_error: 1.1377 - mean_absolute_error: 0.7754 - 18s/epoch - 17ms/step\n",
      "Epoch 41/100\n",
      "1050/1050 - 17s - loss: 1.2336 - mean_squared_error: 1.2336 - mean_absolute_error: 0.7759 - 17s/epoch - 16ms/step\n",
      "Epoch 42/100\n",
      "1050/1050 - 17s - loss: 2.1820 - mean_squared_error: 2.1820 - mean_absolute_error: 1.0290 - 17s/epoch - 16ms/step\n",
      "Epoch 43/100\n",
      "1050/1050 - 18s - loss: 1.3615 - mean_squared_error: 1.3615 - mean_absolute_error: 0.8311 - 18s/epoch - 17ms/step\n",
      "Epoch 44/100\n",
      "1050/1050 - 17s - loss: 1.1207 - mean_squared_error: 1.1207 - mean_absolute_error: 0.7645 - 17s/epoch - 16ms/step\n",
      "Epoch 45/100\n",
      "1050/1050 - 17s - loss: 1.2148 - mean_squared_error: 1.2148 - mean_absolute_error: 0.7908 - 17s/epoch - 16ms/step\n",
      "Epoch 46/100\n",
      "1050/1050 - 17s - loss: 1.0930 - mean_squared_error: 1.0930 - mean_absolute_error: 0.7533 - 17s/epoch - 16ms/step\n",
      "Epoch 47/100\n",
      "1050/1050 - 17s - loss: 1.0566 - mean_squared_error: 1.0566 - mean_absolute_error: 0.7438 - 17s/epoch - 17ms/step\n",
      "Epoch 48/100\n",
      "1050/1050 - 18s - loss: 1.0546 - mean_squared_error: 1.0546 - mean_absolute_error: 0.7414 - 18s/epoch - 17ms/step\n",
      "Epoch 49/100\n",
      "1050/1050 - 17s - loss: 0.9873 - mean_squared_error: 0.9873 - mean_absolute_error: 0.7206 - 17s/epoch - 16ms/step\n",
      "Epoch 50/100\n",
      "1050/1050 - 17s - loss: 1.1393 - mean_squared_error: 1.1393 - mean_absolute_error: 0.7629 - 17s/epoch - 16ms/step\n",
      "Epoch 51/100\n",
      "1050/1050 - 18s - loss: 1.1306 - mean_squared_error: 1.1306 - mean_absolute_error: 0.7450 - 18s/epoch - 17ms/step\n",
      "Epoch 52/100\n",
      "1050/1050 - 17s - loss: 0.8979 - mean_squared_error: 0.8979 - mean_absolute_error: 0.6851 - 17s/epoch - 16ms/step\n",
      "Epoch 53/100\n",
      "1050/1050 - 17s - loss: 0.9117 - mean_squared_error: 0.9117 - mean_absolute_error: 0.6908 - 17s/epoch - 16ms/step\n",
      "Epoch 54/100\n",
      "1050/1050 - 17s - loss: 0.9593 - mean_squared_error: 0.9593 - mean_absolute_error: 0.7059 - 17s/epoch - 16ms/step\n",
      "Epoch 55/100\n",
      "1050/1050 - 17s - loss: 0.9824 - mean_squared_error: 0.9824 - mean_absolute_error: 0.7063 - 17s/epoch - 16ms/step\n",
      "Epoch 56/100\n",
      "1050/1050 - 17s - loss: 1.1215 - mean_squared_error: 1.1215 - mean_absolute_error: 0.7424 - 17s/epoch - 16ms/step\n",
      "Epoch 57/100\n",
      "1050/1050 - 18s - loss: 0.8252 - mean_squared_error: 0.8252 - mean_absolute_error: 0.6582 - 18s/epoch - 17ms/step\n",
      "Epoch 58/100\n",
      "1050/1050 - 17s - loss: 1.0110 - mean_squared_error: 1.0110 - mean_absolute_error: 0.7069 - 17s/epoch - 16ms/step\n",
      "Epoch 59/100\n",
      "1050/1050 - 17s - loss: 0.8278 - mean_squared_error: 0.8278 - mean_absolute_error: 0.6568 - 17s/epoch - 16ms/step\n",
      "Epoch 60/100\n",
      "1050/1050 - 17s - loss: 0.8041 - mean_squared_error: 0.8041 - mean_absolute_error: 0.6501 - 17s/epoch - 16ms/step\n",
      "Epoch 61/100\n",
      "1050/1050 - 17s - loss: 0.9976 - mean_squared_error: 0.9976 - mean_absolute_error: 0.7081 - 17s/epoch - 16ms/step\n",
      "Epoch 62/100\n",
      "1050/1050 - 17s - loss: 0.8209 - mean_squared_error: 0.8209 - mean_absolute_error: 0.6522 - 17s/epoch - 16ms/step\n",
      "Epoch 63/100\n",
      "1050/1050 - 17s - loss: 0.7774 - mean_squared_error: 0.7774 - mean_absolute_error: 0.6380 - 17s/epoch - 16ms/step\n",
      "Epoch 64/100\n",
      "1050/1050 - 17s - loss: 0.8003 - mean_squared_error: 0.8003 - mean_absolute_error: 0.6490 - 17s/epoch - 16ms/step\n",
      "Epoch 65/100\n",
      "1050/1050 - 17s - loss: 0.8262 - mean_squared_error: 0.8262 - mean_absolute_error: 0.6565 - 17s/epoch - 16ms/step\n",
      "Epoch 66/100\n",
      "1050/1050 - 17s - loss: 0.7773 - mean_squared_error: 0.7773 - mean_absolute_error: 0.6371 - 17s/epoch - 16ms/step\n",
      "Epoch 67/100\n",
      "1050/1050 - 17s - loss: 0.7670 - mean_squared_error: 0.7670 - mean_absolute_error: 0.6360 - 17s/epoch - 16ms/step\n",
      "Epoch 68/100\n",
      "1050/1050 - 17s - loss: 0.8096 - mean_squared_error: 0.8096 - mean_absolute_error: 0.6479 - 17s/epoch - 16ms/step\n",
      "Epoch 69/100\n",
      "1050/1050 - 17s - loss: 0.7526 - mean_squared_error: 0.7526 - mean_absolute_error: 0.6269 - 17s/epoch - 16ms/step\n",
      "Epoch 70/100\n",
      "1050/1050 - 17s - loss: 0.7482 - mean_squared_error: 0.7482 - mean_absolute_error: 0.6259 - 17s/epoch - 16ms/step\n",
      "Epoch 71/100\n",
      "1050/1050 - 18s - loss: 0.7800 - mean_squared_error: 0.7800 - mean_absolute_error: 0.6386 - 18s/epoch - 17ms/step\n",
      "Epoch 72/100\n",
      "1050/1050 - 18s - loss: 0.7660 - mean_squared_error: 0.7660 - mean_absolute_error: 0.6312 - 18s/epoch - 17ms/step\n",
      "Epoch 73/100\n",
      "1050/1050 - 17s - loss: 0.7591 - mean_squared_error: 0.7591 - mean_absolute_error: 0.6254 - 17s/epoch - 16ms/step\n",
      "Epoch 74/100\n",
      "1050/1050 - 17s - loss: 0.8166 - mean_squared_error: 0.8166 - mean_absolute_error: 0.6403 - 17s/epoch - 16ms/step\n",
      "Epoch 75/100\n",
      "1050/1050 - 18s - loss: 0.7459 - mean_squared_error: 0.7459 - mean_absolute_error: 0.6175 - 18s/epoch - 17ms/step\n",
      "Epoch 76/100\n",
      "1050/1050 - 18s - loss: 0.8375 - mean_squared_error: 0.8375 - mean_absolute_error: 0.6379 - 18s/epoch - 17ms/step\n",
      "Epoch 77/100\n",
      "1050/1050 - 17s - loss: 0.7359 - mean_squared_error: 0.7359 - mean_absolute_error: 0.6193 - 17s/epoch - 16ms/step\n",
      "Epoch 78/100\n",
      "1050/1050 - 17s - loss: 0.6766 - mean_squared_error: 0.6766 - mean_absolute_error: 0.5964 - 17s/epoch - 17ms/step\n",
      "Epoch 79/100\n",
      "1050/1050 - 18s - loss: 0.7724 - mean_squared_error: 0.7724 - mean_absolute_error: 0.6286 - 18s/epoch - 17ms/step\n",
      "Epoch 80/100\n",
      "1050/1050 - 17s - loss: 0.6596 - mean_squared_error: 0.6596 - mean_absolute_error: 0.5866 - 17s/epoch - 16ms/step\n",
      "Epoch 81/100\n",
      "1050/1050 - 19s - loss: 0.6839 - mean_squared_error: 0.6839 - mean_absolute_error: 0.5985 - 19s/epoch - 18ms/step\n",
      "Epoch 82/100\n",
      "1050/1050 - 18s - loss: 0.7051 - mean_squared_error: 0.7051 - mean_absolute_error: 0.6052 - 18s/epoch - 17ms/step\n",
      "Epoch 83/100\n",
      "1050/1050 - 18s - loss: 0.6720 - mean_squared_error: 0.6720 - mean_absolute_error: 0.5931 - 18s/epoch - 17ms/step\n",
      "Epoch 84/100\n",
      "1050/1050 - 17s - loss: 0.7134 - mean_squared_error: 0.7134 - mean_absolute_error: 0.6075 - 17s/epoch - 17ms/step\n",
      "Epoch 85/100\n",
      "1050/1050 - 17s - loss: 0.7405 - mean_squared_error: 0.7405 - mean_absolute_error: 0.6161 - 17s/epoch - 17ms/step\n",
      "Epoch 86/100\n",
      "1050/1050 - 20s - loss: 0.6320 - mean_squared_error: 0.6320 - mean_absolute_error: 0.5761 - 20s/epoch - 19ms/step\n",
      "Epoch 87/100\n",
      "1050/1050 - 20s - loss: 0.6425 - mean_squared_error: 0.6425 - mean_absolute_error: 0.5801 - 20s/epoch - 19ms/step\n",
      "Epoch 88/100\n",
      "1050/1050 - 20s - loss: 0.8049 - mean_squared_error: 0.8049 - mean_absolute_error: 0.6232 - 20s/epoch - 19ms/step\n",
      "Epoch 89/100\n",
      "1050/1050 - 19s - loss: 0.7365 - mean_squared_error: 0.7365 - mean_absolute_error: 0.6102 - 19s/epoch - 18ms/step\n",
      "Epoch 90/100\n",
      "1050/1050 - 17s - loss: 0.6510 - mean_squared_error: 0.6510 - mean_absolute_error: 0.5808 - 17s/epoch - 16ms/step\n",
      "Epoch 91/100\n",
      "1050/1050 - 17s - loss: 0.6278 - mean_squared_error: 0.6278 - mean_absolute_error: 0.5733 - 17s/epoch - 16ms/step\n",
      "Epoch 92/100\n",
      "1050/1050 - 18s - loss: 0.8752 - mean_squared_error: 0.8752 - mean_absolute_error: 0.6466 - 18s/epoch - 17ms/step\n",
      "Epoch 93/100\n",
      "1050/1050 - 17s - loss: 0.6020 - mean_squared_error: 0.6020 - mean_absolute_error: 0.5600 - 17s/epoch - 16ms/step\n",
      "Epoch 94/100\n",
      "1050/1050 - 17s - loss: 0.6197 - mean_squared_error: 0.6197 - mean_absolute_error: 0.5682 - 17s/epoch - 16ms/step\n",
      "Epoch 95/100\n",
      "1050/1050 - 17s - loss: 0.6144 - mean_squared_error: 0.6144 - mean_absolute_error: 0.5677 - 17s/epoch - 16ms/step\n",
      "Epoch 96/100\n",
      "1050/1050 - 17s - loss: 0.6072 - mean_squared_error: 0.6072 - mean_absolute_error: 0.5644 - 17s/epoch - 16ms/step\n",
      "Epoch 97/100\n",
      "1050/1050 - 18s - loss: 0.6339 - mean_squared_error: 0.6339 - mean_absolute_error: 0.5734 - 18s/epoch - 17ms/step\n",
      "Epoch 98/100\n",
      "1050/1050 - 17s - loss: 0.6113 - mean_squared_error: 0.6113 - mean_absolute_error: 0.5668 - 17s/epoch - 17ms/step\n",
      "Epoch 99/100\n",
      "1050/1050 - 17s - loss: 0.6325 - mean_squared_error: 0.6325 - mean_absolute_error: 0.5750 - 17s/epoch - 17ms/step\n",
      "Epoch 100/100\n",
      "1050/1050 - 20s - loss: 0.6274 - mean_squared_error: 0.6274 - mean_absolute_error: 0.5719 - val_loss: 0.6737 - val_mean_squared_error: 0.6737 - val_mean_absolute_error: 0.5963 - 20s/epoch - 19ms/step\n"
     ]
    }
   ],
   "source": [
    "\n",
    "history = model2.fit(X_train, # input data\n",
    "                    Y_train, # target data\n",
    "                    batch_size=32, # Number of samples per gradient update. If unspecified, batch_size will default to 32.\n",
    "                    epochs=100, # default=1, Number of epochs to train the model. An epoch is an iteration over the entire x and y data provided\n",
    "                    verbose=2, # default='auto', ('auto', 0, 1, or 2). Verbosity mode. 0 = silent, 1 = progress bar, 2 = one line per epoch. 'auto' defaults to 1 for most cases, but 2 when used with ParameterServerStrategy.\n",
    "                    callbacks=None, # default=None, list of callbacks to apply during training. See tf.keras.callbacks\n",
    "                    validation_split=0.1, # default=0.0, Fraction of the training data to be used as validation data. The model will set apart this fraction of the training data, will not train on it, and will evaluate the loss and any model metrics on this data at the end of each epoch. \n",
    "                    #validation_data=(X_test, y_test), # default=None, Data on which to evaluate the loss and any model metrics at the end of each epoch. \n",
    "                    shuffle=True, # default=True, Boolean (whether to shuffle the training data before each epoch) or str (for 'batch').\n",
    "                    class_weight=None, # default=None, Optional dictionary mapping class indices (integers) to a weight (float) value, used for weighting the loss function (during training only). This can be useful to tell the model to \"pay more attention\" to samples from an under-represented class.\n",
    "                    sample_weight=None, # default=None, Optional Numpy array of weights for the training samples, used for weighting the loss function (during training only).\n",
    "                    initial_epoch=0, # Integer, default=0, Epoch at which to start training (useful for resuming a previous training run).\n",
    "                    steps_per_epoch=None, # Integer or None, default=None, Total number of steps (batches of samples) before declaring one epoch finished and starting the next epoch. When training with input tensors such as TensorFlow data tensors, the default None is equal to the number of samples in your dataset divided by the batch size, or 1 if that cannot be determined. \n",
    "                    validation_steps=None, # Only relevant if validation_data is provided and is a tf.data dataset. Total number of steps (batches of samples) to draw before stopping when performing validation at the end of every epoch.\n",
    "                    validation_batch_size=None, # Integer or None, default=None, Number of samples per validation batch. If unspecified, will default to batch_size.\n",
    "                    validation_freq=100, # default=1, Only relevant if validation data is provided. If an integer, specifies how many training epochs to run before a new validation run is performed, e.g. validation_freq=2 runs validation every 2 epochs.\n",
    "                    max_queue_size=10, # default=10, Used for generator or keras.utils.Sequence input only. Maximum size for the generator queue. If unspecified, max_queue_size will default to 10.\n",
    "                    workers=1, # default=1, Used for generator or keras.utils.Sequence input only. Maximum number of processes to spin up when using process-based threading. If unspecified, workers will default to 1.\n",
    "                    use_multiprocessing=True, # default=False, Used for generator or keras.utils.Sequence input only. If True, use process-based threading. If unspecified, use_multiprocessing will default to False. \n",
    "                \n",
    "                   )\n",
    "\n",
    "\n"
   ]
  },
  {
   "cell_type": "markdown",
   "metadata": {},
   "source": [
    "##### Step 4 - Plot loss over epochs"
   ]
  },
  {
   "cell_type": "code",
   "execution_count": 53,
   "metadata": {},
   "outputs": [
    {
     "data": {
      "image/png": "[encoded data removed]",
      "text/plain": [
       "<Figure size 432x288 with 1 Axes>"
      ]
     },
     "metadata": {
      "needs_background": "light"
     },
     "output_type": "display_data"
    }
   ],
   "source": [
    "#loss: 4.2573 - mean_squared_error: 4.2572 - accuracy: 0.0000e+00 - val_loss: 4.6314 - val_mean_squared_error: 4.6314\n",
    "# Gather the trained model's weight and bias.\n",
    "trained_weight = model2.get_weights()[0]\n",
    "trained_bias = model2.get_weights()[1]\n",
    "\n",
    "  # The list of epochs is stored separately from the \n",
    "  # rest of history.\n",
    "epochs = history.epoch\n",
    "  \n",
    "  # Gather the history (a snapshot) of each epoch.\n",
    "#hist = pd.DataFrame(history.history)\n",
    "\n",
    "  # Specifically gather the model's root mean \n",
    "  # squared error at each epoch. \n",
    "mse = history.history[\"mean_squared_error\"]\n",
    "\n",
    "#plot_the_model(trained_weight, trained_bias, X_test, Y_train)\n",
    "plot_the_loss_curve(epochs, mse)"
   ]
  },
  {
   "cell_type": "markdown",
   "metadata": {},
   "source": [
    "##### Step 5 - Print Performance Summary"
   ]
  },
  {
   "cell_type": "code",
   "execution_count": 54,
   "metadata": {},
   "outputs": [
    {
     "name": "stdout",
     "output_type": "stream",
     "text": [
      "\n",
      "-------------------- Model Summary --------------------\n",
      "Model: \"biLSTM-Model\"\n",
      "_________________________________________________________________\n",
      " Layer (type)                Output Shape              Param #   \n",
      "=================================================================\n",
      " Hidden-LSTM-Encoder-Layer (  (None, 128)              33792     \n",
      " Bidirectional)                                                  \n",
      "                                                                 \n",
      " Repeat-Vector-Layer (Repeat  (None, 10, 128)          0         \n",
      " Vector)                                                         \n",
      "                                                                 \n",
      " Hidden-LSTM-Decoder-Layer (  (None, 10, 128)          98816     \n",
      " Bidirectional)                                                  \n",
      "                                                                 \n",
      " Output-Layer (TimeDistribut  (None, 10, 1)            129       \n",
      " ed)                                                             \n",
      "                                                                 \n",
      "=================================================================\n",
      "Total params: 132,737\n",
      "Trainable params: 132,737\n",
      "Non-trainable params: 0\n",
      "_________________________________________________________________\n",
      "\n",
      "-------------------- Weights and Biases --------------------\n",
      "Too many parameters to print but you can use the code provided if needed\n",
      "\n",
      "-------------------- Evaluation on Training Data --------------------\n",
      "Final loss : 0.6274341344833374\n",
      "Final mean_squared_error : 0.6274341940879822\n",
      "Final mean_absolute_error : 0.571861207485199\n",
      "Final val_loss : 0.6736661195755005\n",
      "Final val_mean_squared_error : 0.67366623878479\n",
      "Final val_mean_absolute_error : 0.596278965473175\n",
      "\n",
      "-------------------- Evaluation on Test Data --------------------\n",
      "484/484 [==============================] - 4s 8ms/step - loss: 5.9847 - mean_squared_error: 5.9847 - mean_absolute_error: 1.7782\n",
      "\n"
     ]
    }
   ],
   "source": [
    "print(\"\")\n",
    "print('-------------------- Model Summary --------------------')\n",
    "model2.summary() # print model summary\n",
    "print(\"\")\n",
    "print('-------------------- Weights and Biases --------------------')\n",
    "print(\"Too many parameters to print but you can use the code provided if needed\")\n",
    "print(\"\")\n",
    "#for layer in model.layers:\n",
    "#    print(layer.name)\n",
    "#    for item in layer.get_weights():\n",
    "#        print(\"  \", item)\n",
    "#print(\"\")\n",
    "\n",
    "# Print the last value in the evaluation metrics contained within history file\n",
    "print('-------------------- Evaluation on Training Data --------------------')\n",
    "for item in history.history:\n",
    "    print(\"Final\", item, \":\", history.history[item][-1])\n",
    "print(\"\")\n",
    "\n",
    "# Evaluate the model on the test data using \"evaluate\"\n",
    "print('-------------------- Evaluation on Test Data --------------------')\n",
    "results = model2.evaluate(X_test, Y_test)\n",
    "print(\"\")"
   ]
  },
  {
   "cell_type": "code",
   "execution_count": 55,
   "metadata": {},
   "outputs": [],
   "source": [
    "#loss: 6.1995 - mean_squared_error: 6.1995 normalize01  loss: 6.8981 - mean_squared_error: 6.8981 - accuracy: 0.0000e+00// After new set loss: 6.3898 - mean_squared_error: 6.3898 - accuracy: 0.0000e+00   mean_squared_error: 5.7319 - accurac\n",
    "\n",
    "\n",
    "# from keras.utils import plot_model,model_to_dot\n",
    "# plot_model(model2, show_shapes=True, to_file='plotmodelbilstm0810.png')\n"
   ]
  },
  {
   "cell_type": "code",
   "execution_count": 56,
   "metadata": {},
   "outputs": [
    {
     "name": "stdout",
     "output_type": "stream",
     "text": [
      "484/484 [==============================] - 5s 8ms/step\n"
     ]
    },
    {
     "data": {
      "text/plain": [
       "array([[[-0.14862818],\n",
       "        [-0.91732204],\n",
       "        [ 1.0712624 ],\n",
       "        ...,\n",
       "        [ 1.3486054 ],\n",
       "        [ 1.1709735 ],\n",
       "        [ 1.6492639 ]],\n",
       "\n",
       "       [[-0.89393914],\n",
       "        [-0.84264636],\n",
       "        [-0.508672  ],\n",
       "        ...,\n",
       "        [ 0.13290071],\n",
       "        [-1.078484  ],\n",
       "        [ 3.3473883 ]],\n",
       "\n",
       "       [[ 2.352884  ],\n",
       "        [ 2.8537667 ],\n",
       "        [ 2.038704  ],\n",
       "        ...,\n",
       "        [ 1.4984169 ],\n",
       "        [ 1.3838634 ],\n",
       "        [ 3.0032802 ]],\n",
       "\n",
       "       ...,\n",
       "\n",
       "       [[ 0.7295053 ],\n",
       "        [ 3.986063  ],\n",
       "        [ 4.434232  ],\n",
       "        ...,\n",
       "        [ 1.712425  ],\n",
       "        [-0.9141827 ],\n",
       "        [ 1.5029573 ]],\n",
       "\n",
       "       [[ 2.025994  ],\n",
       "        [ 3.1822505 ],\n",
       "        [ 3.792005  ],\n",
       "        ...,\n",
       "        [ 2.0139632 ],\n",
       "        [ 2.1600718 ],\n",
       "        [ 1.8234968 ]],\n",
       "\n",
       "       [[ 3.6041956 ],\n",
       "        [ 3.5717502 ],\n",
       "        [ 3.4764557 ],\n",
       "        ...,\n",
       "        [ 3.4610767 ],\n",
       "        [ 1.9037588 ],\n",
       "        [ 1.6788523 ]]], dtype=float32)"
      ]
     },
     "execution_count": 56,
     "metadata": {},
     "output_type": "execute_result"
    }
   ],
   "source": [
    "pred_test=model2.predict(X_test)\n",
    "\n",
    "pred_test"
   ]
  },
  {
   "cell_type": "code",
   "execution_count": 57,
   "metadata": {},
   "outputs": [
    {
     "data": {
      "text/plain": [
       "(15470, 10, 1)"
      ]
     },
     "execution_count": 57,
     "metadata": {},
     "output_type": "execute_result"
    }
   ],
   "source": [
    "Y_test.shape\n",
    "#1792"
   ]
  },
  {
   "cell_type": "code",
   "execution_count": 58,
   "metadata": {},
   "outputs": [
    {
     "data": {
      "text/plain": [
       "18700"
      ]
     },
     "execution_count": 58,
     "metadata": {},
     "output_type": "execute_result"
    }
   ],
   "source": [
    "test.values.size"
   ]
  },
  {
   "cell_type": "code",
   "execution_count": 59,
   "metadata": {},
   "outputs": [
    {
     "data": {
      "text/plain": [
       "(15470, 10, 1)"
      ]
     },
     "execution_count": 59,
     "metadata": {},
     "output_type": "execute_result"
    }
   ],
   "source": [
    "pred_test.shape"
   ]
  },
  {
   "cell_type": "code",
   "execution_count": 60,
   "metadata": {},
   "outputs": [],
   "source": [
    "# # pred_test = scaler2.inverse_transform(pred_test.reshape(-1, pred_test.shape[-1])).reshape(pred_test.shape)\n",
    "# y=pred_test.flatten()\n",
    "# z=[]\n",
    "# for x in range(910*95,910*96,10): #predictioon\n",
    "#     z.append(y[x])\n",
    "# z\n",
    "# b=Y_test.flatten() #Y test should match prediction\n",
    "# c=[] #wtf is this\n",
    "# for x in range(910*95,910*96,10):\n",
    "#     c.append(b[x])\n",
    "# #c\n",
    "\n",
    "# # d=X_test.flatten() # Y train doesnt match because why\n",
    "# # e=[]\n",
    "# # for x in range(0,10000,1):\n",
    "# #     if(d[x]==0):\n",
    "# #         print(x)\n",
    "# #     e.append(d[x])\n",
    "# # # e\n",
    "y=pred_test.flatten()\n",
    "# y=scaler2.inverse_transform(y.reshape(-1,y.shape[-1])).reshape(y.shape)\n",
    "z=[]\n",
    "for x in range(910*96,910*97,10): #predictioon\n",
    "    z.append(y[x])\n",
    "z\n",
    "\n",
    "b=Y_test.flatten() #Y test should match prediction\n",
    "# b=scaler2.inverse_transform(b.reshape(-1,b.shape[-1])).reshape(b.shape)\n",
    "c=[] #wtf is this\n",
    "for x in range(910*96,910*97,10):\n",
    "    c.append(b[x])"
   ]
  },
  {
   "cell_type": "code",
   "execution_count": 61,
   "metadata": {},
   "outputs": [
    {
     "data": {
      "application/vnd.plotly.v1+json": {
       "config": {
        "plotlyServerURL": "https://plot.ly"
       },
       "data": [
        {
         "line": {
          "color": "grey",
          "width": 5
         },
         "mode": "lines",
         "name": "Subsidence - Actual (YTest)",
         "opacity": 0.8,
         "type": "scatter",
         "x": [
          "2015-07-30T00:00:00.000000000",
          "2015-08-23T00:00:00.000000000",
          "2015-09-16T00:00:00.000000000",
          "2015-10-10T00:00:00.000000000",
          "2015-11-03T00:00:00.000000000",
          "2015-11-27T00:00:00.000000000",
          "2015-12-09T00:00:00.000000000",
          "2015-12-21T00:00:00.000000000",
          "2016-01-14T00:00:00.000000000",
          "2016-01-26T00:00:00.000000000",
          "2016-02-07T00:00:00.000000000",
          "2016-02-19T00:00:00.000000000",
          "2016-03-02T00:00:00.000000000",
          "2016-03-14T00:00:00.000000000",
          "2016-03-26T00:00:00.000000000",
          "2016-04-07T00:00:00.000000000",
          "2016-04-19T00:00:00.000000000",
          "2016-05-01T00:00:00.000000000",
          "2016-05-13T00:00:00.000000000",
          "2016-05-25T00:00:00.000000000",
          "2016-06-06T00:00:00.000000000",
          "2016-06-30T00:00:00.000000000",
          "2016-07-24T00:00:00.000000000",
          "2016-08-17T00:00:00.000000000",
          "2016-09-10T00:00:00.000000000",
          "2016-09-22T00:00:00.000000000",
          "2016-10-04T00:00:00.000000000",
          "2016-10-16T00:00:00.000000000",
          "2016-10-28T00:00:00.000000000",
          "2016-11-09T00:00:00.000000000",
          "2016-11-21T00:00:00.000000000",
          "2016-12-03T00:00:00.000000000",
          "2016-12-15T00:00:00.000000000",
          "2016-12-27T00:00:00.000000000",
          "2017-01-08T00:00:00.000000000",
          "2017-01-14T00:00:00.000000000",
          "2017-01-20T00:00:00.000000000",
          "2017-01-26T00:00:00.000000000",
          "2017-02-01T00:00:00.000000000",
          "2017-02-13T00:00:00.000000000",
          "2017-02-25T00:00:00.000000000",
          "2017-03-09T00:00:00.000000000",
          "2017-03-21T00:00:00.000000000",
          "2017-04-02T00:00:00.000000000",
          "2017-04-14T00:00:00.000000000",
          "2017-04-26T00:00:00.000000000",
          "2017-05-08T00:00:00.000000000",
          "2017-05-20T00:00:00.000000000",
          "2017-06-01T00:00:00.000000000",
          "2017-06-13T00:00:00.000000000",
          "2017-06-25T00:00:00.000000000",
          "2017-07-07T00:00:00.000000000",
          "2017-07-19T00:00:00.000000000",
          "2017-07-31T00:00:00.000000000",
          "2017-08-12T00:00:00.000000000",
          "2017-08-24T00:00:00.000000000",
          "2017-09-05T00:00:00.000000000",
          "2017-09-17T00:00:00.000000000",
          "2017-09-29T00:00:00.000000000",
          "2017-10-11T00:00:00.000000000",
          "2017-10-23T00:00:00.000000000",
          "2017-11-04T00:00:00.000000000",
          "2017-11-16T00:00:00.000000000",
          "2017-11-28T00:00:00.000000000",
          "2017-12-10T00:00:00.000000000",
          "2017-12-22T00:00:00.000000000",
          "2018-01-03T00:00:00.000000000",
          "2018-01-15T00:00:00.000000000",
          "2018-01-27T00:00:00.000000000",
          "2018-02-08T00:00:00.000000000",
          "2018-02-20T00:00:00.000000000",
          "2018-03-04T00:00:00.000000000",
          "2018-03-16T00:00:00.000000000",
          "2018-03-28T00:00:00.000000000",
          "2018-04-09T00:00:00.000000000",
          "2018-04-21T00:00:00.000000000",
          "2018-05-03T00:00:00.000000000",
          "2018-05-15T00:00:00.000000000",
          "2018-05-27T00:00:00.000000000",
          "2018-06-08T00:00:00.000000000",
          "2018-06-20T00:00:00.000000000",
          "2018-07-02T00:00:00.000000000",
          "2018-07-14T00:00:00.000000000",
          "2018-07-26T00:00:00.000000000",
          "2018-08-07T00:00:00.000000000",
          "2018-08-19T00:00:00.000000000",
          "2018-08-31T00:00:00.000000000",
          "2018-09-12T00:00:00.000000000",
          "2018-09-24T00:00:00.000000000",
          "2018-10-06T00:00:00.000000000",
          "2018-10-18T00:00:00.000000000",
          "2018-10-30T00:00:00.000000000",
          "2018-11-11T00:00:00.000000000",
          "2018-11-17T00:00:00.000000000",
          "2018-11-23T00:00:00.000000000",
          "2018-12-05T00:00:00.000000000",
          "2018-12-17T00:00:00.000000000",
          "2018-12-29T00:00:00.000000000",
          "2019-01-10T00:00:00.000000000",
          "2019-01-22T00:00:00.000000000"
         ],
         "y": [
          -18.398,
          -22.092,
          -24.062,
          -23.366,
          -24.054,
          -25.487,
          -26.169,
          -25.261,
          -26.073,
          -25.324,
          -26.425,
          -25.79,
          -28.488,
          -28.567,
          -27.364,
          -30.514,
          -32.701,
          -32.841,
          -33.433,
          -35.138,
          -34.533,
          -38.651,
          -41.498,
          -44.292,
          -45.134,
          -47.621,
          -48.646,
          -48.525,
          -49.736,
          -49.885,
          -49.916,
          -49.159,
          -49.78,
          -49.994,
          -50.245,
          -50.35,
          -50.94,
          -50.017,
          -50.817,
          -49.964,
          -51.047,
          -50.283,
          -47.718,
          -51.499,
          -50.72,
          -51.157,
          -51.259,
          -51.44,
          -52.218,
          -53.051,
          -52.958,
          -52.356,
          -52.724,
          -51.807,
          -56.664,
          -53.361,
          -55.09,
          -54.545,
          -56.257,
          -57.673,
          -58.275,
          -59.461,
          -57.298,
          -56.884,
          -57.603,
          -58.182,
          -58.242,
          -57.672,
          -56.722,
          -58.245,
          -59.18,
          -60.557,
          -60.95,
          -60.81,
          -61.115,
          -61.373,
          -63.445,
          -63.45,
          -66.063,
          -64.926,
          -65.789,
          -67.232,
          -68.649,
          -69.47149999999999,
          -70.294,
          -71.96,
          -74.276,
          -74.088,
          -73.302,
          -74.605,
          -75.305
         ]
        },
        {
         "line": {
          "color": "red",
          "width": 5
         },
         "mode": "lines",
         "name": "Subsidence - Predicted ",
         "opacity": 0.8,
         "type": "scatter",
         "x": [
          "2015-07-30T00:00:00.000000000",
          "2015-08-23T00:00:00.000000000",
          "2015-09-16T00:00:00.000000000",
          "2015-10-10T00:00:00.000000000",
          "2015-11-03T00:00:00.000000000",
          "2015-11-27T00:00:00.000000000",
          "2015-12-09T00:00:00.000000000",
          "2015-12-21T00:00:00.000000000",
          "2016-01-14T00:00:00.000000000",
          "2016-01-26T00:00:00.000000000",
          "2016-02-07T00:00:00.000000000",
          "2016-02-19T00:00:00.000000000",
          "2016-03-02T00:00:00.000000000",
          "2016-03-14T00:00:00.000000000",
          "2016-03-26T00:00:00.000000000",
          "2016-04-07T00:00:00.000000000",
          "2016-04-19T00:00:00.000000000",
          "2016-05-01T00:00:00.000000000",
          "2016-05-13T00:00:00.000000000",
          "2016-05-25T00:00:00.000000000",
          "2016-06-06T00:00:00.000000000",
          "2016-06-30T00:00:00.000000000",
          "2016-07-24T00:00:00.000000000",
          "2016-08-17T00:00:00.000000000",
          "2016-09-10T00:00:00.000000000",
          "2016-09-22T00:00:00.000000000",
          "2016-10-04T00:00:00.000000000",
          "2016-10-16T00:00:00.000000000",
          "2016-10-28T00:00:00.000000000",
          "2016-11-09T00:00:00.000000000",
          "2016-11-21T00:00:00.000000000",
          "2016-12-03T00:00:00.000000000",
          "2016-12-15T00:00:00.000000000",
          "2016-12-27T00:00:00.000000000",
          "2017-01-08T00:00:00.000000000",
          "2017-01-14T00:00:00.000000000",
          "2017-01-20T00:00:00.000000000",
          "2017-01-26T00:00:00.000000000",
          "2017-02-01T00:00:00.000000000",
          "2017-02-13T00:00:00.000000000",
          "2017-02-25T00:00:00.000000000",
          "2017-03-09T00:00:00.000000000",
          "2017-03-21T00:00:00.000000000",
          "2017-04-02T00:00:00.000000000",
          "2017-04-14T00:00:00.000000000",
          "2017-04-26T00:00:00.000000000",
          "2017-05-08T00:00:00.000000000",
          "2017-05-20T00:00:00.000000000",
          "2017-06-01T00:00:00.000000000",
          "2017-06-13T00:00:00.000000000",
          "2017-06-25T00:00:00.000000000",
          "2017-07-07T00:00:00.000000000",
          "2017-07-19T00:00:00.000000000",
          "2017-07-31T00:00:00.000000000",
          "2017-08-12T00:00:00.000000000",
          "2017-08-24T00:00:00.000000000",
          "2017-09-05T00:00:00.000000000",
          "2017-09-17T00:00:00.000000000",
          "2017-09-29T00:00:00.000000000",
          "2017-10-11T00:00:00.000000000",
          "2017-10-23T00:00:00.000000000",
          "2017-11-04T00:00:00.000000000",
          "2017-11-16T00:00:00.000000000",
          "2017-11-28T00:00:00.000000000",
          "2017-12-10T00:00:00.000000000",
          "2017-12-22T00:00:00.000000000",
          "2018-01-03T00:00:00.000000000",
          "2018-01-15T00:00:00.000000000",
          "2018-01-27T00:00:00.000000000",
          "2018-02-08T00:00:00.000000000",
          "2018-02-20T00:00:00.000000000",
          "2018-03-04T00:00:00.000000000",
          "2018-03-16T00:00:00.000000000",
          "2018-03-28T00:00:00.000000000",
          "2018-04-09T00:00:00.000000000",
          "2018-04-21T00:00:00.000000000",
          "2018-05-03T00:00:00.000000000",
          "2018-05-15T00:00:00.000000000",
          "2018-05-27T00:00:00.000000000",
          "2018-06-08T00:00:00.000000000",
          "2018-06-20T00:00:00.000000000",
          "2018-07-02T00:00:00.000000000",
          "2018-07-14T00:00:00.000000000",
          "2018-07-26T00:00:00.000000000",
          "2018-08-07T00:00:00.000000000",
          "2018-08-19T00:00:00.000000000",
          "2018-08-31T00:00:00.000000000",
          "2018-09-12T00:00:00.000000000",
          "2018-09-24T00:00:00.000000000",
          "2018-10-06T00:00:00.000000000",
          "2018-10-18T00:00:00.000000000",
          "2018-10-30T00:00:00.000000000",
          "2018-11-11T00:00:00.000000000",
          "2018-11-17T00:00:00.000000000",
          "2018-11-23T00:00:00.000000000",
          "2018-12-05T00:00:00.000000000",
          "2018-12-17T00:00:00.000000000",
          "2018-12-29T00:00:00.000000000",
          "2019-01-10T00:00:00.000000000",
          "2019-01-22T00:00:00.000000000"
         ],
         "y": [
          -19.803264617919922,
          -20.795827865600586,
          -25.48076820373535,
          -22.37519645690918,
          -23.16934585571289,
          -24.064136505126953,
          -24.07238006591797,
          -25.494564056396484,
          -26.199861526489258,
          -25.97641372680664,
          -25.192014694213867,
          -25.69331932067871,
          -25.55077362060547,
          -27.399532318115234,
          -29.24460220336914,
          -28.232500076293945,
          -28.99237060546875,
          -32.52473449707031,
          -34.898433685302734,
          -34.989166259765625,
          -35.09492111206055,
          -34.96706771850586,
          -40.887168884277344,
          -42.1397705078125,
          -45.08523941040039,
          -46.919273376464844,
          -47.11824035644531,
          -47.564186096191406,
          -48.6080436706543,
          -49.39823913574219,
          -49.93579864501953,
          -48.69165802001953,
          -51.06379318237305,
          -49.59440612792969,
          -50.82764434814453,
          -50.725547790527344,
          -49.726043701171875,
          -51.44200897216797,
          -49.991783142089844,
          -50.42117691040039,
          -49.60111999511719,
          -51.30154800415039,
          -49.698402404785156,
          -52.003074645996094,
          -52.58298110961914,
          -50.004432678222656,
          -51.33767318725586,
          -52.69187545776367,
          -51.80044174194336,
          -53.07270050048828,
          -53.258880615234375,
          -50.87678909301758,
          -54.01762008666992,
          -53.483863830566406,
          -53.16358947753906,
          -54.33554458618164,
          -52.347511291503906,
          -56.087467193603516,
          -55.959407806396484,
          -55.793235778808594,
          -59.825809478759766,
          -57.75069808959961,
          -58.28539276123047,
          -57.821449279785156,
          -57.64357376098633,
          -59.35835647583008,
          -57.826534271240234,
          -58.78986358642578,
          -58.141273498535156,
          -58.67656707763672,
          -58.59088134765625,
          -58.42987060546875,
          -60.49625778198242,
          -60.95010757446289,
          -61.19624710083008,
          -62.61500930786133,
          -62.39482116699219,
          -61.751708984375,
          -62.881813049316406,
          -65.03709411621094,
          -64.86035919189453,
          -66.52474975585938,
          -68.93665313720703,
          -70.09371948242188,
          -70.30754089355469,
          -71.9447250366211,
          -71.9548110961914,
          -74.96206665039062,
          -73.59486389160156,
          -75.02739715576172,
          -74.82453155517578
         ]
        }
       ],
       "layout": {
        "legend": {
         "orientation": "h",
         "x": 1,
         "xanchor": "right",
         "y": 1.02,
         "yanchor": "bottom"
        },
        "plot_bgcolor": "white",
        "template": {
         "data": {
          "bar": [
           {
            "error_x": {
             "color": "#2a3f5f"
            },
            "error_y": {
             "color": "#2a3f5f"
            },
            "marker": {
             "line": {
              "color": "#E5ECF6",
              "width": 0.5
             },
             "pattern": {
              "fillmode": "overlay",
              "size": 10,
              "solidity": 0.2
             }
            },
            "type": "bar"
           }
          ],
          "barpolar": [
           {
            "marker": {
             "line": {
              "color": "#E5ECF6",
              "width": 0.5
             },
             "pattern": {
              "fillmode": "overlay",
              "size": 10,
              "solidity": 0.2
             }
            },
            "type": "barpolar"
           }
          ],
          "carpet": [
           {
            "aaxis": {
             "endlinecolor": "#2a3f5f",
             "gridcolor": "white",
             "linecolor": "white",
             "minorgridcolor": "white",
             "startlinecolor": "#2a3f5f"
            },
            "baxis": {
             "endlinecolor": "#2a3f5f",
             "gridcolor": "white",
             "linecolor": "white",
             "minorgridcolor": "white",
             "startlinecolor": "#2a3f5f"
            },
            "type": "carpet"
           }
          ],
          "choropleth": [
           {
            "colorbar": {
             "outlinewidth": 0,
             "ticks": ""
            },
            "type": "choropleth"
           }
          ],
          "contour": [
           {
            "colorbar": {
             "outlinewidth": 0,
             "ticks": ""
            },
            "colorscale": [
             [
              0,
              "#0d0887"
             ],
             [
              0.1111111111111111,
              "#46039f"
             ],
             [
              0.2222222222222222,
              "#7201a8"
             ],
             [
              0.3333333333333333,
              "#9c179e"
             ],
             [
              0.4444444444444444,
              "#bd3786"
             ],
             [
              0.5555555555555556,
              "#d8576b"
             ],
             [
              0.6666666666666666,
              "#ed7953"
             ],
             [
              0.7777777777777778,
              "#fb9f3a"
             ],
             [
              0.8888888888888888,
              "#fdca26"
             ],
             [
              1,
              "#f0f921"
             ]
            ],
            "type": "contour"
           }
          ],
          "contourcarpet": [
           {
            "colorbar": {
             "outlinewidth": 0,
             "ticks": ""
            },
            "type": "contourcarpet"
           }
          ],
          "heatmap": [
           {
            "colorbar": {
             "outlinewidth": 0,
             "ticks": ""
            },
            "colorscale": [
             [
              0,
              "#0d0887"
             ],
             [
              0.1111111111111111,
              "#46039f"
             ],
             [
              0.2222222222222222,
              "#7201a8"
             ],
             [
              0.3333333333333333,
              "#9c179e"
             ],
             [
              0.4444444444444444,
              "#bd3786"
             ],
             [
              0.5555555555555556,
              "#d8576b"
             ],
             [
              0.6666666666666666,
              "#ed7953"
             ],
             [
              0.7777777777777778,
              "#fb9f3a"
             ],
             [
              0.8888888888888888,
              "#fdca26"
             ],
             [
              1,
              "#f0f921"
             ]
            ],
            "type": "heatmap"
           }
          ],
          "heatmapgl": [
           {
            "colorbar": {
             "outlinewidth": 0,
             "ticks": ""
            },
            "colorscale": [
             [
              0,
              "#0d0887"
             ],
             [
              0.1111111111111111,
              "#46039f"
             ],
             [
              0.2222222222222222,
              "#7201a8"
             ],
             [
              0.3333333333333333,
              "#9c179e"
             ],
             [
              0.4444444444444444,
              "#bd3786"
             ],
             [
              0.5555555555555556,
              "#d8576b"
             ],
             [
              0.6666666666666666,
              "#ed7953"
             ],
             [
              0.7777777777777778,
              "#fb9f3a"
             ],
             [
              0.8888888888888888,
              "#fdca26"
             ],
             [
              1,
              "#f0f921"
             ]
            ],
            "type": "heatmapgl"
           }
          ],
          "histogram": [
           {
            "marker": {
             "pattern": {
              "fillmode": "overlay",
              "size": 10,
              "solidity": 0.2
             }
            },
            "type": "histogram"
           }
          ],
          "histogram2d": [
           {
            "colorbar": {
             "outlinewidth": 0,
             "ticks": ""
            },
            "colorscale": [
             [
              0,
              "#0d0887"
             ],
             [
              0.1111111111111111,
              "#46039f"
             ],
             [
              0.2222222222222222,
              "#7201a8"
             ],
             [
              0.3333333333333333,
              "#9c179e"
             ],
             [
              0.4444444444444444,
              "#bd3786"
             ],
             [
              0.5555555555555556,
              "#d8576b"
             ],
             [
              0.6666666666666666,
              "#ed7953"
             ],
             [
              0.7777777777777778,
              "#fb9f3a"
             ],
             [
              0.8888888888888888,
              "#fdca26"
             ],
             [
              1,
              "#f0f921"
             ]
            ],
            "type": "histogram2d"
           }
          ],
          "histogram2dcontour": [
           {
            "colorbar": {
             "outlinewidth": 0,
             "ticks": ""
            },
            "colorscale": [
             [
              0,
              "#0d0887"
             ],
             [
              0.1111111111111111,
              "#46039f"
             ],
             [
              0.2222222222222222,
              "#7201a8"
             ],
             [
              0.3333333333333333,
              "#9c179e"
             ],
             [
              0.4444444444444444,
              "#bd3786"
             ],
             [
              0.5555555555555556,
              "#d8576b"
             ],
             [
              0.6666666666666666,
              "#ed7953"
             ],
             [
              0.7777777777777778,
              "#fb9f3a"
             ],
             [
              0.8888888888888888,
              "#fdca26"
             ],
             [
              1,
              "#f0f921"
             ]
            ],
            "type": "histogram2dcontour"
           }
          ],
          "mesh3d": [
           {
            "colorbar": {
             "outlinewidth": 0,
             "ticks": ""
            },
            "type": "mesh3d"
           }
          ],
          "parcoords": [
           {
            "line": {
             "colorbar": {
              "outlinewidth": 0,
              "ticks": ""
             }
            },
            "type": "parcoords"
           }
          ],
          "pie": [
           {
            "automargin": true,
            "type": "pie"
           }
          ],
          "scatter": [
           {
            "fillpattern": {
             "fillmode": "overlay",
             "size": 10,
             "solidity": 0.2
            },
            "type": "scatter"
           }
          ],
          "scatter3d": [
           {
            "line": {
             "colorbar": {
              "outlinewidth": 0,
              "ticks": ""
             }
            },
            "marker": {
             "colorbar": {
              "outlinewidth": 0,
              "ticks": ""
             }
            },
            "type": "scatter3d"
           }
          ],
          "scattercarpet": [
           {
            "marker": {
             "colorbar": {
              "outlinewidth": 0,
              "ticks": ""
             }
            },
            "type": "scattercarpet"
           }
          ],
          "scattergeo": [
           {
            "marker": {
             "colorbar": {
              "outlinewidth": 0,
              "ticks": ""
             }
            },
            "type": "scattergeo"
           }
          ],
          "scattergl": [
           {
            "marker": {
             "colorbar": {
              "outlinewidth": 0,
              "ticks": ""
             }
            },
            "type": "scattergl"
           }
          ],
          "scattermapbox": [
           {
            "marker": {
             "colorbar": {
              "outlinewidth": 0,
              "ticks": ""
             }
            },
            "type": "scattermapbox"
           }
          ],
          "scatterpolar": [
           {
            "marker": {
             "colorbar": {
              "outlinewidth": 0,
              "ticks": ""
             }
            },
            "type": "scatterpolar"
           }
          ],
          "scatterpolargl": [
           {
            "marker": {
             "colorbar": {
              "outlinewidth": 0,
              "ticks": ""
             }
            },
            "type": "scatterpolargl"
           }
          ],
          "scatterternary": [
           {
            "marker": {
             "colorbar": {
              "outlinewidth": 0,
              "ticks": ""
             }
            },
            "type": "scatterternary"
           }
          ],
          "surface": [
           {
            "colorbar": {
             "outlinewidth": 0,
             "ticks": ""
            },
            "colorscale": [
             [
              0,
              "#0d0887"
             ],
             [
              0.1111111111111111,
              "#46039f"
             ],
             [
              0.2222222222222222,
              "#7201a8"
             ],
             [
              0.3333333333333333,
              "#9c179e"
             ],
             [
              0.4444444444444444,
              "#bd3786"
             ],
             [
              0.5555555555555556,
              "#d8576b"
             ],
             [
              0.6666666666666666,
              "#ed7953"
             ],
             [
              0.7777777777777778,
              "#fb9f3a"
             ],
             [
              0.8888888888888888,
              "#fdca26"
             ],
             [
              1,
              "#f0f921"
             ]
            ],
            "type": "surface"
           }
          ],
          "table": [
           {
            "cells": {
             "fill": {
              "color": "#EBF0F8"
             },
             "line": {
              "color": "white"
             }
            },
            "header": {
             "fill": {
              "color": "#C8D4E3"
             },
             "line": {
              "color": "white"
             }
            },
            "type": "table"
           }
          ]
         },
         "layout": {
          "annotationdefaults": {
           "arrowcolor": "#2a3f5f",
           "arrowhead": 0,
           "arrowwidth": 1
          },
          "autotypenumbers": "strict",
          "coloraxis": {
           "colorbar": {
            "outlinewidth": 0,
            "ticks": ""
           }
          },
          "colorscale": {
           "diverging": [
            [
             0,
             "#8e0152"
            ],
            [
             0.1,
             "#c51b7d"
            ],
            [
             0.2,
             "#de77ae"
            ],
            [
             0.3,
             "#f1b6da"
            ],
            [
             0.4,
             "#fde0ef"
            ],
            [
             0.5,
             "#f7f7f7"
            ],
            [
             0.6,
             "#e6f5d0"
            ],
            [
             0.7,
             "#b8e186"
            ],
            [
             0.8,
             "#7fbc41"
            ],
            [
             0.9,
             "#4d9221"
            ],
            [
             1,
             "#276419"
            ]
           ],
           "sequential": [
            [
             0,
             "#0d0887"
            ],
            [
             0.1111111111111111,
             "#46039f"
            ],
            [
             0.2222222222222222,
             "#7201a8"
            ],
            [
             0.3333333333333333,
             "#9c179e"
            ],
            [
             0.4444444444444444,
             "#bd3786"
            ],
            [
             0.5555555555555556,
             "#d8576b"
            ],
            [
             0.6666666666666666,
             "#ed7953"
            ],
            [
             0.7777777777777778,
             "#fb9f3a"
            ],
            [
             0.8888888888888888,
             "#fdca26"
            ],
            [
             1,
             "#f0f921"
            ]
           ],
           "sequentialminus": [
            [
             0,
             "#0d0887"
            ],
            [
             0.1111111111111111,
             "#46039f"
            ],
            [
             0.2222222222222222,
             "#7201a8"
            ],
            [
             0.3333333333333333,
             "#9c179e"
            ],
            [
             0.4444444444444444,
             "#bd3786"
            ],
            [
             0.5555555555555556,
             "#d8576b"
            ],
            [
             0.6666666666666666,
             "#ed7953"
            ],
            [
             0.7777777777777778,
             "#fb9f3a"
            ],
            [
             0.8888888888888888,
             "#fdca26"
            ],
            [
             1,
             "#f0f921"
            ]
           ]
          },
          "colorway": [
           "#636efa",
           "#EF553B",
           "#00cc96",
           "#ab63fa",
           "#FFA15A",
           "#19d3f3",
           "#FF6692",
           "#B6E880",
           "#FF97FF",
           "#FECB52"
          ],
          "font": {
           "color": "#2a3f5f"
          },
          "geo": {
           "bgcolor": "white",
           "lakecolor": "white",
           "landcolor": "#E5ECF6",
           "showlakes": true,
           "showland": true,
           "subunitcolor": "white"
          },
          "hoverlabel": {
           "align": "left"
          },
          "hovermode": "closest",
          "mapbox": {
           "style": "light"
          },
          "paper_bgcolor": "white",
          "plot_bgcolor": "#E5ECF6",
          "polar": {
           "angularaxis": {
            "gridcolor": "white",
            "linecolor": "white",
            "ticks": ""
           },
           "bgcolor": "#E5ECF6",
           "radialaxis": {
            "gridcolor": "white",
            "linecolor": "white",
            "ticks": ""
           }
          },
          "scene": {
           "xaxis": {
            "backgroundcolor": "#E5ECF6",
            "gridcolor": "white",
            "gridwidth": 2,
            "linecolor": "white",
            "showbackground": true,
            "ticks": "",
            "zerolinecolor": "white"
           },
           "yaxis": {
            "backgroundcolor": "#E5ECF6",
            "gridcolor": "white",
            "gridwidth": 2,
            "linecolor": "white",
            "showbackground": true,
            "ticks": "",
            "zerolinecolor": "white"
           },
           "zaxis": {
            "backgroundcolor": "#E5ECF6",
            "gridcolor": "white",
            "gridwidth": 2,
            "linecolor": "white",
            "showbackground": true,
            "ticks": "",
            "zerolinecolor": "white"
           }
          },
          "shapedefaults": {
           "line": {
            "color": "#2a3f5f"
           }
          },
          "ternary": {
           "aaxis": {
            "gridcolor": "white",
            "linecolor": "white",
            "ticks": ""
           },
           "baxis": {
            "gridcolor": "white",
            "linecolor": "white",
            "ticks": ""
           },
           "bgcolor": "#E5ECF6",
           "caxis": {
            "gridcolor": "white",
            "linecolor": "white",
            "ticks": ""
           }
          },
          "title": {
           "x": 0.05
          },
          "xaxis": {
           "automargin": true,
           "gridcolor": "white",
           "linecolor": "white",
           "ticks": "",
           "title": {
            "standoff": 15
           },
           "zerolinecolor": "white",
           "zerolinewidth": 2
          },
          "yaxis": {
           "automargin": true,
           "gridcolor": "white",
           "linecolor": "white",
           "ticks": "",
           "title": {
            "standoff": 15
           },
           "zerolinecolor": "white",
           "zerolinewidth": 2
          }
         }
        },
        "title": {
         "font": {
          "color": "black"
         },
         "text": "Subsidence"
        },
        "xaxis": {
         "gridcolor": "lightgrey",
         "gridwidth": 1,
         "linecolor": "black",
         "linewidth": 1,
         "showgrid": true,
         "showline": true,
         "title": {
          "text": "Month-Year"
         },
         "zeroline": true,
         "zerolinecolor": "lightgrey",
         "zerolinewidth": 1
        },
        "yaxis": {
         "gridcolor": "lightgrey",
         "gridwidth": 1,
         "linecolor": "black",
         "linewidth": 1,
         "showgrid": true,
         "showline": true,
         "title": {
          "text": "Subsidence"
         },
         "zeroline": true,
         "zerolinecolor": "lightgrey",
         "zerolinewidth": 1
        }
       }
      }
     },
     "metadata": {},
     "output_type": "display_data"
    }
   ],
   "source": [
    "# Plot (actual and predicted) for test (out of time) data\n",
    "fig = go.Figure()\n",
    "\n",
    "# #Trace for actual val\n",
    "# fig.add_trace(go.Scatter(x=np.array(test.columns),\n",
    "#                          y=np.array(test.values).flatten(),\n",
    "#                          mode='lines',\n",
    "#                          name='Subsidence - Actual (Test)',\n",
    "#                          opacity=0.8,\n",
    "#                          line=dict(color='black', width=1)\n",
    "#                         ))\n",
    "# fig.add_trace(go.Scatter(x=np.array(test.columns),\n",
    "#                          y=e,\n",
    "#                          mode='lines',\n",
    "#                          name='Subsidence - Actual (YTrain)',\n",
    "#                          opacity=0.8,\n",
    "#                          line=dict(color='pink', width=1)\n",
    "#                         ))\n",
    "\n",
    "fig.add_trace(go.Scatter(x=np.array(test.columns[10:]),\n",
    "                         y=c,\n",
    "                         mode='lines',\n",
    "                         name='Subsidence - Actual (YTest)',\n",
    "                         opacity=0.8,\n",
    "                         line=dict(color='grey', width=5)\n",
    "                        ))\n",
    "\n",
    "\n",
    "# Trace for predicted \n",
    "fig.add_trace(go.Scatter(x=np.array(test.columns[10:]),\n",
    "                         y=z,\n",
    "                         mode='lines',\n",
    "                         name='Subsidence - Predicted ',\n",
    "                         opacity=0.8,\n",
    "                         line=dict(color='red', width=5)\n",
    "                        ))\n",
    "\n",
    "# Change chart background color\n",
    "fig.update_layout(dict(plot_bgcolor = 'white'))\n",
    "\n",
    "# Update axes lines\n",
    "fig.update_xaxes(showgrid=True, gridwidth=1, gridcolor='lightgrey', \n",
    "                 zeroline=True, zerolinewidth=1, zerolinecolor='lightgrey', \n",
    "                 showline=True, linewidth=1, linecolor='black',\n",
    "                 title='Month-Year'\n",
    "                )\n",
    "\n",
    "fig.update_yaxes(showgrid=True, gridwidth=1, gridcolor='lightgrey', \n",
    "                 zeroline=True, zerolinewidth=1, zerolinecolor='lightgrey', \n",
    "                 showline=True, linewidth=1, linecolor='black',\n",
    "                 title='Subsidence'\n",
    "                )\n",
    "\n",
    "# Set figure title\n",
    "fig.update_layout(title=dict(text=\"Subsidence\", font=dict(color='black')),\n",
    "                  legend=dict(orientation=\"h\", yanchor=\"bottom\", y=1.02, xanchor=\"right\", x=1)\n",
    "                 )\n",
    "fig.show()"
   ]
  },
  {
   "cell_type": "markdown",
   "metadata": {},
   "source": []
  }
 ],
 "metadata": {
  "kernelspec": {
   "display_name": "Python 3.10.5 64-bit",
   "language": "python",
   "name": "python3"
  },
  "language_info": {
   "codemirror_mode": {
    "name": "ipython",
    "version": 3
   },
   "file_extension": ".py",
   "mimetype": "text/x-python",
   "name": "python",
   "nbconvert_exporter": "python",
   "pygments_lexer": "ipython3",
   "version": "3.10.5"
  },
  "orig_nbformat": 4,
  "vscode": {
   "interpreter": {
    "hash": "d3e10ef16274dd72e574b8fa73b58450b957d8421a2901baded3cca26fcf5dda"
   }
  }
 },
 "nbformat": 4,
 "nbformat_minor": 2
}
