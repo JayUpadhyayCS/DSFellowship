{
 "cells": [
  {
   "cell_type": "code",
   "execution_count": 16,
   "metadata": {},
   "outputs": [],
   "source": [
    "from os import walk\n",
    "import os\n",
    "\n",
    "\n",
    "mypath='InSAR_data_south\\displacement\\CSV'\n",
    "\n",
    "\n",
    "\n",
    "filenames = next(walk(mypath), (None, None, []))[2]  # [] if no file\n",
    "\n",
    "\n",
    "\n",
    "filenames.sort()\n",
    "\n",
    "frameSize = 5\n",
    "\n",
    "\n",
    "\n",
    "\n",
    "\n",
    "outputFiles = [open(\"file_{}.dat\".format(i),'w') for i in range (0, frameSize)]\n",
    "\n",
    "\n",
    "\n",
    "for i in range(0,len(filenames)-frameSize):\n",
    "\n",
    "        for r in range (0, frameSize):\n",
    "\n",
    "                outputFiles[r].write(filenames[i+r])\n",
    "\n",
    "                outputFiles[r].write(\"\\n\")\n",
    "\n",
    "\n",
    "\n",
    "for r in range (0, frameSize):\n",
    "\n",
    "        outputFiles[r].close()"
   ]
  },
  {
   "cell_type": "code",
   "execution_count": 17,
   "metadata": {},
   "outputs": [
    {
     "name": "stdout",
     "output_type": "stream",
     "text": [
      "['20141108.csv', '20141202.csv', '20141226.csv', '20150212.csv', '20150308.csv', '20150401.csv', '20150425.csv', '20150519.csv', '20150612.csv', '20150706.csv', '20150730.csv', '20150823.csv', '20150916.csv', '20151010.csv', '20151103.csv', '20151127.csv', '20151209.csv', '20151221.csv', '20160114.csv', '20160126.csv', '20160207.csv', '20160219.csv', '20160302.csv', '20160314.csv', '20160326.csv', '20160407.csv', '20160419.csv', '20160501.csv', '20160513.csv', '20160525.csv', '20160606.csv', '20160630.csv', '20160724.csv', '20160817.csv', '20160910.csv', '20160922.csv', '20161004.csv', '20161016.csv', '20161028.csv', '20161109.csv', '20161121.csv', '20161203.csv', '20161215.csv', '20161227.csv', '20170108.csv', '20170114.csv', '20170120.csv', '20170126.csv', '20170201.csv', '20170213.csv', '20170225.csv', '20170309.csv', '20170321.csv', '20170402.csv', '20170414.csv', '20170426.csv', '20170508.csv', '20170520.csv', '20170601.csv', '20170613.csv', '20170625.csv', '20170707.csv', '20170719.csv', '20170731.csv', '20170812.csv', '20170824.csv', '20170905.csv', '20170917.csv', '20170929.csv', '20171011.csv', '20171023.csv', '20171104.csv', '20171116.csv', '20171128.csv', '20171210.csv', '20171222.csv', '20180103.csv', '20180115.csv', '20180127.csv', '20180208.csv', '20180220.csv', '20180304.csv', '20180316.csv', '20180328.csv', '20180409.csv', '20180421.csv', '20180503.csv', '20180515.csv', '20180527.csv', '20180608.csv', '20180620.csv', '20180702.csv', '20180714.csv', '20180726.csv', '20180807.csv', '20180819.csv', '20180831.csv', '20180912.csv', '20180924.csv', '20181006.csv', '20181018.csv', '20181030.csv', '20181111.csv', '20181117.csv', '20181123.csv', '20181205.csv', '20181217.csv', '20181229.csv', '20190110.csv', '20190122.csv']\n"
     ]
    }
   ],
   "source": [
    "CSVpath=\"E:/DSFellowship/InSAR_data_south/displacement/CSV/\"\n",
    "dir_list=[]\n",
    "\n",
    "for f in os.listdir(CSVpath):\n",
    "    name, ext=os.path.splitext(f)\n",
    "    if(ext=='.csv'):\n",
    "        dir_list.append(f)\n",
    "\n",
    "dir_list.sort()\n",
    "print(dir_list)"
   ]
  },
  {
   "cell_type": "code",
   "execution_count": 18,
   "metadata": {},
   "outputs": [
    {
     "name": "stdout",
     "output_type": "stream",
     "text": [
      "105\n",
      "105\n",
      "105\n",
      "105\n"
     ]
    }
   ],
   "source": [
    "\n",
    "f = open(\"file_0.dat\", \"r\")\n",
    "x=0\n",
    "for line in f:\n",
    "   \n",
    "    #print(len(line))\n",
    "    #print(len(dir_list[x]))\n",
    "    if line.strip('\\n')!=dir_list[x]:\n",
    "        print(False)\n",
    "    x+=1\n",
    "x=1\n",
    "f.seek(0)\n",
    "print(len(f.readlines()))\n",
    "f = open(\"file_1.dat\", \"r\")\n",
    "for line in f:\n",
    "   \n",
    "    #print(len(line))\n",
    "    #print(len(dir_list[x]))\n",
    "    if line.strip()!=dir_list[x]:\n",
    "        print(False)\n",
    "    x+=1\n",
    "x=2    \n",
    "f.seek(0)\n",
    "print(len(f.readlines()))\n",
    "f = open(\"file_2.dat\", \"r\")\n",
    "for line in f:\n",
    "   \n",
    "    #print(len(line))\n",
    "    #print(len(dir_list[x]))\n",
    "    if line.strip()!=dir_list[x]:\n",
    "        print(False)\n",
    "    x+=1\n",
    "x=3    \n",
    "f.seek(0)\n",
    "print(len(f.readlines()))\n",
    "f = open(\"file_3.dat\", \"r\")\n",
    "for line in f:\n",
    "   \n",
    "    #print(len(line))\n",
    "    #print(len(dir_list[x]))\n",
    "    if line.strip()!=dir_list[x]:\n",
    "        print(False)\n",
    "    x+=1\n",
    "f.seek(0)\n",
    "print(len(f.readlines()))"
   ]
  }
 ],
 "metadata": {
  "kernelspec": {
   "display_name": "Python 3.7.0 ('venvLaptop': venv)",
   "language": "python",
   "name": "python3"
  },
  "language_info": {
   "codemirror_mode": {
    "name": "ipython",
    "version": 3
   },
   "file_extension": ".py",
   "mimetype": "text/x-python",
   "name": "python",
   "nbconvert_exporter": "python",
   "pygments_lexer": "ipython3",
   "version": "3.7.0"
  },
  "orig_nbformat": 4,
  "vscode": {
   "interpreter": {
    "hash": "1f919b64896236322ae524d281887e8a5ef11960f7dce763561cec2b323cd116"
   }
  }
 },
 "nbformat": 4,
 "nbformat_minor": 2
}
