{
 "cells": [
  {
   "cell_type": "code",
   "execution_count": 1,
   "metadata": {},
   "outputs": [
    {
     "name": "stderr",
     "output_type": "stream",
     "text": [
      "c:\\Python\\Python310\\lib\\site-packages\\requests\\__init__.py:109: RequestsDependencyWarning: urllib3 (1.26.9) or chardet (5.0.0)/charset_normalizer (2.0.12) doesn't match a supported version!\n",
      "  warnings.warn(\n"
     ]
    },
    {
     "name": "stdout",
     "output_type": "stream",
     "text": [
      "Tensorflow/Keras: 2.9.0\n",
      "pandas: 1.4.2\n",
      "numpy: 1.22.4\n",
      "sklearn: 1.1.1\n",
      "plotly: 5.9.0\n"
     ]
    }
   ],
   "source": [
    "# Tensorflow / Keras\n",
    "from tensorflow import keras # for building Neural Networks\n",
    "print('Tensorflow/Keras: %s' % keras.__version__) # print version\n",
    "from keras.models import Sequential # for creating a linear stack of layers for our Neural Network\n",
    "from keras import Input # for instantiating a keras tensor\n",
    "from keras.layers import Masking,Bidirectional, LSTM, RepeatVector, Dense, TimeDistributed,MaxPooling1D, Flatten, Conv1D,Conv2D,Dropout, MaxPooling2D, GRU, ConvLSTM2D, ConvLSTM1D # for creating layers inside the Neural Network\n",
    "from keras.optimizers import Adam , SGD\n",
    "from keras import metrics\n",
    "from keras.utils import plot_model\n",
    "# Data manipulation\n",
    "import pandas as pd # for data manipulation\n",
    "print('pandas: %s' % pd.__version__) # print version\n",
    "import numpy as np # for data manipulation\n",
    "print('numpy: %s' % np.__version__) # print version\n",
    "import numpy.ma as ma\n",
    "# Sklearn\n",
    "import sklearn\n",
    "print('sklearn: %s' % sklearn.__version__) # print version\n",
    "from sklearn.preprocessing import MinMaxScaler # for feature scaling\n",
    "from sklearn.model_selection import train_test_split\n",
    "# Visualization\n",
    "import plotly \n",
    "import plotly.express as px\n",
    "import plotly.graph_objects as go\n",
    "print('plotly: %s' % plotly.__version__) # print version\n",
    "from matplotlib import pyplot as plt\n",
    "\n",
    "#file accessing\n",
    "import os\n",
    "# time stuff\n",
    "from datetime import timedelta\n",
    "import calendar\n"
   ]
  },
  {
   "cell_type": "code",
   "execution_count": 2,
   "metadata": {},
   "outputs": [
    {
     "name": "stdout",
     "output_type": "stream",
     "text": [
      "Defined the plot_the_model and plot_the_loss_curve functions.\n"
     ]
    }
   ],
   "source": [
    "#@title Define the plotting functions\n",
    "def plot_the_model(trained_weight, trained_bias, feature, label):\n",
    "  \"\"\"Plot the trained model against the training feature and label.\"\"\"\n",
    "\n",
    "  # Label the axes.\n",
    "  plt.xlabel(\"feature\")\n",
    "  plt.ylabel(\"label\")\n",
    "\n",
    "  # Plot the feature values vs. label values.\n",
    "  plt.scatter(feature, label)\n",
    "\n",
    "  # Create a red line representing the model. The red line starts\n",
    "  # at coordinates (x0, y0) and ends at coordinates (x1, y1).\n",
    "  x0 = 0\n",
    "  y0 = trained_bias\n",
    "  x1 = feature[-1]\n",
    "  y1 = trained_bias + (trained_weight * x1)\n",
    "  plt.plot([x0, x1], [y0, y1], c='r')\n",
    "\n",
    "  # Render the scatter plot and the red line.\n",
    "  plt.show()\n",
    "\n",
    "def plot_the_loss_curve(epochs, rmse):\n",
    "  \"\"\"Plot the loss curve, which shows loss vs. epoch.\"\"\"\n",
    "\n",
    "  plt.figure()\n",
    "  plt.xlabel(\"Epoch\")\n",
    "  plt.ylabel(\"Root Mean Squared Error\")\n",
    "  #epochs.remove(max(epochs))\n",
    "  \n",
    "  #rmse.drop(max(rmse))\n",
    "  plt.plot(epochs, rmse, label=\"Loss\")\n",
    "  plt.legend()\n",
    "  plt.ylim([min(rmse)*0.97, max(rmse)])\n",
    "  plt.show()\n",
    "\n",
    "print(\"Defined the plot_the_model and plot_the_loss_curve functions.\")"
   ]
  },
  {
   "cell_type": "markdown",
   "metadata": {},
   "source": [
    "##### Read from file and establish dataframe and future functions"
   ]
  },
  {
   "cell_type": "code",
   "execution_count": 3,
   "metadata": {},
   "outputs": [
    {
     "data": {
      "text/html": [
       "<div>\n",
       "<style scoped>\n",
       "    .dataframe tbody tr th:only-of-type {\n",
       "        vertical-align: middle;\n",
       "    }\n",
       "\n",
       "    .dataframe tbody tr th {\n",
       "        vertical-align: top;\n",
       "    }\n",
       "\n",
       "    .dataframe thead th {\n",
       "        text-align: right;\n",
       "    }\n",
       "</style>\n",
       "<table border=\"1\" class=\"dataframe\">\n",
       "  <thead>\n",
       "    <tr style=\"text-align: right;\">\n",
       "      <th></th>\n",
       "      <th></th>\n",
       "      <th>2014-11-08</th>\n",
       "      <th>2014-12-02</th>\n",
       "      <th>2014-12-26</th>\n",
       "      <th>2015-02-12</th>\n",
       "      <th>2015-03-08</th>\n",
       "      <th>2015-04-01</th>\n",
       "      <th>2015-04-25</th>\n",
       "      <th>2015-05-19</th>\n",
       "      <th>2015-06-12</th>\n",
       "      <th>2015-07-06</th>\n",
       "      <th>...</th>\n",
       "      <th>2018-10-18</th>\n",
       "      <th>2018-10-30</th>\n",
       "      <th>2018-11-11</th>\n",
       "      <th>2018-11-17</th>\n",
       "      <th>2018-11-23</th>\n",
       "      <th>2018-12-05</th>\n",
       "      <th>2018-12-17</th>\n",
       "      <th>2018-12-29</th>\n",
       "      <th>2019-01-10</th>\n",
       "      <th>2019-01-22</th>\n",
       "    </tr>\n",
       "    <tr>\n",
       "      <th>Longitude</th>\n",
       "      <th>Latitude</th>\n",
       "      <th></th>\n",
       "      <th></th>\n",
       "      <th></th>\n",
       "      <th></th>\n",
       "      <th></th>\n",
       "      <th></th>\n",
       "      <th></th>\n",
       "      <th></th>\n",
       "      <th></th>\n",
       "      <th></th>\n",
       "      <th></th>\n",
       "      <th></th>\n",
       "      <th></th>\n",
       "      <th></th>\n",
       "      <th></th>\n",
       "      <th></th>\n",
       "      <th></th>\n",
       "      <th></th>\n",
       "      <th></th>\n",
       "      <th></th>\n",
       "      <th></th>\n",
       "    </tr>\n",
       "  </thead>\n",
       "  <tbody>\n",
       "    <tr>\n",
       "      <th>-119.499</th>\n",
       "      <th>35.8811</th>\n",
       "      <td>0.0</td>\n",
       "      <td>-5.1976</td>\n",
       "      <td>0.002910</td>\n",
       "      <td>-0.87038</td>\n",
       "      <td>-2.83100</td>\n",
       "      <td>-0.17624</td>\n",
       "      <td>-2.49600</td>\n",
       "      <td>-2.5998</td>\n",
       "      <td>-4.2793</td>\n",
       "      <td>-2.6121</td>\n",
       "      <td>...</td>\n",
       "      <td>-17.6270</td>\n",
       "      <td>-17.6170</td>\n",
       "      <td>-17.7090</td>\n",
       "      <td>-17.2970</td>\n",
       "      <td>-18.4290</td>\n",
       "      <td>-18.4740</td>\n",
       "      <td>-16.76100</td>\n",
       "      <td>-17.3360</td>\n",
       "      <td>-18.36200</td>\n",
       "      <td>-18.0470</td>\n",
       "    </tr>\n",
       "    <tr>\n",
       "      <th>-119.489</th>\n",
       "      <th>36.0692</th>\n",
       "      <td>0.0</td>\n",
       "      <td>-6.1830</td>\n",
       "      <td>-2.290800</td>\n",
       "      <td>-6.39680</td>\n",
       "      <td>-10.11400</td>\n",
       "      <td>-9.55530</td>\n",
       "      <td>-13.43600</td>\n",
       "      <td>-15.6880</td>\n",
       "      <td>-19.0580</td>\n",
       "      <td>-20.1470</td>\n",
       "      <td>...</td>\n",
       "      <td>-78.8950</td>\n",
       "      <td>-79.7530</td>\n",
       "      <td>-80.0230</td>\n",
       "      <td>-79.5920</td>\n",
       "      <td>-81.3310</td>\n",
       "      <td>-80.0170</td>\n",
       "      <td>-79.62900</td>\n",
       "      <td>-80.7130</td>\n",
       "      <td>-81.28900</td>\n",
       "      <td>-80.7730</td>\n",
       "    </tr>\n",
       "    <tr>\n",
       "      <th>-119.485</th>\n",
       "      <th>35.9212</th>\n",
       "      <td>0.0</td>\n",
       "      <td>-5.4226</td>\n",
       "      <td>-0.099413</td>\n",
       "      <td>-0.40273</td>\n",
       "      <td>-3.26670</td>\n",
       "      <td>-0.75501</td>\n",
       "      <td>-3.53220</td>\n",
       "      <td>-4.0610</td>\n",
       "      <td>-5.8979</td>\n",
       "      <td>-5.0366</td>\n",
       "      <td>...</td>\n",
       "      <td>-31.0530</td>\n",
       "      <td>-30.7590</td>\n",
       "      <td>-31.1280</td>\n",
       "      <td>-30.6970</td>\n",
       "      <td>-32.0480</td>\n",
       "      <td>-31.8140</td>\n",
       "      <td>-30.57200</td>\n",
       "      <td>-30.6870</td>\n",
       "      <td>-31.96400</td>\n",
       "      <td>-31.6260</td>\n",
       "    </tr>\n",
       "    <tr>\n",
       "      <th rowspan=\"2\" valign=\"top\">-119.483</th>\n",
       "      <th>35.8892</th>\n",
       "      <td>0.0</td>\n",
       "      <td>-5.2906</td>\n",
       "      <td>0.279230</td>\n",
       "      <td>-0.61004</td>\n",
       "      <td>-2.88080</td>\n",
       "      <td>-0.36279</td>\n",
       "      <td>-3.06800</td>\n",
       "      <td>-3.6082</td>\n",
       "      <td>-5.4421</td>\n",
       "      <td>-3.9762</td>\n",
       "      <td>...</td>\n",
       "      <td>-23.4700</td>\n",
       "      <td>-23.4350</td>\n",
       "      <td>-23.5610</td>\n",
       "      <td>-23.1400</td>\n",
       "      <td>-24.2660</td>\n",
       "      <td>-24.3520</td>\n",
       "      <td>-22.87600</td>\n",
       "      <td>-23.1950</td>\n",
       "      <td>-24.14200</td>\n",
       "      <td>-23.9220</td>\n",
       "    </tr>\n",
       "    <tr>\n",
       "      <th>36.0872</th>\n",
       "      <td>0.0</td>\n",
       "      <td>-5.6696</td>\n",
       "      <td>-2.353800</td>\n",
       "      <td>-5.54400</td>\n",
       "      <td>-9.14370</td>\n",
       "      <td>-8.62340</td>\n",
       "      <td>-11.66000</td>\n",
       "      <td>-13.6640</td>\n",
       "      <td>-16.5320</td>\n",
       "      <td>-17.6760</td>\n",
       "      <td>...</td>\n",
       "      <td>-67.3870</td>\n",
       "      <td>-68.5080</td>\n",
       "      <td>-68.7930</td>\n",
       "      <td>-68.4550</td>\n",
       "      <td>-69.9330</td>\n",
       "      <td>-68.9950</td>\n",
       "      <td>-68.53700</td>\n",
       "      <td>-69.6780</td>\n",
       "      <td>-70.31600</td>\n",
       "      <td>-70.0430</td>\n",
       "    </tr>\n",
       "    <tr>\n",
       "      <th>...</th>\n",
       "      <th>...</th>\n",
       "      <td>...</td>\n",
       "      <td>...</td>\n",
       "      <td>...</td>\n",
       "      <td>...</td>\n",
       "      <td>...</td>\n",
       "      <td>...</td>\n",
       "      <td>...</td>\n",
       "      <td>...</td>\n",
       "      <td>...</td>\n",
       "      <td>...</td>\n",
       "      <td>...</td>\n",
       "      <td>...</td>\n",
       "      <td>...</td>\n",
       "      <td>...</td>\n",
       "      <td>...</td>\n",
       "      <td>...</td>\n",
       "      <td>...</td>\n",
       "      <td>...</td>\n",
       "      <td>...</td>\n",
       "      <td>...</td>\n",
       "      <td>...</td>\n",
       "    </tr>\n",
       "    <tr>\n",
       "      <th rowspan=\"2\" valign=\"top\">-119.203</th>\n",
       "      <th>35.9012</th>\n",
       "      <td>0.0</td>\n",
       "      <td>-2.1813</td>\n",
       "      <td>0.146740</td>\n",
       "      <td>-0.82776</td>\n",
       "      <td>-1.59590</td>\n",
       "      <td>-1.49870</td>\n",
       "      <td>-3.26190</td>\n",
       "      <td>-6.0670</td>\n",
       "      <td>-8.1696</td>\n",
       "      <td>-10.1180</td>\n",
       "      <td>...</td>\n",
       "      <td>-38.7620</td>\n",
       "      <td>-38.4330</td>\n",
       "      <td>-38.3710</td>\n",
       "      <td>-38.2510</td>\n",
       "      <td>-38.7200</td>\n",
       "      <td>-37.9590</td>\n",
       "      <td>-37.25500</td>\n",
       "      <td>-36.5580</td>\n",
       "      <td>-38.14000</td>\n",
       "      <td>-37.5610</td>\n",
       "    </tr>\n",
       "    <tr>\n",
       "      <th>36.0172</th>\n",
       "      <td>0.0</td>\n",
       "      <td>-1.7840</td>\n",
       "      <td>-0.788450</td>\n",
       "      <td>-2.57420</td>\n",
       "      <td>-3.52040</td>\n",
       "      <td>-3.68770</td>\n",
       "      <td>-4.21260</td>\n",
       "      <td>-6.5993</td>\n",
       "      <td>-7.5372</td>\n",
       "      <td>-8.5782</td>\n",
       "      <td>...</td>\n",
       "      <td>-47.9900</td>\n",
       "      <td>-47.8310</td>\n",
       "      <td>-48.3430</td>\n",
       "      <td>-47.9480</td>\n",
       "      <td>-48.8440</td>\n",
       "      <td>-48.2160</td>\n",
       "      <td>-47.15700</td>\n",
       "      <td>-47.2200</td>\n",
       "      <td>-48.50500</td>\n",
       "      <td>-48.1470</td>\n",
       "    </tr>\n",
       "    <tr>\n",
       "      <th rowspan=\"3\" valign=\"top\">-119.201</th>\n",
       "      <th>35.6711</th>\n",
       "      <td>0.0</td>\n",
       "      <td>-2.6897</td>\n",
       "      <td>1.140600</td>\n",
       "      <td>0.90695</td>\n",
       "      <td>-0.61151</td>\n",
       "      <td>0.80867</td>\n",
       "      <td>-0.32340</td>\n",
       "      <td>-2.2987</td>\n",
       "      <td>-1.2513</td>\n",
       "      <td>-1.8454</td>\n",
       "      <td>...</td>\n",
       "      <td>-4.7416</td>\n",
       "      <td>-4.6556</td>\n",
       "      <td>-4.0714</td>\n",
       "      <td>-3.9347</td>\n",
       "      <td>-4.4595</td>\n",
       "      <td>-4.7927</td>\n",
       "      <td>-2.95600</td>\n",
       "      <td>-1.6601</td>\n",
       "      <td>-3.92980</td>\n",
       "      <td>-3.9770</td>\n",
       "    </tr>\n",
       "    <tr>\n",
       "      <th>35.7871</th>\n",
       "      <td>0.0</td>\n",
       "      <td>-1.7958</td>\n",
       "      <td>1.223100</td>\n",
       "      <td>0.80434</td>\n",
       "      <td>0.31989</td>\n",
       "      <td>1.70730</td>\n",
       "      <td>-0.31014</td>\n",
       "      <td>-1.8259</td>\n",
       "      <td>-1.9427</td>\n",
       "      <td>-2.3615</td>\n",
       "      <td>...</td>\n",
       "      <td>-2.0354</td>\n",
       "      <td>-1.7464</td>\n",
       "      <td>-1.1589</td>\n",
       "      <td>-1.1395</td>\n",
       "      <td>-1.4032</td>\n",
       "      <td>-1.1742</td>\n",
       "      <td>0.15527</td>\n",
       "      <td>1.2908</td>\n",
       "      <td>-0.83239</td>\n",
       "      <td>-0.4049</td>\n",
       "    </tr>\n",
       "    <tr>\n",
       "      <th>35.9852</th>\n",
       "      <td>0.0</td>\n",
       "      <td>-1.0605</td>\n",
       "      <td>0.267720</td>\n",
       "      <td>-1.71080</td>\n",
       "      <td>-2.86360</td>\n",
       "      <td>-3.68310</td>\n",
       "      <td>-4.51400</td>\n",
       "      <td>-7.3040</td>\n",
       "      <td>-6.9339</td>\n",
       "      <td>-9.2966</td>\n",
       "      <td>...</td>\n",
       "      <td>-53.8070</td>\n",
       "      <td>-53.2410</td>\n",
       "      <td>-52.9380</td>\n",
       "      <td>-52.6810</td>\n",
       "      <td>-53.5040</td>\n",
       "      <td>-52.6110</td>\n",
       "      <td>-51.69500</td>\n",
       "      <td>-51.3920</td>\n",
       "      <td>-52.83100</td>\n",
       "      <td>-52.7880</td>\n",
       "    </tr>\n",
       "  </tbody>\n",
       "</table>\n",
       "<p>237 rows × 110 columns</p>\n",
       "</div>"
      ],
      "text/plain": [
       "                    2014-11-08  2014-12-02  2014-12-26  2015-02-12  \\\n",
       "Longitude Latitude                                                   \n",
       "-119.499  35.8811          0.0     -5.1976    0.002910    -0.87038   \n",
       "-119.489  36.0692          0.0     -6.1830   -2.290800    -6.39680   \n",
       "-119.485  35.9212          0.0     -5.4226   -0.099413    -0.40273   \n",
       "-119.483  35.8892          0.0     -5.2906    0.279230    -0.61004   \n",
       "          36.0872          0.0     -5.6696   -2.353800    -5.54400   \n",
       "...                        ...         ...         ...         ...   \n",
       "-119.203  35.9012          0.0     -2.1813    0.146740    -0.82776   \n",
       "          36.0172          0.0     -1.7840   -0.788450    -2.57420   \n",
       "-119.201  35.6711          0.0     -2.6897    1.140600     0.90695   \n",
       "          35.7871          0.0     -1.7958    1.223100     0.80434   \n",
       "          35.9852          0.0     -1.0605    0.267720    -1.71080   \n",
       "\n",
       "                    2015-03-08  2015-04-01  2015-04-25  2015-05-19  \\\n",
       "Longitude Latitude                                                   \n",
       "-119.499  35.8811     -2.83100    -0.17624    -2.49600     -2.5998   \n",
       "-119.489  36.0692    -10.11400    -9.55530   -13.43600    -15.6880   \n",
       "-119.485  35.9212     -3.26670    -0.75501    -3.53220     -4.0610   \n",
       "-119.483  35.8892     -2.88080    -0.36279    -3.06800     -3.6082   \n",
       "          36.0872     -9.14370    -8.62340   -11.66000    -13.6640   \n",
       "...                        ...         ...         ...         ...   \n",
       "-119.203  35.9012     -1.59590    -1.49870    -3.26190     -6.0670   \n",
       "          36.0172     -3.52040    -3.68770    -4.21260     -6.5993   \n",
       "-119.201  35.6711     -0.61151     0.80867    -0.32340     -2.2987   \n",
       "          35.7871      0.31989     1.70730    -0.31014     -1.8259   \n",
       "          35.9852     -2.86360    -3.68310    -4.51400     -7.3040   \n",
       "\n",
       "                    2015-06-12  2015-07-06  ...  2018-10-18  2018-10-30  \\\n",
       "Longitude Latitude                          ...                           \n",
       "-119.499  35.8811      -4.2793     -2.6121  ...    -17.6270    -17.6170   \n",
       "-119.489  36.0692     -19.0580    -20.1470  ...    -78.8950    -79.7530   \n",
       "-119.485  35.9212      -5.8979     -5.0366  ...    -31.0530    -30.7590   \n",
       "-119.483  35.8892      -5.4421     -3.9762  ...    -23.4700    -23.4350   \n",
       "          36.0872     -16.5320    -17.6760  ...    -67.3870    -68.5080   \n",
       "...                        ...         ...  ...         ...         ...   \n",
       "-119.203  35.9012      -8.1696    -10.1180  ...    -38.7620    -38.4330   \n",
       "          36.0172      -7.5372     -8.5782  ...    -47.9900    -47.8310   \n",
       "-119.201  35.6711      -1.2513     -1.8454  ...     -4.7416     -4.6556   \n",
       "          35.7871      -1.9427     -2.3615  ...     -2.0354     -1.7464   \n",
       "          35.9852      -6.9339     -9.2966  ...    -53.8070    -53.2410   \n",
       "\n",
       "                    2018-11-11  2018-11-17  2018-11-23  2018-12-05  \\\n",
       "Longitude Latitude                                                   \n",
       "-119.499  35.8811     -17.7090    -17.2970    -18.4290    -18.4740   \n",
       "-119.489  36.0692     -80.0230    -79.5920    -81.3310    -80.0170   \n",
       "-119.485  35.9212     -31.1280    -30.6970    -32.0480    -31.8140   \n",
       "-119.483  35.8892     -23.5610    -23.1400    -24.2660    -24.3520   \n",
       "          36.0872     -68.7930    -68.4550    -69.9330    -68.9950   \n",
       "...                        ...         ...         ...         ...   \n",
       "-119.203  35.9012     -38.3710    -38.2510    -38.7200    -37.9590   \n",
       "          36.0172     -48.3430    -47.9480    -48.8440    -48.2160   \n",
       "-119.201  35.6711      -4.0714     -3.9347     -4.4595     -4.7927   \n",
       "          35.7871      -1.1589     -1.1395     -1.4032     -1.1742   \n",
       "          35.9852     -52.9380    -52.6810    -53.5040    -52.6110   \n",
       "\n",
       "                    2018-12-17  2018-12-29  2019-01-10  2019-01-22  \n",
       "Longitude Latitude                                                  \n",
       "-119.499  35.8811    -16.76100    -17.3360   -18.36200    -18.0470  \n",
       "-119.489  36.0692    -79.62900    -80.7130   -81.28900    -80.7730  \n",
       "-119.485  35.9212    -30.57200    -30.6870   -31.96400    -31.6260  \n",
       "-119.483  35.8892    -22.87600    -23.1950   -24.14200    -23.9220  \n",
       "          36.0872    -68.53700    -69.6780   -70.31600    -70.0430  \n",
       "...                        ...         ...         ...         ...  \n",
       "-119.203  35.9012    -37.25500    -36.5580   -38.14000    -37.5610  \n",
       "          36.0172    -47.15700    -47.2200   -48.50500    -48.1470  \n",
       "-119.201  35.6711     -2.95600     -1.6601    -3.92980     -3.9770  \n",
       "          35.7871      0.15527      1.2908    -0.83239     -0.4049  \n",
       "          35.9852    -51.69500    -51.3920   -52.83100    -52.7880  \n",
       "\n",
       "[237 rows x 110 columns]"
      ]
     },
     "execution_count": 3,
     "metadata": {},
     "output_type": "execute_result"
    }
   ],
   "source": [
    "df=pd.read_csv('InSAR_data_south/displacement/traintestset3.csv')\n",
    "df=df.set_index([df.columns[0],df.columns[1]])\n",
    "df.columns=pd.to_datetime(df.columns, format='%Y-%m-%d')\n",
    "df=df.dropna(axis=0, how='all')#drop full nan rows\n",
    "df"
   ]
  },
  {
   "cell_type": "markdown",
   "metadata": {},
   "source": [
    "##### Remove next line to include all data"
   ]
  },
  {
   "cell_type": "markdown",
   "metadata": {},
   "source": [
    "# Timestep"
   ]
  },
  {
   "cell_type": "code",
   "execution_count": 4,
   "metadata": {},
   "outputs": [],
   "source": [
    "timestep=10\n",
    "# 1 2 3 4 5 6 7 ...\n",
    "# w/ timestep of 2\n",
    "# [[1,2][2,3][3,4]"
   ]
  },
  {
   "cell_type": "markdown",
   "metadata": {},
   "source": [
    "# Shaping function (remove start and step for first for loop to include all data)"
   ]
  },
  {
   "cell_type": "code",
   "execution_count": 5,
   "metadata": {},
   "outputs": [],
   "source": [
    "def shaping(datain, timestep):\n",
    "    #print(arr)\n",
    "    cnt=0\n",
    "    for row in range(len(datain.index)): #picks a row at every iteration, allows to reduction of input and inclusion of multiple time series, remove start and step to run on full dataset \n",
    "    # Convert input dataframe to array and flatten\n",
    "        #datain.iloc[row].fillna(datain.iloc[row].mean).to_numpy().flatten()\n",
    "        arr=datain.iloc[row].interpolate().to_numpy().flatten() # flatten row\n",
    "        #arr=arr.fillna(arr.mean)\n",
    "        #arr=np.where(np.isnan(arr), ma.array(arr, mask=np.isnan(arr)).mean(), arr) \n",
    "        for mth in range(0, len(datain.columns)-(2*timestep)+1): # Define range lenght of the dates - 2* amount of timesep?? +1\n",
    "            cnt=cnt+1 # Gives us the number of samples. Later used to reshape the data\n",
    "            X_start=mth # Start month for inputs of each sample\n",
    "            X_end=mth+timestep # End month for inputs of each sample\n",
    "            Y_start=mth+timestep # Start month for targets of each sample. Note, start is inclusive and end is exclusive, that's why X_end and Y_start is the same number\n",
    "            Y_end=mth+2*timestep # End month for targets of each sample.  \n",
    "            \n",
    "            # Assemble input and target arrays containing all samples\n",
    "            if cnt==1:\n",
    "                X_comb=arr[X_start:X_end]\n",
    "                Y_comb=arr[Y_start:Y_end]\n",
    "            else: \n",
    "                X_comb=np.append(X_comb, arr[X_start:X_end])\n",
    "                Y_comb=np.append(Y_comb, arr[Y_start:Y_end])\n",
    "    # Reshape input and target arrays\n",
    "    X_out=np.reshape(X_comb, (cnt, timestep, 1))\n",
    "    Y_out=np.reshape(Y_comb, (cnt, timestep, 1))\n",
    "    return X_out, Y_out"
   ]
  },
  {
   "cell_type": "markdown",
   "metadata": {},
   "source": [
    "##### Step 2 - Split and Shape data"
   ]
  },
  {
   "cell_type": "code",
   "execution_count": 6,
   "metadata": {},
   "outputs": [],
   "source": [
    "#Divides data into 80% training 20% testing\n",
    "#train, test = train_test_split(df, test_size=0.2)\n",
    "# creates sequences to train\n",
    "# X , Y = shaping(datain=df, timestep= timestep )\n",
    "# X_train, X_test, Y_train, Y_test = train_test_split(X,Y , test_size=0.2, random_state=28)\n",
    "# nsamples, nx, ny = X_train.shape\n",
    "# X_train = X_train.reshape((nsamples,nx*ny))\n",
    "# nsamples, nx, ny = Y_train.shape\n",
    "# Y_train = Y_train.reshape((nsamples,nx*ny))\n",
    "# nsamples, nx, ny = X_test.shape\n",
    "# X_test = X_test.reshape((nsamples,nx*ny))\n",
    "# nsamples, nx, ny = Y_test.shape\n",
    "# Y_test = Y_test.reshape((nsamples,nx*ny))\n",
    "#Divides data into 80% training 20% testing\n",
    "\n",
    "train, test = train_test_split(df, test_size=0.2, random_state=63, shuffle=True)\n",
    "# creates sequences to train\n",
    "X_train, Y_train = shaping(datain=train, timestep= timestep )\n",
    "X_test, Y_test = shaping(datain=test, timestep=timestep)\n"
   ]
  },
  {
   "cell_type": "code",
   "execution_count": 7,
   "metadata": {},
   "outputs": [],
   "source": [
    "# scaler = MinMaxScaler()\n",
    "# scaler2 = MinMaxScaler()\n",
    "# X_train = scaler.fit_transform(X_train.reshape(-1, X_train.shape[-1])).reshape(X_train.shape)\n",
    "# X_test = scaler.transform(X_test.reshape(-1, X_test.shape[-1])).reshape(X_test.shape)\n",
    "# Y_train = scaler2.fit_transform(Y_train.reshape(-1, Y_train.shape[-1])).reshape(Y_train.shape)\n",
    "# Y_test = scaler.transform(Y_test.reshape(-1, Y_test.shape[-1])).reshape(Y_test.shape)\n"
   ]
  },
  {
   "cell_type": "markdown",
   "metadata": {},
   "source": [
    "##### Step 3 - Specify the structure of a Neural Network, first model"
   ]
  },
  {
   "cell_type": "code",
   "execution_count": 8,
   "metadata": {},
   "outputs": [],
   "source": [
    "model2 = Sequential(name=\"LSTM-Model\") # Model\n",
    "#model2.add(Masking(mask_value=-1000, input_shape=(timestep, 1)))\n",
    "\n",
    "model2.add(Input(shape=(X_train.shape[1],X_train.shape[2]), name='Input-Layer')) # Input Layer - need to speicfy the shape of inputs\n",
    "model2.add(GRU(units=64, activation='relu', recurrent_activation='sigmoid', stateful=False, return_sequences=True)) \n",
    "model2.add(TimeDistributed(Dense(units=1, activation='linear'), name='Output-Layer')) # Output Layer, Linear(x) = x\n",
    "#optimizer=Adam(.005)\n",
    "model2.compile(optimizer='adam', # default='rmsprop', an algorithm to be used in backpropagation\n",
    "              loss='mean_squared_error', # Loss function to be optimized. A string (name of loss function), or a tf.keras.losses.Loss instance.\n",
    "              metrics=['MeanSquaredError', 'accuracy'], # List of metrics to be evaluated by the model during training and testing. Each of this can be a string (name of a built-in function), function or a tf.keras.metrics.Metric instance. \n",
    "              loss_weights=None, # default=None, Optional list or dictionary specifying scalar coefficients (Python floats) to weight the loss contributions of different model outputs.\n",
    "              weighted_metrics=None, # default=None, List of metrics to be evaluated and weighted by sample_weight or class_weight during training and testing.\n",
    "              run_eagerly=None, # Defaults to False. If True, this Model's logic will not be wrapped in a tf.function. Recommended to leave this as None unless your Model cannot be run inside a tf.function.\n",
    "              steps_per_execution=None # Defaults to 1. The number of batches to run during each tf.function call. Running multiple batches inside a single tf.function call can greatly improve performance on TPUs or small models with a large Python overhead.\n",
    "        \n",
    "             )"
   ]
  },
  {
   "cell_type": "code",
   "execution_count": 9,
   "metadata": {},
   "outputs": [],
   "source": [
    "##### Train model"
   ]
  },
  {
   "cell_type": "code",
   "execution_count": 10,
   "metadata": {},
   "outputs": [
    {
     "name": "stdout",
     "output_type": "stream",
     "text": [
      "Epoch 1/50\n",
      "3440/3440 - 17s - loss: 33.5208 - mean_squared_error: 33.5207 - accuracy: 0.0000e+00 - 17s/epoch - 5ms/step\n",
      "Epoch 2/50\n",
      "3440/3440 - 16s - loss: 21.2962 - mean_squared_error: 21.2963 - accuracy: 0.0000e+00 - 16s/epoch - 5ms/step\n",
      "Epoch 3/50\n",
      "3440/3440 - 15s - loss: 20.6702 - mean_squared_error: 20.6702 - accuracy: 0.0000e+00 - 15s/epoch - 4ms/step\n",
      "Epoch 4/50\n",
      "3440/3440 - 16s - loss: 20.0617 - mean_squared_error: 20.0618 - accuracy: 0.0000e+00 - 16s/epoch - 5ms/step\n",
      "Epoch 5/50\n",
      "3440/3440 - 16s - loss: 19.4927 - mean_squared_error: 19.4927 - accuracy: 0.0000e+00 - 16s/epoch - 5ms/step\n",
      "Epoch 6/50\n",
      "3440/3440 - 15s - loss: 19.7908 - mean_squared_error: 19.7908 - accuracy: 0.0000e+00 - 15s/epoch - 4ms/step\n",
      "Epoch 7/50\n",
      "3440/3440 - 15s - loss: 18.6508 - mean_squared_error: 18.6508 - accuracy: 0.0000e+00 - 15s/epoch - 4ms/step\n",
      "Epoch 8/50\n",
      "3440/3440 - 16s - loss: 19.0389 - mean_squared_error: 19.0389 - accuracy: 0.0000e+00 - 16s/epoch - 5ms/step\n",
      "Epoch 9/50\n",
      "3440/3440 - 15s - loss: 17.6327 - mean_squared_error: 17.6327 - accuracy: 0.0000e+00 - 15s/epoch - 4ms/step\n",
      "Epoch 10/50\n",
      "3440/3440 - 15s - loss: 16.8300 - mean_squared_error: 16.8299 - accuracy: 0.0000e+00 - 15s/epoch - 4ms/step\n",
      "Epoch 11/50\n",
      "3440/3440 - 15s - loss: 16.3672 - mean_squared_error: 16.3672 - accuracy: 0.0000e+00 - 15s/epoch - 4ms/step\n",
      "Epoch 12/50\n",
      "3440/3440 - 16s - loss: 16.0089 - mean_squared_error: 16.0089 - accuracy: 0.0000e+00 - 16s/epoch - 5ms/step\n",
      "Epoch 13/50\n",
      "3440/3440 - 16s - loss: 15.6244 - mean_squared_error: 15.6245 - accuracy: 0.0000e+00 - 16s/epoch - 5ms/step\n",
      "Epoch 14/50\n",
      "3440/3440 - 16s - loss: 15.4236 - mean_squared_error: 15.4236 - accuracy: 0.0000e+00 - 16s/epoch - 5ms/step\n",
      "Epoch 15/50\n",
      "3440/3440 - 17s - loss: 15.1635 - mean_squared_error: 15.1635 - accuracy: 0.0000e+00 - 17s/epoch - 5ms/step\n",
      "Epoch 16/50\n",
      "3440/3440 - 17s - loss: 15.0462 - mean_squared_error: 15.0461 - accuracy: 0.0000e+00 - 17s/epoch - 5ms/step\n",
      "Epoch 17/50\n",
      "3440/3440 - 17s - loss: 14.8166 - mean_squared_error: 14.8166 - accuracy: 0.0000e+00 - 17s/epoch - 5ms/step\n",
      "Epoch 18/50\n",
      "3440/3440 - 17s - loss: 14.6603 - mean_squared_error: 14.6603 - accuracy: 0.0000e+00 - 17s/epoch - 5ms/step\n",
      "Epoch 19/50\n",
      "3440/3440 - 17s - loss: 14.6230 - mean_squared_error: 14.6230 - accuracy: 0.0000e+00 - 17s/epoch - 5ms/step\n",
      "Epoch 20/50\n",
      "3440/3440 - 17s - loss: 14.4522 - mean_squared_error: 14.4521 - accuracy: 0.0000e+00 - 17s/epoch - 5ms/step\n",
      "Epoch 21/50\n",
      "3440/3440 - 17s - loss: 14.3798 - mean_squared_error: 14.3798 - accuracy: 0.0000e+00 - 17s/epoch - 5ms/step\n",
      "Epoch 22/50\n",
      "3440/3440 - 17s - loss: 14.1637 - mean_squared_error: 14.1637 - accuracy: 0.0000e+00 - 17s/epoch - 5ms/step\n",
      "Epoch 23/50\n",
      "3440/3440 - 17s - loss: 14.2949 - mean_squared_error: 14.2950 - accuracy: 0.0000e+00 - 17s/epoch - 5ms/step\n",
      "Epoch 24/50\n",
      "3440/3440 - 17s - loss: 14.0308 - mean_squared_error: 14.0308 - accuracy: 0.0000e+00 - 17s/epoch - 5ms/step\n",
      "Epoch 25/50\n",
      "3440/3440 - 17s - loss: 14.0142 - mean_squared_error: 14.0142 - accuracy: 0.0000e+00 - 17s/epoch - 5ms/step\n",
      "Epoch 26/50\n",
      "3440/3440 - 17s - loss: 13.8483 - mean_squared_error: 13.8483 - accuracy: 0.0000e+00 - 17s/epoch - 5ms/step\n",
      "Epoch 27/50\n",
      "3440/3440 - 17s - loss: 13.9198 - mean_squared_error: 13.9198 - accuracy: 0.0000e+00 - 17s/epoch - 5ms/step\n",
      "Epoch 28/50\n",
      "3440/3440 - 17s - loss: 13.7157 - mean_squared_error: 13.7157 - accuracy: 0.0000e+00 - 17s/epoch - 5ms/step\n",
      "Epoch 29/50\n",
      "3440/3440 - 17s - loss: 13.7032 - mean_squared_error: 13.7033 - accuracy: 0.0000e+00 - 17s/epoch - 5ms/step\n",
      "Epoch 30/50\n",
      "3440/3440 - 17s - loss: 13.5793 - mean_squared_error: 13.5793 - accuracy: 0.0000e+00 - 17s/epoch - 5ms/step\n",
      "Epoch 31/50\n",
      "3440/3440 - 17s - loss: 13.5873 - mean_squared_error: 13.5872 - accuracy: 0.0000e+00 - 17s/epoch - 5ms/step\n",
      "Epoch 32/50\n",
      "3440/3440 - 17s - loss: 13.4603 - mean_squared_error: 13.4603 - accuracy: 0.0000e+00 - 17s/epoch - 5ms/step\n",
      "Epoch 33/50\n",
      "3440/3440 - 17s - loss: 13.4407 - mean_squared_error: 13.4407 - accuracy: 0.0000e+00 - 17s/epoch - 5ms/step\n",
      "Epoch 34/50\n",
      "3440/3440 - 17s - loss: 13.4641 - mean_squared_error: 13.4641 - accuracy: 0.0000e+00 - 17s/epoch - 5ms/step\n",
      "Epoch 35/50\n",
      "3440/3440 - 17s - loss: 13.7544 - mean_squared_error: 13.7544 - accuracy: 0.0000e+00 - 17s/epoch - 5ms/step\n",
      "Epoch 36/50\n",
      "3440/3440 - 17s - loss: 13.3158 - mean_squared_error: 13.3158 - accuracy: 0.0000e+00 - 17s/epoch - 5ms/step\n",
      "Epoch 37/50\n",
      "3440/3440 - 18s - loss: 13.2737 - mean_squared_error: 13.2737 - accuracy: 0.0000e+00 - 18s/epoch - 5ms/step\n",
      "Epoch 38/50\n",
      "3440/3440 - 18s - loss: 13.1984 - mean_squared_error: 13.1984 - accuracy: 0.0000e+00 - 18s/epoch - 5ms/step\n",
      "Epoch 39/50\n",
      "3440/3440 - 17s - loss: 13.1820 - mean_squared_error: 13.1820 - accuracy: 0.0000e+00 - 17s/epoch - 5ms/step\n",
      "Epoch 40/50\n",
      "3440/3440 - 17s - loss: 13.1572 - mean_squared_error: 13.1572 - accuracy: 0.0000e+00 - 17s/epoch - 5ms/step\n",
      "Epoch 41/50\n",
      "3440/3440 - 17s - loss: 13.1180 - mean_squared_error: 13.1180 - accuracy: 0.0000e+00 - 17s/epoch - 5ms/step\n",
      "Epoch 42/50\n",
      "3440/3440 - 17s - loss: 13.1166 - mean_squared_error: 13.1166 - accuracy: 0.0000e+00 - 17s/epoch - 5ms/step\n",
      "Epoch 43/50\n",
      "3440/3440 - 18s - loss: 13.2003 - mean_squared_error: 13.2003 - accuracy: 0.0000e+00 - 18s/epoch - 5ms/step\n",
      "Epoch 44/50\n",
      "3440/3440 - 17s - loss: 13.0409 - mean_squared_error: 13.0409 - accuracy: 0.0000e+00 - 17s/epoch - 5ms/step\n",
      "Epoch 45/50\n",
      "3440/3440 - 17s - loss: 13.0523 - mean_squared_error: 13.0523 - accuracy: 0.0000e+00 - 17s/epoch - 5ms/step\n",
      "Epoch 46/50\n",
      "3440/3440 - 17s - loss: 13.0565 - mean_squared_error: 13.0565 - accuracy: 0.0000e+00 - 17s/epoch - 5ms/step\n",
      "Epoch 47/50\n",
      "3440/3440 - 17s - loss: 13.1058 - mean_squared_error: 13.1058 - accuracy: 0.0000e+00 - 17s/epoch - 5ms/step\n",
      "Epoch 48/50\n",
      "3440/3440 - 17s - loss: 12.8976 - mean_squared_error: 12.8976 - accuracy: 0.0000e+00 - 17s/epoch - 5ms/step\n",
      "Epoch 49/50\n",
      "3440/3440 - 17s - loss: 12.8036 - mean_squared_error: 12.8036 - accuracy: 0.0000e+00 - 17s/epoch - 5ms/step\n",
      "Epoch 50/50\n",
      "3440/3440 - 17s - loss: 13.0246 - mean_squared_error: 13.0246 - accuracy: 0.0000e+00 - 17s/epoch - 5ms/step\n"
     ]
    }
   ],
   "source": [
    "\n",
    "history = model2.fit(X_train, # input data\n",
    "                    Y_train, # target data\n",
    "                    batch_size=4, # Number of samples per gradient update. If unspecified, batch_size will default to 32.\n",
    "                    epochs=50, # default=1, Number of epochs to train the model. An epoch is an iteration over the entire x and y data provided\n",
    "                    verbose=2, # default='auto', ('auto', 0, 1, or 2). Verbosity mode. 0 = silent, 1 = progress bar, 2 = one line per epoch. 'auto' defaults to 1 for most cases, but 2 when used with ParameterServerStrategy.\n",
    "                    callbacks=None, # default=None, list of callbacks to apply during training. See tf.keras.callbacks\n",
    "                    validation_split=0.2, # default=0.0, Fraction of the training data to be used as validation data. The model will set apart this fraction of the training data, will not train on it, and will evaluate the loss and any model metrics on this data at the end of each epoch. \n",
    "                    #validation_data=(X_test, y_test), # default=None, Data on which to evaluate the loss and any model metrics at the end of each epoch. \n",
    "                    shuffle=True, # default=True, Boolean (whether to shuffle the training data before each epoch) or str (for 'batch').\n",
    "                    class_weight=None, # default=None, Optional dictionary mapping class indices (integers) to a weight (float) value, used for weighting the loss function (during training only). This can be useful to tell the model to \"pay more attention\" to samples from an under-represented class.\n",
    "                    sample_weight=None, # default=None, Optional Numpy array of weights for the training samples, used for weighting the loss function (during training only).\n",
    "                    initial_epoch=0, # Integer, default=0, Epoch at which to start training (useful for resuming a previous training run).\n",
    "                    steps_per_epoch=None, # Integer or None, default=None, Total number of steps (batches of samples) before declaring one epoch finished and starting the next epoch. When training with input tensors such as TensorFlow data tensors, the default None is equal to the number of samples in your dataset divided by the batch size, or 1 if that cannot be determined. \n",
    "                    validation_steps=None, # Only relevant if validation_data is provided and is a tf.data dataset. Total number of steps (batches of samples) to draw before stopping when performing validation at the end of every epoch.\n",
    "                    validation_batch_size=None, # Integer or None, default=None, Number of samples per validation batch. If unspecified, will default to batch_size.\n",
    "                    validation_freq=100, # default=1, Only relevant if validation data is provided. If an integer, specifies how many training epochs to run before a new validation run is performed, e.g. validation_freq=2 runs validation every 2 epochs.\n",
    "                    max_queue_size=10, # default=10, Used for generator or keras.utils.Sequence input only. Maximum size for the generator queue. If unspecified, max_queue_size will default to 10.\n",
    "                    workers=1, # default=1, Used for generator or keras.utils.Sequence input only. Maximum number of processes to spin up when using process-based threading. If unspecified, workers will default to 1.\n",
    "                    use_multiprocessing=True, # default=False, Used for generator or keras.utils.Sequence input only. If True, use process-based threading. If unspecified, use_multiprocessing will default to False. \n",
    "                \n",
    "                   )\n",
    "\n",
    "\n"
   ]
  },
  {
   "cell_type": "markdown",
   "metadata": {},
   "source": [
    "##### Step 4 - Plot loss over epochs"
   ]
  },
  {
   "cell_type": "code",
   "execution_count": 11,
   "metadata": {},
   "outputs": [
    {
     "data": {
      "image/png": "[encoded data removed]",
      "text/plain": [
       "<Figure size 432x288 with 1 Axes>"
      ]
     },
     "metadata": {
      "needs_background": "light"
     },
     "output_type": "display_data"
    }
   ],
   "source": [
    "# Gather the trained model's weight and bias.\n",
    "trained_weight = model2.get_weights()[0]\n",
    "trained_bias = model2.get_weights()[1]\n",
    "\n",
    "  # The list of epochs is stored separately from the \n",
    "  # rest of history.\n",
    "epochs = history.epoch\n",
    "  \n",
    "  # Gather the history (a snapshot) of each epoch.\n",
    "#hist = pd.DataFrame(history.history)\n",
    "\n",
    "  # Specifically gather the model's root mean \n",
    "  # squared error at each epoch. \n",
    "rmse = history.history[\"mean_squared_error\"]\n",
    "\n",
    "#plot_the_model(trained_weight, trained_bias, X_test, Y_train)\n",
    "plot_the_loss_curve(epochs, rmse)"
   ]
  },
  {
   "cell_type": "markdown",
   "metadata": {},
   "source": [
    "##### Step 5 - Print Performance Summary"
   ]
  },
  {
   "cell_type": "code",
   "execution_count": 12,
   "metadata": {},
   "outputs": [
    {
     "name": "stdout",
     "output_type": "stream",
     "text": [
      "\n",
      "-------------------- Model Summary --------------------\n",
      "Model: \"LSTM-Model\"\n",
      "_________________________________________________________________\n",
      " Layer (type)                Output Shape              Param #   \n",
      "=================================================================\n",
      " gru (GRU)                   (None, 10, 64)            12864     \n",
      "                                                                 \n",
      " Output-Layer (TimeDistribut  (None, 10, 1)            65        \n",
      " ed)                                                             \n",
      "                                                                 \n",
      "=================================================================\n",
      "Total params: 12,929\n",
      "Trainable params: 12,929\n",
      "Non-trainable params: 0\n",
      "_________________________________________________________________\n",
      "\n",
      "-------------------- Weights and Biases --------------------\n",
      "Too many parameters to print but you can use the code provided if needed\n",
      "\n",
      "-------------------- Evaluation on Training Data --------------------\n",
      "Final loss : 13.024563789367676\n",
      "Final mean_squared_error : 13.024550437927246\n",
      "Final accuracy : 0.0\n",
      "\n",
      "-------------------- Evaluation on Test Data --------------------\n",
      "137/137 [==============================] - 1s 3ms/step - loss: 13.0500 - mean_squared_error: 13.0500 - accuracy: 0.0000e+00\n",
      "\n"
     ]
    }
   ],
   "source": [
    "print(\"\")\n",
    "print('-------------------- Model Summary --------------------')\n",
    "model2.summary() # print model summary\n",
    "print(\"\")\n",
    "print('-------------------- Weights and Biases --------------------')\n",
    "print(\"Too many parameters to print but you can use the code provided if needed\")\n",
    "print(\"\")\n",
    "#for layer in model.layers:\n",
    "#    print(layer.name)\n",
    "#    for item in layer.get_weights():\n",
    "#        print(\"  \", item)\n",
    "#print(\"\")\n",
    "\n",
    "# Print the last value in the evaluation metrics contained within history file\n",
    "print('-------------------- Evaluation on Training Data --------------------')\n",
    "for item in history.history:\n",
    "    print(\"Final\", item, \":\", history.history[item][-1])\n",
    "print(\"\")\n",
    "\n",
    "# Evaluate the model on the test data using \"evaluate\"\n",
    "print('-------------------- Evaluation on Test Data --------------------')\n",
    "results = model2.evaluate(X_test, Y_test)\n",
    "print(\"\")"
   ]
  },
  {
   "cell_type": "code",
   "execution_count": 13,
   "metadata": {},
   "outputs": [
    {
     "data": {
      "image/png": "[encoded data removed]",
      "text/plain": [
       "<IPython.core.display.Image object>"
      ]
     },
     "execution_count": 13,
     "metadata": {},
     "output_type": "execute_result"
    }
   ],
   "source": [
    "from keras.utils import plot_model,model_to_dot\n",
    "plot_model(model2, show_shapes=True, to_file='plotmodelbilstm0810.png')\n"
   ]
  },
  {
   "cell_type": "code",
   "execution_count": 14,
   "metadata": {},
   "outputs": [],
   "source": [
    "dfull=pd.read_csv('InSAR_data_south/displacement/export_dataframe1.csv')\n",
    "dfull=dfull.set_index([dfull.columns[0],dfull.columns[1]])\n",
    "dfull.columns=pd.to_datetime(dfull.columns, format='%Y%m%d')\n",
    "\n",
    "\n",
    "tup=(-119.8769,\t36.1712)\n",
    "\n",
    "#tup=(-119.8769,\t36.1712)\n",
    "#tup=(-119.8769,\t36.1712)\n",
    "#tup=(-119.8769,\t36.1712)\n",
    "# Split data into train and test dataframes\n",
    "# df_train_temp=dfull.iloc[:, :70].copy()\n",
    "# df_test_temp=dfull.iloc[:, 70:110].copy()\n",
    "#pick a location to test\n",
    "# df_train = df_train_temp[df_train_temp.index==tup].copy()\n",
    "# df_test = df_test_temp[df_test_temp.index==tup].copy()\n",
    "df_train = dfull[dfull.index==tup].copy()\n",
    "\n",
    "# #SHAPE \n",
    "X_test, Y_test=shaping(datain=df_train,timestep= timestep )\n",
    "# #normalize\n",
    "# scaler = MinMaxScaler()\n",
    "# scaler2 = MinMaxScaler()\n",
    "# X_test = scaler.fit_transform(X_test.reshape(-1, X_test.shape[-1])).reshape(X_test.shape)\n",
    "# Y_test = scaler2.fit_transform(Y_test.reshape(-1, Y_test.shape[-1])).reshape(Y_test.shape)\n"
   ]
  },
  {
   "cell_type": "code",
   "execution_count": 15,
   "metadata": {},
   "outputs": [
    {
     "data": {
      "text/html": [
       "<div>\n",
       "<style scoped>\n",
       "    .dataframe tbody tr th:only-of-type {\n",
       "        vertical-align: middle;\n",
       "    }\n",
       "\n",
       "    .dataframe tbody tr th {\n",
       "        vertical-align: top;\n",
       "    }\n",
       "\n",
       "    .dataframe thead th {\n",
       "        text-align: right;\n",
       "    }\n",
       "</style>\n",
       "<table border=\"1\" class=\"dataframe\">\n",
       "  <thead>\n",
       "    <tr style=\"text-align: right;\">\n",
       "      <th></th>\n",
       "      <th></th>\n",
       "      <th>2014-11-08</th>\n",
       "      <th>2014-12-02</th>\n",
       "      <th>2014-12-26</th>\n",
       "      <th>2015-02-12</th>\n",
       "      <th>2015-03-08</th>\n",
       "      <th>2015-04-01</th>\n",
       "      <th>2015-04-25</th>\n",
       "      <th>2015-05-19</th>\n",
       "      <th>2015-06-12</th>\n",
       "      <th>2015-07-06</th>\n",
       "      <th>...</th>\n",
       "      <th>2018-10-18</th>\n",
       "      <th>2018-10-30</th>\n",
       "      <th>2018-11-11</th>\n",
       "      <th>2018-11-17</th>\n",
       "      <th>2018-11-23</th>\n",
       "      <th>2018-12-05</th>\n",
       "      <th>2018-12-17</th>\n",
       "      <th>2018-12-29</th>\n",
       "      <th>2019-01-10</th>\n",
       "      <th>2019-01-22</th>\n",
       "    </tr>\n",
       "    <tr>\n",
       "      <th>Longitude</th>\n",
       "      <th>Latitude</th>\n",
       "      <th></th>\n",
       "      <th></th>\n",
       "      <th></th>\n",
       "      <th></th>\n",
       "      <th></th>\n",
       "      <th></th>\n",
       "      <th></th>\n",
       "      <th></th>\n",
       "      <th></th>\n",
       "      <th></th>\n",
       "      <th></th>\n",
       "      <th></th>\n",
       "      <th></th>\n",
       "      <th></th>\n",
       "      <th></th>\n",
       "      <th></th>\n",
       "      <th></th>\n",
       "      <th></th>\n",
       "      <th></th>\n",
       "      <th></th>\n",
       "      <th></th>\n",
       "    </tr>\n",
       "  </thead>\n",
       "  <tbody>\n",
       "    <tr>\n",
       "      <th>-120.3128</th>\n",
       "      <th>36.7854</th>\n",
       "      <td>0.0</td>\n",
       "      <td>-6.6574</td>\n",
       "      <td>0.4441</td>\n",
       "      <td>2.4195</td>\n",
       "      <td>-1.3277</td>\n",
       "      <td>2.6172</td>\n",
       "      <td>-2.9392</td>\n",
       "      <td>-1.1876</td>\n",
       "      <td>0.63627</td>\n",
       "      <td>-3.7585</td>\n",
       "      <td>...</td>\n",
       "      <td>-15.384</td>\n",
       "      <td>-12.441</td>\n",
       "      <td>-13.102</td>\n",
       "      <td>-13.932</td>\n",
       "      <td>-16.451</td>\n",
       "      <td>-17.799</td>\n",
       "      <td>-15.035</td>\n",
       "      <td>-12.5</td>\n",
       "      <td>-13.407</td>\n",
       "      <td>-11.023</td>\n",
       "    </tr>\n",
       "  </tbody>\n",
       "</table>\n",
       "<p>1 rows × 110 columns</p>\n",
       "</div>"
      ],
      "text/plain": [
       "                    2014-11-08  2014-12-02  2014-12-26  2015-02-12  \\\n",
       "Longitude Latitude                                                   \n",
       "-120.3128 36.7854          0.0     -6.6574      0.4441      2.4195   \n",
       "\n",
       "                    2015-03-08  2015-04-01  2015-04-25  2015-05-19  \\\n",
       "Longitude Latitude                                                   \n",
       "-120.3128 36.7854      -1.3277      2.6172     -2.9392     -1.1876   \n",
       "\n",
       "                    2015-06-12  2015-07-06  ...  2018-10-18  2018-10-30  \\\n",
       "Longitude Latitude                          ...                           \n",
       "-120.3128 36.7854      0.63627     -3.7585  ...     -15.384     -12.441   \n",
       "\n",
       "                    2018-11-11  2018-11-17  2018-11-23  2018-12-05  \\\n",
       "Longitude Latitude                                                   \n",
       "-120.3128 36.7854      -13.102     -13.932     -16.451     -17.799   \n",
       "\n",
       "                    2018-12-17  2018-12-29  2019-01-10  2019-01-22  \n",
       "Longitude Latitude                                                  \n",
       "-120.3128 36.7854      -15.035       -12.5     -13.407     -11.023  \n",
       "\n",
       "[1 rows x 110 columns]"
      ]
     },
     "execution_count": 15,
     "metadata": {},
     "output_type": "execute_result"
    }
   ],
   "source": [
    "tup=(-120.3128,36.7854)\n",
    "dfull[dfull.index==tup]"
   ]
  },
  {
   "cell_type": "code",
   "execution_count": 16,
   "metadata": {},
   "outputs": [
    {
     "name": "stdout",
     "output_type": "stream",
     "text": [
      "3/3 [==============================] - 0s 4ms/step\n"
     ]
    },
    {
     "data": {
      "text/plain": [
       "[-10.388852,\n",
       " -8.749787,\n",
       " -7.6966243,\n",
       " -4.886222,\n",
       " -6.829394,\n",
       " -7.9680257,\n",
       " -7.03138,\n",
       " -7.7034774,\n",
       " -8.5704775,\n",
       " -9.896106,\n",
       " -10.711009,\n",
       " -14.04681,\n",
       " -13.572461,\n",
       " -13.266818,\n",
       " -13.544005,\n",
       " -16.128622,\n",
       " -17.000088,\n",
       " -16.289757,\n",
       " -16.358448,\n",
       " -14.615122,\n",
       " -16.813337,\n",
       " -15.98726,\n",
       " -17.98614,\n",
       " -17.579342,\n",
       " -15.139635,\n",
       " -14.786081,\n",
       " -20.208847,\n",
       " -19.464512,\n",
       " -19.056206,\n",
       " -20.507069,\n",
       " -18.614723,\n",
       " -23.28618,\n",
       " -25.525578,\n",
       " -24.994476,\n",
       " -28.084845,\n",
       " -30.713621,\n",
       " -31.87531,\n",
       " -31.017973,\n",
       " -33.874737,\n",
       " -33.821507,\n",
       " -32.549564,\n",
       " -32.00968,\n",
       " -33.243656,\n",
       " -32.551514,\n",
       " -33.251427,\n",
       " -32.34641,\n",
       " -32.401134,\n",
       " -31.263111,\n",
       " -31.423893,\n",
       " -31.227566,\n",
       " -31.964582,\n",
       " -31.6641,\n",
       " -30.81783,\n",
       " -32.087097,\n",
       " -30.163708,\n",
       " -30.86345,\n",
       " -30.774178,\n",
       " -29.46698,\n",
       " -28.309834,\n",
       " -29.300385,\n",
       " -25.896132,\n",
       " -27.132881,\n",
       " -26.001717,\n",
       " -26.46126,\n",
       " -29.357979,\n",
       " -23.587166,\n",
       " -27.77225,\n",
       " -27.294657,\n",
       " -28.424597,\n",
       " -29.520416,\n",
       " -29.362017,\n",
       " -30.846592,\n",
       " -28.641277,\n",
       " -27.949888,\n",
       " -27.941633,\n",
       " -28.791119,\n",
       " -29.35293,\n",
       " -28.758532,\n",
       " -27.314457,\n",
       " -29.030993,\n",
       " -28.762604,\n",
       " -29.376156,\n",
       " -29.725727,\n",
       " -29.299374,\n",
       " -30.245628,\n",
       " -29.545609,\n",
       " -30.538671,\n",
       " -30.150715,\n",
       " -30.949657,\n",
       " -28.156845,\n",
       " -30.083712]"
      ]
     },
     "execution_count": 16,
     "metadata": {},
     "output_type": "execute_result"
    }
   ],
   "source": [
    "pred_test=model2.predict(X_test)\n",
    "\n",
    "# pred_test = scaler2.inverse_transform(pred_test.reshape(-1, pred_test.shape[-1])).reshape(pred_test.shape)\n",
    "y=pred_test.flatten()\n",
    "z=[]\n",
    "for x in range(0,910,10):\n",
    "    z.append(y[x])\n",
    "z"
   ]
  },
  {
   "cell_type": "code",
   "execution_count": 17,
   "metadata": {},
   "outputs": [
    {
     "data": {
      "application/vnd.plotly.v1+json": {
       "config": {
        "plotlyServerURL": "https://plot.ly"
       },
       "data": [
        {
         "line": {
          "color": "black",
          "width": 1
         },
         "mode": "lines",
         "name": "Subsidence - Actual (Test)",
         "opacity": 0.8,
         "type": "scatter",
         "x": [
          "2014-11-08T00:00:00.000000000",
          "2014-12-02T00:00:00.000000000",
          "2014-12-26T00:00:00.000000000",
          "2015-02-12T00:00:00.000000000",
          "2015-03-08T00:00:00.000000000",
          "2015-04-01T00:00:00.000000000",
          "2015-04-25T00:00:00.000000000",
          "2015-05-19T00:00:00.000000000",
          "2015-06-12T00:00:00.000000000",
          "2015-07-06T00:00:00.000000000",
          "2015-07-30T00:00:00.000000000",
          "2015-08-23T00:00:00.000000000",
          "2015-09-16T00:00:00.000000000",
          "2015-10-10T00:00:00.000000000",
          "2015-11-03T00:00:00.000000000",
          "2015-11-27T00:00:00.000000000",
          "2015-12-09T00:00:00.000000000",
          "2015-12-21T00:00:00.000000000",
          "2016-01-14T00:00:00.000000000",
          "2016-01-26T00:00:00.000000000",
          "2016-02-07T00:00:00.000000000",
          "2016-02-19T00:00:00.000000000",
          "2016-03-02T00:00:00.000000000",
          "2016-03-14T00:00:00.000000000",
          "2016-03-26T00:00:00.000000000",
          "2016-04-07T00:00:00.000000000",
          "2016-04-19T00:00:00.000000000",
          "2016-05-01T00:00:00.000000000",
          "2016-05-13T00:00:00.000000000",
          "2016-05-25T00:00:00.000000000",
          "2016-06-06T00:00:00.000000000",
          "2016-06-30T00:00:00.000000000",
          "2016-07-24T00:00:00.000000000",
          "2016-08-17T00:00:00.000000000",
          "2016-09-10T00:00:00.000000000",
          "2016-09-22T00:00:00.000000000",
          "2016-10-04T00:00:00.000000000",
          "2016-10-16T00:00:00.000000000",
          "2016-10-28T00:00:00.000000000",
          "2016-11-09T00:00:00.000000000",
          "2016-11-21T00:00:00.000000000",
          "2016-12-03T00:00:00.000000000",
          "2016-12-15T00:00:00.000000000",
          "2016-12-27T00:00:00.000000000",
          "2017-01-08T00:00:00.000000000",
          "2017-01-14T00:00:00.000000000",
          "2017-01-20T00:00:00.000000000",
          "2017-01-26T00:00:00.000000000",
          "2017-02-01T00:00:00.000000000",
          "2017-02-13T00:00:00.000000000",
          "2017-02-25T00:00:00.000000000",
          "2017-03-09T00:00:00.000000000",
          "2017-03-21T00:00:00.000000000",
          "2017-04-02T00:00:00.000000000",
          "2017-04-14T00:00:00.000000000",
          "2017-04-26T00:00:00.000000000",
          "2017-05-08T00:00:00.000000000",
          "2017-05-20T00:00:00.000000000",
          "2017-06-01T00:00:00.000000000",
          "2017-06-13T00:00:00.000000000",
          "2017-06-25T00:00:00.000000000",
          "2017-07-07T00:00:00.000000000",
          "2017-07-19T00:00:00.000000000",
          "2017-07-31T00:00:00.000000000",
          "2017-08-12T00:00:00.000000000",
          "2017-08-24T00:00:00.000000000",
          "2017-09-05T00:00:00.000000000",
          "2017-09-17T00:00:00.000000000",
          "2017-09-29T00:00:00.000000000",
          "2017-10-11T00:00:00.000000000",
          "2017-10-23T00:00:00.000000000",
          "2017-11-04T00:00:00.000000000",
          "2017-11-16T00:00:00.000000000",
          "2017-11-28T00:00:00.000000000",
          "2017-12-10T00:00:00.000000000",
          "2017-12-22T00:00:00.000000000",
          "2018-01-03T00:00:00.000000000",
          "2018-01-15T00:00:00.000000000",
          "2018-01-27T00:00:00.000000000",
          "2018-02-08T00:00:00.000000000",
          "2018-02-20T00:00:00.000000000",
          "2018-03-04T00:00:00.000000000",
          "2018-03-16T00:00:00.000000000",
          "2018-03-28T00:00:00.000000000",
          "2018-04-09T00:00:00.000000000",
          "2018-04-21T00:00:00.000000000",
          "2018-05-03T00:00:00.000000000",
          "2018-05-15T00:00:00.000000000",
          "2018-05-27T00:00:00.000000000",
          "2018-06-08T00:00:00.000000000",
          "2018-06-20T00:00:00.000000000",
          "2018-07-02T00:00:00.000000000",
          "2018-07-14T00:00:00.000000000",
          "2018-07-26T00:00:00.000000000",
          "2018-08-07T00:00:00.000000000",
          "2018-08-19T00:00:00.000000000",
          "2018-08-31T00:00:00.000000000",
          "2018-09-12T00:00:00.000000000",
          "2018-09-24T00:00:00.000000000",
          "2018-10-06T00:00:00.000000000",
          "2018-10-18T00:00:00.000000000",
          "2018-10-30T00:00:00.000000000",
          "2018-11-11T00:00:00.000000000",
          "2018-11-17T00:00:00.000000000",
          "2018-11-23T00:00:00.000000000",
          "2018-12-05T00:00:00.000000000",
          "2018-12-17T00:00:00.000000000",
          "2018-12-29T00:00:00.000000000",
          "2019-01-10T00:00:00.000000000",
          "2019-01-22T00:00:00.000000000"
         ],
         "y": [
          0,
          -5.5601,
          1.2072,
          1.9867,
          -2.8406,
          1.1272,
          -3.2308,
          -4.1779,
          -5.3297,
          -6.9968,
          -7.974,
          -11.434,
          -10.989,
          -10.697,
          -10.962,
          -13.304,
          -14.063,
          -13.445,
          -13.505,
          -11.956,
          -13.901,
          -13.18,
          -14.915,
          -14.564,
          -12.429,
          -12.111,
          -16.837,
          -16.191,
          -15.838,
          -17.097,
          -15.457,
          -19.568,
          -21.629,
          -21.137,
          -24.064,
          -26.667,
          -27.844,
          -26.974,
          -29.897,
          -29.842,
          -28.533,
          -27.981,
          -29.246,
          -28.535,
          -29.254,
          -28.325,
          -28.381,
          -27.222,
          -27.385,
          -27.186,
          -27.935,
          -27.629,
          -26.772,
          -28.06,
          -26.115,
          -26.818,
          -26.728,
          -25.421,
          -24.283,
          -25.256,
          -21.975,
          -23.146,
          -22.074,
          -22.507,
          -25.313,
          -19.842,
          -23.761,
          -23.301,
          -24.395,
          -25.474,
          -25.317,
          -26.801,
          -24.607,
          -23.933,
          -23.925,
          -24.754,
          -25.308,
          -24.722,
          -23.32,
          -24.99,
          -24.726,
          -25.331,
          -25.678,
          -25.255,
          -26.197,
          -25.499,
          -26.491,
          -26.102,
          -26.905,
          -24.134,
          -26.035,
          -27.819,
          -27.503,
          null,
          -25.519,
          -28.655,
          -30.429,
          -29.993,
          -29.802,
          -31.934,
          -33.144,
          -31.517,
          -33.106,
          -32.82,
          -35.285,
          -34.161,
          -33.042,
          -32.577,
          -33.093,
          -31.996
         ]
        },
        {
         "line": {
          "color": "red",
          "width": 1
         },
         "mode": "lines",
         "name": "Subsidence - Predicted (Test)",
         "opacity": 0.8,
         "type": "scatter",
         "x": [
          "2015-07-30T00:00:00.000000000",
          "2015-08-23T00:00:00.000000000",
          "2015-09-16T00:00:00.000000000",
          "2015-10-10T00:00:00.000000000",
          "2015-11-03T00:00:00.000000000",
          "2015-11-27T00:00:00.000000000",
          "2015-12-09T00:00:00.000000000",
          "2015-12-21T00:00:00.000000000",
          "2016-01-14T00:00:00.000000000",
          "2016-01-26T00:00:00.000000000",
          "2016-02-07T00:00:00.000000000",
          "2016-02-19T00:00:00.000000000",
          "2016-03-02T00:00:00.000000000",
          "2016-03-14T00:00:00.000000000",
          "2016-03-26T00:00:00.000000000",
          "2016-04-07T00:00:00.000000000",
          "2016-04-19T00:00:00.000000000",
          "2016-05-01T00:00:00.000000000",
          "2016-05-13T00:00:00.000000000",
          "2016-05-25T00:00:00.000000000",
          "2016-06-06T00:00:00.000000000",
          "2016-06-30T00:00:00.000000000",
          "2016-07-24T00:00:00.000000000",
          "2016-08-17T00:00:00.000000000",
          "2016-09-10T00:00:00.000000000",
          "2016-09-22T00:00:00.000000000",
          "2016-10-04T00:00:00.000000000",
          "2016-10-16T00:00:00.000000000",
          "2016-10-28T00:00:00.000000000",
          "2016-11-09T00:00:00.000000000",
          "2016-11-21T00:00:00.000000000",
          "2016-12-03T00:00:00.000000000",
          "2016-12-15T00:00:00.000000000",
          "2016-12-27T00:00:00.000000000",
          "2017-01-08T00:00:00.000000000",
          "2017-01-14T00:00:00.000000000",
          "2017-01-20T00:00:00.000000000",
          "2017-01-26T00:00:00.000000000",
          "2017-02-01T00:00:00.000000000",
          "2017-02-13T00:00:00.000000000",
          "2017-02-25T00:00:00.000000000",
          "2017-03-09T00:00:00.000000000",
          "2017-03-21T00:00:00.000000000",
          "2017-04-02T00:00:00.000000000",
          "2017-04-14T00:00:00.000000000",
          "2017-04-26T00:00:00.000000000",
          "2017-05-08T00:00:00.000000000",
          "2017-05-20T00:00:00.000000000",
          "2017-06-01T00:00:00.000000000",
          "2017-06-13T00:00:00.000000000",
          "2017-06-25T00:00:00.000000000",
          "2017-07-07T00:00:00.000000000",
          "2017-07-19T00:00:00.000000000",
          "2017-07-31T00:00:00.000000000",
          "2017-08-12T00:00:00.000000000",
          "2017-08-24T00:00:00.000000000",
          "2017-09-05T00:00:00.000000000",
          "2017-09-17T00:00:00.000000000",
          "2017-09-29T00:00:00.000000000",
          "2017-10-11T00:00:00.000000000",
          "2017-10-23T00:00:00.000000000",
          "2017-11-04T00:00:00.000000000",
          "2017-11-16T00:00:00.000000000",
          "2017-11-28T00:00:00.000000000",
          "2017-12-10T00:00:00.000000000",
          "2017-12-22T00:00:00.000000000",
          "2018-01-03T00:00:00.000000000",
          "2018-01-15T00:00:00.000000000",
          "2018-01-27T00:00:00.000000000",
          "2018-02-08T00:00:00.000000000",
          "2018-02-20T00:00:00.000000000",
          "2018-03-04T00:00:00.000000000",
          "2018-03-16T00:00:00.000000000",
          "2018-03-28T00:00:00.000000000",
          "2018-04-09T00:00:00.000000000",
          "2018-04-21T00:00:00.000000000",
          "2018-05-03T00:00:00.000000000",
          "2018-05-15T00:00:00.000000000",
          "2018-05-27T00:00:00.000000000",
          "2018-06-08T00:00:00.000000000",
          "2018-06-20T00:00:00.000000000",
          "2018-07-02T00:00:00.000000000",
          "2018-07-14T00:00:00.000000000",
          "2018-07-26T00:00:00.000000000",
          "2018-08-07T00:00:00.000000000",
          "2018-08-19T00:00:00.000000000",
          "2018-08-31T00:00:00.000000000",
          "2018-09-12T00:00:00.000000000",
          "2018-09-24T00:00:00.000000000",
          "2018-10-06T00:00:00.000000000",
          "2018-10-18T00:00:00.000000000",
          "2018-10-30T00:00:00.000000000",
          "2018-11-11T00:00:00.000000000",
          "2018-11-17T00:00:00.000000000",
          "2018-11-23T00:00:00.000000000",
          "2018-12-05T00:00:00.000000000",
          "2018-12-17T00:00:00.000000000",
          "2018-12-29T00:00:00.000000000",
          "2019-01-10T00:00:00.000000000",
          "2019-01-22T00:00:00.000000000"
         ],
         "y": [
          -10.3888521194458,
          -8.749787330627441,
          -7.696624279022217,
          -4.886221885681152,
          -6.8293938636779785,
          -7.9680256843566895,
          -7.0313801765441895,
          -7.703477382659912,
          -8.570477485656738,
          -9.896105766296387,
          -10.71100902557373,
          -14.046810150146484,
          -13.572461128234863,
          -13.266818046569824,
          -13.544005393981934,
          -16.12862205505371,
          -17.00008773803711,
          -16.289756774902344,
          -16.358448028564453,
          -14.615121841430664,
          -16.813337326049805,
          -15.987259864807129,
          -17.98613929748535,
          -17.579341888427734,
          -15.13963508605957,
          -14.786081314086914,
          -20.208847045898438,
          -19.46451187133789,
          -19.05620574951172,
          -20.507068634033203,
          -18.614723205566406,
          -23.28618049621582,
          -25.525577545166016,
          -24.994476318359375,
          -28.0848445892334,
          -30.713621139526367,
          -31.87531089782715,
          -31.017972946166992,
          -33.87473678588867,
          -33.82150650024414,
          -32.549564361572266,
          -32.009681701660156,
          -33.243656158447266,
          -32.551513671875,
          -33.251426696777344,
          -32.34640884399414,
          -32.4011344909668,
          -31.263111114501953,
          -31.423892974853516,
          -31.22756576538086,
          -31.964582443237305,
          -31.664100646972656,
          -30.817829132080078,
          -32.08709716796875,
          -30.163707733154297,
          -30.863449096679688,
          -30.77417755126953,
          -29.46697998046875,
          -28.309833526611328,
          -29.300384521484375,
          -25.89613151550293,
          -27.13288116455078,
          -26.00171661376953,
          -26.461259841918945,
          -29.35797882080078,
          -23.58716583251953,
          -27.772249221801758,
          -27.29465675354004,
          -28.424596786499023,
          -29.520416259765625,
          -29.362016677856445,
          -30.84659194946289,
          -28.641277313232422,
          -27.949888229370117,
          -27.941633224487305,
          -28.791118621826172,
          -29.352930068969727,
          -28.75853157043457,
          -27.314456939697266,
          -29.03099250793457,
          -28.762603759765625,
          -29.376155853271484,
          -29.725727081298828,
          -29.299373626708984,
          -30.245628356933594,
          -29.545608520507812,
          -30.538671493530273,
          -30.150714874267578,
          -30.949657440185547,
          -28.156845092773438,
          -30.083711624145508
         ]
        }
       ],
       "layout": {
        "legend": {
         "orientation": "h",
         "x": 1,
         "xanchor": "right",
         "y": 1.02,
         "yanchor": "bottom"
        },
        "plot_bgcolor": "white",
        "template": {
         "data": {
          "bar": [
           {
            "error_x": {
             "color": "#2a3f5f"
            },
            "error_y": {
             "color": "#2a3f5f"
            },
            "marker": {
             "line": {
              "color": "#E5ECF6",
              "width": 0.5
             },
             "pattern": {
              "fillmode": "overlay",
              "size": 10,
              "solidity": 0.2
             }
            },
            "type": "bar"
           }
          ],
          "barpolar": [
           {
            "marker": {
             "line": {
              "color": "#E5ECF6",
              "width": 0.5
             },
             "pattern": {
              "fillmode": "overlay",
              "size": 10,
              "solidity": 0.2
             }
            },
            "type": "barpolar"
           }
          ],
          "carpet": [
           {
            "aaxis": {
             "endlinecolor": "#2a3f5f",
             "gridcolor": "white",
             "linecolor": "white",
             "minorgridcolor": "white",
             "startlinecolor": "#2a3f5f"
            },
            "baxis": {
             "endlinecolor": "#2a3f5f",
             "gridcolor": "white",
             "linecolor": "white",
             "minorgridcolor": "white",
             "startlinecolor": "#2a3f5f"
            },
            "type": "carpet"
           }
          ],
          "choropleth": [
           {
            "colorbar": {
             "outlinewidth": 0,
             "ticks": ""
            },
            "type": "choropleth"
           }
          ],
          "contour": [
           {
            "colorbar": {
             "outlinewidth": 0,
             "ticks": ""
            },
            "colorscale": [
             [
              0,
              "#0d0887"
             ],
             [
              0.1111111111111111,
              "#46039f"
             ],
             [
              0.2222222222222222,
              "#7201a8"
             ],
             [
              0.3333333333333333,
              "#9c179e"
             ],
             [
              0.4444444444444444,
              "#bd3786"
             ],
             [
              0.5555555555555556,
              "#d8576b"
             ],
             [
              0.6666666666666666,
              "#ed7953"
             ],
             [
              0.7777777777777778,
              "#fb9f3a"
             ],
             [
              0.8888888888888888,
              "#fdca26"
             ],
             [
              1,
              "#f0f921"
             ]
            ],
            "type": "contour"
           }
          ],
          "contourcarpet": [
           {
            "colorbar": {
             "outlinewidth": 0,
             "ticks": ""
            },
            "type": "contourcarpet"
           }
          ],
          "heatmap": [
           {
            "colorbar": {
             "outlinewidth": 0,
             "ticks": ""
            },
            "colorscale": [
             [
              0,
              "#0d0887"
             ],
             [
              0.1111111111111111,
              "#46039f"
             ],
             [
              0.2222222222222222,
              "#7201a8"
             ],
             [
              0.3333333333333333,
              "#9c179e"
             ],
             [
              0.4444444444444444,
              "#bd3786"
             ],
             [
              0.5555555555555556,
              "#d8576b"
             ],
             [
              0.6666666666666666,
              "#ed7953"
             ],
             [
              0.7777777777777778,
              "#fb9f3a"
             ],
             [
              0.8888888888888888,
              "#fdca26"
             ],
             [
              1,
              "#f0f921"
             ]
            ],
            "type": "heatmap"
           }
          ],
          "heatmapgl": [
           {
            "colorbar": {
             "outlinewidth": 0,
             "ticks": ""
            },
            "colorscale": [
             [
              0,
              "#0d0887"
             ],
             [
              0.1111111111111111,
              "#46039f"
             ],
             [
              0.2222222222222222,
              "#7201a8"
             ],
             [
              0.3333333333333333,
              "#9c179e"
             ],
             [
              0.4444444444444444,
              "#bd3786"
             ],
             [
              0.5555555555555556,
              "#d8576b"
             ],
             [
              0.6666666666666666,
              "#ed7953"
             ],
             [
              0.7777777777777778,
              "#fb9f3a"
             ],
             [
              0.8888888888888888,
              "#fdca26"
             ],
             [
              1,
              "#f0f921"
             ]
            ],
            "type": "heatmapgl"
           }
          ],
          "histogram": [
           {
            "marker": {
             "pattern": {
              "fillmode": "overlay",
              "size": 10,
              "solidity": 0.2
             }
            },
            "type": "histogram"
           }
          ],
          "histogram2d": [
           {
            "colorbar": {
             "outlinewidth": 0,
             "ticks": ""
            },
            "colorscale": [
             [
              0,
              "#0d0887"
             ],
             [
              0.1111111111111111,
              "#46039f"
             ],
             [
              0.2222222222222222,
              "#7201a8"
             ],
             [
              0.3333333333333333,
              "#9c179e"
             ],
             [
              0.4444444444444444,
              "#bd3786"
             ],
             [
              0.5555555555555556,
              "#d8576b"
             ],
             [
              0.6666666666666666,
              "#ed7953"
             ],
             [
              0.7777777777777778,
              "#fb9f3a"
             ],
             [
              0.8888888888888888,
              "#fdca26"
             ],
             [
              1,
              "#f0f921"
             ]
            ],
            "type": "histogram2d"
           }
          ],
          "histogram2dcontour": [
           {
            "colorbar": {
             "outlinewidth": 0,
             "ticks": ""
            },
            "colorscale": [
             [
              0,
              "#0d0887"
             ],
             [
              0.1111111111111111,
              "#46039f"
             ],
             [
              0.2222222222222222,
              "#7201a8"
             ],
             [
              0.3333333333333333,
              "#9c179e"
             ],
             [
              0.4444444444444444,
              "#bd3786"
             ],
             [
              0.5555555555555556,
              "#d8576b"
             ],
             [
              0.6666666666666666,
              "#ed7953"
             ],
             [
              0.7777777777777778,
              "#fb9f3a"
             ],
             [
              0.8888888888888888,
              "#fdca26"
             ],
             [
              1,
              "#f0f921"
             ]
            ],
            "type": "histogram2dcontour"
           }
          ],
          "mesh3d": [
           {
            "colorbar": {
             "outlinewidth": 0,
             "ticks": ""
            },
            "type": "mesh3d"
           }
          ],
          "parcoords": [
           {
            "line": {
             "colorbar": {
              "outlinewidth": 0,
              "ticks": ""
             }
            },
            "type": "parcoords"
           }
          ],
          "pie": [
           {
            "automargin": true,
            "type": "pie"
           }
          ],
          "scatter": [
           {
            "fillpattern": {
             "fillmode": "overlay",
             "size": 10,
             "solidity": 0.2
            },
            "type": "scatter"
           }
          ],
          "scatter3d": [
           {
            "line": {
             "colorbar": {
              "outlinewidth": 0,
              "ticks": ""
             }
            },
            "marker": {
             "colorbar": {
              "outlinewidth": 0,
              "ticks": ""
             }
            },
            "type": "scatter3d"
           }
          ],
          "scattercarpet": [
           {
            "marker": {
             "colorbar": {
              "outlinewidth": 0,
              "ticks": ""
             }
            },
            "type": "scattercarpet"
           }
          ],
          "scattergeo": [
           {
            "marker": {
             "colorbar": {
              "outlinewidth": 0,
              "ticks": ""
             }
            },
            "type": "scattergeo"
           }
          ],
          "scattergl": [
           {
            "marker": {
             "colorbar": {
              "outlinewidth": 0,
              "ticks": ""
             }
            },
            "type": "scattergl"
           }
          ],
          "scattermapbox": [
           {
            "marker": {
             "colorbar": {
              "outlinewidth": 0,
              "ticks": ""
             }
            },
            "type": "scattermapbox"
           }
          ],
          "scatterpolar": [
           {
            "marker": {
             "colorbar": {
              "outlinewidth": 0,
              "ticks": ""
             }
            },
            "type": "scatterpolar"
           }
          ],
          "scatterpolargl": [
           {
            "marker": {
             "colorbar": {
              "outlinewidth": 0,
              "ticks": ""
             }
            },
            "type": "scatterpolargl"
           }
          ],
          "scatterternary": [
           {
            "marker": {
             "colorbar": {
              "outlinewidth": 0,
              "ticks": ""
             }
            },
            "type": "scatterternary"
           }
          ],
          "surface": [
           {
            "colorbar": {
             "outlinewidth": 0,
             "ticks": ""
            },
            "colorscale": [
             [
              0,
              "#0d0887"
             ],
             [
              0.1111111111111111,
              "#46039f"
             ],
             [
              0.2222222222222222,
              "#7201a8"
             ],
             [
              0.3333333333333333,
              "#9c179e"
             ],
             [
              0.4444444444444444,
              "#bd3786"
             ],
             [
              0.5555555555555556,
              "#d8576b"
             ],
             [
              0.6666666666666666,
              "#ed7953"
             ],
             [
              0.7777777777777778,
              "#fb9f3a"
             ],
             [
              0.8888888888888888,
              "#fdca26"
             ],
             [
              1,
              "#f0f921"
             ]
            ],
            "type": "surface"
           }
          ],
          "table": [
           {
            "cells": {
             "fill": {
              "color": "#EBF0F8"
             },
             "line": {
              "color": "white"
             }
            },
            "header": {
             "fill": {
              "color": "#C8D4E3"
             },
             "line": {
              "color": "white"
             }
            },
            "type": "table"
           }
          ]
         },
         "layout": {
          "annotationdefaults": {
           "arrowcolor": "#2a3f5f",
           "arrowhead": 0,
           "arrowwidth": 1
          },
          "autotypenumbers": "strict",
          "coloraxis": {
           "colorbar": {
            "outlinewidth": 0,
            "ticks": ""
           }
          },
          "colorscale": {
           "diverging": [
            [
             0,
             "#8e0152"
            ],
            [
             0.1,
             "#c51b7d"
            ],
            [
             0.2,
             "#de77ae"
            ],
            [
             0.3,
             "#f1b6da"
            ],
            [
             0.4,
             "#fde0ef"
            ],
            [
             0.5,
             "#f7f7f7"
            ],
            [
             0.6,
             "#e6f5d0"
            ],
            [
             0.7,
             "#b8e186"
            ],
            [
             0.8,
             "#7fbc41"
            ],
            [
             0.9,
             "#4d9221"
            ],
            [
             1,
             "#276419"
            ]
           ],
           "sequential": [
            [
             0,
             "#0d0887"
            ],
            [
             0.1111111111111111,
             "#46039f"
            ],
            [
             0.2222222222222222,
             "#7201a8"
            ],
            [
             0.3333333333333333,
             "#9c179e"
            ],
            [
             0.4444444444444444,
             "#bd3786"
            ],
            [
             0.5555555555555556,
             "#d8576b"
            ],
            [
             0.6666666666666666,
             "#ed7953"
            ],
            [
             0.7777777777777778,
             "#fb9f3a"
            ],
            [
             0.8888888888888888,
             "#fdca26"
            ],
            [
             1,
             "#f0f921"
            ]
           ],
           "sequentialminus": [
            [
             0,
             "#0d0887"
            ],
            [
             0.1111111111111111,
             "#46039f"
            ],
            [
             0.2222222222222222,
             "#7201a8"
            ],
            [
             0.3333333333333333,
             "#9c179e"
            ],
            [
             0.4444444444444444,
             "#bd3786"
            ],
            [
             0.5555555555555556,
             "#d8576b"
            ],
            [
             0.6666666666666666,
             "#ed7953"
            ],
            [
             0.7777777777777778,
             "#fb9f3a"
            ],
            [
             0.8888888888888888,
             "#fdca26"
            ],
            [
             1,
             "#f0f921"
            ]
           ]
          },
          "colorway": [
           "#636efa",
           "#EF553B",
           "#00cc96",
           "#ab63fa",
           "#FFA15A",
           "#19d3f3",
           "#FF6692",
           "#B6E880",
           "#FF97FF",
           "#FECB52"
          ],
          "font": {
           "color": "#2a3f5f"
          },
          "geo": {
           "bgcolor": "white",
           "lakecolor": "white",
           "landcolor": "#E5ECF6",
           "showlakes": true,
           "showland": true,
           "subunitcolor": "white"
          },
          "hoverlabel": {
           "align": "left"
          },
          "hovermode": "closest",
          "mapbox": {
           "style": "light"
          },
          "paper_bgcolor": "white",
          "plot_bgcolor": "#E5ECF6",
          "polar": {
           "angularaxis": {
            "gridcolor": "white",
            "linecolor": "white",
            "ticks": ""
           },
           "bgcolor": "#E5ECF6",
           "radialaxis": {
            "gridcolor": "white",
            "linecolor": "white",
            "ticks": ""
           }
          },
          "scene": {
           "xaxis": {
            "backgroundcolor": "#E5ECF6",
            "gridcolor": "white",
            "gridwidth": 2,
            "linecolor": "white",
            "showbackground": true,
            "ticks": "",
            "zerolinecolor": "white"
           },
           "yaxis": {
            "backgroundcolor": "#E5ECF6",
            "gridcolor": "white",
            "gridwidth": 2,
            "linecolor": "white",
            "showbackground": true,
            "ticks": "",
            "zerolinecolor": "white"
           },
           "zaxis": {
            "backgroundcolor": "#E5ECF6",
            "gridcolor": "white",
            "gridwidth": 2,
            "linecolor": "white",
            "showbackground": true,
            "ticks": "",
            "zerolinecolor": "white"
           }
          },
          "shapedefaults": {
           "line": {
            "color": "#2a3f5f"
           }
          },
          "ternary": {
           "aaxis": {
            "gridcolor": "white",
            "linecolor": "white",
            "ticks": ""
           },
           "baxis": {
            "gridcolor": "white",
            "linecolor": "white",
            "ticks": ""
           },
           "bgcolor": "#E5ECF6",
           "caxis": {
            "gridcolor": "white",
            "linecolor": "white",
            "ticks": ""
           }
          },
          "title": {
           "x": 0.05
          },
          "xaxis": {
           "automargin": true,
           "gridcolor": "white",
           "linecolor": "white",
           "ticks": "",
           "title": {
            "standoff": 15
           },
           "zerolinecolor": "white",
           "zerolinewidth": 2
          },
          "yaxis": {
           "automargin": true,
           "gridcolor": "white",
           "linecolor": "white",
           "ticks": "",
           "title": {
            "standoff": 15
           },
           "zerolinecolor": "white",
           "zerolinewidth": 2
          }
         }
        },
        "title": {
         "font": {
          "color": "black"
         },
         "text": "Subsidence"
        },
        "xaxis": {
         "gridcolor": "lightgrey",
         "gridwidth": 1,
         "linecolor": "black",
         "linewidth": 1,
         "showgrid": true,
         "showline": true,
         "title": {
          "text": "Month-Year"
         },
         "zeroline": true,
         "zerolinecolor": "lightgrey",
         "zerolinewidth": 1
        },
        "yaxis": {
         "gridcolor": "lightgrey",
         "gridwidth": 1,
         "linecolor": "black",
         "linewidth": 1,
         "showgrid": true,
         "showline": true,
         "title": {
          "text": "Subsidence"
         },
         "zeroline": true,
         "zerolinecolor": "lightgrey",
         "zerolinewidth": 1
        }
       }
      }
     },
     "metadata": {},
     "output_type": "display_data"
    }
   ],
   "source": [
    "# Plot average monthly temperatures (actual and predicted) for test (out of time) data\n",
    "fig = go.Figure()\n",
    "\n",
    "#Trace for actual temperatures\n",
    "fig.add_trace(go.Scatter(x=np.array(df_train.columns),\n",
    "                         y=np.array(df_train.values).flatten(),\n",
    "                         mode='lines',\n",
    "                         name='Subsidence - Actual (Test)',\n",
    "                         opacity=0.8,\n",
    "                         line=dict(color='black', width=1)\n",
    "                        ))\n",
    "\n",
    "# Trace for predicted temperatures\n",
    "fig.add_trace(go.Scatter(x=np.array(df_train.columns[10:]),\n",
    "                         y=z,\n",
    "                         mode='lines',\n",
    "                         name='Subsidence - Predicted (Test)',\n",
    "                         opacity=0.8,\n",
    "                         line=dict(color='red', width=1)\n",
    "                        ))\n",
    "\n",
    "# Change chart background color\n",
    "fig.update_layout(dict(plot_bgcolor = 'white'))\n",
    "\n",
    "# Update axes lines\n",
    "fig.update_xaxes(showgrid=True, gridwidth=1, gridcolor='lightgrey', \n",
    "                 zeroline=True, zerolinewidth=1, zerolinecolor='lightgrey', \n",
    "                 showline=True, linewidth=1, linecolor='black',\n",
    "                 title='Month-Year'\n",
    "                )\n",
    "\n",
    "fig.update_yaxes(showgrid=True, gridwidth=1, gridcolor='lightgrey', \n",
    "                 zeroline=True, zerolinewidth=1, zerolinecolor='lightgrey', \n",
    "                 showline=True, linewidth=1, linecolor='black',\n",
    "                 title='Subsidence'\n",
    "                )\n",
    "\n",
    "# Set figure title\n",
    "fig.update_layout(title=dict(text=\"Subsidence\", font=dict(color='black')),\n",
    "                  legend=dict(orientation=\"h\", yanchor=\"bottom\", y=1.02, xanchor=\"right\", x=1)\n",
    "                 )\n",
    "fig.show()"
   ]
  },
  {
   "cell_type": "markdown",
   "metadata": {},
   "source": []
  }
 ],
 "metadata": {
  "kernelspec": {
   "display_name": "Python 3.10.5 64-bit",
   "language": "python",
   "name": "python3"
  },
  "language_info": {
   "codemirror_mode": {
    "name": "ipython",
    "version": 3
   },
   "file_extension": ".py",
   "mimetype": "text/x-python",
   "name": "python",
   "nbconvert_exporter": "python",
   "pygments_lexer": "ipython3",
   "version": "3.10.5"
  },
  "orig_nbformat": 4,
  "vscode": {
   "interpreter": {
    "hash": "d3e10ef16274dd72e574b8fa73b58450b957d8421a2901baded3cca26fcf5dda"
   }
  }
 },
 "nbformat": 4,
 "nbformat_minor": 2
}
