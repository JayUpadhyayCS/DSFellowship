{
 "cells": [
  {
   "cell_type": "code",
   "execution_count": 46,
   "metadata": {},
   "outputs": [
    {
     "name": "stdout",
     "output_type": "stream",
     "text": [
      "Tensorflow/Keras: 2.9.0\n",
      "pandas: 1.4.2\n",
      "numpy: 1.22.4\n",
      "sklearn: 1.1.1\n",
      "plotly: 5.9.0\n"
     ]
    }
   ],
   "source": [
    "# Tensorflow / Keras\n",
    "from tensorflow import keras # for building Neural Networks\n",
    "print('Tensorflow/Keras: %s' % keras.__version__) # print version\n",
    "from keras.models import Sequential # for creating a linear stack of layers for our Neural Network\n",
    "from keras import Input # for instantiating a keras tensor\n",
    "from keras.layers import Masking,Bidirectional, LSTM, RepeatVector, Dense, TimeDistributed,MaxPooling1D, Flatten, Conv1D,Conv2D,Dropout, MaxPooling2D # for creating layers inside the Neural Network\n",
    "from keras.optimizers import Adam\n",
    "# Data manipulation\n",
    "import pandas as pd # for data manipulation\n",
    "print('pandas: %s' % pd.__version__) # print version\n",
    "import numpy as np # for data manipulation\n",
    "print('numpy: %s' % np.__version__) # print version\n",
    "\n",
    "# Sklearn\n",
    "import sklearn\n",
    "print('sklearn: %s' % sklearn.__version__) # print version\n",
    "from sklearn.preprocessing import MinMaxScaler # for feature scaling\n",
    "\n",
    "# Visualization\n",
    "import plotly \n",
    "import plotly.express as px\n",
    "import plotly.graph_objects as go\n",
    "print('plotly: %s' % plotly.__version__) # print version\n",
    "\n",
    "#file accessing\n",
    "import os\n",
    "# time stuff\n",
    "from datetime import timedelta\n",
    "import calendar\n"
   ]
  },
  {
   "cell_type": "code",
   "execution_count": 47,
   "metadata": {},
   "outputs": [],
   "source": [
    "#get displacement for one dot over the whole time 60 20 20\n",
    "#open file by file\n",
    "df=pd.read_csv('InSAR_data_south/displacement/export_dataframe1.csv')"
   ]
  },
  {
   "cell_type": "code",
   "execution_count": 48,
   "metadata": {},
   "outputs": [],
   "source": [
    "df=df.set_index([df.columns[0],df.columns[1]])\n",
    "df.columns=pd.to_datetime(df.columns, format='%Y%m%d')\n",
    "timestep=10\n",
    "features=1"
   ]
  },
  {
   "cell_type": "code",
   "execution_count": 49,
   "metadata": {},
   "outputs": [],
   "source": [
    "#tup=(-119.9588,35.185)\n",
    "tup=(-119.2990,35.8852)\n",
    "#tup=(-120.2888,34.8349)\n",
    "#tup=(-117.6414,37.6236)"
   ]
  },
  {
   "cell_type": "code",
   "execution_count": 50,
   "metadata": {},
   "outputs": [],
   "source": [
    "def shaping(datain, timestep):\n",
    "    \n",
    "    # Convert input dataframe to array and flatten\n",
    "    arr=datain.to_numpy().flatten() \n",
    "    arr[np.isnan(arr)] = -100\n",
    "    #print(arr)\n",
    "    cnt=0\n",
    "    for mth in range(0, len(datain.columns)-(2*timestep)+1): # Define range lenght of the dates - 2* amount of timesep?? +1\n",
    "        cnt=cnt+1 # Gives us the number of samples. Later used to reshape the data\n",
    "        X_start=mth # Start month for inputs of each sample\n",
    "        X_end=mth+timestep # End month for inputs of each sample\n",
    "        Y_start=mth+timestep # Start month for targets of each sample. Note, start is inclusive and end is exclusive, that's why X_end and Y_start is the same number\n",
    "        Y_end=mth+2*timestep # End month for targets of each sample.  \n",
    "        \n",
    "        # Assemble input and target arrays containing all samples\n",
    "        if mth==0:\n",
    "            X_comb=arr[X_start:X_end]\n",
    "            Y_comb=arr[Y_start:Y_end]\n",
    "        else: \n",
    "            X_comb=np.append(X_comb, arr[X_start:X_end])\n",
    "            Y_comb=np.append(Y_comb, arr[Y_start:Y_end])\n",
    "    \n",
    "    # Reshape input and target arrays\n",
    "    X_out=np.reshape(X_comb, (cnt, timestep, 1))\n",
    "    Y_out=np.reshape(Y_comb, (cnt, timestep, 1))\n",
    "    return X_out, Y_out"
   ]
  },
  {
   "cell_type": "markdown",
   "metadata": {},
   "source": [
    "##### Split data into train and test dataframes"
   ]
  },
  {
   "cell_type": "code",
   "execution_count": 51,
   "metadata": {},
   "outputs": [],
   "source": [
    "\n",
    "df_train_temp=df.iloc[:, :88].copy()\n",
    "df_test_temp=df.iloc[:, 88:110].copy()\n"
   ]
  },
  {
   "cell_type": "markdown",
   "metadata": {},
   "source": [
    "##### pick a location to test"
   ]
  },
  {
   "cell_type": "code",
   "execution_count": 52,
   "metadata": {},
   "outputs": [],
   "source": [
    "\n",
    "df_train = df_train_temp[df_train_temp.index==tup].copy()\n",
    "df_test = df_test_temp[df_test_temp.index==tup].copy()"
   ]
  },
  {
   "cell_type": "markdown",
   "metadata": {},
   "source": [
    "##### shape data"
   ]
  },
  {
   "cell_type": "code",
   "execution_count": 53,
   "metadata": {},
   "outputs": [],
   "source": [
    "X_train, Y_train = shaping(datain=df_train, timestep= timestep)\n",
    "X_test, Y_test = shaping(datain=df_test, timestep=timestep)"
   ]
  },
  {
   "cell_type": "code",
   "execution_count": 54,
   "metadata": {},
   "outputs": [
    {
     "name": "stdout",
     "output_type": "stream",
     "text": [
      "(69, 10, 1)\n",
      "(69, 10, 1)\n"
     ]
    }
   ],
   "source": [
    "print(X_train.shape)\n",
    "print(X_train.shape)"
   ]
  },
  {
   "cell_type": "markdown",
   "metadata": {},
   "source": [
    "##### Step 3 - Specify the structure of a Neural Network"
   ]
  },
  {
   "cell_type": "code",
   "execution_count": 55,
   "metadata": {},
   "outputs": [],
   "source": [
    "model = Sequential()\n",
    "#model.add(Masking(mask_value=-100, input_shape=(timestep, 1)))\n",
    "model.add(Input(shape=(X_train.shape[1],X_train.shape[2]), name='Input-Layer')) \n",
    "\n",
    "model.add(Conv1D(128,1,activation='tanh',padding='same'))\n",
    "\n",
    "model.add(MaxPooling1D(1,padding='same'))\n",
    "# model.add(Conv1D(16,1,activation='tanh',padding='same'))\n",
    "# model.add(MaxPooling1D(1,padding='same'))\n",
    "#model.add(Dense(3, activation='softmax')) \n",
    "model.add(LSTM(units=64, recurrent_activation='sigmoid', activation='tanh',stateful=False, return_sequences=True))\n",
    "#model.add(LSTM(units=64, recurrent_activation='sigmoid', activation='tanh',stateful=False, return_sequences=True))\n",
    "model.add(TimeDistributed(Dense(100)))\n",
    "#model.add(Dense(3, activation='softmax')) screws it\n",
    "model.add(TimeDistributed(Dense(1)))\n",
    "# model.add(Dense(100, activation='relu'))\n",
    "# model.add(Dense(3, activation='softmax'))\n",
    "#model.add(Dense(1))\n",
    "# model = Sequential()\n",
    "# model.add(Conv1D(64, 2, activation=\"relu\", input_shape=X_train.shape[1:]))\n",
    "# model.add(Dense(16, activation=\"relu\"))\n",
    "# model.add(MaxPooling1D())\n",
    "# model.add(Flatten())\n",
    "# model.add(Dense(3, activation = 'softmax'))\n",
    "#model.compile(loss = 'sparse_categorical_crossentropy', \n",
    "#     optimizer = \"adam\",               \n",
    "#              metrics = ['accuracy'])\n",
    "#model.summary()\n",
    "\n",
    "\n",
    "# model = Sequential() # Model\n",
    "# model.add(Input(shape=(X_train.shape[1],X_train.shape[2]), name='Input-Layer'))\n",
    "# model.add(Conv1D(64, kernel_size=3, activation='relu', input_shape=(X_train.shape[1:])))\n",
    "# model.add(MaxPooling1D(1))\n",
    "# model.add(Flatten())\n",
    "# model.add(TimeDistributed(Dense(units=1, activation='linear'), name='Output-Layer')(input_shape=(X_train.shape[1:]))) # Output Layer, Linear(x) = x\n"
   ]
  },
  {
   "cell_type": "code",
   "execution_count": 56,
   "metadata": {},
   "outputs": [],
   "source": [
    "#optimizer=Adam(0.0005)\n",
    "model.compile(optimizer='adam', # default='rmsprop', an algorithm to be used in backpropagation\n",
    "              loss='mean_squared_error', # Loss function to be optimized. A string (name of loss function), or a tf.keras.losses.Loss instance.\n",
    "              metrics=['MeanSquaredError', 'MeanAbsoluteError'], # List of metrics to be evaluated by the model during training and testing. Each of this can be a string (name of a built-in function), function or a tf.keras.metrics.Metric instance. \n",
    "              loss_weights=None, # default=None, Optional list or dictionary specifying scalar coefficients (Python floats) to weight the loss contributions of different model outputs.\n",
    "              weighted_metrics=None, # default=None, List of metrics to be evaluated and weighted by sample_weight or class_weight during training and testing.\n",
    "              run_eagerly=None, # Defaults to False. If True, this Model's logic will not be wrapped in a tf.function. Recommended to leave this as None unless your Model cannot be run inside a tf.function.\n",
    "              steps_per_execution=None # Defaults to 1. The number of batches to run during each tf.function call. Running multiple batches inside a single tf.function call can greatly improve performance on TPUs or small models with a large Python overhead.\n",
    "        \n",
    "             )\n",
    "\n"
   ]
  },
  {
   "cell_type": "code",
   "execution_count": 57,
   "metadata": {
    "scrolled": true
   },
   "outputs": [
    {
     "name": "stdout",
     "output_type": "stream",
     "text": [
      "Epoch 1/500\n",
      "3/3 - 2s - loss: 1098.9843 - mean_squared_error: 1098.9843 - mean_absolute_error: 31.9386 - 2s/epoch - 800ms/step\n",
      "Epoch 2/500\n",
      "3/3 - 0s - loss: 1036.5723 - mean_squared_error: 1036.5721 - mean_absolute_error: 30.9566 - 24ms/epoch - 8ms/step\n",
      "Epoch 3/500\n",
      "3/3 - 0s - loss: 973.5220 - mean_squared_error: 973.5219 - mean_absolute_error: 29.9643 - 24ms/epoch - 8ms/step\n",
      "Epoch 4/500\n",
      "3/3 - 0s - loss: 913.4329 - mean_squared_error: 913.4328 - mean_absolute_error: 28.9437 - 24ms/epoch - 8ms/step\n",
      "Epoch 5/500\n",
      "3/3 - 0s - loss: 850.2465 - mean_squared_error: 850.2464 - mean_absolute_error: 27.8534 - 25ms/epoch - 8ms/step\n",
      "Epoch 6/500\n",
      "3/3 - 0s - loss: 785.2258 - mean_squared_error: 785.2257 - mean_absolute_error: 26.6615 - 23ms/epoch - 8ms/step\n",
      "Epoch 7/500\n",
      "3/3 - 0s - loss: 716.7668 - mean_squared_error: 716.7668 - mean_absolute_error: 25.3714 - 23ms/epoch - 8ms/step\n",
      "Epoch 8/500\n",
      "3/3 - 0s - loss: 648.4792 - mean_squared_error: 648.4792 - mean_absolute_error: 24.0018 - 23ms/epoch - 8ms/step\n",
      "Epoch 9/500\n",
      "3/3 - 0s - loss: 582.3359 - mean_squared_error: 582.3359 - mean_absolute_error: 22.5618 - 22ms/epoch - 7ms/step\n",
      "Epoch 10/500\n",
      "3/3 - 0s - loss: 515.8417 - mean_squared_error: 515.8417 - mean_absolute_error: 21.0732 - 23ms/epoch - 8ms/step\n",
      "Epoch 11/500\n",
      "3/3 - 0s - loss: 453.8172 - mean_squared_error: 453.8173 - mean_absolute_error: 19.5318 - 24ms/epoch - 8ms/step\n",
      "Epoch 12/500\n",
      "3/3 - 0s - loss: 394.2904 - mean_squared_error: 394.2904 - mean_absolute_error: 17.9349 - 24ms/epoch - 8ms/step\n",
      "Epoch 13/500\n",
      "3/3 - 0s - loss: 338.3118 - mean_squared_error: 338.3118 - mean_absolute_error: 16.3688 - 24ms/epoch - 8ms/step\n",
      "Epoch 14/500\n",
      "3/3 - 0s - loss: 286.4221 - mean_squared_error: 286.4221 - mean_absolute_error: 14.9236 - 23ms/epoch - 8ms/step\n",
      "Epoch 15/500\n",
      "3/3 - 0s - loss: 239.8206 - mean_squared_error: 239.8206 - mean_absolute_error: 13.5796 - 25ms/epoch - 8ms/step\n",
      "Epoch 16/500\n",
      "3/3 - 0s - loss: 202.0359 - mean_squared_error: 202.0359 - mean_absolute_error: 12.5014 - 24ms/epoch - 8ms/step\n",
      "Epoch 17/500\n",
      "3/3 - 0s - loss: 166.0697 - mean_squared_error: 166.0697 - mean_absolute_error: 11.3358 - 23ms/epoch - 8ms/step\n",
      "Epoch 18/500\n",
      "3/3 - 0s - loss: 139.9650 - mean_squared_error: 139.9650 - mean_absolute_error: 10.4388 - 23ms/epoch - 8ms/step\n",
      "Epoch 19/500\n",
      "3/3 - 0s - loss: 118.5521 - mean_squared_error: 118.5521 - mean_absolute_error: 9.5466 - 24ms/epoch - 8ms/step\n",
      "Epoch 20/500\n",
      "3/3 - 0s - loss: 102.2053 - mean_squared_error: 102.2053 - mean_absolute_error: 8.7620 - 23ms/epoch - 8ms/step\n",
      "Epoch 21/500\n",
      "3/3 - 0s - loss: 91.9850 - mean_squared_error: 91.9850 - mean_absolute_error: 8.1065 - 23ms/epoch - 8ms/step\n",
      "Epoch 22/500\n",
      "3/3 - 0s - loss: 85.3442 - mean_squared_error: 85.3442 - mean_absolute_error: 7.5262 - 24ms/epoch - 8ms/step\n",
      "Epoch 23/500\n",
      "3/3 - 0s - loss: 81.8235 - mean_squared_error: 81.8235 - mean_absolute_error: 7.1909 - 41ms/epoch - 14ms/step\n",
      "Epoch 24/500\n",
      "3/3 - 0s - loss: 80.1792 - mean_squared_error: 80.1792 - mean_absolute_error: 7.0841 - 33ms/epoch - 11ms/step\n",
      "Epoch 25/500\n",
      "3/3 - 0s - loss: 79.6335 - mean_squared_error: 79.6335 - mean_absolute_error: 7.0648 - 23ms/epoch - 8ms/step\n",
      "Epoch 26/500\n",
      "3/3 - 0s - loss: 79.8890 - mean_squared_error: 79.8890 - mean_absolute_error: 7.0927 - 25ms/epoch - 8ms/step\n",
      "Epoch 27/500\n",
      "3/3 - 0s - loss: 80.1647 - mean_squared_error: 80.1647 - mean_absolute_error: 7.1207 - 26ms/epoch - 9ms/step\n",
      "Epoch 28/500\n",
      "3/3 - 0s - loss: 80.4222 - mean_squared_error: 80.4222 - mean_absolute_error: 7.1400 - 23ms/epoch - 8ms/step\n",
      "Epoch 29/500\n",
      "3/3 - 0s - loss: 80.3988 - mean_squared_error: 80.3988 - mean_absolute_error: 7.1417 - 23ms/epoch - 8ms/step\n",
      "Epoch 30/500\n",
      "3/3 - 0s - loss: 80.2490 - mean_squared_error: 80.2490 - mean_absolute_error: 7.1355 - 23ms/epoch - 8ms/step\n",
      "Epoch 31/500\n",
      "3/3 - 0s - loss: 79.9242 - mean_squared_error: 79.9242 - mean_absolute_error: 7.1206 - 23ms/epoch - 8ms/step\n",
      "Epoch 32/500\n",
      "3/3 - 0s - loss: 79.5977 - mean_squared_error: 79.5977 - mean_absolute_error: 7.1049 - 22ms/epoch - 7ms/step\n",
      "Epoch 33/500\n",
      "3/3 - 0s - loss: 79.0748 - mean_squared_error: 79.0748 - mean_absolute_error: 7.0769 - 23ms/epoch - 8ms/step\n",
      "Epoch 34/500\n",
      "3/3 - 0s - loss: 78.7693 - mean_squared_error: 78.7693 - mean_absolute_error: 7.0557 - 30ms/epoch - 10ms/step\n",
      "Epoch 35/500\n",
      "3/3 - 0s - loss: 78.3418 - mean_squared_error: 78.3418 - mean_absolute_error: 7.0305 - 26ms/epoch - 9ms/step\n",
      "Epoch 36/500\n",
      "3/3 - 0s - loss: 78.0665 - mean_squared_error: 78.0665 - mean_absolute_error: 7.0146 - 27ms/epoch - 9ms/step\n",
      "Epoch 37/500\n",
      "3/3 - 0s - loss: 77.8290 - mean_squared_error: 77.8290 - mean_absolute_error: 7.0044 - 29ms/epoch - 10ms/step\n",
      "Epoch 38/500\n",
      "3/3 - 0s - loss: 77.6623 - mean_squared_error: 77.6623 - mean_absolute_error: 6.9976 - 28ms/epoch - 9ms/step\n",
      "Epoch 39/500\n",
      "3/3 - 0s - loss: 77.4068 - mean_squared_error: 77.4068 - mean_absolute_error: 6.9892 - 25ms/epoch - 8ms/step\n",
      "Epoch 40/500\n",
      "3/3 - 0s - loss: 77.2140 - mean_squared_error: 77.2140 - mean_absolute_error: 6.9844 - 24ms/epoch - 8ms/step\n",
      "Epoch 41/500\n",
      "3/3 - 0s - loss: 76.7821 - mean_squared_error: 76.7821 - mean_absolute_error: 6.9667 - 25ms/epoch - 8ms/step\n",
      "Epoch 42/500\n",
      "3/3 - 0s - loss: 75.8980 - mean_squared_error: 75.8980 - mean_absolute_error: 6.9311 - 24ms/epoch - 8ms/step\n",
      "Epoch 43/500\n",
      "3/3 - 0s - loss: 73.3938 - mean_squared_error: 73.3938 - mean_absolute_error: 6.8072 - 26ms/epoch - 9ms/step\n",
      "Epoch 44/500\n",
      "3/3 - 0s - loss: 73.9086 - mean_squared_error: 73.9086 - mean_absolute_error: 6.8049 - 24ms/epoch - 8ms/step\n",
      "Epoch 45/500\n",
      "3/3 - 0s - loss: 73.1984 - mean_squared_error: 73.1984 - mean_absolute_error: 6.7699 - 24ms/epoch - 8ms/step\n",
      "Epoch 46/500\n",
      "3/3 - 0s - loss: 71.4132 - mean_squared_error: 71.4132 - mean_absolute_error: 6.7139 - 26ms/epoch - 9ms/step\n",
      "Epoch 47/500\n",
      "3/3 - 0s - loss: 71.7584 - mean_squared_error: 71.7584 - mean_absolute_error: 6.7623 - 25ms/epoch - 8ms/step\n",
      "Epoch 48/500\n",
      "3/3 - 0s - loss: 69.7066 - mean_squared_error: 69.7066 - mean_absolute_error: 6.6671 - 25ms/epoch - 8ms/step\n",
      "Epoch 49/500\n",
      "3/3 - 0s - loss: 67.1148 - mean_squared_error: 67.1148 - mean_absolute_error: 6.5117 - 25ms/epoch - 8ms/step\n",
      "Epoch 50/500\n",
      "3/3 - 0s - loss: 66.3424 - mean_squared_error: 66.3424 - mean_absolute_error: 6.4688 - 25ms/epoch - 8ms/step\n",
      "Epoch 51/500\n",
      "3/3 - 0s - loss: 63.9185 - mean_squared_error: 63.9185 - mean_absolute_error: 6.3618 - 24ms/epoch - 8ms/step\n",
      "Epoch 52/500\n",
      "3/3 - 0s - loss: 60.8592 - mean_squared_error: 60.8592 - mean_absolute_error: 6.2438 - 26ms/epoch - 9ms/step\n",
      "Epoch 53/500\n",
      "3/3 - 0s - loss: 59.2022 - mean_squared_error: 59.2022 - mean_absolute_error: 6.1590 - 25ms/epoch - 8ms/step\n",
      "Epoch 54/500\n",
      "3/3 - 0s - loss: 55.4801 - mean_squared_error: 55.4801 - mean_absolute_error: 6.0110 - 24ms/epoch - 8ms/step\n",
      "Epoch 55/500\n",
      "3/3 - 0s - loss: 53.2637 - mean_squared_error: 53.2637 - mean_absolute_error: 5.9629 - 24ms/epoch - 8ms/step\n",
      "Epoch 56/500\n",
      "3/3 - 0s - loss: 51.5005 - mean_squared_error: 51.5005 - mean_absolute_error: 5.8812 - 24ms/epoch - 8ms/step\n",
      "Epoch 57/500\n",
      "3/3 - 0s - loss: 48.4490 - mean_squared_error: 48.4490 - mean_absolute_error: 5.6866 - 25ms/epoch - 8ms/step\n",
      "Epoch 58/500\n",
      "3/3 - 0s - loss: 46.8227 - mean_squared_error: 46.8227 - mean_absolute_error: 5.6136 - 24ms/epoch - 8ms/step\n",
      "Epoch 59/500\n",
      "3/3 - 0s - loss: 45.1601 - mean_squared_error: 45.1601 - mean_absolute_error: 5.5423 - 25ms/epoch - 8ms/step\n",
      "Epoch 60/500\n",
      "3/3 - 0s - loss: 42.5208 - mean_squared_error: 42.5208 - mean_absolute_error: 5.4091 - 24ms/epoch - 8ms/step\n",
      "Epoch 61/500\n",
      "3/3 - 0s - loss: 41.9623 - mean_squared_error: 41.9623 - mean_absolute_error: 5.4442 - 25ms/epoch - 8ms/step\n",
      "Epoch 62/500\n",
      "3/3 - 0s - loss: 38.5190 - mean_squared_error: 38.5190 - mean_absolute_error: 5.2018 - 25ms/epoch - 8ms/step\n",
      "Epoch 63/500\n",
      "3/3 - 0s - loss: 37.5022 - mean_squared_error: 37.5022 - mean_absolute_error: 5.1338 - 24ms/epoch - 8ms/step\n",
      "Epoch 64/500\n",
      "3/3 - 0s - loss: 36.2891 - mean_squared_error: 36.2891 - mean_absolute_error: 5.0533 - 22ms/epoch - 7ms/step\n",
      "Epoch 65/500\n",
      "3/3 - 0s - loss: 34.9766 - mean_squared_error: 34.9766 - mean_absolute_error: 4.9758 - 23ms/epoch - 8ms/step\n",
      "Epoch 66/500\n",
      "3/3 - 0s - loss: 33.4804 - mean_squared_error: 33.4804 - mean_absolute_error: 4.8504 - 24ms/epoch - 8ms/step\n",
      "Epoch 67/500\n",
      "3/3 - 0s - loss: 32.3966 - mean_squared_error: 32.3966 - mean_absolute_error: 4.7623 - 24ms/epoch - 8ms/step\n",
      "Epoch 68/500\n",
      "3/3 - 0s - loss: 31.3640 - mean_squared_error: 31.3640 - mean_absolute_error: 4.6471 - 22ms/epoch - 7ms/step\n",
      "Epoch 69/500\n",
      "3/3 - 0s - loss: 30.7161 - mean_squared_error: 30.7161 - mean_absolute_error: 4.5864 - 24ms/epoch - 8ms/step\n",
      "Epoch 70/500\n",
      "3/3 - 0s - loss: 29.9916 - mean_squared_error: 29.9916 - mean_absolute_error: 4.5282 - 23ms/epoch - 8ms/step\n",
      "Epoch 71/500\n",
      "3/3 - 0s - loss: 29.2218 - mean_squared_error: 29.2218 - mean_absolute_error: 4.4450 - 22ms/epoch - 7ms/step\n",
      "Epoch 72/500\n",
      "3/3 - 0s - loss: 29.7200 - mean_squared_error: 29.7200 - mean_absolute_error: 4.4214 - 24ms/epoch - 8ms/step\n",
      "Epoch 73/500\n",
      "3/3 - 0s - loss: 30.0651 - mean_squared_error: 30.0651 - mean_absolute_error: 4.4409 - 25ms/epoch - 8ms/step\n",
      "Epoch 74/500\n",
      "3/3 - 0s - loss: 27.9422 - mean_squared_error: 27.9421 - mean_absolute_error: 4.3135 - 24ms/epoch - 8ms/step\n",
      "Epoch 75/500\n",
      "3/3 - 0s - loss: 27.9673 - mean_squared_error: 27.9673 - mean_absolute_error: 4.3917 - 27ms/epoch - 9ms/step\n",
      "Epoch 76/500\n",
      "3/3 - 0s - loss: 27.0731 - mean_squared_error: 27.0731 - mean_absolute_error: 4.3282 - 26ms/epoch - 9ms/step\n",
      "Epoch 77/500\n",
      "3/3 - 0s - loss: 25.9691 - mean_squared_error: 25.9691 - mean_absolute_error: 4.1875 - 23ms/epoch - 8ms/step\n",
      "Epoch 78/500\n",
      "3/3 - 0s - loss: 25.4284 - mean_squared_error: 25.4284 - mean_absolute_error: 4.1012 - 23ms/epoch - 8ms/step\n",
      "Epoch 79/500\n",
      "3/3 - 0s - loss: 24.8539 - mean_squared_error: 24.8539 - mean_absolute_error: 4.0656 - 22ms/epoch - 7ms/step\n",
      "Epoch 80/500\n",
      "3/3 - 0s - loss: 24.1749 - mean_squared_error: 24.1749 - mean_absolute_error: 3.9766 - 23ms/epoch - 8ms/step\n",
      "Epoch 81/500\n",
      "3/3 - 0s - loss: 25.0240 - mean_squared_error: 25.0240 - mean_absolute_error: 3.9863 - 22ms/epoch - 7ms/step\n",
      "Epoch 82/500\n",
      "3/3 - 0s - loss: 24.5691 - mean_squared_error: 24.5691 - mean_absolute_error: 4.0164 - 23ms/epoch - 8ms/step\n",
      "Epoch 83/500\n",
      "3/3 - 0s - loss: 23.6650 - mean_squared_error: 23.6650 - mean_absolute_error: 3.9473 - 23ms/epoch - 8ms/step\n",
      "Epoch 84/500\n",
      "3/3 - 0s - loss: 23.6079 - mean_squared_error: 23.6079 - mean_absolute_error: 3.8885 - 25ms/epoch - 8ms/step\n",
      "Epoch 85/500\n",
      "3/3 - 0s - loss: 23.2215 - mean_squared_error: 23.2215 - mean_absolute_error: 3.8972 - 24ms/epoch - 8ms/step\n",
      "Epoch 86/500\n",
      "3/3 - 0s - loss: 23.2558 - mean_squared_error: 23.2558 - mean_absolute_error: 3.9516 - 24ms/epoch - 8ms/step\n",
      "Epoch 87/500\n",
      "3/3 - 0s - loss: 22.4199 - mean_squared_error: 22.4199 - mean_absolute_error: 3.8568 - 25ms/epoch - 8ms/step\n",
      "Epoch 88/500\n",
      "3/3 - 0s - loss: 23.5307 - mean_squared_error: 23.5307 - mean_absolute_error: 3.8440 - 24ms/epoch - 8ms/step\n",
      "Epoch 89/500\n",
      "3/3 - 0s - loss: 22.1490 - mean_squared_error: 22.1490 - mean_absolute_error: 3.7472 - 28ms/epoch - 9ms/step\n",
      "Epoch 90/500\n",
      "3/3 - 0s - loss: 22.3103 - mean_squared_error: 22.3103 - mean_absolute_error: 3.8462 - 27ms/epoch - 9ms/step\n",
      "Epoch 91/500\n",
      "3/3 - 0s - loss: 21.6632 - mean_squared_error: 21.6632 - mean_absolute_error: 3.8006 - 26ms/epoch - 9ms/step\n",
      "Epoch 92/500\n",
      "3/3 - 0s - loss: 20.8301 - mean_squared_error: 20.8301 - mean_absolute_error: 3.7071 - 23ms/epoch - 8ms/step\n",
      "Epoch 93/500\n",
      "3/3 - 0s - loss: 20.5928 - mean_squared_error: 20.5928 - mean_absolute_error: 3.6676 - 23ms/epoch - 8ms/step\n",
      "Epoch 94/500\n",
      "3/3 - 0s - loss: 20.5955 - mean_squared_error: 20.5955 - mean_absolute_error: 3.6779 - 23ms/epoch - 8ms/step\n",
      "Epoch 95/500\n",
      "3/3 - 0s - loss: 20.7221 - mean_squared_error: 20.7221 - mean_absolute_error: 3.7153 - 23ms/epoch - 8ms/step\n",
      "Epoch 96/500\n",
      "3/3 - 0s - loss: 19.8408 - mean_squared_error: 19.8408 - mean_absolute_error: 3.6217 - 23ms/epoch - 8ms/step\n",
      "Epoch 97/500\n",
      "3/3 - 0s - loss: 19.3938 - mean_squared_error: 19.3938 - mean_absolute_error: 3.5535 - 24ms/epoch - 8ms/step\n",
      "Epoch 98/500\n",
      "3/3 - 0s - loss: 19.5565 - mean_squared_error: 19.5565 - mean_absolute_error: 3.5802 - 23ms/epoch - 8ms/step\n",
      "Epoch 99/500\n",
      "3/3 - 0s - loss: 19.1839 - mean_squared_error: 19.1839 - mean_absolute_error: 3.5755 - 22ms/epoch - 7ms/step\n",
      "Epoch 100/500\n",
      "3/3 - 0s - loss: 19.1283 - mean_squared_error: 19.1283 - mean_absolute_error: 3.5499 - 31ms/epoch - 10ms/step\n",
      "Epoch 101/500\n",
      "3/3 - 0s - loss: 19.1058 - mean_squared_error: 19.1058 - mean_absolute_error: 3.5278 - 29ms/epoch - 10ms/step\n",
      "Epoch 102/500\n",
      "3/3 - 0s - loss: 18.6538 - mean_squared_error: 18.6538 - mean_absolute_error: 3.5018 - 27ms/epoch - 9ms/step\n",
      "Epoch 103/500\n",
      "3/3 - 0s - loss: 18.6329 - mean_squared_error: 18.6329 - mean_absolute_error: 3.4671 - 29ms/epoch - 10ms/step\n",
      "Epoch 104/500\n",
      "3/3 - 0s - loss: 18.2949 - mean_squared_error: 18.2949 - mean_absolute_error: 3.4162 - 25ms/epoch - 8ms/step\n",
      "Epoch 105/500\n",
      "3/3 - 0s - loss: 18.6553 - mean_squared_error: 18.6553 - mean_absolute_error: 3.5184 - 23ms/epoch - 8ms/step\n",
      "Epoch 106/500\n",
      "3/3 - 0s - loss: 17.9361 - mean_squared_error: 17.9361 - mean_absolute_error: 3.4322 - 24ms/epoch - 8ms/step\n",
      "Epoch 107/500\n",
      "3/3 - 0s - loss: 18.2103 - mean_squared_error: 18.2103 - mean_absolute_error: 3.3619 - 25ms/epoch - 8ms/step\n",
      "Epoch 108/500\n",
      "3/3 - 0s - loss: 18.9321 - mean_squared_error: 18.9321 - mean_absolute_error: 3.3926 - 24ms/epoch - 8ms/step\n",
      "Epoch 109/500\n",
      "3/3 - 0s - loss: 18.1920 - mean_squared_error: 18.1920 - mean_absolute_error: 3.3584 - 24ms/epoch - 8ms/step\n",
      "Epoch 110/500\n",
      "3/3 - 0s - loss: 17.6664 - mean_squared_error: 17.6664 - mean_absolute_error: 3.4403 - 24ms/epoch - 8ms/step\n",
      "Epoch 111/500\n",
      "3/3 - 0s - loss: 17.9289 - mean_squared_error: 17.9289 - mean_absolute_error: 3.4729 - 24ms/epoch - 8ms/step\n",
      "Epoch 112/500\n",
      "3/3 - 0s - loss: 16.8827 - mean_squared_error: 16.8827 - mean_absolute_error: 3.3374 - 24ms/epoch - 8ms/step\n",
      "Epoch 113/500\n",
      "3/3 - 0s - loss: 17.6210 - mean_squared_error: 17.6210 - mean_absolute_error: 3.3097 - 23ms/epoch - 8ms/step\n",
      "Epoch 114/500\n",
      "3/3 - 0s - loss: 16.6652 - mean_squared_error: 16.6652 - mean_absolute_error: 3.2384 - 23ms/epoch - 8ms/step\n",
      "Epoch 115/500\n",
      "3/3 - 0s - loss: 18.3630 - mean_squared_error: 18.3630 - mean_absolute_error: 3.4841 - 24ms/epoch - 8ms/step\n",
      "Epoch 116/500\n",
      "3/3 - 0s - loss: 18.2200 - mean_squared_error: 18.2200 - mean_absolute_error: 3.5072 - 24ms/epoch - 8ms/step\n",
      "Epoch 117/500\n",
      "3/3 - 0s - loss: 19.5349 - mean_squared_error: 19.5349 - mean_absolute_error: 3.5845 - 23ms/epoch - 8ms/step\n",
      "Epoch 118/500\n",
      "3/3 - 0s - loss: 19.0178 - mean_squared_error: 19.0178 - mean_absolute_error: 3.5190 - 22ms/epoch - 7ms/step\n",
      "Epoch 119/500\n",
      "3/3 - 0s - loss: 17.9128 - mean_squared_error: 17.9128 - mean_absolute_error: 3.4225 - 23ms/epoch - 8ms/step\n",
      "Epoch 120/500\n",
      "3/3 - 0s - loss: 17.8636 - mean_squared_error: 17.8636 - mean_absolute_error: 3.4243 - 23ms/epoch - 8ms/step\n",
      "Epoch 121/500\n",
      "3/3 - 0s - loss: 18.4440 - mean_squared_error: 18.4440 - mean_absolute_error: 3.5170 - 23ms/epoch - 8ms/step\n",
      "Epoch 122/500\n",
      "3/3 - 0s - loss: 17.4964 - mean_squared_error: 17.4964 - mean_absolute_error: 3.4201 - 22ms/epoch - 7ms/step\n",
      "Epoch 123/500\n",
      "3/3 - 0s - loss: 17.4473 - mean_squared_error: 17.4473 - mean_absolute_error: 3.3194 - 23ms/epoch - 8ms/step\n",
      "Epoch 124/500\n",
      "3/3 - 0s - loss: 18.6003 - mean_squared_error: 18.6003 - mean_absolute_error: 3.3875 - 24ms/epoch - 8ms/step\n",
      "Epoch 125/500\n",
      "3/3 - 0s - loss: 17.1696 - mean_squared_error: 17.1696 - mean_absolute_error: 3.2957 - 24ms/epoch - 8ms/step\n",
      "Epoch 126/500\n",
      "3/3 - 0s - loss: 16.6677 - mean_squared_error: 16.6677 - mean_absolute_error: 3.2915 - 23ms/epoch - 8ms/step\n",
      "Epoch 127/500\n",
      "3/3 - 0s - loss: 16.8559 - mean_squared_error: 16.8559 - mean_absolute_error: 3.2943 - 28ms/epoch - 9ms/step\n",
      "Epoch 128/500\n",
      "3/3 - 0s - loss: 16.4856 - mean_squared_error: 16.4856 - mean_absolute_error: 3.2297 - 24ms/epoch - 8ms/step\n",
      "Epoch 129/500\n",
      "3/3 - 0s - loss: 16.3379 - mean_squared_error: 16.3379 - mean_absolute_error: 3.2475 - 23ms/epoch - 8ms/step\n",
      "Epoch 130/500\n",
      "3/3 - 0s - loss: 16.1796 - mean_squared_error: 16.1796 - mean_absolute_error: 3.2017 - 23ms/epoch - 8ms/step\n",
      "Epoch 131/500\n",
      "3/3 - 0s - loss: 16.2079 - mean_squared_error: 16.2079 - mean_absolute_error: 3.1798 - 24ms/epoch - 8ms/step\n",
      "Epoch 132/500\n",
      "3/3 - 0s - loss: 15.4653 - mean_squared_error: 15.4653 - mean_absolute_error: 3.1315 - 23ms/epoch - 8ms/step\n",
      "Epoch 133/500\n",
      "3/3 - 0s - loss: 15.2009 - mean_squared_error: 15.2009 - mean_absolute_error: 3.1432 - 22ms/epoch - 7ms/step\n",
      "Epoch 134/500\n",
      "3/3 - 0s - loss: 16.0690 - mean_squared_error: 16.0690 - mean_absolute_error: 3.2435 - 23ms/epoch - 8ms/step\n",
      "Epoch 135/500\n",
      "3/3 - 0s - loss: 15.6815 - mean_squared_error: 15.6815 - mean_absolute_error: 3.2006 - 24ms/epoch - 8ms/step\n",
      "Epoch 136/500\n",
      "3/3 - 0s - loss: 15.2483 - mean_squared_error: 15.2483 - mean_absolute_error: 3.1152 - 23ms/epoch - 8ms/step\n",
      "Epoch 137/500\n",
      "3/3 - 0s - loss: 15.7208 - mean_squared_error: 15.7208 - mean_absolute_error: 3.1118 - 23ms/epoch - 8ms/step\n",
      "Epoch 138/500\n",
      "3/3 - 0s - loss: 14.4918 - mean_squared_error: 14.4918 - mean_absolute_error: 3.0631 - 24ms/epoch - 8ms/step\n",
      "Epoch 139/500\n",
      "3/3 - 0s - loss: 15.8469 - mean_squared_error: 15.8469 - mean_absolute_error: 3.2365 - 24ms/epoch - 8ms/step\n",
      "Epoch 140/500\n",
      "3/3 - 0s - loss: 15.7302 - mean_squared_error: 15.7302 - mean_absolute_error: 3.2149 - 25ms/epoch - 8ms/step\n",
      "Epoch 141/500\n",
      "3/3 - 0s - loss: 15.4423 - mean_squared_error: 15.4423 - mean_absolute_error: 3.1372 - 24ms/epoch - 8ms/step\n",
      "Epoch 142/500\n",
      "3/3 - 0s - loss: 14.7285 - mean_squared_error: 14.7285 - mean_absolute_error: 3.0772 - 23ms/epoch - 8ms/step\n",
      "Epoch 143/500\n",
      "3/3 - 0s - loss: 14.7339 - mean_squared_error: 14.7339 - mean_absolute_error: 3.0861 - 22ms/epoch - 7ms/step\n",
      "Epoch 144/500\n",
      "3/3 - 0s - loss: 14.3047 - mean_squared_error: 14.3047 - mean_absolute_error: 3.0346 - 23ms/epoch - 8ms/step\n",
      "Epoch 145/500\n",
      "3/3 - 0s - loss: 14.4346 - mean_squared_error: 14.4346 - mean_absolute_error: 3.0736 - 23ms/epoch - 8ms/step\n",
      "Epoch 146/500\n",
      "3/3 - 0s - loss: 14.3927 - mean_squared_error: 14.3927 - mean_absolute_error: 3.0734 - 23ms/epoch - 8ms/step\n",
      "Epoch 147/500\n",
      "3/3 - 0s - loss: 13.9888 - mean_squared_error: 13.9888 - mean_absolute_error: 2.9956 - 23ms/epoch - 8ms/step\n",
      "Epoch 148/500\n",
      "3/3 - 0s - loss: 15.6319 - mean_squared_error: 15.6319 - mean_absolute_error: 3.0787 - 23ms/epoch - 8ms/step\n",
      "Epoch 149/500\n",
      "3/3 - 0s - loss: 14.1807 - mean_squared_error: 14.1807 - mean_absolute_error: 2.9873 - 26ms/epoch - 9ms/step\n",
      "Epoch 150/500\n",
      "3/3 - 0s - loss: 15.3423 - mean_squared_error: 15.3423 - mean_absolute_error: 3.1999 - 23ms/epoch - 8ms/step\n",
      "Epoch 151/500\n",
      "3/3 - 0s - loss: 14.7241 - mean_squared_error: 14.7241 - mean_absolute_error: 3.1267 - 27ms/epoch - 9ms/step\n",
      "Epoch 152/500\n",
      "3/3 - 0s - loss: 15.0983 - mean_squared_error: 15.0983 - mean_absolute_error: 3.0578 - 24ms/epoch - 8ms/step\n",
      "Epoch 153/500\n",
      "3/3 - 0s - loss: 14.7645 - mean_squared_error: 14.7645 - mean_absolute_error: 3.0860 - 23ms/epoch - 8ms/step\n",
      "Epoch 154/500\n",
      "3/3 - 0s - loss: 14.8766 - mean_squared_error: 14.8766 - mean_absolute_error: 3.1267 - 23ms/epoch - 8ms/step\n",
      "Epoch 155/500\n",
      "3/3 - 0s - loss: 13.8779 - mean_squared_error: 13.8779 - mean_absolute_error: 3.0193 - 23ms/epoch - 8ms/step\n",
      "Epoch 156/500\n",
      "3/3 - 0s - loss: 15.3870 - mean_squared_error: 15.3870 - mean_absolute_error: 3.0953 - 24ms/epoch - 8ms/step\n",
      "Epoch 157/500\n",
      "3/3 - 0s - loss: 15.7064 - mean_squared_error: 15.7064 - mean_absolute_error: 3.1106 - 24ms/epoch - 8ms/step\n",
      "Epoch 158/500\n",
      "3/3 - 0s - loss: 14.1102 - mean_squared_error: 14.1102 - mean_absolute_error: 3.0051 - 23ms/epoch - 8ms/step\n",
      "Epoch 159/500\n",
      "3/3 - 0s - loss: 13.9482 - mean_squared_error: 13.9482 - mean_absolute_error: 3.0285 - 24ms/epoch - 8ms/step\n",
      "Epoch 160/500\n",
      "3/3 - 0s - loss: 14.9485 - mean_squared_error: 14.9485 - mean_absolute_error: 3.1229 - 22ms/epoch - 7ms/step\n",
      "Epoch 161/500\n",
      "3/3 - 0s - loss: 13.7875 - mean_squared_error: 13.7875 - mean_absolute_error: 3.0142 - 23ms/epoch - 8ms/step\n",
      "Epoch 162/500\n",
      "3/3 - 0s - loss: 14.0741 - mean_squared_error: 14.0741 - mean_absolute_error: 2.9696 - 23ms/epoch - 8ms/step\n",
      "Epoch 163/500\n",
      "3/3 - 0s - loss: 14.3364 - mean_squared_error: 14.3364 - mean_absolute_error: 2.9940 - 23ms/epoch - 8ms/step\n",
      "Epoch 164/500\n",
      "3/3 - 0s - loss: 14.6989 - mean_squared_error: 14.6989 - mean_absolute_error: 3.1276 - 24ms/epoch - 8ms/step\n",
      "Epoch 165/500\n",
      "3/3 - 0s - loss: 20.6480 - mean_squared_error: 20.6480 - mean_absolute_error: 3.6143 - 23ms/epoch - 8ms/step\n",
      "Epoch 166/500\n",
      "3/3 - 0s - loss: 14.4986 - mean_squared_error: 14.4986 - mean_absolute_error: 3.0882 - 23ms/epoch - 8ms/step\n",
      "Epoch 167/500\n",
      "3/3 - 0s - loss: 17.2560 - mean_squared_error: 17.2560 - mean_absolute_error: 3.2189 - 22ms/epoch - 7ms/step\n",
      "Epoch 168/500\n",
      "3/3 - 0s - loss: 14.7790 - mean_squared_error: 14.7790 - mean_absolute_error: 3.0325 - 23ms/epoch - 8ms/step\n",
      "Epoch 169/500\n",
      "3/3 - 0s - loss: 16.6100 - mean_squared_error: 16.6100 - mean_absolute_error: 3.2386 - 24ms/epoch - 8ms/step\n",
      "Epoch 170/500\n",
      "3/3 - 0s - loss: 14.5032 - mean_squared_error: 14.5032 - mean_absolute_error: 3.1077 - 32ms/epoch - 11ms/step\n",
      "Epoch 171/500\n",
      "3/3 - 0s - loss: 13.5808 - mean_squared_error: 13.5807 - mean_absolute_error: 3.0030 - 34ms/epoch - 11ms/step\n",
      "Epoch 172/500\n",
      "3/3 - 0s - loss: 13.6697 - mean_squared_error: 13.6697 - mean_absolute_error: 2.9907 - 29ms/epoch - 10ms/step\n",
      "Epoch 173/500\n",
      "3/3 - 0s - loss: 13.8512 - mean_squared_error: 13.8512 - mean_absolute_error: 2.9805 - 24ms/epoch - 8ms/step\n",
      "Epoch 174/500\n",
      "3/3 - 0s - loss: 13.8019 - mean_squared_error: 13.8019 - mean_absolute_error: 2.9619 - 23ms/epoch - 8ms/step\n",
      "Epoch 175/500\n",
      "3/3 - 0s - loss: 13.7646 - mean_squared_error: 13.7646 - mean_absolute_error: 2.9999 - 28ms/epoch - 9ms/step\n",
      "Epoch 176/500\n",
      "3/3 - 0s - loss: 13.3081 - mean_squared_error: 13.3081 - mean_absolute_error: 2.9719 - 24ms/epoch - 8ms/step\n",
      "Epoch 177/500\n",
      "3/3 - 0s - loss: 13.7920 - mean_squared_error: 13.7920 - mean_absolute_error: 2.9987 - 23ms/epoch - 8ms/step\n",
      "Epoch 178/500\n",
      "3/3 - 0s - loss: 13.3749 - mean_squared_error: 13.3749 - mean_absolute_error: 2.9626 - 23ms/epoch - 8ms/step\n",
      "Epoch 179/500\n",
      "3/3 - 0s - loss: 13.2689 - mean_squared_error: 13.2689 - mean_absolute_error: 2.9543 - 23ms/epoch - 8ms/step\n",
      "Epoch 180/500\n",
      "3/3 - 0s - loss: 13.1620 - mean_squared_error: 13.1620 - mean_absolute_error: 2.9127 - 23ms/epoch - 8ms/step\n",
      "Epoch 181/500\n",
      "3/3 - 0s - loss: 14.3266 - mean_squared_error: 14.3266 - mean_absolute_error: 2.9724 - 23ms/epoch - 8ms/step\n",
      "Epoch 182/500\n",
      "3/3 - 0s - loss: 13.6651 - mean_squared_error: 13.6651 - mean_absolute_error: 2.9265 - 23ms/epoch - 8ms/step\n",
      "Epoch 183/500\n",
      "3/3 - 0s - loss: 13.0352 - mean_squared_error: 13.0352 - mean_absolute_error: 2.9316 - 23ms/epoch - 8ms/step\n",
      "Epoch 184/500\n",
      "3/3 - 0s - loss: 13.9835 - mean_squared_error: 13.9835 - mean_absolute_error: 3.0424 - 22ms/epoch - 7ms/step\n",
      "Epoch 185/500\n",
      "3/3 - 0s - loss: 13.4727 - mean_squared_error: 13.4727 - mean_absolute_error: 2.9868 - 21ms/epoch - 7ms/step\n",
      "Epoch 186/500\n",
      "3/3 - 0s - loss: 13.9830 - mean_squared_error: 13.9830 - mean_absolute_error: 2.9909 - 24ms/epoch - 8ms/step\n",
      "Epoch 187/500\n",
      "3/3 - 0s - loss: 13.5491 - mean_squared_error: 13.5491 - mean_absolute_error: 2.9798 - 24ms/epoch - 8ms/step\n",
      "Epoch 188/500\n",
      "3/3 - 0s - loss: 12.6114 - mean_squared_error: 12.6114 - mean_absolute_error: 2.8897 - 23ms/epoch - 8ms/step\n",
      "Epoch 189/500\n",
      "3/3 - 0s - loss: 13.6067 - mean_squared_error: 13.6067 - mean_absolute_error: 2.9500 - 23ms/epoch - 8ms/step\n",
      "Epoch 190/500\n",
      "3/3 - 0s - loss: 13.8774 - mean_squared_error: 13.8774 - mean_absolute_error: 2.9367 - 26ms/epoch - 9ms/step\n",
      "Epoch 191/500\n",
      "3/3 - 0s - loss: 13.0762 - mean_squared_error: 13.0762 - mean_absolute_error: 2.9065 - 26ms/epoch - 9ms/step\n",
      "Epoch 192/500\n",
      "3/3 - 0s - loss: 12.8686 - mean_squared_error: 12.8686 - mean_absolute_error: 2.9098 - 23ms/epoch - 8ms/step\n",
      "Epoch 193/500\n",
      "3/3 - 0s - loss: 13.2090 - mean_squared_error: 13.2090 - mean_absolute_error: 2.9303 - 28ms/epoch - 9ms/step\n",
      "Epoch 194/500\n",
      "3/3 - 0s - loss: 13.6364 - mean_squared_error: 13.6364 - mean_absolute_error: 2.9461 - 23ms/epoch - 8ms/step\n",
      "Epoch 195/500\n",
      "3/3 - 0s - loss: 13.5928 - mean_squared_error: 13.5928 - mean_absolute_error: 2.9465 - 24ms/epoch - 8ms/step\n",
      "Epoch 196/500\n",
      "3/3 - 0s - loss: 12.9332 - mean_squared_error: 12.9332 - mean_absolute_error: 2.9226 - 23ms/epoch - 8ms/step\n",
      "Epoch 197/500\n",
      "3/3 - 0s - loss: 13.1092 - mean_squared_error: 13.1092 - mean_absolute_error: 2.9496 - 24ms/epoch - 8ms/step\n",
      "Epoch 198/500\n",
      "3/3 - 0s - loss: 13.1354 - mean_squared_error: 13.1354 - mean_absolute_error: 2.9266 - 23ms/epoch - 8ms/step\n",
      "Epoch 199/500\n",
      "3/3 - 0s - loss: 13.5120 - mean_squared_error: 13.5120 - mean_absolute_error: 2.9950 - 23ms/epoch - 8ms/step\n",
      "Epoch 200/500\n",
      "3/3 - 0s - loss: 13.1857 - mean_squared_error: 13.1857 - mean_absolute_error: 2.9603 - 22ms/epoch - 7ms/step\n",
      "Epoch 201/500\n",
      "3/3 - 0s - loss: 12.6093 - mean_squared_error: 12.6093 - mean_absolute_error: 2.8889 - 23ms/epoch - 8ms/step\n",
      "Epoch 202/500\n",
      "3/3 - 0s - loss: 12.8118 - mean_squared_error: 12.8118 - mean_absolute_error: 2.9057 - 23ms/epoch - 8ms/step\n",
      "Epoch 203/500\n",
      "3/3 - 0s - loss: 12.6910 - mean_squared_error: 12.6910 - mean_absolute_error: 2.8896 - 23ms/epoch - 8ms/step\n",
      "Epoch 204/500\n",
      "3/3 - 0s - loss: 12.4679 - mean_squared_error: 12.4679 - mean_absolute_error: 2.8750 - 23ms/epoch - 8ms/step\n",
      "Epoch 205/500\n",
      "3/3 - 0s - loss: 13.2842 - mean_squared_error: 13.2842 - mean_absolute_error: 2.9723 - 24ms/epoch - 8ms/step\n",
      "Epoch 206/500\n",
      "3/3 - 0s - loss: 13.3201 - mean_squared_error: 13.3201 - mean_absolute_error: 2.9748 - 24ms/epoch - 8ms/step\n",
      "Epoch 207/500\n",
      "3/3 - 0s - loss: 13.0717 - mean_squared_error: 13.0717 - mean_absolute_error: 2.9301 - 26ms/epoch - 9ms/step\n",
      "Epoch 208/500\n",
      "3/3 - 0s - loss: 13.6678 - mean_squared_error: 13.6678 - mean_absolute_error: 2.9420 - 23ms/epoch - 8ms/step\n",
      "Epoch 209/500\n",
      "3/3 - 0s - loss: 12.4701 - mean_squared_error: 12.4701 - mean_absolute_error: 2.8682 - 22ms/epoch - 7ms/step\n",
      "Epoch 210/500\n",
      "3/3 - 0s - loss: 13.0787 - mean_squared_error: 13.0787 - mean_absolute_error: 2.9526 - 29ms/epoch - 10ms/step\n",
      "Epoch 211/500\n",
      "3/3 - 0s - loss: 14.1748 - mean_squared_error: 14.1748 - mean_absolute_error: 3.0631 - 24ms/epoch - 8ms/step\n",
      "Epoch 212/500\n",
      "3/3 - 0s - loss: 13.4800 - mean_squared_error: 13.4800 - mean_absolute_error: 2.9963 - 26ms/epoch - 9ms/step\n",
      "Epoch 213/500\n",
      "3/3 - 0s - loss: 12.5526 - mean_squared_error: 12.5526 - mean_absolute_error: 2.8859 - 24ms/epoch - 8ms/step\n",
      "Epoch 214/500\n",
      "3/3 - 0s - loss: 13.1194 - mean_squared_error: 13.1194 - mean_absolute_error: 2.9294 - 24ms/epoch - 8ms/step\n",
      "Epoch 215/500\n",
      "3/3 - 0s - loss: 13.1975 - mean_squared_error: 13.1975 - mean_absolute_error: 2.9113 - 24ms/epoch - 8ms/step\n",
      "Epoch 216/500\n",
      "3/3 - 0s - loss: 12.9949 - mean_squared_error: 12.9949 - mean_absolute_error: 2.9390 - 25ms/epoch - 8ms/step\n",
      "Epoch 217/500\n",
      "3/3 - 0s - loss: 12.5338 - mean_squared_error: 12.5338 - mean_absolute_error: 2.9028 - 23ms/epoch - 8ms/step\n",
      "Epoch 218/500\n",
      "3/3 - 0s - loss: 12.3409 - mean_squared_error: 12.3409 - mean_absolute_error: 2.8650 - 23ms/epoch - 8ms/step\n",
      "Epoch 219/500\n",
      "3/3 - 0s - loss: 13.1382 - mean_squared_error: 13.1382 - mean_absolute_error: 2.8939 - 23ms/epoch - 8ms/step\n",
      "Epoch 220/500\n",
      "3/3 - 0s - loss: 14.0659 - mean_squared_error: 14.0659 - mean_absolute_error: 2.9632 - 23ms/epoch - 8ms/step\n",
      "Epoch 221/500\n",
      "3/3 - 0s - loss: 13.0561 - mean_squared_error: 13.0561 - mean_absolute_error: 2.9307 - 24ms/epoch - 8ms/step\n",
      "Epoch 222/500\n",
      "3/3 - 0s - loss: 16.1486 - mean_squared_error: 16.1486 - mean_absolute_error: 3.1813 - 25ms/epoch - 8ms/step\n",
      "Epoch 223/500\n",
      "3/3 - 0s - loss: 14.4935 - mean_squared_error: 14.4935 - mean_absolute_error: 3.0294 - 26ms/epoch - 9ms/step\n",
      "Epoch 224/500\n",
      "3/3 - 0s - loss: 16.3995 - mean_squared_error: 16.3995 - mean_absolute_error: 3.1412 - 25ms/epoch - 8ms/step\n",
      "Epoch 225/500\n",
      "3/3 - 0s - loss: 15.9168 - mean_squared_error: 15.9168 - mean_absolute_error: 3.2197 - 25ms/epoch - 8ms/step\n",
      "Epoch 226/500\n",
      "3/3 - 0s - loss: 15.8229 - mean_squared_error: 15.8229 - mean_absolute_error: 3.2351 - 24ms/epoch - 8ms/step\n",
      "Epoch 227/500\n",
      "3/3 - 0s - loss: 15.3698 - mean_squared_error: 15.3698 - mean_absolute_error: 3.1797 - 29ms/epoch - 10ms/step\n",
      "Epoch 228/500\n",
      "3/3 - 0s - loss: 14.8814 - mean_squared_error: 14.8814 - mean_absolute_error: 3.1470 - 23ms/epoch - 8ms/step\n",
      "Epoch 229/500\n",
      "3/3 - 0s - loss: 14.8708 - mean_squared_error: 14.8708 - mean_absolute_error: 3.1605 - 23ms/epoch - 8ms/step\n",
      "Epoch 230/500\n",
      "3/3 - 0s - loss: 15.3123 - mean_squared_error: 15.3123 - mean_absolute_error: 3.1785 - 22ms/epoch - 7ms/step\n",
      "Epoch 231/500\n",
      "3/3 - 0s - loss: 14.7158 - mean_squared_error: 14.7158 - mean_absolute_error: 3.1086 - 24ms/epoch - 8ms/step\n",
      "Epoch 232/500\n",
      "3/3 - 0s - loss: 15.1612 - mean_squared_error: 15.1612 - mean_absolute_error: 3.1407 - 25ms/epoch - 8ms/step\n",
      "Epoch 233/500\n",
      "3/3 - 0s - loss: 14.3322 - mean_squared_error: 14.3322 - mean_absolute_error: 3.0612 - 25ms/epoch - 8ms/step\n",
      "Epoch 234/500\n",
      "3/3 - 0s - loss: 15.8010 - mean_squared_error: 15.8010 - mean_absolute_error: 3.1834 - 26ms/epoch - 9ms/step\n",
      "Epoch 235/500\n",
      "3/3 - 0s - loss: 13.7236 - mean_squared_error: 13.7236 - mean_absolute_error: 3.0123 - 23ms/epoch - 8ms/step\n",
      "Epoch 236/500\n",
      "3/3 - 0s - loss: 15.8441 - mean_squared_error: 15.8441 - mean_absolute_error: 3.2157 - 24ms/epoch - 8ms/step\n",
      "Epoch 237/500\n",
      "3/3 - 0s - loss: 15.4771 - mean_squared_error: 15.4771 - mean_absolute_error: 3.1751 - 24ms/epoch - 8ms/step\n",
      "Epoch 238/500\n",
      "3/3 - 0s - loss: 13.8905 - mean_squared_error: 13.8905 - mean_absolute_error: 3.0273 - 22ms/epoch - 7ms/step\n",
      "Epoch 239/500\n",
      "3/3 - 0s - loss: 15.4097 - mean_squared_error: 15.4097 - mean_absolute_error: 3.1549 - 23ms/epoch - 8ms/step\n",
      "Epoch 240/500\n",
      "3/3 - 0s - loss: 13.6498 - mean_squared_error: 13.6498 - mean_absolute_error: 3.0252 - 24ms/epoch - 8ms/step\n",
      "Epoch 241/500\n",
      "3/3 - 0s - loss: 12.9040 - mean_squared_error: 12.9040 - mean_absolute_error: 2.9289 - 25ms/epoch - 8ms/step\n",
      "Epoch 242/500\n",
      "3/3 - 0s - loss: 12.8134 - mean_squared_error: 12.8134 - mean_absolute_error: 2.9121 - 24ms/epoch - 8ms/step\n",
      "Epoch 243/500\n",
      "3/3 - 0s - loss: 12.4570 - mean_squared_error: 12.4570 - mean_absolute_error: 2.8755 - 24ms/epoch - 8ms/step\n",
      "Epoch 244/500\n",
      "3/3 - 0s - loss: 12.7688 - mean_squared_error: 12.7688 - mean_absolute_error: 2.8997 - 23ms/epoch - 8ms/step\n",
      "Epoch 245/500\n",
      "3/3 - 0s - loss: 13.1006 - mean_squared_error: 13.1006 - mean_absolute_error: 2.9709 - 23ms/epoch - 8ms/step\n",
      "Epoch 246/500\n",
      "3/3 - 0s - loss: 12.6591 - mean_squared_error: 12.6591 - mean_absolute_error: 2.9242 - 23ms/epoch - 8ms/step\n",
      "Epoch 247/500\n",
      "3/3 - 0s - loss: 12.4404 - mean_squared_error: 12.4404 - mean_absolute_error: 2.8989 - 22ms/epoch - 7ms/step\n",
      "Epoch 248/500\n",
      "3/3 - 0s - loss: 12.4585 - mean_squared_error: 12.4585 - mean_absolute_error: 2.8759 - 23ms/epoch - 8ms/step\n",
      "Epoch 249/500\n",
      "3/3 - 0s - loss: 12.8333 - mean_squared_error: 12.8333 - mean_absolute_error: 2.8892 - 23ms/epoch - 8ms/step\n",
      "Epoch 250/500\n",
      "3/3 - 0s - loss: 12.6859 - mean_squared_error: 12.6859 - mean_absolute_error: 2.9014 - 23ms/epoch - 8ms/step\n",
      "Epoch 251/500\n",
      "3/3 - 0s - loss: 12.1696 - mean_squared_error: 12.1696 - mean_absolute_error: 2.8472 - 23ms/epoch - 8ms/step\n",
      "Epoch 252/500\n",
      "3/3 - 0s - loss: 12.1893 - mean_squared_error: 12.1893 - mean_absolute_error: 2.8482 - 28ms/epoch - 9ms/step\n",
      "Epoch 253/500\n",
      "3/3 - 0s - loss: 12.3639 - mean_squared_error: 12.3639 - mean_absolute_error: 2.8720 - 29ms/epoch - 10ms/step\n",
      "Epoch 254/500\n",
      "3/3 - 0s - loss: 12.1613 - mean_squared_error: 12.1613 - mean_absolute_error: 2.8442 - 26ms/epoch - 9ms/step\n",
      "Epoch 255/500\n",
      "3/3 - 0s - loss: 12.3446 - mean_squared_error: 12.3446 - mean_absolute_error: 2.8478 - 23ms/epoch - 8ms/step\n",
      "Epoch 256/500\n",
      "3/3 - 0s - loss: 12.2711 - mean_squared_error: 12.2711 - mean_absolute_error: 2.8540 - 25ms/epoch - 8ms/step\n",
      "Epoch 257/500\n",
      "3/3 - 0s - loss: 11.8979 - mean_squared_error: 11.8979 - mean_absolute_error: 2.8259 - 23ms/epoch - 8ms/step\n",
      "Epoch 258/500\n",
      "3/3 - 0s - loss: 12.1913 - mean_squared_error: 12.1913 - mean_absolute_error: 2.8491 - 26ms/epoch - 9ms/step\n",
      "Epoch 259/500\n",
      "3/3 - 0s - loss: 12.0189 - mean_squared_error: 12.0189 - mean_absolute_error: 2.8331 - 23ms/epoch - 8ms/step\n",
      "Epoch 260/500\n",
      "3/3 - 0s - loss: 12.3347 - mean_squared_error: 12.3347 - mean_absolute_error: 2.8687 - 25ms/epoch - 8ms/step\n",
      "Epoch 261/500\n",
      "3/3 - 0s - loss: 12.1011 - mean_squared_error: 12.1011 - mean_absolute_error: 2.8193 - 24ms/epoch - 8ms/step\n",
      "Epoch 262/500\n",
      "3/3 - 0s - loss: 13.1495 - mean_squared_error: 13.1495 - mean_absolute_error: 2.8979 - 22ms/epoch - 7ms/step\n",
      "Epoch 263/500\n",
      "3/3 - 0s - loss: 13.0421 - mean_squared_error: 13.0421 - mean_absolute_error: 2.9038 - 24ms/epoch - 8ms/step\n",
      "Epoch 264/500\n",
      "3/3 - 0s - loss: 12.7769 - mean_squared_error: 12.7769 - mean_absolute_error: 2.8994 - 23ms/epoch - 8ms/step\n",
      "Epoch 265/500\n",
      "3/3 - 0s - loss: 12.0891 - mean_squared_error: 12.0891 - mean_absolute_error: 2.8447 - 23ms/epoch - 8ms/step\n",
      "Epoch 266/500\n",
      "3/3 - 0s - loss: 12.2309 - mean_squared_error: 12.2309 - mean_absolute_error: 2.8423 - 23ms/epoch - 8ms/step\n",
      "Epoch 267/500\n",
      "3/3 - 0s - loss: 13.4718 - mean_squared_error: 13.4718 - mean_absolute_error: 2.9437 - 23ms/epoch - 8ms/step\n",
      "Epoch 268/500\n",
      "3/3 - 0s - loss: 11.6697 - mean_squared_error: 11.6697 - mean_absolute_error: 2.7759 - 24ms/epoch - 8ms/step\n",
      "Epoch 269/500\n",
      "3/3 - 0s - loss: 14.6686 - mean_squared_error: 14.6686 - mean_absolute_error: 2.9796 - 23ms/epoch - 8ms/step\n",
      "Epoch 270/500\n",
      "3/3 - 0s - loss: 13.4505 - mean_squared_error: 13.4505 - mean_absolute_error: 2.9199 - 25ms/epoch - 8ms/step\n",
      "Epoch 271/500\n",
      "3/3 - 0s - loss: 13.1912 - mean_squared_error: 13.1912 - mean_absolute_error: 2.9196 - 25ms/epoch - 8ms/step\n",
      "Epoch 272/500\n",
      "3/3 - 0s - loss: 12.4696 - mean_squared_error: 12.4696 - mean_absolute_error: 2.8668 - 26ms/epoch - 9ms/step\n",
      "Epoch 273/500\n",
      "3/3 - 0s - loss: 12.0404 - mean_squared_error: 12.0404 - mean_absolute_error: 2.8031 - 23ms/epoch - 8ms/step\n",
      "Epoch 274/500\n",
      "3/3 - 0s - loss: 12.7580 - mean_squared_error: 12.7580 - mean_absolute_error: 2.8840 - 24ms/epoch - 8ms/step\n",
      "Epoch 275/500\n",
      "3/3 - 0s - loss: 11.9614 - mean_squared_error: 11.9614 - mean_absolute_error: 2.8186 - 23ms/epoch - 8ms/step\n",
      "Epoch 276/500\n",
      "3/3 - 0s - loss: 11.9615 - mean_squared_error: 11.9615 - mean_absolute_error: 2.8136 - 23ms/epoch - 8ms/step\n",
      "Epoch 277/500\n",
      "3/3 - 0s - loss: 11.9973 - mean_squared_error: 11.9973 - mean_absolute_error: 2.8134 - 23ms/epoch - 8ms/step\n",
      "Epoch 278/500\n",
      "3/3 - 0s - loss: 11.8796 - mean_squared_error: 11.8796 - mean_absolute_error: 2.7807 - 23ms/epoch - 8ms/step\n",
      "Epoch 279/500\n",
      "3/3 - 0s - loss: 12.1064 - mean_squared_error: 12.1064 - mean_absolute_error: 2.7929 - 24ms/epoch - 8ms/step\n",
      "Epoch 280/500\n",
      "3/3 - 0s - loss: 12.5297 - mean_squared_error: 12.5297 - mean_absolute_error: 2.8158 - 25ms/epoch - 8ms/step\n",
      "Epoch 281/500\n",
      "3/3 - 0s - loss: 11.6775 - mean_squared_error: 11.6775 - mean_absolute_error: 2.7649 - 25ms/epoch - 8ms/step\n",
      "Epoch 282/500\n",
      "3/3 - 0s - loss: 12.5337 - mean_squared_error: 12.5337 - mean_absolute_error: 2.8490 - 22ms/epoch - 7ms/step\n",
      "Epoch 283/500\n",
      "3/3 - 0s - loss: 13.3728 - mean_squared_error: 13.3728 - mean_absolute_error: 2.9244 - 24ms/epoch - 8ms/step\n",
      "Epoch 284/500\n",
      "3/3 - 0s - loss: 12.3487 - mean_squared_error: 12.3487 - mean_absolute_error: 2.8790 - 23ms/epoch - 8ms/step\n",
      "Epoch 285/500\n",
      "3/3 - 0s - loss: 12.0609 - mean_squared_error: 12.0609 - mean_absolute_error: 2.8222 - 22ms/epoch - 7ms/step\n",
      "Epoch 286/500\n",
      "3/3 - 0s - loss: 11.7657 - mean_squared_error: 11.7657 - mean_absolute_error: 2.8043 - 23ms/epoch - 8ms/step\n",
      "Epoch 287/500\n",
      "3/3 - 0s - loss: 11.7689 - mean_squared_error: 11.7689 - mean_absolute_error: 2.8004 - 29ms/epoch - 10ms/step\n",
      "Epoch 288/500\n",
      "3/3 - 0s - loss: 12.3379 - mean_squared_error: 12.3379 - mean_absolute_error: 2.8501 - 22ms/epoch - 7ms/step\n",
      "Epoch 289/500\n",
      "3/3 - 0s - loss: 11.9355 - mean_squared_error: 11.9355 - mean_absolute_error: 2.8120 - 24ms/epoch - 8ms/step\n",
      "Epoch 290/500\n",
      "3/3 - 0s - loss: 11.8712 - mean_squared_error: 11.8712 - mean_absolute_error: 2.7832 - 25ms/epoch - 8ms/step\n",
      "Epoch 291/500\n",
      "3/3 - 0s - loss: 13.5226 - mean_squared_error: 13.5226 - mean_absolute_error: 2.9127 - 24ms/epoch - 8ms/step\n",
      "Epoch 292/500\n",
      "3/3 - 0s - loss: 12.2266 - mean_squared_error: 12.2266 - mean_absolute_error: 2.8362 - 23ms/epoch - 8ms/step\n",
      "Epoch 293/500\n",
      "3/3 - 0s - loss: 12.1190 - mean_squared_error: 12.1190 - mean_absolute_error: 2.8290 - 24ms/epoch - 8ms/step\n",
      "Epoch 294/500\n",
      "3/3 - 0s - loss: 12.4808 - mean_squared_error: 12.4808 - mean_absolute_error: 2.8558 - 24ms/epoch - 8ms/step\n",
      "Epoch 295/500\n",
      "3/3 - 0s - loss: 11.6717 - mean_squared_error: 11.6717 - mean_absolute_error: 2.7688 - 25ms/epoch - 8ms/step\n",
      "Epoch 296/500\n",
      "3/3 - 0s - loss: 11.9724 - mean_squared_error: 11.9724 - mean_absolute_error: 2.7769 - 24ms/epoch - 8ms/step\n",
      "Epoch 297/500\n",
      "3/3 - 0s - loss: 12.0510 - mean_squared_error: 12.0510 - mean_absolute_error: 2.7796 - 24ms/epoch - 8ms/step\n",
      "Epoch 298/500\n",
      "3/3 - 0s - loss: 11.7520 - mean_squared_error: 11.7520 - mean_absolute_error: 2.7654 - 23ms/epoch - 8ms/step\n",
      "Epoch 299/500\n",
      "3/3 - 0s - loss: 12.3776 - mean_squared_error: 12.3776 - mean_absolute_error: 2.8431 - 24ms/epoch - 8ms/step\n",
      "Epoch 300/500\n",
      "3/3 - 0s - loss: 12.1903 - mean_squared_error: 12.1903 - mean_absolute_error: 2.8407 - 24ms/epoch - 8ms/step\n",
      "Epoch 301/500\n",
      "3/3 - 0s - loss: 11.7230 - mean_squared_error: 11.7230 - mean_absolute_error: 2.7978 - 30ms/epoch - 10ms/step\n",
      "Epoch 302/500\n",
      "3/3 - 0s - loss: 12.0105 - mean_squared_error: 12.0105 - mean_absolute_error: 2.8172 - 23ms/epoch - 8ms/step\n",
      "Epoch 303/500\n",
      "3/3 - 0s - loss: 11.8462 - mean_squared_error: 11.8462 - mean_absolute_error: 2.8035 - 23ms/epoch - 8ms/step\n",
      "Epoch 304/500\n",
      "3/3 - 0s - loss: 12.0273 - mean_squared_error: 12.0273 - mean_absolute_error: 2.8171 - 24ms/epoch - 8ms/step\n",
      "Epoch 305/500\n",
      "3/3 - 0s - loss: 11.4776 - mean_squared_error: 11.4776 - mean_absolute_error: 2.7634 - 24ms/epoch - 8ms/step\n",
      "Epoch 306/500\n",
      "3/3 - 0s - loss: 12.8188 - mean_squared_error: 12.8188 - mean_absolute_error: 2.8887 - 28ms/epoch - 9ms/step\n",
      "Epoch 307/500\n",
      "3/3 - 0s - loss: 11.8196 - mean_squared_error: 11.8196 - mean_absolute_error: 2.7952 - 29ms/epoch - 10ms/step\n",
      "Epoch 308/500\n",
      "3/3 - 0s - loss: 12.1491 - mean_squared_error: 12.1491 - mean_absolute_error: 2.8107 - 26ms/epoch - 9ms/step\n",
      "Epoch 309/500\n",
      "3/3 - 0s - loss: 12.1517 - mean_squared_error: 12.1517 - mean_absolute_error: 2.8217 - 24ms/epoch - 8ms/step\n",
      "Epoch 310/500\n",
      "3/3 - 0s - loss: 11.6348 - mean_squared_error: 11.6348 - mean_absolute_error: 2.7653 - 23ms/epoch - 8ms/step\n",
      "Epoch 311/500\n",
      "3/3 - 0s - loss: 12.1431 - mean_squared_error: 12.1431 - mean_absolute_error: 2.8287 - 24ms/epoch - 8ms/step\n",
      "Epoch 312/500\n",
      "3/3 - 0s - loss: 11.7994 - mean_squared_error: 11.7994 - mean_absolute_error: 2.7525 - 23ms/epoch - 8ms/step\n",
      "Epoch 313/500\n",
      "3/3 - 0s - loss: 12.8603 - mean_squared_error: 12.8603 - mean_absolute_error: 2.8307 - 23ms/epoch - 8ms/step\n",
      "Epoch 314/500\n",
      "3/3 - 0s - loss: 11.6547 - mean_squared_error: 11.6547 - mean_absolute_error: 2.7399 - 31ms/epoch - 10ms/step\n",
      "Epoch 315/500\n",
      "3/3 - 0s - loss: 12.3093 - mean_squared_error: 12.3093 - mean_absolute_error: 2.8116 - 25ms/epoch - 8ms/step\n",
      "Epoch 316/500\n",
      "3/3 - 0s - loss: 11.9120 - mean_squared_error: 11.9120 - mean_absolute_error: 2.7982 - 25ms/epoch - 8ms/step\n",
      "Epoch 317/500\n",
      "3/3 - 0s - loss: 12.1888 - mean_squared_error: 12.1888 - mean_absolute_error: 2.8082 - 24ms/epoch - 8ms/step\n",
      "Epoch 318/500\n",
      "3/3 - 0s - loss: 11.4204 - mean_squared_error: 11.4204 - mean_absolute_error: 2.7455 - 23ms/epoch - 8ms/step\n",
      "Epoch 319/500\n",
      "3/3 - 0s - loss: 12.5663 - mean_squared_error: 12.5663 - mean_absolute_error: 2.8463 - 24ms/epoch - 8ms/step\n",
      "Epoch 320/500\n",
      "3/3 - 0s - loss: 12.7159 - mean_squared_error: 12.7159 - mean_absolute_error: 2.8708 - 23ms/epoch - 8ms/step\n",
      "Epoch 321/500\n",
      "3/3 - 0s - loss: 11.8817 - mean_squared_error: 11.8817 - mean_absolute_error: 2.8237 - 23ms/epoch - 8ms/step\n",
      "Epoch 322/500\n",
      "3/3 - 0s - loss: 11.7744 - mean_squared_error: 11.7744 - mean_absolute_error: 2.7865 - 23ms/epoch - 8ms/step\n",
      "Epoch 323/500\n",
      "3/3 - 0s - loss: 12.3089 - mean_squared_error: 12.3089 - mean_absolute_error: 2.8292 - 23ms/epoch - 8ms/step\n",
      "Epoch 324/500\n",
      "3/3 - 0s - loss: 12.5663 - mean_squared_error: 12.5663 - mean_absolute_error: 2.8576 - 23ms/epoch - 8ms/step\n",
      "Epoch 325/500\n",
      "3/3 - 0s - loss: 13.0149 - mean_squared_error: 13.0149 - mean_absolute_error: 2.8828 - 23ms/epoch - 8ms/step\n",
      "Epoch 326/500\n",
      "3/3 - 0s - loss: 12.9398 - mean_squared_error: 12.9398 - mean_absolute_error: 2.8915 - 24ms/epoch - 8ms/step\n",
      "Epoch 327/500\n",
      "3/3 - 0s - loss: 12.9492 - mean_squared_error: 12.9492 - mean_absolute_error: 2.8980 - 23ms/epoch - 8ms/step\n",
      "Epoch 328/500\n",
      "3/3 - 0s - loss: 11.6778 - mean_squared_error: 11.6778 - mean_absolute_error: 2.7793 - 27ms/epoch - 9ms/step\n",
      "Epoch 329/500\n",
      "3/3 - 0s - loss: 12.0740 - mean_squared_error: 12.0740 - mean_absolute_error: 2.8172 - 24ms/epoch - 8ms/step\n",
      "Epoch 330/500\n",
      "3/3 - 0s - loss: 11.8855 - mean_squared_error: 11.8855 - mean_absolute_error: 2.7697 - 25ms/epoch - 8ms/step\n",
      "Epoch 331/500\n",
      "3/3 - 0s - loss: 11.9459 - mean_squared_error: 11.9459 - mean_absolute_error: 2.7871 - 27ms/epoch - 9ms/step\n",
      "Epoch 332/500\n",
      "3/3 - 0s - loss: 11.6023 - mean_squared_error: 11.6023 - mean_absolute_error: 2.7697 - 24ms/epoch - 8ms/step\n",
      "Epoch 333/500\n",
      "3/3 - 0s - loss: 11.7628 - mean_squared_error: 11.7628 - mean_absolute_error: 2.7788 - 25ms/epoch - 8ms/step\n",
      "Epoch 334/500\n",
      "3/3 - 0s - loss: 11.4474 - mean_squared_error: 11.4474 - mean_absolute_error: 2.7431 - 27ms/epoch - 9ms/step\n",
      "Epoch 335/500\n",
      "3/3 - 0s - loss: 11.6428 - mean_squared_error: 11.6428 - mean_absolute_error: 2.7588 - 27ms/epoch - 9ms/step\n",
      "Epoch 336/500\n",
      "3/3 - 0s - loss: 11.9742 - mean_squared_error: 11.9742 - mean_absolute_error: 2.7720 - 23ms/epoch - 8ms/step\n",
      "Epoch 337/500\n",
      "3/3 - 0s - loss: 11.8483 - mean_squared_error: 11.8483 - mean_absolute_error: 2.7985 - 24ms/epoch - 8ms/step\n",
      "Epoch 338/500\n",
      "3/3 - 0s - loss: 12.6868 - mean_squared_error: 12.6868 - mean_absolute_error: 2.8564 - 25ms/epoch - 8ms/step\n",
      "Epoch 339/500\n",
      "3/3 - 0s - loss: 12.4133 - mean_squared_error: 12.4133 - mean_absolute_error: 2.8483 - 27ms/epoch - 9ms/step\n",
      "Epoch 340/500\n",
      "3/3 - 0s - loss: 11.7057 - mean_squared_error: 11.7057 - mean_absolute_error: 2.7772 - 25ms/epoch - 8ms/step\n",
      "Epoch 341/500\n",
      "3/3 - 0s - loss: 11.8430 - mean_squared_error: 11.8430 - mean_absolute_error: 2.7957 - 22ms/epoch - 7ms/step\n",
      "Epoch 342/500\n",
      "3/3 - 0s - loss: 11.8649 - mean_squared_error: 11.8649 - mean_absolute_error: 2.7870 - 23ms/epoch - 8ms/step\n",
      "Epoch 343/500\n",
      "3/3 - 0s - loss: 11.3638 - mean_squared_error: 11.3638 - mean_absolute_error: 2.7365 - 27ms/epoch - 9ms/step\n",
      "Epoch 344/500\n",
      "3/3 - 0s - loss: 12.2439 - mean_squared_error: 12.2439 - mean_absolute_error: 2.8393 - 23ms/epoch - 8ms/step\n",
      "Epoch 345/500\n",
      "3/3 - 0s - loss: 11.6759 - mean_squared_error: 11.6759 - mean_absolute_error: 2.7626 - 23ms/epoch - 8ms/step\n",
      "Epoch 346/500\n",
      "3/3 - 0s - loss: 11.9167 - mean_squared_error: 11.9167 - mean_absolute_error: 2.7487 - 23ms/epoch - 8ms/step\n",
      "Epoch 347/500\n",
      "3/3 - 0s - loss: 13.7717 - mean_squared_error: 13.7717 - mean_absolute_error: 2.9049 - 23ms/epoch - 8ms/step\n",
      "Epoch 348/500\n",
      "3/3 - 0s - loss: 12.0301 - mean_squared_error: 12.0301 - mean_absolute_error: 2.8023 - 23ms/epoch - 8ms/step\n",
      "Epoch 349/500\n",
      "3/3 - 0s - loss: 13.2703 - mean_squared_error: 13.2703 - mean_absolute_error: 2.9056 - 23ms/epoch - 8ms/step\n",
      "Epoch 350/500\n",
      "3/3 - 0s - loss: 11.9723 - mean_squared_error: 11.9723 - mean_absolute_error: 2.8126 - 23ms/epoch - 8ms/step\n",
      "Epoch 351/500\n",
      "3/3 - 0s - loss: 12.6690 - mean_squared_error: 12.6690 - mean_absolute_error: 2.8155 - 22ms/epoch - 7ms/step\n",
      "Epoch 352/500\n",
      "3/3 - 0s - loss: 11.4102 - mean_squared_error: 11.4102 - mean_absolute_error: 2.7671 - 23ms/epoch - 8ms/step\n",
      "Epoch 353/500\n",
      "3/3 - 0s - loss: 12.8809 - mean_squared_error: 12.8809 - mean_absolute_error: 2.9176 - 24ms/epoch - 8ms/step\n",
      "Epoch 354/500\n",
      "3/3 - 0s - loss: 12.2779 - mean_squared_error: 12.2779 - mean_absolute_error: 2.8691 - 25ms/epoch - 8ms/step\n",
      "Epoch 355/500\n",
      "3/3 - 0s - loss: 12.4133 - mean_squared_error: 12.4133 - mean_absolute_error: 2.8531 - 27ms/epoch - 9ms/step\n",
      "Epoch 356/500\n",
      "3/3 - 0s - loss: 11.9195 - mean_squared_error: 11.9195 - mean_absolute_error: 2.8191 - 34ms/epoch - 11ms/step\n",
      "Epoch 357/500\n",
      "3/3 - 0s - loss: 11.4826 - mean_squared_error: 11.4826 - mean_absolute_error: 2.7724 - 23ms/epoch - 8ms/step\n",
      "Epoch 358/500\n",
      "3/3 - 0s - loss: 12.6163 - mean_squared_error: 12.6163 - mean_absolute_error: 2.8605 - 23ms/epoch - 8ms/step\n",
      "Epoch 359/500\n",
      "3/3 - 0s - loss: 11.6403 - mean_squared_error: 11.6403 - mean_absolute_error: 2.7766 - 23ms/epoch - 8ms/step\n",
      "Epoch 360/500\n",
      "3/3 - 0s - loss: 11.3179 - mean_squared_error: 11.3179 - mean_absolute_error: 2.7471 - 22ms/epoch - 7ms/step\n",
      "Epoch 361/500\n",
      "3/3 - 0s - loss: 11.2887 - mean_squared_error: 11.2887 - mean_absolute_error: 2.7404 - 22ms/epoch - 7ms/step\n",
      "Epoch 362/500\n",
      "3/3 - 0s - loss: 11.3769 - mean_squared_error: 11.3769 - mean_absolute_error: 2.7510 - 22ms/epoch - 7ms/step\n",
      "Epoch 363/500\n",
      "3/3 - 0s - loss: 11.7913 - mean_squared_error: 11.7913 - mean_absolute_error: 2.7695 - 22ms/epoch - 7ms/step\n",
      "Epoch 364/500\n",
      "3/3 - 0s - loss: 11.4776 - mean_squared_error: 11.4776 - mean_absolute_error: 2.7358 - 22ms/epoch - 7ms/step\n",
      "Epoch 365/500\n",
      "3/3 - 0s - loss: 11.8090 - mean_squared_error: 11.8090 - mean_absolute_error: 2.7722 - 22ms/epoch - 7ms/step\n",
      "Epoch 366/500\n",
      "3/3 - 0s - loss: 12.5071 - mean_squared_error: 12.5071 - mean_absolute_error: 2.8279 - 23ms/epoch - 8ms/step\n",
      "Epoch 367/500\n",
      "3/3 - 0s - loss: 11.5346 - mean_squared_error: 11.5346 - mean_absolute_error: 2.7609 - 23ms/epoch - 8ms/step\n",
      "Epoch 368/500\n",
      "3/3 - 0s - loss: 12.4027 - mean_squared_error: 12.4027 - mean_absolute_error: 2.8180 - 28ms/epoch - 9ms/step\n",
      "Epoch 369/500\n",
      "3/3 - 0s - loss: 11.4388 - mean_squared_error: 11.4388 - mean_absolute_error: 2.7569 - 24ms/epoch - 8ms/step\n",
      "Epoch 370/500\n",
      "3/3 - 0s - loss: 12.4995 - mean_squared_error: 12.4995 - mean_absolute_error: 2.8455 - 22ms/epoch - 7ms/step\n",
      "Epoch 371/500\n",
      "3/3 - 0s - loss: 11.7264 - mean_squared_error: 11.7264 - mean_absolute_error: 2.7715 - 23ms/epoch - 8ms/step\n",
      "Epoch 372/500\n",
      "3/3 - 0s - loss: 12.7389 - mean_squared_error: 12.7389 - mean_absolute_error: 2.8627 - 24ms/epoch - 8ms/step\n",
      "Epoch 373/500\n",
      "3/3 - 0s - loss: 13.3062 - mean_squared_error: 13.3062 - mean_absolute_error: 2.9039 - 23ms/epoch - 8ms/step\n",
      "Epoch 374/500\n",
      "3/3 - 0s - loss: 12.9226 - mean_squared_error: 12.9226 - mean_absolute_error: 2.8650 - 23ms/epoch - 8ms/step\n",
      "Epoch 375/500\n",
      "3/3 - 0s - loss: 12.3598 - mean_squared_error: 12.3598 - mean_absolute_error: 2.8172 - 23ms/epoch - 8ms/step\n",
      "Epoch 376/500\n",
      "3/3 - 0s - loss: 11.6318 - mean_squared_error: 11.6318 - mean_absolute_error: 2.7508 - 23ms/epoch - 8ms/step\n",
      "Epoch 377/500\n",
      "3/3 - 0s - loss: 11.4354 - mean_squared_error: 11.4354 - mean_absolute_error: 2.7425 - 23ms/epoch - 8ms/step\n",
      "Epoch 378/500\n",
      "3/3 - 0s - loss: 11.3603 - mean_squared_error: 11.3603 - mean_absolute_error: 2.7254 - 25ms/epoch - 8ms/step\n",
      "Epoch 379/500\n",
      "3/3 - 0s - loss: 11.6520 - mean_squared_error: 11.6520 - mean_absolute_error: 2.7456 - 26ms/epoch - 9ms/step\n",
      "Epoch 380/500\n",
      "3/3 - 0s - loss: 11.7955 - mean_squared_error: 11.7955 - mean_absolute_error: 2.7943 - 22ms/epoch - 7ms/step\n",
      "Epoch 381/500\n",
      "3/3 - 0s - loss: 11.7542 - mean_squared_error: 11.7542 - mean_absolute_error: 2.7956 - 22ms/epoch - 7ms/step\n",
      "Epoch 382/500\n",
      "3/3 - 0s - loss: 12.4477 - mean_squared_error: 12.4477 - mean_absolute_error: 2.8669 - 21ms/epoch - 7ms/step\n",
      "Epoch 383/500\n",
      "3/3 - 0s - loss: 11.4286 - mean_squared_error: 11.4286 - mean_absolute_error: 2.7801 - 24ms/epoch - 8ms/step\n",
      "Epoch 384/500\n",
      "3/3 - 0s - loss: 13.2503 - mean_squared_error: 13.2503 - mean_absolute_error: 2.8944 - 23ms/epoch - 8ms/step\n",
      "Epoch 385/500\n",
      "3/3 - 0s - loss: 12.2451 - mean_squared_error: 12.2451 - mean_absolute_error: 2.8223 - 24ms/epoch - 8ms/step\n",
      "Epoch 386/500\n",
      "3/3 - 0s - loss: 11.4858 - mean_squared_error: 11.4858 - mean_absolute_error: 2.7298 - 24ms/epoch - 8ms/step\n",
      "Epoch 387/500\n",
      "3/3 - 0s - loss: 11.7147 - mean_squared_error: 11.7147 - mean_absolute_error: 2.7656 - 22ms/epoch - 7ms/step\n",
      "Epoch 388/500\n",
      "3/3 - 0s - loss: 11.9888 - mean_squared_error: 11.9888 - mean_absolute_error: 2.8027 - 23ms/epoch - 8ms/step\n",
      "Epoch 389/500\n",
      "3/3 - 0s - loss: 12.1597 - mean_squared_error: 12.1597 - mean_absolute_error: 2.8205 - 23ms/epoch - 8ms/step\n",
      "Epoch 390/500\n",
      "3/3 - 0s - loss: 11.5145 - mean_squared_error: 11.5145 - mean_absolute_error: 2.7672 - 26ms/epoch - 9ms/step\n",
      "Epoch 391/500\n",
      "3/3 - 0s - loss: 11.3813 - mean_squared_error: 11.3813 - mean_absolute_error: 2.7372 - 22ms/epoch - 7ms/step\n",
      "Epoch 392/500\n",
      "3/3 - 0s - loss: 12.7498 - mean_squared_error: 12.7498 - mean_absolute_error: 2.8178 - 22ms/epoch - 7ms/step\n",
      "Epoch 393/500\n",
      "3/3 - 0s - loss: 11.9234 - mean_squared_error: 11.9234 - mean_absolute_error: 2.7842 - 22ms/epoch - 7ms/step\n",
      "Epoch 394/500\n",
      "3/3 - 0s - loss: 13.0695 - mean_squared_error: 13.0695 - mean_absolute_error: 2.8819 - 22ms/epoch - 7ms/step\n",
      "Epoch 395/500\n",
      "3/3 - 0s - loss: 12.4879 - mean_squared_error: 12.4879 - mean_absolute_error: 2.8501 - 22ms/epoch - 7ms/step\n",
      "Epoch 396/500\n",
      "3/3 - 0s - loss: 11.0895 - mean_squared_error: 11.0895 - mean_absolute_error: 2.7208 - 22ms/epoch - 7ms/step\n",
      "Epoch 397/500\n",
      "3/3 - 0s - loss: 11.3505 - mean_squared_error: 11.3505 - mean_absolute_error: 2.7488 - 23ms/epoch - 8ms/step\n",
      "Epoch 398/500\n",
      "3/3 - 0s - loss: 11.0013 - mean_squared_error: 11.0013 - mean_absolute_error: 2.7128 - 23ms/epoch - 8ms/step\n",
      "Epoch 399/500\n",
      "3/3 - 0s - loss: 11.1988 - mean_squared_error: 11.1988 - mean_absolute_error: 2.7357 - 24ms/epoch - 8ms/step\n",
      "Epoch 400/500\n",
      "3/3 - 0s - loss: 11.5972 - mean_squared_error: 11.5972 - mean_absolute_error: 2.7686 - 23ms/epoch - 8ms/step\n",
      "Epoch 401/500\n",
      "3/3 - 0s - loss: 11.8298 - mean_squared_error: 11.8298 - mean_absolute_error: 2.7814 - 33ms/epoch - 11ms/step\n",
      "Epoch 402/500\n",
      "3/3 - 0s - loss: 12.1550 - mean_squared_error: 12.1550 - mean_absolute_error: 2.8058 - 25ms/epoch - 8ms/step\n",
      "Epoch 403/500\n",
      "3/3 - 0s - loss: 11.3453 - mean_squared_error: 11.3453 - mean_absolute_error: 2.7174 - 24ms/epoch - 8ms/step\n",
      "Epoch 404/500\n",
      "3/3 - 0s - loss: 11.9363 - mean_squared_error: 11.9363 - mean_absolute_error: 2.7447 - 22ms/epoch - 7ms/step\n",
      "Epoch 405/500\n",
      "3/3 - 0s - loss: 11.2468 - mean_squared_error: 11.2468 - mean_absolute_error: 2.7081 - 23ms/epoch - 8ms/step\n",
      "Epoch 406/500\n",
      "3/3 - 0s - loss: 11.8183 - mean_squared_error: 11.8183 - mean_absolute_error: 2.7540 - 23ms/epoch - 8ms/step\n",
      "Epoch 407/500\n",
      "3/3 - 0s - loss: 12.9590 - mean_squared_error: 12.9590 - mean_absolute_error: 2.8601 - 23ms/epoch - 8ms/step\n",
      "Epoch 408/500\n",
      "3/3 - 0s - loss: 13.0375 - mean_squared_error: 13.0375 - mean_absolute_error: 2.9114 - 23ms/epoch - 8ms/step\n",
      "Epoch 409/500\n",
      "3/3 - 0s - loss: 12.2120 - mean_squared_error: 12.2120 - mean_absolute_error: 2.8203 - 27ms/epoch - 9ms/step\n",
      "Epoch 410/500\n",
      "3/3 - 0s - loss: 11.5752 - mean_squared_error: 11.5752 - mean_absolute_error: 2.7585 - 23ms/epoch - 8ms/step\n",
      "Epoch 411/500\n",
      "3/3 - 0s - loss: 10.9929 - mean_squared_error: 10.9929 - mean_absolute_error: 2.6925 - 23ms/epoch - 8ms/step\n",
      "Epoch 412/500\n",
      "3/3 - 0s - loss: 11.9883 - mean_squared_error: 11.9883 - mean_absolute_error: 2.7791 - 24ms/epoch - 8ms/step\n",
      "Epoch 413/500\n",
      "3/3 - 0s - loss: 11.3960 - mean_squared_error: 11.3960 - mean_absolute_error: 2.7057 - 30ms/epoch - 10ms/step\n",
      "Epoch 414/500\n",
      "3/3 - 0s - loss: 12.4871 - mean_squared_error: 12.4871 - mean_absolute_error: 2.7872 - 25ms/epoch - 8ms/step\n",
      "Epoch 415/500\n",
      "3/3 - 0s - loss: 12.2258 - mean_squared_error: 12.2258 - mean_absolute_error: 2.8064 - 25ms/epoch - 8ms/step\n",
      "Epoch 416/500\n",
      "3/3 - 0s - loss: 11.1710 - mean_squared_error: 11.1710 - mean_absolute_error: 2.7072 - 27ms/epoch - 9ms/step\n",
      "Epoch 417/500\n",
      "3/3 - 0s - loss: 11.3611 - mean_squared_error: 11.3611 - mean_absolute_error: 2.7313 - 25ms/epoch - 8ms/step\n",
      "Epoch 418/500\n",
      "3/3 - 0s - loss: 11.1108 - mean_squared_error: 11.1108 - mean_absolute_error: 2.7020 - 25ms/epoch - 8ms/step\n",
      "Epoch 419/500\n",
      "3/3 - 0s - loss: 11.5299 - mean_squared_error: 11.5299 - mean_absolute_error: 2.7543 - 26ms/epoch - 9ms/step\n",
      "Epoch 420/500\n",
      "3/3 - 0s - loss: 12.5242 - mean_squared_error: 12.5242 - mean_absolute_error: 2.7894 - 25ms/epoch - 8ms/step\n",
      "Epoch 421/500\n",
      "3/3 - 0s - loss: 12.0988 - mean_squared_error: 12.0988 - mean_absolute_error: 2.7661 - 24ms/epoch - 8ms/step\n",
      "Epoch 422/500\n",
      "3/3 - 0s - loss: 10.9353 - mean_squared_error: 10.9353 - mean_absolute_error: 2.6837 - 24ms/epoch - 8ms/step\n",
      "Epoch 423/500\n",
      "3/3 - 0s - loss: 10.9920 - mean_squared_error: 10.9920 - mean_absolute_error: 2.6864 - 24ms/epoch - 8ms/step\n",
      "Epoch 424/500\n",
      "3/3 - 0s - loss: 10.8114 - mean_squared_error: 10.8114 - mean_absolute_error: 2.6670 - 27ms/epoch - 9ms/step\n",
      "Epoch 425/500\n",
      "3/3 - 0s - loss: 10.9057 - mean_squared_error: 10.9057 - mean_absolute_error: 2.6852 - 22ms/epoch - 7ms/step\n",
      "Epoch 426/500\n",
      "3/3 - 0s - loss: 11.3245 - mean_squared_error: 11.3245 - mean_absolute_error: 2.7245 - 23ms/epoch - 8ms/step\n",
      "Epoch 427/500\n",
      "3/3 - 0s - loss: 11.5927 - mean_squared_error: 11.5927 - mean_absolute_error: 2.7483 - 22ms/epoch - 7ms/step\n",
      "Epoch 428/500\n",
      "3/3 - 0s - loss: 11.1264 - mean_squared_error: 11.1264 - mean_absolute_error: 2.7056 - 23ms/epoch - 8ms/step\n",
      "Epoch 429/500\n",
      "3/3 - 0s - loss: 11.0954 - mean_squared_error: 11.0954 - mean_absolute_error: 2.6903 - 23ms/epoch - 8ms/step\n",
      "Epoch 430/500\n",
      "3/3 - 0s - loss: 15.0415 - mean_squared_error: 15.0415 - mean_absolute_error: 2.9780 - 24ms/epoch - 8ms/step\n",
      "Epoch 431/500\n",
      "3/3 - 0s - loss: 11.8481 - mean_squared_error: 11.8481 - mean_absolute_error: 2.7342 - 22ms/epoch - 7ms/step\n",
      "Epoch 432/500\n",
      "3/3 - 0s - loss: 12.6367 - mean_squared_error: 12.6367 - mean_absolute_error: 2.8027 - 23ms/epoch - 8ms/step\n",
      "Epoch 433/500\n",
      "3/3 - 0s - loss: 12.1503 - mean_squared_error: 12.1503 - mean_absolute_error: 2.7818 - 22ms/epoch - 7ms/step\n",
      "Epoch 434/500\n",
      "3/3 - 0s - loss: 12.2260 - mean_squared_error: 12.2260 - mean_absolute_error: 2.8048 - 26ms/epoch - 9ms/step\n",
      "Epoch 435/500\n",
      "3/3 - 0s - loss: 11.5603 - mean_squared_error: 11.5603 - mean_absolute_error: 2.7492 - 23ms/epoch - 8ms/step\n",
      "Epoch 436/500\n",
      "3/3 - 0s - loss: 11.3373 - mean_squared_error: 11.3373 - mean_absolute_error: 2.7037 - 24ms/epoch - 8ms/step\n",
      "Epoch 437/500\n",
      "3/3 - 0s - loss: 11.4894 - mean_squared_error: 11.4894 - mean_absolute_error: 2.7426 - 29ms/epoch - 10ms/step\n",
      "Epoch 438/500\n",
      "3/3 - 0s - loss: 11.0620 - mean_squared_error: 11.0620 - mean_absolute_error: 2.6641 - 27ms/epoch - 9ms/step\n",
      "Epoch 439/500\n",
      "3/3 - 0s - loss: 10.9685 - mean_squared_error: 10.9685 - mean_absolute_error: 2.6564 - 27ms/epoch - 9ms/step\n",
      "Epoch 440/500\n",
      "3/3 - 0s - loss: 11.5699 - mean_squared_error: 11.5699 - mean_absolute_error: 2.7197 - 25ms/epoch - 8ms/step\n",
      "Epoch 441/500\n",
      "3/3 - 0s - loss: 12.1864 - mean_squared_error: 12.1864 - mean_absolute_error: 2.7775 - 23ms/epoch - 8ms/step\n",
      "Epoch 442/500\n",
      "3/3 - 0s - loss: 11.2885 - mean_squared_error: 11.2885 - mean_absolute_error: 2.7324 - 24ms/epoch - 8ms/step\n",
      "Epoch 443/500\n",
      "3/3 - 0s - loss: 13.7909 - mean_squared_error: 13.7909 - mean_absolute_error: 2.9561 - 24ms/epoch - 8ms/step\n",
      "Epoch 444/500\n",
      "3/3 - 0s - loss: 11.8697 - mean_squared_error: 11.8697 - mean_absolute_error: 2.7867 - 23ms/epoch - 8ms/step\n",
      "Epoch 445/500\n",
      "3/3 - 0s - loss: 11.0950 - mean_squared_error: 11.0950 - mean_absolute_error: 2.7053 - 32ms/epoch - 11ms/step\n",
      "Epoch 446/500\n",
      "3/3 - 0s - loss: 12.9048 - mean_squared_error: 12.9048 - mean_absolute_error: 2.8588 - 24ms/epoch - 8ms/step\n",
      "Epoch 447/500\n",
      "3/3 - 0s - loss: 11.1430 - mean_squared_error: 11.1430 - mean_absolute_error: 2.6718 - 22ms/epoch - 7ms/step\n",
      "Epoch 448/500\n",
      "3/3 - 0s - loss: 13.4328 - mean_squared_error: 13.4328 - mean_absolute_error: 2.8431 - 24ms/epoch - 8ms/step\n",
      "Epoch 449/500\n",
      "3/3 - 0s - loss: 11.8759 - mean_squared_error: 11.8759 - mean_absolute_error: 2.7682 - 23ms/epoch - 8ms/step\n",
      "Epoch 450/500\n",
      "3/3 - 0s - loss: 12.6636 - mean_squared_error: 12.6636 - mean_absolute_error: 2.8732 - 25ms/epoch - 8ms/step\n",
      "Epoch 451/500\n",
      "3/3 - 0s - loss: 11.7387 - mean_squared_error: 11.7387 - mean_absolute_error: 2.8066 - 24ms/epoch - 8ms/step\n",
      "Epoch 452/500\n",
      "3/3 - 0s - loss: 11.3262 - mean_squared_error: 11.3262 - mean_absolute_error: 2.6956 - 22ms/epoch - 7ms/step\n",
      "Epoch 453/500\n",
      "3/3 - 0s - loss: 11.3784 - mean_squared_error: 11.3784 - mean_absolute_error: 2.6896 - 25ms/epoch - 8ms/step\n",
      "Epoch 454/500\n",
      "3/3 - 0s - loss: 11.0415 - mean_squared_error: 11.0415 - mean_absolute_error: 2.6919 - 25ms/epoch - 8ms/step\n",
      "Epoch 455/500\n",
      "3/3 - 0s - loss: 10.9469 - mean_squared_error: 10.9469 - mean_absolute_error: 2.6936 - 28ms/epoch - 9ms/step\n",
      "Epoch 456/500\n",
      "3/3 - 0s - loss: 11.0033 - mean_squared_error: 11.0033 - mean_absolute_error: 2.6906 - 24ms/epoch - 8ms/step\n",
      "Epoch 457/500\n",
      "3/3 - 0s - loss: 11.4601 - mean_squared_error: 11.4601 - mean_absolute_error: 2.7410 - 22ms/epoch - 7ms/step\n",
      "Epoch 458/500\n",
      "3/3 - 0s - loss: 11.1504 - mean_squared_error: 11.1504 - mean_absolute_error: 2.7155 - 23ms/epoch - 8ms/step\n",
      "Epoch 459/500\n",
      "3/3 - 0s - loss: 10.9824 - mean_squared_error: 10.9824 - mean_absolute_error: 2.7038 - 24ms/epoch - 8ms/step\n",
      "Epoch 460/500\n",
      "3/3 - 0s - loss: 10.8308 - mean_squared_error: 10.8308 - mean_absolute_error: 2.6808 - 24ms/epoch - 8ms/step\n",
      "Epoch 461/500\n",
      "3/3 - 0s - loss: 10.8991 - mean_squared_error: 10.8991 - mean_absolute_error: 2.6863 - 23ms/epoch - 8ms/step\n",
      "Epoch 462/500\n",
      "3/3 - 0s - loss: 10.7368 - mean_squared_error: 10.7368 - mean_absolute_error: 2.6710 - 23ms/epoch - 8ms/step\n",
      "Epoch 463/500\n",
      "3/3 - 0s - loss: 11.2012 - mean_squared_error: 11.2012 - mean_absolute_error: 2.7189 - 22ms/epoch - 7ms/step\n",
      "Epoch 464/500\n",
      "3/3 - 0s - loss: 10.6437 - mean_squared_error: 10.6437 - mean_absolute_error: 2.6561 - 22ms/epoch - 7ms/step\n",
      "Epoch 465/500\n",
      "3/3 - 0s - loss: 10.9515 - mean_squared_error: 10.9515 - mean_absolute_error: 2.6710 - 23ms/epoch - 8ms/step\n",
      "Epoch 466/500\n",
      "3/3 - 0s - loss: 10.8446 - mean_squared_error: 10.8446 - mean_absolute_error: 2.6728 - 27ms/epoch - 9ms/step\n",
      "Epoch 467/500\n",
      "3/3 - 0s - loss: 10.6535 - mean_squared_error: 10.6535 - mean_absolute_error: 2.6545 - 22ms/epoch - 7ms/step\n",
      "Epoch 468/500\n",
      "3/3 - 0s - loss: 10.6861 - mean_squared_error: 10.6861 - mean_absolute_error: 2.6466 - 22ms/epoch - 7ms/step\n",
      "Epoch 469/500\n",
      "3/3 - 0s - loss: 10.7048 - mean_squared_error: 10.7048 - mean_absolute_error: 2.6552 - 22ms/epoch - 7ms/step\n",
      "Epoch 470/500\n",
      "3/3 - 0s - loss: 10.7524 - mean_squared_error: 10.7524 - mean_absolute_error: 2.6622 - 22ms/epoch - 7ms/step\n",
      "Epoch 471/500\n",
      "3/3 - 0s - loss: 10.6287 - mean_squared_error: 10.6287 - mean_absolute_error: 2.6571 - 23ms/epoch - 8ms/step\n",
      "Epoch 472/500\n",
      "3/3 - 0s - loss: 11.4175 - mean_squared_error: 11.4175 - mean_absolute_error: 2.7249 - 22ms/epoch - 7ms/step\n",
      "Epoch 473/500\n",
      "3/3 - 0s - loss: 10.9977 - mean_squared_error: 10.9977 - mean_absolute_error: 2.6707 - 21ms/epoch - 7ms/step\n",
      "Epoch 474/500\n",
      "3/3 - 0s - loss: 10.7699 - mean_squared_error: 10.7699 - mean_absolute_error: 2.6528 - 23ms/epoch - 8ms/step\n",
      "Epoch 475/500\n",
      "3/3 - 0s - loss: 10.9830 - mean_squared_error: 10.9830 - mean_absolute_error: 2.6746 - 35ms/epoch - 12ms/step\n",
      "Epoch 476/500\n",
      "3/3 - 0s - loss: 10.8780 - mean_squared_error: 10.8780 - mean_absolute_error: 2.6668 - 24ms/epoch - 8ms/step\n",
      "Epoch 477/500\n",
      "3/3 - 0s - loss: 10.8867 - mean_squared_error: 10.8867 - mean_absolute_error: 2.6649 - 22ms/epoch - 7ms/step\n",
      "Epoch 478/500\n",
      "3/3 - 0s - loss: 10.8671 - mean_squared_error: 10.8671 - mean_absolute_error: 2.6647 - 23ms/epoch - 8ms/step\n",
      "Epoch 479/500\n",
      "3/3 - 0s - loss: 10.5972 - mean_squared_error: 10.5972 - mean_absolute_error: 2.6383 - 26ms/epoch - 9ms/step\n",
      "Epoch 480/500\n",
      "3/3 - 0s - loss: 10.7182 - mean_squared_error: 10.7182 - mean_absolute_error: 2.6704 - 28ms/epoch - 9ms/step\n",
      "Epoch 481/500\n",
      "3/3 - 0s - loss: 11.0514 - mean_squared_error: 11.0514 - mean_absolute_error: 2.7012 - 27ms/epoch - 9ms/step\n",
      "Epoch 482/500\n",
      "3/3 - 0s - loss: 11.4434 - mean_squared_error: 11.4434 - mean_absolute_error: 2.7323 - 24ms/epoch - 8ms/step\n",
      "Epoch 483/500\n",
      "3/3 - 0s - loss: 11.0506 - mean_squared_error: 11.0506 - mean_absolute_error: 2.6964 - 23ms/epoch - 8ms/step\n",
      "Epoch 484/500\n",
      "3/3 - 0s - loss: 11.4093 - mean_squared_error: 11.4093 - mean_absolute_error: 2.7246 - 23ms/epoch - 8ms/step\n",
      "Epoch 485/500\n",
      "3/3 - 0s - loss: 11.3594 - mean_squared_error: 11.3594 - mean_absolute_error: 2.7170 - 30ms/epoch - 10ms/step\n",
      "Epoch 486/500\n",
      "3/3 - 0s - loss: 11.0158 - mean_squared_error: 11.0158 - mean_absolute_error: 2.6843 - 38ms/epoch - 13ms/step\n",
      "Epoch 487/500\n",
      "3/3 - 0s - loss: 10.7970 - mean_squared_error: 10.7970 - mean_absolute_error: 2.6552 - 52ms/epoch - 17ms/step\n",
      "Epoch 488/500\n",
      "3/3 - 0s - loss: 11.3780 - mean_squared_error: 11.3780 - mean_absolute_error: 2.6880 - 29ms/epoch - 10ms/step\n",
      "Epoch 489/500\n",
      "3/3 - 0s - loss: 11.3222 - mean_squared_error: 11.3222 - mean_absolute_error: 2.6863 - 24ms/epoch - 8ms/step\n",
      "Epoch 490/500\n",
      "3/3 - 0s - loss: 11.2927 - mean_squared_error: 11.2927 - mean_absolute_error: 2.7115 - 25ms/epoch - 8ms/step\n",
      "Epoch 491/500\n",
      "3/3 - 0s - loss: 11.4991 - mean_squared_error: 11.4991 - mean_absolute_error: 2.7453 - 25ms/epoch - 8ms/step\n",
      "Epoch 492/500\n",
      "3/3 - 0s - loss: 10.7125 - mean_squared_error: 10.7125 - mean_absolute_error: 2.6335 - 24ms/epoch - 8ms/step\n",
      "Epoch 493/500\n",
      "3/3 - 0s - loss: 11.4441 - mean_squared_error: 11.4441 - mean_absolute_error: 2.6871 - 24ms/epoch - 8ms/step\n",
      "Epoch 494/500\n",
      "3/3 - 0s - loss: 11.1419 - mean_squared_error: 11.1419 - mean_absolute_error: 2.6856 - 25ms/epoch - 8ms/step\n",
      "Epoch 495/500\n",
      "3/3 - 0s - loss: 11.8627 - mean_squared_error: 11.8627 - mean_absolute_error: 2.7673 - 30ms/epoch - 10ms/step\n",
      "Epoch 496/500\n",
      "3/3 - 0s - loss: 10.9015 - mean_squared_error: 10.9015 - mean_absolute_error: 2.6789 - 25ms/epoch - 8ms/step\n",
      "Epoch 497/500\n",
      "3/3 - 0s - loss: 11.9481 - mean_squared_error: 11.9481 - mean_absolute_error: 2.7598 - 25ms/epoch - 8ms/step\n",
      "Epoch 498/500\n",
      "3/3 - 0s - loss: 11.5543 - mean_squared_error: 11.5543 - mean_absolute_error: 2.7263 - 25ms/epoch - 8ms/step\n",
      "Epoch 499/500\n",
      "3/3 - 0s - loss: 12.0607 - mean_squared_error: 12.0607 - mean_absolute_error: 2.7511 - 24ms/epoch - 8ms/step\n",
      "Epoch 500/500\n",
      "3/3 - 0s - loss: 11.0021 - mean_squared_error: 11.0021 - mean_absolute_error: 2.6762 - 24ms/epoch - 8ms/step\n"
     ]
    }
   ],
   "source": [
    "##### Step 5 - Fit the model on the dataset\n",
    "history = model.fit(X_train, # input data\n",
    "                    Y_train, # target data\n",
    "                    batch_size=None, # Number of samples per gradient update. If unspecified, batch_size will default to 32.\n",
    "                    epochs=500, # default=1, Number of epochs to train the model. An epoch is an iteration over the entire x and y data provided\n",
    "                    verbose=2, # default='auto', ('auto', 0, 1, or 2). Verbosity mode. 0 = silent, 1 = progress bar, 2 = one line per epoch. 'auto' defaults to 1 for most cases, but 2 when used with ParameterServerStrategy.\n",
    "                    callbacks=None, # default=None, list of callbacks to apply during training. See tf.keras.callbacks\n",
    "                    #validation_split=0.2, # default=0.0, Fraction of the training data to be used as validation data. The model will set apart this fraction of the training data, will not train on it, and will evaluate the loss and any model metrics on this data at the end of each epoch. \n",
    "                    #validation_data=(X_test, y_test), # default=None, Data on which to evaluate the loss and any model metrics at the end of each epoch. \n",
    "                    shuffle=True, # default=True, Boolean (whether to shuffle the training data before each epoch) or str (for 'batch').\n",
    "                    class_weight=None, # default=None, Optional dictionary mapping class indices (integers) to a weight (float) value, used for weighting the loss function (during training only). This can be useful to tell the model to \"pay more attention\" to samples from an under-represented class.\n",
    "                    sample_weight=None, # default=None, Optional Numpy array of weights for the training samples, used for weighting the loss function (during training only).\n",
    "                    initial_epoch=0, # Integer, default=0, Epoch at which to start training (useful for resuming a previous training run).\n",
    "                    steps_per_epoch=None, # Integer or None, default=None, Total number of steps (batches of samples) before declaring one epoch finished and starting the next epoch. When training with input tensors such as TensorFlow data tensors, the default None is equal to the number of samples in your dataset divided by the batch size, or 1 if that cannot be determined. \n",
    "                    validation_steps=None, # Only relevant if validation_data is provided and is a tf.data dataset. Total number of steps (batches of samples) to draw before stopping when performing validation at the end of every epoch.\n",
    "                    validation_batch_size=None, # Integer or None, default=None, Number of samples per validation batch. If unspecified, will default to batch_size.\n",
    "                    validation_freq=100, # default=1, Only relevant if validation data is provided. If an integer, specifies how many training epochs to run before a new validation run is performed, e.g. validation_freq=2 runs validation every 2 epochs.\n",
    "                    max_queue_size=10, # default=10, Used for generator or keras.utils.Sequence input only. Maximum size for the generator queue. If unspecified, max_queue_size will default to 10.\n",
    "                    workers=1, # default=1, Used for generator or keras.utils.Sequence input only. Maximum number of processes to spin up when using process-based threading. If unspecified, workers will default to 1.\n",
    "                    use_multiprocessing=True, # default=False, Used for generator or keras.utils.Sequence input only. If True, use process-based threading. If unspecified, use_multiprocessing will default to False. \n",
    "                \n",
    "                   )\n"
   ]
  },
  {
   "cell_type": "code",
   "execution_count": 58,
   "metadata": {},
   "outputs": [
    {
     "name": "stdout",
     "output_type": "stream",
     "text": [
      "3/3 [==============================] - 0s 3ms/step\n",
      "1/1 [==============================] - 0s 19ms/step\n"
     ]
    }
   ],
   "source": [
    "##### Step 6 - Use model to make predictions\n",
    "# Predict results on training data\n",
    "pred_train = model.predict(X_train)\n",
    "# Predict esults on test data\n",
    "pred_test = model.predict(X_test)"
   ]
  },
  {
   "cell_type": "code",
   "execution_count": 59,
   "metadata": {},
   "outputs": [
    {
     "name": "stdout",
     "output_type": "stream",
     "text": [
      "\n",
      "-------------------- Model Summary --------------------\n",
      "Model: \"sequential_3\"\n",
      "_________________________________________________________________\n",
      " Layer (type)                Output Shape              Param #   \n",
      "=================================================================\n",
      " conv1d_3 (Conv1D)           (None, 10, 128)           256       \n",
      "                                                                 \n",
      " max_pooling1d_3 (MaxPooling  (None, 10, 128)          0         \n",
      " 1D)                                                             \n",
      "                                                                 \n",
      " lstm_3 (LSTM)               (None, 10, 64)            49408     \n",
      "                                                                 \n",
      " time_distributed_2 (TimeDis  (None, 10, 100)          6500      \n",
      " tributed)                                                       \n",
      "                                                                 \n",
      " time_distributed_3 (TimeDis  (None, 10, 1)            101       \n",
      " tributed)                                                       \n",
      "                                                                 \n",
      "=================================================================\n",
      "Total params: 56,265\n",
      "Trainable params: 56,265\n",
      "Non-trainable params: 0\n",
      "_________________________________________________________________\n",
      "\n",
      "-------------------- Weights and Biases --------------------\n",
      "Too many parameters to print but you can use the code provided if needed\n",
      "\n",
      "-------------------- Evaluation on Training Data --------------------\n",
      "Final loss : 11.0021390914917\n",
      "Final mean_squared_error : 11.0021390914917\n",
      "Final mean_absolute_error : 2.676172971725464\n",
      "\n",
      "-------------------- Evaluation on Test Data --------------------\n",
      "1/1 [==============================] - 1s 558ms/step - loss: 69.9229 - mean_squared_error: 69.9229 - mean_absolute_error: 8.0307\n",
      "\n"
     ]
    }
   ],
   "source": [
    "##### Step 7 - Print Performance Summary\n",
    "print(\"\")\n",
    "print('-------------------- Model Summary --------------------')\n",
    "model.summary() # print model summary\n",
    "print(\"\")\n",
    "print('-------------------- Weights and Biases --------------------')\n",
    "print(\"Too many parameters to print but you can use the code provided if needed\")\n",
    "print(\"\")\n",
    "#for layer in model.layers:\n",
    "#    print(layer.name)\n",
    "#    for item in layer.get_weights():\n",
    "#        print(\"  \", item)\n",
    "#print(\"\")\n",
    "\n",
    "# Print the last value in the evaluation metrics contained within history file\n",
    "print('-------------------- Evaluation on Training Data --------------------')\n",
    "for item in history.history:\n",
    "    print(\"Final\", item, \":\", history.history[item][-1])\n",
    "print(\"\")\n",
    "\n",
    "# Evaluate the model on the test data using \"evaluate\"\n",
    "print('-------------------- Evaluation on Test Data --------------------')\n",
    "results = model.evaluate(X_test, Y_test)\n",
    "print(\"\")"
   ]
  },
  {
   "cell_type": "code",
   "execution_count": 60,
   "metadata": {},
   "outputs": [
    {
     "data": {
      "application/vnd.plotly.v1+json": {
       "config": {
        "plotlyServerURL": "https://plot.ly"
       },
       "data": [
        {
         "line": {
          "color": "black",
          "width": 1
         },
         "mode": "lines",
         "name": "Subsidence - Actual (Test)",
         "opacity": 0.8,
         "type": "scatter",
         "x": [
          "2018-05-27T00:00:00.000000000",
          "2018-06-08T00:00:00.000000000",
          "2018-06-20T00:00:00.000000000",
          "2018-07-02T00:00:00.000000000",
          "2018-07-14T00:00:00.000000000",
          "2018-07-26T00:00:00.000000000",
          "2018-08-07T00:00:00.000000000",
          "2018-08-19T00:00:00.000000000",
          "2018-08-31T00:00:00.000000000",
          "2018-09-12T00:00:00.000000000",
          "2018-09-24T00:00:00.000000000",
          "2018-10-06T00:00:00.000000000",
          "2018-10-18T00:00:00.000000000",
          "2018-10-30T00:00:00.000000000",
          "2018-11-11T00:00:00.000000000",
          "2018-11-17T00:00:00.000000000",
          "2018-11-23T00:00:00.000000000",
          "2018-12-05T00:00:00.000000000",
          "2018-12-17T00:00:00.000000000",
          "2018-12-29T00:00:00.000000000",
          "2019-01-10T00:00:00.000000000",
          "2019-01-22T00:00:00.000000000"
         ],
         "y": [
          -46.303,
          -46.266,
          -49.379,
          -48.562,
          -49.459,
          null,
          -50.406,
          -52.09,
          -53.942,
          -54.471,
          -52.947,
          -56.31,
          -54.522,
          -54.411,
          -53.782,
          -53.387,
          -53.708,
          -53.692,
          -52.643,
          -52.086,
          -53.301,
          -52.878
         ]
        },
        {
         "line": {
          "color": "red",
          "width": 1
         },
         "mode": "lines",
         "name": "Subsidence - Predicted (Test)",
         "opacity": 0.8,
         "type": "scatter",
         "x": [
          "2018-10-18T00:00:00.000000000",
          "2018-10-30T00:00:00.000000000",
          "2018-11-11T00:00:00.000000000",
          "2018-11-17T00:00:00.000000000",
          "2018-11-23T00:00:00.000000000",
          "2018-12-05T00:00:00.000000000",
          "2018-12-17T00:00:00.000000000",
          "2018-12-29T00:00:00.000000000",
          "2019-01-10T00:00:00.000000000",
          "2019-01-22T00:00:00.000000000"
         ],
         "y": [
          -41.6653938293457,
          -44.02985763549805,
          -45.08796310424805,
          -45.27311325073242,
          -45.507266998291016,
          -48.58957290649414,
          -46.01496887207031,
          -46.01467514038086,
          -46.24892044067383,
          -46.33061218261719,
          -41.65923309326172,
          -44.69321060180664,
          -45.05192565917969,
          -45.4419059753418,
          -48.582374572753906,
          -46.016876220703125,
          -46.0174446105957,
          -46.25143051147461,
          -46.33254623413086,
          -46.14152526855469,
          -42.12160873413086,
          -44.658103942871094,
          -45.23360061645508,
          -48.54713821411133,
          -46.01314163208008,
          -46.01934051513672,
          -46.25421142578125,
          -46.33494186401367,
          -46.143314361572266,
          -46.541751861572266
         ]
        }
       ],
       "layout": {
        "legend": {
         "orientation": "h",
         "x": 1,
         "xanchor": "right",
         "y": 1.02,
         "yanchor": "bottom"
        },
        "plot_bgcolor": "white",
        "template": {
         "data": {
          "bar": [
           {
            "error_x": {
             "color": "#2a3f5f"
            },
            "error_y": {
             "color": "#2a3f5f"
            },
            "marker": {
             "line": {
              "color": "#E5ECF6",
              "width": 0.5
             },
             "pattern": {
              "fillmode": "overlay",
              "size": 10,
              "solidity": 0.2
             }
            },
            "type": "bar"
           }
          ],
          "barpolar": [
           {
            "marker": {
             "line": {
              "color": "#E5ECF6",
              "width": 0.5
             },
             "pattern": {
              "fillmode": "overlay",
              "size": 10,
              "solidity": 0.2
             }
            },
            "type": "barpolar"
           }
          ],
          "carpet": [
           {
            "aaxis": {
             "endlinecolor": "#2a3f5f",
             "gridcolor": "white",
             "linecolor": "white",
             "minorgridcolor": "white",
             "startlinecolor": "#2a3f5f"
            },
            "baxis": {
             "endlinecolor": "#2a3f5f",
             "gridcolor": "white",
             "linecolor": "white",
             "minorgridcolor": "white",
             "startlinecolor": "#2a3f5f"
            },
            "type": "carpet"
           }
          ],
          "choropleth": [
           {
            "colorbar": {
             "outlinewidth": 0,
             "ticks": ""
            },
            "type": "choropleth"
           }
          ],
          "contour": [
           {
            "colorbar": {
             "outlinewidth": 0,
             "ticks": ""
            },
            "colorscale": [
             [
              0,
              "#0d0887"
             ],
             [
              0.1111111111111111,
              "#46039f"
             ],
             [
              0.2222222222222222,
              "#7201a8"
             ],
             [
              0.3333333333333333,
              "#9c179e"
             ],
             [
              0.4444444444444444,
              "#bd3786"
             ],
             [
              0.5555555555555556,
              "#d8576b"
             ],
             [
              0.6666666666666666,
              "#ed7953"
             ],
             [
              0.7777777777777778,
              "#fb9f3a"
             ],
             [
              0.8888888888888888,
              "#fdca26"
             ],
             [
              1,
              "#f0f921"
             ]
            ],
            "type": "contour"
           }
          ],
          "contourcarpet": [
           {
            "colorbar": {
             "outlinewidth": 0,
             "ticks": ""
            },
            "type": "contourcarpet"
           }
          ],
          "heatmap": [
           {
            "colorbar": {
             "outlinewidth": 0,
             "ticks": ""
            },
            "colorscale": [
             [
              0,
              "#0d0887"
             ],
             [
              0.1111111111111111,
              "#46039f"
             ],
             [
              0.2222222222222222,
              "#7201a8"
             ],
             [
              0.3333333333333333,
              "#9c179e"
             ],
             [
              0.4444444444444444,
              "#bd3786"
             ],
             [
              0.5555555555555556,
              "#d8576b"
             ],
             [
              0.6666666666666666,
              "#ed7953"
             ],
             [
              0.7777777777777778,
              "#fb9f3a"
             ],
             [
              0.8888888888888888,
              "#fdca26"
             ],
             [
              1,
              "#f0f921"
             ]
            ],
            "type": "heatmap"
           }
          ],
          "heatmapgl": [
           {
            "colorbar": {
             "outlinewidth": 0,
             "ticks": ""
            },
            "colorscale": [
             [
              0,
              "#0d0887"
             ],
             [
              0.1111111111111111,
              "#46039f"
             ],
             [
              0.2222222222222222,
              "#7201a8"
             ],
             [
              0.3333333333333333,
              "#9c179e"
             ],
             [
              0.4444444444444444,
              "#bd3786"
             ],
             [
              0.5555555555555556,
              "#d8576b"
             ],
             [
              0.6666666666666666,
              "#ed7953"
             ],
             [
              0.7777777777777778,
              "#fb9f3a"
             ],
             [
              0.8888888888888888,
              "#fdca26"
             ],
             [
              1,
              "#f0f921"
             ]
            ],
            "type": "heatmapgl"
           }
          ],
          "histogram": [
           {
            "marker": {
             "pattern": {
              "fillmode": "overlay",
              "size": 10,
              "solidity": 0.2
             }
            },
            "type": "histogram"
           }
          ],
          "histogram2d": [
           {
            "colorbar": {
             "outlinewidth": 0,
             "ticks": ""
            },
            "colorscale": [
             [
              0,
              "#0d0887"
             ],
             [
              0.1111111111111111,
              "#46039f"
             ],
             [
              0.2222222222222222,
              "#7201a8"
             ],
             [
              0.3333333333333333,
              "#9c179e"
             ],
             [
              0.4444444444444444,
              "#bd3786"
             ],
             [
              0.5555555555555556,
              "#d8576b"
             ],
             [
              0.6666666666666666,
              "#ed7953"
             ],
             [
              0.7777777777777778,
              "#fb9f3a"
             ],
             [
              0.8888888888888888,
              "#fdca26"
             ],
             [
              1,
              "#f0f921"
             ]
            ],
            "type": "histogram2d"
           }
          ],
          "histogram2dcontour": [
           {
            "colorbar": {
             "outlinewidth": 0,
             "ticks": ""
            },
            "colorscale": [
             [
              0,
              "#0d0887"
             ],
             [
              0.1111111111111111,
              "#46039f"
             ],
             [
              0.2222222222222222,
              "#7201a8"
             ],
             [
              0.3333333333333333,
              "#9c179e"
             ],
             [
              0.4444444444444444,
              "#bd3786"
             ],
             [
              0.5555555555555556,
              "#d8576b"
             ],
             [
              0.6666666666666666,
              "#ed7953"
             ],
             [
              0.7777777777777778,
              "#fb9f3a"
             ],
             [
              0.8888888888888888,
              "#fdca26"
             ],
             [
              1,
              "#f0f921"
             ]
            ],
            "type": "histogram2dcontour"
           }
          ],
          "mesh3d": [
           {
            "colorbar": {
             "outlinewidth": 0,
             "ticks": ""
            },
            "type": "mesh3d"
           }
          ],
          "parcoords": [
           {
            "line": {
             "colorbar": {
              "outlinewidth": 0,
              "ticks": ""
             }
            },
            "type": "parcoords"
           }
          ],
          "pie": [
           {
            "automargin": true,
            "type": "pie"
           }
          ],
          "scatter": [
           {
            "fillpattern": {
             "fillmode": "overlay",
             "size": 10,
             "solidity": 0.2
            },
            "type": "scatter"
           }
          ],
          "scatter3d": [
           {
            "line": {
             "colorbar": {
              "outlinewidth": 0,
              "ticks": ""
             }
            },
            "marker": {
             "colorbar": {
              "outlinewidth": 0,
              "ticks": ""
             }
            },
            "type": "scatter3d"
           }
          ],
          "scattercarpet": [
           {
            "marker": {
             "colorbar": {
              "outlinewidth": 0,
              "ticks": ""
             }
            },
            "type": "scattercarpet"
           }
          ],
          "scattergeo": [
           {
            "marker": {
             "colorbar": {
              "outlinewidth": 0,
              "ticks": ""
             }
            },
            "type": "scattergeo"
           }
          ],
          "scattergl": [
           {
            "marker": {
             "colorbar": {
              "outlinewidth": 0,
              "ticks": ""
             }
            },
            "type": "scattergl"
           }
          ],
          "scattermapbox": [
           {
            "marker": {
             "colorbar": {
              "outlinewidth": 0,
              "ticks": ""
             }
            },
            "type": "scattermapbox"
           }
          ],
          "scatterpolar": [
           {
            "marker": {
             "colorbar": {
              "outlinewidth": 0,
              "ticks": ""
             }
            },
            "type": "scatterpolar"
           }
          ],
          "scatterpolargl": [
           {
            "marker": {
             "colorbar": {
              "outlinewidth": 0,
              "ticks": ""
             }
            },
            "type": "scatterpolargl"
           }
          ],
          "scatterternary": [
           {
            "marker": {
             "colorbar": {
              "outlinewidth": 0,
              "ticks": ""
             }
            },
            "type": "scatterternary"
           }
          ],
          "surface": [
           {
            "colorbar": {
             "outlinewidth": 0,
             "ticks": ""
            },
            "colorscale": [
             [
              0,
              "#0d0887"
             ],
             [
              0.1111111111111111,
              "#46039f"
             ],
             [
              0.2222222222222222,
              "#7201a8"
             ],
             [
              0.3333333333333333,
              "#9c179e"
             ],
             [
              0.4444444444444444,
              "#bd3786"
             ],
             [
              0.5555555555555556,
              "#d8576b"
             ],
             [
              0.6666666666666666,
              "#ed7953"
             ],
             [
              0.7777777777777778,
              "#fb9f3a"
             ],
             [
              0.8888888888888888,
              "#fdca26"
             ],
             [
              1,
              "#f0f921"
             ]
            ],
            "type": "surface"
           }
          ],
          "table": [
           {
            "cells": {
             "fill": {
              "color": "#EBF0F8"
             },
             "line": {
              "color": "white"
             }
            },
            "header": {
             "fill": {
              "color": "#C8D4E3"
             },
             "line": {
              "color": "white"
             }
            },
            "type": "table"
           }
          ]
         },
         "layout": {
          "annotationdefaults": {
           "arrowcolor": "#2a3f5f",
           "arrowhead": 0,
           "arrowwidth": 1
          },
          "autotypenumbers": "strict",
          "coloraxis": {
           "colorbar": {
            "outlinewidth": 0,
            "ticks": ""
           }
          },
          "colorscale": {
           "diverging": [
            [
             0,
             "#8e0152"
            ],
            [
             0.1,
             "#c51b7d"
            ],
            [
             0.2,
             "#de77ae"
            ],
            [
             0.3,
             "#f1b6da"
            ],
            [
             0.4,
             "#fde0ef"
            ],
            [
             0.5,
             "#f7f7f7"
            ],
            [
             0.6,
             "#e6f5d0"
            ],
            [
             0.7,
             "#b8e186"
            ],
            [
             0.8,
             "#7fbc41"
            ],
            [
             0.9,
             "#4d9221"
            ],
            [
             1,
             "#276419"
            ]
           ],
           "sequential": [
            [
             0,
             "#0d0887"
            ],
            [
             0.1111111111111111,
             "#46039f"
            ],
            [
             0.2222222222222222,
             "#7201a8"
            ],
            [
             0.3333333333333333,
             "#9c179e"
            ],
            [
             0.4444444444444444,
             "#bd3786"
            ],
            [
             0.5555555555555556,
             "#d8576b"
            ],
            [
             0.6666666666666666,
             "#ed7953"
            ],
            [
             0.7777777777777778,
             "#fb9f3a"
            ],
            [
             0.8888888888888888,
             "#fdca26"
            ],
            [
             1,
             "#f0f921"
            ]
           ],
           "sequentialminus": [
            [
             0,
             "#0d0887"
            ],
            [
             0.1111111111111111,
             "#46039f"
            ],
            [
             0.2222222222222222,
             "#7201a8"
            ],
            [
             0.3333333333333333,
             "#9c179e"
            ],
            [
             0.4444444444444444,
             "#bd3786"
            ],
            [
             0.5555555555555556,
             "#d8576b"
            ],
            [
             0.6666666666666666,
             "#ed7953"
            ],
            [
             0.7777777777777778,
             "#fb9f3a"
            ],
            [
             0.8888888888888888,
             "#fdca26"
            ],
            [
             1,
             "#f0f921"
            ]
           ]
          },
          "colorway": [
           "#636efa",
           "#EF553B",
           "#00cc96",
           "#ab63fa",
           "#FFA15A",
           "#19d3f3",
           "#FF6692",
           "#B6E880",
           "#FF97FF",
           "#FECB52"
          ],
          "font": {
           "color": "#2a3f5f"
          },
          "geo": {
           "bgcolor": "white",
           "lakecolor": "white",
           "landcolor": "#E5ECF6",
           "showlakes": true,
           "showland": true,
           "subunitcolor": "white"
          },
          "hoverlabel": {
           "align": "left"
          },
          "hovermode": "closest",
          "mapbox": {
           "style": "light"
          },
          "paper_bgcolor": "white",
          "plot_bgcolor": "#E5ECF6",
          "polar": {
           "angularaxis": {
            "gridcolor": "white",
            "linecolor": "white",
            "ticks": ""
           },
           "bgcolor": "#E5ECF6",
           "radialaxis": {
            "gridcolor": "white",
            "linecolor": "white",
            "ticks": ""
           }
          },
          "scene": {
           "xaxis": {
            "backgroundcolor": "#E5ECF6",
            "gridcolor": "white",
            "gridwidth": 2,
            "linecolor": "white",
            "showbackground": true,
            "ticks": "",
            "zerolinecolor": "white"
           },
           "yaxis": {
            "backgroundcolor": "#E5ECF6",
            "gridcolor": "white",
            "gridwidth": 2,
            "linecolor": "white",
            "showbackground": true,
            "ticks": "",
            "zerolinecolor": "white"
           },
           "zaxis": {
            "backgroundcolor": "#E5ECF6",
            "gridcolor": "white",
            "gridwidth": 2,
            "linecolor": "white",
            "showbackground": true,
            "ticks": "",
            "zerolinecolor": "white"
           }
          },
          "shapedefaults": {
           "line": {
            "color": "#2a3f5f"
           }
          },
          "ternary": {
           "aaxis": {
            "gridcolor": "white",
            "linecolor": "white",
            "ticks": ""
           },
           "baxis": {
            "gridcolor": "white",
            "linecolor": "white",
            "ticks": ""
           },
           "bgcolor": "#E5ECF6",
           "caxis": {
            "gridcolor": "white",
            "linecolor": "white",
            "ticks": ""
           }
          },
          "title": {
           "x": 0.05
          },
          "xaxis": {
           "automargin": true,
           "gridcolor": "white",
           "linecolor": "white",
           "ticks": "",
           "title": {
            "standoff": 15
           },
           "zerolinecolor": "white",
           "zerolinewidth": 2
          },
          "yaxis": {
           "automargin": true,
           "gridcolor": "white",
           "linecolor": "white",
           "ticks": "",
           "title": {
            "standoff": 15
           },
           "zerolinecolor": "white",
           "zerolinewidth": 2
          }
         }
        },
        "title": {
         "font": {
          "color": "black"
         },
         "text": "Subsidence"
        },
        "xaxis": {
         "gridcolor": "lightgrey",
         "gridwidth": 1,
         "linecolor": "black",
         "linewidth": 1,
         "showgrid": true,
         "showline": true,
         "title": {
          "text": "Month-Year"
         },
         "zeroline": true,
         "zerolinecolor": "lightgrey",
         "zerolinewidth": 1
        },
        "yaxis": {
         "gridcolor": "lightgrey",
         "gridwidth": 1,
         "linecolor": "black",
         "linewidth": 1,
         "showgrid": true,
         "showline": true,
         "title": {
          "text": "Subsidence"
         },
         "zeroline": true,
         "zerolinecolor": "lightgrey",
         "zerolinewidth": 1
        }
       }
      }
     },
     "metadata": {},
     "output_type": "display_data"
    }
   ],
   "source": [
    "# Plot subsidence (actual and predicted) for test (out of time) data\n",
    "fig = go.Figure()\n",
    "\n",
    "#Trace for actual temperatures\n",
    "fig.add_trace(go.Scatter(x=np.array(df_test.columns),\n",
    "                         y=np.array(df_test.values).flatten(),\n",
    "                         mode='lines',\n",
    "                         name='Subsidence - Actual (Test)',\n",
    "                         opacity=0.8,\n",
    "                         line=dict(color='black', width=1)\n",
    "                        ))\n",
    "\n",
    "# Trace for predicted temperatures\n",
    "fig.add_trace(go.Scatter(x=np.array(df_test.columns[-timestep:]),\n",
    "                         y=pred_test.flatten(),\n",
    "                         mode='lines',\n",
    "                         name='Subsidence - Predicted (Test)',\n",
    "                         opacity=0.8,\n",
    "                         line=dict(color='red', width=1)\n",
    "                        ))\n",
    "\n",
    "# Change chart background color\n",
    "fig.update_layout(dict(plot_bgcolor = 'white'))\n",
    "\n",
    "# Update axes lines\n",
    "fig.update_xaxes(showgrid=True, gridwidth=1, gridcolor='lightgrey', \n",
    "                 zeroline=True, zerolinewidth=1, zerolinecolor='lightgrey', \n",
    "                 showline=True, linewidth=1, linecolor='black',\n",
    "                 title='Month-Year'\n",
    "                )\n",
    "\n",
    "fig.update_yaxes(showgrid=True, gridwidth=1, gridcolor='lightgrey', \n",
    "                 zeroline=True, zerolinewidth=1, zerolinecolor='lightgrey', \n",
    "                 showline=True, linewidth=1, linecolor='black',\n",
    "                 title='Subsidence'\n",
    "                )\n",
    "\n",
    "# Set figure title\n",
    "fig.update_layout(title=dict(text=\"Subsidence\", font=dict(color='black')),\n",
    "                  legend=dict(orientation=\"h\", yanchor=\"bottom\", y=1.02, xanchor=\"right\", x=1)\n",
    "                 )\n",
    "fig.show()"
   ]
  },
  {
   "cell_type": "code",
   "execution_count": null,
   "metadata": {},
   "outputs": [],
   "source": []
  },
  {
   "cell_type": "code",
   "execution_count": null,
   "metadata": {},
   "outputs": [],
   "source": []
  },
  {
   "cell_type": "code",
   "execution_count": null,
   "metadata": {},
   "outputs": [],
   "source": []
  }
 ],
 "metadata": {
  "kernelspec": {
   "display_name": "Python 3 (ipykernel)",
   "language": "python",
   "name": "python3"
  },
  "language_info": {
   "codemirror_mode": {
    "name": "ipython",
    "version": 3
   },
   "file_extension": ".py",
   "mimetype": "text/x-python",
   "name": "python",
   "nbconvert_exporter": "python",
   "pygments_lexer": "ipython3",
   "version": "3.10.5"
  },
  "vscode": {
   "interpreter": {
    "hash": "d3e10ef16274dd72e574b8fa73b58450b957d8421a2901baded3cca26fcf5dda"
   }
  }
 },
 "nbformat": 4,
 "nbformat_minor": 2
}
