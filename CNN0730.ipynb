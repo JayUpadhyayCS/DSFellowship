{
 "cells": [
  {
   "cell_type": "code",
   "execution_count": 1,
   "metadata": {},
   "outputs": [
    {
     "name": "stderr",
     "output_type": "stream",
     "text": [
      "c:\\Python\\Python310\\lib\\site-packages\\requests\\__init__.py:109: RequestsDependencyWarning: urllib3 (1.26.9) or chardet (5.0.0)/charset_normalizer (2.0.12) doesn't match a supported version!\n",
      "  warnings.warn(\n"
     ]
    },
    {
     "name": "stdout",
     "output_type": "stream",
     "text": [
      "Tensorflow/Keras: 2.9.0\n",
      "pandas: 1.4.2\n",
      "numpy: 1.22.4\n",
      "sklearn: 1.1.1\n",
      "plotly: 5.9.0\n"
     ]
    }
   ],
   "source": [
    "# Tensorflow / Keras\n",
    "from tensorflow import keras # for building Neural Networks\n",
    "print('Tensorflow/Keras: %s' % keras.__version__) # print version\n",
    "from keras.models import Sequential # for creating a linear stack of layers for our Neural Network\n",
    "from keras import Input # for instantiating a keras tensor\n",
    "from keras.layers import Masking,Bidirectional, LSTM, RepeatVector, Dense, TimeDistributed,MaxPooling1D, Flatten, Conv1D,Conv2D,Dropout, MaxPooling2D # for creating layers inside the Neural Network\n",
    "from keras.optimizers import Adam\n",
    "# Data manipulation\n",
    "import pandas as pd # for data manipulation\n",
    "print('pandas: %s' % pd.__version__) # print version\n",
    "import numpy as np # for data manipulation\n",
    "print('numpy: %s' % np.__version__) # print version\n",
    "\n",
    "# Sklearn\n",
    "import sklearn\n",
    "print('sklearn: %s' % sklearn.__version__) # print version\n",
    "from sklearn.preprocessing import MinMaxScaler # for feature scaling\n",
    "from sklearn.model_selection import train_test_split\n",
    "# Visualization\n",
    "import plotly \n",
    "import plotly.express as px\n",
    "import plotly.graph_objects as go\n",
    "print('plotly: %s' % plotly.__version__) # print version\n",
    "\n",
    "#file accessing\n",
    "import os\n",
    "# time stuff\n",
    "from datetime import timedelta\n",
    "import calendar\n"
   ]
  },
  {
   "cell_type": "code",
   "execution_count": 2,
   "metadata": {},
   "outputs": [],
   "source": [
    "#get displacement for one dot over the whole time 60 20 20\n",
    "#open file by file\n",
    "df=pd.read_csv('InSAR_data_south/displacement/export_dataframe1.csv')"
   ]
  },
  {
   "cell_type": "code",
   "execution_count": 3,
   "metadata": {},
   "outputs": [],
   "source": [
    "df=df.set_index([df.columns[0],df.columns[1]])\n",
    "df.columns=pd.to_datetime(df.columns, format='%Y%m%d')\n",
    "timestep=10\n",
    "features=1"
   ]
  },
  {
   "cell_type": "code",
   "execution_count": 4,
   "metadata": {},
   "outputs": [],
   "source": [
    "#tup=(-119.9588,35.185)\n",
    "tup=(-119.2990,35.8852)\n",
    "#tup=(-120.2888,34.8349)\n",
    "#tup=(-117.6414,37.6236)"
   ]
  },
  {
   "cell_type": "code",
   "execution_count": 5,
   "metadata": {},
   "outputs": [],
   "source": [
    "\n",
    "def shaping(datain, timestep):\n",
    "    #print(arr)\n",
    "    cnt=0\n",
    "    \n",
    "    for row in range(0,len(datain.index),20000):\n",
    "    # Convert input dataframe to array and flatten\n",
    "        arr=datain.iloc[row].to_numpy().flatten() # flatten row\n",
    "        arr[np.isnan(arr)] = -1000\n",
    "        for mth in range(0, len(datain.columns)-(2*timestep)+1): # Define range lenght of the dates - 2* amount of timesep?? +1\n",
    "            cnt=cnt+1 # Gives us the number of samples. Later used to reshape the data\n",
    "            X_start=mth # Start month for inputs of each sample\n",
    "            X_end=mth+timestep # End month for inputs of each sample\n",
    "            Y_start=mth+timestep # Start month for targets of each sample. Note, start is inclusive and end is exclusive, that's why X_end and Y_start is the same number\n",
    "            Y_end=mth+2*timestep # End month for targets of each sample.  \n",
    "            \n",
    "            # Assemble input and target arrays containing all samples\n",
    "            if cnt==1:\n",
    "                X_comb=arr[X_start:X_end]\n",
    "                Y_comb=arr[Y_start:Y_end]\n",
    "            else: \n",
    "                X_comb=np.append(X_comb, arr[X_start:X_end])\n",
    "                Y_comb=np.append(Y_comb, arr[Y_start:Y_end])\n",
    "    \n",
    "    # Reshape input and target arrays\n",
    "    X_out=np.reshape(X_comb, (cnt, timestep, 1))\n",
    "    Y_out=np.reshape(Y_comb, (cnt, timestep, 1))\n",
    "    return X_out, Y_out"
   ]
  },
  {
   "cell_type": "markdown",
   "metadata": {},
   "source": [
    "##### Split data into train and test dataframes"
   ]
  },
  {
   "cell_type": "code",
   "execution_count": 6,
   "metadata": {},
   "outputs": [],
   "source": [
    "df.dropna(axis=0, how='all')\n",
    "train, test = train_test_split(df, test_size=0.2)\n",
    "X_train, Y_train = shaping(datain=train, timestep= timestep)\n",
    "X_test, Y_test = shaping(datain=test, timestep=timestep)\n",
    "\n",
    "#df_train_temp=df.iloc[:, :88].copy()\n",
    "#df_test_temp=df.iloc[:, 88:110].copy()\n"
   ]
  },
  {
   "cell_type": "markdown",
   "metadata": {},
   "source": [
    "##### pick a location to test"
   ]
  },
  {
   "cell_type": "code",
   "execution_count": 7,
   "metadata": {},
   "outputs": [],
   "source": [
    "\n",
    "#df_train = df_train_temp[df_train_temp.index==tup].copy()\n",
    "#df_test = df_test_temp[df_test_temp.index==tup].copy()"
   ]
  },
  {
   "cell_type": "markdown",
   "metadata": {},
   "source": [
    "##### shape data"
   ]
  },
  {
   "cell_type": "code",
   "execution_count": 8,
   "metadata": {},
   "outputs": [],
   "source": [
    "#X_train, Y_train = shaping(datain=df_train, timestep= timestep)\n",
    "#X_test, Y_test = shaping(datain=df_test, timestep=timestep)"
   ]
  },
  {
   "cell_type": "markdown",
   "metadata": {},
   "source": [
    "##### Step 3 - Specify the structure of a Neural Network"
   ]
  },
  {
   "cell_type": "code",
   "execution_count": 9,
   "metadata": {},
   "outputs": [],
   "source": [
    "model = Sequential(name=\"CNN-Model\") # Model\n",
    "model.add(Input(shape=(X_train.shape[1],X_train.shape[2]), name='Input-Layer')) \n",
    "model.add(Conv1D(32, kernel_size=1, activation='tanh',padding='same'))\n",
    "model.add(MaxPooling1D(1,padding='same'))\n",
    "model.add(Conv1D(64, kernel_size=1, activation='tanh',padding='same'))\n",
    "model.add(MaxPooling1D(1,padding='same'))\n",
    "model.add(Conv1D(128, kernel_size=1, activation='tanh',padding='same'))\n",
    "model.add(MaxPooling1D(1,padding='same'))\n",
    "model.add(Conv1D(256, kernel_size=1, activation='tanh',padding='same'))\n",
    "model.add(MaxPooling1D(1,padding='same'))\n",
    "model.add(Conv1D(512, kernel_size=1, activation='tanh',padding='same'))\n",
    "model.add(MaxPooling1D(1,padding='same'))\n",
    "model.add(Dense(1))\n",
    "\n"
   ]
  },
  {
   "cell_type": "code",
   "execution_count": 10,
   "metadata": {},
   "outputs": [],
   "source": [
    "\n",
    "model.compile(optimizer='adam', # default='rmsprop', an algorithm to be used in backpropagation\n",
    "              loss='mean_squared_error', # Loss function to be optimized. A string (name of loss function), or a tf.keras.losses.Loss instance.\n",
    "              metrics=['MeanSquaredError', 'MeanAbsoluteError'], # List of metrics to be evaluated by the model during training and testing. Each of this can be a string (name of a built-in function), function or a tf.keras.metrics.Metric instance. \n",
    "              loss_weights=None, # default=None, Optional list or dictionary specifying scalar coefficients (Python floats) to weight the loss contributions of different model outputs.\n",
    "              weighted_metrics=None, # default=None, List of metrics to be evaluated and weighted by sample_weight or class_weight during training and testing.\n",
    "              run_eagerly=None, # Defaults to False. If True, this Model's logic will not be wrapped in a tf.function. Recommended to leave this as None unless your Model cannot be run inside a tf.function.\n",
    "              steps_per_execution=None # Defaults to 1. The number of batches to run during each tf.function call. Running multiple batches inside a single tf.function call can greatly improve performance on TPUs or small models with a large Python overhead.\n",
    "        \n",
    "             )\n",
    "\n"
   ]
  },
  {
   "cell_type": "code",
   "execution_count": 11,
   "metadata": {
    "scrolled": true
   },
   "outputs": [
    {
     "name": "stdout",
     "output_type": "stream",
     "text": [
      "Epoch 1/50\n",
      "2815/2815 - 19s - loss: 157943.2188 - mean_squared_error: 157942.9531 - mean_absolute_error: 264.9059 - 19s/epoch - 7ms/step\n",
      "Epoch 2/50\n",
      "2815/2815 - 13s - loss: 9819.0449 - mean_squared_error: 9819.0381 - mean_absolute_error: 30.9019 - 13s/epoch - 5ms/step\n",
      "Epoch 3/50\n",
      "2815/2815 - 14s - loss: 60386.6016 - mean_squared_error: 60386.7188 - mean_absolute_error: 137.2051 - 14s/epoch - 5ms/step\n",
      "Epoch 4/50\n",
      "2815/2815 - 14s - loss: 7988.2168 - mean_squared_error: 7988.2148 - mean_absolute_error: 20.5215 - 14s/epoch - 5ms/step\n",
      "Epoch 5/50\n",
      "2815/2815 - 14s - loss: 7283.5371 - mean_squared_error: 7283.5405 - mean_absolute_error: 14.1958 - 14s/epoch - 5ms/step\n",
      "Epoch 6/50\n",
      "2815/2815 - 13s - loss: 33922.7148 - mean_squared_error: 33922.7109 - mean_absolute_error: 50.3888 - 13s/epoch - 5ms/step\n",
      "Epoch 7/50\n",
      "2815/2815 - 14s - loss: 52499.0781 - mean_squared_error: 52499.0586 - mean_absolute_error: 133.0645 - 14s/epoch - 5ms/step\n",
      "Epoch 8/50\n",
      "2815/2815 - 13s - loss: 7290.1323 - mean_squared_error: 7290.1396 - mean_absolute_error: 14.9974 - 13s/epoch - 5ms/step\n",
      "Epoch 9/50\n",
      "2815/2815 - 15s - loss: 45985.6992 - mean_squared_error: 45985.5898 - mean_absolute_error: 107.8941 - 15s/epoch - 5ms/step\n",
      "Epoch 10/50\n",
      "2815/2815 - 15s - loss: 8180.9673 - mean_squared_error: 8180.9707 - mean_absolute_error: 16.3608 - 15s/epoch - 5ms/step\n",
      "Epoch 11/50\n",
      "2815/2815 - 16s - loss: 70457.2656 - mean_squared_error: 70457.1562 - mean_absolute_error: 149.1689 - 16s/epoch - 6ms/step\n",
      "Epoch 12/50\n",
      "2815/2815 - 16s - loss: 8373.3984 - mean_squared_error: 8373.3877 - mean_absolute_error: 20.3700 - 16s/epoch - 6ms/step\n",
      "Epoch 13/50\n",
      "2815/2815 - 16s - loss: 7321.5854 - mean_squared_error: 7321.5894 - mean_absolute_error: 16.3208 - 16s/epoch - 6ms/step\n",
      "Epoch 14/50\n",
      "2815/2815 - 16s - loss: 7290.4375 - mean_squared_error: 7290.4404 - mean_absolute_error: 15.7957 - 16s/epoch - 6ms/step\n",
      "Epoch 15/50\n",
      "2815/2815 - 17s - loss: 8052.5620 - mean_squared_error: 8052.5591 - mean_absolute_error: 16.6522 - 17s/epoch - 6ms/step\n",
      "Epoch 16/50\n",
      "2815/2815 - 17s - loss: 7267.6836 - mean_squared_error: 7267.6948 - mean_absolute_error: 15.1058 - 17s/epoch - 6ms/step\n",
      "Epoch 17/50\n",
      "2815/2815 - 16s - loss: 15135.0498 - mean_squared_error: 15135.0908 - mean_absolute_error: 31.2615 - 16s/epoch - 6ms/step\n",
      "Epoch 18/50\n",
      "2815/2815 - 16s - loss: 7252.5884 - mean_squared_error: 7252.5952 - mean_absolute_error: 14.9716 - 16s/epoch - 6ms/step\n",
      "Epoch 19/50\n",
      "2815/2815 - 16s - loss: 9794.8271 - mean_squared_error: 9794.8320 - mean_absolute_error: 20.1496 - 16s/epoch - 6ms/step\n",
      "Epoch 20/50\n",
      "2815/2815 - 16s - loss: 7514.4033 - mean_squared_error: 7514.4097 - mean_absolute_error: 15.9760 - 16s/epoch - 6ms/step\n",
      "Epoch 21/50\n",
      "2815/2815 - 15s - loss: 33570.0547 - mean_squared_error: 33570.0938 - mean_absolute_error: 115.2558 - 15s/epoch - 6ms/step\n",
      "Epoch 22/50\n",
      "2815/2815 - 16s - loss: 8349.5410 - mean_squared_error: 8349.5566 - mean_absolute_error: 39.6873 - 16s/epoch - 6ms/step\n",
      "Epoch 23/50\n",
      "2815/2815 - 16s - loss: 7284.4722 - mean_squared_error: 7284.4727 - mean_absolute_error: 15.9623 - 16s/epoch - 6ms/step\n",
      "Epoch 24/50\n",
      "2815/2815 - 16s - loss: 42626.2852 - mean_squared_error: 42626.3477 - mean_absolute_error: 102.0614 - 16s/epoch - 6ms/step\n",
      "Epoch 25/50\n",
      "2815/2815 - 16s - loss: 7494.9204 - mean_squared_error: 7494.9131 - mean_absolute_error: 21.9485 - 16s/epoch - 6ms/step\n",
      "Epoch 26/50\n",
      "2815/2815 - 16s - loss: 7288.4639 - mean_squared_error: 7288.4492 - mean_absolute_error: 15.5936 - 16s/epoch - 6ms/step\n",
      "Epoch 27/50\n",
      "2815/2815 - 16s - loss: 176869.4062 - mean_squared_error: 176869.2969 - mean_absolute_error: 404.7927 - 16s/epoch - 6ms/step\n",
      "Epoch 28/50\n",
      "2815/2815 - 16s - loss: 100884.2812 - mean_squared_error: 100884.3516 - mean_absolute_error: 313.7384 - 16s/epoch - 6ms/step\n",
      "Epoch 29/50\n",
      "2815/2815 - 16s - loss: 55818.0977 - mean_squared_error: 55818.1484 - mean_absolute_error: 211.0806 - 16s/epoch - 6ms/step\n",
      "Epoch 30/50\n",
      "2815/2815 - 16s - loss: 7757.6323 - mean_squared_error: 7757.6343 - mean_absolute_error: 28.0006 - 16s/epoch - 6ms/step\n",
      "Epoch 31/50\n",
      "2815/2815 - 16s - loss: 11465.9834 - mean_squared_error: 11465.9980 - mean_absolute_error: 38.0535 - 16s/epoch - 6ms/step\n",
      "Epoch 32/50\n",
      "2815/2815 - 15s - loss: 7260.9546 - mean_squared_error: 7260.9463 - mean_absolute_error: 16.2134 - 15s/epoch - 5ms/step\n",
      "Epoch 33/50\n",
      "2815/2815 - 17s - loss: 8061.1768 - mean_squared_error: 8061.1768 - mean_absolute_error: 17.3698 - 17s/epoch - 6ms/step\n",
      "Epoch 34/50\n",
      "2815/2815 - 18s - loss: 7284.9922 - mean_squared_error: 7284.9824 - mean_absolute_error: 15.8137 - 18s/epoch - 6ms/step\n",
      "Epoch 35/50\n",
      "2815/2815 - 18s - loss: 7286.3281 - mean_squared_error: 7286.3281 - mean_absolute_error: 15.8684 - 18s/epoch - 6ms/step\n",
      "Epoch 36/50\n",
      "2815/2815 - 18s - loss: 7286.3057 - mean_squared_error: 7286.2983 - mean_absolute_error: 15.8008 - 18s/epoch - 6ms/step\n",
      "Epoch 37/50\n",
      "2815/2815 - 18s - loss: 7285.8052 - mean_squared_error: 7285.8013 - mean_absolute_error: 15.8565 - 18s/epoch - 7ms/step\n",
      "Epoch 38/50\n",
      "2815/2815 - 18s - loss: 7286.8921 - mean_squared_error: 7286.8936 - mean_absolute_error: 15.7564 - 18s/epoch - 6ms/step\n",
      "Epoch 39/50\n",
      "2815/2815 - 18s - loss: 7287.4604 - mean_squared_error: 7287.4580 - mean_absolute_error: 15.9176 - 18s/epoch - 6ms/step\n",
      "Epoch 40/50\n",
      "2815/2815 - 18s - loss: 7284.8550 - mean_squared_error: 7284.8623 - mean_absolute_error: 15.7733 - 18s/epoch - 6ms/step\n",
      "Epoch 41/50\n",
      "2815/2815 - 18s - loss: 7285.0801 - mean_squared_error: 7285.0796 - mean_absolute_error: 15.9646 - 18s/epoch - 6ms/step\n",
      "Epoch 42/50\n",
      "2815/2815 - 18s - loss: 7286.3657 - mean_squared_error: 7286.3726 - mean_absolute_error: 15.7795 - 18s/epoch - 6ms/step\n",
      "Epoch 43/50\n",
      "2815/2815 - 18s - loss: 7285.1436 - mean_squared_error: 7285.1387 - mean_absolute_error: 15.7681 - 18s/epoch - 6ms/step\n",
      "Epoch 44/50\n",
      "2815/2815 - 18s - loss: 7285.3730 - mean_squared_error: 7285.3721 - mean_absolute_error: 15.9016 - 18s/epoch - 7ms/step\n",
      "Epoch 45/50\n",
      "2815/2815 - 18s - loss: 7285.9731 - mean_squared_error: 7285.9648 - mean_absolute_error: 15.7580 - 18s/epoch - 6ms/step\n",
      "Epoch 46/50\n",
      "2815/2815 - 18s - loss: 7284.7456 - mean_squared_error: 7284.7461 - mean_absolute_error: 16.0006 - 18s/epoch - 6ms/step\n",
      "Epoch 47/50\n",
      "2815/2815 - 18s - loss: 7286.3354 - mean_squared_error: 7286.3232 - mean_absolute_error: 15.6869 - 18s/epoch - 7ms/step\n",
      "Epoch 48/50\n",
      "2815/2815 - 20s - loss: 7285.9492 - mean_squared_error: 7285.9512 - mean_absolute_error: 15.9670 - 20s/epoch - 7ms/step\n",
      "Epoch 49/50\n",
      "2815/2815 - 20s - loss: 7285.0835 - mean_squared_error: 7285.0806 - mean_absolute_error: 15.8363 - 20s/epoch - 7ms/step\n",
      "Epoch 50/50\n",
      "2815/2815 - 22s - loss: 7285.4238 - mean_squared_error: 7285.4194 - mean_absolute_error: 15.7425 - 22s/epoch - 8ms/step\n"
     ]
    }
   ],
   "source": [
    "##### Step 5 - Fit the model on the dataset\n",
    "history = model.fit(X_train, # input data\n",
    "                    Y_train, # target data\n",
    "                    batch_size=3, # Number of samples per gradient update. If unspecified, batch_size will default to 32.\n",
    "                    epochs=50, # default=1, Number of epochs to train the model. An epoch is an iteration over the entire x and y data provided\n",
    "                    verbose=2, # default='auto', ('auto', 0, 1, or 2). Verbosity mode. 0 = silent, 1 = progress bar, 2 = one line per epoch. 'auto' defaults to 1 for most cases, but 2 when used with ParameterServerStrategy.\n",
    "                    callbacks=None, # default=None, list of callbacks to apply during training. See tf.keras.callbacks\n",
    "                    validation_split=0.2, # default=0.0, Fraction of the training data to be used as validation data. The model will set apart this fraction of the training data, will not train on it, and will evaluate the loss and any model metrics on this data at the end of each epoch. \n",
    "                    #validation_data=(X_test, y_test), # default=None, Data on which to evaluate the loss and any model metrics at the end of each epoch. \n",
    "                    shuffle=True, # default=True, Boolean (whether to shuffle the training data before each epoch) or str (for 'batch').\n",
    "                    class_weight=None, # default=None, Optional dictionary mapping class indices (integers) to a weight (float) value, used for weighting the loss function (during training only). This can be useful to tell the model to \"pay more attention\" to samples from an under-represented class.\n",
    "                    sample_weight=None, # default=None, Optional Numpy array of weights for the training samples, used for weighting the loss function (during training only).\n",
    "                    initial_epoch=0, # Integer, default=0, Epoch at which to start training (useful for resuming a previous training run).\n",
    "                    steps_per_epoch=None, # Integer or None, default=None, Total number of steps (batches of samples) before declaring one epoch finished and starting the next epoch. When training with input tensors such as TensorFlow data tensors, the default None is equal to the number of samples in your dataset divided by the batch size, or 1 if that cannot be determined. \n",
    "                    validation_steps=None, # Only relevant if validation_data is provided and is a tf.data dataset. Total number of steps (batches of samples) to draw before stopping when performing validation at the end of every epoch.\n",
    "                    validation_batch_size=None, # Integer or None, default=None, Number of samples per validation batch. If unspecified, will default to batch_size.\n",
    "                    validation_freq=100, # default=1, Only relevant if validation data is provided. If an integer, specifies how many training epochs to run before a new validation run is performed, e.g. validation_freq=2 runs validation every 2 epochs.\n",
    "                    max_queue_size=10, # default=10, Used for generator or keras.utils.Sequence input only. Maximum size for the generator queue. If unspecified, max_queue_size will default to 10.\n",
    "                    workers=1, # default=1, Used for generator or keras.utils.Sequence input only. Maximum number of processes to spin up when using process-based threading. If unspecified, workers will default to 1.\n",
    "                    use_multiprocessing=True, # default=False, Used for generator or keras.utils.Sequence input only. If True, use process-based threading. If unspecified, use_multiprocessing will default to False. \n",
    "                \n",
    "                   )\n"
   ]
  },
  {
   "cell_type": "code",
   "execution_count": 12,
   "metadata": {},
   "outputs": [
    {
     "name": "stdout",
     "output_type": "stream",
     "text": [
      "330/330 [==============================] - 6s 9ms/step\n",
      "83/83 [==============================] - 1s 9ms/step\n"
     ]
    }
   ],
   "source": [
    "##### Step 6 - Use model to make predictions\n",
    "# Predict results on training data\n",
    "pred_train = model.predict(X_train)\n",
    "# Predict esults on test data\n",
    "pred_test = model.predict(X_test)"
   ]
  },
  {
   "cell_type": "code",
   "execution_count": 13,
   "metadata": {},
   "outputs": [
    {
     "data": {
      "text/plain": [
       "array([[-1000.],\n",
       "       [-1000.],\n",
       "       [-1000.],\n",
       "       [-1000.],\n",
       "       [-1000.],\n",
       "       [-1000.],\n",
       "       [-1000.],\n",
       "       [-1000.],\n",
       "       [-1000.],\n",
       "       [-1000.]])"
      ]
     },
     "execution_count": 13,
     "metadata": {},
     "output_type": "execute_result"
    }
   ],
   "source": [
    "X_test[2]"
   ]
  },
  {
   "cell_type": "code",
   "execution_count": 14,
   "metadata": {},
   "outputs": [
    {
     "data": {
      "text/plain": [
       "array([[-1000.],\n",
       "       [-1000.],\n",
       "       [-1000.],\n",
       "       [-1000.],\n",
       "       [-1000.],\n",
       "       [-1000.],\n",
       "       [-1000.],\n",
       "       [-1000.],\n",
       "       [-1000.],\n",
       "       [-1000.]])"
      ]
     },
     "execution_count": 14,
     "metadata": {},
     "output_type": "execute_result"
    }
   ],
   "source": [
    "Y_test[2]"
   ]
  },
  {
   "cell_type": "code",
   "execution_count": 15,
   "metadata": {},
   "outputs": [
    {
     "name": "stdout",
     "output_type": "stream",
     "text": [
      "\n",
      "-------------------- Model Summary --------------------\n",
      "Model: \"CNN-Model\"\n",
      "_________________________________________________________________\n",
      " Layer (type)                Output Shape              Param #   \n",
      "=================================================================\n",
      " conv1d (Conv1D)             (None, 10, 32)            64        \n",
      "                                                                 \n",
      " max_pooling1d (MaxPooling1D  (None, 10, 32)           0         \n",
      " )                                                               \n",
      "                                                                 \n",
      " conv1d_1 (Conv1D)           (None, 10, 64)            2112      \n",
      "                                                                 \n",
      " max_pooling1d_1 (MaxPooling  (None, 10, 64)           0         \n",
      " 1D)                                                             \n",
      "                                                                 \n",
      " conv1d_2 (Conv1D)           (None, 10, 128)           8320      \n",
      "                                                                 \n",
      " max_pooling1d_2 (MaxPooling  (None, 10, 128)          0         \n",
      " 1D)                                                             \n",
      "                                                                 \n",
      " conv1d_3 (Conv1D)           (None, 10, 256)           33024     \n",
      "                                                                 \n",
      " max_pooling1d_3 (MaxPooling  (None, 10, 256)          0         \n",
      " 1D)                                                             \n",
      "                                                                 \n",
      " conv1d_4 (Conv1D)           (None, 10, 512)           131584    \n",
      "                                                                 \n",
      " max_pooling1d_4 (MaxPooling  (None, 10, 512)          0         \n",
      " 1D)                                                             \n",
      "                                                                 \n",
      " dense (Dense)               (None, 10, 1)             513       \n",
      "                                                                 \n",
      "=================================================================\n",
      "Total params: 175,617\n",
      "Trainable params: 175,617\n",
      "Non-trainable params: 0\n",
      "_________________________________________________________________\n",
      "\n",
      "-------------------- Weights and Biases --------------------\n",
      "Too many parameters to print but you can use the code provided if needed\n",
      "\n",
      "-------------------- Evaluation on Training Data --------------------\n",
      "Final loss : 7285.423828125\n",
      "Final mean_squared_error : 7285.41943359375\n",
      "Final mean_absolute_error : 15.742494583129883\n",
      "\n",
      "-------------------- Evaluation on Test Data --------------------\n",
      "83/83 [==============================] - 5s 9ms/step - loss: 10145.2158 - mean_squared_error: 10145.2100 - mean_absolute_error: 19.6429\n",
      "\n"
     ]
    }
   ],
   "source": [
    "##### Step 7 - Print Performance Summary\n",
    "print(\"\")\n",
    "print('-------------------- Model Summary --------------------')\n",
    "model.summary() # print model summary\n",
    "print(\"\")\n",
    "print('-------------------- Weights and Biases --------------------')\n",
    "print(\"Too many parameters to print but you can use the code provided if needed\")\n",
    "print(\"\")\n",
    "#for layer in model.layers:\n",
    "#    print(layer.name)\n",
    "#    for item in layer.get_weights():\n",
    "#        print(\"  \", item)\n",
    "#print(\"\")\n",
    "\n",
    "# Print the last value in the evaluation metrics contained within history file\n",
    "print('-------------------- Evaluation on Training Data --------------------')\n",
    "for item in history.history:\n",
    "    print(\"Final\", item, \":\", history.history[item][-1])\n",
    "print(\"\")\n",
    "\n",
    "# Evaluate the model on the test data using \"evaluate\"\n",
    "print('-------------------- Evaluation on Test Data --------------------')\n",
    "results = model.evaluate(X_test, Y_test)\n",
    "print(\"\")"
   ]
  },
  {
   "cell_type": "code",
   "execution_count": 16,
   "metadata": {},
   "outputs": [
    {
     "ename": "NameError",
     "evalue": "name 'df_train' is not defined",
     "output_type": "error",
     "traceback": [
      "\u001b[1;31m---------------------------------------------------------------------------\u001b[0m",
      "\u001b[1;31mNameError\u001b[0m                                 Traceback (most recent call last)",
      "\u001b[1;32me:\\DSFellowship\\CNN0730.ipynb Cell 20\u001b[0m in \u001b[0;36m<cell line: 3>\u001b[1;34m()\u001b[0m\n\u001b[0;32m      <a href='vscode-notebook-cell:/e%3A/DSFellowship/CNN0730.ipynb#X25sZmlsZQ%3D%3D?line=0'>1</a>\u001b[0m \u001b[39m# Plot subsidence (actual and predicted) for test (out of time) data\u001b[39;00m\n\u001b[0;32m      <a href='vscode-notebook-cell:/e%3A/DSFellowship/CNN0730.ipynb#X25sZmlsZQ%3D%3D?line=1'>2</a>\u001b[0m fig \u001b[39m=\u001b[39m go\u001b[39m.\u001b[39mFigure()\n\u001b[1;32m----> <a href='vscode-notebook-cell:/e%3A/DSFellowship/CNN0730.ipynb#X25sZmlsZQ%3D%3D?line=2'>3</a>\u001b[0m fig\u001b[39m.\u001b[39madd_trace(go\u001b[39m.\u001b[39mScatter(x\u001b[39m=\u001b[39mnp\u001b[39m.\u001b[39marray(df_train\u001b[39m.\u001b[39mcolumns),\n\u001b[0;32m      <a href='vscode-notebook-cell:/e%3A/DSFellowship/CNN0730.ipynb#X25sZmlsZQ%3D%3D?line=3'>4</a>\u001b[0m                          y\u001b[39m=\u001b[39mnp\u001b[39m.\u001b[39marray(df_train\u001b[39m.\u001b[39mvalues)\u001b[39m.\u001b[39mflatten(),\n\u001b[0;32m      <a href='vscode-notebook-cell:/e%3A/DSFellowship/CNN0730.ipynb#X25sZmlsZQ%3D%3D?line=4'>5</a>\u001b[0m                          mode\u001b[39m=\u001b[39m\u001b[39m'\u001b[39m\u001b[39mlines\u001b[39m\u001b[39m'\u001b[39m,\n\u001b[0;32m      <a href='vscode-notebook-cell:/e%3A/DSFellowship/CNN0730.ipynb#X25sZmlsZQ%3D%3D?line=5'>6</a>\u001b[0m                          name\u001b[39m=\u001b[39m\u001b[39m'\u001b[39m\u001b[39mSubsidence - Actual (Train)\u001b[39m\u001b[39m'\u001b[39m,\n\u001b[0;32m      <a href='vscode-notebook-cell:/e%3A/DSFellowship/CNN0730.ipynb#X25sZmlsZQ%3D%3D?line=6'>7</a>\u001b[0m                          opacity\u001b[39m=\u001b[39m\u001b[39m0.8\u001b[39m,\n\u001b[0;32m      <a href='vscode-notebook-cell:/e%3A/DSFellowship/CNN0730.ipynb#X25sZmlsZQ%3D%3D?line=7'>8</a>\u001b[0m                          line\u001b[39m=\u001b[39m\u001b[39mdict\u001b[39m(color\u001b[39m=\u001b[39m\u001b[39m'\u001b[39m\u001b[39mblue\u001b[39m\u001b[39m'\u001b[39m, width\u001b[39m=\u001b[39m\u001b[39m1\u001b[39m)\n\u001b[0;32m      <a href='vscode-notebook-cell:/e%3A/DSFellowship/CNN0730.ipynb#X25sZmlsZQ%3D%3D?line=8'>9</a>\u001b[0m                         ))\n\u001b[0;32m     <a href='vscode-notebook-cell:/e%3A/DSFellowship/CNN0730.ipynb#X25sZmlsZQ%3D%3D?line=10'>11</a>\u001b[0m \u001b[39m#Trace for actual subsidence\u001b[39;00m\n\u001b[0;32m     <a href='vscode-notebook-cell:/e%3A/DSFellowship/CNN0730.ipynb#X25sZmlsZQ%3D%3D?line=11'>12</a>\u001b[0m fig\u001b[39m.\u001b[39madd_trace(go\u001b[39m.\u001b[39mScatter(x\u001b[39m=\u001b[39mnp\u001b[39m.\u001b[39marray(df_test\u001b[39m.\u001b[39mcolumns),\n\u001b[0;32m     <a href='vscode-notebook-cell:/e%3A/DSFellowship/CNN0730.ipynb#X25sZmlsZQ%3D%3D?line=12'>13</a>\u001b[0m                          y\u001b[39m=\u001b[39mnp\u001b[39m.\u001b[39marray(df_test\u001b[39m.\u001b[39mvalues)\u001b[39m.\u001b[39mflatten(),\n\u001b[0;32m     <a href='vscode-notebook-cell:/e%3A/DSFellowship/CNN0730.ipynb#X25sZmlsZQ%3D%3D?line=13'>14</a>\u001b[0m                          mode\u001b[39m=\u001b[39m\u001b[39m'\u001b[39m\u001b[39mlines\u001b[39m\u001b[39m'\u001b[39m,\n\u001b[1;32m   (...)\u001b[0m\n\u001b[0;32m     <a href='vscode-notebook-cell:/e%3A/DSFellowship/CNN0730.ipynb#X25sZmlsZQ%3D%3D?line=16'>17</a>\u001b[0m                          line\u001b[39m=\u001b[39m\u001b[39mdict\u001b[39m(color\u001b[39m=\u001b[39m\u001b[39m'\u001b[39m\u001b[39mblack\u001b[39m\u001b[39m'\u001b[39m, width\u001b[39m=\u001b[39m\u001b[39m1\u001b[39m)\n\u001b[0;32m     <a href='vscode-notebook-cell:/e%3A/DSFellowship/CNN0730.ipynb#X25sZmlsZQ%3D%3D?line=17'>18</a>\u001b[0m                         ))\n",
      "\u001b[1;31mNameError\u001b[0m: name 'df_train' is not defined"
     ]
    }
   ],
   "source": [
    "# Plot subsidence (actual and predicted) for test (out of time) data\n",
    "fig = go.Figure()\n",
    "fig.add_trace(go.Scatter(x=np.array(df_train.columns),\n",
    "                         y=np.array(df_train.values).flatten(),\n",
    "                         mode='lines',\n",
    "                         name='Subsidence - Actual (Train)',\n",
    "                         opacity=0.8,\n",
    "                         line=dict(color='blue', width=1)\n",
    "                        ))\n",
    "\n",
    "#Trace for actual subsidence\n",
    "fig.add_trace(go.Scatter(x=np.array(df_test.columns),\n",
    "                         y=np.array(df_test.values).flatten(),\n",
    "                         mode='lines',\n",
    "                         name='Subsidence - Actual (Test)',\n",
    "                         opacity=0.8,\n",
    "                         line=dict(color='black', width=1)\n",
    "                        ))\n",
    "\n",
    "# Trace for predicted subsidence\n",
    "fig.add_trace(go.Scatter(x=np.array(df_test.columns[-timestep:]),\n",
    "                         y=pred_test.flatten(),\n",
    "                         mode='lines',\n",
    "                         name='Subsidence - Predicted (Test)',\n",
    "                         opacity=0.8,\n",
    "                         line=dict(color='red', width=1)\n",
    "                        ))\n",
    "\n",
    "# Change chart background color\n",
    "fig.update_layout(dict(plot_bgcolor = 'white'))\n",
    "\n",
    "# Update axes lines\n",
    "fig.update_xaxes(showgrid=True, gridwidth=1, gridcolor='lightgrey', \n",
    "                 zeroline=True, zerolinewidth=1, zerolinecolor='lightgrey', \n",
    "                 showline=True, linewidth=1, linecolor='black',\n",
    "                 title='Month-Year'\n",
    "                )\n",
    "\n",
    "fig.update_yaxes(showgrid=True, gridwidth=1, gridcolor='lightgrey', \n",
    "                 zeroline=True, zerolinewidth=1, zerolinecolor='lightgrey', \n",
    "                 showline=True, linewidth=1, linecolor='black',\n",
    "                 title='Subsidence'\n",
    "                )\n",
    "\n",
    "# Set figure title\n",
    "fig.update_layout(title=dict(text=\"Subsidence\", font=dict(color='black')),\n",
    "                  legend=dict(orientation=\"h\", yanchor=\"bottom\", y=1.02, xanchor=\"right\", x=1)\n",
    "                 )\n",
    "fig.show()"
   ]
  },
  {
   "cell_type": "code",
   "execution_count": null,
   "metadata": {},
   "outputs": [],
   "source": []
  },
  {
   "cell_type": "code",
   "execution_count": null,
   "metadata": {},
   "outputs": [],
   "source": []
  },
  {
   "cell_type": "code",
   "execution_count": null,
   "metadata": {},
   "outputs": [],
   "source": []
  }
 ],
 "metadata": {
  "kernelspec": {
   "display_name": "Python 3 (ipykernel)",
   "language": "python",
   "name": "python3"
  },
  "language_info": {
   "codemirror_mode": {
    "name": "ipython",
    "version": 3
   },
   "file_extension": ".py",
   "mimetype": "text/x-python",
   "name": "python",
   "nbconvert_exporter": "python",
   "pygments_lexer": "ipython3",
   "version": "3.10.5"
  },
  "vscode": {
   "interpreter": {
    "hash": "d3e10ef16274dd72e574b8fa73b58450b957d8421a2901baded3cca26fcf5dda"
   }
  }
 },
 "nbformat": 4,
 "nbformat_minor": 2
}
