{
 "cells": [
  {
   "cell_type": "code",
   "execution_count": 43,
   "metadata": {},
   "outputs": [
    {
     "name": "stdout",
     "output_type": "stream",
     "text": [
      "Tensorflow/Keras: 2.9.0\n",
      "pandas: 1.4.2\n",
      "numpy: 1.22.4\n",
      "sklearn: 1.1.1\n",
      "plotly: 5.9.0\n"
     ]
    }
   ],
   "source": [
    "# Tensorflow / Keras\n",
    "from tensorflow import keras # for building Neural Networks\n",
    "print('Tensorflow/Keras: %s' % keras.__version__) # print version\n",
    "from keras.models import Sequential # for creating a linear stack of layers for our Neural Network\n",
    "from keras import Input # for instantiating a keras tensor\n",
    "from keras.layers import Masking,Bidirectional, LSTM, RepeatVector, Dense, TimeDistributed,MaxPooling1D, Flatten, Conv1D,Conv2D,Dropout, MaxPooling2D # for creating layers inside the Neural Network\n",
    "from keras.optimizers import Adam\n",
    "# Data manipulation\n",
    "import pandas as pd # for data manipulation\n",
    "print('pandas: %s' % pd.__version__) # print version\n",
    "import numpy as np # for data manipulation\n",
    "print('numpy: %s' % np.__version__) # print version\n",
    "\n",
    "# Sklearn\n",
    "import sklearn\n",
    "print('sklearn: %s' % sklearn.__version__) # print version\n",
    "from sklearn.preprocessing import MinMaxScaler # for feature scaling\n",
    "\n",
    "# Visualization\n",
    "import plotly \n",
    "import plotly.express as px\n",
    "import plotly.graph_objects as go\n",
    "print('plotly: %s' % plotly.__version__) # print version\n",
    "\n",
    "#file accessing\n",
    "import os\n",
    "# time stuff\n",
    "from datetime import timedelta\n",
    "import calendar\n"
   ]
  },
  {
   "cell_type": "code",
   "execution_count": 44,
   "metadata": {},
   "outputs": [],
   "source": [
    "#get displacement for one dot over the whole time 60 20 20\n",
    "#open file by file\n",
    "df=pd.read_csv('InSAR_data_south/displacement/export_dataframe1.csv')"
   ]
  },
  {
   "cell_type": "code",
   "execution_count": 45,
   "metadata": {},
   "outputs": [],
   "source": [
    "df=df.set_index([df.columns[0],df.columns[1]])\n",
    "df.columns=pd.to_datetime(df.columns, format='%Y%m%d')\n",
    "timestep=10\n",
    "features=1"
   ]
  },
  {
   "cell_type": "code",
   "execution_count": 46,
   "metadata": {},
   "outputs": [],
   "source": [
    "#tup=(-119.9588,35.185)\n",
    "tup=(-119.2990,35.8852)\n",
    "#tup=(-120.2888,34.8349)\n",
    "#tup=(-117.6414,37.6236)"
   ]
  },
  {
   "cell_type": "code",
   "execution_count": 47,
   "metadata": {},
   "outputs": [],
   "source": [
    "def shaping(datain, timestep):\n",
    "    \n",
    "    # Convert input dataframe to array and flatten\n",
    "    arr=datain.to_numpy().flatten() \n",
    "    arr[np.isnan(arr)] = -100\n",
    "    #print(arr)\n",
    "    cnt=0\n",
    "    for mth in range(0, len(datain.columns)-(2*timestep)+1): # Define range lenght of the dates - 2* amount of timesep?? +1\n",
    "        cnt=cnt+1 # Gives us the number of samples. Later used to reshape the data\n",
    "        X_start=mth # Start month for inputs of each sample\n",
    "        X_end=mth+timestep # End month for inputs of each sample\n",
    "        Y_start=mth+timestep # Start month for targets of each sample. Note, start is inclusive and end is exclusive, that's why X_end and Y_start is the same number\n",
    "        Y_end=mth+2*timestep # End month for targets of each sample.  \n",
    "        \n",
    "        # Assemble input and target arrays containing all samples\n",
    "        if mth==0:\n",
    "            X_comb=arr[X_start:X_end]\n",
    "            Y_comb=arr[Y_start:Y_end]\n",
    "        else: \n",
    "            X_comb=np.append(X_comb, arr[X_start:X_end])\n",
    "            Y_comb=np.append(Y_comb, arr[Y_start:Y_end])\n",
    "    \n",
    "    # Reshape input and target arrays\n",
    "    X_out=np.reshape(X_comb, (cnt, timestep, 1))\n",
    "    Y_out=np.reshape(Y_comb, (cnt, timestep, 1))\n",
    "    return X_out, Y_out"
   ]
  },
  {
   "cell_type": "markdown",
   "metadata": {},
   "source": [
    "##### Split data into train and test dataframes"
   ]
  },
  {
   "cell_type": "code",
   "execution_count": 48,
   "metadata": {},
   "outputs": [],
   "source": [
    "\n",
    "df_train_temp=df.iloc[:, :88].copy()\n",
    "df_test_temp=df.iloc[:, 88:110].copy()\n"
   ]
  },
  {
   "cell_type": "markdown",
   "metadata": {},
   "source": [
    "##### pick a location to test"
   ]
  },
  {
   "cell_type": "code",
   "execution_count": 49,
   "metadata": {},
   "outputs": [],
   "source": [
    "\n",
    "df_train = df_train_temp[df_train_temp.index==tup].copy()\n",
    "df_test = df_test_temp[df_test_temp.index==tup].copy()"
   ]
  },
  {
   "cell_type": "markdown",
   "metadata": {},
   "source": [
    "##### shape data"
   ]
  },
  {
   "cell_type": "code",
   "execution_count": 50,
   "metadata": {},
   "outputs": [],
   "source": [
    "X_train, Y_train = shaping(datain=df_train, timestep= timestep)\n",
    "X_test, Y_test = shaping(datain=df_test, timestep=timestep)"
   ]
  },
  {
   "cell_type": "markdown",
   "metadata": {},
   "source": [
    "##### Step 3 - Specify the structure of a Neural Network"
   ]
  },
  {
   "cell_type": "code",
   "execution_count": 51,
   "metadata": {},
   "outputs": [],
   "source": [
    "model = Sequential(name=\"CNN-Model\") # Model\n",
    "model.add(Input(shape=(X_train.shape[1],X_train.shape[2]), name='Input-Layer')) \n",
    "model.add(Conv1D(32, kernel_size=1, activation='tanh',padding='same'))\n",
    "model.add(MaxPooling1D(1,padding='same'))\n",
    "model.add(Conv1D(64, kernel_size=1, activation='tanh',padding='same'))\n",
    "model.add(MaxPooling1D(1,padding='same'))\n",
    "model.add(Conv1D(128, kernel_size=1, activation='tanh',padding='same'))\n",
    "model.add(MaxPooling1D(1,padding='same'))\n",
    "model.add(Conv1D(256, kernel_size=1, activation='tanh',padding='same'))\n",
    "model.add(MaxPooling1D(1,padding='same'))\n",
    "model.add(Conv1D(512, kernel_size=1, activation='tanh',padding='same'))\n",
    "model.add(MaxPooling1D(1,padding='same'))\n",
    "model.add(Dense(1))\n",
    "\n"
   ]
  },
  {
   "cell_type": "code",
   "execution_count": 52,
   "metadata": {},
   "outputs": [],
   "source": [
    "\n",
    "model.compile(optimizer='adam', # default='rmsprop', an algorithm to be used in backpropagation\n",
    "              loss='mean_squared_error', # Loss function to be optimized. A string (name of loss function), or a tf.keras.losses.Loss instance.\n",
    "              metrics=['MeanSquaredError', 'MeanAbsoluteError'], # List of metrics to be evaluated by the model during training and testing. Each of this can be a string (name of a built-in function), function or a tf.keras.metrics.Metric instance. \n",
    "              loss_weights=None, # default=None, Optional list or dictionary specifying scalar coefficients (Python floats) to weight the loss contributions of different model outputs.\n",
    "              weighted_metrics=None, # default=None, List of metrics to be evaluated and weighted by sample_weight or class_weight during training and testing.\n",
    "              run_eagerly=None, # Defaults to False. If True, this Model's logic will not be wrapped in a tf.function. Recommended to leave this as None unless your Model cannot be run inside a tf.function.\n",
    "              steps_per_execution=None # Defaults to 1. The number of batches to run during each tf.function call. Running multiple batches inside a single tf.function call can greatly improve performance on TPUs or small models with a large Python overhead.\n",
    "        \n",
    "             )\n",
    "\n"
   ]
  },
  {
   "cell_type": "code",
   "execution_count": 53,
   "metadata": {
    "scrolled": true
   },
   "outputs": [
    {
     "name": "stdout",
     "output_type": "stream",
     "text": [
      "Epoch 1/500\n",
      "2/2 - 1s - loss: 898.8768 - mean_squared_error: 898.8768 - mean_absolute_error: 28.8613 - 882ms/epoch - 441ms/step\n",
      "Epoch 2/500\n",
      "2/2 - 0s - loss: 627.8717 - mean_squared_error: 627.8717 - mean_absolute_error: 23.7596 - 18ms/epoch - 9ms/step\n",
      "Epoch 3/500\n",
      "2/2 - 0s - loss: 377.5989 - mean_squared_error: 377.5989 - mean_absolute_error: 17.8699 - 17ms/epoch - 8ms/step\n",
      "Epoch 4/500\n",
      "2/2 - 0s - loss: 193.6596 - mean_squared_error: 193.6596 - mean_absolute_error: 11.9405 - 18ms/epoch - 9ms/step\n",
      "Epoch 5/500\n",
      "2/2 - 0s - loss: 104.9438 - mean_squared_error: 104.9438 - mean_absolute_error: 9.0150 - 18ms/epoch - 9ms/step\n",
      "Epoch 6/500\n",
      "2/2 - 0s - loss: 76.7297 - mean_squared_error: 76.7297 - mean_absolute_error: 7.8020 - 18ms/epoch - 9ms/step\n",
      "Epoch 7/500\n",
      "2/2 - 0s - loss: 66.9484 - mean_squared_error: 66.9484 - mean_absolute_error: 6.8790 - 18ms/epoch - 9ms/step\n",
      "Epoch 8/500\n",
      "2/2 - 0s - loss: 72.1081 - mean_squared_error: 72.1081 - mean_absolute_error: 6.6440 - 17ms/epoch - 8ms/step\n",
      "Epoch 9/500\n",
      "2/2 - 0s - loss: 75.1342 - mean_squared_error: 75.1342 - mean_absolute_error: 6.4350 - 18ms/epoch - 9ms/step\n",
      "Epoch 10/500\n",
      "2/2 - 0s - loss: 77.5898 - mean_squared_error: 77.5898 - mean_absolute_error: 6.3721 - 18ms/epoch - 9ms/step\n",
      "Epoch 11/500\n",
      "2/2 - 0s - loss: 78.9758 - mean_squared_error: 78.9758 - mean_absolute_error: 6.3723 - 17ms/epoch - 8ms/step\n",
      "Epoch 12/500\n",
      "2/2 - 0s - loss: 79.1793 - mean_squared_error: 79.1793 - mean_absolute_error: 6.3780 - 18ms/epoch - 9ms/step\n",
      "Epoch 13/500\n",
      "2/2 - 0s - loss: 78.4554 - mean_squared_error: 78.4554 - mean_absolute_error: 6.3849 - 18ms/epoch - 9ms/step\n",
      "Epoch 14/500\n",
      "2/2 - 0s - loss: 76.8460 - mean_squared_error: 76.8460 - mean_absolute_error: 6.3984 - 17ms/epoch - 8ms/step\n",
      "Epoch 15/500\n",
      "2/2 - 0s - loss: 75.2080 - mean_squared_error: 75.2080 - mean_absolute_error: 6.4570 - 20ms/epoch - 10ms/step\n",
      "Epoch 16/500\n",
      "2/2 - 0s - loss: 73.2009 - mean_squared_error: 73.2009 - mean_absolute_error: 6.5221 - 20ms/epoch - 10ms/step\n",
      "Epoch 17/500\n",
      "2/2 - 0s - loss: 71.9498 - mean_squared_error: 71.9498 - mean_absolute_error: 6.6448 - 18ms/epoch - 9ms/step\n",
      "Epoch 18/500\n",
      "2/2 - 0s - loss: 70.5507 - mean_squared_error: 70.5507 - mean_absolute_error: 6.7490 - 19ms/epoch - 9ms/step\n",
      "Epoch 19/500\n",
      "2/2 - 0s - loss: 69.7277 - mean_squared_error: 69.7277 - mean_absolute_error: 6.8581 - 18ms/epoch - 9ms/step\n",
      "Epoch 20/500\n",
      "2/2 - 0s - loss: 68.7871 - mean_squared_error: 68.7871 - mean_absolute_error: 6.9301 - 19ms/epoch - 9ms/step\n",
      "Epoch 21/500\n",
      "2/2 - 0s - loss: 68.4021 - mean_squared_error: 68.4021 - mean_absolute_error: 7.0143 - 18ms/epoch - 9ms/step\n",
      "Epoch 22/500\n",
      "2/2 - 0s - loss: 67.8469 - mean_squared_error: 67.8469 - mean_absolute_error: 7.0551 - 18ms/epoch - 9ms/step\n",
      "Epoch 23/500\n",
      "2/2 - 0s - loss: 67.5929 - mean_squared_error: 67.5929 - mean_absolute_error: 7.0995 - 18ms/epoch - 9ms/step\n",
      "Epoch 24/500\n",
      "2/2 - 0s - loss: 67.3668 - mean_squared_error: 67.3668 - mean_absolute_error: 7.1150 - 18ms/epoch - 9ms/step\n",
      "Epoch 25/500\n",
      "2/2 - 0s - loss: 67.0574 - mean_squared_error: 67.0574 - mean_absolute_error: 7.1130 - 18ms/epoch - 9ms/step\n",
      "Epoch 26/500\n",
      "2/2 - 0s - loss: 66.8559 - mean_squared_error: 66.8559 - mean_absolute_error: 7.0965 - 18ms/epoch - 9ms/step\n",
      "Epoch 27/500\n",
      "2/2 - 0s - loss: 66.5535 - mean_squared_error: 66.5535 - mean_absolute_error: 7.0686 - 17ms/epoch - 8ms/step\n",
      "Epoch 28/500\n",
      "2/2 - 0s - loss: 66.4389 - mean_squared_error: 66.4389 - mean_absolute_error: 7.0445 - 18ms/epoch - 9ms/step\n",
      "Epoch 29/500\n",
      "2/2 - 0s - loss: 66.2105 - mean_squared_error: 66.2105 - mean_absolute_error: 7.0056 - 18ms/epoch - 9ms/step\n",
      "Epoch 30/500\n",
      "2/2 - 0s - loss: 66.0797 - mean_squared_error: 66.0797 - mean_absolute_error: 6.9724 - 17ms/epoch - 8ms/step\n",
      "Epoch 31/500\n",
      "2/2 - 0s - loss: 65.9780 - mean_squared_error: 65.9780 - mean_absolute_error: 6.9340 - 18ms/epoch - 9ms/step\n",
      "Epoch 32/500\n",
      "2/2 - 0s - loss: 65.9571 - mean_squared_error: 65.9571 - mean_absolute_error: 6.9005 - 18ms/epoch - 9ms/step\n",
      "Epoch 33/500\n",
      "2/2 - 0s - loss: 65.9211 - mean_squared_error: 65.9211 - mean_absolute_error: 6.8666 - 20ms/epoch - 10ms/step\n",
      "Epoch 34/500\n",
      "2/2 - 0s - loss: 65.9786 - mean_squared_error: 65.9786 - mean_absolute_error: 6.8443 - 19ms/epoch - 9ms/step\n",
      "Epoch 35/500\n",
      "2/2 - 0s - loss: 65.8301 - mean_squared_error: 65.8301 - mean_absolute_error: 6.8289 - 17ms/epoch - 8ms/step\n",
      "Epoch 36/500\n",
      "2/2 - 0s - loss: 65.8484 - mean_squared_error: 65.8484 - mean_absolute_error: 6.8386 - 18ms/epoch - 9ms/step\n",
      "Epoch 37/500\n",
      "2/2 - 0s - loss: 65.7949 - mean_squared_error: 65.7949 - mean_absolute_error: 6.8346 - 18ms/epoch - 9ms/step\n",
      "Epoch 38/500\n",
      "2/2 - 0s - loss: 65.8028 - mean_squared_error: 65.8028 - mean_absolute_error: 6.8276 - 17ms/epoch - 8ms/step\n",
      "Epoch 39/500\n",
      "2/2 - 0s - loss: 65.7901 - mean_squared_error: 65.7901 - mean_absolute_error: 6.8223 - 18ms/epoch - 9ms/step\n",
      "Epoch 40/500\n",
      "2/2 - 0s - loss: 65.7760 - mean_squared_error: 65.7760 - mean_absolute_error: 6.8252 - 17ms/epoch - 8ms/step\n",
      "Epoch 41/500\n",
      "2/2 - 0s - loss: 65.7637 - mean_squared_error: 65.7637 - mean_absolute_error: 6.8310 - 19ms/epoch - 9ms/step\n",
      "Epoch 42/500\n",
      "2/2 - 0s - loss: 65.8020 - mean_squared_error: 65.8020 - mean_absolute_error: 6.8345 - 21ms/epoch - 11ms/step\n",
      "Epoch 43/500\n",
      "2/2 - 0s - loss: 65.7462 - mean_squared_error: 65.7461 - mean_absolute_error: 6.8374 - 19ms/epoch - 9ms/step\n",
      "Epoch 44/500\n",
      "2/2 - 0s - loss: 65.7537 - mean_squared_error: 65.7537 - mean_absolute_error: 6.8477 - 18ms/epoch - 9ms/step\n",
      "Epoch 45/500\n",
      "2/2 - 0s - loss: 65.7330 - mean_squared_error: 65.7330 - mean_absolute_error: 6.8575 - 19ms/epoch - 9ms/step\n",
      "Epoch 46/500\n",
      "2/2 - 0s - loss: 65.7423 - mean_squared_error: 65.7423 - mean_absolute_error: 6.8695 - 19ms/epoch - 9ms/step\n",
      "Epoch 47/500\n",
      "2/2 - 0s - loss: 65.7339 - mean_squared_error: 65.7339 - mean_absolute_error: 6.8797 - 18ms/epoch - 9ms/step\n",
      "Epoch 48/500\n",
      "2/2 - 0s - loss: 65.9315 - mean_squared_error: 65.9315 - mean_absolute_error: 6.9091 - 19ms/epoch - 9ms/step\n",
      "Epoch 49/500\n",
      "2/2 - 0s - loss: 65.7650 - mean_squared_error: 65.7650 - mean_absolute_error: 6.9121 - 17ms/epoch - 8ms/step\n",
      "Epoch 50/500\n",
      "2/2 - 0s - loss: 65.7461 - mean_squared_error: 65.7461 - mean_absolute_error: 6.9007 - 22ms/epoch - 11ms/step\n",
      "Epoch 51/500\n",
      "2/2 - 0s - loss: 65.7004 - mean_squared_error: 65.7004 - mean_absolute_error: 6.8830 - 22ms/epoch - 11ms/step\n",
      "Epoch 52/500\n",
      "2/2 - 0s - loss: 65.6763 - mean_squared_error: 65.6763 - mean_absolute_error: 6.8682 - 20ms/epoch - 10ms/step\n",
      "Epoch 53/500\n",
      "2/2 - 0s - loss: 65.6460 - mean_squared_error: 65.6459 - mean_absolute_error: 6.8492 - 21ms/epoch - 10ms/step\n",
      "Epoch 54/500\n",
      "2/2 - 0s - loss: 65.6424 - mean_squared_error: 65.6424 - mean_absolute_error: 6.8265 - 18ms/epoch - 9ms/step\n",
      "Epoch 55/500\n",
      "2/2 - 0s - loss: 65.6369 - mean_squared_error: 65.6369 - mean_absolute_error: 6.8072 - 17ms/epoch - 8ms/step\n",
      "Epoch 56/500\n",
      "2/2 - 0s - loss: 65.7172 - mean_squared_error: 65.7172 - mean_absolute_error: 6.7884 - 20ms/epoch - 10ms/step\n",
      "Epoch 57/500\n",
      "2/2 - 0s - loss: 65.6521 - mean_squared_error: 65.6521 - mean_absolute_error: 6.7707 - 19ms/epoch - 9ms/step\n",
      "Epoch 58/500\n",
      "2/2 - 0s - loss: 65.6844 - mean_squared_error: 65.6844 - mean_absolute_error: 6.7645 - 17ms/epoch - 8ms/step\n",
      "Epoch 59/500\n",
      "2/2 - 0s - loss: 65.7084 - mean_squared_error: 65.7084 - mean_absolute_error: 6.7665 - 18ms/epoch - 9ms/step\n",
      "Epoch 60/500\n",
      "2/2 - 0s - loss: 65.6066 - mean_squared_error: 65.6066 - mean_absolute_error: 6.7683 - 18ms/epoch - 9ms/step\n",
      "Epoch 61/500\n",
      "2/2 - 0s - loss: 65.5674 - mean_squared_error: 65.5674 - mean_absolute_error: 6.7703 - 18ms/epoch - 9ms/step\n",
      "Epoch 62/500\n",
      "2/2 - 0s - loss: 65.5256 - mean_squared_error: 65.5256 - mean_absolute_error: 6.7800 - 18ms/epoch - 9ms/step\n",
      "Epoch 63/500\n",
      "2/2 - 0s - loss: 65.4985 - mean_squared_error: 65.4985 - mean_absolute_error: 6.7915 - 17ms/epoch - 8ms/step\n",
      "Epoch 64/500\n",
      "2/2 - 0s - loss: 65.6249 - mean_squared_error: 65.6249 - mean_absolute_error: 6.8181 - 19ms/epoch - 9ms/step\n",
      "Epoch 65/500\n",
      "2/2 - 0s - loss: 65.4408 - mean_squared_error: 65.4408 - mean_absolute_error: 6.8203 - 17ms/epoch - 8ms/step\n",
      "Epoch 66/500\n",
      "2/2 - 0s - loss: 65.4164 - mean_squared_error: 65.4164 - mean_absolute_error: 6.8174 - 17ms/epoch - 8ms/step\n",
      "Epoch 67/500\n",
      "2/2 - 0s - loss: 65.3752 - mean_squared_error: 65.3752 - mean_absolute_error: 6.8092 - 18ms/epoch - 9ms/step\n",
      "Epoch 68/500\n",
      "2/2 - 0s - loss: 65.3390 - mean_squared_error: 65.3390 - mean_absolute_error: 6.8007 - 18ms/epoch - 9ms/step\n",
      "Epoch 69/500\n",
      "2/2 - 0s - loss: 65.3231 - mean_squared_error: 65.3231 - mean_absolute_error: 6.7922 - 19ms/epoch - 9ms/step\n",
      "Epoch 70/500\n",
      "2/2 - 0s - loss: 65.2743 - mean_squared_error: 65.2743 - mean_absolute_error: 6.7867 - 18ms/epoch - 9ms/step\n",
      "Epoch 71/500\n",
      "2/2 - 0s - loss: 65.2293 - mean_squared_error: 65.2293 - mean_absolute_error: 6.7824 - 17ms/epoch - 8ms/step\n",
      "Epoch 72/500\n",
      "2/2 - 0s - loss: 65.2090 - mean_squared_error: 65.2090 - mean_absolute_error: 6.7855 - 19ms/epoch - 9ms/step\n",
      "Epoch 73/500\n",
      "2/2 - 0s - loss: 65.0951 - mean_squared_error: 65.0951 - mean_absolute_error: 6.7845 - 20ms/epoch - 10ms/step\n",
      "Epoch 74/500\n",
      "2/2 - 0s - loss: 65.0188 - mean_squared_error: 65.0188 - mean_absolute_error: 6.7777 - 19ms/epoch - 9ms/step\n",
      "Epoch 75/500\n",
      "2/2 - 0s - loss: 64.9488 - mean_squared_error: 64.9488 - mean_absolute_error: 6.7794 - 20ms/epoch - 10ms/step\n",
      "Epoch 76/500\n",
      "2/2 - 0s - loss: 64.8342 - mean_squared_error: 64.8342 - mean_absolute_error: 6.7787 - 18ms/epoch - 9ms/step\n",
      "Epoch 77/500\n",
      "2/2 - 0s - loss: 64.7075 - mean_squared_error: 64.7075 - mean_absolute_error: 6.7748 - 19ms/epoch - 9ms/step\n",
      "Epoch 78/500\n",
      "2/2 - 0s - loss: 64.5872 - mean_squared_error: 64.5872 - mean_absolute_error: 6.7770 - 18ms/epoch - 9ms/step\n",
      "Epoch 79/500\n",
      "2/2 - 0s - loss: 64.3899 - mean_squared_error: 64.3899 - mean_absolute_error: 6.7760 - 17ms/epoch - 8ms/step\n",
      "Epoch 80/500\n",
      "2/2 - 0s - loss: 64.1935 - mean_squared_error: 64.1935 - mean_absolute_error: 6.7733 - 18ms/epoch - 9ms/step\n",
      "Epoch 81/500\n",
      "2/2 - 0s - loss: 63.9167 - mean_squared_error: 63.9167 - mean_absolute_error: 6.7623 - 19ms/epoch - 9ms/step\n",
      "Epoch 82/500\n",
      "2/2 - 0s - loss: 63.4814 - mean_squared_error: 63.4814 - mean_absolute_error: 6.7502 - 17ms/epoch - 8ms/step\n",
      "Epoch 83/500\n",
      "2/2 - 0s - loss: 63.0387 - mean_squared_error: 63.0387 - mean_absolute_error: 6.7413 - 18ms/epoch - 9ms/step\n",
      "Epoch 84/500\n",
      "2/2 - 0s - loss: 62.1948 - mean_squared_error: 62.1948 - mean_absolute_error: 6.7160 - 17ms/epoch - 8ms/step\n",
      "Epoch 85/500\n",
      "2/2 - 0s - loss: 61.0907 - mean_squared_error: 61.0907 - mean_absolute_error: 6.6874 - 18ms/epoch - 9ms/step\n",
      "Epoch 86/500\n",
      "2/2 - 0s - loss: 59.2257 - mean_squared_error: 59.2257 - mean_absolute_error: 6.6128 - 18ms/epoch - 9ms/step\n",
      "Epoch 87/500\n",
      "2/2 - 0s - loss: 56.2626 - mean_squared_error: 56.2626 - mean_absolute_error: 6.4576 - 16ms/epoch - 8ms/step\n",
      "Epoch 88/500\n",
      "2/2 - 0s - loss: 51.6423 - mean_squared_error: 51.6423 - mean_absolute_error: 6.2341 - 19ms/epoch - 9ms/step\n",
      "Epoch 89/500\n",
      "2/2 - 0s - loss: 49.9866 - mean_squared_error: 49.9866 - mean_absolute_error: 6.2317 - 18ms/epoch - 9ms/step\n",
      "Epoch 90/500\n",
      "2/2 - 0s - loss: 48.0890 - mean_squared_error: 48.0890 - mean_absolute_error: 5.9989 - 18ms/epoch - 9ms/step\n",
      "Epoch 91/500\n",
      "2/2 - 0s - loss: 43.1909 - mean_squared_error: 43.1909 - mean_absolute_error: 5.4139 - 19ms/epoch - 9ms/step\n",
      "Epoch 92/500\n",
      "2/2 - 0s - loss: 44.8983 - mean_squared_error: 44.8983 - mean_absolute_error: 5.1275 - 17ms/epoch - 8ms/step\n",
      "Epoch 93/500\n",
      "2/2 - 0s - loss: 40.0702 - mean_squared_error: 40.0702 - mean_absolute_error: 4.8475 - 18ms/epoch - 9ms/step\n",
      "Epoch 94/500\n",
      "2/2 - 0s - loss: 34.8584 - mean_squared_error: 34.8584 - mean_absolute_error: 4.8474 - 19ms/epoch - 9ms/step\n",
      "Epoch 95/500\n",
      "2/2 - 0s - loss: 37.2619 - mean_squared_error: 37.2619 - mean_absolute_error: 4.9635 - 19ms/epoch - 9ms/step\n",
      "Epoch 96/500\n",
      "2/2 - 0s - loss: 33.9169 - mean_squared_error: 33.9169 - mean_absolute_error: 4.3526 - 20ms/epoch - 10ms/step\n",
      "Epoch 97/500\n",
      "2/2 - 0s - loss: 32.5722 - mean_squared_error: 32.5722 - mean_absolute_error: 4.2599 - 19ms/epoch - 9ms/step\n",
      "Epoch 98/500\n",
      "2/2 - 0s - loss: 29.2750 - mean_squared_error: 29.2750 - mean_absolute_error: 4.4102 - 18ms/epoch - 9ms/step\n",
      "Epoch 99/500\n",
      "2/2 - 0s - loss: 28.2176 - mean_squared_error: 28.2176 - mean_absolute_error: 4.1625 - 18ms/epoch - 9ms/step\n",
      "Epoch 100/500\n",
      "2/2 - 0s - loss: 26.6487 - mean_squared_error: 26.6487 - mean_absolute_error: 3.9156 - val_loss: 67.8353 - val_mean_squared_error: 67.8353 - val_mean_absolute_error: 8.1446 - 274ms/epoch - 137ms/step\n",
      "Epoch 101/500\n",
      "2/2 - 0s - loss: 22.2442 - mean_squared_error: 22.2442 - mean_absolute_error: 3.7060 - 19ms/epoch - 9ms/step\n",
      "Epoch 102/500\n",
      "2/2 - 0s - loss: 21.8571 - mean_squared_error: 21.8571 - mean_absolute_error: 3.6907 - 17ms/epoch - 8ms/step\n",
      "Epoch 103/500\n",
      "2/2 - 0s - loss: 21.2592 - mean_squared_error: 21.2592 - mean_absolute_error: 3.7205 - 17ms/epoch - 8ms/step\n",
      "Epoch 104/500\n",
      "2/2 - 0s - loss: 20.9525 - mean_squared_error: 20.9525 - mean_absolute_error: 3.7315 - 18ms/epoch - 9ms/step\n",
      "Epoch 105/500\n",
      "2/2 - 0s - loss: 19.7901 - mean_squared_error: 19.7901 - mean_absolute_error: 3.6228 - 17ms/epoch - 8ms/step\n",
      "Epoch 106/500\n",
      "2/2 - 0s - loss: 20.0912 - mean_squared_error: 20.0912 - mean_absolute_error: 3.7628 - 18ms/epoch - 9ms/step\n",
      "Epoch 107/500\n",
      "2/2 - 0s - loss: 18.5898 - mean_squared_error: 18.5898 - mean_absolute_error: 3.6429 - 18ms/epoch - 9ms/step\n",
      "Epoch 108/500\n",
      "2/2 - 0s - loss: 19.5315 - mean_squared_error: 19.5315 - mean_absolute_error: 3.6245 - 19ms/epoch - 9ms/step\n",
      "Epoch 109/500\n",
      "2/2 - 0s - loss: 19.0301 - mean_squared_error: 19.0301 - mean_absolute_error: 3.6976 - 19ms/epoch - 9ms/step\n",
      "Epoch 110/500\n",
      "2/2 - 0s - loss: 18.1564 - mean_squared_error: 18.1564 - mean_absolute_error: 3.6297 - 17ms/epoch - 8ms/step\n",
      "Epoch 111/500\n",
      "2/2 - 0s - loss: 19.0720 - mean_squared_error: 19.0720 - mean_absolute_error: 3.6224 - 19ms/epoch - 9ms/step\n",
      "Epoch 112/500\n",
      "2/2 - 0s - loss: 18.2739 - mean_squared_error: 18.2739 - mean_absolute_error: 3.6769 - 18ms/epoch - 9ms/step\n",
      "Epoch 113/500\n",
      "2/2 - 0s - loss: 17.6864 - mean_squared_error: 17.6864 - mean_absolute_error: 3.5627 - 18ms/epoch - 9ms/step\n",
      "Epoch 114/500\n",
      "2/2 - 0s - loss: 18.1965 - mean_squared_error: 18.1965 - mean_absolute_error: 3.5778 - 19ms/epoch - 9ms/step\n",
      "Epoch 115/500\n",
      "2/2 - 0s - loss: 18.7298 - mean_squared_error: 18.7298 - mean_absolute_error: 3.7427 - 19ms/epoch - 9ms/step\n",
      "Epoch 116/500\n",
      "2/2 - 0s - loss: 17.6311 - mean_squared_error: 17.6311 - mean_absolute_error: 3.5991 - 19ms/epoch - 9ms/step\n",
      "Epoch 117/500\n",
      "2/2 - 0s - loss: 19.5686 - mean_squared_error: 19.5686 - mean_absolute_error: 3.7293 - 18ms/epoch - 9ms/step\n",
      "Epoch 118/500\n",
      "2/2 - 0s - loss: 19.1455 - mean_squared_error: 19.1455 - mean_absolute_error: 3.7819 - 18ms/epoch - 9ms/step\n",
      "Epoch 119/500\n",
      "2/2 - 0s - loss: 19.1937 - mean_squared_error: 19.1937 - mean_absolute_error: 3.5883 - 18ms/epoch - 9ms/step\n",
      "Epoch 120/500\n",
      "2/2 - 0s - loss: 17.4239 - mean_squared_error: 17.4239 - mean_absolute_error: 3.5479 - 18ms/epoch - 9ms/step\n",
      "Epoch 121/500\n",
      "2/2 - 0s - loss: 19.5137 - mean_squared_error: 19.5137 - mean_absolute_error: 3.7859 - 18ms/epoch - 9ms/step\n",
      "Epoch 122/500\n",
      "2/2 - 0s - loss: 18.6890 - mean_squared_error: 18.6890 - mean_absolute_error: 3.5871 - 17ms/epoch - 8ms/step\n",
      "Epoch 123/500\n",
      "2/2 - 0s - loss: 17.0154 - mean_squared_error: 17.0154 - mean_absolute_error: 3.5131 - 18ms/epoch - 9ms/step\n",
      "Epoch 124/500\n",
      "2/2 - 0s - loss: 18.4609 - mean_squared_error: 18.4609 - mean_absolute_error: 3.7101 - 19ms/epoch - 9ms/step\n",
      "Epoch 125/500\n",
      "2/2 - 0s - loss: 17.1807 - mean_squared_error: 17.1807 - mean_absolute_error: 3.4767 - 18ms/epoch - 9ms/step\n",
      "Epoch 126/500\n",
      "2/2 - 0s - loss: 17.9333 - mean_squared_error: 17.9333 - mean_absolute_error: 3.5437 - 18ms/epoch - 9ms/step\n",
      "Epoch 127/500\n",
      "2/2 - 0s - loss: 17.5329 - mean_squared_error: 17.5329 - mean_absolute_error: 3.6039 - 18ms/epoch - 9ms/step\n",
      "Epoch 128/500\n",
      "2/2 - 0s - loss: 17.7924 - mean_squared_error: 17.7924 - mean_absolute_error: 3.6181 - 19ms/epoch - 9ms/step\n",
      "Epoch 129/500\n",
      "2/2 - 0s - loss: 18.1796 - mean_squared_error: 18.1796 - mean_absolute_error: 3.5269 - 17ms/epoch - 8ms/step\n",
      "Epoch 130/500\n",
      "2/2 - 0s - loss: 17.6874 - mean_squared_error: 17.6874 - mean_absolute_error: 3.5654 - 18ms/epoch - 9ms/step\n",
      "Epoch 131/500\n",
      "2/2 - 0s - loss: 18.3044 - mean_squared_error: 18.3044 - mean_absolute_error: 3.6838 - 19ms/epoch - 9ms/step\n",
      "Epoch 132/500\n",
      "2/2 - 0s - loss: 17.8721 - mean_squared_error: 17.8721 - mean_absolute_error: 3.5415 - 18ms/epoch - 9ms/step\n",
      "Epoch 133/500\n",
      "2/2 - 0s - loss: 18.3701 - mean_squared_error: 18.3701 - mean_absolute_error: 3.5975 - 17ms/epoch - 8ms/step\n",
      "Epoch 134/500\n",
      "2/2 - 0s - loss: 17.7805 - mean_squared_error: 17.7805 - mean_absolute_error: 3.6350 - 20ms/epoch - 10ms/step\n",
      "Epoch 135/500\n",
      "2/2 - 0s - loss: 17.1323 - mean_squared_error: 17.1323 - mean_absolute_error: 3.5130 - 18ms/epoch - 9ms/step\n",
      "Epoch 136/500\n",
      "2/2 - 0s - loss: 17.6306 - mean_squared_error: 17.6306 - mean_absolute_error: 3.5549 - 18ms/epoch - 9ms/step\n",
      "Epoch 137/500\n",
      "2/2 - 0s - loss: 17.4246 - mean_squared_error: 17.4246 - mean_absolute_error: 3.5940 - 18ms/epoch - 9ms/step\n",
      "Epoch 138/500\n",
      "2/2 - 0s - loss: 17.1028 - mean_squared_error: 17.1028 - mean_absolute_error: 3.5262 - 17ms/epoch - 8ms/step\n",
      "Epoch 139/500\n",
      "2/2 - 0s - loss: 17.9820 - mean_squared_error: 17.9820 - mean_absolute_error: 3.5467 - 19ms/epoch - 9ms/step\n",
      "Epoch 140/500\n",
      "2/2 - 0s - loss: 17.0534 - mean_squared_error: 17.0534 - mean_absolute_error: 3.5365 - 17ms/epoch - 8ms/step\n",
      "Epoch 141/500\n",
      "2/2 - 0s - loss: 17.9577 - mean_squared_error: 17.9577 - mean_absolute_error: 3.6619 - 17ms/epoch - 9ms/step\n",
      "Epoch 142/500\n",
      "2/2 - 0s - loss: 17.3404 - mean_squared_error: 17.3404 - mean_absolute_error: 3.5148 - 18ms/epoch - 9ms/step\n",
      "Epoch 143/500\n",
      "2/2 - 0s - loss: 18.2974 - mean_squared_error: 18.2974 - mean_absolute_error: 3.6186 - 16ms/epoch - 8ms/step\n",
      "Epoch 144/500\n",
      "2/2 - 0s - loss: 17.6076 - mean_squared_error: 17.6076 - mean_absolute_error: 3.5818 - 18ms/epoch - 9ms/step\n",
      "Epoch 145/500\n",
      "2/2 - 0s - loss: 17.1243 - mean_squared_error: 17.1243 - mean_absolute_error: 3.5190 - 17ms/epoch - 8ms/step\n",
      "Epoch 146/500\n",
      "2/2 - 0s - loss: 17.7190 - mean_squared_error: 17.7190 - mean_absolute_error: 3.6238 - 18ms/epoch - 9ms/step\n",
      "Epoch 147/500\n",
      "2/2 - 0s - loss: 17.8877 - mean_squared_error: 17.8877 - mean_absolute_error: 3.6076 - 17ms/epoch - 8ms/step\n",
      "Epoch 148/500\n",
      "2/2 - 0s - loss: 17.2941 - mean_squared_error: 17.2941 - mean_absolute_error: 3.5045 - 18ms/epoch - 9ms/step\n",
      "Epoch 149/500\n",
      "2/2 - 0s - loss: 17.3955 - mean_squared_error: 17.3955 - mean_absolute_error: 3.5961 - 18ms/epoch - 9ms/step\n",
      "Epoch 150/500\n",
      "2/2 - 0s - loss: 18.9103 - mean_squared_error: 18.9103 - mean_absolute_error: 3.6611 - 18ms/epoch - 9ms/step\n",
      "Epoch 151/500\n",
      "2/2 - 0s - loss: 17.6702 - mean_squared_error: 17.6702 - mean_absolute_error: 3.5897 - 19ms/epoch - 9ms/step\n",
      "Epoch 152/500\n",
      "2/2 - 0s - loss: 17.2714 - mean_squared_error: 17.2714 - mean_absolute_error: 3.5784 - 19ms/epoch - 9ms/step\n",
      "Epoch 153/500\n",
      "2/2 - 0s - loss: 17.7028 - mean_squared_error: 17.7028 - mean_absolute_error: 3.5175 - 18ms/epoch - 9ms/step\n",
      "Epoch 154/500\n",
      "2/2 - 0s - loss: 19.0926 - mean_squared_error: 19.0926 - mean_absolute_error: 3.7223 - 18ms/epoch - 9ms/step\n",
      "Epoch 155/500\n",
      "2/2 - 0s - loss: 17.8454 - mean_squared_error: 17.8454 - mean_absolute_error: 3.6279 - 18ms/epoch - 9ms/step\n",
      "Epoch 156/500\n",
      "2/2 - 0s - loss: 17.2909 - mean_squared_error: 17.2909 - mean_absolute_error: 3.4925 - 17ms/epoch - 8ms/step\n",
      "Epoch 157/500\n",
      "2/2 - 0s - loss: 17.1695 - mean_squared_error: 17.1695 - mean_absolute_error: 3.4961 - 18ms/epoch - 9ms/step\n",
      "Epoch 158/500\n",
      "2/2 - 0s - loss: 18.1690 - mean_squared_error: 18.1690 - mean_absolute_error: 3.6649 - 17ms/epoch - 8ms/step\n",
      "Epoch 159/500\n",
      "2/2 - 0s - loss: 17.0909 - mean_squared_error: 17.0909 - mean_absolute_error: 3.5220 - 19ms/epoch - 9ms/step\n",
      "Epoch 160/500\n",
      "2/2 - 0s - loss: 18.1279 - mean_squared_error: 18.1279 - mean_absolute_error: 3.5357 - 19ms/epoch - 9ms/step\n",
      "Epoch 161/500\n",
      "2/2 - 0s - loss: 16.8859 - mean_squared_error: 16.8859 - mean_absolute_error: 3.5108 - 19ms/epoch - 9ms/step\n",
      "Epoch 162/500\n",
      "2/2 - 0s - loss: 18.0340 - mean_squared_error: 18.0340 - mean_absolute_error: 3.6592 - 17ms/epoch - 8ms/step\n",
      "Epoch 163/500\n",
      "2/2 - 0s - loss: 17.0510 - mean_squared_error: 17.0510 - mean_absolute_error: 3.5117 - 19ms/epoch - 9ms/step\n",
      "Epoch 164/500\n",
      "2/2 - 0s - loss: 17.3944 - mean_squared_error: 17.3944 - mean_absolute_error: 3.5084 - 17ms/epoch - 8ms/step\n",
      "Epoch 165/500\n",
      "2/2 - 0s - loss: 19.0982 - mean_squared_error: 19.0982 - mean_absolute_error: 3.7127 - 19ms/epoch - 9ms/step\n",
      "Epoch 166/500\n",
      "2/2 - 0s - loss: 18.8597 - mean_squared_error: 18.8597 - mean_absolute_error: 3.6333 - 18ms/epoch - 9ms/step\n",
      "Epoch 167/500\n",
      "2/2 - 0s - loss: 17.2939 - mean_squared_error: 17.2939 - mean_absolute_error: 3.5011 - 18ms/epoch - 9ms/step\n",
      "Epoch 168/500\n",
      "2/2 - 0s - loss: 18.3893 - mean_squared_error: 18.3893 - mean_absolute_error: 3.6990 - 17ms/epoch - 8ms/step\n",
      "Epoch 169/500\n",
      "2/2 - 0s - loss: 17.0626 - mean_squared_error: 17.0626 - mean_absolute_error: 3.5461 - 17ms/epoch - 8ms/step\n",
      "Epoch 170/500\n",
      "2/2 - 0s - loss: 18.3966 - mean_squared_error: 18.3966 - mean_absolute_error: 3.5499 - 18ms/epoch - 9ms/step\n",
      "Epoch 171/500\n",
      "2/2 - 0s - loss: 17.9169 - mean_squared_error: 17.9169 - mean_absolute_error: 3.5888 - 18ms/epoch - 9ms/step\n",
      "Epoch 172/500\n",
      "2/2 - 0s - loss: 18.3939 - mean_squared_error: 18.3939 - mean_absolute_error: 3.6925 - 19ms/epoch - 9ms/step\n",
      "Epoch 173/500\n",
      "2/2 - 0s - loss: 17.2822 - mean_squared_error: 17.2822 - mean_absolute_error: 3.4448 - 21ms/epoch - 10ms/step\n",
      "Epoch 174/500\n",
      "2/2 - 0s - loss: 18.7430 - mean_squared_error: 18.7430 - mean_absolute_error: 3.5448 - 21ms/epoch - 10ms/step\n",
      "Epoch 175/500\n",
      "2/2 - 0s - loss: 17.1429 - mean_squared_error: 17.1429 - mean_absolute_error: 3.5475 - 20ms/epoch - 10ms/step\n",
      "Epoch 176/500\n",
      "2/2 - 0s - loss: 17.8059 - mean_squared_error: 17.8059 - mean_absolute_error: 3.6319 - 19ms/epoch - 9ms/step\n",
      "Epoch 177/500\n",
      "2/2 - 0s - loss: 16.8545 - mean_squared_error: 16.8545 - mean_absolute_error: 3.4865 - 20ms/epoch - 10ms/step\n",
      "Epoch 178/500\n",
      "2/2 - 0s - loss: 17.7335 - mean_squared_error: 17.7335 - mean_absolute_error: 3.5314 - 17ms/epoch - 8ms/step\n",
      "Epoch 179/500\n",
      "2/2 - 0s - loss: 16.9780 - mean_squared_error: 16.9780 - mean_absolute_error: 3.5051 - 20ms/epoch - 10ms/step\n",
      "Epoch 180/500\n",
      "2/2 - 0s - loss: 17.6015 - mean_squared_error: 17.6015 - mean_absolute_error: 3.6060 - 21ms/epoch - 10ms/step\n",
      "Epoch 181/500\n",
      "2/2 - 0s - loss: 18.8244 - mean_squared_error: 18.8244 - mean_absolute_error: 3.6021 - 22ms/epoch - 11ms/step\n",
      "Epoch 182/500\n",
      "2/2 - 0s - loss: 17.7724 - mean_squared_error: 17.7724 - mean_absolute_error: 3.5415 - 21ms/epoch - 10ms/step\n",
      "Epoch 183/500\n",
      "2/2 - 0s - loss: 17.6347 - mean_squared_error: 17.6347 - mean_absolute_error: 3.6057 - 23ms/epoch - 11ms/step\n",
      "Epoch 184/500\n",
      "2/2 - 0s - loss: 17.3103 - mean_squared_error: 17.3103 - mean_absolute_error: 3.5624 - 21ms/epoch - 10ms/step\n",
      "Epoch 185/500\n",
      "2/2 - 0s - loss: 17.2883 - mean_squared_error: 17.2883 - mean_absolute_error: 3.5123 - 18ms/epoch - 9ms/step\n",
      "Epoch 186/500\n",
      "2/2 - 0s - loss: 17.3087 - mean_squared_error: 17.3087 - mean_absolute_error: 3.5643 - 21ms/epoch - 10ms/step\n",
      "Epoch 187/500\n",
      "2/2 - 0s - loss: 17.5012 - mean_squared_error: 17.5012 - mean_absolute_error: 3.5913 - 22ms/epoch - 11ms/step\n",
      "Epoch 188/500\n",
      "2/2 - 0s - loss: 17.3540 - mean_squared_error: 17.3540 - mean_absolute_error: 3.5162 - 20ms/epoch - 10ms/step\n",
      "Epoch 189/500\n",
      "2/2 - 0s - loss: 17.0276 - mean_squared_error: 17.0276 - mean_absolute_error: 3.4998 - 19ms/epoch - 9ms/step\n",
      "Epoch 190/500\n",
      "2/2 - 0s - loss: 17.4437 - mean_squared_error: 17.4437 - mean_absolute_error: 3.5874 - 17ms/epoch - 8ms/step\n",
      "Epoch 191/500\n",
      "2/2 - 0s - loss: 16.9203 - mean_squared_error: 16.9203 - mean_absolute_error: 3.4950 - 18ms/epoch - 9ms/step\n",
      "Epoch 192/500\n",
      "2/2 - 0s - loss: 17.4932 - mean_squared_error: 17.4932 - mean_absolute_error: 3.5084 - 17ms/epoch - 8ms/step\n",
      "Epoch 193/500\n",
      "2/2 - 0s - loss: 17.1191 - mean_squared_error: 17.1191 - mean_absolute_error: 3.5068 - 18ms/epoch - 9ms/step\n",
      "Epoch 194/500\n",
      "2/2 - 0s - loss: 17.2889 - mean_squared_error: 17.2889 - mean_absolute_error: 3.5546 - 18ms/epoch - 9ms/step\n",
      "Epoch 195/500\n",
      "2/2 - 0s - loss: 17.2734 - mean_squared_error: 17.2734 - mean_absolute_error: 3.5061 - 18ms/epoch - 9ms/step\n",
      "Epoch 196/500\n",
      "2/2 - 0s - loss: 16.9943 - mean_squared_error: 16.9943 - mean_absolute_error: 3.4830 - 17ms/epoch - 8ms/step\n",
      "Epoch 197/500\n",
      "2/2 - 0s - loss: 18.0267 - mean_squared_error: 18.0267 - mean_absolute_error: 3.6393 - 18ms/epoch - 9ms/step\n",
      "Epoch 198/500\n",
      "2/2 - 0s - loss: 16.8527 - mean_squared_error: 16.8527 - mean_absolute_error: 3.5048 - 19ms/epoch - 9ms/step\n",
      "Epoch 199/500\n",
      "2/2 - 0s - loss: 17.8503 - mean_squared_error: 17.8503 - mean_absolute_error: 3.5325 - 18ms/epoch - 9ms/step\n",
      "Epoch 200/500\n",
      "2/2 - 0s - loss: 16.8464 - mean_squared_error: 16.8464 - mean_absolute_error: 3.4732 - val_loss: 27.6473 - val_mean_squared_error: 27.6473 - val_mean_absolute_error: 5.1145 - 45ms/epoch - 22ms/step\n",
      "Epoch 201/500\n",
      "2/2 - 0s - loss: 17.6534 - mean_squared_error: 17.6534 - mean_absolute_error: 3.6050 - 18ms/epoch - 9ms/step\n",
      "Epoch 202/500\n",
      "2/2 - 0s - loss: 17.1538 - mean_squared_error: 17.1538 - mean_absolute_error: 3.5506 - 43ms/epoch - 21ms/step\n",
      "Epoch 203/500\n",
      "2/2 - 0s - loss: 19.3011 - mean_squared_error: 19.3011 - mean_absolute_error: 3.6345 - 30ms/epoch - 15ms/step\n",
      "Epoch 204/500\n",
      "2/2 - 0s - loss: 17.8068 - mean_squared_error: 17.8068 - mean_absolute_error: 3.5805 - 22ms/epoch - 11ms/step\n",
      "Epoch 205/500\n",
      "2/2 - 0s - loss: 18.6677 - mean_squared_error: 18.6677 - mean_absolute_error: 3.7016 - 29ms/epoch - 14ms/step\n",
      "Epoch 206/500\n",
      "2/2 - 0s - loss: 16.5647 - mean_squared_error: 16.5647 - mean_absolute_error: 3.4569 - 18ms/epoch - 9ms/step\n",
      "Epoch 207/500\n",
      "2/2 - 0s - loss: 18.7850 - mean_squared_error: 18.7850 - mean_absolute_error: 3.5508 - 20ms/epoch - 10ms/step\n",
      "Epoch 208/500\n",
      "2/2 - 0s - loss: 17.8741 - mean_squared_error: 17.8741 - mean_absolute_error: 3.5799 - 21ms/epoch - 10ms/step\n",
      "Epoch 209/500\n",
      "2/2 - 0s - loss: 18.9557 - mean_squared_error: 18.9557 - mean_absolute_error: 3.7321 - 19ms/epoch - 10ms/step\n",
      "Epoch 210/500\n",
      "2/2 - 0s - loss: 17.8111 - mean_squared_error: 17.8111 - mean_absolute_error: 3.5279 - 18ms/epoch - 9ms/step\n",
      "Epoch 211/500\n",
      "2/2 - 0s - loss: 19.0755 - mean_squared_error: 19.0755 - mean_absolute_error: 3.5905 - 19ms/epoch - 9ms/step\n",
      "Epoch 212/500\n",
      "2/2 - 0s - loss: 17.3719 - mean_squared_error: 17.3719 - mean_absolute_error: 3.5676 - 17ms/epoch - 8ms/step\n",
      "Epoch 213/500\n",
      "2/2 - 0s - loss: 17.5700 - mean_squared_error: 17.5700 - mean_absolute_error: 3.5804 - 18ms/epoch - 9ms/step\n",
      "Epoch 214/500\n",
      "2/2 - 0s - loss: 17.1669 - mean_squared_error: 17.1669 - mean_absolute_error: 3.5033 - 17ms/epoch - 8ms/step\n",
      "Epoch 215/500\n",
      "2/2 - 0s - loss: 17.2074 - mean_squared_error: 17.2074 - mean_absolute_error: 3.5132 - 19ms/epoch - 9ms/step\n",
      "Epoch 216/500\n",
      "2/2 - 0s - loss: 17.5708 - mean_squared_error: 17.5708 - mean_absolute_error: 3.5711 - 18ms/epoch - 9ms/step\n",
      "Epoch 217/500\n",
      "2/2 - 0s - loss: 17.9143 - mean_squared_error: 17.9143 - mean_absolute_error: 3.5570 - 17ms/epoch - 8ms/step\n",
      "Epoch 218/500\n",
      "2/2 - 0s - loss: 17.5056 - mean_squared_error: 17.5056 - mean_absolute_error: 3.5250 - 18ms/epoch - 9ms/step\n",
      "Epoch 219/500\n",
      "2/2 - 0s - loss: 18.5773 - mean_squared_error: 18.5773 - mean_absolute_error: 3.6713 - 18ms/epoch - 9ms/step\n",
      "Epoch 220/500\n",
      "2/2 - 0s - loss: 18.3138 - mean_squared_error: 18.3138 - mean_absolute_error: 3.6533 - 18ms/epoch - 9ms/step\n",
      "Epoch 221/500\n",
      "2/2 - 0s - loss: 17.6083 - mean_squared_error: 17.6083 - mean_absolute_error: 3.5212 - 17ms/epoch - 8ms/step\n",
      "Epoch 222/500\n",
      "2/2 - 0s - loss: 17.2565 - mean_squared_error: 17.2565 - mean_absolute_error: 3.4825 - 18ms/epoch - 9ms/step\n",
      "Epoch 223/500\n",
      "2/2 - 0s - loss: 18.0180 - mean_squared_error: 18.0180 - mean_absolute_error: 3.6149 - 18ms/epoch - 9ms/step\n",
      "Epoch 224/500\n",
      "2/2 - 0s - loss: 17.3932 - mean_squared_error: 17.3932 - mean_absolute_error: 3.5603 - 18ms/epoch - 9ms/step\n",
      "Epoch 225/500\n",
      "2/2 - 0s - loss: 17.3655 - mean_squared_error: 17.3655 - mean_absolute_error: 3.4947 - 18ms/epoch - 9ms/step\n",
      "Epoch 226/500\n",
      "2/2 - 0s - loss: 17.0391 - mean_squared_error: 17.0391 - mean_absolute_error: 3.4731 - 18ms/epoch - 9ms/step\n",
      "Epoch 227/500\n",
      "2/2 - 0s - loss: 17.2177 - mean_squared_error: 17.2177 - mean_absolute_error: 3.5364 - 18ms/epoch - 9ms/step\n",
      "Epoch 228/500\n",
      "2/2 - 0s - loss: 17.1981 - mean_squared_error: 17.1981 - mean_absolute_error: 3.5446 - 18ms/epoch - 9ms/step\n",
      "Epoch 229/500\n",
      "2/2 - 0s - loss: 17.0314 - mean_squared_error: 17.0314 - mean_absolute_error: 3.4997 - 19ms/epoch - 9ms/step\n",
      "Epoch 230/500\n",
      "2/2 - 0s - loss: 17.2443 - mean_squared_error: 17.2443 - mean_absolute_error: 3.5004 - 17ms/epoch - 8ms/step\n",
      "Epoch 231/500\n",
      "2/2 - 0s - loss: 16.7966 - mean_squared_error: 16.7966 - mean_absolute_error: 3.4727 - 17ms/epoch - 8ms/step\n",
      "Epoch 232/500\n",
      "2/2 - 0s - loss: 17.3633 - mean_squared_error: 17.3633 - mean_absolute_error: 3.5612 - 18ms/epoch - 9ms/step\n",
      "Epoch 233/500\n",
      "2/2 - 0s - loss: 17.5149 - mean_squared_error: 17.5149 - mean_absolute_error: 3.5684 - 18ms/epoch - 9ms/step\n",
      "Epoch 234/500\n",
      "2/2 - 0s - loss: 17.1031 - mean_squared_error: 17.1031 - mean_absolute_error: 3.5048 - 18ms/epoch - 9ms/step\n",
      "Epoch 235/500\n",
      "2/2 - 0s - loss: 16.9473 - mean_squared_error: 16.9473 - mean_absolute_error: 3.4996 - 19ms/epoch - 9ms/step\n",
      "Epoch 236/500\n",
      "2/2 - 0s - loss: 17.3691 - mean_squared_error: 17.3691 - mean_absolute_error: 3.5534 - 18ms/epoch - 9ms/step\n",
      "Epoch 237/500\n",
      "2/2 - 0s - loss: 17.3546 - mean_squared_error: 17.3546 - mean_absolute_error: 3.5177 - 18ms/epoch - 9ms/step\n",
      "Epoch 238/500\n",
      "2/2 - 0s - loss: 17.5290 - mean_squared_error: 17.5290 - mean_absolute_error: 3.5191 - 17ms/epoch - 8ms/step\n",
      "Epoch 239/500\n",
      "2/2 - 0s - loss: 17.0526 - mean_squared_error: 17.0526 - mean_absolute_error: 3.5195 - 17ms/epoch - 8ms/step\n",
      "Epoch 240/500\n",
      "2/2 - 0s - loss: 17.0570 - mean_squared_error: 17.0570 - mean_absolute_error: 3.5208 - 18ms/epoch - 9ms/step\n",
      "Epoch 241/500\n",
      "2/2 - 0s - loss: 17.3419 - mean_squared_error: 17.3419 - mean_absolute_error: 3.4964 - 17ms/epoch - 8ms/step\n",
      "Epoch 242/500\n",
      "2/2 - 0s - loss: 16.8395 - mean_squared_error: 16.8395 - mean_absolute_error: 3.4532 - 18ms/epoch - 9ms/step\n",
      "Epoch 243/500\n",
      "2/2 - 0s - loss: 17.4697 - mean_squared_error: 17.4697 - mean_absolute_error: 3.5729 - 17ms/epoch - 8ms/step\n",
      "Epoch 244/500\n",
      "2/2 - 0s - loss: 17.3125 - mean_squared_error: 17.3125 - mean_absolute_error: 3.5346 - 16ms/epoch - 8ms/step\n",
      "Epoch 245/500\n",
      "2/2 - 0s - loss: 17.1530 - mean_squared_error: 17.1530 - mean_absolute_error: 3.4850 - 19ms/epoch - 9ms/step\n",
      "Epoch 246/500\n",
      "2/2 - 0s - loss: 16.9118 - mean_squared_error: 16.9118 - mean_absolute_error: 3.4716 - 17ms/epoch - 8ms/step\n",
      "Epoch 247/500\n",
      "2/2 - 0s - loss: 17.0167 - mean_squared_error: 17.0167 - mean_absolute_error: 3.4986 - 18ms/epoch - 9ms/step\n",
      "Epoch 248/500\n",
      "2/2 - 0s - loss: 16.8662 - mean_squared_error: 16.8662 - mean_absolute_error: 3.4756 - 18ms/epoch - 9ms/step\n",
      "Epoch 249/500\n",
      "2/2 - 0s - loss: 17.1278 - mean_squared_error: 17.1278 - mean_absolute_error: 3.4945 - 18ms/epoch - 9ms/step\n",
      "Epoch 250/500\n",
      "2/2 - 0s - loss: 17.7293 - mean_squared_error: 17.7293 - mean_absolute_error: 3.5591 - 18ms/epoch - 9ms/step\n",
      "Epoch 251/500\n",
      "2/2 - 0s - loss: 16.9701 - mean_squared_error: 16.9701 - mean_absolute_error: 3.4906 - 18ms/epoch - 9ms/step\n",
      "Epoch 252/500\n",
      "2/2 - 0s - loss: 17.1135 - mean_squared_error: 17.1135 - mean_absolute_error: 3.4896 - 17ms/epoch - 8ms/step\n",
      "Epoch 253/500\n",
      "2/2 - 0s - loss: 16.8295 - mean_squared_error: 16.8295 - mean_absolute_error: 3.4613 - 19ms/epoch - 9ms/step\n",
      "Epoch 254/500\n",
      "2/2 - 0s - loss: 17.0771 - mean_squared_error: 17.0771 - mean_absolute_error: 3.5047 - 18ms/epoch - 9ms/step\n",
      "Epoch 255/500\n",
      "2/2 - 0s - loss: 17.0256 - mean_squared_error: 17.0256 - mean_absolute_error: 3.4873 - 20ms/epoch - 10ms/step\n",
      "Epoch 256/500\n",
      "2/2 - 0s - loss: 16.8727 - mean_squared_error: 16.8727 - mean_absolute_error: 3.4684 - 18ms/epoch - 9ms/step\n",
      "Epoch 257/500\n",
      "2/2 - 0s - loss: 16.8662 - mean_squared_error: 16.8662 - mean_absolute_error: 3.4611 - 18ms/epoch - 9ms/step\n",
      "Epoch 258/500\n",
      "2/2 - 0s - loss: 17.4623 - mean_squared_error: 17.4623 - mean_absolute_error: 3.5433 - 17ms/epoch - 8ms/step\n",
      "Epoch 259/500\n",
      "2/2 - 0s - loss: 16.8453 - mean_squared_error: 16.8453 - mean_absolute_error: 3.4554 - 19ms/epoch - 9ms/step\n",
      "Epoch 260/500\n",
      "2/2 - 0s - loss: 17.4485 - mean_squared_error: 17.4485 - mean_absolute_error: 3.5019 - 17ms/epoch - 8ms/step\n",
      "Epoch 261/500\n",
      "2/2 - 0s - loss: 16.6455 - mean_squared_error: 16.6455 - mean_absolute_error: 3.4501 - 19ms/epoch - 9ms/step\n",
      "Epoch 262/500\n",
      "2/2 - 0s - loss: 17.6446 - mean_squared_error: 17.6446 - mean_absolute_error: 3.5769 - 18ms/epoch - 9ms/step\n",
      "Epoch 263/500\n",
      "2/2 - 0s - loss: 17.0485 - mean_squared_error: 17.0485 - mean_absolute_error: 3.4968 - 18ms/epoch - 9ms/step\n",
      "Epoch 264/500\n",
      "2/2 - 0s - loss: 17.3130 - mean_squared_error: 17.3130 - mean_absolute_error: 3.4920 - 18ms/epoch - 9ms/step\n",
      "Epoch 265/500\n",
      "2/2 - 0s - loss: 16.8234 - mean_squared_error: 16.8234 - mean_absolute_error: 3.4528 - 17ms/epoch - 8ms/step\n",
      "Epoch 266/500\n",
      "2/2 - 0s - loss: 16.9825 - mean_squared_error: 16.9825 - mean_absolute_error: 3.4948 - 19ms/epoch - 9ms/step\n",
      "Epoch 267/500\n",
      "2/2 - 0s - loss: 16.9829 - mean_squared_error: 16.9829 - mean_absolute_error: 3.4914 - 18ms/epoch - 9ms/step\n",
      "Epoch 268/500\n",
      "2/2 - 0s - loss: 17.0956 - mean_squared_error: 17.0956 - mean_absolute_error: 3.4810 - 17ms/epoch - 8ms/step\n",
      "Epoch 269/500\n",
      "2/2 - 0s - loss: 17.1899 - mean_squared_error: 17.1899 - mean_absolute_error: 3.4978 - 18ms/epoch - 9ms/step\n",
      "Epoch 270/500\n",
      "2/2 - 0s - loss: 16.8730 - mean_squared_error: 16.8730 - mean_absolute_error: 3.4707 - 20ms/epoch - 10ms/step\n",
      "Epoch 271/500\n",
      "2/2 - 0s - loss: 17.2566 - mean_squared_error: 17.2566 - mean_absolute_error: 3.4935 - 21ms/epoch - 10ms/step\n",
      "Epoch 272/500\n",
      "2/2 - 0s - loss: 17.6637 - mean_squared_error: 17.6637 - mean_absolute_error: 3.5486 - 23ms/epoch - 11ms/step\n",
      "Epoch 273/500\n",
      "2/2 - 0s - loss: 16.8756 - mean_squared_error: 16.8756 - mean_absolute_error: 3.4813 - 20ms/epoch - 10ms/step\n",
      "Epoch 274/500\n",
      "2/2 - 0s - loss: 16.9604 - mean_squared_error: 16.9604 - mean_absolute_error: 3.4718 - 20ms/epoch - 10ms/step\n",
      "Epoch 275/500\n",
      "2/2 - 0s - loss: 16.9978 - mean_squared_error: 16.9978 - mean_absolute_error: 3.4698 - 18ms/epoch - 9ms/step\n",
      "Epoch 276/500\n",
      "2/2 - 0s - loss: 17.3836 - mean_squared_error: 17.3836 - mean_absolute_error: 3.5418 - 19ms/epoch - 9ms/step\n",
      "Epoch 277/500\n",
      "2/2 - 0s - loss: 16.9625 - mean_squared_error: 16.9625 - mean_absolute_error: 3.4971 - 16ms/epoch - 8ms/step\n",
      "Epoch 278/500\n",
      "2/2 - 0s - loss: 18.9603 - mean_squared_error: 18.9603 - mean_absolute_error: 3.6275 - 19ms/epoch - 9ms/step\n",
      "Epoch 279/500\n",
      "2/2 - 0s - loss: 16.6674 - mean_squared_error: 16.6674 - mean_absolute_error: 3.4534 - 19ms/epoch - 9ms/step\n",
      "Epoch 280/500\n",
      "2/2 - 0s - loss: 19.0374 - mean_squared_error: 19.0374 - mean_absolute_error: 3.6803 - 16ms/epoch - 8ms/step\n",
      "Epoch 281/500\n",
      "2/2 - 0s - loss: 17.4280 - mean_squared_error: 17.4280 - mean_absolute_error: 3.5263 - 18ms/epoch - 9ms/step\n",
      "Epoch 282/500\n",
      "2/2 - 0s - loss: 18.1642 - mean_squared_error: 18.1642 - mean_absolute_error: 3.5259 - 18ms/epoch - 9ms/step\n",
      "Epoch 283/500\n",
      "2/2 - 0s - loss: 16.5698 - mean_squared_error: 16.5698 - mean_absolute_error: 3.4264 - 18ms/epoch - 9ms/step\n",
      "Epoch 284/500\n",
      "2/2 - 0s - loss: 18.0319 - mean_squared_error: 18.0319 - mean_absolute_error: 3.5908 - 18ms/epoch - 9ms/step\n",
      "Epoch 285/500\n",
      "2/2 - 0s - loss: 16.9702 - mean_squared_error: 16.9702 - mean_absolute_error: 3.4806 - 17ms/epoch - 8ms/step\n",
      "Epoch 286/500\n",
      "2/2 - 0s - loss: 17.6787 - mean_squared_error: 17.6787 - mean_absolute_error: 3.5007 - 18ms/epoch - 9ms/step\n",
      "Epoch 287/500\n",
      "2/2 - 0s - loss: 17.1585 - mean_squared_error: 17.1585 - mean_absolute_error: 3.4748 - 18ms/epoch - 9ms/step\n",
      "Epoch 288/500\n",
      "2/2 - 0s - loss: 17.3168 - mean_squared_error: 17.3168 - mean_absolute_error: 3.5238 - 18ms/epoch - 9ms/step\n",
      "Epoch 289/500\n",
      "2/2 - 0s - loss: 16.8961 - mean_squared_error: 16.8961 - mean_absolute_error: 3.4740 - 18ms/epoch - 9ms/step\n",
      "Epoch 290/500\n",
      "2/2 - 0s - loss: 17.0505 - mean_squared_error: 17.0505 - mean_absolute_error: 3.4762 - 17ms/epoch - 8ms/step\n",
      "Epoch 291/500\n",
      "2/2 - 0s - loss: 17.2628 - mean_squared_error: 17.2628 - mean_absolute_error: 3.4867 - 18ms/epoch - 9ms/step\n",
      "Epoch 292/500\n",
      "2/2 - 0s - loss: 16.8835 - mean_squared_error: 16.8835 - mean_absolute_error: 3.4713 - 18ms/epoch - 9ms/step\n",
      "Epoch 293/500\n",
      "2/2 - 0s - loss: 17.0302 - mean_squared_error: 17.0302 - mean_absolute_error: 3.4944 - 17ms/epoch - 8ms/step\n",
      "Epoch 294/500\n",
      "2/2 - 0s - loss: 16.9745 - mean_squared_error: 16.9745 - mean_absolute_error: 3.4696 - 18ms/epoch - 9ms/step\n",
      "Epoch 295/500\n",
      "2/2 - 0s - loss: 17.1811 - mean_squared_error: 17.1811 - mean_absolute_error: 3.4854 - 17ms/epoch - 8ms/step\n",
      "Epoch 296/500\n",
      "2/2 - 0s - loss: 17.7882 - mean_squared_error: 17.7882 - mean_absolute_error: 3.5494 - 18ms/epoch - 9ms/step\n",
      "Epoch 297/500\n",
      "2/2 - 0s - loss: 17.1637 - mean_squared_error: 17.1637 - mean_absolute_error: 3.4982 - 18ms/epoch - 9ms/step\n",
      "Epoch 298/500\n",
      "2/2 - 0s - loss: 17.2938 - mean_squared_error: 17.2938 - mean_absolute_error: 3.4955 - 16ms/epoch - 8ms/step\n",
      "Epoch 299/500\n",
      "2/2 - 0s - loss: 17.1242 - mean_squared_error: 17.1242 - mean_absolute_error: 3.4817 - 21ms/epoch - 10ms/step\n",
      "Epoch 300/500\n",
      "2/2 - 0s - loss: 17.0393 - mean_squared_error: 17.0394 - mean_absolute_error: 3.4987 - val_loss: 33.0924 - val_mean_squared_error: 33.0924 - val_mean_absolute_error: 5.6198 - 43ms/epoch - 21ms/step\n",
      "Epoch 301/500\n",
      "2/2 - 0s - loss: 16.8490 - mean_squared_error: 16.8490 - mean_absolute_error: 3.4755 - 18ms/epoch - 9ms/step\n",
      "Epoch 302/500\n",
      "2/2 - 0s - loss: 17.0468 - mean_squared_error: 17.0468 - mean_absolute_error: 3.4651 - 19ms/epoch - 9ms/step\n",
      "Epoch 303/500\n",
      "2/2 - 0s - loss: 16.9199 - mean_squared_error: 16.9199 - mean_absolute_error: 3.4522 - 18ms/epoch - 9ms/step\n",
      "Epoch 304/500\n",
      "2/2 - 0s - loss: 17.0196 - mean_squared_error: 17.0196 - mean_absolute_error: 3.4877 - 19ms/epoch - 9ms/step\n",
      "Epoch 305/500\n",
      "2/2 - 0s - loss: 17.2147 - mean_squared_error: 17.2147 - mean_absolute_error: 3.5053 - 17ms/epoch - 8ms/step\n",
      "Epoch 306/500\n",
      "2/2 - 0s - loss: 17.2175 - mean_squared_error: 17.2175 - mean_absolute_error: 3.4754 - 17ms/epoch - 8ms/step\n",
      "Epoch 307/500\n",
      "2/2 - 0s - loss: 16.8014 - mean_squared_error: 16.8014 - mean_absolute_error: 3.4494 - 18ms/epoch - 9ms/step\n",
      "Epoch 308/500\n",
      "2/2 - 0s - loss: 17.0078 - mean_squared_error: 17.0078 - mean_absolute_error: 3.4811 - 17ms/epoch - 8ms/step\n",
      "Epoch 309/500\n",
      "2/2 - 0s - loss: 16.8057 - mean_squared_error: 16.8057 - mean_absolute_error: 3.4550 - 18ms/epoch - 9ms/step\n",
      "Epoch 310/500\n",
      "2/2 - 0s - loss: 17.5792 - mean_squared_error: 17.5792 - mean_absolute_error: 3.5373 - 17ms/epoch - 8ms/step\n",
      "Epoch 311/500\n",
      "2/2 - 0s - loss: 16.8140 - mean_squared_error: 16.8140 - mean_absolute_error: 3.4495 - 17ms/epoch - 8ms/step\n",
      "Epoch 312/500\n",
      "2/2 - 0s - loss: 17.7202 - mean_squared_error: 17.7202 - mean_absolute_error: 3.5407 - 19ms/epoch - 9ms/step\n",
      "Epoch 313/500\n",
      "2/2 - 0s - loss: 17.6753 - mean_squared_error: 17.6753 - mean_absolute_error: 3.5337 - 18ms/epoch - 9ms/step\n",
      "Epoch 314/500\n",
      "2/2 - 0s - loss: 16.9505 - mean_squared_error: 16.9505 - mean_absolute_error: 3.4501 - 17ms/epoch - 8ms/step\n",
      "Epoch 315/500\n",
      "2/2 - 0s - loss: 17.3432 - mean_squared_error: 17.3432 - mean_absolute_error: 3.4656 - 18ms/epoch - 9ms/step\n",
      "Epoch 316/500\n",
      "2/2 - 0s - loss: 17.2407 - mean_squared_error: 17.2407 - mean_absolute_error: 3.4878 - 17ms/epoch - 8ms/step\n",
      "Epoch 317/500\n",
      "2/2 - 0s - loss: 17.0239 - mean_squared_error: 17.0239 - mean_absolute_error: 3.4644 - 19ms/epoch - 9ms/step\n",
      "Epoch 318/500\n",
      "2/2 - 0s - loss: 16.7571 - mean_squared_error: 16.7571 - mean_absolute_error: 3.4256 - 41ms/epoch - 20ms/step\n",
      "Epoch 319/500\n",
      "2/2 - 0s - loss: 16.8036 - mean_squared_error: 16.8036 - mean_absolute_error: 3.4313 - 25ms/epoch - 12ms/step\n",
      "Epoch 320/500\n",
      "2/2 - 0s - loss: 17.3612 - mean_squared_error: 17.3612 - mean_absolute_error: 3.4917 - 21ms/epoch - 10ms/step\n",
      "Epoch 321/500\n",
      "2/2 - 0s - loss: 18.0622 - mean_squared_error: 18.0622 - mean_absolute_error: 3.5419 - 22ms/epoch - 11ms/step\n",
      "Epoch 322/500\n",
      "2/2 - 0s - loss: 16.7382 - mean_squared_error: 16.7382 - mean_absolute_error: 3.4319 - 18ms/epoch - 9ms/step\n",
      "Epoch 323/500\n",
      "2/2 - 0s - loss: 17.3314 - mean_squared_error: 17.3314 - mean_absolute_error: 3.4924 - 19ms/epoch - 9ms/step\n",
      "Epoch 324/500\n",
      "2/2 - 0s - loss: 17.7477 - mean_squared_error: 17.7477 - mean_absolute_error: 3.5380 - 17ms/epoch - 8ms/step\n",
      "Epoch 325/500\n",
      "2/2 - 0s - loss: 16.9945 - mean_squared_error: 16.9945 - mean_absolute_error: 3.4680 - 19ms/epoch - 9ms/step\n",
      "Epoch 326/500\n",
      "2/2 - 0s - loss: 16.7391 - mean_squared_error: 16.7391 - mean_absolute_error: 3.4488 - 18ms/epoch - 9ms/step\n",
      "Epoch 327/500\n",
      "2/2 - 0s - loss: 17.4226 - mean_squared_error: 17.4226 - mean_absolute_error: 3.5040 - 18ms/epoch - 9ms/step\n",
      "Epoch 328/500\n",
      "2/2 - 0s - loss: 16.8971 - mean_squared_error: 16.8971 - mean_absolute_error: 3.4692 - 19ms/epoch - 9ms/step\n",
      "Epoch 329/500\n",
      "2/2 - 0s - loss: 16.9244 - mean_squared_error: 16.9244 - mean_absolute_error: 3.4650 - 18ms/epoch - 9ms/step\n",
      "Epoch 330/500\n",
      "2/2 - 0s - loss: 17.1595 - mean_squared_error: 17.1595 - mean_absolute_error: 3.4775 - 17ms/epoch - 8ms/step\n",
      "Epoch 331/500\n",
      "2/2 - 0s - loss: 16.7027 - mean_squared_error: 16.7027 - mean_absolute_error: 3.4427 - 17ms/epoch - 8ms/step\n",
      "Epoch 332/500\n",
      "2/2 - 0s - loss: 16.7451 - mean_squared_error: 16.7451 - mean_absolute_error: 3.4454 - 17ms/epoch - 8ms/step\n",
      "Epoch 333/500\n",
      "2/2 - 0s - loss: 16.8225 - mean_squared_error: 16.8225 - mean_absolute_error: 3.4508 - 18ms/epoch - 9ms/step\n",
      "Epoch 334/500\n",
      "2/2 - 0s - loss: 16.7540 - mean_squared_error: 16.7540 - mean_absolute_error: 3.4465 - 19ms/epoch - 9ms/step\n",
      "Epoch 335/500\n",
      "2/2 - 0s - loss: 16.8035 - mean_squared_error: 16.8035 - mean_absolute_error: 3.4482 - 17ms/epoch - 8ms/step\n",
      "Epoch 336/500\n",
      "2/2 - 0s - loss: 16.6672 - mean_squared_error: 16.6672 - mean_absolute_error: 3.4285 - 18ms/epoch - 9ms/step\n",
      "Epoch 337/500\n",
      "2/2 - 0s - loss: 17.0531 - mean_squared_error: 17.0531 - mean_absolute_error: 3.4657 - 19ms/epoch - 9ms/step\n",
      "Epoch 338/500\n",
      "2/2 - 0s - loss: 16.7202 - mean_squared_error: 16.7202 - mean_absolute_error: 3.4408 - 17ms/epoch - 9ms/step\n",
      "Epoch 339/500\n",
      "2/2 - 0s - loss: 16.6980 - mean_squared_error: 16.6980 - mean_absolute_error: 3.4400 - 19ms/epoch - 9ms/step\n",
      "Epoch 340/500\n",
      "2/2 - 0s - loss: 16.8153 - mean_squared_error: 16.8153 - mean_absolute_error: 3.4444 - 17ms/epoch - 8ms/step\n",
      "Epoch 341/500\n",
      "2/2 - 0s - loss: 16.6573 - mean_squared_error: 16.6573 - mean_absolute_error: 3.4271 - 19ms/epoch - 9ms/step\n",
      "Epoch 342/500\n",
      "2/2 - 0s - loss: 17.1638 - mean_squared_error: 17.1638 - mean_absolute_error: 3.4791 - 17ms/epoch - 8ms/step\n",
      "Epoch 343/500\n",
      "2/2 - 0s - loss: 16.7270 - mean_squared_error: 16.7270 - mean_absolute_error: 3.4378 - 18ms/epoch - 9ms/step\n",
      "Epoch 344/500\n",
      "2/2 - 0s - loss: 17.0337 - mean_squared_error: 17.0337 - mean_absolute_error: 3.4682 - 18ms/epoch - 9ms/step\n",
      "Epoch 345/500\n",
      "2/2 - 0s - loss: 16.8151 - mean_squared_error: 16.8151 - mean_absolute_error: 3.4467 - 17ms/epoch - 8ms/step\n",
      "Epoch 346/500\n",
      "2/2 - 0s - loss: 17.4014 - mean_squared_error: 17.4014 - mean_absolute_error: 3.4945 - 17ms/epoch - 8ms/step\n",
      "Epoch 347/500\n",
      "2/2 - 0s - loss: 18.1916 - mean_squared_error: 18.1916 - mean_absolute_error: 3.5485 - 18ms/epoch - 9ms/step\n",
      "Epoch 348/500\n",
      "2/2 - 0s - loss: 17.4979 - mean_squared_error: 17.4979 - mean_absolute_error: 3.4979 - 17ms/epoch - 8ms/step\n",
      "Epoch 349/500\n",
      "2/2 - 0s - loss: 17.0748 - mean_squared_error: 17.0748 - mean_absolute_error: 3.4644 - 19ms/epoch - 9ms/step\n",
      "Epoch 350/500\n",
      "2/2 - 0s - loss: 16.6663 - mean_squared_error: 16.6663 - mean_absolute_error: 3.4247 - 19ms/epoch - 9ms/step\n",
      "Epoch 351/500\n",
      "2/2 - 0s - loss: 16.8800 - mean_squared_error: 16.8800 - mean_absolute_error: 3.4477 - 20ms/epoch - 10ms/step\n",
      "Epoch 352/500\n",
      "2/2 - 0s - loss: 16.5907 - mean_squared_error: 16.5907 - mean_absolute_error: 3.4265 - 20ms/epoch - 10ms/step\n",
      "Epoch 353/500\n",
      "2/2 - 0s - loss: 17.0504 - mean_squared_error: 17.0504 - mean_absolute_error: 3.4569 - 20ms/epoch - 10ms/step\n",
      "Epoch 354/500\n",
      "2/2 - 0s - loss: 16.6126 - mean_squared_error: 16.6126 - mean_absolute_error: 3.4173 - 17ms/epoch - 8ms/step\n",
      "Epoch 355/500\n",
      "2/2 - 0s - loss: 16.9965 - mean_squared_error: 16.9965 - mean_absolute_error: 3.4610 - 18ms/epoch - 9ms/step\n",
      "Epoch 356/500\n",
      "2/2 - 0s - loss: 16.8472 - mean_squared_error: 16.8472 - mean_absolute_error: 3.4428 - 18ms/epoch - 9ms/step\n",
      "Epoch 357/500\n",
      "2/2 - 0s - loss: 16.6184 - mean_squared_error: 16.6184 - mean_absolute_error: 3.4213 - 17ms/epoch - 8ms/step\n",
      "Epoch 358/500\n",
      "2/2 - 0s - loss: 17.0557 - mean_squared_error: 17.0557 - mean_absolute_error: 3.4570 - 19ms/epoch - 9ms/step\n",
      "Epoch 359/500\n",
      "2/2 - 0s - loss: 16.5526 - mean_squared_error: 16.5526 - mean_absolute_error: 3.4127 - 17ms/epoch - 8ms/step\n",
      "Epoch 360/500\n",
      "2/2 - 0s - loss: 16.9231 - mean_squared_error: 16.9231 - mean_absolute_error: 3.4493 - 18ms/epoch - 9ms/step\n",
      "Epoch 361/500\n",
      "2/2 - 0s - loss: 17.1627 - mean_squared_error: 17.1627 - mean_absolute_error: 3.4817 - 19ms/epoch - 9ms/step\n",
      "Epoch 362/500\n",
      "2/2 - 0s - loss: 17.4562 - mean_squared_error: 17.4562 - mean_absolute_error: 3.5000 - 18ms/epoch - 9ms/step\n",
      "Epoch 363/500\n",
      "2/2 - 0s - loss: 16.4386 - mean_squared_error: 16.4386 - mean_absolute_error: 3.4118 - 19ms/epoch - 9ms/step\n",
      "Epoch 364/500\n",
      "2/2 - 0s - loss: 18.1414 - mean_squared_error: 18.1414 - mean_absolute_error: 3.5502 - 19ms/epoch - 9ms/step\n",
      "Epoch 365/500\n",
      "2/2 - 0s - loss: 17.6117 - mean_squared_error: 17.6117 - mean_absolute_error: 3.5313 - 19ms/epoch - 9ms/step\n",
      "Epoch 366/500\n",
      "2/2 - 0s - loss: 18.4837 - mean_squared_error: 18.4837 - mean_absolute_error: 3.5729 - 19ms/epoch - 9ms/step\n",
      "Epoch 367/500\n",
      "2/2 - 0s - loss: 17.0616 - mean_squared_error: 17.0616 - mean_absolute_error: 3.4667 - 18ms/epoch - 9ms/step\n",
      "Epoch 368/500\n",
      "2/2 - 0s - loss: 18.8698 - mean_squared_error: 18.8698 - mean_absolute_error: 3.5531 - 18ms/epoch - 9ms/step\n",
      "Epoch 369/500\n",
      "2/2 - 0s - loss: 17.1278 - mean_squared_error: 17.1278 - mean_absolute_error: 3.4670 - 20ms/epoch - 10ms/step\n",
      "Epoch 370/500\n",
      "2/2 - 0s - loss: 18.4744 - mean_squared_error: 18.4744 - mean_absolute_error: 3.5776 - 17ms/epoch - 8ms/step\n",
      "Epoch 371/500\n",
      "2/2 - 0s - loss: 17.8470 - mean_squared_error: 17.8470 - mean_absolute_error: 3.5307 - 17ms/epoch - 8ms/step\n",
      "Epoch 372/500\n",
      "2/2 - 0s - loss: 17.5970 - mean_squared_error: 17.5970 - mean_absolute_error: 3.5137 - 18ms/epoch - 9ms/step\n",
      "Epoch 373/500\n",
      "2/2 - 0s - loss: 16.6470 - mean_squared_error: 16.6470 - mean_absolute_error: 3.4418 - 18ms/epoch - 9ms/step\n",
      "Epoch 374/500\n",
      "2/2 - 0s - loss: 16.7114 - mean_squared_error: 16.7114 - mean_absolute_error: 3.4443 - 18ms/epoch - 9ms/step\n",
      "Epoch 375/500\n",
      "2/2 - 0s - loss: 16.6102 - mean_squared_error: 16.6102 - mean_absolute_error: 3.4370 - 18ms/epoch - 9ms/step\n",
      "Epoch 376/500\n",
      "2/2 - 0s - loss: 16.6762 - mean_squared_error: 16.6762 - mean_absolute_error: 3.4428 - 18ms/epoch - 9ms/step\n",
      "Epoch 377/500\n",
      "2/2 - 0s - loss: 16.5934 - mean_squared_error: 16.5934 - mean_absolute_error: 3.4324 - 19ms/epoch - 9ms/step\n",
      "Epoch 378/500\n",
      "2/2 - 0s - loss: 16.8638 - mean_squared_error: 16.8638 - mean_absolute_error: 3.4415 - 18ms/epoch - 9ms/step\n",
      "Epoch 379/500\n",
      "2/2 - 0s - loss: 16.6464 - mean_squared_error: 16.6464 - mean_absolute_error: 3.4312 - 18ms/epoch - 9ms/step\n",
      "Epoch 380/500\n",
      "2/2 - 0s - loss: 16.7310 - mean_squared_error: 16.7310 - mean_absolute_error: 3.4287 - 18ms/epoch - 9ms/step\n",
      "Epoch 381/500\n",
      "2/2 - 0s - loss: 16.6340 - mean_squared_error: 16.6340 - mean_absolute_error: 3.4193 - 17ms/epoch - 8ms/step\n",
      "Epoch 382/500\n",
      "2/2 - 0s - loss: 16.6680 - mean_squared_error: 16.6680 - mean_absolute_error: 3.4203 - 17ms/epoch - 8ms/step\n",
      "Epoch 383/500\n",
      "2/2 - 0s - loss: 16.7313 - mean_squared_error: 16.7313 - mean_absolute_error: 3.4246 - 17ms/epoch - 8ms/step\n",
      "Epoch 384/500\n",
      "2/2 - 0s - loss: 16.5981 - mean_squared_error: 16.5981 - mean_absolute_error: 3.4135 - 18ms/epoch - 9ms/step\n",
      "Epoch 385/500\n",
      "2/2 - 0s - loss: 16.6373 - mean_squared_error: 16.6373 - mean_absolute_error: 3.4151 - 19ms/epoch - 9ms/step\n",
      "Epoch 386/500\n",
      "2/2 - 0s - loss: 16.5650 - mean_squared_error: 16.5650 - mean_absolute_error: 3.4178 - 17ms/epoch - 8ms/step\n",
      "Epoch 387/500\n",
      "2/2 - 0s - loss: 16.7209 - mean_squared_error: 16.7209 - mean_absolute_error: 3.4307 - 19ms/epoch - 9ms/step\n",
      "Epoch 388/500\n",
      "2/2 - 0s - loss: 16.6099 - mean_squared_error: 16.6099 - mean_absolute_error: 3.4233 - 18ms/epoch - 9ms/step\n",
      "Epoch 389/500\n",
      "2/2 - 0s - loss: 16.7046 - mean_squared_error: 16.7046 - mean_absolute_error: 3.4183 - 18ms/epoch - 9ms/step\n",
      "Epoch 390/500\n",
      "2/2 - 0s - loss: 16.6635 - mean_squared_error: 16.6635 - mean_absolute_error: 3.4208 - 21ms/epoch - 10ms/step\n",
      "Epoch 391/500\n",
      "2/2 - 0s - loss: 16.7041 - mean_squared_error: 16.7041 - mean_absolute_error: 3.4318 - 19ms/epoch - 9ms/step\n",
      "Epoch 392/500\n",
      "2/2 - 0s - loss: 16.5787 - mean_squared_error: 16.5787 - mean_absolute_error: 3.4188 - 19ms/epoch - 9ms/step\n",
      "Epoch 393/500\n",
      "2/2 - 0s - loss: 16.8074 - mean_squared_error: 16.8074 - mean_absolute_error: 3.4351 - 19ms/epoch - 9ms/step\n",
      "Epoch 394/500\n",
      "2/2 - 0s - loss: 16.5772 - mean_squared_error: 16.5772 - mean_absolute_error: 3.4168 - 17ms/epoch - 8ms/step\n",
      "Epoch 395/500\n",
      "2/2 - 0s - loss: 16.6968 - mean_squared_error: 16.6968 - mean_absolute_error: 3.4252 - 19ms/epoch - 9ms/step\n",
      "Epoch 396/500\n",
      "2/2 - 0s - loss: 16.5332 - mean_squared_error: 16.5332 - mean_absolute_error: 3.4108 - 19ms/epoch - 9ms/step\n",
      "Epoch 397/500\n",
      "2/2 - 0s - loss: 16.6414 - mean_squared_error: 16.6414 - mean_absolute_error: 3.4203 - 17ms/epoch - 8ms/step\n",
      "Epoch 398/500\n",
      "2/2 - 0s - loss: 16.6991 - mean_squared_error: 16.6991 - mean_absolute_error: 3.4256 - 18ms/epoch - 9ms/step\n",
      "Epoch 399/500\n",
      "2/2 - 0s - loss: 16.5408 - mean_squared_error: 16.5408 - mean_absolute_error: 3.4071 - 18ms/epoch - 9ms/step\n",
      "Epoch 400/500\n",
      "2/2 - 0s - loss: 16.9846 - mean_squared_error: 16.9846 - mean_absolute_error: 3.4375 - val_loss: 37.7705 - val_mean_squared_error: 37.7705 - val_mean_absolute_error: 6.0204 - 43ms/epoch - 21ms/step\n",
      "Epoch 401/500\n",
      "2/2 - 0s - loss: 16.5583 - mean_squared_error: 16.5583 - mean_absolute_error: 3.4070 - 17ms/epoch - 8ms/step\n",
      "Epoch 402/500\n",
      "2/2 - 0s - loss: 16.5347 - mean_squared_error: 16.5347 - mean_absolute_error: 3.4085 - 18ms/epoch - 9ms/step\n",
      "Epoch 403/500\n",
      "2/2 - 0s - loss: 16.5552 - mean_squared_error: 16.5552 - mean_absolute_error: 3.4078 - 19ms/epoch - 9ms/step\n",
      "Epoch 404/500\n",
      "2/2 - 0s - loss: 16.6057 - mean_squared_error: 16.6057 - mean_absolute_error: 3.4135 - 17ms/epoch - 8ms/step\n",
      "Epoch 405/500\n",
      "2/2 - 0s - loss: 16.5240 - mean_squared_error: 16.5240 - mean_absolute_error: 3.4044 - 19ms/epoch - 9ms/step\n",
      "Epoch 406/500\n",
      "2/2 - 0s - loss: 16.6860 - mean_squared_error: 16.6860 - mean_absolute_error: 3.4192 - 18ms/epoch - 9ms/step\n",
      "Epoch 407/500\n",
      "2/2 - 0s - loss: 16.5415 - mean_squared_error: 16.5415 - mean_absolute_error: 3.4087 - 17ms/epoch - 8ms/step\n",
      "Epoch 408/500\n",
      "2/2 - 0s - loss: 17.0717 - mean_squared_error: 17.0717 - mean_absolute_error: 3.4653 - 19ms/epoch - 9ms/step\n",
      "Epoch 409/500\n",
      "2/2 - 0s - loss: 16.9698 - mean_squared_error: 16.9698 - mean_absolute_error: 3.4493 - 17ms/epoch - 8ms/step\n",
      "Epoch 410/500\n",
      "2/2 - 0s - loss: 16.6548 - mean_squared_error: 16.6548 - mean_absolute_error: 3.4183 - 18ms/epoch - 9ms/step\n",
      "Epoch 411/500\n",
      "2/2 - 0s - loss: 16.5697 - mean_squared_error: 16.5697 - mean_absolute_error: 3.4011 - 18ms/epoch - 9ms/step\n",
      "Epoch 412/500\n",
      "2/2 - 0s - loss: 16.7711 - mean_squared_error: 16.7711 - mean_absolute_error: 3.4194 - 18ms/epoch - 9ms/step\n",
      "Epoch 413/500\n",
      "2/2 - 0s - loss: 16.6518 - mean_squared_error: 16.6518 - mean_absolute_error: 3.4191 - 18ms/epoch - 9ms/step\n",
      "Epoch 414/500\n",
      "2/2 - 0s - loss: 16.4921 - mean_squared_error: 16.4921 - mean_absolute_error: 3.3970 - 17ms/epoch - 8ms/step\n",
      "Epoch 415/500\n",
      "2/2 - 0s - loss: 16.9478 - mean_squared_error: 16.9478 - mean_absolute_error: 3.4417 - 18ms/epoch - 9ms/step\n",
      "Epoch 416/500\n",
      "2/2 - 0s - loss: 16.5284 - mean_squared_error: 16.5284 - mean_absolute_error: 3.4145 - 21ms/epoch - 10ms/step\n",
      "Epoch 417/500\n",
      "2/2 - 0s - loss: 17.0590 - mean_squared_error: 17.0590 - mean_absolute_error: 3.4683 - 18ms/epoch - 9ms/step\n",
      "Epoch 418/500\n",
      "2/2 - 0s - loss: 16.4488 - mean_squared_error: 16.4488 - mean_absolute_error: 3.3909 - 19ms/epoch - 9ms/step\n",
      "Epoch 419/500\n",
      "2/2 - 0s - loss: 16.8947 - mean_squared_error: 16.8947 - mean_absolute_error: 3.4288 - 22ms/epoch - 11ms/step\n",
      "Epoch 420/500\n",
      "2/2 - 0s - loss: 16.4818 - mean_squared_error: 16.4818 - mean_absolute_error: 3.4048 - 22ms/epoch - 11ms/step\n",
      "Epoch 421/500\n",
      "2/2 - 0s - loss: 16.7336 - mean_squared_error: 16.7336 - mean_absolute_error: 3.4307 - 22ms/epoch - 11ms/step\n",
      "Epoch 422/500\n",
      "2/2 - 0s - loss: 16.4719 - mean_squared_error: 16.4719 - mean_absolute_error: 3.4074 - 21ms/epoch - 10ms/step\n",
      "Epoch 423/500\n",
      "2/2 - 0s - loss: 16.7159 - mean_squared_error: 16.7159 - mean_absolute_error: 3.4052 - 22ms/epoch - 11ms/step\n",
      "Epoch 424/500\n",
      "2/2 - 0s - loss: 16.4170 - mean_squared_error: 16.4170 - mean_absolute_error: 3.3796 - 19ms/epoch - 9ms/step\n",
      "Epoch 425/500\n",
      "2/2 - 0s - loss: 16.7278 - mean_squared_error: 16.7278 - mean_absolute_error: 3.4014 - 18ms/epoch - 9ms/step\n",
      "Epoch 426/500\n",
      "2/2 - 0s - loss: 16.5933 - mean_squared_error: 16.5933 - mean_absolute_error: 3.3883 - 19ms/epoch - 9ms/step\n",
      "Epoch 427/500\n",
      "2/2 - 0s - loss: 16.5788 - mean_squared_error: 16.5788 - mean_absolute_error: 3.3832 - 18ms/epoch - 9ms/step\n",
      "Epoch 428/500\n",
      "2/2 - 0s - loss: 16.5967 - mean_squared_error: 16.5967 - mean_absolute_error: 3.3875 - 18ms/epoch - 9ms/step\n",
      "Epoch 429/500\n",
      "2/2 - 0s - loss: 16.4782 - mean_squared_error: 16.4782 - mean_absolute_error: 3.3936 - 19ms/epoch - 9ms/step\n",
      "Epoch 430/500\n",
      "2/2 - 0s - loss: 16.7177 - mean_squared_error: 16.7177 - mean_absolute_error: 3.4171 - 17ms/epoch - 8ms/step\n",
      "Epoch 431/500\n",
      "2/2 - 0s - loss: 17.3530 - mean_squared_error: 17.3530 - mean_absolute_error: 3.4904 - 19ms/epoch - 9ms/step\n",
      "Epoch 432/500\n",
      "2/2 - 0s - loss: 16.6183 - mean_squared_error: 16.6183 - mean_absolute_error: 3.3952 - 18ms/epoch - 9ms/step\n",
      "Epoch 433/500\n",
      "2/2 - 0s - loss: 17.5816 - mean_squared_error: 17.5816 - mean_absolute_error: 3.5054 - 18ms/epoch - 9ms/step\n",
      "Epoch 434/500\n",
      "2/2 - 0s - loss: 17.2474 - mean_squared_error: 17.2474 - mean_absolute_error: 3.4845 - 20ms/epoch - 10ms/step\n",
      "Epoch 435/500\n",
      "2/2 - 0s - loss: 17.0621 - mean_squared_error: 17.0621 - mean_absolute_error: 3.4279 - 18ms/epoch - 9ms/step\n",
      "Epoch 436/500\n",
      "2/2 - 0s - loss: 16.8677 - mean_squared_error: 16.8677 - mean_absolute_error: 3.4550 - 18ms/epoch - 9ms/step\n",
      "Epoch 437/500\n",
      "2/2 - 0s - loss: 16.7787 - mean_squared_error: 16.7787 - mean_absolute_error: 3.4268 - 18ms/epoch - 9ms/step\n",
      "Epoch 438/500\n",
      "2/2 - 0s - loss: 16.3996 - mean_squared_error: 16.3996 - mean_absolute_error: 3.3908 - 17ms/epoch - 8ms/step\n",
      "Epoch 439/500\n",
      "2/2 - 0s - loss: 16.9713 - mean_squared_error: 16.9713 - mean_absolute_error: 3.4208 - 19ms/epoch - 9ms/step\n",
      "Epoch 440/500\n",
      "2/2 - 0s - loss: 16.8990 - mean_squared_error: 16.8990 - mean_absolute_error: 3.4490 - 18ms/epoch - 9ms/step\n",
      "Epoch 441/500\n",
      "2/2 - 0s - loss: 16.4408 - mean_squared_error: 16.4408 - mean_absolute_error: 3.3990 - 17ms/epoch - 8ms/step\n",
      "Epoch 442/500\n",
      "2/2 - 0s - loss: 16.9842 - mean_squared_error: 16.9843 - mean_absolute_error: 3.4207 - 20ms/epoch - 10ms/step\n",
      "Epoch 443/500\n",
      "2/2 - 0s - loss: 16.5825 - mean_squared_error: 16.5825 - mean_absolute_error: 3.4030 - 18ms/epoch - 9ms/step\n",
      "Epoch 444/500\n",
      "2/2 - 0s - loss: 16.6654 - mean_squared_error: 16.6654 - mean_absolute_error: 3.4030 - 18ms/epoch - 9ms/step\n",
      "Epoch 445/500\n",
      "2/2 - 0s - loss: 16.5037 - mean_squared_error: 16.5037 - mean_absolute_error: 3.3894 - 19ms/epoch - 9ms/step\n",
      "Epoch 446/500\n",
      "2/2 - 0s - loss: 16.4946 - mean_squared_error: 16.4946 - mean_absolute_error: 3.3906 - 18ms/epoch - 9ms/step\n",
      "Epoch 447/500\n",
      "2/2 - 0s - loss: 16.4365 - mean_squared_error: 16.4365 - mean_absolute_error: 3.3923 - 18ms/epoch - 9ms/step\n",
      "Epoch 448/500\n",
      "2/2 - 0s - loss: 16.4120 - mean_squared_error: 16.4120 - mean_absolute_error: 3.3968 - 18ms/epoch - 9ms/step\n",
      "Epoch 449/500\n",
      "2/2 - 0s - loss: 16.4413 - mean_squared_error: 16.4413 - mean_absolute_error: 3.4033 - 19ms/epoch - 9ms/step\n",
      "Epoch 450/500\n",
      "2/2 - 0s - loss: 16.4349 - mean_squared_error: 16.4349 - mean_absolute_error: 3.4021 - 18ms/epoch - 9ms/step\n",
      "Epoch 451/500\n",
      "2/2 - 0s - loss: 16.7164 - mean_squared_error: 16.7164 - mean_absolute_error: 3.4114 - 20ms/epoch - 10ms/step\n",
      "Epoch 452/500\n",
      "2/2 - 0s - loss: 16.6663 - mean_squared_error: 16.6663 - mean_absolute_error: 3.4075 - 18ms/epoch - 9ms/step\n",
      "Epoch 453/500\n",
      "2/2 - 0s - loss: 16.5237 - mean_squared_error: 16.5237 - mean_absolute_error: 3.4034 - 18ms/epoch - 9ms/step\n",
      "Epoch 454/500\n",
      "2/2 - 0s - loss: 16.4103 - mean_squared_error: 16.4103 - mean_absolute_error: 3.3926 - 18ms/epoch - 9ms/step\n",
      "Epoch 455/500\n",
      "2/2 - 0s - loss: 16.5537 - mean_squared_error: 16.5537 - mean_absolute_error: 3.4099 - 17ms/epoch - 8ms/step\n",
      "Epoch 456/500\n",
      "2/2 - 0s - loss: 17.4131 - mean_squared_error: 17.4131 - mean_absolute_error: 3.4744 - 17ms/epoch - 8ms/step\n",
      "Epoch 457/500\n",
      "2/2 - 0s - loss: 16.6125 - mean_squared_error: 16.6125 - mean_absolute_error: 3.4023 - 18ms/epoch - 9ms/step\n",
      "Epoch 458/500\n",
      "2/2 - 0s - loss: 16.8816 - mean_squared_error: 16.8816 - mean_absolute_error: 3.4432 - 18ms/epoch - 9ms/step\n",
      "Epoch 459/500\n",
      "2/2 - 0s - loss: 16.4614 - mean_squared_error: 16.4614 - mean_absolute_error: 3.4043 - 19ms/epoch - 9ms/step\n",
      "Epoch 460/500\n",
      "2/2 - 0s - loss: 16.9810 - mean_squared_error: 16.9810 - mean_absolute_error: 3.4144 - 17ms/epoch - 8ms/step\n",
      "Epoch 461/500\n",
      "2/2 - 0s - loss: 16.1543 - mean_squared_error: 16.1543 - mean_absolute_error: 3.3721 - 18ms/epoch - 9ms/step\n",
      "Epoch 462/500\n",
      "2/2 - 0s - loss: 17.6133 - mean_squared_error: 17.6133 - mean_absolute_error: 3.4830 - 18ms/epoch - 9ms/step\n",
      "Epoch 463/500\n",
      "2/2 - 0s - loss: 16.7807 - mean_squared_error: 16.7807 - mean_absolute_error: 3.4274 - 17ms/epoch - 8ms/step\n",
      "Epoch 464/500\n",
      "2/2 - 0s - loss: 17.3701 - mean_squared_error: 17.3701 - mean_absolute_error: 3.4258 - 19ms/epoch - 9ms/step\n",
      "Epoch 465/500\n",
      "2/2 - 0s - loss: 17.6136 - mean_squared_error: 17.6136 - mean_absolute_error: 3.4908 - 18ms/epoch - 9ms/step\n",
      "Epoch 466/500\n",
      "2/2 - 0s - loss: 17.2397 - mean_squared_error: 17.2397 - mean_absolute_error: 3.4679 - 18ms/epoch - 9ms/step\n",
      "Epoch 467/500\n",
      "2/2 - 0s - loss: 16.6897 - mean_squared_error: 16.6897 - mean_absolute_error: 3.3964 - 18ms/epoch - 9ms/step\n",
      "Epoch 468/500\n",
      "2/2 - 0s - loss: 16.4471 - mean_squared_error: 16.4471 - mean_absolute_error: 3.3743 - 17ms/epoch - 8ms/step\n",
      "Epoch 469/500\n",
      "2/2 - 0s - loss: 16.9326 - mean_squared_error: 16.9326 - mean_absolute_error: 3.4262 - 21ms/epoch - 10ms/step\n",
      "Epoch 470/500\n",
      "2/2 - 0s - loss: 16.5466 - mean_squared_error: 16.5466 - mean_absolute_error: 3.3990 - 18ms/epoch - 9ms/step\n",
      "Epoch 471/500\n",
      "2/2 - 0s - loss: 16.5884 - mean_squared_error: 16.5884 - mean_absolute_error: 3.3929 - 20ms/epoch - 10ms/step\n",
      "Epoch 472/500\n",
      "2/2 - 0s - loss: 17.2843 - mean_squared_error: 17.2843 - mean_absolute_error: 3.4132 - 19ms/epoch - 9ms/step\n",
      "Epoch 473/500\n",
      "2/2 - 0s - loss: 16.5936 - mean_squared_error: 16.5936 - mean_absolute_error: 3.4213 - 19ms/epoch - 9ms/step\n",
      "Epoch 474/500\n",
      "2/2 - 0s - loss: 17.0692 - mean_squared_error: 17.0692 - mean_absolute_error: 3.4477 - 16ms/epoch - 8ms/step\n",
      "Epoch 475/500\n",
      "2/2 - 0s - loss: 16.2833 - mean_squared_error: 16.2833 - mean_absolute_error: 3.3855 - 19ms/epoch - 9ms/step\n",
      "Epoch 476/500\n",
      "2/2 - 0s - loss: 16.6784 - mean_squared_error: 16.6784 - mean_absolute_error: 3.4023 - 18ms/epoch - 9ms/step\n",
      "Epoch 477/500\n",
      "2/2 - 0s - loss: 16.2699 - mean_squared_error: 16.2699 - mean_absolute_error: 3.3952 - 18ms/epoch - 9ms/step\n",
      "Epoch 478/500\n",
      "2/2 - 0s - loss: 16.3562 - mean_squared_error: 16.3562 - mean_absolute_error: 3.4056 - 18ms/epoch - 9ms/step\n",
      "Epoch 479/500\n",
      "2/2 - 0s - loss: 16.3419 - mean_squared_error: 16.3419 - mean_absolute_error: 3.4036 - 17ms/epoch - 8ms/step\n",
      "Epoch 480/500\n",
      "2/2 - 0s - loss: 16.3776 - mean_squared_error: 16.3776 - mean_absolute_error: 3.3861 - 18ms/epoch - 9ms/step\n",
      "Epoch 481/500\n",
      "2/2 - 0s - loss: 16.2707 - mean_squared_error: 16.2707 - mean_absolute_error: 3.3836 - 18ms/epoch - 9ms/step\n",
      "Epoch 482/500\n",
      "2/2 - 0s - loss: 16.3764 - mean_squared_error: 16.3764 - mean_absolute_error: 3.3902 - 17ms/epoch - 8ms/step\n",
      "Epoch 483/500\n",
      "2/2 - 0s - loss: 16.3678 - mean_squared_error: 16.3678 - mean_absolute_error: 3.3881 - 19ms/epoch - 9ms/step\n",
      "Epoch 484/500\n",
      "2/2 - 0s - loss: 16.3650 - mean_squared_error: 16.3650 - mean_absolute_error: 3.3816 - 17ms/epoch - 8ms/step\n",
      "Epoch 485/500\n",
      "2/2 - 0s - loss: 16.4086 - mean_squared_error: 16.4086 - mean_absolute_error: 3.3791 - 18ms/epoch - 9ms/step\n",
      "Epoch 486/500\n",
      "2/2 - 0s - loss: 16.5125 - mean_squared_error: 16.5125 - mean_absolute_error: 3.4000 - 21ms/epoch - 10ms/step\n",
      "Epoch 487/500\n",
      "2/2 - 0s - loss: 16.5724 - mean_squared_error: 16.5724 - mean_absolute_error: 3.4033 - 17ms/epoch - 8ms/step\n",
      "Epoch 488/500\n",
      "2/2 - 0s - loss: 16.7944 - mean_squared_error: 16.7944 - mean_absolute_error: 3.4135 - 18ms/epoch - 9ms/step\n",
      "Epoch 489/500\n",
      "2/2 - 0s - loss: 16.2506 - mean_squared_error: 16.2506 - mean_absolute_error: 3.3772 - 18ms/epoch - 9ms/step\n",
      "Epoch 490/500\n",
      "2/2 - 0s - loss: 16.5106 - mean_squared_error: 16.5106 - mean_absolute_error: 3.4028 - 17ms/epoch - 8ms/step\n",
      "Epoch 491/500\n",
      "2/2 - 0s - loss: 16.3749 - mean_squared_error: 16.3749 - mean_absolute_error: 3.3930 - 24ms/epoch - 12ms/step\n",
      "Epoch 492/500\n",
      "2/2 - 0s - loss: 16.3843 - mean_squared_error: 16.3843 - mean_absolute_error: 3.3740 - 19ms/epoch - 9ms/step\n",
      "Epoch 493/500\n",
      "2/2 - 0s - loss: 16.2110 - mean_squared_error: 16.2110 - mean_absolute_error: 3.3616 - 17ms/epoch - 8ms/step\n",
      "Epoch 494/500\n",
      "2/2 - 0s - loss: 16.3841 - mean_squared_error: 16.3841 - mean_absolute_error: 3.3793 - 20ms/epoch - 10ms/step\n",
      "Epoch 495/500\n",
      "2/2 - 0s - loss: 16.2730 - mean_squared_error: 16.2730 - mean_absolute_error: 3.3722 - 19ms/epoch - 9ms/step\n",
      "Epoch 496/500\n",
      "2/2 - 0s - loss: 16.3309 - mean_squared_error: 16.3309 - mean_absolute_error: 3.3713 - 20ms/epoch - 10ms/step\n",
      "Epoch 497/500\n",
      "2/2 - 0s - loss: 16.4291 - mean_squared_error: 16.4291 - mean_absolute_error: 3.4012 - 19ms/epoch - 9ms/step\n",
      "Epoch 498/500\n",
      "2/2 - 0s - loss: 16.2499 - mean_squared_error: 16.2499 - mean_absolute_error: 3.3940 - 18ms/epoch - 9ms/step\n",
      "Epoch 499/500\n",
      "2/2 - 0s - loss: 16.4945 - mean_squared_error: 16.4945 - mean_absolute_error: 3.3951 - 18ms/epoch - 9ms/step\n",
      "Epoch 500/500\n",
      "2/2 - 0s - loss: 16.1083 - mean_squared_error: 16.1083 - mean_absolute_error: 3.3792 - val_loss: 37.5562 - val_mean_squared_error: 37.5562 - val_mean_absolute_error: 6.0040 - 42ms/epoch - 21ms/step\n"
     ]
    }
   ],
   "source": [
    "##### Step 5 - Fit the model on the dataset\n",
    "history = model.fit(X_train, # input data\n",
    "                    Y_train, # target data\n",
    "                    batch_size=None, # Number of samples per gradient update. If unspecified, batch_size will default to 32.\n",
    "                    epochs=500, # default=1, Number of epochs to train the model. An epoch is an iteration over the entire x and y data provided\n",
    "                    verbose=2, # default='auto', ('auto', 0, 1, or 2). Verbosity mode. 0 = silent, 1 = progress bar, 2 = one line per epoch. 'auto' defaults to 1 for most cases, but 2 when used with ParameterServerStrategy.\n",
    "                    callbacks=None, # default=None, list of callbacks to apply during training. See tf.keras.callbacks\n",
    "                    validation_split=0.2, # default=0.0, Fraction of the training data to be used as validation data. The model will set apart this fraction of the training data, will not train on it, and will evaluate the loss and any model metrics on this data at the end of each epoch. \n",
    "                    #validation_data=(X_test, y_test), # default=None, Data on which to evaluate the loss and any model metrics at the end of each epoch. \n",
    "                    shuffle=True, # default=True, Boolean (whether to shuffle the training data before each epoch) or str (for 'batch').\n",
    "                    class_weight=None, # default=None, Optional dictionary mapping class indices (integers) to a weight (float) value, used for weighting the loss function (during training only). This can be useful to tell the model to \"pay more attention\" to samples from an under-represented class.\n",
    "                    sample_weight=None, # default=None, Optional Numpy array of weights for the training samples, used for weighting the loss function (during training only).\n",
    "                    initial_epoch=0, # Integer, default=0, Epoch at which to start training (useful for resuming a previous training run).\n",
    "                    steps_per_epoch=None, # Integer or None, default=None, Total number of steps (batches of samples) before declaring one epoch finished and starting the next epoch. When training with input tensors such as TensorFlow data tensors, the default None is equal to the number of samples in your dataset divided by the batch size, or 1 if that cannot be determined. \n",
    "                    validation_steps=None, # Only relevant if validation_data is provided and is a tf.data dataset. Total number of steps (batches of samples) to draw before stopping when performing validation at the end of every epoch.\n",
    "                    validation_batch_size=None, # Integer or None, default=None, Number of samples per validation batch. If unspecified, will default to batch_size.\n",
    "                    validation_freq=100, # default=1, Only relevant if validation data is provided. If an integer, specifies how many training epochs to run before a new validation run is performed, e.g. validation_freq=2 runs validation every 2 epochs.\n",
    "                    max_queue_size=10, # default=10, Used for generator or keras.utils.Sequence input only. Maximum size for the generator queue. If unspecified, max_queue_size will default to 10.\n",
    "                    workers=1, # default=1, Used for generator or keras.utils.Sequence input only. Maximum number of processes to spin up when using process-based threading. If unspecified, workers will default to 1.\n",
    "                    use_multiprocessing=True, # default=False, Used for generator or keras.utils.Sequence input only. If True, use process-based threading. If unspecified, use_multiprocessing will default to False. \n",
    "                \n",
    "                   )\n"
   ]
  },
  {
   "cell_type": "code",
   "execution_count": 54,
   "metadata": {},
   "outputs": [
    {
     "name": "stdout",
     "output_type": "stream",
     "text": [
      "3/3 [==============================] - 0s 3ms/step\n",
      "1/1 [==============================] - 0s 19ms/step\n"
     ]
    }
   ],
   "source": [
    "##### Step 6 - Use model to make predictions\n",
    "# Predict results on training data\n",
    "pred_train = model.predict(X_train)\n",
    "# Predict esults on test data\n",
    "pred_test = model.predict(X_test)"
   ]
  },
  {
   "cell_type": "code",
   "execution_count": 55,
   "metadata": {},
   "outputs": [
    {
     "name": "stdout",
     "output_type": "stream",
     "text": [
      "\n",
      "-------------------- Model Summary --------------------\n",
      "Model: \"CNN-Model\"\n",
      "_________________________________________________________________\n",
      " Layer (type)                Output Shape              Param #   \n",
      "=================================================================\n",
      " conv1d_8 (Conv1D)           (None, 10, 32)            64        \n",
      "                                                                 \n",
      " max_pooling1d_8 (MaxPooling  (None, 10, 32)           0         \n",
      " 1D)                                                             \n",
      "                                                                 \n",
      " conv1d_9 (Conv1D)           (None, 10, 64)            2112      \n",
      "                                                                 \n",
      " max_pooling1d_9 (MaxPooling  (None, 10, 64)           0         \n",
      " 1D)                                                             \n",
      "                                                                 \n",
      " conv1d_10 (Conv1D)          (None, 10, 128)           8320      \n",
      "                                                                 \n",
      " max_pooling1d_10 (MaxPoolin  (None, 10, 128)          0         \n",
      " g1D)                                                            \n",
      "                                                                 \n",
      " conv1d_11 (Conv1D)          (None, 10, 256)           33024     \n",
      "                                                                 \n",
      " max_pooling1d_11 (MaxPoolin  (None, 10, 256)          0         \n",
      " g1D)                                                            \n",
      "                                                                 \n",
      " conv1d_12 (Conv1D)          (None, 10, 512)           131584    \n",
      "                                                                 \n",
      " max_pooling1d_12 (MaxPoolin  (None, 10, 512)          0         \n",
      " g1D)                                                            \n",
      "                                                                 \n",
      " dense_3 (Dense)             (None, 10, 1)             513       \n",
      "                                                                 \n",
      "=================================================================\n",
      "Total params: 175,617\n",
      "Trainable params: 175,617\n",
      "Non-trainable params: 0\n",
      "_________________________________________________________________\n",
      "\n",
      "-------------------- Weights and Biases --------------------\n",
      "Too many parameters to print but you can use the code provided if needed\n",
      "\n",
      "-------------------- Evaluation on Training Data --------------------\n",
      "Final loss : 16.108320236206055\n",
      "Final mean_squared_error : 16.108320236206055\n",
      "Final mean_absolute_error : 3.3792450428009033\n",
      "Final val_loss : 37.55617141723633\n",
      "Final val_mean_squared_error : 37.55617141723633\n",
      "Final val_mean_absolute_error : 6.004031658172607\n",
      "\n",
      "-------------------- Evaluation on Test Data --------------------\n",
      "1/1 [==============================] - 0s 25ms/step - loss: 256.5983 - mean_squared_error: 256.5983 - mean_absolute_error: 15.9808\n",
      "\n"
     ]
    }
   ],
   "source": [
    "##### Step 7 - Print Performance Summary\n",
    "print(\"\")\n",
    "print('-------------------- Model Summary --------------------')\n",
    "model.summary() # print model summary\n",
    "print(\"\")\n",
    "print('-------------------- Weights and Biases --------------------')\n",
    "print(\"Too many parameters to print but you can use the code provided if needed\")\n",
    "print(\"\")\n",
    "#for layer in model.layers:\n",
    "#    print(layer.name)\n",
    "#    for item in layer.get_weights():\n",
    "#        print(\"  \", item)\n",
    "#print(\"\")\n",
    "\n",
    "# Print the last value in the evaluation metrics contained within history file\n",
    "print('-------------------- Evaluation on Training Data --------------------')\n",
    "for item in history.history:\n",
    "    print(\"Final\", item, \":\", history.history[item][-1])\n",
    "print(\"\")\n",
    "\n",
    "# Evaluate the model on the test data using \"evaluate\"\n",
    "print('-------------------- Evaluation on Test Data --------------------')\n",
    "results = model.evaluate(X_test, Y_test)\n",
    "print(\"\")"
   ]
  },
  {
   "cell_type": "code",
   "execution_count": 56,
   "metadata": {},
   "outputs": [
    {
     "data": {
      "application/vnd.plotly.v1+json": {
       "config": {
        "plotlyServerURL": "https://plot.ly"
       },
       "data": [
        {
         "line": {
          "color": "black",
          "width": 1
         },
         "mode": "lines",
         "name": "Subsidence - Actual (Test)",
         "opacity": 0.8,
         "type": "scatter",
         "x": [
          "2018-05-27T00:00:00.000000000",
          "2018-06-08T00:00:00.000000000",
          "2018-06-20T00:00:00.000000000",
          "2018-07-02T00:00:00.000000000",
          "2018-07-14T00:00:00.000000000",
          "2018-07-26T00:00:00.000000000",
          "2018-08-07T00:00:00.000000000",
          "2018-08-19T00:00:00.000000000",
          "2018-08-31T00:00:00.000000000",
          "2018-09-12T00:00:00.000000000",
          "2018-09-24T00:00:00.000000000",
          "2018-10-06T00:00:00.000000000",
          "2018-10-18T00:00:00.000000000",
          "2018-10-30T00:00:00.000000000",
          "2018-11-11T00:00:00.000000000",
          "2018-11-17T00:00:00.000000000",
          "2018-11-23T00:00:00.000000000",
          "2018-12-05T00:00:00.000000000",
          "2018-12-17T00:00:00.000000000",
          "2018-12-29T00:00:00.000000000",
          "2019-01-10T00:00:00.000000000",
          "2019-01-22T00:00:00.000000000"
         ],
         "y": [
          -46.303,
          -46.266,
          -49.379,
          -48.562,
          -49.459,
          null,
          -50.406,
          -52.09,
          -53.942,
          -54.471,
          -52.947,
          -56.31,
          -54.522,
          -54.411,
          -53.782,
          -53.387,
          -53.708,
          -53.692,
          -52.643,
          -52.086,
          -53.301,
          -52.878
         ]
        },
        {
         "line": {
          "color": "red",
          "width": 1
         },
         "mode": "lines",
         "name": "Subsidence - Predicted (Test)",
         "opacity": 0.8,
         "type": "scatter",
         "x": [
          "2018-10-18T00:00:00.000000000",
          "2018-10-30T00:00:00.000000000",
          "2018-11-11T00:00:00.000000000",
          "2018-11-17T00:00:00.000000000",
          "2018-11-23T00:00:00.000000000",
          "2018-12-05T00:00:00.000000000",
          "2018-12-17T00:00:00.000000000",
          "2018-12-29T00:00:00.000000000",
          "2019-01-10T00:00:00.000000000",
          "2019-01-22T00:00:00.000000000"
         ],
         "y": [
          -37.43990707397461,
          -37.43798828125,
          -37.579803466796875,
          -37.546165466308594,
          -37.582977294921875,
          -38.11958694458008,
          -37.618953704833984,
          -37.67645263671875,
          -37.731388092041016,
          -37.74568557739258,
          -37.43798828125,
          -37.579803466796875,
          -37.546165466308594,
          -37.582977294921875,
          -38.11958694458008,
          -37.618953704833984,
          -37.67645263671875,
          -37.731388092041016,
          -37.74568557739258,
          -37.7028694152832,
          -37.579803466796875,
          -37.546165466308594,
          -37.582977294921875,
          -38.11958694458008,
          -37.618953704833984,
          -37.67645263671875,
          -37.731388092041016,
          -37.74568557739258,
          -37.7028694152832,
          -37.79113006591797
         ]
        }
       ],
       "layout": {
        "legend": {
         "orientation": "h",
         "x": 1,
         "xanchor": "right",
         "y": 1.02,
         "yanchor": "bottom"
        },
        "plot_bgcolor": "white",
        "template": {
         "data": {
          "bar": [
           {
            "error_x": {
             "color": "#2a3f5f"
            },
            "error_y": {
             "color": "#2a3f5f"
            },
            "marker": {
             "line": {
              "color": "#E5ECF6",
              "width": 0.5
             },
             "pattern": {
              "fillmode": "overlay",
              "size": 10,
              "solidity": 0.2
             }
            },
            "type": "bar"
           }
          ],
          "barpolar": [
           {
            "marker": {
             "line": {
              "color": "#E5ECF6",
              "width": 0.5
             },
             "pattern": {
              "fillmode": "overlay",
              "size": 10,
              "solidity": 0.2
             }
            },
            "type": "barpolar"
           }
          ],
          "carpet": [
           {
            "aaxis": {
             "endlinecolor": "#2a3f5f",
             "gridcolor": "white",
             "linecolor": "white",
             "minorgridcolor": "white",
             "startlinecolor": "#2a3f5f"
            },
            "baxis": {
             "endlinecolor": "#2a3f5f",
             "gridcolor": "white",
             "linecolor": "white",
             "minorgridcolor": "white",
             "startlinecolor": "#2a3f5f"
            },
            "type": "carpet"
           }
          ],
          "choropleth": [
           {
            "colorbar": {
             "outlinewidth": 0,
             "ticks": ""
            },
            "type": "choropleth"
           }
          ],
          "contour": [
           {
            "colorbar": {
             "outlinewidth": 0,
             "ticks": ""
            },
            "colorscale": [
             [
              0,
              "#0d0887"
             ],
             [
              0.1111111111111111,
              "#46039f"
             ],
             [
              0.2222222222222222,
              "#7201a8"
             ],
             [
              0.3333333333333333,
              "#9c179e"
             ],
             [
              0.4444444444444444,
              "#bd3786"
             ],
             [
              0.5555555555555556,
              "#d8576b"
             ],
             [
              0.6666666666666666,
              "#ed7953"
             ],
             [
              0.7777777777777778,
              "#fb9f3a"
             ],
             [
              0.8888888888888888,
              "#fdca26"
             ],
             [
              1,
              "#f0f921"
             ]
            ],
            "type": "contour"
           }
          ],
          "contourcarpet": [
           {
            "colorbar": {
             "outlinewidth": 0,
             "ticks": ""
            },
            "type": "contourcarpet"
           }
          ],
          "heatmap": [
           {
            "colorbar": {
             "outlinewidth": 0,
             "ticks": ""
            },
            "colorscale": [
             [
              0,
              "#0d0887"
             ],
             [
              0.1111111111111111,
              "#46039f"
             ],
             [
              0.2222222222222222,
              "#7201a8"
             ],
             [
              0.3333333333333333,
              "#9c179e"
             ],
             [
              0.4444444444444444,
              "#bd3786"
             ],
             [
              0.5555555555555556,
              "#d8576b"
             ],
             [
              0.6666666666666666,
              "#ed7953"
             ],
             [
              0.7777777777777778,
              "#fb9f3a"
             ],
             [
              0.8888888888888888,
              "#fdca26"
             ],
             [
              1,
              "#f0f921"
             ]
            ],
            "type": "heatmap"
           }
          ],
          "heatmapgl": [
           {
            "colorbar": {
             "outlinewidth": 0,
             "ticks": ""
            },
            "colorscale": [
             [
              0,
              "#0d0887"
             ],
             [
              0.1111111111111111,
              "#46039f"
             ],
             [
              0.2222222222222222,
              "#7201a8"
             ],
             [
              0.3333333333333333,
              "#9c179e"
             ],
             [
              0.4444444444444444,
              "#bd3786"
             ],
             [
              0.5555555555555556,
              "#d8576b"
             ],
             [
              0.6666666666666666,
              "#ed7953"
             ],
             [
              0.7777777777777778,
              "#fb9f3a"
             ],
             [
              0.8888888888888888,
              "#fdca26"
             ],
             [
              1,
              "#f0f921"
             ]
            ],
            "type": "heatmapgl"
           }
          ],
          "histogram": [
           {
            "marker": {
             "pattern": {
              "fillmode": "overlay",
              "size": 10,
              "solidity": 0.2
             }
            },
            "type": "histogram"
           }
          ],
          "histogram2d": [
           {
            "colorbar": {
             "outlinewidth": 0,
             "ticks": ""
            },
            "colorscale": [
             [
              0,
              "#0d0887"
             ],
             [
              0.1111111111111111,
              "#46039f"
             ],
             [
              0.2222222222222222,
              "#7201a8"
             ],
             [
              0.3333333333333333,
              "#9c179e"
             ],
             [
              0.4444444444444444,
              "#bd3786"
             ],
             [
              0.5555555555555556,
              "#d8576b"
             ],
             [
              0.6666666666666666,
              "#ed7953"
             ],
             [
              0.7777777777777778,
              "#fb9f3a"
             ],
             [
              0.8888888888888888,
              "#fdca26"
             ],
             [
              1,
              "#f0f921"
             ]
            ],
            "type": "histogram2d"
           }
          ],
          "histogram2dcontour": [
           {
            "colorbar": {
             "outlinewidth": 0,
             "ticks": ""
            },
            "colorscale": [
             [
              0,
              "#0d0887"
             ],
             [
              0.1111111111111111,
              "#46039f"
             ],
             [
              0.2222222222222222,
              "#7201a8"
             ],
             [
              0.3333333333333333,
              "#9c179e"
             ],
             [
              0.4444444444444444,
              "#bd3786"
             ],
             [
              0.5555555555555556,
              "#d8576b"
             ],
             [
              0.6666666666666666,
              "#ed7953"
             ],
             [
              0.7777777777777778,
              "#fb9f3a"
             ],
             [
              0.8888888888888888,
              "#fdca26"
             ],
             [
              1,
              "#f0f921"
             ]
            ],
            "type": "histogram2dcontour"
           }
          ],
          "mesh3d": [
           {
            "colorbar": {
             "outlinewidth": 0,
             "ticks": ""
            },
            "type": "mesh3d"
           }
          ],
          "parcoords": [
           {
            "line": {
             "colorbar": {
              "outlinewidth": 0,
              "ticks": ""
             }
            },
            "type": "parcoords"
           }
          ],
          "pie": [
           {
            "automargin": true,
            "type": "pie"
           }
          ],
          "scatter": [
           {
            "fillpattern": {
             "fillmode": "overlay",
             "size": 10,
             "solidity": 0.2
            },
            "type": "scatter"
           }
          ],
          "scatter3d": [
           {
            "line": {
             "colorbar": {
              "outlinewidth": 0,
              "ticks": ""
             }
            },
            "marker": {
             "colorbar": {
              "outlinewidth": 0,
              "ticks": ""
             }
            },
            "type": "scatter3d"
           }
          ],
          "scattercarpet": [
           {
            "marker": {
             "colorbar": {
              "outlinewidth": 0,
              "ticks": ""
             }
            },
            "type": "scattercarpet"
           }
          ],
          "scattergeo": [
           {
            "marker": {
             "colorbar": {
              "outlinewidth": 0,
              "ticks": ""
             }
            },
            "type": "scattergeo"
           }
          ],
          "scattergl": [
           {
            "marker": {
             "colorbar": {
              "outlinewidth": 0,
              "ticks": ""
             }
            },
            "type": "scattergl"
           }
          ],
          "scattermapbox": [
           {
            "marker": {
             "colorbar": {
              "outlinewidth": 0,
              "ticks": ""
             }
            },
            "type": "scattermapbox"
           }
          ],
          "scatterpolar": [
           {
            "marker": {
             "colorbar": {
              "outlinewidth": 0,
              "ticks": ""
             }
            },
            "type": "scatterpolar"
           }
          ],
          "scatterpolargl": [
           {
            "marker": {
             "colorbar": {
              "outlinewidth": 0,
              "ticks": ""
             }
            },
            "type": "scatterpolargl"
           }
          ],
          "scatterternary": [
           {
            "marker": {
             "colorbar": {
              "outlinewidth": 0,
              "ticks": ""
             }
            },
            "type": "scatterternary"
           }
          ],
          "surface": [
           {
            "colorbar": {
             "outlinewidth": 0,
             "ticks": ""
            },
            "colorscale": [
             [
              0,
              "#0d0887"
             ],
             [
              0.1111111111111111,
              "#46039f"
             ],
             [
              0.2222222222222222,
              "#7201a8"
             ],
             [
              0.3333333333333333,
              "#9c179e"
             ],
             [
              0.4444444444444444,
              "#bd3786"
             ],
             [
              0.5555555555555556,
              "#d8576b"
             ],
             [
              0.6666666666666666,
              "#ed7953"
             ],
             [
              0.7777777777777778,
              "#fb9f3a"
             ],
             [
              0.8888888888888888,
              "#fdca26"
             ],
             [
              1,
              "#f0f921"
             ]
            ],
            "type": "surface"
           }
          ],
          "table": [
           {
            "cells": {
             "fill": {
              "color": "#EBF0F8"
             },
             "line": {
              "color": "white"
             }
            },
            "header": {
             "fill": {
              "color": "#C8D4E3"
             },
             "line": {
              "color": "white"
             }
            },
            "type": "table"
           }
          ]
         },
         "layout": {
          "annotationdefaults": {
           "arrowcolor": "#2a3f5f",
           "arrowhead": 0,
           "arrowwidth": 1
          },
          "autotypenumbers": "strict",
          "coloraxis": {
           "colorbar": {
            "outlinewidth": 0,
            "ticks": ""
           }
          },
          "colorscale": {
           "diverging": [
            [
             0,
             "#8e0152"
            ],
            [
             0.1,
             "#c51b7d"
            ],
            [
             0.2,
             "#de77ae"
            ],
            [
             0.3,
             "#f1b6da"
            ],
            [
             0.4,
             "#fde0ef"
            ],
            [
             0.5,
             "#f7f7f7"
            ],
            [
             0.6,
             "#e6f5d0"
            ],
            [
             0.7,
             "#b8e186"
            ],
            [
             0.8,
             "#7fbc41"
            ],
            [
             0.9,
             "#4d9221"
            ],
            [
             1,
             "#276419"
            ]
           ],
           "sequential": [
            [
             0,
             "#0d0887"
            ],
            [
             0.1111111111111111,
             "#46039f"
            ],
            [
             0.2222222222222222,
             "#7201a8"
            ],
            [
             0.3333333333333333,
             "#9c179e"
            ],
            [
             0.4444444444444444,
             "#bd3786"
            ],
            [
             0.5555555555555556,
             "#d8576b"
            ],
            [
             0.6666666666666666,
             "#ed7953"
            ],
            [
             0.7777777777777778,
             "#fb9f3a"
            ],
            [
             0.8888888888888888,
             "#fdca26"
            ],
            [
             1,
             "#f0f921"
            ]
           ],
           "sequentialminus": [
            [
             0,
             "#0d0887"
            ],
            [
             0.1111111111111111,
             "#46039f"
            ],
            [
             0.2222222222222222,
             "#7201a8"
            ],
            [
             0.3333333333333333,
             "#9c179e"
            ],
            [
             0.4444444444444444,
             "#bd3786"
            ],
            [
             0.5555555555555556,
             "#d8576b"
            ],
            [
             0.6666666666666666,
             "#ed7953"
            ],
            [
             0.7777777777777778,
             "#fb9f3a"
            ],
            [
             0.8888888888888888,
             "#fdca26"
            ],
            [
             1,
             "#f0f921"
            ]
           ]
          },
          "colorway": [
           "#636efa",
           "#EF553B",
           "#00cc96",
           "#ab63fa",
           "#FFA15A",
           "#19d3f3",
           "#FF6692",
           "#B6E880",
           "#FF97FF",
           "#FECB52"
          ],
          "font": {
           "color": "#2a3f5f"
          },
          "geo": {
           "bgcolor": "white",
           "lakecolor": "white",
           "landcolor": "#E5ECF6",
           "showlakes": true,
           "showland": true,
           "subunitcolor": "white"
          },
          "hoverlabel": {
           "align": "left"
          },
          "hovermode": "closest",
          "mapbox": {
           "style": "light"
          },
          "paper_bgcolor": "white",
          "plot_bgcolor": "#E5ECF6",
          "polar": {
           "angularaxis": {
            "gridcolor": "white",
            "linecolor": "white",
            "ticks": ""
           },
           "bgcolor": "#E5ECF6",
           "radialaxis": {
            "gridcolor": "white",
            "linecolor": "white",
            "ticks": ""
           }
          },
          "scene": {
           "xaxis": {
            "backgroundcolor": "#E5ECF6",
            "gridcolor": "white",
            "gridwidth": 2,
            "linecolor": "white",
            "showbackground": true,
            "ticks": "",
            "zerolinecolor": "white"
           },
           "yaxis": {
            "backgroundcolor": "#E5ECF6",
            "gridcolor": "white",
            "gridwidth": 2,
            "linecolor": "white",
            "showbackground": true,
            "ticks": "",
            "zerolinecolor": "white"
           },
           "zaxis": {
            "backgroundcolor": "#E5ECF6",
            "gridcolor": "white",
            "gridwidth": 2,
            "linecolor": "white",
            "showbackground": true,
            "ticks": "",
            "zerolinecolor": "white"
           }
          },
          "shapedefaults": {
           "line": {
            "color": "#2a3f5f"
           }
          },
          "ternary": {
           "aaxis": {
            "gridcolor": "white",
            "linecolor": "white",
            "ticks": ""
           },
           "baxis": {
            "gridcolor": "white",
            "linecolor": "white",
            "ticks": ""
           },
           "bgcolor": "#E5ECF6",
           "caxis": {
            "gridcolor": "white",
            "linecolor": "white",
            "ticks": ""
           }
          },
          "title": {
           "x": 0.05
          },
          "xaxis": {
           "automargin": true,
           "gridcolor": "white",
           "linecolor": "white",
           "ticks": "",
           "title": {
            "standoff": 15
           },
           "zerolinecolor": "white",
           "zerolinewidth": 2
          },
          "yaxis": {
           "automargin": true,
           "gridcolor": "white",
           "linecolor": "white",
           "ticks": "",
           "title": {
            "standoff": 15
           },
           "zerolinecolor": "white",
           "zerolinewidth": 2
          }
         }
        },
        "title": {
         "font": {
          "color": "black"
         },
         "text": "Subsidence"
        },
        "xaxis": {
         "gridcolor": "lightgrey",
         "gridwidth": 1,
         "linecolor": "black",
         "linewidth": 1,
         "showgrid": true,
         "showline": true,
         "title": {
          "text": "Month-Year"
         },
         "zeroline": true,
         "zerolinecolor": "lightgrey",
         "zerolinewidth": 1
        },
        "yaxis": {
         "gridcolor": "lightgrey",
         "gridwidth": 1,
         "linecolor": "black",
         "linewidth": 1,
         "showgrid": true,
         "showline": true,
         "title": {
          "text": "Subsidence"
         },
         "zeroline": true,
         "zerolinecolor": "lightgrey",
         "zerolinewidth": 1
        }
       }
      }
     },
     "metadata": {},
     "output_type": "display_data"
    }
   ],
   "source": [
    "# Plot average monthly temperatures (actual and predicted) for test (out of time) data\n",
    "fig = go.Figure()\n",
    "\n",
    "#Trace for actual temperatures\n",
    "fig.add_trace(go.Scatter(x=np.array(df_test.columns),\n",
    "                         y=np.array(df_test.values).flatten(),\n",
    "                         mode='lines',\n",
    "                         name='Subsidence - Actual (Test)',\n",
    "                         opacity=0.8,\n",
    "                         line=dict(color='black', width=1)\n",
    "                        ))\n",
    "\n",
    "# Trace for predicted temperatures\n",
    "fig.add_trace(go.Scatter(x=np.array(df_test.columns[-timestep:]),\n",
    "                         y=pred_test.flatten(),\n",
    "                         mode='lines',\n",
    "                         name='Subsidence - Predicted (Test)',\n",
    "                         opacity=0.8,\n",
    "                         line=dict(color='red', width=1)\n",
    "                        ))\n",
    "\n",
    "# Change chart background color\n",
    "fig.update_layout(dict(plot_bgcolor = 'white'))\n",
    "\n",
    "# Update axes lines\n",
    "fig.update_xaxes(showgrid=True, gridwidth=1, gridcolor='lightgrey', \n",
    "                 zeroline=True, zerolinewidth=1, zerolinecolor='lightgrey', \n",
    "                 showline=True, linewidth=1, linecolor='black',\n",
    "                 title='Month-Year'\n",
    "                )\n",
    "\n",
    "fig.update_yaxes(showgrid=True, gridwidth=1, gridcolor='lightgrey', \n",
    "                 zeroline=True, zerolinewidth=1, zerolinecolor='lightgrey', \n",
    "                 showline=True, linewidth=1, linecolor='black',\n",
    "                 title='Subsidence'\n",
    "                )\n",
    "\n",
    "# Set figure title\n",
    "fig.update_layout(title=dict(text=\"Subsidence\", font=dict(color='black')),\n",
    "                  legend=dict(orientation=\"h\", yanchor=\"bottom\", y=1.02, xanchor=\"right\", x=1)\n",
    "                 )\n",
    "fig.show()"
   ]
  },
  {
   "cell_type": "code",
   "execution_count": null,
   "metadata": {},
   "outputs": [],
   "source": []
  },
  {
   "cell_type": "code",
   "execution_count": null,
   "metadata": {},
   "outputs": [],
   "source": []
  },
  {
   "cell_type": "code",
   "execution_count": null,
   "metadata": {},
   "outputs": [],
   "source": []
  }
 ],
 "metadata": {
  "kernelspec": {
   "display_name": "Python 3 (ipykernel)",
   "language": "python",
   "name": "python3"
  },
  "language_info": {
   "codemirror_mode": {
    "name": "ipython",
    "version": 3
   },
   "file_extension": ".py",
   "mimetype": "text/x-python",
   "name": "python",
   "nbconvert_exporter": "python",
   "pygments_lexer": "ipython3",
   "version": "3.10.5"
  },
  "vscode": {
   "interpreter": {
    "hash": "d3e10ef16274dd72e574b8fa73b58450b957d8421a2901baded3cca26fcf5dda"
   }
  }
 },
 "nbformat": 4,
 "nbformat_minor": 2
}
