{
 "cells": [
  {
   "cell_type": "code",
   "execution_count": 40,
   "metadata": {},
   "outputs": [
    {
     "name": "stdout",
     "output_type": "stream",
     "text": [
      "Tensorflow/Keras: 2.9.0\n",
      "pandas: 1.4.2\n",
      "numpy: 1.22.4\n",
      "sklearn: 1.1.1\n",
      "plotly: 5.9.0\n"
     ]
    }
   ],
   "source": [
    "# Tensorflow / Keras\n",
    "from tensorflow import keras # for building Neural Networks\n",
    "print('Tensorflow/Keras: %s' % keras.__version__) # print version\n",
    "from keras.models import Sequential # for creating a linear stack of layers for our Neural Network\n",
    "from keras import Input # for instantiating a keras tensor\n",
    "from keras.layers import Masking,Bidirectional, LSTM, RepeatVector, Dense, TimeDistributed,MaxPooling1D, Flatten, Conv1D,Conv2D,Dropout, MaxPooling2D # for creating layers inside the Neural Network\n",
    "from keras.optimizers import Adam , SGD\n",
    "# Data manipulation\n",
    "import pandas as pd # for data manipulation\n",
    "print('pandas: %s' % pd.__version__) # print version\n",
    "import numpy as np # for data manipulation\n",
    "print('numpy: %s' % np.__version__) # print version\n",
    "import numpy.ma as ma\n",
    "# Sklearn\n",
    "import sklearn\n",
    "print('sklearn: %s' % sklearn.__version__) # print version\n",
    "from sklearn.preprocessing import MinMaxScaler # for feature scaling\n",
    "from sklearn.model_selection import train_test_split, GridSearchCV\n",
    "from sklearn.metrics import mean_squared_error # for calculating the cost function\n",
    "from sklearn.ensemble import RandomForestRegressor # for building the model\n",
    "# Visualization\n",
    "import plotly \n",
    "import plotly.express as px\n",
    "import plotly.graph_objects as go\n",
    "print('plotly: %s' % plotly.__version__) # print version\n",
    "from matplotlib import pyplot as plt\n",
    "\n",
    "#file accessing\n",
    "import os\n",
    "# time stuff\n",
    "from datetime import timedelta\n",
    "import calendar\n"
   ]
  },
  {
   "cell_type": "code",
   "execution_count": 41,
   "metadata": {},
   "outputs": [
    {
     "name": "stdout",
     "output_type": "stream",
     "text": [
      "Defined the plot_the_model and plot_the_loss_curve functions.\n"
     ]
    }
   ],
   "source": [
    "#@title Define the plotting functions\n",
    "def plot_the_model(trained_weight, trained_bias, feature, label):\n",
    "  \"\"\"Plot the trained model against the training feature and label.\"\"\"\n",
    "\n",
    "  # Label the axes.\n",
    "  plt.xlabel(\"feature\")\n",
    "  plt.ylabel(\"label\")\n",
    "\n",
    "  # Plot the feature values vs. label values.\n",
    "  plt.scatter(feature, label)\n",
    "\n",
    "  # Create a red line representing the model. The red line starts\n",
    "  # at coordinates (x0, y0) and ends at coordinates (x1, y1).\n",
    "  x0 = 0\n",
    "  y0 = trained_bias\n",
    "  x1 = feature[-1]\n",
    "  y1 = trained_bias + (trained_weight * x1)\n",
    "  plt.plot([x0, x1], [y0, y1], c='r')\n",
    "\n",
    "  # Render the scatter plot and the red line.\n",
    "  plt.show()\n",
    "\n",
    "def plot_the_loss_curve(epochs, rmse):\n",
    "  \"\"\"Plot the loss curve, which shows loss vs. epoch.\"\"\"\n",
    "\n",
    "  plt.figure()\n",
    "  plt.xlabel(\"Epoch\")\n",
    "  plt.ylabel(\"Root Mean Squared Error\")\n",
    "  #epochs.remove(max(epochs))\n",
    "  \n",
    "  #rmse.drop(max(rmse))\n",
    "  plt.plot(epochs, rmse, label=\"Loss\")\n",
    "  plt.legend()\n",
    "  plt.ylim([rmse.min()*0.97, rmse.max()])\n",
    "  plt.show()\n",
    "\n",
    "print(\"Defined the plot_the_model and plot_the_loss_curve functions.\")"
   ]
  },
  {
   "cell_type": "markdown",
   "metadata": {},
   "source": [
    "##### Read from file and establish dataframe and future functions"
   ]
  },
  {
   "cell_type": "code",
   "execution_count": 42,
   "metadata": {},
   "outputs": [],
   "source": [
    "df=pd.read_csv('InSAR_data_south/displacement/export_dataframe1.csv')\n",
    "df=df.set_index([df.columns[0],df.columns[1]])\n",
    "df.columns=pd.to_datetime(df.columns, format='%Y%m%d')\n",
    "df=df.dropna(axis=0, how='all')#drop full nan rows"
   ]
  },
  {
   "cell_type": "markdown",
   "metadata": {},
   "source": [
    "##### Remove next line to include all data"
   ]
  },
  {
   "cell_type": "code",
   "execution_count": 43,
   "metadata": {},
   "outputs": [
    {
     "data": {
      "text/html": [
       "<div>\n",
       "<style scoped>\n",
       "    .dataframe tbody tr th:only-of-type {\n",
       "        vertical-align: middle;\n",
       "    }\n",
       "\n",
       "    .dataframe tbody tr th {\n",
       "        vertical-align: top;\n",
       "    }\n",
       "\n",
       "    .dataframe thead th {\n",
       "        text-align: right;\n",
       "    }\n",
       "</style>\n",
       "<table border=\"1\" class=\"dataframe\">\n",
       "  <thead>\n",
       "    <tr style=\"text-align: right;\">\n",
       "      <th></th>\n",
       "      <th></th>\n",
       "      <th>2014-11-08</th>\n",
       "      <th>2014-12-02</th>\n",
       "      <th>2014-12-26</th>\n",
       "      <th>2015-02-12</th>\n",
       "      <th>2015-03-08</th>\n",
       "      <th>2015-04-01</th>\n",
       "      <th>2015-04-25</th>\n",
       "      <th>2015-05-19</th>\n",
       "      <th>2015-06-12</th>\n",
       "      <th>2015-07-06</th>\n",
       "      <th>...</th>\n",
       "      <th>2018-10-18</th>\n",
       "      <th>2018-10-30</th>\n",
       "      <th>2018-11-11</th>\n",
       "      <th>2018-11-17</th>\n",
       "      <th>2018-11-23</th>\n",
       "      <th>2018-12-05</th>\n",
       "      <th>2018-12-17</th>\n",
       "      <th>2018-12-29</th>\n",
       "      <th>2019-01-10</th>\n",
       "      <th>2019-01-22</th>\n",
       "    </tr>\n",
       "    <tr>\n",
       "      <th>Longitude</th>\n",
       "      <th>Latitude</th>\n",
       "      <th></th>\n",
       "      <th></th>\n",
       "      <th></th>\n",
       "      <th></th>\n",
       "      <th></th>\n",
       "      <th></th>\n",
       "      <th></th>\n",
       "      <th></th>\n",
       "      <th></th>\n",
       "      <th></th>\n",
       "      <th></th>\n",
       "      <th></th>\n",
       "      <th></th>\n",
       "      <th></th>\n",
       "      <th></th>\n",
       "      <th></th>\n",
       "      <th></th>\n",
       "      <th></th>\n",
       "      <th></th>\n",
       "      <th></th>\n",
       "      <th></th>\n",
       "    </tr>\n",
       "  </thead>\n",
       "  <tbody>\n",
       "    <tr>\n",
       "      <th rowspan=\"5\" valign=\"top\">-119.9868</th>\n",
       "      <th>37.4636</th>\n",
       "      <td>0.0</td>\n",
       "      <td>-1.2784</td>\n",
       "      <td>-2.4956</td>\n",
       "      <td>1.6396</td>\n",
       "      <td>-3.4272</td>\n",
       "      <td>-3.0192</td>\n",
       "      <td>-0.143220</td>\n",
       "      <td>-0.15121</td>\n",
       "      <td>0.42195</td>\n",
       "      <td>0.331640</td>\n",
       "      <td>...</td>\n",
       "      <td>-2.6505</td>\n",
       "      <td>-0.40585</td>\n",
       "      <td>-0.873980</td>\n",
       "      <td>-0.62487</td>\n",
       "      <td>-0.62831</td>\n",
       "      <td>-2.74380</td>\n",
       "      <td>-2.5164</td>\n",
       "      <td>-2.33220</td>\n",
       "      <td>-0.067227</td>\n",
       "      <td>0.78007</td>\n",
       "    </tr>\n",
       "    <tr>\n",
       "      <th>37.4656</th>\n",
       "      <td>0.0</td>\n",
       "      <td>-1.2967</td>\n",
       "      <td>-2.4364</td>\n",
       "      <td>1.7608</td>\n",
       "      <td>-3.2960</td>\n",
       "      <td>-2.9787</td>\n",
       "      <td>-0.353610</td>\n",
       "      <td>-0.28092</td>\n",
       "      <td>0.22919</td>\n",
       "      <td>0.136510</td>\n",
       "      <td>...</td>\n",
       "      <td>-1.3831</td>\n",
       "      <td>0.84848</td>\n",
       "      <td>0.397970</td>\n",
       "      <td>0.66435</td>\n",
       "      <td>0.58809</td>\n",
       "      <td>-1.44660</td>\n",
       "      <td>-1.1572</td>\n",
       "      <td>-0.87407</td>\n",
       "      <td>1.325500</td>\n",
       "      <td>2.34450</td>\n",
       "    </tr>\n",
       "    <tr>\n",
       "      <th>37.4676</th>\n",
       "      <td>0.0</td>\n",
       "      <td>-1.3893</td>\n",
       "      <td>-2.5015</td>\n",
       "      <td>1.7381</td>\n",
       "      <td>-3.3539</td>\n",
       "      <td>-3.0604</td>\n",
       "      <td>0.264930</td>\n",
       "      <td>-0.33472</td>\n",
       "      <td>0.26265</td>\n",
       "      <td>0.094916</td>\n",
       "      <td>...</td>\n",
       "      <td>-1.7415</td>\n",
       "      <td>0.46932</td>\n",
       "      <td>0.039278</td>\n",
       "      <td>0.30771</td>\n",
       "      <td>0.25464</td>\n",
       "      <td>-1.74070</td>\n",
       "      <td>-1.4324</td>\n",
       "      <td>-1.18440</td>\n",
       "      <td>1.004600</td>\n",
       "      <td>2.05180</td>\n",
       "    </tr>\n",
       "    <tr>\n",
       "      <th>37.4696</th>\n",
       "      <td>0.0</td>\n",
       "      <td>-1.4200</td>\n",
       "      <td>-2.5705</td>\n",
       "      <td>1.5793</td>\n",
       "      <td>-3.4698</td>\n",
       "      <td>-3.1375</td>\n",
       "      <td>0.222760</td>\n",
       "      <td>-0.39693</td>\n",
       "      <td>0.27318</td>\n",
       "      <td>-0.019488</td>\n",
       "      <td>...</td>\n",
       "      <td>-3.0374</td>\n",
       "      <td>-0.77593</td>\n",
       "      <td>-1.202800</td>\n",
       "      <td>-1.00970</td>\n",
       "      <td>-0.87614</td>\n",
       "      <td>-2.92960</td>\n",
       "      <td>-2.6175</td>\n",
       "      <td>-2.41940</td>\n",
       "      <td>-0.140160</td>\n",
       "      <td>0.84714</td>\n",
       "    </tr>\n",
       "    <tr>\n",
       "      <th>37.4736</th>\n",
       "      <td>0.0</td>\n",
       "      <td>-1.3715</td>\n",
       "      <td>-2.6436</td>\n",
       "      <td>1.5155</td>\n",
       "      <td>-3.5249</td>\n",
       "      <td>-3.1554</td>\n",
       "      <td>-0.000041</td>\n",
       "      <td>-0.50937</td>\n",
       "      <td>0.22820</td>\n",
       "      <td>-0.021666</td>\n",
       "      <td>...</td>\n",
       "      <td>-2.9338</td>\n",
       "      <td>-0.64350</td>\n",
       "      <td>-1.039700</td>\n",
       "      <td>-0.88239</td>\n",
       "      <td>-0.74674</td>\n",
       "      <td>-2.73350</td>\n",
       "      <td>-2.5290</td>\n",
       "      <td>-2.27400</td>\n",
       "      <td>-0.057215</td>\n",
       "      <td>1.00340</td>\n",
       "    </tr>\n",
       "    <tr>\n",
       "      <th>...</th>\n",
       "      <th>...</th>\n",
       "      <td>...</td>\n",
       "      <td>...</td>\n",
       "      <td>...</td>\n",
       "      <td>...</td>\n",
       "      <td>...</td>\n",
       "      <td>...</td>\n",
       "      <td>...</td>\n",
       "      <td>...</td>\n",
       "      <td>...</td>\n",
       "      <td>...</td>\n",
       "      <td>...</td>\n",
       "      <td>...</td>\n",
       "      <td>...</td>\n",
       "      <td>...</td>\n",
       "      <td>...</td>\n",
       "      <td>...</td>\n",
       "      <td>...</td>\n",
       "      <td>...</td>\n",
       "      <td>...</td>\n",
       "      <td>...</td>\n",
       "      <td>...</td>\n",
       "    </tr>\n",
       "    <tr>\n",
       "      <th rowspan=\"5\" valign=\"top\">-119.9788</th>\n",
       "      <th>35.9612</th>\n",
       "      <td>0.0</td>\n",
       "      <td>-6.6589</td>\n",
       "      <td>1.4012</td>\n",
       "      <td>1.6621</td>\n",
       "      <td>-1.1189</td>\n",
       "      <td>3.6690</td>\n",
       "      <td>0.524010</td>\n",
       "      <td>1.01160</td>\n",
       "      <td>1.27990</td>\n",
       "      <td>0.977120</td>\n",
       "      <td>...</td>\n",
       "      <td>3.5354</td>\n",
       "      <td>5.43140</td>\n",
       "      <td>4.028400</td>\n",
       "      <td>4.96730</td>\n",
       "      <td>3.64460</td>\n",
       "      <td>0.75876</td>\n",
       "      <td>3.6034</td>\n",
       "      <td>4.94460</td>\n",
       "      <td>4.436300</td>\n",
       "      <td>5.61780</td>\n",
       "    </tr>\n",
       "    <tr>\n",
       "      <th>35.9632</th>\n",
       "      <td>0.0</td>\n",
       "      <td>-6.6780</td>\n",
       "      <td>1.4084</td>\n",
       "      <td>1.6448</td>\n",
       "      <td>-1.1122</td>\n",
       "      <td>3.6158</td>\n",
       "      <td>0.536370</td>\n",
       "      <td>0.97455</td>\n",
       "      <td>1.25170</td>\n",
       "      <td>0.962570</td>\n",
       "      <td>...</td>\n",
       "      <td>3.6730</td>\n",
       "      <td>5.55830</td>\n",
       "      <td>4.171400</td>\n",
       "      <td>5.11610</td>\n",
       "      <td>3.80790</td>\n",
       "      <td>0.92393</td>\n",
       "      <td>3.8040</td>\n",
       "      <td>5.13270</td>\n",
       "      <td>4.658300</td>\n",
       "      <td>5.85680</td>\n",
       "    </tr>\n",
       "    <tr>\n",
       "      <th>35.9652</th>\n",
       "      <td>0.0</td>\n",
       "      <td>-6.6476</td>\n",
       "      <td>1.3338</td>\n",
       "      <td>1.7274</td>\n",
       "      <td>-1.1047</td>\n",
       "      <td>3.6538</td>\n",
       "      <td>0.483520</td>\n",
       "      <td>0.97418</td>\n",
       "      <td>1.22870</td>\n",
       "      <td>0.962440</td>\n",
       "      <td>...</td>\n",
       "      <td>3.6384</td>\n",
       "      <td>5.52620</td>\n",
       "      <td>4.133700</td>\n",
       "      <td>5.09180</td>\n",
       "      <td>3.74870</td>\n",
       "      <td>0.90589</td>\n",
       "      <td>3.7425</td>\n",
       "      <td>5.09770</td>\n",
       "      <td>4.620900</td>\n",
       "      <td>5.80390</td>\n",
       "    </tr>\n",
       "    <tr>\n",
       "      <th>35.9672</th>\n",
       "      <td>0.0</td>\n",
       "      <td>-6.6539</td>\n",
       "      <td>1.3193</td>\n",
       "      <td>1.6826</td>\n",
       "      <td>-1.1337</td>\n",
       "      <td>3.6680</td>\n",
       "      <td>0.460370</td>\n",
       "      <td>0.99551</td>\n",
       "      <td>1.25750</td>\n",
       "      <td>0.988420</td>\n",
       "      <td>...</td>\n",
       "      <td>3.7216</td>\n",
       "      <td>5.61140</td>\n",
       "      <td>4.223800</td>\n",
       "      <td>5.17200</td>\n",
       "      <td>3.83440</td>\n",
       "      <td>1.04980</td>\n",
       "      <td>3.8671</td>\n",
       "      <td>5.17170</td>\n",
       "      <td>4.743600</td>\n",
       "      <td>5.88190</td>\n",
       "    </tr>\n",
       "    <tr>\n",
       "      <th>35.9692</th>\n",
       "      <td>0.0</td>\n",
       "      <td>-6.6477</td>\n",
       "      <td>1.2914</td>\n",
       "      <td>1.7725</td>\n",
       "      <td>-1.1146</td>\n",
       "      <td>3.7001</td>\n",
       "      <td>0.505080</td>\n",
       "      <td>1.02300</td>\n",
       "      <td>1.28440</td>\n",
       "      <td>1.015200</td>\n",
       "      <td>...</td>\n",
       "      <td>3.7171</td>\n",
       "      <td>5.61320</td>\n",
       "      <td>4.225100</td>\n",
       "      <td>5.18700</td>\n",
       "      <td>3.83850</td>\n",
       "      <td>1.10420</td>\n",
       "      <td>3.8612</td>\n",
       "      <td>5.15130</td>\n",
       "      <td>4.736000</td>\n",
       "      <td>5.87410</td>\n",
       "    </tr>\n",
       "  </tbody>\n",
       "</table>\n",
       "<p>5000 rows × 110 columns</p>\n",
       "</div>"
      ],
      "text/plain": [
       "                    2014-11-08  2014-12-02  2014-12-26  2015-02-12  \\\n",
       "Longitude Latitude                                                   \n",
       "-119.9868 37.4636          0.0     -1.2784     -2.4956      1.6396   \n",
       "          37.4656          0.0     -1.2967     -2.4364      1.7608   \n",
       "          37.4676          0.0     -1.3893     -2.5015      1.7381   \n",
       "          37.4696          0.0     -1.4200     -2.5705      1.5793   \n",
       "          37.4736          0.0     -1.3715     -2.6436      1.5155   \n",
       "...                        ...         ...         ...         ...   \n",
       "-119.9788 35.9612          0.0     -6.6589      1.4012      1.6621   \n",
       "          35.9632          0.0     -6.6780      1.4084      1.6448   \n",
       "          35.9652          0.0     -6.6476      1.3338      1.7274   \n",
       "          35.9672          0.0     -6.6539      1.3193      1.6826   \n",
       "          35.9692          0.0     -6.6477      1.2914      1.7725   \n",
       "\n",
       "                    2015-03-08  2015-04-01  2015-04-25  2015-05-19  \\\n",
       "Longitude Latitude                                                   \n",
       "-119.9868 37.4636      -3.4272     -3.0192   -0.143220    -0.15121   \n",
       "          37.4656      -3.2960     -2.9787   -0.353610    -0.28092   \n",
       "          37.4676      -3.3539     -3.0604    0.264930    -0.33472   \n",
       "          37.4696      -3.4698     -3.1375    0.222760    -0.39693   \n",
       "          37.4736      -3.5249     -3.1554   -0.000041    -0.50937   \n",
       "...                        ...         ...         ...         ...   \n",
       "-119.9788 35.9612      -1.1189      3.6690    0.524010     1.01160   \n",
       "          35.9632      -1.1122      3.6158    0.536370     0.97455   \n",
       "          35.9652      -1.1047      3.6538    0.483520     0.97418   \n",
       "          35.9672      -1.1337      3.6680    0.460370     0.99551   \n",
       "          35.9692      -1.1146      3.7001    0.505080     1.02300   \n",
       "\n",
       "                    2015-06-12  2015-07-06  ...  2018-10-18  2018-10-30  \\\n",
       "Longitude Latitude                          ...                           \n",
       "-119.9868 37.4636      0.42195    0.331640  ...     -2.6505    -0.40585   \n",
       "          37.4656      0.22919    0.136510  ...     -1.3831     0.84848   \n",
       "          37.4676      0.26265    0.094916  ...     -1.7415     0.46932   \n",
       "          37.4696      0.27318   -0.019488  ...     -3.0374    -0.77593   \n",
       "          37.4736      0.22820   -0.021666  ...     -2.9338    -0.64350   \n",
       "...                        ...         ...  ...         ...         ...   \n",
       "-119.9788 35.9612      1.27990    0.977120  ...      3.5354     5.43140   \n",
       "          35.9632      1.25170    0.962570  ...      3.6730     5.55830   \n",
       "          35.9652      1.22870    0.962440  ...      3.6384     5.52620   \n",
       "          35.9672      1.25750    0.988420  ...      3.7216     5.61140   \n",
       "          35.9692      1.28440    1.015200  ...      3.7171     5.61320   \n",
       "\n",
       "                    2018-11-11  2018-11-17  2018-11-23  2018-12-05  \\\n",
       "Longitude Latitude                                                   \n",
       "-119.9868 37.4636    -0.873980    -0.62487    -0.62831    -2.74380   \n",
       "          37.4656     0.397970     0.66435     0.58809    -1.44660   \n",
       "          37.4676     0.039278     0.30771     0.25464    -1.74070   \n",
       "          37.4696    -1.202800    -1.00970    -0.87614    -2.92960   \n",
       "          37.4736    -1.039700    -0.88239    -0.74674    -2.73350   \n",
       "...                        ...         ...         ...         ...   \n",
       "-119.9788 35.9612     4.028400     4.96730     3.64460     0.75876   \n",
       "          35.9632     4.171400     5.11610     3.80790     0.92393   \n",
       "          35.9652     4.133700     5.09180     3.74870     0.90589   \n",
       "          35.9672     4.223800     5.17200     3.83440     1.04980   \n",
       "          35.9692     4.225100     5.18700     3.83850     1.10420   \n",
       "\n",
       "                    2018-12-17  2018-12-29  2019-01-10  2019-01-22  \n",
       "Longitude Latitude                                                  \n",
       "-119.9868 37.4636      -2.5164    -2.33220   -0.067227     0.78007  \n",
       "          37.4656      -1.1572    -0.87407    1.325500     2.34450  \n",
       "          37.4676      -1.4324    -1.18440    1.004600     2.05180  \n",
       "          37.4696      -2.6175    -2.41940   -0.140160     0.84714  \n",
       "          37.4736      -2.5290    -2.27400   -0.057215     1.00340  \n",
       "...                        ...         ...         ...         ...  \n",
       "-119.9788 35.9612       3.6034     4.94460    4.436300     5.61780  \n",
       "          35.9632       3.8040     5.13270    4.658300     5.85680  \n",
       "          35.9652       3.7425     5.09770    4.620900     5.80390  \n",
       "          35.9672       3.8671     5.17170    4.743600     5.88190  \n",
       "          35.9692       3.8612     5.15130    4.736000     5.87410  \n",
       "\n",
       "[5000 rows x 110 columns]"
      ]
     },
     "execution_count": 43,
     "metadata": {},
     "output_type": "execute_result"
    }
   ],
   "source": [
    "df=df.iloc[500000:505000] #cuts data to long 120-119 approx\n",
    "df"
   ]
  },
  {
   "cell_type": "markdown",
   "metadata": {},
   "source": [
    "# Timestep"
   ]
  },
  {
   "cell_type": "code",
   "execution_count": 44,
   "metadata": {},
   "outputs": [],
   "source": [
    "timestep=10"
   ]
  },
  {
   "cell_type": "markdown",
   "metadata": {},
   "source": [
    "# Shaping function (remove start and step for first for loop to include all data)"
   ]
  },
  {
   "cell_type": "code",
   "execution_count": 45,
   "metadata": {},
   "outputs": [],
   "source": [
    "def shaping(datain, timestep):\n",
    "    #print(arr)\n",
    "    cnt=0\n",
    "    \n",
    "    for row in range(0,len(datain.index),1750): #picks a row at every iteration, allows to reduction of input and inclusion of multiple time series, remove start and step to run on full dataset \n",
    "    # Convert input dataframe to array and flatten\n",
    "        arr=datain.iloc[row].to_numpy().flatten() # flatten row\n",
    "         #Find indices that you need to replace\n",
    "        arr=np.where(np.isnan(arr), ma.array(arr, mask=np.isnan(arr)).mean(), arr) \n",
    "        #arr[np.isnan(arr)] = \n",
    "        for mth in range(0, len(datain.columns)-(2*timestep)+1): # Define range lenght of the dates - 2* amount of timesep?? +1\n",
    "            cnt=cnt+1 # Gives us the number of samples. Later used to reshape the data\n",
    "            X_start=mth # Start month for inputs of each sample\n",
    "            X_end=mth+timestep # End month for inputs of each sample\n",
    "            Y_start=mth+timestep # Start month for targets of each sample. Note, start is inclusive and end is exclusive, that's why X_end and Y_start is the same number\n",
    "            Y_end=mth+2*timestep # End month for targets of each sample.  \n",
    "            \n",
    "            # Assemble input and target arrays containing all samples\n",
    "            if cnt==1:\n",
    "                X_comb=arr[X_start:X_end]\n",
    "                Y_comb=arr[Y_start:Y_end]\n",
    "            else: \n",
    "                X_comb=np.append(X_comb, arr[X_start:X_end])\n",
    "                Y_comb=np.append(Y_comb, arr[Y_start:Y_end])\n",
    "    \n",
    "    # Reshape input and target arrays\n",
    "    X_out=np.reshape(X_comb, (cnt, timestep, 1))\n",
    "    Y_out=np.reshape(Y_comb, (cnt, timestep, 1))\n",
    "    return X_out, Y_out"
   ]
  },
  {
   "cell_type": "code",
   "execution_count": null,
   "metadata": {},
   "outputs": [],
   "source": []
  },
  {
   "cell_type": "markdown",
   "metadata": {},
   "source": [
    "##### Step 2 - Split and Shape data"
   ]
  },
  {
   "cell_type": "code",
   "execution_count": 46,
   "metadata": {},
   "outputs": [],
   "source": [
    "#train, test = train_test_split(df, test_size=0.2)\n",
    "# creates sequences to train\n",
    "#Need to decide on how to deal with rows with nans in them\n",
    "X , Y = shaping(datain=df, timestep= timestep )\n",
    "X_train, X_test, Y_train, Y_test = train_test_split(X,Y , test_size=0.2, random_state=28)\n",
    "nsamples, nx, ny = X_train.shape\n",
    "X_train = X_train.reshape((nsamples,nx*ny))\n",
    "nsamples, nx, ny = Y_train.shape\n",
    "Y_train = Y_train.reshape((nsamples,nx*ny))\n",
    "nsamples, nx, ny = X_test.shape\n",
    "X_test = X_test.reshape((nsamples,nx*ny))\n",
    "nsamples, nx, ny = Y_test.shape\n",
    "Y_test = Y_test.reshape((nsamples,nx*ny))"
   ]
  },
  {
   "cell_type": "markdown",
   "metadata": {},
   "source": [
    "##### Step 3 - Specify the structure of a Neural Network, first model"
   ]
  },
  {
   "cell_type": "code",
   "execution_count": 47,
   "metadata": {},
   "outputs": [],
   "source": [
    "# set model\n",
    "rf_model = RandomForestRegressor(oob_score = True, n_jobs = -1, random_state = 64)\n",
    "# create a dictionary of parameters values we want to try\n",
    "optimization_dict = {'criterion':['squared_error', 'absolute_error'],\n",
    "                     'n_estimators': [100, 500, 1000, 1700],\n",
    "                     'max_depth': [7, 10, 11, 12],\n",
    "                     'min_samples_split': [6, 7, 8, 10],\n",
    "                     'min_samples_leaf': [3, 4, 5]\n",
    "                     }\n",
    "\n",
    "# set GridSearchCV parameters\n",
    "model = GridSearchCV(rf_model, optimization_dict, \n",
    "                     scoring='accuracy', verbose = 1, n_jobs = -1, cv = 5)\n",
    "\n",
    "\n"
   ]
  },
  {
   "cell_type": "markdown",
   "metadata": {},
   "source": [
    "##### Train model"
   ]
  },
  {
   "cell_type": "code",
   "execution_count": 48,
   "metadata": {},
   "outputs": [
    {
     "name": "stdout",
     "output_type": "stream",
     "text": [
      "Fitting 5 folds for each of 384 candidates, totalling 1920 fits\n"
     ]
    },
    {
     "name": "stderr",
     "output_type": "stream",
     "text": [
      "c:\\Python\\Python310\\lib\\site-packages\\sklearn\\model_selection\\_search.py:953: UserWarning: One or more of the test scores are non-finite: [nan nan nan nan nan nan nan nan nan nan nan nan nan nan nan nan nan nan\n",
      " nan nan nan nan nan nan nan nan nan nan nan nan nan nan nan nan nan nan\n",
      " nan nan nan nan nan nan nan nan nan nan nan nan nan nan nan nan nan nan\n",
      " nan nan nan nan nan nan nan nan nan nan nan nan nan nan nan nan nan nan\n",
      " nan nan nan nan nan nan nan nan nan nan nan nan nan nan nan nan nan nan\n",
      " nan nan nan nan nan nan nan nan nan nan nan nan nan nan nan nan nan nan\n",
      " nan nan nan nan nan nan nan nan nan nan nan nan nan nan nan nan nan nan\n",
      " nan nan nan nan nan nan nan nan nan nan nan nan nan nan nan nan nan nan\n",
      " nan nan nan nan nan nan nan nan nan nan nan nan nan nan nan nan nan nan\n",
      " nan nan nan nan nan nan nan nan nan nan nan nan nan nan nan nan nan nan\n",
      " nan nan nan nan nan nan nan nan nan nan nan nan nan nan nan nan nan nan\n",
      " nan nan nan nan nan nan nan nan nan nan nan nan nan nan nan nan nan nan\n",
      " nan nan nan nan nan nan nan nan nan nan nan nan nan nan nan nan nan nan\n",
      " nan nan nan nan nan nan nan nan nan nan nan nan nan nan nan nan nan nan\n",
      " nan nan nan nan nan nan nan nan nan nan nan nan nan nan nan nan nan nan\n",
      " nan nan nan nan nan nan nan nan nan nan nan nan nan nan nan nan nan nan\n",
      " nan nan nan nan nan nan nan nan nan nan nan nan nan nan nan nan nan nan\n",
      " nan nan nan nan nan nan nan nan nan nan nan nan nan nan nan nan nan nan\n",
      " nan nan nan nan nan nan nan nan nan nan nan nan nan nan nan nan nan nan\n",
      " nan nan nan nan nan nan nan nan nan nan nan nan nan nan nan nan nan nan\n",
      " nan nan nan nan nan nan nan nan nan nan nan nan nan nan nan nan nan nan\n",
      " nan nan nan nan nan nan]\n",
      "  warnings.warn(\n"
     ]
    },
    {
     "name": "stdout",
     "output_type": "stream",
     "text": [
      "nan\n"
     ]
    }
   ],
   "source": [
    "\n",
    "\n",
    "# use training data\n",
    "hist=model.fit(X_train, Y_train)\n",
    "\n",
    "# print best score and best parameters combination\n",
    "print(model.best_score_)\n"
   ]
  },
  {
   "cell_type": "markdown",
   "metadata": {},
   "source": [
    "##### Step 4 - Plot loss over epochs"
   ]
  },
  {
   "cell_type": "code",
   "execution_count": 49,
   "metadata": {},
   "outputs": [
    {
     "name": "stdout",
     "output_type": "stream",
     "text": [
      "\n",
      "RMSE:  2.183\n"
     ]
    }
   ],
   "source": [
    "# Predicting the target values of the test set\n",
    "Y_pred = model.predict(X_test)\n",
    "\n",
    "# RMSE (Root Mean Square Error)\n",
    "rmse = float(format(np.sqrt(mean_squared_error(Y_test, Y_pred)), '.3f'))\n",
    "print(\"\\nRMSE: \", rmse)\n"
   ]
  },
  {
   "cell_type": "code",
   "execution_count": 50,
   "metadata": {},
   "outputs": [
    {
     "name": "stdout",
     "output_type": "stream",
     "text": [
      "Mean Absolute Error: 1.6076022868941788\n",
      "Mean Squared Error: 4.763309021972487\n",
      "Root Mean Squared Error: 2.182500635045151\n"
     ]
    }
   ],
   "source": [
    "from sklearn import metrics\n",
    "print('Mean Absolute Error:', metrics.mean_absolute_error(Y_test, Y_pred))\n",
    "print('Mean Squared Error:', metrics.mean_squared_error(Y_test, Y_pred))\n",
    "print('Root Mean Squared Error:', np.sqrt(metrics.mean_squared_error(Y_test, Y_pred)))\n"
   ]
  },
  {
   "cell_type": "code",
   "execution_count": 51,
   "metadata": {},
   "outputs": [
    {
     "name": "stdout",
     "output_type": "stream",
     "text": [
      "Mean Absolute Error: 1.61 degrees.\n",
      "Accuracy: 75.93 %.\n"
     ]
    }
   ],
   "source": [
    "# Calculate the absolute errors\n",
    "errors = abs(Y_pred - Y_test)\n",
    "# Print out the mean absolute error (mae)\n",
    "print('Mean Absolute Error:', round(np.mean(errors), 2), 'degrees.')\n",
    "\n",
    "# Calculate mean absolute percentage error (MAPE)\n",
    "mape = 100 * (errors / Y_test)\n",
    "# Calculate and display accuracy\n",
    "accuracy = 100 - np.mean(mape)\n",
    "print('Accuracy:', round(accuracy, 2), '%.')"
   ]
  },
  {
   "cell_type": "code",
   "execution_count": 52,
   "metadata": {},
   "outputs": [
    {
     "name": "stderr",
     "output_type": "stream",
     "text": [
      "c:\\Python\\Python310\\lib\\site-packages\\seaborn\\distributions.py:2619: FutureWarning: `distplot` is a deprecated function and will be removed in a future version. Please adapt your code to use either `displot` (a figure-level function with similar flexibility) or `kdeplot` (an axes-level function for kernel density plots).\n",
      "  warnings.warn(msg, FutureWarning)\n",
      "c:\\Python\\Python310\\lib\\site-packages\\seaborn\\distributions.py:2619: FutureWarning: `distplot` is a deprecated function and will be removed in a future version. Please adapt your code to use either `displot` (a figure-level function with similar flexibility) or `kdeplot` (an axes-level function for kernel density plots).\n",
      "  warnings.warn(msg, FutureWarning)\n"
     ]
    },
    {
     "data": {
      "image/png": "[encoded data removed]",
      "text/plain": [
       "<Figure size 360x504 with 1 Axes>"
      ]
     },
     "metadata": {
      "needs_background": "light"
     },
     "output_type": "display_data"
    }
   ],
   "source": [
    "import seaborn as sns\n",
    "plt.figure(figsize=(5, 7))\n",
    "\n",
    "\n",
    "ax = sns.distplot(Y, hist=False, color=\"r\", label=\"Actual Value\")\n",
    "sns.distplot(Y_pred, hist=False, color=\"b\", label=\"Fitted Values\" , ax=ax)\n",
    "\n",
    "\n",
    "plt.title('Actual vs Fitted Values for Price')\n",
    "\n",
    "\n",
    "plt.show()\n",
    "plt.close()"
   ]
  },
  {
   "cell_type": "code",
   "execution_count": 53,
   "metadata": {},
   "outputs": [
    {
     "ename": "AttributeError",
     "evalue": "'GridSearchCV' object has no attribute 'estimators_'",
     "output_type": "error",
     "traceback": [
      "\u001b[1;31m---------------------------------------------------------------------------\u001b[0m",
      "\u001b[1;31mAttributeError\u001b[0m                            Traceback (most recent call last)",
      "\u001b[1;32me:\\DSFellowship\\randomForest0808.ipynb Cell 23\u001b[0m in \u001b[0;36m<cell line: 3>\u001b[1;34m()\u001b[0m\n\u001b[0;32m      <a href='vscode-notebook-cell:/e%3A/DSFellowship/randomForest0808.ipynb#X31sZmlsZQ%3D%3D?line=0'>1</a>\u001b[0m \u001b[39mimport\u001b[39;00m \u001b[39mpydot\u001b[39;00m\n\u001b[0;32m      <a href='vscode-notebook-cell:/e%3A/DSFellowship/randomForest0808.ipynb#X31sZmlsZQ%3D%3D?line=1'>2</a>\u001b[0m \u001b[39m# Pull out one tree from the forest\u001b[39;00m\n\u001b[1;32m----> <a href='vscode-notebook-cell:/e%3A/DSFellowship/randomForest0808.ipynb#X31sZmlsZQ%3D%3D?line=2'>3</a>\u001b[0m Tree \u001b[39m=\u001b[39m model\u001b[39m.\u001b[39;49mestimators_[\u001b[39m5\u001b[39m]\n\u001b[0;32m      <a href='vscode-notebook-cell:/e%3A/DSFellowship/randomForest0808.ipynb#X31sZmlsZQ%3D%3D?line=3'>4</a>\u001b[0m \u001b[39m# Export the image to a dot file\u001b[39;00m\n\u001b[0;32m      <a href='vscode-notebook-cell:/e%3A/DSFellowship/randomForest0808.ipynb#X31sZmlsZQ%3D%3D?line=4'>5</a>\u001b[0m \u001b[39mfrom\u001b[39;00m \u001b[39msklearn\u001b[39;00m \u001b[39mimport\u001b[39;00m tree\n",
      "\u001b[1;31mAttributeError\u001b[0m: 'GridSearchCV' object has no attribute 'estimators_'"
     ]
    }
   ],
   "source": [
    "import pydot\n",
    "# Pull out one tree from the forest\n",
    "Tree = model.estimators_[5]\n",
    "# Export the image to a dot file\n",
    "from sklearn import tree\n",
    "plt.figure(figsize=(25,15))\n",
    "tree.plot_tree(Tree,filled=True, \n",
    "              rounded=True, \n",
    "              fontsize=14);"
   ]
  },
  {
   "cell_type": "code",
   "execution_count": null,
   "metadata": {},
   "outputs": [],
   "source": [
    "##### Step 5 - Print Performance Summary"
   ]
  },
  {
   "cell_type": "code",
   "execution_count": null,
   "metadata": {},
   "outputs": [
    {
     "name": "stdout",
     "output_type": "stream",
     "text": [
      "\n",
      "-------------------- Model Summary --------------------\n"
     ]
    },
    {
     "ename": "NameError",
     "evalue": "name 'model2' is not defined",
     "output_type": "error",
     "traceback": [
      "\u001b[1;31m---------------------------------------------------------------------------\u001b[0m",
      "\u001b[1;31mNameError\u001b[0m                                 Traceback (most recent call last)",
      "\u001b[1;32me:\\DSFellowship\\randomForest0805.ipynb Cell 25\u001b[0m in \u001b[0;36m<cell line: 3>\u001b[1;34m()\u001b[0m\n\u001b[0;32m      <a href='vscode-notebook-cell:/e%3A/DSFellowship/randomForest0805.ipynb#X32sZmlsZQ%3D%3D?line=0'>1</a>\u001b[0m \u001b[39mprint\u001b[39m(\u001b[39m\"\u001b[39m\u001b[39m\"\u001b[39m)\n\u001b[0;32m      <a href='vscode-notebook-cell:/e%3A/DSFellowship/randomForest0805.ipynb#X32sZmlsZQ%3D%3D?line=1'>2</a>\u001b[0m \u001b[39mprint\u001b[39m(\u001b[39m'\u001b[39m\u001b[39m-------------------- Model Summary --------------------\u001b[39m\u001b[39m'\u001b[39m)\n\u001b[1;32m----> <a href='vscode-notebook-cell:/e%3A/DSFellowship/randomForest0805.ipynb#X32sZmlsZQ%3D%3D?line=2'>3</a>\u001b[0m model2\u001b[39m.\u001b[39msummary() \u001b[39m# print model summary\u001b[39;00m\n\u001b[0;32m      <a href='vscode-notebook-cell:/e%3A/DSFellowship/randomForest0805.ipynb#X32sZmlsZQ%3D%3D?line=3'>4</a>\u001b[0m \u001b[39mprint\u001b[39m(\u001b[39m\"\u001b[39m\u001b[39m\"\u001b[39m)\n\u001b[0;32m      <a href='vscode-notebook-cell:/e%3A/DSFellowship/randomForest0805.ipynb#X32sZmlsZQ%3D%3D?line=4'>5</a>\u001b[0m \u001b[39mprint\u001b[39m(\u001b[39m'\u001b[39m\u001b[39m-------------------- Weights and Biases --------------------\u001b[39m\u001b[39m'\u001b[39m)\n",
      "\u001b[1;31mNameError\u001b[0m: name 'model2' is not defined"
     ]
    }
   ],
   "source": [
    "print(\"\")\n",
    "print('-------------------- Model Summary --------------------')\n",
    "model2.summary() # print model summary\n",
    "print(\"\")\n",
    "print('-------------------- Weights and Biases --------------------')\n",
    "print(\"Too many parameters to print but you can use the code provided if needed\")\n",
    "print(\"\")\n",
    "#for layer in model.layers:\n",
    "#    print(layer.name)\n",
    "#    for item in layer.get_weights():\n",
    "#        print(\"  \", item)\n",
    "#print(\"\")\n",
    "\n",
    "# Print the last value in the evaluation metrics contained within history file\n",
    "print('-------------------- Evaluation on Training Data --------------------')\n",
    "for item in history.history:\n",
    "    print(\"Final\", item, \":\", history.history[item][-1])\n",
    "print(\"\")\n",
    "\n",
    "# Evaluate the model on the test data using \"evaluate\"\n",
    "print('-------------------- Evaluation on Test Data --------------------')\n",
    "results = model2.evaluate(X_test, Y_test)\n",
    "print(\"\")"
   ]
  }
 ],
 "metadata": {
  "kernelspec": {
   "display_name": "Python 3.10.5 64-bit",
   "language": "python",
   "name": "python3"
  },
  "language_info": {
   "codemirror_mode": {
    "name": "ipython",
    "version": 3
   },
   "file_extension": ".py",
   "mimetype": "text/x-python",
   "name": "python",
   "nbconvert_exporter": "python",
   "pygments_lexer": "ipython3",
   "version": "3.10.5"
  },
  "orig_nbformat": 4,
  "vscode": {
   "interpreter": {
    "hash": "d3e10ef16274dd72e574b8fa73b58450b957d8421a2901baded3cca26fcf5dda"
   }
  }
 },
 "nbformat": 4,
 "nbformat_minor": 2
}
