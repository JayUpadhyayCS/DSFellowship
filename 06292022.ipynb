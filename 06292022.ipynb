{
 "cells": [
  {
   "cell_type": "code",
   "execution_count": 19,
   "metadata": {},
   "outputs": [],
   "source": [
    "%matplotlib inline\n",
    "import os\n",
    "import glob\n",
    "import numpy as np\n",
    "from matplotlib import pyplot as plt\n",
    "import pandas as pd\n",
    "import descartes\n",
    "import geopandas as gpd\n",
    "from shapely.geometry import Point, Polygon\n",
    "import seaborn as sns\n",
    "from mpl_toolkits.mplot3d import Axes3D\n",
    "import imagesc as imagesc"
   ]
  },
  {
   "cell_type": "code",
   "execution_count": 20,
   "metadata": {},
   "outputs": [],
   "source": [
    "longi=\"-119.349\"\n",
    "lat=\"36.1352\""
   ]
  },
  {
   "cell_type": "code",
   "execution_count": 21,
   "metadata": {},
   "outputs": [],
   "source": [
    "lon_south=pd.read_csv('InSAR_data_south/longitude.csv')\n",
    "lat_south=pd.read_csv('InSAR_data_south/latitude.csv')\n",
    "CSVpath=\"E:/DSFellowship/InSAR_data_south/displacement/CSV/\"\n",
    "# load one file\n"
   ]
  },
  {
   "cell_type": "code",
   "execution_count": 22,
   "metadata": {},
   "outputs": [],
   "source": [
    "displacement=[]\n",
    "date=[]\n",
    "for f in os.listdir(CSVpath):\n",
    "    #print(f)\n",
    "    name, ext=os.path.splitext(f)\n",
    "    date.append(int(name))\n",
    "    # change columns and index names into lon and lat\n",
    "date.sort()\n",
    "\n"
   ]
  },
  {
   "cell_type": "code",
   "execution_count": 23,
   "metadata": {},
   "outputs": [
    {
     "name": "stdout",
     "output_type": "stream",
     "text": [
      "[0.0, -2.348, 0.29425, -1.0649, -2.7628, -3.1882, -5.0385, -6.7351, -10.232, -11.704, -12.48, -15.882, -19.311, -19.25, -18.395, -19.052, -18.866, -17.181, -20.001, -18.252, -17.879, -17.695, -19.939, -19.501, -20.068, -18.843, -21.166, -21.547, -21.667, -24.297, -24.272, -26.189, -30.104, -29.224, -31.22, -31.712, -32.181, -31.71, -34.99, -33.107, -32.633, -32.061, -33.858, -32.703, -32.967, -33.313, -33.235, -32.664, -33.158, -31.862, -32.689, -32.278, -30.776, -33.29, -33.515, -32.221, -31.883, -32.633, -33.028, -34.111, -35.192, -35.117, -35.778, -35.954, -37.331, -36.74, -34.658, -37.256, -38.246, -37.072, -38.136, -39.604, -36.93, -36.243, -37.927, -37.516, -37.033, -36.377, -36.53, -37.913, -39.063, -38.884, -37.511, -38.593, -40.715, -38.405, -40.567, -39.468, -41.736, -42.835, -44.341, -43.344, -44.155, nan, -46.06, -47.983, -49.04, -50.19, -48.78, -50.701, -49.764, -49.891, -49.823, -49.173, -49.986, -48.972, -48.171, -48.865, -49.518, -49.159]\n"
     ]
    }
   ],
   "source": [
    "for f in date:\n",
    "    z_south=pd.read_csv(CSVpath+str(f)+'.csv')\n",
    "    z_south.columns=lon_south.columns\n",
    "    z_south.index=lat_south.columns[:-1]\n",
    "    #displacement\n",
    "    displacement.append(z_south.loc[lat,longi])\n",
    "print(displacement)"
   ]
  },
  {
   "cell_type": "code",
   "execution_count": 24,
   "metadata": {},
   "outputs": [],
   "source": [
    "for f in range(len(displacement)):\n",
    "    if(np.isnan(displacement[f])):\n",
    "        if(f==0):\n",
    "            displacement[f]=0\n",
    "        else:\n",
    "            displacement[f]=(displacement[f-1]+displacement[f+1])/2"
   ]
  },
  {
   "cell_type": "code",
   "execution_count": 25,
   "metadata": {},
   "outputs": [
    {
     "name": "stdout",
     "output_type": "stream",
     "text": [
      "[0.0, -2.348, 0.29425, -1.0649, -2.7628, -3.1882, -5.0385, -6.7351, -10.232, -11.704, -12.48, -15.882, -19.311, -19.25, -18.395, -19.052, -18.866, -17.181, -20.001, -18.252, -17.879, -17.695, -19.939, -19.501, -20.068, -18.843, -21.166, -21.547, -21.667, -24.297, -24.272, -26.189, -30.104, -29.224, -31.22, -31.712, -32.181, -31.71, -34.99, -33.107, -32.633, -32.061, -33.858, -32.703, -32.967, -33.313, -33.235, -32.664, -33.158, -31.862, -32.689, -32.278, -30.776, -33.29, -33.515, -32.221, -31.883, -32.633, -33.028, -34.111, -35.192, -35.117, -35.778, -35.954, -37.331, -36.74, -34.658, -37.256, -38.246, -37.072, -38.136, -39.604, -36.93, -36.243, -37.927, -37.516, -37.033, -36.377, -36.53, -37.913, -39.063, -38.884, -37.511, -38.593, -40.715, -38.405, -40.567, -39.468, -41.736, -42.835, -44.341, -43.344, -44.155, -45.1075, -46.06, -47.983, -49.04, -50.19, -48.78, -50.701, -49.764, -49.891, -49.823, -49.173, -49.986, -48.972, -48.171, -48.865, -49.518, -49.159]\n"
     ]
    }
   ],
   "source": [
    "print(displacement)"
   ]
  },
  {
   "cell_type": "code",
   "execution_count": 26,
   "metadata": {},
   "outputs": [
    {
     "name": "stdout",
     "output_type": "stream",
     "text": [
      "220\n",
      "(110, 2)\n"
     ]
    }
   ],
   "source": [
    "data_tuples=list(zip(date,displacement))\n",
    "df=pd.DataFrame(data_tuples, columns=['Date','Disp'])\n",
    "print(df.size)\n",
    "df_np=df.to_numpy()\n",
    "print(df_np.shape)"
   ]
  },
  {
   "cell_type": "code",
   "execution_count": 27,
   "metadata": {},
   "outputs": [
    {
     "data": {
      "text/plain": [
       "array([[20141108],\n",
       "       [20141202],\n",
       "       [20141226],\n",
       "       [20150212],\n",
       "       [20150308],\n",
       "       [20150401],\n",
       "       [20150425],\n",
       "       [20150519],\n",
       "       [20150612],\n",
       "       [20150706],\n",
       "       [20150730],\n",
       "       [20150823],\n",
       "       [20150916],\n",
       "       [20151010],\n",
       "       [20151103],\n",
       "       [20151127],\n",
       "       [20151209],\n",
       "       [20151221],\n",
       "       [20160114],\n",
       "       [20160126],\n",
       "       [20160207],\n",
       "       [20160219],\n",
       "       [20160302],\n",
       "       [20160314],\n",
       "       [20160326],\n",
       "       [20160407],\n",
       "       [20160419],\n",
       "       [20160501],\n",
       "       [20160513],\n",
       "       [20160525],\n",
       "       [20160606],\n",
       "       [20160630],\n",
       "       [20160724],\n",
       "       [20160817],\n",
       "       [20160910],\n",
       "       [20160922],\n",
       "       [20161004],\n",
       "       [20161016],\n",
       "       [20161028],\n",
       "       [20161109],\n",
       "       [20161121],\n",
       "       [20161203],\n",
       "       [20161215],\n",
       "       [20161227],\n",
       "       [20170108],\n",
       "       [20170114],\n",
       "       [20170120],\n",
       "       [20170126],\n",
       "       [20170201],\n",
       "       [20170213],\n",
       "       [20170225],\n",
       "       [20170309],\n",
       "       [20170321],\n",
       "       [20170402],\n",
       "       [20170414],\n",
       "       [20170426],\n",
       "       [20170508],\n",
       "       [20170520],\n",
       "       [20170601],\n",
       "       [20170613],\n",
       "       [20170625],\n",
       "       [20170707],\n",
       "       [20170719],\n",
       "       [20170731],\n",
       "       [20170812],\n",
       "       [20170824],\n",
       "       [20170905],\n",
       "       [20170917],\n",
       "       [20170929],\n",
       "       [20171011],\n",
       "       [20171023],\n",
       "       [20171104],\n",
       "       [20171116],\n",
       "       [20171128],\n",
       "       [20171210],\n",
       "       [20171222],\n",
       "       [20180103],\n",
       "       [20180115],\n",
       "       [20180127],\n",
       "       [20180208],\n",
       "       [20180220],\n",
       "       [20180304],\n",
       "       [20180316],\n",
       "       [20180328],\n",
       "       [20180409],\n",
       "       [20180421],\n",
       "       [20180503],\n",
       "       [20180515],\n",
       "       [20180527],\n",
       "       [20180608],\n",
       "       [20180620],\n",
       "       [20180702],\n",
       "       [20180714],\n",
       "       [20180726],\n",
       "       [20180807],\n",
       "       [20180819],\n",
       "       [20180831],\n",
       "       [20180912],\n",
       "       [20180924],\n",
       "       [20181006],\n",
       "       [20181018],\n",
       "       [20181030],\n",
       "       [20181111],\n",
       "       [20181117],\n",
       "       [20181123],\n",
       "       [20181205],\n",
       "       [20181217],\n",
       "       [20181229],\n",
       "       [20190110],\n",
       "       [20190122]], dtype=int64)"
      ]
     },
     "execution_count": 27,
     "metadata": {},
     "output_type": "execute_result"
    }
   ],
   "source": [
    "df.iloc[:, 0:1].values"
   ]
  },
  {
   "cell_type": "code",
   "execution_count": 28,
   "metadata": {},
   "outputs": [
    {
     "data": {
      "text/html": [
       "<div>\n",
       "<style scoped>\n",
       "    .dataframe tbody tr th:only-of-type {\n",
       "        vertical-align: middle;\n",
       "    }\n",
       "\n",
       "    .dataframe tbody tr th {\n",
       "        vertical-align: top;\n",
       "    }\n",
       "\n",
       "    .dataframe thead th {\n",
       "        text-align: right;\n",
       "    }\n",
       "</style>\n",
       "<table border=\"1\" class=\"dataframe\">\n",
       "  <thead>\n",
       "    <tr style=\"text-align: right;\">\n",
       "      <th></th>\n",
       "      <th>Date</th>\n",
       "      <th>Disp</th>\n",
       "    </tr>\n",
       "  </thead>\n",
       "  <tbody>\n",
       "    <tr>\n",
       "      <th>0</th>\n",
       "      <td>20141108</td>\n",
       "      <td>0.00000</td>\n",
       "    </tr>\n",
       "    <tr>\n",
       "      <th>1</th>\n",
       "      <td>20141202</td>\n",
       "      <td>-2.34800</td>\n",
       "    </tr>\n",
       "    <tr>\n",
       "      <th>2</th>\n",
       "      <td>20141226</td>\n",
       "      <td>0.29425</td>\n",
       "    </tr>\n",
       "    <tr>\n",
       "      <th>3</th>\n",
       "      <td>20150212</td>\n",
       "      <td>-1.06490</td>\n",
       "    </tr>\n",
       "    <tr>\n",
       "      <th>4</th>\n",
       "      <td>20150308</td>\n",
       "      <td>-2.76280</td>\n",
       "    </tr>\n",
       "    <tr>\n",
       "      <th>...</th>\n",
       "      <td>...</td>\n",
       "      <td>...</td>\n",
       "    </tr>\n",
       "    <tr>\n",
       "      <th>105</th>\n",
       "      <td>20181205</td>\n",
       "      <td>-48.97200</td>\n",
       "    </tr>\n",
       "    <tr>\n",
       "      <th>106</th>\n",
       "      <td>20181217</td>\n",
       "      <td>-48.17100</td>\n",
       "    </tr>\n",
       "    <tr>\n",
       "      <th>107</th>\n",
       "      <td>20181229</td>\n",
       "      <td>-48.86500</td>\n",
       "    </tr>\n",
       "    <tr>\n",
       "      <th>108</th>\n",
       "      <td>20190110</td>\n",
       "      <td>-49.51800</td>\n",
       "    </tr>\n",
       "    <tr>\n",
       "      <th>109</th>\n",
       "      <td>20190122</td>\n",
       "      <td>-49.15900</td>\n",
       "    </tr>\n",
       "  </tbody>\n",
       "</table>\n",
       "<p>110 rows × 2 columns</p>\n",
       "</div>"
      ],
      "text/plain": [
       "         Date      Disp\n",
       "0    20141108   0.00000\n",
       "1    20141202  -2.34800\n",
       "2    20141226   0.29425\n",
       "3    20150212  -1.06490\n",
       "4    20150308  -2.76280\n",
       "..        ...       ...\n",
       "105  20181205 -48.97200\n",
       "106  20181217 -48.17100\n",
       "107  20181229 -48.86500\n",
       "108  20190110 -49.51800\n",
       "109  20190122 -49.15900\n",
       "\n",
       "[110 rows x 2 columns]"
      ]
     },
     "execution_count": 28,
     "metadata": {},
     "output_type": "execute_result"
    }
   ],
   "source": [
    "df"
   ]
  },
  {
   "cell_type": "code",
   "execution_count": 29,
   "metadata": {},
   "outputs": [],
   "source": [
    "from datetime import timedelta\n",
    "import calendar\n",
    "df.index=pd.to_datetime(df['Date'], format='%Y%m%d')"
   ]
  },
  {
   "cell_type": "code",
   "execution_count": 30,
   "metadata": {},
   "outputs": [
    {
     "data": {
      "text/plain": [
       "<AxesSubplot:xlabel='Date'>"
      ]
     },
     "execution_count": 30,
     "metadata": {},
     "output_type": "execute_result"
    },
    {
     "data": {
      "image/png": "[encoded data removed]",
      "text/plain": [
       "<Figure size 432x288 with 1 Axes>"
      ]
     },
     "metadata": {
      "needs_background": "light"
     },
     "output_type": "display_data"
    }
   ],
   "source": [
    "temp=df['Disp']\n",
    "temp.plot()"
   ]
  },
  {
   "cell_type": "code",
   "execution_count": 38,
   "metadata": {},
   "outputs": [
    {
     "name": "stdout",
     "output_type": "stream",
     "text": [
      "DatetimeIndex(['2014-11-08'], dtype='datetime64[ns]', freq=None)\n"
     ]
    }
   ],
   "source": [
    "\n",
    "\n",
    "# Random Forest Regression\n",
    "\n",
    "\n",
    "# Importing the datasets df.index=pd.to_datetime(df['Date'], format='%Y%m%d')\n",
    "X = df.iloc[:, 0:1].values\n",
    "Y = df.iloc[:, 1:2].values\n",
    "#X = [pd.to_datetime(x, format='%Y%m%d') for x in X]\n",
    "print(X[0])\n",
    "#print(Y)"
   ]
  },
  {
   "cell_type": "code",
   "execution_count": 41,
   "metadata": {},
   "outputs": [
    {
     "name": "stderr",
     "output_type": "stream",
     "text": [
      "C:\\Users\\jupad\\AppData\\Local\\Temp\\ipykernel_13600\\1953530892.py:5: DataConversionWarning: A column-vector y was passed when a 1d array was expected. Please change the shape of y to (n_samples,), for example using ravel().\n",
      "  regressor.fit(X,Y)\n"
     ]
    },
    {
     "data": {
      "image/png": "[encoded data removed]",
      "text/plain": [
       "<Figure size 432x288 with 1 Axes>"
      ]
     },
     "metadata": {
      "needs_background": "light"
     },
     "output_type": "display_data"
    }
   ],
   "source": [
    "\n",
    "\n",
    "# Fitting the Regression model to the dataset\n",
    "\n",
    "from sklearn.ensemble import RandomForestRegressor\n",
    "regressor = RandomForestRegressor(n_estimators = 500, random_state = 0)\n",
    "regressor.fit(X,Y)\n",
    "\n",
    "# Predicting a new result with the Random Forest Regression\n",
    "\n",
    "Y_Pred = regressor.predict(np.array([6.5]).reshape(-1, 1))\n",
    "\n",
    "# Visualising the Random Forest Regression results in higher resolution and smoother curve\n",
    "X_Grid=np.arange(np.datetime64(\"2014-01-01\"), np.datetime64(\"2020-01-01\"), np.timedelta64(1, 'Y'), dtype='datetime64[Y]').astype('datetime64[D]')\n",
    "#X_Grid = np.arange(min(X), max(X), 0.01)\n",
    "X_Grid = X_Grid.reshape((len(X_Grid), 1))\n",
    "plt.scatter(X,Y, color = 'red')\n",
    "plt.plot(X_Grid, regressor.predict(X_Grid), color = 'blue')\n",
    "plt.title('Random Forest Regression Results')\n",
    "plt.xlabel('Date')\n",
    "plt.ylabel('Displacement')\n",
    "plt.show()"
   ]
  },
  {
   "cell_type": "markdown",
   "metadata": {},
   "source": []
  },
  {
   "cell_type": "code",
   "execution_count": 33,
   "metadata": {},
   "outputs": [
    {
     "ename": "ImportError",
     "evalue": "cannot import name 'Imputer' from 'sklearn.preprocessing' (c:\\Python\\Python310\\lib\\site-packages\\sklearn\\preprocessing\\__init__.py)",
     "output_type": "error",
     "traceback": [
      "\u001b[1;31m---------------------------------------------------------------------------\u001b[0m",
      "\u001b[1;31mImportError\u001b[0m                               Traceback (most recent call last)",
      "\u001b[1;32me:\\DSFellowship\\06292022.ipynb Cell 15'\u001b[0m in \u001b[0;36m<cell line: 2>\u001b[1;34m()\u001b[0m\n\u001b[0;32m      <a href='vscode-notebook-cell:/e%3A/DSFellowship/06292022.ipynb#ch0000011?line=0'>1</a>\u001b[0m \u001b[39mfrom\u001b[39;00m \u001b[39msklearn\u001b[39;00m\u001b[39m.\u001b[39;00m\u001b[39mlinear_model\u001b[39;00m \u001b[39mimport\u001b[39;00m LinearRegression\n\u001b[1;32m----> <a href='vscode-notebook-cell:/e%3A/DSFellowship/06292022.ipynb#ch0000011?line=1'>2</a>\u001b[0m \u001b[39mfrom\u001b[39;00m \u001b[39msklearn\u001b[39;00m\u001b[39m.\u001b[39;00m\u001b[39mpreprocessing\u001b[39;00m \u001b[39mimport\u001b[39;00m Imputer\n\u001b[0;32m      <a href='vscode-notebook-cell:/e%3A/DSFellowship/06292022.ipynb#ch0000011?line=2'>3</a>\u001b[0m imputer \u001b[39m=\u001b[39m Imputer()\n\u001b[0;32m      <a href='vscode-notebook-cell:/e%3A/DSFellowship/06292022.ipynb#ch0000011?line=3'>4</a>\u001b[0m y_imputed \u001b[39m=\u001b[39m imputer\u001b[39m.\u001b[39mfit_transform(date)\n",
      "\u001b[1;31mImportError\u001b[0m: cannot import name 'Imputer' from 'sklearn.preprocessing' (c:\\Python\\Python310\\lib\\site-packages\\sklearn\\preprocessing\\__init__.py)"
     ]
    }
   ],
   "source": [
    "from sklearn.linear_model import LinearRegression\n",
    "from sklearn.preprocessing import Imputer\n",
    "imputer = Imputer()\n",
    "y_imputed = imputer.fit_transform(date)\n",
    "sklearn_model=LinearRegression().fit(df_np.reshape(110,2), date)"
   ]
  }
 ],
 "metadata": {
  "kernelspec": {
   "display_name": "Python 3.10.5 64-bit",
   "language": "python",
   "name": "python3"
  },
  "language_info": {
   "codemirror_mode": {
    "name": "ipython",
    "version": 3
   },
   "file_extension": ".py",
   "mimetype": "text/x-python",
   "name": "python",
   "nbconvert_exporter": "python",
   "pygments_lexer": "ipython3",
   "version": "3.10.5"
  },
  "orig_nbformat": 4,
  "vscode": {
   "interpreter": {
    "hash": "d3e10ef16274dd72e574b8fa73b58450b957d8421a2901baded3cca26fcf5dda"
   }
  }
 },
 "nbformat": 4,
 "nbformat_minor": 2
}
