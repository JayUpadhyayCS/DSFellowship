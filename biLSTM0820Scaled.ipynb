{
 "cells": [
  {
   "cell_type": "code",
   "execution_count": 83,
   "metadata": {},
   "outputs": [
    {
     "name": "stdout",
     "output_type": "stream",
     "text": [
      "Tensorflow/Keras: 2.9.0\n",
      "pandas: 1.4.2\n",
      "numpy: 1.22.4\n",
      "sklearn: 1.1.1\n",
      "plotly: 5.9.0\n"
     ]
    }
   ],
   "source": [
    "# Tensorflow / Keras\n",
    "from tensorflow import keras # for building Neural Networks\n",
    "print('Tensorflow/Keras: %s' % keras.__version__) # print version\n",
    "from keras.models import Sequential # for creating a linear stack of layers for our Neural Network\n",
    "from keras import Input # for instantiating a keras tensor\n",
    "from keras.layers import Masking,Bidirectional, LSTM, RepeatVector, Dense, TimeDistributed,MaxPooling1D, Flatten, Conv1D,Conv2D,Dropout, MaxPooling2D, GRU # for creating layers inside the Neural Network\n",
    "from keras.optimizers import Adam , SGD\n",
    "from keras import metrics, callbacks\n",
    "from keras.utils import plot_model\n",
    "# Data manipulation\n",
    "import pandas as pd # for data manipulation\n",
    "print('pandas: %s' % pd.__version__) # print version\n",
    "import numpy as np # for data manipulation\n",
    "print('numpy: %s' % np.__version__) # print version\n",
    "import numpy.ma as ma\n",
    "# Sklearn\n",
    "import sklearn\n",
    "print('sklearn: %s' % sklearn.__version__) # print version\n",
    "from sklearn.preprocessing import MinMaxScaler, StandardScaler # for feature scaling\n",
    "from sklearn.model_selection import train_test_split\n",
    "# Visualization\n",
    "import plotly \n",
    "import plotly.express as px\n",
    "import plotly.graph_objects as go\n",
    "print('plotly: %s' % plotly.__version__) # print version\n",
    "from matplotlib import pyplot as plt\n",
    "\n",
    "#file accessing\n",
    "import os\n",
    "# time stuff\n",
    "from datetime import timedelta\n",
    "import calendar\n"
   ]
  },
  {
   "cell_type": "code",
   "execution_count": 84,
   "metadata": {},
   "outputs": [
    {
     "name": "stdout",
     "output_type": "stream",
     "text": [
      "Defined the plot_the_model and plot_the_loss_curve functions.\n"
     ]
    }
   ],
   "source": [
    "#@title Define the plotting functions\n",
    "def plot_the_model(trained_weight, trained_bias, feature, label):\n",
    "  \"\"\"Plot the trained model against the training feature and label.\"\"\"\n",
    "\n",
    "  # Label the axes.\n",
    "  plt.xlabel(\"feature\")\n",
    "  plt.ylabel(\"label\")\n",
    "\n",
    "  # Plot the feature values vs. label values.\n",
    "  plt.scatter(feature, label)\n",
    "\n",
    "  # Create a red line representing the model. The red line starts\n",
    "  # at coordinates (x0, y0) and ends at coordinates (x1, y1).\n",
    "  x0 = 0\n",
    "  y0 = trained_bias\n",
    "  x1 = feature[-1]\n",
    "  y1 = trained_bias + (trained_weight * x1)\n",
    "  plt.plot([x0, x1], [y0, y1], c='r')\n",
    "\n",
    "  # Render the scatter plot and the red line.\n",
    "  plt.show()\n",
    "\n",
    "def plot_the_loss_curve(epochs, mse):\n",
    "  \"\"\"Plot the loss curve, which shows loss vs. epoch.\"\"\"\n",
    "\n",
    "  plt.figure()\n",
    "  plt.xlabel(\"Epoch\")\n",
    "  plt.ylabel(\"Mean Squared Error\")\n",
    "  #epochs.remove(max(epochs))\n",
    "  \n",
    "  #rmse.drop(max(rmse))\n",
    "  plt.plot(epochs, mse, label=\"Loss\")\n",
    "  plt.legend()\n",
    "  plt.ylim([min(mse)*0.97, max(mse)])\n",
    "  plt.show()\n",
    "\n",
    "print(\"Defined the plot_the_model and plot_the_loss_curve functions.\")"
   ]
  },
  {
   "cell_type": "markdown",
   "metadata": {},
   "source": [
    "##### Read from file and establish dataframe and future functions"
   ]
  },
  {
   "cell_type": "code",
   "execution_count": 85,
   "metadata": {},
   "outputs": [
    {
     "data": {
      "text/html": [
       "<div>\n",
       "<style scoped>\n",
       "    .dataframe tbody tr th:only-of-type {\n",
       "        vertical-align: middle;\n",
       "    }\n",
       "\n",
       "    .dataframe tbody tr th {\n",
       "        vertical-align: top;\n",
       "    }\n",
       "\n",
       "    .dataframe thead th {\n",
       "        text-align: right;\n",
       "    }\n",
       "</style>\n",
       "<table border=\"1\" class=\"dataframe\">\n",
       "  <thead>\n",
       "    <tr style=\"text-align: right;\">\n",
       "      <th></th>\n",
       "      <th></th>\n",
       "      <th>2014-11-08</th>\n",
       "      <th>2014-12-02</th>\n",
       "      <th>2014-12-26</th>\n",
       "      <th>2015-02-12</th>\n",
       "      <th>2015-03-08</th>\n",
       "      <th>2015-04-01</th>\n",
       "      <th>2015-04-25</th>\n",
       "      <th>2015-05-19</th>\n",
       "      <th>2015-06-12</th>\n",
       "      <th>2015-07-06</th>\n",
       "      <th>...</th>\n",
       "      <th>2018-10-18</th>\n",
       "      <th>2018-10-30</th>\n",
       "      <th>2018-11-11</th>\n",
       "      <th>2018-11-17</th>\n",
       "      <th>2018-11-23</th>\n",
       "      <th>2018-12-05</th>\n",
       "      <th>2018-12-17</th>\n",
       "      <th>2018-12-29</th>\n",
       "      <th>2019-01-10</th>\n",
       "      <th>2019-01-22</th>\n",
       "    </tr>\n",
       "    <tr>\n",
       "      <th>Longitude</th>\n",
       "      <th>Latitude</th>\n",
       "      <th></th>\n",
       "      <th></th>\n",
       "      <th></th>\n",
       "      <th></th>\n",
       "      <th></th>\n",
       "      <th></th>\n",
       "      <th></th>\n",
       "      <th></th>\n",
       "      <th></th>\n",
       "      <th></th>\n",
       "      <th></th>\n",
       "      <th></th>\n",
       "      <th></th>\n",
       "      <th></th>\n",
       "      <th></th>\n",
       "      <th></th>\n",
       "      <th></th>\n",
       "      <th></th>\n",
       "      <th></th>\n",
       "      <th></th>\n",
       "      <th></th>\n",
       "    </tr>\n",
       "  </thead>\n",
       "  <tbody>\n",
       "    <tr>\n",
       "      <th>-119.499</th>\n",
       "      <th>35.8811</th>\n",
       "      <td>0.0</td>\n",
       "      <td>-5.1976</td>\n",
       "      <td>0.002910</td>\n",
       "      <td>-0.87038</td>\n",
       "      <td>-2.83100</td>\n",
       "      <td>-0.17624</td>\n",
       "      <td>-2.49600</td>\n",
       "      <td>-2.5998</td>\n",
       "      <td>-4.2793</td>\n",
       "      <td>-2.6121</td>\n",
       "      <td>...</td>\n",
       "      <td>-17.6270</td>\n",
       "      <td>-17.6170</td>\n",
       "      <td>-17.7090</td>\n",
       "      <td>-17.2970</td>\n",
       "      <td>-18.4290</td>\n",
       "      <td>-18.4740</td>\n",
       "      <td>-16.76100</td>\n",
       "      <td>-17.3360</td>\n",
       "      <td>-18.36200</td>\n",
       "      <td>-18.0470</td>\n",
       "    </tr>\n",
       "    <tr>\n",
       "      <th>-119.489</th>\n",
       "      <th>36.0692</th>\n",
       "      <td>0.0</td>\n",
       "      <td>-6.1830</td>\n",
       "      <td>-2.290800</td>\n",
       "      <td>-6.39680</td>\n",
       "      <td>-10.11400</td>\n",
       "      <td>-9.55530</td>\n",
       "      <td>-13.43600</td>\n",
       "      <td>-15.6880</td>\n",
       "      <td>-19.0580</td>\n",
       "      <td>-20.1470</td>\n",
       "      <td>...</td>\n",
       "      <td>-78.8950</td>\n",
       "      <td>-79.7530</td>\n",
       "      <td>-80.0230</td>\n",
       "      <td>-79.5920</td>\n",
       "      <td>-81.3310</td>\n",
       "      <td>-80.0170</td>\n",
       "      <td>-79.62900</td>\n",
       "      <td>-80.7130</td>\n",
       "      <td>-81.28900</td>\n",
       "      <td>-80.7730</td>\n",
       "    </tr>\n",
       "    <tr>\n",
       "      <th>-119.485</th>\n",
       "      <th>35.9212</th>\n",
       "      <td>0.0</td>\n",
       "      <td>-5.4226</td>\n",
       "      <td>-0.099413</td>\n",
       "      <td>-0.40273</td>\n",
       "      <td>-3.26670</td>\n",
       "      <td>-0.75501</td>\n",
       "      <td>-3.53220</td>\n",
       "      <td>-4.0610</td>\n",
       "      <td>-5.8979</td>\n",
       "      <td>-5.0366</td>\n",
       "      <td>...</td>\n",
       "      <td>-31.0530</td>\n",
       "      <td>-30.7590</td>\n",
       "      <td>-31.1280</td>\n",
       "      <td>-30.6970</td>\n",
       "      <td>-32.0480</td>\n",
       "      <td>-31.8140</td>\n",
       "      <td>-30.57200</td>\n",
       "      <td>-30.6870</td>\n",
       "      <td>-31.96400</td>\n",
       "      <td>-31.6260</td>\n",
       "    </tr>\n",
       "    <tr>\n",
       "      <th rowspan=\"2\" valign=\"top\">-119.483</th>\n",
       "      <th>35.8892</th>\n",
       "      <td>0.0</td>\n",
       "      <td>-5.2906</td>\n",
       "      <td>0.279230</td>\n",
       "      <td>-0.61004</td>\n",
       "      <td>-2.88080</td>\n",
       "      <td>-0.36279</td>\n",
       "      <td>-3.06800</td>\n",
       "      <td>-3.6082</td>\n",
       "      <td>-5.4421</td>\n",
       "      <td>-3.9762</td>\n",
       "      <td>...</td>\n",
       "      <td>-23.4700</td>\n",
       "      <td>-23.4350</td>\n",
       "      <td>-23.5610</td>\n",
       "      <td>-23.1400</td>\n",
       "      <td>-24.2660</td>\n",
       "      <td>-24.3520</td>\n",
       "      <td>-22.87600</td>\n",
       "      <td>-23.1950</td>\n",
       "      <td>-24.14200</td>\n",
       "      <td>-23.9220</td>\n",
       "    </tr>\n",
       "    <tr>\n",
       "      <th>36.0872</th>\n",
       "      <td>0.0</td>\n",
       "      <td>-5.6696</td>\n",
       "      <td>-2.353800</td>\n",
       "      <td>-5.54400</td>\n",
       "      <td>-9.14370</td>\n",
       "      <td>-8.62340</td>\n",
       "      <td>-11.66000</td>\n",
       "      <td>-13.6640</td>\n",
       "      <td>-16.5320</td>\n",
       "      <td>-17.6760</td>\n",
       "      <td>...</td>\n",
       "      <td>-67.3870</td>\n",
       "      <td>-68.5080</td>\n",
       "      <td>-68.7930</td>\n",
       "      <td>-68.4550</td>\n",
       "      <td>-69.9330</td>\n",
       "      <td>-68.9950</td>\n",
       "      <td>-68.53700</td>\n",
       "      <td>-69.6780</td>\n",
       "      <td>-70.31600</td>\n",
       "      <td>-70.0430</td>\n",
       "    </tr>\n",
       "    <tr>\n",
       "      <th>...</th>\n",
       "      <th>...</th>\n",
       "      <td>...</td>\n",
       "      <td>...</td>\n",
       "      <td>...</td>\n",
       "      <td>...</td>\n",
       "      <td>...</td>\n",
       "      <td>...</td>\n",
       "      <td>...</td>\n",
       "      <td>...</td>\n",
       "      <td>...</td>\n",
       "      <td>...</td>\n",
       "      <td>...</td>\n",
       "      <td>...</td>\n",
       "      <td>...</td>\n",
       "      <td>...</td>\n",
       "      <td>...</td>\n",
       "      <td>...</td>\n",
       "      <td>...</td>\n",
       "      <td>...</td>\n",
       "      <td>...</td>\n",
       "      <td>...</td>\n",
       "      <td>...</td>\n",
       "    </tr>\n",
       "    <tr>\n",
       "      <th rowspan=\"2\" valign=\"top\">-119.203</th>\n",
       "      <th>35.9012</th>\n",
       "      <td>0.0</td>\n",
       "      <td>-2.1813</td>\n",
       "      <td>0.146740</td>\n",
       "      <td>-0.82776</td>\n",
       "      <td>-1.59590</td>\n",
       "      <td>-1.49870</td>\n",
       "      <td>-3.26190</td>\n",
       "      <td>-6.0670</td>\n",
       "      <td>-8.1696</td>\n",
       "      <td>-10.1180</td>\n",
       "      <td>...</td>\n",
       "      <td>-38.7620</td>\n",
       "      <td>-38.4330</td>\n",
       "      <td>-38.3710</td>\n",
       "      <td>-38.2510</td>\n",
       "      <td>-38.7200</td>\n",
       "      <td>-37.9590</td>\n",
       "      <td>-37.25500</td>\n",
       "      <td>-36.5580</td>\n",
       "      <td>-38.14000</td>\n",
       "      <td>-37.5610</td>\n",
       "    </tr>\n",
       "    <tr>\n",
       "      <th>36.0172</th>\n",
       "      <td>0.0</td>\n",
       "      <td>-1.7840</td>\n",
       "      <td>-0.788450</td>\n",
       "      <td>-2.57420</td>\n",
       "      <td>-3.52040</td>\n",
       "      <td>-3.68770</td>\n",
       "      <td>-4.21260</td>\n",
       "      <td>-6.5993</td>\n",
       "      <td>-7.5372</td>\n",
       "      <td>-8.5782</td>\n",
       "      <td>...</td>\n",
       "      <td>-47.9900</td>\n",
       "      <td>-47.8310</td>\n",
       "      <td>-48.3430</td>\n",
       "      <td>-47.9480</td>\n",
       "      <td>-48.8440</td>\n",
       "      <td>-48.2160</td>\n",
       "      <td>-47.15700</td>\n",
       "      <td>-47.2200</td>\n",
       "      <td>-48.50500</td>\n",
       "      <td>-48.1470</td>\n",
       "    </tr>\n",
       "    <tr>\n",
       "      <th rowspan=\"3\" valign=\"top\">-119.201</th>\n",
       "      <th>35.6711</th>\n",
       "      <td>0.0</td>\n",
       "      <td>-2.6897</td>\n",
       "      <td>1.140600</td>\n",
       "      <td>0.90695</td>\n",
       "      <td>-0.61151</td>\n",
       "      <td>0.80867</td>\n",
       "      <td>-0.32340</td>\n",
       "      <td>-2.2987</td>\n",
       "      <td>-1.2513</td>\n",
       "      <td>-1.8454</td>\n",
       "      <td>...</td>\n",
       "      <td>-4.7416</td>\n",
       "      <td>-4.6556</td>\n",
       "      <td>-4.0714</td>\n",
       "      <td>-3.9347</td>\n",
       "      <td>-4.4595</td>\n",
       "      <td>-4.7927</td>\n",
       "      <td>-2.95600</td>\n",
       "      <td>-1.6601</td>\n",
       "      <td>-3.92980</td>\n",
       "      <td>-3.9770</td>\n",
       "    </tr>\n",
       "    <tr>\n",
       "      <th>35.7871</th>\n",
       "      <td>0.0</td>\n",
       "      <td>-1.7958</td>\n",
       "      <td>1.223100</td>\n",
       "      <td>0.80434</td>\n",
       "      <td>0.31989</td>\n",
       "      <td>1.70730</td>\n",
       "      <td>-0.31014</td>\n",
       "      <td>-1.8259</td>\n",
       "      <td>-1.9427</td>\n",
       "      <td>-2.3615</td>\n",
       "      <td>...</td>\n",
       "      <td>-2.0354</td>\n",
       "      <td>-1.7464</td>\n",
       "      <td>-1.1589</td>\n",
       "      <td>-1.1395</td>\n",
       "      <td>-1.4032</td>\n",
       "      <td>-1.1742</td>\n",
       "      <td>0.15527</td>\n",
       "      <td>1.2908</td>\n",
       "      <td>-0.83239</td>\n",
       "      <td>-0.4049</td>\n",
       "    </tr>\n",
       "    <tr>\n",
       "      <th>35.9852</th>\n",
       "      <td>0.0</td>\n",
       "      <td>-1.0605</td>\n",
       "      <td>0.267720</td>\n",
       "      <td>-1.71080</td>\n",
       "      <td>-2.86360</td>\n",
       "      <td>-3.68310</td>\n",
       "      <td>-4.51400</td>\n",
       "      <td>-7.3040</td>\n",
       "      <td>-6.9339</td>\n",
       "      <td>-9.2966</td>\n",
       "      <td>...</td>\n",
       "      <td>-53.8070</td>\n",
       "      <td>-53.2410</td>\n",
       "      <td>-52.9380</td>\n",
       "      <td>-52.6810</td>\n",
       "      <td>-53.5040</td>\n",
       "      <td>-52.6110</td>\n",
       "      <td>-51.69500</td>\n",
       "      <td>-51.3920</td>\n",
       "      <td>-52.83100</td>\n",
       "      <td>-52.7880</td>\n",
       "    </tr>\n",
       "  </tbody>\n",
       "</table>\n",
       "<p>237 rows × 110 columns</p>\n",
       "</div>"
      ],
      "text/plain": [
       "                    2014-11-08  2014-12-02  2014-12-26  2015-02-12  \\\n",
       "Longitude Latitude                                                   \n",
       "-119.499  35.8811          0.0     -5.1976    0.002910    -0.87038   \n",
       "-119.489  36.0692          0.0     -6.1830   -2.290800    -6.39680   \n",
       "-119.485  35.9212          0.0     -5.4226   -0.099413    -0.40273   \n",
       "-119.483  35.8892          0.0     -5.2906    0.279230    -0.61004   \n",
       "          36.0872          0.0     -5.6696   -2.353800    -5.54400   \n",
       "...                        ...         ...         ...         ...   \n",
       "-119.203  35.9012          0.0     -2.1813    0.146740    -0.82776   \n",
       "          36.0172          0.0     -1.7840   -0.788450    -2.57420   \n",
       "-119.201  35.6711          0.0     -2.6897    1.140600     0.90695   \n",
       "          35.7871          0.0     -1.7958    1.223100     0.80434   \n",
       "          35.9852          0.0     -1.0605    0.267720    -1.71080   \n",
       "\n",
       "                    2015-03-08  2015-04-01  2015-04-25  2015-05-19  \\\n",
       "Longitude Latitude                                                   \n",
       "-119.499  35.8811     -2.83100    -0.17624    -2.49600     -2.5998   \n",
       "-119.489  36.0692    -10.11400    -9.55530   -13.43600    -15.6880   \n",
       "-119.485  35.9212     -3.26670    -0.75501    -3.53220     -4.0610   \n",
       "-119.483  35.8892     -2.88080    -0.36279    -3.06800     -3.6082   \n",
       "          36.0872     -9.14370    -8.62340   -11.66000    -13.6640   \n",
       "...                        ...         ...         ...         ...   \n",
       "-119.203  35.9012     -1.59590    -1.49870    -3.26190     -6.0670   \n",
       "          36.0172     -3.52040    -3.68770    -4.21260     -6.5993   \n",
       "-119.201  35.6711     -0.61151     0.80867    -0.32340     -2.2987   \n",
       "          35.7871      0.31989     1.70730    -0.31014     -1.8259   \n",
       "          35.9852     -2.86360    -3.68310    -4.51400     -7.3040   \n",
       "\n",
       "                    2015-06-12  2015-07-06  ...  2018-10-18  2018-10-30  \\\n",
       "Longitude Latitude                          ...                           \n",
       "-119.499  35.8811      -4.2793     -2.6121  ...    -17.6270    -17.6170   \n",
       "-119.489  36.0692     -19.0580    -20.1470  ...    -78.8950    -79.7530   \n",
       "-119.485  35.9212      -5.8979     -5.0366  ...    -31.0530    -30.7590   \n",
       "-119.483  35.8892      -5.4421     -3.9762  ...    -23.4700    -23.4350   \n",
       "          36.0872     -16.5320    -17.6760  ...    -67.3870    -68.5080   \n",
       "...                        ...         ...  ...         ...         ...   \n",
       "-119.203  35.9012      -8.1696    -10.1180  ...    -38.7620    -38.4330   \n",
       "          36.0172      -7.5372     -8.5782  ...    -47.9900    -47.8310   \n",
       "-119.201  35.6711      -1.2513     -1.8454  ...     -4.7416     -4.6556   \n",
       "          35.7871      -1.9427     -2.3615  ...     -2.0354     -1.7464   \n",
       "          35.9852      -6.9339     -9.2966  ...    -53.8070    -53.2410   \n",
       "\n",
       "                    2018-11-11  2018-11-17  2018-11-23  2018-12-05  \\\n",
       "Longitude Latitude                                                   \n",
       "-119.499  35.8811     -17.7090    -17.2970    -18.4290    -18.4740   \n",
       "-119.489  36.0692     -80.0230    -79.5920    -81.3310    -80.0170   \n",
       "-119.485  35.9212     -31.1280    -30.6970    -32.0480    -31.8140   \n",
       "-119.483  35.8892     -23.5610    -23.1400    -24.2660    -24.3520   \n",
       "          36.0872     -68.7930    -68.4550    -69.9330    -68.9950   \n",
       "...                        ...         ...         ...         ...   \n",
       "-119.203  35.9012     -38.3710    -38.2510    -38.7200    -37.9590   \n",
       "          36.0172     -48.3430    -47.9480    -48.8440    -48.2160   \n",
       "-119.201  35.6711      -4.0714     -3.9347     -4.4595     -4.7927   \n",
       "          35.7871      -1.1589     -1.1395     -1.4032     -1.1742   \n",
       "          35.9852     -52.9380    -52.6810    -53.5040    -52.6110   \n",
       "\n",
       "                    2018-12-17  2018-12-29  2019-01-10  2019-01-22  \n",
       "Longitude Latitude                                                  \n",
       "-119.499  35.8811    -16.76100    -17.3360   -18.36200    -18.0470  \n",
       "-119.489  36.0692    -79.62900    -80.7130   -81.28900    -80.7730  \n",
       "-119.485  35.9212    -30.57200    -30.6870   -31.96400    -31.6260  \n",
       "-119.483  35.8892    -22.87600    -23.1950   -24.14200    -23.9220  \n",
       "          36.0872    -68.53700    -69.6780   -70.31600    -70.0430  \n",
       "...                        ...         ...         ...         ...  \n",
       "-119.203  35.9012    -37.25500    -36.5580   -38.14000    -37.5610  \n",
       "          36.0172    -47.15700    -47.2200   -48.50500    -48.1470  \n",
       "-119.201  35.6711     -2.95600     -1.6601    -3.92980     -3.9770  \n",
       "          35.7871      0.15527      1.2908    -0.83239     -0.4049  \n",
       "          35.9852    -51.69500    -51.3920   -52.83100    -52.7880  \n",
       "\n",
       "[237 rows x 110 columns]"
      ]
     },
     "execution_count": 85,
     "metadata": {},
     "output_type": "execute_result"
    }
   ],
   "source": [
    "df=pd.read_csv('InSAR_data_south/displacement/traintestset3.csv')\n",
    "df=df.set_index([df.columns[0],df.columns[1]])\n",
    "df.columns=pd.to_datetime(df.columns, format='%Y-%m-%d')\n",
    "df=df.dropna(axis=0, how='all')#drop full nan rows\n",
    "df"
   ]
  },
  {
   "cell_type": "markdown",
   "metadata": {},
   "source": [
    "##### Remove next line to include all data"
   ]
  },
  {
   "cell_type": "markdown",
   "metadata": {},
   "source": [
    "# Timestep"
   ]
  },
  {
   "cell_type": "code",
   "execution_count": 86,
   "metadata": {},
   "outputs": [],
   "source": [
    "timestep=10\n",
    "# 1 2 3 4 5 6 7 ...\n",
    "# w/ timestep of 2\n",
    "# [[1,2][2,3][3,4]"
   ]
  },
  {
   "cell_type": "markdown",
   "metadata": {},
   "source": [
    "# Shaping function (remove start and step for first for loop to include all data)"
   ]
  },
  {
   "cell_type": "code",
   "execution_count": 87,
   "metadata": {},
   "outputs": [],
   "source": [
    "def shaping(datain, timestep):\n",
    "    #print(arr)\n",
    "    cnt=0\n",
    "    for row in range(len(datain.index)): #picks a row at every iteration, allows to reduction of input and inclusion of multiple time series, remove start and step to run on full dataset \n",
    "    # Convert input dataframe to array and flatten\n",
    "        #datain.iloc[row].fillna(datain.iloc[row].mean).to_numpy().flatten()\n",
    "        arr=datain.iloc[row].interpolate().to_numpy().flatten() # flatten row\n",
    "        #arr=arr.fillna(arr.mean)\n",
    "        #arr=np.where(np.isnan(arr), ma.array(arr, mask=np.isnan(arr)).mean(), arr) \n",
    "        for mth in range(0, len(datain.columns)-(2*timestep)+1): # Define range lenght of the dates - 2* amount of timesep?? +1\n",
    "            cnt=cnt+1 # Gives us the number of samples. Later used to reshape the data\n",
    "            X_start=mth # Start month for inputs of each sample\n",
    "            X_end=mth+timestep # End month for inputs of each sample\n",
    "            Y_start=mth+timestep # Start month for targets of each sample. Note, start is inclusive and end is exclusive, that's why X_end and Y_start is the same number\n",
    "            Y_end=mth+2*timestep # End month for targets of each sample.  \n",
    "            \n",
    "            # Assemble input and target arrays containing all samples\n",
    "            if cnt==1:\n",
    "                X_comb=arr[X_start:X_end]\n",
    "                Y_comb=arr[Y_start:Y_end]\n",
    "            else: \n",
    "                X_comb=np.append(X_comb, arr[X_start:X_end])\n",
    "                Y_comb=np.append(Y_comb, arr[Y_start:Y_end])\n",
    "    # Reshape input and target arrays\n",
    "    X_out=np.reshape(X_comb, (cnt, timestep, 1))\n",
    "    Y_out=np.reshape(Y_comb, (cnt, timestep, 1))\n",
    "    return X_out, Y_out"
   ]
  },
  {
   "cell_type": "markdown",
   "metadata": {},
   "source": [
    "##### Step 2 - Split and Shape data"
   ]
  },
  {
   "cell_type": "code",
   "execution_count": 88,
   "metadata": {},
   "outputs": [],
   "source": [
    "#Divides data into 80% training 20% testing\n",
    "#train, test = train_test_split(df, test_size=0.2)\n",
    "# creates sequences to train\n",
    "# X , Y = shaping(datain=df, timestep= timestep )\n",
    "# X_train, X_test, Y_train, Y_test = train_test_split(X,Y , test_size=0.2, random_state=28)\n",
    "# nsamples, nx, ny = X_train.shape\n",
    "# X_train = X_train.reshape((nsamples,nx*ny))\n",
    "# nsamples, nx, ny = Y_train.shape\n",
    "# Y_train = Y_train.reshape((nsamples,nx*ny))\n",
    "# nsamples, nx, ny = X_test.shape\n",
    "# X_test = X_test.reshape((nsamples,nx*ny))\n",
    "# nsamples, nx, ny = Y_test.shape\n",
    "# Y_test = Y_test.reshape((nsamples,nx*ny))\n",
    "#Divides data into 80% training 20% testing\n",
    "scaler=MinMaxScaler()\n",
    "scaler2=MinMaxScaler()\n",
    "train, test = train_test_split(df, test_size=0.2, random_state=63, shuffle=True)\n",
    "# creates sequences to train\n",
    "shuffled = df.sample(frac=1)\n",
    "X_train, Y_train = shaping(datain=shuffled, timestep= timestep )\n",
    "test=pd.read_csv('InSAR_data_south/displacement/testset3.csv')\n",
    "test=test.set_index([test.columns[0],test.columns[1]])\n",
    "test.columns=pd.to_datetime(test.columns, format='%Y-%m-%d')\n",
    "test=test.dropna(axis=0, how='all')#drop full nan rows\n",
    "\n",
    "X_test, Y_test = shaping(datain=test, timestep=timestep)\n",
    "X_train=scaler.fit_transform(X_train.reshape(-1,X_train.shape[-1])).reshape(X_train.shape)\n",
    "X_test=scaler.transform(X_test.reshape(-1,X_test.shape[-1])).reshape(X_test.shape)\n",
    "\n",
    "# Y_train=scaler2.fit_transform(Y_train.reshape(-1,Y_train.shape[-1])).reshape(Y_train.shape)\n",
    "# Y_test=scaler2.transform(Y_test.reshape(-1,Y_test.shape[-1])).reshape(Y_test.shape)"
   ]
  },
  {
   "cell_type": "code",
   "execution_count": 89,
   "metadata": {},
   "outputs": [],
   "source": [
    "# scaler = MinMaxScaler()\n",
    "# scaler2 = MinMaxScaler()\n",
    "# X_train = scaler.fit_transform(X_train.reshape(-1, X_train.shape[-1])).reshape(X_train.shape)\n",
    "# X_test = scaler.transform(X_test.reshape(-1, X_test.shape[-1])).reshape(X_test.shape)\n",
    "# Y_train = scaler2.fit_transform(Y_train.reshape(-1, Y_train.shape[-1])).reshape(Y_train.shape)\n",
    "# Y_test = scaler.transform(Y_test.reshape(-1, Y_test.shape[-1])).reshape(Y_test.shape)\n"
   ]
  },
  {
   "cell_type": "markdown",
   "metadata": {},
   "source": [
    "##### Step 3 - Specify the structure of a Neural Network, first model"
   ]
  },
  {
   "cell_type": "code",
   "execution_count": 90,
   "metadata": {},
   "outputs": [],
   "source": [
    "callback = callbacks.EarlyStopping(monitor='loss', patience=3)\n",
    "model2 = Sequential(name=\"biLSTM-Model\") # Model\n",
    "#model2.add(Masking(mask_value=-1000, input_shape=(timestep, 1)))\n",
    "\n",
    "model2.add(Input(shape=(X_train.shape[1],X_train.shape[2]), name='Input-Layer')) # Input Layer - need to speicfy the shape of inputs\n",
    "model2.add(Bidirectional(LSTM(units=64, activation='relu', recurrent_activation='sigmoid', stateful=False), name='Hidden-LSTM-Encoder-Layer')) # Encoder Layer\n",
    "model2.add(RepeatVector(Y_train.shape[1], name='Repeat-Vector-Layer')) # Repeat Vector\n",
    "model2.add(Bidirectional(LSTM(units=64, activation='relu', recurrent_activation='sigmoid', stateful=False, return_sequences=True), name='Hidden-LSTM-Decoder-Layer')) # Decoder Layer\n",
    "model2.add(TimeDistributed(Dense(units=1, activation='linear'), name='Output-Layer')) # Output Layer, Linear(x) = x\n",
    "#optimizer=Adam(.005)\n",
    "model2.compile(optimizer='adam', # default='rmsprop', an algorithm to be used in backpropagation\n",
    "              loss='mean_squared_error', # Loss function to be optimized. A string (name of loss function), or a tf.keras.losses.Loss instance.\n",
    "              metrics=['MeanSquaredError', 'accuracy'], # List of metrics to be evaluated by the model during training and testing. Each of this can be a string (name of a built-in function), function or a tf.keras.metrics.Metric instance. \n",
    "              loss_weights=None, # default=None, Optional list or dictionary specifying scalar coefficients (Python floats) to weight the loss contributions of different model outputs.\n",
    "              weighted_metrics=None, # default=None, List of metrics to be evaluated and weighted by sample_weight or class_weight during training and testing.\n",
    "              run_eagerly=None, # Defaults to False. If True, this Model's logic will not be wrapped in a tf.function. Recommended to leave this as None unless your Model cannot be run inside a tf.function.\n",
    "              steps_per_execution=None, # Defaults to 1. The number of batches to run during each tf.function call. Running multiple batches inside a single tf.function call can greatly improve performance on TPUs or small models with a large Python overhead.\n",
    "                   \n",
    "             )"
   ]
  },
  {
   "cell_type": "code",
   "execution_count": 91,
   "metadata": {},
   "outputs": [],
   "source": [
    "##### Train model"
   ]
  },
  {
   "cell_type": "code",
   "execution_count": 92,
   "metadata": {},
   "outputs": [
    {
     "name": "stdout",
     "output_type": "stream",
     "text": [
      "Epoch 1/100\n",
      "540/540 - 13s - loss: 189.0441 - mean_squared_error: 189.0439 - accuracy: 0.0000e+00 - 13s/epoch - 24ms/step\n",
      "Epoch 2/100\n",
      "540/540 - 7s - loss: 20.0397 - mean_squared_error: 20.0397 - accuracy: 0.0000e+00 - 7s/epoch - 13ms/step\n",
      "Epoch 3/100\n",
      "540/540 - 7s - loss: 16.3718 - mean_squared_error: 16.3718 - accuracy: 0.0000e+00 - 7s/epoch - 14ms/step\n",
      "Epoch 4/100\n",
      "540/540 - 8s - loss: 14.7237 - mean_squared_error: 14.7237 - accuracy: 0.0000e+00 - 8s/epoch - 15ms/step\n",
      "Epoch 5/100\n",
      "540/540 - 8s - loss: 13.3379 - mean_squared_error: 13.3379 - accuracy: 0.0000e+00 - 8s/epoch - 14ms/step\n",
      "Epoch 6/100\n",
      "540/540 - 7s - loss: 13.2452 - mean_squared_error: 13.2452 - accuracy: 0.0000e+00 - 7s/epoch - 14ms/step\n",
      "Epoch 7/100\n",
      "540/540 - 7s - loss: 12.8289 - mean_squared_error: 12.8289 - accuracy: 0.0000e+00 - 7s/epoch - 14ms/step\n",
      "Epoch 8/100\n",
      "540/540 - 7s - loss: 12.2394 - mean_squared_error: 12.2394 - accuracy: 0.0000e+00 - 7s/epoch - 14ms/step\n",
      "Epoch 9/100\n",
      "540/540 - 7s - loss: 11.8376 - mean_squared_error: 11.8376 - accuracy: 0.0000e+00 - 7s/epoch - 14ms/step\n",
      "Epoch 10/100\n",
      "540/540 - 8s - loss: 11.9307 - mean_squared_error: 11.9307 - accuracy: 0.0000e+00 - 8s/epoch - 14ms/step\n",
      "Epoch 11/100\n",
      "540/540 - 7s - loss: 11.7345 - mean_squared_error: 11.7345 - accuracy: 0.0000e+00 - 7s/epoch - 14ms/step\n",
      "Epoch 12/100\n",
      "540/540 - 8s - loss: 11.5266 - mean_squared_error: 11.5266 - accuracy: 0.0000e+00 - 8s/epoch - 14ms/step\n",
      "Epoch 13/100\n",
      "540/540 - 7s - loss: 11.7779 - mean_squared_error: 11.7779 - accuracy: 0.0000e+00 - 7s/epoch - 14ms/step\n",
      "Epoch 14/100\n",
      "540/540 - 7s - loss: 11.2650 - mean_squared_error: 11.2650 - accuracy: 0.0000e+00 - 7s/epoch - 14ms/step\n",
      "Epoch 15/100\n",
      "540/540 - 8s - loss: 11.3216 - mean_squared_error: 11.3216 - accuracy: 0.0000e+00 - 8s/epoch - 14ms/step\n",
      "Epoch 16/100\n",
      "540/540 - 8s - loss: 11.1939 - mean_squared_error: 11.1939 - accuracy: 0.0000e+00 - 8s/epoch - 14ms/step\n",
      "Epoch 17/100\n",
      "540/540 - 7s - loss: 11.4447 - mean_squared_error: 11.4447 - accuracy: 0.0000e+00 - 7s/epoch - 14ms/step\n",
      "Epoch 18/100\n",
      "540/540 - 7s - loss: 10.8685 - mean_squared_error: 10.8685 - accuracy: 0.0000e+00 - 7s/epoch - 14ms/step\n",
      "Epoch 19/100\n",
      "540/540 - 7s - loss: 11.2034 - mean_squared_error: 11.2034 - accuracy: 0.0000e+00 - 7s/epoch - 14ms/step\n",
      "Epoch 20/100\n",
      "540/540 - 8s - loss: 10.9924 - mean_squared_error: 10.9924 - accuracy: 0.0000e+00 - 8s/epoch - 14ms/step\n",
      "Epoch 21/100\n",
      "540/540 - 8s - loss: 11.0136 - mean_squared_error: 11.0136 - accuracy: 0.0000e+00 - 8s/epoch - 14ms/step\n",
      "Epoch 22/100\n",
      "540/540 - 8s - loss: 10.9251 - mean_squared_error: 10.9251 - accuracy: 0.0000e+00 - 8s/epoch - 14ms/step\n",
      "Epoch 23/100\n",
      "540/540 - 8s - loss: 10.9372 - mean_squared_error: 10.9372 - accuracy: 0.0000e+00 - 8s/epoch - 14ms/step\n",
      "Epoch 24/100\n",
      "540/540 - 8s - loss: 10.8239 - mean_squared_error: 10.8239 - accuracy: 0.0000e+00 - 8s/epoch - 14ms/step\n",
      "Epoch 25/100\n",
      "540/540 - 7s - loss: 10.8561 - mean_squared_error: 10.8561 - accuracy: 0.0000e+00 - 7s/epoch - 14ms/step\n",
      "Epoch 26/100\n",
      "540/540 - 7s - loss: 10.6504 - mean_squared_error: 10.6504 - accuracy: 0.0000e+00 - 7s/epoch - 14ms/step\n",
      "Epoch 27/100\n",
      "540/540 - 7s - loss: 10.6591 - mean_squared_error: 10.6591 - accuracy: 0.0000e+00 - 7s/epoch - 14ms/step\n",
      "Epoch 28/100\n",
      "540/540 - 7s - loss: 10.7912 - mean_squared_error: 10.7912 - accuracy: 0.0000e+00 - 7s/epoch - 14ms/step\n",
      "Epoch 29/100\n",
      "540/540 - 7s - loss: 10.7130 - mean_squared_error: 10.7130 - accuracy: 0.0000e+00 - 7s/epoch - 14ms/step\n",
      "Epoch 30/100\n",
      "540/540 - 7s - loss: 10.5938 - mean_squared_error: 10.5938 - accuracy: 0.0000e+00 - 7s/epoch - 14ms/step\n",
      "Epoch 31/100\n",
      "540/540 - 7s - loss: 10.5139 - mean_squared_error: 10.5139 - accuracy: 0.0000e+00 - 7s/epoch - 14ms/step\n",
      "Epoch 32/100\n",
      "540/540 - 8s - loss: 10.4433 - mean_squared_error: 10.4433 - accuracy: 0.0000e+00 - 8s/epoch - 14ms/step\n",
      "Epoch 33/100\n",
      "540/540 - 7s - loss: 10.7270 - mean_squared_error: 10.7270 - accuracy: 0.0000e+00 - 7s/epoch - 14ms/step\n",
      "Epoch 34/100\n",
      "540/540 - 7s - loss: 10.4800 - mean_squared_error: 10.4800 - accuracy: 0.0000e+00 - 7s/epoch - 14ms/step\n",
      "Epoch 35/100\n",
      "540/540 - 7s - loss: 10.3810 - mean_squared_error: 10.3810 - accuracy: 0.0000e+00 - 7s/epoch - 14ms/step\n",
      "Epoch 36/100\n",
      "540/540 - 8s - loss: 10.3356 - mean_squared_error: 10.3356 - accuracy: 0.0000e+00 - 8s/epoch - 15ms/step\n",
      "Epoch 37/100\n",
      "540/540 - 7s - loss: 10.3641 - mean_squared_error: 10.3641 - accuracy: 0.0000e+00 - 7s/epoch - 14ms/step\n",
      "Epoch 38/100\n",
      "540/540 - 7s - loss: 10.4366 - mean_squared_error: 10.4366 - accuracy: 0.0000e+00 - 7s/epoch - 14ms/step\n",
      "Epoch 39/100\n",
      "540/540 - 7s - loss: 10.3761 - mean_squared_error: 10.3761 - accuracy: 0.0000e+00 - 7s/epoch - 14ms/step\n",
      "Epoch 40/100\n",
      "540/540 - 7s - loss: 10.3223 - mean_squared_error: 10.3223 - accuracy: 0.0000e+00 - 7s/epoch - 14ms/step\n",
      "Epoch 41/100\n",
      "540/540 - 7s - loss: 10.3867 - mean_squared_error: 10.3867 - accuracy: 0.0000e+00 - 7s/epoch - 14ms/step\n",
      "Epoch 42/100\n",
      "540/540 - 7s - loss: 10.2650 - mean_squared_error: 10.2650 - accuracy: 0.0000e+00 - 7s/epoch - 14ms/step\n",
      "Epoch 43/100\n",
      "540/540 - 7s - loss: 10.3276 - mean_squared_error: 10.3277 - accuracy: 0.0000e+00 - 7s/epoch - 14ms/step\n",
      "Epoch 44/100\n",
      "540/540 - 8s - loss: 10.2192 - mean_squared_error: 10.2192 - accuracy: 0.0000e+00 - 8s/epoch - 14ms/step\n",
      "Epoch 45/100\n",
      "540/540 - 8s - loss: 10.0372 - mean_squared_error: 10.0372 - accuracy: 0.0000e+00 - 8s/epoch - 15ms/step\n",
      "Epoch 46/100\n",
      "540/540 - 7s - loss: 10.0669 - mean_squared_error: 10.0669 - accuracy: 0.0000e+00 - 7s/epoch - 14ms/step\n",
      "Epoch 47/100\n",
      "540/540 - 7s - loss: 10.0134 - mean_squared_error: 10.0134 - accuracy: 0.0000e+00 - 7s/epoch - 14ms/step\n",
      "Epoch 48/100\n",
      "540/540 - 7s - loss: 10.0654 - mean_squared_error: 10.0654 - accuracy: 0.0000e+00 - 7s/epoch - 14ms/step\n",
      "Epoch 49/100\n",
      "540/540 - 7s - loss: 9.9990 - mean_squared_error: 9.9990 - accuracy: 0.0000e+00 - 7s/epoch - 14ms/step\n",
      "Epoch 50/100\n",
      "540/540 - 7s - loss: 9.9373 - mean_squared_error: 9.9373 - accuracy: 0.0000e+00 - 7s/epoch - 14ms/step\n",
      "Epoch 51/100\n",
      "540/540 - 7s - loss: 10.1175 - mean_squared_error: 10.1175 - accuracy: 0.0000e+00 - 7s/epoch - 14ms/step\n",
      "Epoch 52/100\n",
      "540/540 - 7s - loss: 9.9183 - mean_squared_error: 9.9183 - accuracy: 0.0000e+00 - 7s/epoch - 14ms/step\n",
      "Epoch 53/100\n",
      "540/540 - 7s - loss: 9.9961 - mean_squared_error: 9.9961 - accuracy: 0.0000e+00 - 7s/epoch - 14ms/step\n",
      "Epoch 54/100\n",
      "540/540 - 7s - loss: 9.8677 - mean_squared_error: 9.8677 - accuracy: 0.0000e+00 - 7s/epoch - 14ms/step\n",
      "Epoch 55/100\n",
      "540/540 - 7s - loss: 9.8494 - mean_squared_error: 9.8494 - accuracy: 0.0000e+00 - 7s/epoch - 14ms/step\n",
      "Epoch 56/100\n",
      "540/540 - 7s - loss: 9.7027 - mean_squared_error: 9.7027 - accuracy: 0.0000e+00 - 7s/epoch - 14ms/step\n",
      "Epoch 57/100\n",
      "540/540 - 7s - loss: 10.0353 - mean_squared_error: 10.0353 - accuracy: 0.0000e+00 - 7s/epoch - 14ms/step\n",
      "Epoch 58/100\n",
      "540/540 - 7s - loss: 9.6829 - mean_squared_error: 9.6829 - accuracy: 0.0000e+00 - 7s/epoch - 14ms/step\n",
      "Epoch 59/100\n",
      "540/540 - 7s - loss: 9.8857 - mean_squared_error: 9.8857 - accuracy: 0.0000e+00 - 7s/epoch - 14ms/step\n",
      "Epoch 60/100\n",
      "540/540 - 7s - loss: 9.8060 - mean_squared_error: 9.8060 - accuracy: 0.0000e+00 - 7s/epoch - 14ms/step\n",
      "Epoch 61/100\n",
      "540/540 - 8s - loss: 9.6348 - mean_squared_error: 9.6348 - accuracy: 0.0000e+00 - 8s/epoch - 14ms/step\n",
      "Epoch 62/100\n",
      "540/540 - 7s - loss: 9.7013 - mean_squared_error: 9.7013 - accuracy: 0.0000e+00 - 7s/epoch - 14ms/step\n",
      "Epoch 63/100\n",
      "540/540 - 8s - loss: 9.7599 - mean_squared_error: 9.7599 - accuracy: 0.0000e+00 - 8s/epoch - 14ms/step\n",
      "Epoch 64/100\n",
      "540/540 - 8s - loss: 9.6850 - mean_squared_error: 9.6850 - accuracy: 0.0000e+00 - 8s/epoch - 15ms/step\n",
      "Epoch 65/100\n",
      "540/540 - 8s - loss: 9.5500 - mean_squared_error: 9.5500 - accuracy: 0.0000e+00 - 8s/epoch - 14ms/step\n",
      "Epoch 66/100\n",
      "540/540 - 8s - loss: 9.5286 - mean_squared_error: 9.5286 - accuracy: 0.0000e+00 - 8s/epoch - 14ms/step\n",
      "Epoch 67/100\n",
      "540/540 - 8s - loss: 9.7048 - mean_squared_error: 9.7048 - accuracy: 0.0000e+00 - 8s/epoch - 14ms/step\n",
      "Epoch 68/100\n",
      "540/540 - 7s - loss: 9.4162 - mean_squared_error: 9.4162 - accuracy: 0.0000e+00 - 7s/epoch - 14ms/step\n",
      "Epoch 69/100\n",
      "540/540 - 7s - loss: 9.3846 - mean_squared_error: 9.3846 - accuracy: 0.0000e+00 - 7s/epoch - 14ms/step\n",
      "Epoch 70/100\n",
      "540/540 - 7s - loss: 9.3919 - mean_squared_error: 9.3919 - accuracy: 0.0000e+00 - 7s/epoch - 14ms/step\n",
      "Epoch 71/100\n",
      "540/540 - 8s - loss: 9.3063 - mean_squared_error: 9.3063 - accuracy: 0.0000e+00 - 8s/epoch - 14ms/step\n",
      "Epoch 72/100\n",
      "540/540 - 7s - loss: 9.3362 - mean_squared_error: 9.3362 - accuracy: 0.0000e+00 - 7s/epoch - 14ms/step\n",
      "Epoch 73/100\n",
      "540/540 - 7s - loss: 9.2480 - mean_squared_error: 9.2480 - accuracy: 0.0000e+00 - 7s/epoch - 14ms/step\n",
      "Epoch 74/100\n",
      "540/540 - 7s - loss: 9.3889 - mean_squared_error: 9.3889 - accuracy: 0.0000e+00 - 7s/epoch - 14ms/step\n",
      "Epoch 75/100\n",
      "540/540 - 8s - loss: 9.2772 - mean_squared_error: 9.2772 - accuracy: 0.0000e+00 - 8s/epoch - 14ms/step\n",
      "Epoch 76/100\n",
      "540/540 - 8s - loss: 9.1196 - mean_squared_error: 9.1196 - accuracy: 0.0000e+00 - 8s/epoch - 14ms/step\n",
      "Epoch 77/100\n",
      "540/540 - 7s - loss: 8.9919 - mean_squared_error: 8.9919 - accuracy: 0.0000e+00 - 7s/epoch - 14ms/step\n",
      "Epoch 78/100\n",
      "540/540 - 7s - loss: 8.9840 - mean_squared_error: 8.9840 - accuracy: 0.0000e+00 - 7s/epoch - 14ms/step\n",
      "Epoch 79/100\n",
      "540/540 - 7s - loss: 9.0664 - mean_squared_error: 9.0664 - accuracy: 0.0000e+00 - 7s/epoch - 14ms/step\n",
      "Epoch 80/100\n",
      "540/540 - 7s - loss: 8.9911 - mean_squared_error: 8.9911 - accuracy: 0.0000e+00 - 7s/epoch - 14ms/step\n",
      "Epoch 81/100\n",
      "540/540 - 7s - loss: 8.9860 - mean_squared_error: 8.9860 - accuracy: 0.0000e+00 - 7s/epoch - 14ms/step\n",
      "Epoch 82/100\n",
      "540/540 - 7s - loss: 8.8522 - mean_squared_error: 8.8522 - accuracy: 0.0000e+00 - 7s/epoch - 14ms/step\n",
      "Epoch 83/100\n",
      "540/540 - 7s - loss: 9.0635 - mean_squared_error: 9.0635 - accuracy: 0.0000e+00 - 7s/epoch - 14ms/step\n",
      "Epoch 84/100\n",
      "540/540 - 7s - loss: 8.6622 - mean_squared_error: 8.6622 - accuracy: 0.0000e+00 - 7s/epoch - 14ms/step\n",
      "Epoch 85/100\n",
      "540/540 - 8s - loss: 8.8019 - mean_squared_error: 8.8019 - accuracy: 0.0000e+00 - 8s/epoch - 14ms/step\n",
      "Epoch 86/100\n",
      "540/540 - 7s - loss: 8.7809 - mean_squared_error: 8.7809 - accuracy: 0.0000e+00 - 7s/epoch - 14ms/step\n",
      "Epoch 87/100\n",
      "540/540 - 7s - loss: 8.8229 - mean_squared_error: 8.8229 - accuracy: 0.0000e+00 - 7s/epoch - 14ms/step\n",
      "Epoch 88/100\n",
      "540/540 - 7s - loss: 8.6501 - mean_squared_error: 8.6501 - accuracy: 0.0000e+00 - 7s/epoch - 14ms/step\n",
      "Epoch 89/100\n",
      "540/540 - 7s - loss: 8.6026 - mean_squared_error: 8.6026 - accuracy: 0.0000e+00 - 7s/epoch - 14ms/step\n",
      "Epoch 90/100\n",
      "540/540 - 8s - loss: 8.6337 - mean_squared_error: 8.6337 - accuracy: 0.0000e+00 - 8s/epoch - 14ms/step\n",
      "Epoch 91/100\n",
      "540/540 - 7s - loss: 8.7227 - mean_squared_error: 8.7227 - accuracy: 0.0000e+00 - 7s/epoch - 14ms/step\n",
      "Epoch 92/100\n",
      "540/540 - 7s - loss: 8.5150 - mean_squared_error: 8.5150 - accuracy: 0.0000e+00 - 7s/epoch - 14ms/step\n",
      "Epoch 93/100\n",
      "540/540 - 8s - loss: 8.6127 - mean_squared_error: 8.6127 - accuracy: 0.0000e+00 - 8s/epoch - 14ms/step\n",
      "Epoch 94/100\n",
      "540/540 - 7s - loss: 8.6399 - mean_squared_error: 8.6399 - accuracy: 0.0000e+00 - 7s/epoch - 14ms/step\n",
      "Epoch 95/100\n",
      "540/540 - 7s - loss: 8.4798 - mean_squared_error: 8.4798 - accuracy: 0.0000e+00 - 7s/epoch - 14ms/step\n",
      "Epoch 96/100\n",
      "540/540 - 7s - loss: 8.4533 - mean_squared_error: 8.4533 - accuracy: 0.0000e+00 - 7s/epoch - 14ms/step\n",
      "Epoch 97/100\n",
      "540/540 - 7s - loss: 8.4462 - mean_squared_error: 8.4462 - accuracy: 0.0000e+00 - 7s/epoch - 14ms/step\n",
      "Epoch 98/100\n",
      "540/540 - 7s - loss: 8.2989 - mean_squared_error: 8.2989 - accuracy: 0.0000e+00 - 7s/epoch - 14ms/step\n",
      "Epoch 99/100\n",
      "540/540 - 7s - loss: 8.3581 - mean_squared_error: 8.3581 - accuracy: 0.0000e+00 - 7s/epoch - 14ms/step\n",
      "Epoch 100/100\n",
      "540/540 - 9s - loss: 8.2955 - mean_squared_error: 8.2955 - accuracy: 0.0000e+00 - val_loss: 7.2491 - val_mean_squared_error: 7.2491 - val_accuracy: 0.0000e+00 - 9s/epoch - 17ms/step\n"
     ]
    }
   ],
   "source": [
    "\n",
    "history = model2.fit(X_train, # input data\n",
    "                    Y_train, # target data\n",
    "                    batch_size=32, # Number of samples per gradient update. If unspecified, batch_size will default to 32.\n",
    "                    epochs=100, # default=1, Number of epochs to train the model. An epoch is an iteration over the entire x and y data provided\n",
    "                    verbose=2, # default='auto', ('auto', 0, 1, or 2). Verbosity mode. 0 = silent, 1 = progress bar, 2 = one line per epoch. 'auto' defaults to 1 for most cases, but 2 when used with ParameterServerStrategy.\n",
    "                    callbacks=None, # default=None, list of callbacks to apply during training. See tf.keras.callbacks\n",
    "                    validation_split=0.2, # default=0.0, Fraction of the training data to be used as validation data. The model will set apart this fraction of the training data, will not train on it, and will evaluate the loss and any model metrics on this data at the end of each epoch. \n",
    "                    #validation_data=(X_test, y_test), # default=None, Data on which to evaluate the loss and any model metrics at the end of each epoch. \n",
    "                    shuffle=True, # default=True, Boolean (whether to shuffle the training data before each epoch) or str (for 'batch').\n",
    "                    class_weight=None, # default=None, Optional dictionary mapping class indices (integers) to a weight (float) value, used for weighting the loss function (during training only). This can be useful to tell the model to \"pay more attention\" to samples from an under-represented class.\n",
    "                    sample_weight=None, # default=None, Optional Numpy array of weights for the training samples, used for weighting the loss function (during training only).\n",
    "                    initial_epoch=0, # Integer, default=0, Epoch at which to start training (useful for resuming a previous training run).\n",
    "                    steps_per_epoch=None, # Integer or None, default=None, Total number of steps (batches of samples) before declaring one epoch finished and starting the next epoch. When training with input tensors such as TensorFlow data tensors, the default None is equal to the number of samples in your dataset divided by the batch size, or 1 if that cannot be determined. \n",
    "                    validation_steps=None, # Only relevant if validation_data is provided and is a tf.data dataset. Total number of steps (batches of samples) to draw before stopping when performing validation at the end of every epoch.\n",
    "                    validation_batch_size=None, # Integer or None, default=None, Number of samples per validation batch. If unspecified, will default to batch_size.\n",
    "                    validation_freq=100, # default=1, Only relevant if validation data is provided. If an integer, specifies how many training epochs to run before a new validation run is performed, e.g. validation_freq=2 runs validation every 2 epochs.\n",
    "                    max_queue_size=10, # default=10, Used for generator or keras.utils.Sequence input only. Maximum size for the generator queue. If unspecified, max_queue_size will default to 10.\n",
    "                    workers=1, # default=1, Used for generator or keras.utils.Sequence input only. Maximum number of processes to spin up when using process-based threading. If unspecified, workers will default to 1.\n",
    "                    use_multiprocessing=True, # default=False, Used for generator or keras.utils.Sequence input only. If True, use process-based threading. If unspecified, use_multiprocessing will default to False. \n",
    "                \n",
    "                   )\n",
    "\n",
    "\n"
   ]
  },
  {
   "cell_type": "markdown",
   "metadata": {},
   "source": [
    "##### Step 4 - Plot loss over epochs"
   ]
  },
  {
   "cell_type": "code",
   "execution_count": 93,
   "metadata": {},
   "outputs": [
    {
     "data": {
      "image/png": "[encoded data removed]",
      "text/plain": [
       "<Figure size 432x288 with 1 Axes>"
      ]
     },
     "metadata": {
      "needs_background": "light"
     },
     "output_type": "display_data"
    }
   ],
   "source": [
    "# Gather the trained model's weight and bias.\n",
    "trained_weight = model2.get_weights()[0]\n",
    "trained_bias = model2.get_weights()[1]\n",
    "\n",
    "  # The list of epochs is stored separately from the \n",
    "  # rest of history.\n",
    "epochs = history.epoch\n",
    "  \n",
    "  # Gather the history (a snapshot) of each epoch.\n",
    "#hist = pd.DataFrame(history.history)\n",
    "\n",
    "  # Specifically gather the model's root mean \n",
    "  # squared error at each epoch. \n",
    "mse = history.history[\"mean_squared_error\"]\n",
    "\n",
    "#plot_the_model(trained_weight, trained_bias, X_test, Y_train)\n",
    "plot_the_loss_curve(epochs, mse)"
   ]
  },
  {
   "cell_type": "markdown",
   "metadata": {},
   "source": [
    "##### Step 5 - Print Performance Summary"
   ]
  },
  {
   "cell_type": "code",
   "execution_count": 94,
   "metadata": {},
   "outputs": [
    {
     "name": "stdout",
     "output_type": "stream",
     "text": [
      "\n",
      "-------------------- Model Summary --------------------\n",
      "Model: \"biLSTM-Model\"\n",
      "_________________________________________________________________\n",
      " Layer (type)                Output Shape              Param #   \n",
      "=================================================================\n",
      " Hidden-LSTM-Encoder-Layer (  (None, 128)              33792     \n",
      " Bidirectional)                                                  \n",
      "                                                                 \n",
      " Repeat-Vector-Layer (Repeat  (None, 10, 128)          0         \n",
      " Vector)                                                         \n",
      "                                                                 \n",
      " Hidden-LSTM-Decoder-Layer (  (None, 10, 128)          98816     \n",
      " Bidirectional)                                                  \n",
      "                                                                 \n",
      " Output-Layer (TimeDistribut  (None, 10, 1)            129       \n",
      " ed)                                                             \n",
      "                                                                 \n",
      "=================================================================\n",
      "Total params: 132,737\n",
      "Trainable params: 132,737\n",
      "Non-trainable params: 0\n",
      "_________________________________________________________________\n",
      "\n",
      "-------------------- Weights and Biases --------------------\n",
      "Too many parameters to print but you can use the code provided if needed\n",
      "\n",
      "-------------------- Evaluation on Training Data --------------------\n",
      "Final loss : 8.295498847961426\n",
      "Final mean_squared_error : 8.295495986938477\n",
      "Final accuracy : 0.0\n",
      "Final val_loss : 7.249117374420166\n",
      "Final val_mean_squared_error : 7.24911642074585\n",
      "Final val_accuracy : 0.0\n",
      "\n",
      "-------------------- Evaluation on Test Data --------------------\n",
      "541/541 [==============================] - 3s 6ms/step - loss: 6.8981 - mean_squared_error: 6.8981 - accuracy: 0.0000e+00\n",
      "\n"
     ]
    }
   ],
   "source": [
    "print(\"\")\n",
    "print('-------------------- Model Summary --------------------')\n",
    "model2.summary() # print model summary\n",
    "print(\"\")\n",
    "print('-------------------- Weights and Biases --------------------')\n",
    "print(\"Too many parameters to print but you can use the code provided if needed\")\n",
    "print(\"\")\n",
    "#for layer in model.layers:\n",
    "#    print(layer.name)\n",
    "#    for item in layer.get_weights():\n",
    "#        print(\"  \", item)\n",
    "#print(\"\")\n",
    "\n",
    "# Print the last value in the evaluation metrics contained within history file\n",
    "print('-------------------- Evaluation on Training Data --------------------')\n",
    "for item in history.history:\n",
    "    print(\"Final\", item, \":\", history.history[item][-1])\n",
    "print(\"\")\n",
    "\n",
    "# Evaluate the model on the test data using \"evaluate\"\n",
    "print('-------------------- Evaluation on Test Data --------------------')\n",
    "results = model2.evaluate(X_test, Y_test)\n",
    "print(\"\")"
   ]
  },
  {
   "cell_type": "code",
   "execution_count": 95,
   "metadata": {},
   "outputs": [
    {
     "data": {
      "image/png": "[encoded data removed]",
      "text/plain": [
       "<IPython.core.display.Image object>"
      ]
     },
     "execution_count": 95,
     "metadata": {},
     "output_type": "execute_result"
    }
   ],
   "source": [
    "#loss: 6.1995 - mean_squared_error: 6.1995 normalize01\n",
    "\n",
    "from keras.utils import plot_model,model_to_dot\n",
    "plot_model(model2, show_shapes=True, to_file='plotmodelbilstm0810.png')\n"
   ]
  },
  {
   "cell_type": "code",
   "execution_count": 96,
   "metadata": {},
   "outputs": [
    {
     "name": "stdout",
     "output_type": "stream",
     "text": [
      "541/541 [==============================] - 4s 6ms/step\n"
     ]
    },
    {
     "data": {
      "text/plain": [
       "array([[[-0.5424479 ],\n",
       "        [-1.3678169 ],\n",
       "        [-1.9051895 ],\n",
       "        ...,\n",
       "        [-1.1625067 ],\n",
       "        [-1.2591625 ],\n",
       "        [-0.7128817 ]],\n",
       "\n",
       "       [[-2.6527312 ],\n",
       "        [-4.9461136 ],\n",
       "        [-6.4320903 ],\n",
       "        ...,\n",
       "        [-3.1565492 ],\n",
       "        [-2.970895  ],\n",
       "        [-2.487599  ]],\n",
       "\n",
       "       [[-4.1599984 ],\n",
       "        [-5.902484  ],\n",
       "        [-7.047851  ],\n",
       "        ...,\n",
       "        [-3.3778696 ],\n",
       "        [-3.8091881 ],\n",
       "        [-3.823681  ]],\n",
       "\n",
       "       ...,\n",
       "\n",
       "       [[ 0.05921879],\n",
       "        [-0.15384087],\n",
       "        [-0.15113097],\n",
       "        ...,\n",
       "        [-0.07790145],\n",
       "        [-0.24529848],\n",
       "        [-0.07800999]],\n",
       "\n",
       "       [[ 0.07810792],\n",
       "        [-0.06763425],\n",
       "        [-0.02304837],\n",
       "        ...,\n",
       "        [ 0.00803337],\n",
       "        [-0.1432927 ],\n",
       "        [-0.01130447]],\n",
       "\n",
       "       [[ 0.04493997],\n",
       "        [-0.07633483],\n",
       "        [-0.02851573],\n",
       "        ...,\n",
       "        [-0.03148177],\n",
       "        [-0.16092485],\n",
       "        [-0.04181787]]], dtype=float32)"
      ]
     },
     "execution_count": 96,
     "metadata": {},
     "output_type": "execute_result"
    }
   ],
   "source": [
    "pred_test=model2.predict(X_test)\n",
    "\n",
    "pred_test"
   ]
  },
  {
   "cell_type": "code",
   "execution_count": 97,
   "metadata": {},
   "outputs": [
    {
     "data": {
      "text/plain": [
       "(17290, 10, 1)"
      ]
     },
     "execution_count": 97,
     "metadata": {},
     "output_type": "execute_result"
    }
   ],
   "source": [
    "Y_test.shape\n",
    "#1792"
   ]
  },
  {
   "cell_type": "code",
   "execution_count": 98,
   "metadata": {},
   "outputs": [
    {
     "data": {
      "text/plain": [
       "20900"
      ]
     },
     "execution_count": 98,
     "metadata": {},
     "output_type": "execute_result"
    }
   ],
   "source": [
    "test.values.size"
   ]
  },
  {
   "cell_type": "code",
   "execution_count": 99,
   "metadata": {},
   "outputs": [
    {
     "data": {
      "text/plain": [
       "(17290, 10, 1)"
      ]
     },
     "execution_count": 99,
     "metadata": {},
     "output_type": "execute_result"
    }
   ],
   "source": [
    "pred_test.shape"
   ]
  },
  {
   "cell_type": "code",
   "execution_count": 100,
   "metadata": {},
   "outputs": [],
   "source": [
    "# # pred_test = scaler2.inverse_transform(pred_test.reshape(-1, pred_test.shape[-1])).reshape(pred_test.shape)\n",
    "# y=pred_test.flatten()\n",
    "# z=[]\n",
    "# for x in range(910*95,910*96,10): #predictioon\n",
    "#     z.append(y[x])\n",
    "# z\n",
    "# b=Y_test.flatten() #Y test should match prediction\n",
    "# c=[] #wtf is this\n",
    "# for x in range(910*95,910*96,10):\n",
    "#     c.append(b[x])\n",
    "# #c\n",
    "\n",
    "# # d=X_test.flatten() # Y train doesnt match because why\n",
    "# # e=[]\n",
    "# # for x in range(0,10000,1):\n",
    "# #     if(d[x]==0):\n",
    "# #         print(x)\n",
    "# #     e.append(d[x])\n",
    "# # # e\n",
    "y=pred_test.flatten()\n",
    "# y=scaler2.inverse_transform(y.reshape(-1,y.shape[-1])).reshape(y.shape)\n",
    "z=[]\n",
    "for x in range(910*95,910*96,10): #predictioon\n",
    "    z.append(y[x])\n",
    "z\n",
    "\n",
    "b=Y_test.flatten() #Y test should match prediction\n",
    "# b=scaler2.inverse_transform(b.reshape(-1,b.shape[-1])).reshape(b.shape)\n",
    "c=[] #wtf is this\n",
    "for x in range(910*95,910*96,10):\n",
    "    c.append(b[x])"
   ]
  },
  {
   "cell_type": "code",
   "execution_count": 101,
   "metadata": {},
   "outputs": [
    {
     "data": {
      "application/vnd.plotly.v1+json": {
       "config": {
        "plotlyServerURL": "https://plot.ly"
       },
       "data": [
        {
         "line": {
          "color": "grey",
          "width": 5
         },
         "mode": "lines",
         "name": "Subsidence - Actual (YTest)",
         "opacity": 0.8,
         "type": "scatter",
         "x": [
          "2015-07-30T00:00:00.000000000",
          "2015-08-23T00:00:00.000000000",
          "2015-09-16T00:00:00.000000000",
          "2015-10-10T00:00:00.000000000",
          "2015-11-03T00:00:00.000000000",
          "2015-11-27T00:00:00.000000000",
          "2015-12-09T00:00:00.000000000",
          "2015-12-21T00:00:00.000000000",
          "2016-01-14T00:00:00.000000000",
          "2016-01-26T00:00:00.000000000",
          "2016-02-07T00:00:00.000000000",
          "2016-02-19T00:00:00.000000000",
          "2016-03-02T00:00:00.000000000",
          "2016-03-14T00:00:00.000000000",
          "2016-03-26T00:00:00.000000000",
          "2016-04-07T00:00:00.000000000",
          "2016-04-19T00:00:00.000000000",
          "2016-05-01T00:00:00.000000000",
          "2016-05-13T00:00:00.000000000",
          "2016-05-25T00:00:00.000000000",
          "2016-06-06T00:00:00.000000000",
          "2016-06-30T00:00:00.000000000",
          "2016-07-24T00:00:00.000000000",
          "2016-08-17T00:00:00.000000000",
          "2016-09-10T00:00:00.000000000",
          "2016-09-22T00:00:00.000000000",
          "2016-10-04T00:00:00.000000000",
          "2016-10-16T00:00:00.000000000",
          "2016-10-28T00:00:00.000000000",
          "2016-11-09T00:00:00.000000000",
          "2016-11-21T00:00:00.000000000",
          "2016-12-03T00:00:00.000000000",
          "2016-12-15T00:00:00.000000000",
          "2016-12-27T00:00:00.000000000",
          "2017-01-08T00:00:00.000000000",
          "2017-01-14T00:00:00.000000000",
          "2017-01-20T00:00:00.000000000",
          "2017-01-26T00:00:00.000000000",
          "2017-02-01T00:00:00.000000000",
          "2017-02-13T00:00:00.000000000",
          "2017-02-25T00:00:00.000000000",
          "2017-03-09T00:00:00.000000000",
          "2017-03-21T00:00:00.000000000",
          "2017-04-02T00:00:00.000000000",
          "2017-04-14T00:00:00.000000000",
          "2017-04-26T00:00:00.000000000",
          "2017-05-08T00:00:00.000000000",
          "2017-05-20T00:00:00.000000000",
          "2017-06-01T00:00:00.000000000",
          "2017-06-13T00:00:00.000000000",
          "2017-06-25T00:00:00.000000000",
          "2017-07-07T00:00:00.000000000",
          "2017-07-19T00:00:00.000000000",
          "2017-07-31T00:00:00.000000000",
          "2017-08-12T00:00:00.000000000",
          "2017-08-24T00:00:00.000000000",
          "2017-09-05T00:00:00.000000000",
          "2017-09-17T00:00:00.000000000",
          "2017-09-29T00:00:00.000000000",
          "2017-10-11T00:00:00.000000000",
          "2017-10-23T00:00:00.000000000",
          "2017-11-04T00:00:00.000000000",
          "2017-11-16T00:00:00.000000000",
          "2017-11-28T00:00:00.000000000",
          "2017-12-10T00:00:00.000000000",
          "2017-12-22T00:00:00.000000000",
          "2018-01-03T00:00:00.000000000",
          "2018-01-15T00:00:00.000000000",
          "2018-01-27T00:00:00.000000000",
          "2018-02-08T00:00:00.000000000",
          "2018-02-20T00:00:00.000000000",
          "2018-03-04T00:00:00.000000000",
          "2018-03-16T00:00:00.000000000",
          "2018-03-28T00:00:00.000000000",
          "2018-04-09T00:00:00.000000000",
          "2018-04-21T00:00:00.000000000",
          "2018-05-03T00:00:00.000000000",
          "2018-05-15T00:00:00.000000000",
          "2018-05-27T00:00:00.000000000",
          "2018-06-08T00:00:00.000000000",
          "2018-06-20T00:00:00.000000000",
          "2018-07-02T00:00:00.000000000",
          "2018-07-14T00:00:00.000000000",
          "2018-07-26T00:00:00.000000000",
          "2018-08-07T00:00:00.000000000",
          "2018-08-19T00:00:00.000000000",
          "2018-08-31T00:00:00.000000000",
          "2018-09-12T00:00:00.000000000",
          "2018-09-24T00:00:00.000000000",
          "2018-10-06T00:00:00.000000000",
          "2018-10-18T00:00:00.000000000",
          "2018-10-30T00:00:00.000000000",
          "2018-11-11T00:00:00.000000000",
          "2018-11-17T00:00:00.000000000",
          "2018-11-23T00:00:00.000000000",
          "2018-12-05T00:00:00.000000000",
          "2018-12-17T00:00:00.000000000",
          "2018-12-29T00:00:00.000000000",
          "2019-01-10T00:00:00.000000000",
          "2019-01-22T00:00:00.000000000"
         ],
         "y": [
          -9.0249,
          -12.5,
          -12.624,
          -11.708,
          -12.593,
          -13.656,
          -13.986,
          -14.392,
          -13.429,
          -13.186,
          -14.359,
          -13.226,
          -15.232,
          -15.026,
          -11.994,
          -12.767,
          -17.943,
          -17.409,
          -16.681,
          -17.777,
          -16.848,
          -19.514,
          -21.069,
          -20.807,
          -21.529,
          -24.732,
          -25.794,
          -25.186,
          -26.534,
          -26.369,
          -25.866,
          -25.491,
          -25.403,
          -25.733,
          -25.566,
          -26.24,
          -26.883,
          -26.067,
          -26.429,
          -26.242,
          -27.045,
          -26.806,
          -24.473,
          -27.541,
          -26.141,
          -27.485,
          -27.736,
          -27.093,
          -26.944,
          -28.224,
          -26.449,
          -26.311,
          -26.313,
          -25.794,
          -29.255,
          -25.3,
          -28.076,
          -26.878,
          -30.196,
          -31.319,
          -30.672,
          -32.45,
          -31.339,
          -30.662,
          -30.615,
          -31.454,
          -31.233,
          -31.529,
          -30.026,
          -32.046,
          -32.13,
          -33.037,
          -32.973,
          -32.822,
          -34.106,
          -33.696,
          -34.238,
          -33.921,
          -34.002,
          -32.382,
          -33.514,
          -34.25,
          -33.913,
          -33.701499999999996,
          -33.49,
          -35.915,
          -37.74,
          -37.342,
          -36.755,
          -37.38,
          -39.005
         ]
        },
        {
         "line": {
          "color": "red",
          "width": 5
         },
         "mode": "lines",
         "name": "Subsidence - Predicted ",
         "opacity": 0.8,
         "type": "scatter",
         "x": [
          "2015-07-30T00:00:00.000000000",
          "2015-08-23T00:00:00.000000000",
          "2015-09-16T00:00:00.000000000",
          "2015-10-10T00:00:00.000000000",
          "2015-11-03T00:00:00.000000000",
          "2015-11-27T00:00:00.000000000",
          "2015-12-09T00:00:00.000000000",
          "2015-12-21T00:00:00.000000000",
          "2016-01-14T00:00:00.000000000",
          "2016-01-26T00:00:00.000000000",
          "2016-02-07T00:00:00.000000000",
          "2016-02-19T00:00:00.000000000",
          "2016-03-02T00:00:00.000000000",
          "2016-03-14T00:00:00.000000000",
          "2016-03-26T00:00:00.000000000",
          "2016-04-07T00:00:00.000000000",
          "2016-04-19T00:00:00.000000000",
          "2016-05-01T00:00:00.000000000",
          "2016-05-13T00:00:00.000000000",
          "2016-05-25T00:00:00.000000000",
          "2016-06-06T00:00:00.000000000",
          "2016-06-30T00:00:00.000000000",
          "2016-07-24T00:00:00.000000000",
          "2016-08-17T00:00:00.000000000",
          "2016-09-10T00:00:00.000000000",
          "2016-09-22T00:00:00.000000000",
          "2016-10-04T00:00:00.000000000",
          "2016-10-16T00:00:00.000000000",
          "2016-10-28T00:00:00.000000000",
          "2016-11-09T00:00:00.000000000",
          "2016-11-21T00:00:00.000000000",
          "2016-12-03T00:00:00.000000000",
          "2016-12-15T00:00:00.000000000",
          "2016-12-27T00:00:00.000000000",
          "2017-01-08T00:00:00.000000000",
          "2017-01-14T00:00:00.000000000",
          "2017-01-20T00:00:00.000000000",
          "2017-01-26T00:00:00.000000000",
          "2017-02-01T00:00:00.000000000",
          "2017-02-13T00:00:00.000000000",
          "2017-02-25T00:00:00.000000000",
          "2017-03-09T00:00:00.000000000",
          "2017-03-21T00:00:00.000000000",
          "2017-04-02T00:00:00.000000000",
          "2017-04-14T00:00:00.000000000",
          "2017-04-26T00:00:00.000000000",
          "2017-05-08T00:00:00.000000000",
          "2017-05-20T00:00:00.000000000",
          "2017-06-01T00:00:00.000000000",
          "2017-06-13T00:00:00.000000000",
          "2017-06-25T00:00:00.000000000",
          "2017-07-07T00:00:00.000000000",
          "2017-07-19T00:00:00.000000000",
          "2017-07-31T00:00:00.000000000",
          "2017-08-12T00:00:00.000000000",
          "2017-08-24T00:00:00.000000000",
          "2017-09-05T00:00:00.000000000",
          "2017-09-17T00:00:00.000000000",
          "2017-09-29T00:00:00.000000000",
          "2017-10-11T00:00:00.000000000",
          "2017-10-23T00:00:00.000000000",
          "2017-11-04T00:00:00.000000000",
          "2017-11-16T00:00:00.000000000",
          "2017-11-28T00:00:00.000000000",
          "2017-12-10T00:00:00.000000000",
          "2017-12-22T00:00:00.000000000",
          "2018-01-03T00:00:00.000000000",
          "2018-01-15T00:00:00.000000000",
          "2018-01-27T00:00:00.000000000",
          "2018-02-08T00:00:00.000000000",
          "2018-02-20T00:00:00.000000000",
          "2018-03-04T00:00:00.000000000",
          "2018-03-16T00:00:00.000000000",
          "2018-03-28T00:00:00.000000000",
          "2018-04-09T00:00:00.000000000",
          "2018-04-21T00:00:00.000000000",
          "2018-05-03T00:00:00.000000000",
          "2018-05-15T00:00:00.000000000",
          "2018-05-27T00:00:00.000000000",
          "2018-06-08T00:00:00.000000000",
          "2018-06-20T00:00:00.000000000",
          "2018-07-02T00:00:00.000000000",
          "2018-07-14T00:00:00.000000000",
          "2018-07-26T00:00:00.000000000",
          "2018-08-07T00:00:00.000000000",
          "2018-08-19T00:00:00.000000000",
          "2018-08-31T00:00:00.000000000",
          "2018-09-12T00:00:00.000000000",
          "2018-09-24T00:00:00.000000000",
          "2018-10-06T00:00:00.000000000",
          "2018-10-18T00:00:00.000000000",
          "2018-10-30T00:00:00.000000000",
          "2018-11-11T00:00:00.000000000",
          "2018-11-17T00:00:00.000000000",
          "2018-11-23T00:00:00.000000000",
          "2018-12-05T00:00:00.000000000",
          "2018-12-17T00:00:00.000000000",
          "2018-12-29T00:00:00.000000000",
          "2019-01-10T00:00:00.000000000",
          "2019-01-22T00:00:00.000000000"
         ],
         "y": [
          -9.111987113952637,
          -10.778946876525879,
          -12.050637245178223,
          -13.171438217163086,
          -11.795625686645508,
          -10.756107330322266,
          -12.033946990966797,
          -13.480030059814453,
          -14.28055191040039,
          -14.29376220703125,
          -14.061808586120605,
          -14.241332054138184,
          -14.003639221191406,
          -14.416257858276367,
          -14.758630752563477,
          -14.120702743530273,
          -13.730578422546387,
          -15.006708145141602,
          -16.08193588256836,
          -16.925390243530273,
          -17.97963523864746,
          -17.874706268310547,
          -18.72510528564453,
          -19.898983001708984,
          -20.649398803710938,
          -21.68541717529297,
          -25.108787536621094,
          -26.996292114257812,
          -27.246601104736328,
          -27.956079483032227,
          -27.71743392944336,
          -26.962547302246094,
          -26.25851821899414,
          -25.762086868286133,
          -25.698713302612305,
          -25.553476333618164,
          -25.75531768798828,
          -26.30422019958496,
          -26.49666404724121,
          -26.712575912475586,
          -26.643882751464844,
          -26.872291564941406,
          -26.890613555908203,
          -25.95014190673828,
          -26.356525421142578,
          -26.261432647705078,
          -26.815792083740234,
          -27.400724411010742,
          -27.60174560546875,
          -27.5617733001709,
          -28.054533004760742,
          -27.33555030822754,
          -26.73181915283203,
          -26.43429946899414,
          -25.98674964904785,
          -27.041616439819336,
          -26.48793601989746,
          -27.218067169189453,
          -27.237417221069336,
          -28.974485397338867,
          -30.397518157958984,
          -31.03865623474121,
          -33.19410705566406,
          -32.71759033203125,
          -31.640474319458008,
          -31.118749618530273,
          -31.095905303955078,
          -30.668148040771484,
          -30.78240203857422,
          -30.401214599609375,
          -30.870525360107422,
          -31.290306091308594,
          -32.11347961425781,
          -32.68692398071289,
          -33.06066131591797,
          -33.761451721191406,
          -33.91344451904297,
          -34.148616790771484,
          -33.988922119140625,
          -33.998695373535156,
          -33.33884048461914,
          -33.136322021484375,
          -33.226654052734375,
          -33.267112731933594,
          -33.363487243652344,
          -33.40257263183594,
          -34.38819885253906,
          -36.10404968261719,
          -36.908447265625,
          -37.036075592041016,
          -37.374454498291016
         ]
        }
       ],
       "layout": {
        "legend": {
         "orientation": "h",
         "x": 1,
         "xanchor": "right",
         "y": 1.02,
         "yanchor": "bottom"
        },
        "plot_bgcolor": "white",
        "template": {
         "data": {
          "bar": [
           {
            "error_x": {
             "color": "#2a3f5f"
            },
            "error_y": {
             "color": "#2a3f5f"
            },
            "marker": {
             "line": {
              "color": "#E5ECF6",
              "width": 0.5
             },
             "pattern": {
              "fillmode": "overlay",
              "size": 10,
              "solidity": 0.2
             }
            },
            "type": "bar"
           }
          ],
          "barpolar": [
           {
            "marker": {
             "line": {
              "color": "#E5ECF6",
              "width": 0.5
             },
             "pattern": {
              "fillmode": "overlay",
              "size": 10,
              "solidity": 0.2
             }
            },
            "type": "barpolar"
           }
          ],
          "carpet": [
           {
            "aaxis": {
             "endlinecolor": "#2a3f5f",
             "gridcolor": "white",
             "linecolor": "white",
             "minorgridcolor": "white",
             "startlinecolor": "#2a3f5f"
            },
            "baxis": {
             "endlinecolor": "#2a3f5f",
             "gridcolor": "white",
             "linecolor": "white",
             "minorgridcolor": "white",
             "startlinecolor": "#2a3f5f"
            },
            "type": "carpet"
           }
          ],
          "choropleth": [
           {
            "colorbar": {
             "outlinewidth": 0,
             "ticks": ""
            },
            "type": "choropleth"
           }
          ],
          "contour": [
           {
            "colorbar": {
             "outlinewidth": 0,
             "ticks": ""
            },
            "colorscale": [
             [
              0,
              "#0d0887"
             ],
             [
              0.1111111111111111,
              "#46039f"
             ],
             [
              0.2222222222222222,
              "#7201a8"
             ],
             [
              0.3333333333333333,
              "#9c179e"
             ],
             [
              0.4444444444444444,
              "#bd3786"
             ],
             [
              0.5555555555555556,
              "#d8576b"
             ],
             [
              0.6666666666666666,
              "#ed7953"
             ],
             [
              0.7777777777777778,
              "#fb9f3a"
             ],
             [
              0.8888888888888888,
              "#fdca26"
             ],
             [
              1,
              "#f0f921"
             ]
            ],
            "type": "contour"
           }
          ],
          "contourcarpet": [
           {
            "colorbar": {
             "outlinewidth": 0,
             "ticks": ""
            },
            "type": "contourcarpet"
           }
          ],
          "heatmap": [
           {
            "colorbar": {
             "outlinewidth": 0,
             "ticks": ""
            },
            "colorscale": [
             [
              0,
              "#0d0887"
             ],
             [
              0.1111111111111111,
              "#46039f"
             ],
             [
              0.2222222222222222,
              "#7201a8"
             ],
             [
              0.3333333333333333,
              "#9c179e"
             ],
             [
              0.4444444444444444,
              "#bd3786"
             ],
             [
              0.5555555555555556,
              "#d8576b"
             ],
             [
              0.6666666666666666,
              "#ed7953"
             ],
             [
              0.7777777777777778,
              "#fb9f3a"
             ],
             [
              0.8888888888888888,
              "#fdca26"
             ],
             [
              1,
              "#f0f921"
             ]
            ],
            "type": "heatmap"
           }
          ],
          "heatmapgl": [
           {
            "colorbar": {
             "outlinewidth": 0,
             "ticks": ""
            },
            "colorscale": [
             [
              0,
              "#0d0887"
             ],
             [
              0.1111111111111111,
              "#46039f"
             ],
             [
              0.2222222222222222,
              "#7201a8"
             ],
             [
              0.3333333333333333,
              "#9c179e"
             ],
             [
              0.4444444444444444,
              "#bd3786"
             ],
             [
              0.5555555555555556,
              "#d8576b"
             ],
             [
              0.6666666666666666,
              "#ed7953"
             ],
             [
              0.7777777777777778,
              "#fb9f3a"
             ],
             [
              0.8888888888888888,
              "#fdca26"
             ],
             [
              1,
              "#f0f921"
             ]
            ],
            "type": "heatmapgl"
           }
          ],
          "histogram": [
           {
            "marker": {
             "pattern": {
              "fillmode": "overlay",
              "size": 10,
              "solidity": 0.2
             }
            },
            "type": "histogram"
           }
          ],
          "histogram2d": [
           {
            "colorbar": {
             "outlinewidth": 0,
             "ticks": ""
            },
            "colorscale": [
             [
              0,
              "#0d0887"
             ],
             [
              0.1111111111111111,
              "#46039f"
             ],
             [
              0.2222222222222222,
              "#7201a8"
             ],
             [
              0.3333333333333333,
              "#9c179e"
             ],
             [
              0.4444444444444444,
              "#bd3786"
             ],
             [
              0.5555555555555556,
              "#d8576b"
             ],
             [
              0.6666666666666666,
              "#ed7953"
             ],
             [
              0.7777777777777778,
              "#fb9f3a"
             ],
             [
              0.8888888888888888,
              "#fdca26"
             ],
             [
              1,
              "#f0f921"
             ]
            ],
            "type": "histogram2d"
           }
          ],
          "histogram2dcontour": [
           {
            "colorbar": {
             "outlinewidth": 0,
             "ticks": ""
            },
            "colorscale": [
             [
              0,
              "#0d0887"
             ],
             [
              0.1111111111111111,
              "#46039f"
             ],
             [
              0.2222222222222222,
              "#7201a8"
             ],
             [
              0.3333333333333333,
              "#9c179e"
             ],
             [
              0.4444444444444444,
              "#bd3786"
             ],
             [
              0.5555555555555556,
              "#d8576b"
             ],
             [
              0.6666666666666666,
              "#ed7953"
             ],
             [
              0.7777777777777778,
              "#fb9f3a"
             ],
             [
              0.8888888888888888,
              "#fdca26"
             ],
             [
              1,
              "#f0f921"
             ]
            ],
            "type": "histogram2dcontour"
           }
          ],
          "mesh3d": [
           {
            "colorbar": {
             "outlinewidth": 0,
             "ticks": ""
            },
            "type": "mesh3d"
           }
          ],
          "parcoords": [
           {
            "line": {
             "colorbar": {
              "outlinewidth": 0,
              "ticks": ""
             }
            },
            "type": "parcoords"
           }
          ],
          "pie": [
           {
            "automargin": true,
            "type": "pie"
           }
          ],
          "scatter": [
           {
            "fillpattern": {
             "fillmode": "overlay",
             "size": 10,
             "solidity": 0.2
            },
            "type": "scatter"
           }
          ],
          "scatter3d": [
           {
            "line": {
             "colorbar": {
              "outlinewidth": 0,
              "ticks": ""
             }
            },
            "marker": {
             "colorbar": {
              "outlinewidth": 0,
              "ticks": ""
             }
            },
            "type": "scatter3d"
           }
          ],
          "scattercarpet": [
           {
            "marker": {
             "colorbar": {
              "outlinewidth": 0,
              "ticks": ""
             }
            },
            "type": "scattercarpet"
           }
          ],
          "scattergeo": [
           {
            "marker": {
             "colorbar": {
              "outlinewidth": 0,
              "ticks": ""
             }
            },
            "type": "scattergeo"
           }
          ],
          "scattergl": [
           {
            "marker": {
             "colorbar": {
              "outlinewidth": 0,
              "ticks": ""
             }
            },
            "type": "scattergl"
           }
          ],
          "scattermapbox": [
           {
            "marker": {
             "colorbar": {
              "outlinewidth": 0,
              "ticks": ""
             }
            },
            "type": "scattermapbox"
           }
          ],
          "scatterpolar": [
           {
            "marker": {
             "colorbar": {
              "outlinewidth": 0,
              "ticks": ""
             }
            },
            "type": "scatterpolar"
           }
          ],
          "scatterpolargl": [
           {
            "marker": {
             "colorbar": {
              "outlinewidth": 0,
              "ticks": ""
             }
            },
            "type": "scatterpolargl"
           }
          ],
          "scatterternary": [
           {
            "marker": {
             "colorbar": {
              "outlinewidth": 0,
              "ticks": ""
             }
            },
            "type": "scatterternary"
           }
          ],
          "surface": [
           {
            "colorbar": {
             "outlinewidth": 0,
             "ticks": ""
            },
            "colorscale": [
             [
              0,
              "#0d0887"
             ],
             [
              0.1111111111111111,
              "#46039f"
             ],
             [
              0.2222222222222222,
              "#7201a8"
             ],
             [
              0.3333333333333333,
              "#9c179e"
             ],
             [
              0.4444444444444444,
              "#bd3786"
             ],
             [
              0.5555555555555556,
              "#d8576b"
             ],
             [
              0.6666666666666666,
              "#ed7953"
             ],
             [
              0.7777777777777778,
              "#fb9f3a"
             ],
             [
              0.8888888888888888,
              "#fdca26"
             ],
             [
              1,
              "#f0f921"
             ]
            ],
            "type": "surface"
           }
          ],
          "table": [
           {
            "cells": {
             "fill": {
              "color": "#EBF0F8"
             },
             "line": {
              "color": "white"
             }
            },
            "header": {
             "fill": {
              "color": "#C8D4E3"
             },
             "line": {
              "color": "white"
             }
            },
            "type": "table"
           }
          ]
         },
         "layout": {
          "annotationdefaults": {
           "arrowcolor": "#2a3f5f",
           "arrowhead": 0,
           "arrowwidth": 1
          },
          "autotypenumbers": "strict",
          "coloraxis": {
           "colorbar": {
            "outlinewidth": 0,
            "ticks": ""
           }
          },
          "colorscale": {
           "diverging": [
            [
             0,
             "#8e0152"
            ],
            [
             0.1,
             "#c51b7d"
            ],
            [
             0.2,
             "#de77ae"
            ],
            [
             0.3,
             "#f1b6da"
            ],
            [
             0.4,
             "#fde0ef"
            ],
            [
             0.5,
             "#f7f7f7"
            ],
            [
             0.6,
             "#e6f5d0"
            ],
            [
             0.7,
             "#b8e186"
            ],
            [
             0.8,
             "#7fbc41"
            ],
            [
             0.9,
             "#4d9221"
            ],
            [
             1,
             "#276419"
            ]
           ],
           "sequential": [
            [
             0,
             "#0d0887"
            ],
            [
             0.1111111111111111,
             "#46039f"
            ],
            [
             0.2222222222222222,
             "#7201a8"
            ],
            [
             0.3333333333333333,
             "#9c179e"
            ],
            [
             0.4444444444444444,
             "#bd3786"
            ],
            [
             0.5555555555555556,
             "#d8576b"
            ],
            [
             0.6666666666666666,
             "#ed7953"
            ],
            [
             0.7777777777777778,
             "#fb9f3a"
            ],
            [
             0.8888888888888888,
             "#fdca26"
            ],
            [
             1,
             "#f0f921"
            ]
           ],
           "sequentialminus": [
            [
             0,
             "#0d0887"
            ],
            [
             0.1111111111111111,
             "#46039f"
            ],
            [
             0.2222222222222222,
             "#7201a8"
            ],
            [
             0.3333333333333333,
             "#9c179e"
            ],
            [
             0.4444444444444444,
             "#bd3786"
            ],
            [
             0.5555555555555556,
             "#d8576b"
            ],
            [
             0.6666666666666666,
             "#ed7953"
            ],
            [
             0.7777777777777778,
             "#fb9f3a"
            ],
            [
             0.8888888888888888,
             "#fdca26"
            ],
            [
             1,
             "#f0f921"
            ]
           ]
          },
          "colorway": [
           "#636efa",
           "#EF553B",
           "#00cc96",
           "#ab63fa",
           "#FFA15A",
           "#19d3f3",
           "#FF6692",
           "#B6E880",
           "#FF97FF",
           "#FECB52"
          ],
          "font": {
           "color": "#2a3f5f"
          },
          "geo": {
           "bgcolor": "white",
           "lakecolor": "white",
           "landcolor": "#E5ECF6",
           "showlakes": true,
           "showland": true,
           "subunitcolor": "white"
          },
          "hoverlabel": {
           "align": "left"
          },
          "hovermode": "closest",
          "mapbox": {
           "style": "light"
          },
          "paper_bgcolor": "white",
          "plot_bgcolor": "#E5ECF6",
          "polar": {
           "angularaxis": {
            "gridcolor": "white",
            "linecolor": "white",
            "ticks": ""
           },
           "bgcolor": "#E5ECF6",
           "radialaxis": {
            "gridcolor": "white",
            "linecolor": "white",
            "ticks": ""
           }
          },
          "scene": {
           "xaxis": {
            "backgroundcolor": "#E5ECF6",
            "gridcolor": "white",
            "gridwidth": 2,
            "linecolor": "white",
            "showbackground": true,
            "ticks": "",
            "zerolinecolor": "white"
           },
           "yaxis": {
            "backgroundcolor": "#E5ECF6",
            "gridcolor": "white",
            "gridwidth": 2,
            "linecolor": "white",
            "showbackground": true,
            "ticks": "",
            "zerolinecolor": "white"
           },
           "zaxis": {
            "backgroundcolor": "#E5ECF6",
            "gridcolor": "white",
            "gridwidth": 2,
            "linecolor": "white",
            "showbackground": true,
            "ticks": "",
            "zerolinecolor": "white"
           }
          },
          "shapedefaults": {
           "line": {
            "color": "#2a3f5f"
           }
          },
          "ternary": {
           "aaxis": {
            "gridcolor": "white",
            "linecolor": "white",
            "ticks": ""
           },
           "baxis": {
            "gridcolor": "white",
            "linecolor": "white",
            "ticks": ""
           },
           "bgcolor": "#E5ECF6",
           "caxis": {
            "gridcolor": "white",
            "linecolor": "white",
            "ticks": ""
           }
          },
          "title": {
           "x": 0.05
          },
          "xaxis": {
           "automargin": true,
           "gridcolor": "white",
           "linecolor": "white",
           "ticks": "",
           "title": {
            "standoff": 15
           },
           "zerolinecolor": "white",
           "zerolinewidth": 2
          },
          "yaxis": {
           "automargin": true,
           "gridcolor": "white",
           "linecolor": "white",
           "ticks": "",
           "title": {
            "standoff": 15
           },
           "zerolinecolor": "white",
           "zerolinewidth": 2
          }
         }
        },
        "title": {
         "font": {
          "color": "black"
         },
         "text": "Subsidence"
        },
        "xaxis": {
         "gridcolor": "lightgrey",
         "gridwidth": 1,
         "linecolor": "black",
         "linewidth": 1,
         "showgrid": true,
         "showline": true,
         "title": {
          "text": "Month-Year"
         },
         "zeroline": true,
         "zerolinecolor": "lightgrey",
         "zerolinewidth": 1
        },
        "yaxis": {
         "gridcolor": "lightgrey",
         "gridwidth": 1,
         "linecolor": "black",
         "linewidth": 1,
         "showgrid": true,
         "showline": true,
         "title": {
          "text": "Subsidence"
         },
         "zeroline": true,
         "zerolinecolor": "lightgrey",
         "zerolinewidth": 1
        }
       }
      }
     },
     "metadata": {},
     "output_type": "display_data"
    }
   ],
   "source": [
    "# Plot (actual and predicted) for test (out of time) data\n",
    "fig = go.Figure()\n",
    "\n",
    "# #Trace for actual val\n",
    "# fig.add_trace(go.Scatter(x=np.array(test.columns),\n",
    "#                          y=np.array(test.values).flatten(),\n",
    "#                          mode='lines',\n",
    "#                          name='Subsidence - Actual (Test)',\n",
    "#                          opacity=0.8,\n",
    "#                          line=dict(color='black', width=1)\n",
    "#                         ))\n",
    "# fig.add_trace(go.Scatter(x=np.array(test.columns),\n",
    "#                          y=e,\n",
    "#                          mode='lines',\n",
    "#                          name='Subsidence - Actual (YTrain)',\n",
    "#                          opacity=0.8,\n",
    "#                          line=dict(color='pink', width=1)\n",
    "#                         ))\n",
    "\n",
    "fig.add_trace(go.Scatter(x=np.array(test.columns[10:]),\n",
    "                         y=c,\n",
    "                         mode='lines',\n",
    "                         name='Subsidence - Actual (YTest)',\n",
    "                         opacity=0.8,\n",
    "                         line=dict(color='grey', width=5)\n",
    "                        ))\n",
    "\n",
    "\n",
    "# Trace for predicted \n",
    "fig.add_trace(go.Scatter(x=np.array(test.columns[10:]),\n",
    "                         y=z,\n",
    "                         mode='lines',\n",
    "                         name='Subsidence - Predicted ',\n",
    "                         opacity=0.8,\n",
    "                         line=dict(color='red', width=5)\n",
    "                        ))\n",
    "\n",
    "# Change chart background color\n",
    "fig.update_layout(dict(plot_bgcolor = 'white'))\n",
    "\n",
    "# Update axes lines\n",
    "fig.update_xaxes(showgrid=True, gridwidth=1, gridcolor='lightgrey', \n",
    "                 zeroline=True, zerolinewidth=1, zerolinecolor='lightgrey', \n",
    "                 showline=True, linewidth=1, linecolor='black',\n",
    "                 title='Month-Year'\n",
    "                )\n",
    "\n",
    "fig.update_yaxes(showgrid=True, gridwidth=1, gridcolor='lightgrey', \n",
    "                 zeroline=True, zerolinewidth=1, zerolinecolor='lightgrey', \n",
    "                 showline=True, linewidth=1, linecolor='black',\n",
    "                 title='Subsidence'\n",
    "                )\n",
    "\n",
    "# Set figure title\n",
    "fig.update_layout(title=dict(text=\"Subsidence\", font=dict(color='black')),\n",
    "                  legend=dict(orientation=\"h\", yanchor=\"bottom\", y=1.02, xanchor=\"right\", x=1)\n",
    "                 )\n",
    "fig.show()"
   ]
  },
  {
   "cell_type": "markdown",
   "metadata": {},
   "source": []
  }
 ],
 "metadata": {
  "kernelspec": {
   "display_name": "Python 3.10.5 64-bit",
   "language": "python",
   "name": "python3"
  },
  "language_info": {
   "codemirror_mode": {
    "name": "ipython",
    "version": 3
   },
   "file_extension": ".py",
   "mimetype": "text/x-python",
   "name": "python",
   "nbconvert_exporter": "python",
   "pygments_lexer": "ipython3",
   "version": "3.10.5"
  },
  "orig_nbformat": 4,
  "vscode": {
   "interpreter": {
    "hash": "d3e10ef16274dd72e574b8fa73b58450b957d8421a2901baded3cca26fcf5dda"
   }
  }
 },
 "nbformat": 4,
 "nbformat_minor": 2
}
