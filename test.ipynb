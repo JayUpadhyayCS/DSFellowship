{
 "cells": [
  {
   "cell_type": "code",
   "execution_count": 4,
   "metadata": {},
   "outputs": [],
   "source": [
    "%matplotlib inline\n",
    "import os\n",
    "import glob\n",
    "import numpy as np\n",
    "from matplotlib import pyplot as plt\n",
    "import pandas as pd\n",
    "import descartes\n",
    "import geopandas as gpd\n",
    "from shapely.geometry import Point, Polygon\n",
    "import seaborn as sns\n",
    "from mpl_toolkits.mplot3d import Axes3D\n",
    "import imagesc as imagesc\n",
    "# Standardize the data attributes for the Iris dataset.\n",
    "from sklearn import preprocessing\n",
    "from sklearn.preprocessing import StandardScaler\n",
    "from sklearn.preprocessing import MinMaxScaler\n",
    "from sklearn.model_selection import train_test_split"
   ]
  },
  {
   "cell_type": "code",
   "execution_count": null,
   "metadata": {},
   "outputs": [],
   "source": [
    "# global figure parameters\n",
    "import matplotlib.pylab as pylab\n",
    "params = {'legend.fontsize': 'x-large',\n",
    "          'figure.figsize': (8, 5),\n",
    "          'figure.dpi': 300,\n",
    "         'axes.labelsize': 'x-large',\n",
    "         'axes.titlesize':'x-large',\n",
    "         'xtick.labelsize':'x-large',\n",
    "         'ytick.labelsize':'x-large'}\n",
    "pylab.rcParams.update(params)"
   ]
  },
  {
   "cell_type": "code",
   "execution_count": 2,
   "metadata": {},
   "outputs": [
    {
     "ename": "NameError",
     "evalue": "name 'pd' is not defined",
     "output_type": "error",
     "traceback": [
      "\u001b[1;31m---------------------------------------------------------------------------\u001b[0m",
      "\u001b[1;31mNameError\u001b[0m                                 Traceback (most recent call last)",
      "\u001b[1;32me:\\DSFellowship\\test.ipynb Cell 3'\u001b[0m in \u001b[0;36m<cell line: 3>\u001b[1;34m()\u001b[0m\n\u001b[0;32m      <a href='vscode-notebook-cell:/e%3A/DSFellowship/test.ipynb#ch0000002?line=0'>1</a>\u001b[0m \u001b[39m# south InSAR\u001b[39;00m\n\u001b[0;32m      <a href='vscode-notebook-cell:/e%3A/DSFellowship/test.ipynb#ch0000002?line=1'>2</a>\u001b[0m \u001b[39m# load lon, lat information\u001b[39;00m\n\u001b[1;32m----> <a href='vscode-notebook-cell:/e%3A/DSFellowship/test.ipynb#ch0000002?line=2'>3</a>\u001b[0m lon_south\u001b[39m=\u001b[39mpd\u001b[39m.\u001b[39mread_csv(\u001b[39m'\u001b[39m\u001b[39mInSAR_data_south/longitude.csv\u001b[39m\u001b[39m'\u001b[39m)\n\u001b[0;32m      <a href='vscode-notebook-cell:/e%3A/DSFellowship/test.ipynb#ch0000002?line=3'>4</a>\u001b[0m lat_south\u001b[39m=\u001b[39mpd\u001b[39m.\u001b[39mread_csv(\u001b[39m'\u001b[39m\u001b[39mInSAR_data_south/latitude.csv\u001b[39m\u001b[39m'\u001b[39m)\n\u001b[0;32m      <a href='vscode-notebook-cell:/e%3A/DSFellowship/test.ipynb#ch0000002?line=4'>5</a>\u001b[0m \u001b[39m# load one file\u001b[39;00m\n",
      "\u001b[1;31mNameError\u001b[0m: name 'pd' is not defined"
     ]
    }
   ],
   "source": [
    "# south InSAR\n",
    "# load lon, lat information\n",
    "lon_south=pd.read_csv('InSAR_data_south/longitude.csv')\n",
    "lat_south=pd.read_csv('InSAR_data_south/latitude.csv')\n",
    "# load one file\n",
    "\n",
    "z_south=pd.read_csv('InSAR_data_south/displacement/20190122.csv')\n",
    "\n",
    "\n",
    "# change columns and index names into lon and lat\n",
    "z_south.columns=lon_south.columns\n",
    "z_south.index=lat_south.columns[:-1]\n",
    "#standardized_x=preprocessing.scale(z_south)\n",
    "#print(standardized_x)\n",
    "min=-80\n",
    "max=0\n",
    "#need to standardize data\n",
    "ax=sns.heatmap(z_south, xticklabels=200, yticklabels=200,vmin=min, vmax=max,\\\n",
    "    cbar_kws={'label': 'Displacement (cm)'})\n",
    "ax.invert_yaxis()\n",
    "plt.xlabel('Longitude')\n",
    "plt.ylabel('Latitude')\n",
    "plt.tight_layout()\n",
    "plt.savefig('InSAR_south.tiff', transparent=True)"
   ]
  },
  {
   "cell_type": "code",
   "execution_count": 8,
   "metadata": {},
   "outputs": [
    {
     "name": "stdout",
     "output_type": "stream",
     "text": [
      "34.1347    NaN\n",
      "34.1367    NaN\n",
      "34.1387    NaN\n",
      "34.1407    NaN\n",
      "34.1427    NaN\n",
      "          ... \n",
      "37.6256    NaN\n",
      "37.6276    NaN\n",
      "37.6296    NaN\n",
      "37.6316    NaN\n",
      "37.6336    NaN\n",
      "Length: 1750, dtype: object\n",
      "-120.9486    NaN\n",
      "-120.9466    NaN\n",
      "-120.9446    NaN\n",
      "-120.9426    NaN\n",
      "-120.9406    NaN\n",
      "            ... \n",
      "-117.6494    NaN\n",
      "-117.6474    NaN\n",
      "-117.6454    NaN\n",
      "-117.6434    NaN\n",
      "-117.6414    NaN\n",
      "Length: 1655, dtype: object\n"
     ]
    }
   ],
   "source": [
    "lon_south=pd.read_csv('InSAR_data_south/longitude.csv')\n",
    "lat_south=pd.read_csv('InSAR_data_south/latitude.csv')\n",
    "print(lat_south.max())\n",
    "print(lon_south.max())\n"
   ]
  },
  {
   "cell_type": "markdown",
   "metadata": {},
   "source": [
    "Ok Now trying to experiment preprocessing and learning how to rescale this data.\n"
   ]
  },
  {
   "cell_type": "code",
   "execution_count": null,
   "metadata": {},
   "outputs": [
    {
     "name": "stdout",
     "output_type": "stream",
     "text": [
      "StandardScaler()\n",
      "[[       nan        nan        nan ...        nan        nan        nan]\n",
      " [       nan        nan        nan ...        nan        nan        nan]\n",
      " [       nan        nan        nan ...        nan        nan        nan]\n",
      " ...\n",
      " [       nan        nan        nan ... 1.40067682 1.02909994 0.9679366 ]\n",
      " [       nan        nan        nan ... 1.52973336 1.23541621 1.60185441]\n",
      " [       nan        nan        nan ... 1.511104   1.26879426 1.13396517]]\n",
      "[nan nan nan ... nan nan nan]\n",
      "[nan nan nan ... nan nan nan]\n",
      "nan\n",
      "nan\n"
     ]
    },
    {
     "name": "stderr",
     "output_type": "stream",
     "text": [
      "c:\\Python\\Python310\\lib\\site-packages\\sklearn\\utils\\extmath.py:980: RuntimeWarning: invalid value encountered in true_divide\n",
      "  updated_mean = (last_sum + new_sum) / updated_sample_count\n",
      "c:\\Python\\Python310\\lib\\site-packages\\sklearn\\utils\\extmath.py:985: RuntimeWarning: invalid value encountered in true_divide\n",
      "  T = new_sum / new_sample_count\n",
      "c:\\Python\\Python310\\lib\\site-packages\\sklearn\\utils\\extmath.py:1005: RuntimeWarning: invalid value encountered in true_divide\n",
      "  new_unnormalized_variance -= correction**2 / new_sample_count\n"
     ]
    }
   ],
   "source": [
    "#print(z_south)\n",
    "z_south.head()\n",
    "z_south.dtypes\n",
    "X= z_south.iloc[:]\n",
    "X.tail()\n",
    "scaler=StandardScaler().fit(X)\n",
    "print(scaler)\n",
    "scaler.mean_\n",
    "scaler.scale_\n",
    "X_train_scaled=scaler.transform(X)\n",
    "print(X_train_scaled)\n",
    "print(X_train_scaled.mean(axis=0))\n",
    "print(X_train_scaled.std(axis=0))\n",
    "print(X_train_scaled.max())\n",
    "print(X_train_scaled.min())\n"
   ]
  },
  {
   "cell_type": "code",
   "execution_count": null,
   "metadata": {},
   "outputs": [
    {
     "name": "stdout",
     "output_type": "stream",
     "text": [
      "         Longitude Latitude  Displacement (cm)\n",
      "0        -120.9486  34.1347                NaN\n",
      "1        -120.9486  34.1367                NaN\n",
      "2        -120.9486  34.1387                NaN\n",
      "3        -120.9486  34.1407                NaN\n",
      "4        -120.9486  34.1427                NaN\n",
      "...            ...      ...                ...\n",
      "2894590  -117.6414  37.6236             8.8353\n",
      "2894591  -117.6414  37.6256             8.3278\n",
      "2894592  -117.6414  37.6276             8.3947\n",
      "2894593  -117.6414  37.6296            10.2190\n",
      "2894594  -117.6414  37.6316             8.8725\n",
      "\n",
      "[2894595 rows x 3 columns]\n"
     ]
    }
   ],
   "source": [
    "df=z_south.unstack().reset_index()\n",
    "df.columns=['Longitude','Latitude','Displacement (cm)']\n",
    "print(df)\n"
   ]
  },
  {
   "cell_type": "code",
   "execution_count": null,
   "metadata": {},
   "outputs": [
    {
     "name": "stdout",
     "output_type": "stream",
     "text": [
      "Longitude            -120.9486\n",
      "Latitude               37.6316\n",
      "Displacement (cm)       30.446\n",
      "dtype: object\n",
      "Longitude            -117.6414\n",
      "Latitude               34.1347\n",
      "Displacement (cm)      -110.63\n",
      "dtype: object\n",
      "Displacement (cm)    12.033803\n",
      "dtype: float64\n"
     ]
    },
    {
     "name": "stderr",
     "output_type": "stream",
     "text": [
      "C:\\Users\\jupad\\AppData\\Local\\Temp\\ipykernel_2992\\516894372.py:3: FutureWarning: Dropping of nuisance columns in DataFrame reductions (with 'numeric_only=None') is deprecated; in a future version this will raise TypeError.  Select only valid columns before calling the reduction.\n",
      "  print(df.std())\n"
     ]
    }
   ],
   "source": [
    "print(df.max())\n",
    "print(df.min())\n",
    "print(df.std())\n",
    "print(df.mean())\n"
   ]
  },
  {
   "cell_type": "code",
   "execution_count": null,
   "metadata": {},
   "outputs": [],
   "source": [
    "#standardized_df=((df-df.mean(axis=0))/df.std(axis=0))\n",
    "#print(standardized_df.head)\n"
   ]
  },
  {
   "cell_type": "code",
   "execution_count": null,
   "metadata": {},
   "outputs": [
    {
     "name": "stdout",
     "output_type": "stream",
     "text": [
      "         Longitude  Latitude  Displacement (cm)\n",
      "0        -1.731007 -1.731058                NaN\n",
      "1        -1.731007 -1.729078                NaN\n",
      "2        -1.731007 -1.727098                NaN\n",
      "3        -1.731007 -1.725118                NaN\n",
      "4        -1.731007 -1.723138                NaN\n",
      "...            ...       ...                ...\n",
      "2894590   1.731007  1.723138           0.985470\n",
      "2894591   1.731007  1.725118           0.943297\n",
      "2894592   1.731007  1.727099           0.948856\n",
      "2894593   1.731007  1.729079           1.100454\n",
      "2894594   1.731007  1.731059           0.988561\n",
      "\n",
      "[2894595 rows x 3 columns]\n",
      "Longitude            1.731007\n",
      "Latitude             1.731059\n",
      "Displacement (cm)    2.781304\n",
      "dtype: float64\n",
      "Longitude           -1.731007\n",
      "Latitude            -1.731058\n",
      "Displacement (cm)   -8.942010\n",
      "dtype: float64\n"
     ]
    }
   ],
   "source": [
    "scaler=StandardScaler().fit(df)\n",
    "sdf=scaler.transform(df)\n",
    "sdf=pd.DataFrame(sdf,index=df.index, columns=df.columns)\n",
    "print(sdf)\n",
    "print(sdf.max())\n",
    "print(sdf.min())"
   ]
  },
  {
   "cell_type": "code",
   "execution_count": null,
   "metadata": {},
   "outputs": [],
   "source": [
    "standardDF=df\n",
    "standardDF.iloc[:, 2:3]=StandardScaler().fit_transform(df.iloc[:, 2:3])\n"
   ]
  },
  {
   "cell_type": "code",
   "execution_count": null,
   "metadata": {},
   "outputs": [
    {
     "name": "stdout",
     "output_type": "stream",
     "text": [
      "         Longitude Latitude  Displacement (cm)\n",
      "0        -120.9486  34.1347                NaN\n",
      "1        -120.9486  34.1367                NaN\n",
      "2        -120.9486  34.1387                NaN\n",
      "3        -120.9486  34.1407                NaN\n",
      "4        -120.9486  34.1427                NaN\n",
      "...            ...      ...                ...\n",
      "2894590  -117.6414  37.6236           0.985470\n",
      "2894591  -117.6414  37.6256           0.943297\n",
      "2894592  -117.6414  37.6276           0.948856\n",
      "2894593  -117.6414  37.6296           1.100454\n",
      "2894594  -117.6414  37.6316           0.988561\n",
      "\n",
      "[2894595 rows x 3 columns]\n",
      "Longitude            -120.9486\n",
      "Latitude               37.6316\n",
      "Displacement (cm)     2.781304\n",
      "dtype: object\n",
      "Longitude            -117.6414\n",
      "Latitude               34.1347\n",
      "Displacement (cm)     -8.94201\n",
      "dtype: object\n",
      "Displacement (cm)    1.0\n",
      "dtype: float64\n"
     ]
    },
    {
     "name": "stderr",
     "output_type": "stream",
     "text": [
      "C:\\Users\\jupad\\AppData\\Local\\Temp\\ipykernel_2992\\3561787021.py:4: FutureWarning: Dropping of nuisance columns in DataFrame reductions (with 'numeric_only=None') is deprecated; in a future version this will raise TypeError.  Select only valid columns before calling the reduction.\n",
      "  print(standardDF.std())\n"
     ]
    }
   ],
   "source": [
    "print(standardDF)\n",
    "print(standardDF.max())\n",
    "print(standardDF.min())\n",
    "print(standardDF.std())\n"
   ]
  },
  {
   "cell_type": "code",
   "execution_count": null,
   "metadata": {},
   "outputs": [],
   "source": [
    "normalDF=df\n",
    "normalDF.iloc[:, 2:3]=MinMaxScaler().fit_transform(df.iloc[:, 2:3])"
   ]
  },
  {
   "cell_type": "code",
   "execution_count": null,
   "metadata": {},
   "outputs": [
    {
     "name": "stdout",
     "output_type": "stream",
     "text": [
      "         Longitude Latitude  Displacement (cm)\n",
      "0        -120.9486  34.1347                NaN\n",
      "1        -120.9486  34.1367                NaN\n",
      "2        -120.9486  34.1387                NaN\n",
      "3        -120.9486  34.1407                NaN\n",
      "4        -120.9486  34.1427                NaN\n",
      "...            ...      ...                ...\n",
      "2894590  -117.6414  37.6236           0.846815\n",
      "2894591  -117.6414  37.6256           0.843218\n",
      "2894592  -117.6414  37.6276           0.843692\n",
      "2894593  -117.6414  37.6296           0.856623\n",
      "2894594  -117.6414  37.6316           0.847079\n",
      "\n",
      "[2894595 rows x 3 columns]\n",
      "Longitude            -120.9486\n",
      "Latitude               37.6316\n",
      "Displacement (cm)          1.0\n",
      "dtype: object\n",
      "Longitude            -117.6414\n",
      "Latitude               34.1347\n",
      "Displacement (cm)          0.0\n",
      "dtype: object\n"
     ]
    }
   ],
   "source": [
    "print(normalDF)\n",
    "print(normalDF.max())\n",
    "print(normalDF.min())\n"
   ]
  }
 ],
 "metadata": {
  "kernelspec": {
   "display_name": "Python 3.7.0 ('venvLaptop': venv)",
   "language": "python",
   "name": "python3"
  },
  "language_info": {
   "codemirror_mode": {
    "name": "ipython",
    "version": 3
   },
   "file_extension": ".py",
   "mimetype": "text/x-python",
   "name": "python",
   "nbconvert_exporter": "python",
   "pygments_lexer": "ipython3",
   "version": "3.7.0"
  },
  "orig_nbformat": 4,
  "vscode": {
   "interpreter": {
    "hash": "1f919b64896236322ae524d281887e8a5ef11960f7dce763561cec2b323cd116"
   }
  }
 },
 "nbformat": 4,
 "nbformat_minor": 2
}
