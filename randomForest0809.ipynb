{
 "cells": [
  {
   "cell_type": "code",
   "execution_count": 1,
   "metadata": {},
   "outputs": [
    {
     "name": "stderr",
     "output_type": "stream",
     "text": [
      "c:\\Python\\Python310\\lib\\site-packages\\requests\\__init__.py:109: RequestsDependencyWarning: urllib3 (1.26.9) or chardet (5.0.0)/charset_normalizer (2.0.12) doesn't match a supported version!\n",
      "  warnings.warn(\n"
     ]
    },
    {
     "name": "stdout",
     "output_type": "stream",
     "text": [
      "Tensorflow/Keras: 2.9.0\n",
      "pandas: 1.4.2\n",
      "numpy: 1.22.4\n",
      "sklearn: 1.1.1\n",
      "plotly: 5.9.0\n"
     ]
    }
   ],
   "source": [
    "# Tensorflow / Keras\n",
    "from tensorflow import keras # for building Neural Networks\n",
    "print('Tensorflow/Keras: %s' % keras.__version__) # print version\n",
    "from keras.models import Sequential # for creating a linear stack of layers for our Neural Network\n",
    "from keras import Input # for instantiating a keras tensor\n",
    "from keras.layers import Masking,Bidirectional, LSTM, RepeatVector, Dense, TimeDistributed,MaxPooling1D, Flatten, Conv1D,Conv2D,Dropout, MaxPooling2D # for creating layers inside the Neural Network\n",
    "from keras.optimizers import Adam , SGD\n",
    "# Data manipulation\n",
    "import pandas as pd # for data manipulation\n",
    "print('pandas: %s' % pd.__version__) # print version\n",
    "import numpy as np # for data manipulation\n",
    "print('numpy: %s' % np.__version__) # print version\n",
    "import numpy.ma as ma\n",
    "# Sklearn\n",
    "import sklearn\n",
    "print('sklearn: %s' % sklearn.__version__) # print version\n",
    "from sklearn.preprocessing import MinMaxScaler # for feature scaling\n",
    "from sklearn.model_selection import train_test_split, GridSearchCV\n",
    "from sklearn.metrics import mean_squared_error # for calculating the cost function\n",
    "from sklearn.ensemble import RandomForestRegressor # for building the model\n",
    "# Visualization\n",
    "import plotly \n",
    "import plotly.express as px\n",
    "import plotly.graph_objects as go\n",
    "print('plotly: %s' % plotly.__version__) # print version\n",
    "from matplotlib import pyplot as plt\n",
    "\n",
    "#file accessing\n",
    "import os\n",
    "# time stuff\n",
    "from datetime import timedelta\n",
    "import calendar\n"
   ]
  },
  {
   "cell_type": "code",
   "execution_count": 2,
   "metadata": {},
   "outputs": [
    {
     "name": "stdout",
     "output_type": "stream",
     "text": [
      "Defined the plot_the_model and plot_the_loss_curve functions.\n"
     ]
    }
   ],
   "source": [
    "#@title Define the plotting functions\n",
    "def plot_the_model(trained_weight, trained_bias, feature, label):\n",
    "  \"\"\"Plot the trained model against the training feature and label.\"\"\"\n",
    "\n",
    "  # Label the axes.\n",
    "  plt.xlabel(\"feature\")\n",
    "  plt.ylabel(\"label\")\n",
    "\n",
    "  # Plot the feature values vs. label values.\n",
    "  plt.scatter(feature, label)\n",
    "\n",
    "  # Create a red line representing the model. The red line starts\n",
    "  # at coordinates (x0, y0) and ends at coordinates (x1, y1).\n",
    "  x0 = 0\n",
    "  y0 = trained_bias\n",
    "  x1 = feature[-1]\n",
    "  y1 = trained_bias + (trained_weight * x1)\n",
    "  plt.plot([x0, x1], [y0, y1], c='r')\n",
    "\n",
    "  # Render the scatter plot and the red line.\n",
    "  plt.show()\n",
    "\n",
    "def plot_the_loss_curve(epochs, rmse):\n",
    "  \"\"\"Plot the loss curve, which shows loss vs. epoch.\"\"\"\n",
    "\n",
    "  plt.figure()\n",
    "  plt.xlabel(\"Epoch\")\n",
    "  plt.ylabel(\"Root Mean Squared Error\")\n",
    "  #epochs.remove(max(epochs))\n",
    "  \n",
    "  #rmse.drop(max(rmse))\n",
    "  plt.plot(epochs, rmse, label=\"Loss\")\n",
    "  plt.legend()\n",
    "  plt.ylim([rmse.min()*0.97, rmse.max()])\n",
    "  plt.show()\n",
    "\n",
    "print(\"Defined the plot_the_model and plot_the_loss_curve functions.\")"
   ]
  },
  {
   "cell_type": "markdown",
   "metadata": {},
   "source": [
    "##### Read from file and establish dataframe and future functions"
   ]
  },
  {
   "cell_type": "code",
   "execution_count": 3,
   "metadata": {},
   "outputs": [],
   "source": [
    "df=pd.read_csv('InSAR_data_south/displacement/export_dataframe1.csv')\n",
    "df=df.set_index([df.columns[0],df.columns[1]])\n",
    "df.columns=pd.to_datetime(df.columns, format='%Y%m%d')\n",
    "df=df.dropna(axis=0, how='all')#drop full nan rows"
   ]
  },
  {
   "cell_type": "markdown",
   "metadata": {},
   "source": [
    "##### Remove next line to include all data"
   ]
  },
  {
   "cell_type": "code",
   "execution_count": 4,
   "metadata": {},
   "outputs": [
    {
     "data": {
      "text/html": [
       "<div>\n",
       "<style scoped>\n",
       "    .dataframe tbody tr th:only-of-type {\n",
       "        vertical-align: middle;\n",
       "    }\n",
       "\n",
       "    .dataframe tbody tr th {\n",
       "        vertical-align: top;\n",
       "    }\n",
       "\n",
       "    .dataframe thead th {\n",
       "        text-align: right;\n",
       "    }\n",
       "</style>\n",
       "<table border=\"1\" class=\"dataframe\">\n",
       "  <thead>\n",
       "    <tr style=\"text-align: right;\">\n",
       "      <th></th>\n",
       "      <th></th>\n",
       "      <th>2014-11-08</th>\n",
       "      <th>2014-12-02</th>\n",
       "      <th>2014-12-26</th>\n",
       "      <th>2015-02-12</th>\n",
       "      <th>2015-03-08</th>\n",
       "      <th>2015-04-01</th>\n",
       "      <th>2015-04-25</th>\n",
       "      <th>2015-05-19</th>\n",
       "      <th>2015-06-12</th>\n",
       "      <th>2015-07-06</th>\n",
       "      <th>...</th>\n",
       "      <th>2018-10-18</th>\n",
       "      <th>2018-10-30</th>\n",
       "      <th>2018-11-11</th>\n",
       "      <th>2018-11-17</th>\n",
       "      <th>2018-11-23</th>\n",
       "      <th>2018-12-05</th>\n",
       "      <th>2018-12-17</th>\n",
       "      <th>2018-12-29</th>\n",
       "      <th>2019-01-10</th>\n",
       "      <th>2019-01-22</th>\n",
       "    </tr>\n",
       "    <tr>\n",
       "      <th>Longitude</th>\n",
       "      <th>Latitude</th>\n",
       "      <th></th>\n",
       "      <th></th>\n",
       "      <th></th>\n",
       "      <th></th>\n",
       "      <th></th>\n",
       "      <th></th>\n",
       "      <th></th>\n",
       "      <th></th>\n",
       "      <th></th>\n",
       "      <th></th>\n",
       "      <th></th>\n",
       "      <th></th>\n",
       "      <th></th>\n",
       "      <th></th>\n",
       "      <th></th>\n",
       "      <th></th>\n",
       "      <th></th>\n",
       "      <th></th>\n",
       "      <th></th>\n",
       "      <th></th>\n",
       "      <th></th>\n",
       "    </tr>\n",
       "  </thead>\n",
       "  <tbody>\n",
       "    <tr>\n",
       "      <th rowspan=\"5\" valign=\"top\">-119.9868</th>\n",
       "      <th>37.4636</th>\n",
       "      <td>0.0</td>\n",
       "      <td>-1.2784</td>\n",
       "      <td>-2.4956</td>\n",
       "      <td>1.6396</td>\n",
       "      <td>-3.4272</td>\n",
       "      <td>-3.0192</td>\n",
       "      <td>-0.143220</td>\n",
       "      <td>-0.15121</td>\n",
       "      <td>0.42195</td>\n",
       "      <td>0.331640</td>\n",
       "      <td>...</td>\n",
       "      <td>-2.6505</td>\n",
       "      <td>-0.40585</td>\n",
       "      <td>-0.873980</td>\n",
       "      <td>-0.62487</td>\n",
       "      <td>-0.62831</td>\n",
       "      <td>-2.7438</td>\n",
       "      <td>-2.5164</td>\n",
       "      <td>-2.33220</td>\n",
       "      <td>-0.067227</td>\n",
       "      <td>0.78007</td>\n",
       "    </tr>\n",
       "    <tr>\n",
       "      <th>37.4656</th>\n",
       "      <td>0.0</td>\n",
       "      <td>-1.2967</td>\n",
       "      <td>-2.4364</td>\n",
       "      <td>1.7608</td>\n",
       "      <td>-3.2960</td>\n",
       "      <td>-2.9787</td>\n",
       "      <td>-0.353610</td>\n",
       "      <td>-0.28092</td>\n",
       "      <td>0.22919</td>\n",
       "      <td>0.136510</td>\n",
       "      <td>...</td>\n",
       "      <td>-1.3831</td>\n",
       "      <td>0.84848</td>\n",
       "      <td>0.397970</td>\n",
       "      <td>0.66435</td>\n",
       "      <td>0.58809</td>\n",
       "      <td>-1.4466</td>\n",
       "      <td>-1.1572</td>\n",
       "      <td>-0.87407</td>\n",
       "      <td>1.325500</td>\n",
       "      <td>2.34450</td>\n",
       "    </tr>\n",
       "    <tr>\n",
       "      <th>37.4676</th>\n",
       "      <td>0.0</td>\n",
       "      <td>-1.3893</td>\n",
       "      <td>-2.5015</td>\n",
       "      <td>1.7381</td>\n",
       "      <td>-3.3539</td>\n",
       "      <td>-3.0604</td>\n",
       "      <td>0.264930</td>\n",
       "      <td>-0.33472</td>\n",
       "      <td>0.26265</td>\n",
       "      <td>0.094916</td>\n",
       "      <td>...</td>\n",
       "      <td>-1.7415</td>\n",
       "      <td>0.46932</td>\n",
       "      <td>0.039278</td>\n",
       "      <td>0.30771</td>\n",
       "      <td>0.25464</td>\n",
       "      <td>-1.7407</td>\n",
       "      <td>-1.4324</td>\n",
       "      <td>-1.18440</td>\n",
       "      <td>1.004600</td>\n",
       "      <td>2.05180</td>\n",
       "    </tr>\n",
       "    <tr>\n",
       "      <th>37.4696</th>\n",
       "      <td>0.0</td>\n",
       "      <td>-1.4200</td>\n",
       "      <td>-2.5705</td>\n",
       "      <td>1.5793</td>\n",
       "      <td>-3.4698</td>\n",
       "      <td>-3.1375</td>\n",
       "      <td>0.222760</td>\n",
       "      <td>-0.39693</td>\n",
       "      <td>0.27318</td>\n",
       "      <td>-0.019488</td>\n",
       "      <td>...</td>\n",
       "      <td>-3.0374</td>\n",
       "      <td>-0.77593</td>\n",
       "      <td>-1.202800</td>\n",
       "      <td>-1.00970</td>\n",
       "      <td>-0.87614</td>\n",
       "      <td>-2.9296</td>\n",
       "      <td>-2.6175</td>\n",
       "      <td>-2.41940</td>\n",
       "      <td>-0.140160</td>\n",
       "      <td>0.84714</td>\n",
       "    </tr>\n",
       "    <tr>\n",
       "      <th>37.4736</th>\n",
       "      <td>0.0</td>\n",
       "      <td>-1.3715</td>\n",
       "      <td>-2.6436</td>\n",
       "      <td>1.5155</td>\n",
       "      <td>-3.5249</td>\n",
       "      <td>-3.1554</td>\n",
       "      <td>-0.000041</td>\n",
       "      <td>-0.50937</td>\n",
       "      <td>0.22820</td>\n",
       "      <td>-0.021666</td>\n",
       "      <td>...</td>\n",
       "      <td>-2.9338</td>\n",
       "      <td>-0.64350</td>\n",
       "      <td>-1.039700</td>\n",
       "      <td>-0.88239</td>\n",
       "      <td>-0.74674</td>\n",
       "      <td>-2.7335</td>\n",
       "      <td>-2.5290</td>\n",
       "      <td>-2.27400</td>\n",
       "      <td>-0.057215</td>\n",
       "      <td>1.00340</td>\n",
       "    </tr>\n",
       "    <tr>\n",
       "      <th>...</th>\n",
       "      <th>...</th>\n",
       "      <td>...</td>\n",
       "      <td>...</td>\n",
       "      <td>...</td>\n",
       "      <td>...</td>\n",
       "      <td>...</td>\n",
       "      <td>...</td>\n",
       "      <td>...</td>\n",
       "      <td>...</td>\n",
       "      <td>...</td>\n",
       "      <td>...</td>\n",
       "      <td>...</td>\n",
       "      <td>...</td>\n",
       "      <td>...</td>\n",
       "      <td>...</td>\n",
       "      <td>...</td>\n",
       "      <td>...</td>\n",
       "      <td>...</td>\n",
       "      <td>...</td>\n",
       "      <td>...</td>\n",
       "      <td>...</td>\n",
       "      <td>...</td>\n",
       "    </tr>\n",
       "    <tr>\n",
       "      <th rowspan=\"5\" valign=\"top\">-119.9708</th>\n",
       "      <th>34.8649</th>\n",
       "      <td>0.0</td>\n",
       "      <td>-11.4450</td>\n",
       "      <td>-3.3825</td>\n",
       "      <td>NaN</td>\n",
       "      <td>-4.9253</td>\n",
       "      <td>-4.5063</td>\n",
       "      <td>-4.917000</td>\n",
       "      <td>-3.29450</td>\n",
       "      <td>-0.31252</td>\n",
       "      <td>2.263000</td>\n",
       "      <td>...</td>\n",
       "      <td>-9.0249</td>\n",
       "      <td>-5.18290</td>\n",
       "      <td>-7.914500</td>\n",
       "      <td>-10.33900</td>\n",
       "      <td>-6.01470</td>\n",
       "      <td>-8.8671</td>\n",
       "      <td>-6.1214</td>\n",
       "      <td>-3.88010</td>\n",
       "      <td>-3.061600</td>\n",
       "      <td>-6.58370</td>\n",
       "    </tr>\n",
       "    <tr>\n",
       "      <th>34.8669</th>\n",
       "      <td>0.0</td>\n",
       "      <td>-11.2040</td>\n",
       "      <td>-3.2146</td>\n",
       "      <td>NaN</td>\n",
       "      <td>-4.9133</td>\n",
       "      <td>-4.5348</td>\n",
       "      <td>-4.885000</td>\n",
       "      <td>-3.30700</td>\n",
       "      <td>-0.26973</td>\n",
       "      <td>2.225200</td>\n",
       "      <td>...</td>\n",
       "      <td>-8.4071</td>\n",
       "      <td>-4.54780</td>\n",
       "      <td>-7.335600</td>\n",
       "      <td>-9.74180</td>\n",
       "      <td>-5.39680</td>\n",
       "      <td>-8.2295</td>\n",
       "      <td>-5.4796</td>\n",
       "      <td>-3.32070</td>\n",
       "      <td>-2.435400</td>\n",
       "      <td>-5.78420</td>\n",
       "    </tr>\n",
       "    <tr>\n",
       "      <th>34.8689</th>\n",
       "      <td>0.0</td>\n",
       "      <td>-11.2030</td>\n",
       "      <td>-3.2806</td>\n",
       "      <td>NaN</td>\n",
       "      <td>-4.8860</td>\n",
       "      <td>-4.6360</td>\n",
       "      <td>-5.093400</td>\n",
       "      <td>-3.35050</td>\n",
       "      <td>-0.34012</td>\n",
       "      <td>2.010100</td>\n",
       "      <td>...</td>\n",
       "      <td>-8.7234</td>\n",
       "      <td>-4.78290</td>\n",
       "      <td>-7.580600</td>\n",
       "      <td>-10.08000</td>\n",
       "      <td>-5.70510</td>\n",
       "      <td>-8.5641</td>\n",
       "      <td>-6.0280</td>\n",
       "      <td>-3.75240</td>\n",
       "      <td>-2.827300</td>\n",
       "      <td>-6.05410</td>\n",
       "    </tr>\n",
       "    <tr>\n",
       "      <th>34.8709</th>\n",
       "      <td>0.0</td>\n",
       "      <td>-11.1980</td>\n",
       "      <td>-3.1953</td>\n",
       "      <td>NaN</td>\n",
       "      <td>-4.8558</td>\n",
       "      <td>-4.5704</td>\n",
       "      <td>-5.025000</td>\n",
       "      <td>-3.39710</td>\n",
       "      <td>-0.29776</td>\n",
       "      <td>1.988800</td>\n",
       "      <td>...</td>\n",
       "      <td>-9.0169</td>\n",
       "      <td>-5.12200</td>\n",
       "      <td>-7.889900</td>\n",
       "      <td>-10.34400</td>\n",
       "      <td>-6.02340</td>\n",
       "      <td>-8.9698</td>\n",
       "      <td>-6.2794</td>\n",
       "      <td>-4.04920</td>\n",
       "      <td>-3.111600</td>\n",
       "      <td>-6.42900</td>\n",
       "    </tr>\n",
       "    <tr>\n",
       "      <th>34.8729</th>\n",
       "      <td>0.0</td>\n",
       "      <td>-11.5350</td>\n",
       "      <td>-3.2133</td>\n",
       "      <td>NaN</td>\n",
       "      <td>-4.8518</td>\n",
       "      <td>-4.5740</td>\n",
       "      <td>-5.133700</td>\n",
       "      <td>-3.69220</td>\n",
       "      <td>-0.55786</td>\n",
       "      <td>1.771700</td>\n",
       "      <td>...</td>\n",
       "      <td>-8.8380</td>\n",
       "      <td>-5.00030</td>\n",
       "      <td>-7.686700</td>\n",
       "      <td>-10.11800</td>\n",
       "      <td>-6.01480</td>\n",
       "      <td>-8.9459</td>\n",
       "      <td>-6.3391</td>\n",
       "      <td>-3.87940</td>\n",
       "      <td>-3.103200</td>\n",
       "      <td>-6.27310</td>\n",
       "    </tr>\n",
       "  </tbody>\n",
       "</table>\n",
       "<p>10000 rows × 110 columns</p>\n",
       "</div>"
      ],
      "text/plain": [
       "                    2014-11-08  2014-12-02  2014-12-26  2015-02-12  \\\n",
       "Longitude Latitude                                                   \n",
       "-119.9868 37.4636          0.0     -1.2784     -2.4956      1.6396   \n",
       "          37.4656          0.0     -1.2967     -2.4364      1.7608   \n",
       "          37.4676          0.0     -1.3893     -2.5015      1.7381   \n",
       "          37.4696          0.0     -1.4200     -2.5705      1.5793   \n",
       "          37.4736          0.0     -1.3715     -2.6436      1.5155   \n",
       "...                        ...         ...         ...         ...   \n",
       "-119.9708 34.8649          0.0    -11.4450     -3.3825         NaN   \n",
       "          34.8669          0.0    -11.2040     -3.2146         NaN   \n",
       "          34.8689          0.0    -11.2030     -3.2806         NaN   \n",
       "          34.8709          0.0    -11.1980     -3.1953         NaN   \n",
       "          34.8729          0.0    -11.5350     -3.2133         NaN   \n",
       "\n",
       "                    2015-03-08  2015-04-01  2015-04-25  2015-05-19  \\\n",
       "Longitude Latitude                                                   \n",
       "-119.9868 37.4636      -3.4272     -3.0192   -0.143220    -0.15121   \n",
       "          37.4656      -3.2960     -2.9787   -0.353610    -0.28092   \n",
       "          37.4676      -3.3539     -3.0604    0.264930    -0.33472   \n",
       "          37.4696      -3.4698     -3.1375    0.222760    -0.39693   \n",
       "          37.4736      -3.5249     -3.1554   -0.000041    -0.50937   \n",
       "...                        ...         ...         ...         ...   \n",
       "-119.9708 34.8649      -4.9253     -4.5063   -4.917000    -3.29450   \n",
       "          34.8669      -4.9133     -4.5348   -4.885000    -3.30700   \n",
       "          34.8689      -4.8860     -4.6360   -5.093400    -3.35050   \n",
       "          34.8709      -4.8558     -4.5704   -5.025000    -3.39710   \n",
       "          34.8729      -4.8518     -4.5740   -5.133700    -3.69220   \n",
       "\n",
       "                    2015-06-12  2015-07-06  ...  2018-10-18  2018-10-30  \\\n",
       "Longitude Latitude                          ...                           \n",
       "-119.9868 37.4636      0.42195    0.331640  ...     -2.6505    -0.40585   \n",
       "          37.4656      0.22919    0.136510  ...     -1.3831     0.84848   \n",
       "          37.4676      0.26265    0.094916  ...     -1.7415     0.46932   \n",
       "          37.4696      0.27318   -0.019488  ...     -3.0374    -0.77593   \n",
       "          37.4736      0.22820   -0.021666  ...     -2.9338    -0.64350   \n",
       "...                        ...         ...  ...         ...         ...   \n",
       "-119.9708 34.8649     -0.31252    2.263000  ...     -9.0249    -5.18290   \n",
       "          34.8669     -0.26973    2.225200  ...     -8.4071    -4.54780   \n",
       "          34.8689     -0.34012    2.010100  ...     -8.7234    -4.78290   \n",
       "          34.8709     -0.29776    1.988800  ...     -9.0169    -5.12200   \n",
       "          34.8729     -0.55786    1.771700  ...     -8.8380    -5.00030   \n",
       "\n",
       "                    2018-11-11  2018-11-17  2018-11-23  2018-12-05  \\\n",
       "Longitude Latitude                                                   \n",
       "-119.9868 37.4636    -0.873980    -0.62487    -0.62831     -2.7438   \n",
       "          37.4656     0.397970     0.66435     0.58809     -1.4466   \n",
       "          37.4676     0.039278     0.30771     0.25464     -1.7407   \n",
       "          37.4696    -1.202800    -1.00970    -0.87614     -2.9296   \n",
       "          37.4736    -1.039700    -0.88239    -0.74674     -2.7335   \n",
       "...                        ...         ...         ...         ...   \n",
       "-119.9708 34.8649    -7.914500   -10.33900    -6.01470     -8.8671   \n",
       "          34.8669    -7.335600    -9.74180    -5.39680     -8.2295   \n",
       "          34.8689    -7.580600   -10.08000    -5.70510     -8.5641   \n",
       "          34.8709    -7.889900   -10.34400    -6.02340     -8.9698   \n",
       "          34.8729    -7.686700   -10.11800    -6.01480     -8.9459   \n",
       "\n",
       "                    2018-12-17  2018-12-29  2019-01-10  2019-01-22  \n",
       "Longitude Latitude                                                  \n",
       "-119.9868 37.4636      -2.5164    -2.33220   -0.067227     0.78007  \n",
       "          37.4656      -1.1572    -0.87407    1.325500     2.34450  \n",
       "          37.4676      -1.4324    -1.18440    1.004600     2.05180  \n",
       "          37.4696      -2.6175    -2.41940   -0.140160     0.84714  \n",
       "          37.4736      -2.5290    -2.27400   -0.057215     1.00340  \n",
       "...                        ...         ...         ...         ...  \n",
       "-119.9708 34.8649      -6.1214    -3.88010   -3.061600    -6.58370  \n",
       "          34.8669      -5.4796    -3.32070   -2.435400    -5.78420  \n",
       "          34.8689      -6.0280    -3.75240   -2.827300    -6.05410  \n",
       "          34.8709      -6.2794    -4.04920   -3.111600    -6.42900  \n",
       "          34.8729      -6.3391    -3.87940   -3.103200    -6.27310  \n",
       "\n",
       "[10000 rows x 110 columns]"
      ]
     },
     "execution_count": 4,
     "metadata": {},
     "output_type": "execute_result"
    }
   ],
   "source": [
    "df=df.iloc[500000:510000] #cuts data to long 120-119 approx\n",
    "df"
   ]
  },
  {
   "cell_type": "markdown",
   "metadata": {},
   "source": [
    "# Timestep"
   ]
  },
  {
   "cell_type": "code",
   "execution_count": 5,
   "metadata": {},
   "outputs": [],
   "source": [
    "timestep=10"
   ]
  },
  {
   "cell_type": "markdown",
   "metadata": {},
   "source": [
    "# Shaping function (remove start and step for first for loop to include all data)"
   ]
  },
  {
   "cell_type": "code",
   "execution_count": 6,
   "metadata": {},
   "outputs": [],
   "source": [
    "def shaping(datain, timestep):\n",
    "    #print(arr)\n",
    "    cnt=0\n",
    "    \n",
    "    for row in range(0,len(datain.index),1750): #picks a row at every iteration, allows to reduction of input and inclusion of multiple time series, remove start and step to run on full dataset \n",
    "    # Convert input dataframe to array and flatten\n",
    "        arr=datain.iloc[row].to_numpy().flatten() # flatten row\n",
    "         #Find indices that you need to replace\n",
    "        arr=np.where(np.isnan(arr), ma.array(arr, mask=np.isnan(arr)).mean(), arr) \n",
    "        #arr[np.isnan(arr)] = \n",
    "        for mth in range(0, len(datain.columns)-(2*timestep)+1): # Define range lenght of the dates - 2* amount of timesep?? +1\n",
    "            cnt=cnt+1 # Gives us the number of samples. Later used to reshape the data\n",
    "            X_start=mth # Start month for inputs of each sample\n",
    "            X_end=mth+timestep # End month for inputs of each sample\n",
    "            Y_start=mth+timestep # Start month for targets of each sample. Note, start is inclusive and end is exclusive, that's why X_end and Y_start is the same number\n",
    "            Y_end=mth+2*timestep # End month for targets of each sample.  \n",
    "            \n",
    "            # Assemble input and target arrays containing all samples\n",
    "            if cnt==1:\n",
    "                X_comb=arr[X_start:X_end]\n",
    "                Y_comb=arr[Y_start:Y_end]\n",
    "            else: \n",
    "                X_comb=np.append(X_comb, arr[X_start:X_end])\n",
    "                Y_comb=np.append(Y_comb, arr[Y_start:Y_end])\n",
    "    \n",
    "    # Reshape input and target arrays\n",
    "    X_out=np.reshape(X_comb, (cnt, timestep, 1))\n",
    "    Y_out=np.reshape(Y_comb, (cnt, timestep, 1))\n",
    "    return X_out, Y_out"
   ]
  },
  {
   "cell_type": "code",
   "execution_count": null,
   "metadata": {},
   "outputs": [],
   "source": []
  },
  {
   "cell_type": "markdown",
   "metadata": {},
   "source": [
    "##### Step 2 - Split and Shape data"
   ]
  },
  {
   "cell_type": "code",
   "execution_count": 7,
   "metadata": {},
   "outputs": [],
   "source": [
    "#train, test = train_test_split(df, test_size=0.2)\n",
    "# creates sequences to train\n",
    "#Need to decide on how to deal with rows with nans in them\n",
    "X , Y = shaping(datain=df, timestep= timestep )\n",
    "X_train, X_test, Y_train, Y_test = train_test_split(X,Y , test_size=0.2, random_state=28)\n",
    "nsamples, nx, ny = X_train.shape\n",
    "X_train = X_train.reshape((nsamples,nx*ny))\n",
    "nsamples, nx, ny = Y_train.shape\n",
    "Y_train = Y_train.reshape((nsamples,nx*ny))\n",
    "nsamples, nx, ny = X_test.shape\n",
    "X_test = X_test.reshape((nsamples,nx*ny))\n",
    "nsamples, nx, ny = Y_test.shape\n",
    "Y_test = Y_test.reshape((nsamples,nx*ny))"
   ]
  },
  {
   "cell_type": "markdown",
   "metadata": {},
   "source": [
    "##### Step 3 - Specify the structure of a Neural Network, first model"
   ]
  },
  {
   "cell_type": "code",
   "execution_count": 8,
   "metadata": {},
   "outputs": [
    {
     "name": "stderr",
     "output_type": "stream",
     "text": [
      "c:\\Python\\Python310\\lib\\site-packages\\sklearn\\ensemble\\_forest.py:586: UserWarning: Some inputs do not have OOB scores. This probably means too few trees were used to compute any reliable OOB estimates.\n",
      "  warn(\n"
     ]
    },
    {
     "data": {
      "text/plain": [
       "[<matplotlib.lines.Line2D at 0x19f84be8850>]"
      ]
     },
     "execution_count": 8,
     "metadata": {},
     "output_type": "execute_result"
    },
    {
     "data": {
      "image/png": "[encoded data removed]",
      "text/plain": [
       "<Figure size 432x288 with 1 Axes>"
      ]
     },
     "metadata": {
      "needs_background": "light"
     },
     "output_type": "display_data"
    }
   ],
   "source": [
    "# set model\n",
    "model = RandomForestRegressor(n_jobs = -1, random_state = 64)\n",
    "estimators = np.arange(10, 200, 10)\n",
    "scores = []\n",
    "for n in estimators:\n",
    "    model.set_params(n_estimators=n)\n",
    "    model.fit(X_train, Y_train)\n",
    "    scores.append(model.score(X_test, Y_test))\n",
    "plt.title(\"Effect of n_estimators\")\n",
    "plt.xlabel(\"n_estimator\")\n",
    "plt.ylabel(\"score\")\n",
    "plt.plot(estimators, scores)\n",
    "\n"
   ]
  },
  {
   "cell_type": "code",
   "execution_count": 20,
   "metadata": {},
   "outputs": [],
   "source": [
    "# gridsearch = GridSearchCV(estimator=RandomForestRegressor(),\n",
    "#                           param_grid={\n",
    "#                               'n_estimators': [50, 100, 250, 300],\n",
    "#                               'max_depth': [None, 100, 200, 300, 400]\n",
    "#                           },\n",
    "#                           cv=3,\n",
    "#                           return_train_score=False,\n",
    "#                           scoring='r2')\n",
    "# gridsearch.fit(X=X_train, y=Y_train)\n",
    "# pd.DataFrame(gridsearch.cv_results_).set_index('rank_test_score').sort_index()"
   ]
  },
  {
   "cell_type": "markdown",
   "metadata": {},
   "source": [
    "Scores:Return the coefficient of determination of the prediction. R^2"
   ]
  },
  {
   "cell_type": "code",
   "execution_count": 12,
   "metadata": {},
   "outputs": [
    {
     "data": {
      "text/plain": [
       "[0.7308860971432706,\n",
       " 0.7533009198186259,\n",
       " 0.7577924402896338,\n",
       " 0.7603733035421939,\n",
       " 0.7613763874496879,\n",
       " 0.759265383819426,\n",
       " 0.761741459441776,\n",
       " 0.762623146786054,\n",
       " 0.7630716394590563,\n",
       " 0.7639014413735072,\n",
       " 0.7638811741765037,\n",
       " 0.7649567488026385,\n",
       " 0.7659842438291871,\n",
       " 0.7659778365804434,\n",
       " 0.7669629605000295,\n",
       " 0.7670847295045877,\n",
       " 0.7674264575631597,\n",
       " 0.7671779391434377,\n",
       " 0.7669485461401526]"
      ]
     },
     "execution_count": 12,
     "metadata": {},
     "output_type": "execute_result"
    }
   ],
   "source": [
    "scores"
   ]
  },
  {
   "cell_type": "markdown",
   "metadata": {},
   "source": [
    "##### Train model"
   ]
  },
  {
   "cell_type": "markdown",
   "metadata": {},
   "source": [
    "##### Step 4 - Plot loss over epochs"
   ]
  },
  {
   "cell_type": "code",
   "execution_count": 13,
   "metadata": {},
   "outputs": [
    {
     "name": "stdout",
     "output_type": "stream",
     "text": [
      "\n",
      "RMSE:  1.842\n",
      "Mean Absolute Error: 1.3886184830458004\n",
      "Mean Squared Error: 3.394261148680317\n",
      "Root Mean Squared Error: 1.8423520696870936\n"
     ]
    }
   ],
   "source": [
    "# Predicting the target values of the test set\n",
    "Y_pred = model.predict(X_test)\n",
    "\n",
    "# RMSE (Root Mean Square Error)\n",
    "rmse = float(format(np.sqrt(mean_squared_error(Y_test, Y_pred)), '.3f'))\n",
    "print(\"\\nRMSE: \", rmse)\n",
    "from sklearn import metrics\n",
    "print('Mean Absolute Error:', metrics.mean_absolute_error(Y_test, Y_pred))\n",
    "print('Mean Squared Error:', metrics.mean_squared_error(Y_test, Y_pred))\n",
    "print('Root Mean Squared Error:', np.sqrt(metrics.mean_squared_error(Y_test, Y_pred)))\n"
   ]
  },
  {
   "cell_type": "code",
   "execution_count": null,
   "metadata": {},
   "outputs": [
    {
     "name": "stdout",
     "output_type": "stream",
     "text": [
      "Mean Absolute Error: 1.61 degrees.\n",
      "Accuracy: 75.93 %.\n"
     ]
    }
   ],
   "source": [
    "# Calculate the absolute errors\n",
    "errors = abs(Y_pred - Y_test)\n",
    "# Print out the mean absolute error (mae)\n",
    "print('Mean Absolute Error:', round(np.mean(errors), 2), 'degrees.')\n",
    "\n",
    "# Calculate mean absolute percentage error (MAPE)\n",
    "mape = 100 * (errors / Y_test)\n",
    "# Calculate and display accuracy\n",
    "accuracy = 100 - np.mean(mape)\n",
    "print('Accuracy:', round(accuracy, 2), '%.')"
   ]
  },
  {
   "cell_type": "code",
   "execution_count": 14,
   "metadata": {},
   "outputs": [
    {
     "name": "stderr",
     "output_type": "stream",
     "text": [
      "c:\\Python\\Python310\\lib\\site-packages\\seaborn\\distributions.py:2619: FutureWarning: `distplot` is a deprecated function and will be removed in a future version. Please adapt your code to use either `displot` (a figure-level function with similar flexibility) or `kdeplot` (an axes-level function for kernel density plots).\n",
      "  warnings.warn(msg, FutureWarning)\n",
      "c:\\Python\\Python310\\lib\\site-packages\\seaborn\\distributions.py:2619: FutureWarning: `distplot` is a deprecated function and will be removed in a future version. Please adapt your code to use either `displot` (a figure-level function with similar flexibility) or `kdeplot` (an axes-level function for kernel density plots).\n",
      "  warnings.warn(msg, FutureWarning)\n"
     ]
    },
    {
     "data": {
      "image/png": "[encoded data removed]",
      "text/plain": [
       "<Figure size 360x504 with 1 Axes>"
      ]
     },
     "metadata": {
      "needs_background": "light"
     },
     "output_type": "display_data"
    }
   ],
   "source": [
    "import seaborn as sns\n",
    "plt.figure(figsize=(5, 7))\n",
    "\n",
    "\n",
    "ax = sns.distplot(Y, hist=False, color=\"r\", label=\"Actual Value\")\n",
    "sns.distplot(Y_pred, hist=False, color=\"b\", label=\"Fitted Values\" , ax=ax)\n",
    "\n",
    "\n",
    "plt.title('Actual vs Fitted Values')\n",
    "\n",
    "\n",
    "plt.show()\n",
    "plt.close()"
   ]
  },
  {
   "cell_type": "code",
   "execution_count": null,
   "metadata": {},
   "outputs": [],
   "source": [
    "##### Step 5 - Print Performance Summary"
   ]
  }
 ],
 "metadata": {
  "kernelspec": {
   "display_name": "Python 3.10.5 64-bit",
   "language": "python",
   "name": "python3"
  },
  "language_info": {
   "codemirror_mode": {
    "name": "ipython",
    "version": 3
   },
   "file_extension": ".py",
   "mimetype": "text/x-python",
   "name": "python",
   "nbconvert_exporter": "python",
   "pygments_lexer": "ipython3",
   "version": "3.10.5"
  },
  "orig_nbformat": 4,
  "vscode": {
   "interpreter": {
    "hash": "d3e10ef16274dd72e574b8fa73b58450b957d8421a2901baded3cca26fcf5dda"
   }
  }
 },
 "nbformat": 4,
 "nbformat_minor": 2
}
