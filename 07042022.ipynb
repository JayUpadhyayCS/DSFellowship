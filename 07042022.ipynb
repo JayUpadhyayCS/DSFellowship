{
 "cells": [
  {
   "cell_type": "code",
   "execution_count": 1,
   "metadata": {},
   "outputs": [
    {
     "name": "stdout",
     "output_type": "stream",
     "text": [
      "Tensorflow/Keras: 2.9.0\n",
      "pandas: 1.4.2\n",
      "numpy: 1.22.4\n",
      "sklearn: 1.1.1\n",
      "plotly: 5.9.0\n"
     ]
    }
   ],
   "source": [
    "# Tensorflow / Keras\n",
    "from tensorflow import keras # for building Neural Networks\n",
    "print('Tensorflow/Keras: %s' % keras.__version__) # print version\n",
    "from keras.models import Sequential # for creating a linear stack of layers for our Neural Network\n",
    "from keras import Input # for instantiating a keras tensor\n",
    "from keras.layers import Bidirectional, LSTM, RepeatVector, Dense, TimeDistributed # for creating layers inside the Neural Network\n",
    "\n",
    "# Data manipulation\n",
    "import pandas as pd # for data manipulation\n",
    "print('pandas: %s' % pd.__version__) # print version\n",
    "import numpy as np # for data manipulation\n",
    "print('numpy: %s' % np.__version__) # print version\n",
    "\n",
    "# Sklearn\n",
    "import sklearn\n",
    "print('sklearn: %s' % sklearn.__version__) # print version\n",
    "from sklearn.preprocessing import MinMaxScaler # for feature scaling\n",
    "\n",
    "# Visualization\n",
    "import plotly \n",
    "import plotly.express as px\n",
    "import plotly.graph_objects as go\n",
    "print('plotly: %s' % plotly.__version__) # print version\n",
    "\n",
    "#file accessing\n",
    "import os\n",
    "# time stuff\n",
    "from datetime import timedelta\n",
    "import calendar\n"
   ]
  },
  {
   "cell_type": "code",
   "execution_count": 12,
   "metadata": {},
   "outputs": [],
   "source": [
    "#setting coordinates and opening files\n",
    "longi=\"-119.349\"\n",
    "lat=\"36.1352\"\n",
    "lon_south=pd.read_csv('InSAR_data_south/longitude.csv')\n",
    "lat_south=pd.read_csv('InSAR_data_south/latitude.csv')\n",
    "CSVpath=\"E:/DSFellowship/InSAR_data_south/displacement/CSV/\"\n"
   ]
  },
  {
   "cell_type": "code",
   "execution_count": 3,
   "metadata": {},
   "outputs": [],
   "source": [
    "#get dates\n",
    "displacement=[]\n",
    "date=[]\n",
    "for f in os.listdir(CSVpath):\n",
    "    #print(f)\n",
    "    name, ext=os.path.splitext(f)\n",
    "    date.append(int(name))\n",
    "    # change columns and index names into lon and lat\n",
    "date.sort()"
   ]
  },
  {
   "cell_type": "code",
   "execution_count": 4,
   "metadata": {},
   "outputs": [
    {
     "name": "stdout",
     "output_type": "stream",
     "text": [
      "[0.0, -2.348, 0.29425, -1.0649, -2.7628, -3.1882, -5.0385, -6.7351, -10.232, -11.704, -12.48, -15.882, -19.311, -19.25, -18.395, -19.052, -18.866, -17.181, -20.001, -18.252, -17.879, -17.695, -19.939, -19.501, -20.068, -18.843, -21.166, -21.547, -21.667, -24.297, -24.272, -26.189, -30.104, -29.224, -31.22, -31.712, -32.181, -31.71, -34.99, -33.107, -32.633, -32.061, -33.858, -32.703, -32.967, -33.313, -33.235, -32.664, -33.158, -31.862, -32.689, -32.278, -30.776, -33.29, -33.515, -32.221, -31.883, -32.633, -33.028, -34.111, -35.192, -35.117, -35.778, -35.954, -37.331, -36.74, -34.658, -37.256, -38.246, -37.072, -38.136, -39.604, -36.93, -36.243, -37.927, -37.516, -37.033, -36.377, -36.53, -37.913, -39.063, -38.884, -37.511, -38.593, -40.715, -38.405, -40.567, -39.468, -41.736, -42.835, -44.341, -43.344, -44.155, nan, -46.06, -47.983, -49.04, -50.19, -48.78, -50.701, -49.764, -49.891, -49.823, -49.173, -49.986, -48.972, -48.171, -48.865, -49.518, -49.159]\n"
     ]
    }
   ],
   "source": [
    "#get displacements\n",
    "for f in date:\n",
    "    z_south=pd.read_csv(CSVpath+str(f)+'.csv')\n",
    "    z_south.columns=lon_south.columns\n",
    "    z_south.index=lat_south.columns[:-1]\n",
    "    #displacement\n",
    "    displacement.append(z_south.loc[lat,longi])\n",
    "print(displacement)"
   ]
  },
  {
   "cell_type": "code",
   "execution_count": 5,
   "metadata": {},
   "outputs": [],
   "source": [
    "#fill in empty plots\n",
    "for f in range(len(displacement)):\n",
    "    if(np.isnan(displacement[f])):\n",
    "        if(f==0):\n",
    "            displacement[f]=0\n",
    "        else:\n",
    "            displacement[f]=(displacement[f-1]+displacement[f+1])/2"
   ]
  },
  {
   "cell_type": "code",
   "execution_count": 6,
   "metadata": {},
   "outputs": [],
   "source": [
    "#create new dataframe for one point\n",
    "data_tuples=list(zip(date,displacement))\n",
    "df=pd.DataFrame(data_tuples, columns=['Date','Disp'])"
   ]
  },
  {
   "cell_type": "code",
   "execution_count": 7,
   "metadata": {},
   "outputs": [],
   "source": [
    "# Random Forest Regression\n",
    "\n",
    "\n",
    "# Importing the datasets df.index=pd.to_datetime(df['Date'], format='%Y%m%d')\n",
    "X = df.iloc[:, 0:1].values\n",
    "Y = df.iloc[:, 1:2].values\n",
    "#X = [pd.to_datetime(x, format='%Y%m%d') for x in X]\n",
    "#print(X[0])\n",
    "#print(Y)"
   ]
  },
  {
   "cell_type": "code",
   "execution_count": 8,
   "metadata": {},
   "outputs": [],
   "source": [
    "#helper function to reshape data to 3d array  https://towardsdatascience.com/lstm-recurrent-neural-networks-how-to-teach-a-network-to-remember-the-past-55e54c2ff22e\n",
    "def shaping(datain, timestep):\n",
    "    \n",
    "    # Convert input dataframe to array and flatten\n",
    "    arr=datain.to_numpy().flatten() \n",
    "    \n",
    "    cnt=0\n",
    "    for mth in range(0, len(datain.columns)-(2*timestep)+1): # Define range \n",
    "        cnt=cnt+1 # Gives us the number of samples. Later used to reshape the data\n",
    "        X_start=mth # Start month for inputs of each sample\n",
    "        X_end=mth+timestep # End month for inputs of each sample\n",
    "        Y_start=mth+timestep # Start month for targets of each sample. Note, start is inclusive and end is exclusive, that's why X_end and Y_start is the same number\n",
    "        Y_end=mth+2*timestep # End month for targets of each sample.  \n",
    "        \n",
    "        # Assemble input and target arrays containing all samples\n",
    "        if mth==0:\n",
    "            X_comb=arr[X_start:X_end]\n",
    "            Y_comb=arr[Y_start:Y_end]\n",
    "        else: \n",
    "            X_comb=np.append(X_comb, arr[X_start:X_end])\n",
    "            Y_comb=np.append(Y_comb, arr[Y_start:Y_end])\n",
    "    \n",
    "    # Reshape input and target arrays\n",
    "    X_out=np.reshape(X_comb, (cnt, timestep, 1))\n",
    "    Y_out=np.reshape(Y_comb, (cnt, timestep, 1))\n",
    "    return X_out, Y_out"
   ]
  },
  {
   "cell_type": "code",
   "execution_count": 9,
   "metadata": {},
   "outputs": [],
   "source": [
    "##### Step 1 - Specify parameters\n",
    "timestep=15 #3 months?\n",
    "longi=\"-119.349\"\n",
    "lat=\"36.1352\"\n",
    "\n"
   ]
  },
  {
   "cell_type": "code",
   "execution_count": 13,
   "metadata": {},
   "outputs": [
    {
     "data": {
      "text/html": [
       "<div>\n",
       "<style scoped>\n",
       "    .dataframe tbody tr th:only-of-type {\n",
       "        vertical-align: middle;\n",
       "    }\n",
       "\n",
       "    .dataframe tbody tr th {\n",
       "        vertical-align: top;\n",
       "    }\n",
       "\n",
       "    .dataframe thead th {\n",
       "        text-align: right;\n",
       "    }\n",
       "</style>\n",
       "<table border=\"1\" class=\"dataframe\">\n",
       "  <thead>\n",
       "    <tr style=\"text-align: right;\">\n",
       "      <th></th>\n",
       "      <th>Date</th>\n",
       "      <th>Disp</th>\n",
       "    </tr>\n",
       "  </thead>\n",
       "  <tbody>\n",
       "    <tr>\n",
       "      <th>0</th>\n",
       "      <td>20141108</td>\n",
       "      <td>0.00000</td>\n",
       "    </tr>\n",
       "    <tr>\n",
       "      <th>1</th>\n",
       "      <td>20141202</td>\n",
       "      <td>-2.34800</td>\n",
       "    </tr>\n",
       "    <tr>\n",
       "      <th>2</th>\n",
       "      <td>20141226</td>\n",
       "      <td>0.29425</td>\n",
       "    </tr>\n",
       "    <tr>\n",
       "      <th>3</th>\n",
       "      <td>20150212</td>\n",
       "      <td>-1.06490</td>\n",
       "    </tr>\n",
       "    <tr>\n",
       "      <th>4</th>\n",
       "      <td>20150308</td>\n",
       "      <td>-2.76280</td>\n",
       "    </tr>\n",
       "    <tr>\n",
       "      <th>...</th>\n",
       "      <td>...</td>\n",
       "      <td>...</td>\n",
       "    </tr>\n",
       "    <tr>\n",
       "      <th>105</th>\n",
       "      <td>20181205</td>\n",
       "      <td>-48.97200</td>\n",
       "    </tr>\n",
       "    <tr>\n",
       "      <th>106</th>\n",
       "      <td>20181217</td>\n",
       "      <td>-48.17100</td>\n",
       "    </tr>\n",
       "    <tr>\n",
       "      <th>107</th>\n",
       "      <td>20181229</td>\n",
       "      <td>-48.86500</td>\n",
       "    </tr>\n",
       "    <tr>\n",
       "      <th>108</th>\n",
       "      <td>20190110</td>\n",
       "      <td>-49.51800</td>\n",
       "    </tr>\n",
       "    <tr>\n",
       "      <th>109</th>\n",
       "      <td>20190122</td>\n",
       "      <td>-49.15900</td>\n",
       "    </tr>\n",
       "  </tbody>\n",
       "</table>\n",
       "<p>110 rows × 2 columns</p>\n",
       "</div>"
      ],
      "text/plain": [
       "         Date      Disp\n",
       "0    20141108   0.00000\n",
       "1    20141202  -2.34800\n",
       "2    20141226   0.29425\n",
       "3    20150212  -1.06490\n",
       "4    20150308  -2.76280\n",
       "..        ...       ...\n",
       "105  20181205 -48.97200\n",
       "106  20181217 -48.17100\n",
       "107  20181229 -48.86500\n",
       "108  20190110 -49.51800\n",
       "109  20190122 -49.15900\n",
       "\n",
       "[110 rows x 2 columns]"
      ]
     },
     "execution_count": 13,
     "metadata": {},
     "output_type": "execute_result"
    }
   ],
   "source": [
    "df"
   ]
  },
  {
   "cell_type": "code",
   "execution_count": 15,
   "metadata": {},
   "outputs": [
    {
     "name": "stdout",
     "output_type": "stream",
     "text": [
      "        Date      Disp\n",
      "0   20141108   0.00000\n",
      "1   20141202  -2.34800\n",
      "2   20141226   0.29425\n",
      "3   20150212  -1.06490\n",
      "4   20150308  -2.76280\n",
      "..       ...       ...\n",
      "75  20171222 -37.51600\n",
      "76  20180103 -37.03300\n",
      "77  20180115 -36.37700\n",
      "78  20180127 -36.53000\n",
      "79  20180208 -37.91300\n",
      "\n",
      "[80 rows x 2 columns]\n"
     ]
    }
   ],
   "source": [
    "df_train=df.iloc[:80, :].copy()\n",
    "df_test=df.iloc[80:, :].copy()\n",
    "print(df_train)\n"
   ]
  },
  {
   "cell_type": "code",
   "execution_count": 17,
   "metadata": {},
   "outputs": [
    {
     "ename": "UnboundLocalError",
     "evalue": "local variable 'X_comb' referenced before assignment",
     "output_type": "error",
     "traceback": [
      "\u001b[1;31m---------------------------------------------------------------------------\u001b[0m",
      "\u001b[1;31mUnboundLocalError\u001b[0m                         Traceback (most recent call last)",
      "\u001b[1;32me:\\DSFellowship\\07042022.ipynb Cell 12'\u001b[0m in \u001b[0;36m<cell line: 12>\u001b[1;34m()\u001b[0m\n\u001b[0;32m      <a href='vscode-notebook-cell:/e%3A/DSFellowship/07042022.ipynb#ch0000009?line=4'>5</a>\u001b[0m df_test\u001b[39m=\u001b[39mdf\u001b[39m.\u001b[39miloc[\u001b[39m80\u001b[39m:, :]\u001b[39m.\u001b[39mcopy()\n\u001b[0;32m      <a href='vscode-notebook-cell:/e%3A/DSFellowship/07042022.ipynb#ch0000009?line=6'>7</a>\u001b[0m \u001b[39m# Select one location\u001b[39;00m\n\u001b[0;32m      <a href='vscode-notebook-cell:/e%3A/DSFellowship/07042022.ipynb#ch0000009?line=7'>8</a>\u001b[0m \u001b[39m#dfloc_train = df_train[df_train.index==location].copy()\u001b[39;00m\n\u001b[0;32m      <a href='vscode-notebook-cell:/e%3A/DSFellowship/07042022.ipynb#ch0000009?line=8'>9</a>\u001b[0m \u001b[39m#dfloc_test = df_test[df_test.index==location].copy()\u001b[39;00m\n\u001b[0;32m     <a href='vscode-notebook-cell:/e%3A/DSFellowship/07042022.ipynb#ch0000009?line=9'>10</a>\u001b[0m \n\u001b[0;32m     <a href='vscode-notebook-cell:/e%3A/DSFellowship/07042022.ipynb#ch0000009?line=10'>11</a>\u001b[0m \u001b[39m# Use previously defined shaping function to reshape the data for LSTM\u001b[39;00m\n\u001b[1;32m---> <a href='vscode-notebook-cell:/e%3A/DSFellowship/07042022.ipynb#ch0000009?line=11'>12</a>\u001b[0m X_train, Y_train \u001b[39m=\u001b[39m shaping(datain\u001b[39m=\u001b[39;49mdf_train, timestep\u001b[39m=\u001b[39;49mtimestep)\n\u001b[0;32m     <a href='vscode-notebook-cell:/e%3A/DSFellowship/07042022.ipynb#ch0000009?line=12'>13</a>\u001b[0m X_test, Y_test \u001b[39m=\u001b[39m shaping(datain\u001b[39m=\u001b[39mdf_test, timestep\u001b[39m=\u001b[39mtimestep)\n",
      "\u001b[1;32me:\\DSFellowship\\07042022.ipynb Cell 8'\u001b[0m in \u001b[0;36mshaping\u001b[1;34m(datain, timestep)\u001b[0m\n\u001b[0;32m     <a href='vscode-notebook-cell:/e%3A/DSFellowship/07042022.ipynb#ch0000007?line=20'>21</a>\u001b[0m         Y_comb\u001b[39m=\u001b[39mnp\u001b[39m.\u001b[39mappend(Y_comb, arr[Y_start:Y_end])\n\u001b[0;32m     <a href='vscode-notebook-cell:/e%3A/DSFellowship/07042022.ipynb#ch0000007?line=22'>23</a>\u001b[0m \u001b[39m# Reshape input and target arrays\u001b[39;00m\n\u001b[1;32m---> <a href='vscode-notebook-cell:/e%3A/DSFellowship/07042022.ipynb#ch0000007?line=23'>24</a>\u001b[0m X_out\u001b[39m=\u001b[39mnp\u001b[39m.\u001b[39mreshape(X_comb, (cnt, timestep, \u001b[39m1\u001b[39m))\n\u001b[0;32m     <a href='vscode-notebook-cell:/e%3A/DSFellowship/07042022.ipynb#ch0000007?line=24'>25</a>\u001b[0m Y_out\u001b[39m=\u001b[39mnp\u001b[39m.\u001b[39mreshape(Y_comb, (cnt, timestep, \u001b[39m1\u001b[39m))\n\u001b[0;32m     <a href='vscode-notebook-cell:/e%3A/DSFellowship/07042022.ipynb#ch0000007?line=25'>26</a>\u001b[0m \u001b[39mreturn\u001b[39;00m X_out, Y_out\n",
      "\u001b[1;31mUnboundLocalError\u001b[0m: local variable 'X_comb' referenced before assignment"
     ]
    }
   ],
   "source": [
    "##### Step 2 - Prepare data\n",
    "\n",
    "# Split data into train and test dataframes\n",
    "df_train=df.iloc[:80, :].copy()\n",
    "df_test=df.iloc[80:, :].copy()\n",
    "\n",
    "# Select one location\n",
    "#dfloc_train = df_train[df_train.index==location].copy()\n",
    "#dfloc_test = df_test[df_test.index==location].copy()\n",
    "\n",
    "# Use previously defined shaping function to reshape the data for LSTM\n",
    "X_train, Y_train = shaping(datain=df_train, timestep=timestep)\n",
    "X_test, Y_test = shaping(datain=df_test, timestep=timestep)\n",
    "\n",
    "\n"
   ]
  },
  {
   "cell_type": "code",
   "execution_count": null,
   "metadata": {},
   "outputs": [],
   "source": [
    "##### Step 3 - Specify the structure of a Neural Network\n",
    "model = Sequential(name=\"LSTM-Model\") # Model\n",
    "model.add(Input(shape=(X_train.shape[1],X_train.shape[2]), name='Input-Layer')) # Input Layer - need to speicfy the shape of inputs\n",
    "model.add(Bidirectional(LSTM(units=32, activation='tanh', recurrent_activation='sigmoid', stateful=False), name='Hidden-LSTM-Encoder-Layer')) # Encoder Layer\n",
    "model.add(RepeatVector(Y_train.shape[1], name='Repeat-Vector-Layer')) # Repeat Vector\n",
    "model.add(Bidirectional(LSTM(units=32, activation='tanh', recurrent_activation='sigmoid', stateful=False, return_sequences=True), name='Hidden-LSTM-Decoder-Layer')) # Decoder Layer\n",
    "model.add(TimeDistributed(Dense(units=1, activation='linear'), name='Output-Layer')) # Output Layer, Linear(x) = x\n",
    "\n",
    "\n",
    "##### Step 4 - Compile the model\n",
    "model.compile(optimizer='adam', # default='rmsprop', an algorithm to be used in backpropagation\n",
    "              loss='mean_squared_error', # Loss function to be optimized. A string (name of loss function), or a tf.keras.losses.Loss instance.\n",
    "              metrics=['MeanSquaredError', 'MeanAbsoluteError'], # List of metrics to be evaluated by the model during training and testing. Each of this can be a string (name of a built-in function), function or a tf.keras.metrics.Metric instance. \n",
    "              loss_weights=None, # default=None, Optional list or dictionary specifying scalar coefficients (Python floats) to weight the loss contributions of different model outputs.\n",
    "              weighted_metrics=None, # default=None, List of metrics to be evaluated and weighted by sample_weight or class_weight during training and testing.\n",
    "              run_eagerly=None, # Defaults to False. If True, this Model's logic will not be wrapped in a tf.function. Recommended to leave this as None unless your Model cannot be run inside a tf.function.\n",
    "              steps_per_execution=None # Defaults to 1. The number of batches to run during each tf.function call. Running multiple batches inside a single tf.function call can greatly improve performance on TPUs or small models with a large Python overhead.\n",
    "             )\n",
    "\n",
    "\n",
    "##### Step 5 - Fit the model on the dataset\n",
    "history = model.fit(X_train, # input data\n",
    "                    Y_train, # target data\n",
    "                    batch_size=1, # Number of samples per gradient update. If unspecified, batch_size will default to 32.\n",
    "                    epochs=1000, # default=1, Number of epochs to train the model. An epoch is an iteration over the entire x and y data provided\n",
    "                    verbose=0, # default='auto', ('auto', 0, 1, or 2). Verbosity mode. 0 = silent, 1 = progress bar, 2 = one line per epoch. 'auto' defaults to 1 for most cases, but 2 when used with ParameterServerStrategy.\n",
    "                    callbacks=None, # default=None, list of callbacks to apply during training. See tf.keras.callbacks\n",
    "                    validation_split=0.2, # default=0.0, Fraction of the training data to be used as validation data. The model will set apart this fraction of the training data, will not train on it, and will evaluate the loss and any model metrics on this data at the end of each epoch. \n",
    "                    #validation_data=(X_test, y_test), # default=None, Data on which to evaluate the loss and any model metrics at the end of each epoch. \n",
    "                    shuffle=True, # default=True, Boolean (whether to shuffle the training data before each epoch) or str (for 'batch').\n",
    "                    class_weight=None, # default=None, Optional dictionary mapping class indices (integers) to a weight (float) value, used for weighting the loss function (during training only). This can be useful to tell the model to \"pay more attention\" to samples from an under-represented class.\n",
    "                    sample_weight=None, # default=None, Optional Numpy array of weights for the training samples, used for weighting the loss function (during training only).\n",
    "                    initial_epoch=0, # Integer, default=0, Epoch at which to start training (useful for resuming a previous training run).\n",
    "                    steps_per_epoch=None, # Integer or None, default=None, Total number of steps (batches of samples) before declaring one epoch finished and starting the next epoch. When training with input tensors such as TensorFlow data tensors, the default None is equal to the number of samples in your dataset divided by the batch size, or 1 if that cannot be determined. \n",
    "                    validation_steps=None, # Only relevant if validation_data is provided and is a tf.data dataset. Total number of steps (batches of samples) to draw before stopping when performing validation at the end of every epoch.\n",
    "                    validation_batch_size=None, # Integer or None, default=None, Number of samples per validation batch. If unspecified, will default to batch_size.\n",
    "                    validation_freq=100, # default=1, Only relevant if validation data is provided. If an integer, specifies how many training epochs to run before a new validation run is performed, e.g. validation_freq=2 runs validation every 2 epochs.\n",
    "                    max_queue_size=10, # default=10, Used for generator or keras.utils.Sequence input only. Maximum size for the generator queue. If unspecified, max_queue_size will default to 10.\n",
    "                    workers=1, # default=1, Used for generator or keras.utils.Sequence input only. Maximum number of processes to spin up when using process-based threading. If unspecified, workers will default to 1.\n",
    "                    use_multiprocessing=True, # default=False, Used for generator or keras.utils.Sequence input only. If True, use process-based threading. If unspecified, use_multiprocessing will default to False. \n",
    "                   )\n",
    "\n",
    "\n",
    "##### Step 6 - Use model to make predictions\n",
    "# Predict results on training data\n",
    "pred_train = model.predict(X_train)\n",
    "# Predict results on test data\n",
    "pred_test = model.predict(X_test)\n",
    "\n",
    "\n",
    "##### Step 7 - Print Performance Summary\n",
    "print(\"\")\n",
    "print('-------------------- Model Summary --------------------')\n",
    "model.summary() # print model summary\n",
    "print(\"\")\n",
    "print('-------------------- Weights and Biases --------------------')\n",
    "print(\"Too many parameters to print but you can use the code provided if needed\")\n",
    "print(\"\")\n",
    "#for layer in model.layers:\n",
    "#    print(layer.name)\n",
    "#    for item in layer.get_weights():\n",
    "#        print(\"  \", item)\n",
    "#print(\"\")\n",
    "\n",
    "# Print the last value in the evaluation metrics contained within history file\n",
    "print('-------------------- Evaluation on Training Data --------------------')\n",
    "for item in history.history:\n",
    "    print(\"Final\", item, \":\", history.history[item][-1])\n",
    "print(\"\")\n",
    "\n",
    "# Evaluate the model on the test data using \"evaluate\"\n",
    "print('-------------------- Evaluation on Test Data --------------------')\n",
    "results = model.evaluate(X_test, Y_test)\n",
    "print(\"\")"
   ]
  }
 ],
 "metadata": {
  "kernelspec": {
   "display_name": "Python 3.10.5 64-bit",
   "language": "python",
   "name": "python3"
  },
  "language_info": {
   "codemirror_mode": {
    "name": "ipython",
    "version": 3
   },
   "file_extension": ".py",
   "mimetype": "text/x-python",
   "name": "python",
   "nbconvert_exporter": "python",
   "pygments_lexer": "ipython3",
   "version": "3.10.5"
  },
  "orig_nbformat": 4,
  "vscode": {
   "interpreter": {
    "hash": "53ef2631375d5f98ef33f167fa4a672f44ebf3ecb4141379b424c21b17f9f4b6"
   }
  }
 },
 "nbformat": 4,
 "nbformat_minor": 2
}
